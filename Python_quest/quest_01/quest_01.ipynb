{
  "nbformat": 4,
  "nbformat_minor": 0,
  "metadata": {
    "colab": {
      "provenance": [],
      "authorship_tag": "ABX9TyPHSeRzky3u33KlrSCnGwN3",
      "include_colab_link": true
    },
    "kernelspec": {
      "name": "python3",
      "display_name": "Python 3"
    },
    "language_info": {
      "name": "python"
    }
  },
  "cells": [
    {
      "cell_type": "markdown",
      "metadata": {
        "id": "view-in-github",
        "colab_type": "text"
      },
      "source": [
        "<a href=\"https://colab.research.google.com/github/CAVASOL/aiffel_quest/blob/main/Python_quest/quest_01/quest_01.ipynb\" target=\"_parent\"><img src=\"https://colab.research.google.com/assets/colab-badge.svg\" alt=\"Open In Colab\"/></a>"
      ]
    },
    {
      "cell_type": "code",
      "execution_count": null,
      "metadata": {
        "id": "2slnrTpJek3e"
      },
      "outputs": [],
      "source": [
        "# Quest 01. 회문인지 아닌지 확인하는 프로그램\n",
        "\n",
        "# 조건: 단어(string)를 입력받을 수 있게 한다. 자료형에 대한 이해가 부족하다면? 검색 혹은 노드 확인!!\n",
        "# 입력된 단어를 뒤집어서 출력할 수 있게 한다. 입력된 단어가 회문이 맞는지 확인하여 출력할 수 있게 한다.\n",
        "# 자료형, 제어문, 함수를 활용한다.\n",
        "\n",
        "\n",
        "# 사용자로부터 문자열을 받음\n",
        "txt = input(\"input: \")\n",
        "\n",
        "# a라는 변수에 사용자로부터 입력받은 문자열을 거꾸로 해서 저장함\n",
        "a = txt[::-1]\n",
        "\n",
        "# a(거꾸로 저장된 사용자가 입력한 문자열)를 출력\n",
        "print(\"뒤집힌 단어는\", str(a), \"입니다.\")\n",
        "\n",
        "# 사용자가 입력한 문자열과 그 문자열의 거꾸로 저장된 문자열이 같은 지 비교\n",
        "if txt == a:\n",
        "    # 사용자가 입력한 문자열과 그 문자열의 거꾸로 저장된 문자열이 같으면 \"회문입니다\" 출력\n",
        "    print(\"회문입니다\")\n",
        "else:\n",
        "    # 사용자가 입력한 문자열과 그 문자열의 거꾸로 저장된 문자열이 다르면 \"회문이 아닙니다\" 출력\n",
        "    print(\"회문이 아닙니다\")\n",
        "\n",
        "\n",
        "# 회고\n",
        "\n",
        "# 배운 점 - 함수를 활용해서 문제를 풀이하는 방식을 새롭게 알 수 있었습니다.\n",
        "\n",
        "# 아쉬운 점 - 파이썬 신텍스 작성이 익숙하지 않아서 답을 도출하기 위한 코드를 디자인하는 것이 어려웠습니다.\n",
        "\n",
        "# 느낀 점 - 그루 분들과 문제에 대해 의논하고 답을 찾기 위해 노력하는 과정이 즐겁고 유익했습니다.\n",
        "\n",
        "\n",
        "\n"
      ]
    }
  ]
}