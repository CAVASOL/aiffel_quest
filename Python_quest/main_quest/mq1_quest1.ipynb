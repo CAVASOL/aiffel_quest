{
  "nbformat": 4,
  "nbformat_minor": 0,
  "metadata": {
    "colab": {
      "provenance": [],
      "authorship_tag": "ABX9TyNVP93rdB3aNrWy6J2CVOFY",
      "include_colab_link": true
    },
    "kernelspec": {
      "name": "python3",
      "display_name": "Python 3"
    },
    "language_info": {
      "name": "python"
    }
  },
  "cells": [
    {
      "cell_type": "markdown",
      "metadata": {
        "id": "view-in-github",
        "colab_type": "text"
      },
      "source": [
        "<a href=\"https://colab.research.google.com/github/CAVASOL/aiffel_quest/blob/main/Python_quest/main_quest/mq1_quest1.ipynb\" target=\"_parent\"><img src=\"https://colab.research.google.com/assets/colab-badge.svg\" alt=\"Open In Colab\"/></a>"
      ]
    },
    {
      "cell_type": "code",
      "execution_count": 30,
      "metadata": {
        "colab": {
          "base_uri": "https://localhost:8080/"
        },
        "id": "xrFohxrneERJ",
        "outputId": "60c15b64-67c7-4481-e841-08c9db058dd7"
      },
      "outputs": [
        {
          "output_type": "stream",
          "name": "stdout",
          "text": [
            "\n",
            "Customer Info: \n",
            "은행이름: SC은행, 예금주: Lezzy, 계좌번호: 787-25-329629, 잔고: 1,000,000 krw\n",
            "은행이름: SC은행, 예금주: Mark, 계좌번호: 199-69-063249, 잔고: 580,000 krw\n",
            "은행이름: SC은행, 예금주: Donald, 계좌번호: 505-92-068669, 잔고: 640,000 krw\n",
            "\n",
            "Total number of accounts: 3\n",
            "\n",
            "VIP Info: \n",
            "은행이름: SC은행, 예금주: Lezzy, 계좌번호: 787-25-329629, 잔고: 1,000,000 krw\n"
          ]
        }
      ],
      "source": [
        "import random as r\n",
        "\n",
        "class Account:\n",
        "    bank = \"SC은행\"\n",
        "    vip = []\n",
        "    accounts = 0\n",
        "\n",
        "    def __init__(self, name, balance):\n",
        "        self.name = name\n",
        "        self.account = self.gen_account()\n",
        "        self.balance = balance\n",
        "        self.deposit_count = 0\n",
        "        self.deposit_record = []\n",
        "        self.withdraw_record = []\n",
        "        Account.accounts += 1\n",
        "\n",
        "    @classmethod\n",
        "    def get_account_num(cls):\n",
        "        return cls.accounts\n",
        "\n",
        "    def deposit(self, amount):\n",
        "        while True:\n",
        "            deposit = int(input('Enter the amount you wish to deposit. : '))\n",
        "            if deposit > 0:\n",
        "                self.balance += deposit\n",
        "                self.deposit_count += 1\n",
        "                self.deposit_record.append(str(amount))\n",
        "\n",
        "            if self.deposit_count == 5:\n",
        "                self.balance *= 1.01\n",
        "            else:\n",
        "                print('The deposit amount can be at least 1 won.')\n",
        "\n",
        "            while True:\n",
        "                additional = int(input('Would you like to deposit more? Please enter 1 for yes or no for 2. : '))\n",
        "                if additional == 1:\n",
        "                    break\n",
        "                elif additional == 2:\n",
        "                    break\n",
        "                else:\n",
        "                    print(\"Please enter 1 for yes or no for 2.\")\n",
        "                if additional == 1:\n",
        "                    continue\n",
        "                else:\n",
        "                    break\n",
        "\n",
        "    def withdraw(self, withdraw):\n",
        "        while True:\n",
        "            withdraw = int(input(\"Enter the amount you wish to withdraw. : \"))\n",
        "\n",
        "            if self.balance >= withdraw:\n",
        "                self.balance -= withdraw\n",
        "                self.withdraw_record.append(-withdraw)\n",
        "            else:\n",
        "                print('Withdrawals cannot exceed the account balance.')\n",
        "\n",
        "            while True:\n",
        "                additional_withdraw = int(input('Would you like to withdraw more? Please enter 1 for yes or no for 2. : '))\n",
        "\n",
        "                if additional_withdraw == 1:\n",
        "                    break\n",
        "                elif additional_withdraw == 2:\n",
        "                    break\n",
        "                else:\n",
        "                    print(\"Please enter 1 for yes or no for 2.\")\n",
        "                if additional_withdraw == 1:\n",
        "                    continue\n",
        "                else:\n",
        "                    break\n",
        "\n",
        "    def gen_account(self):\n",
        "        account_number = \"{}-{}-{}\".format(''.join(map(str, [r.randint(0, 9) for _ in range(3)])), ''.join(map(str, [r.randint(0, 9) for _ in range(2)])), ''.join(map(str, [r.randint(0, 9) for _ in range(6)])))\n",
        "        return account_number\n",
        "\n",
        "    def display_info(self):\n",
        "        formatted_balance = '{:,}'.format(self.balance)\n",
        "        print(f'은행이름: {self.bank}, 예금주: {self.name}, 계좌번호: {self.account}, 잔고: {formatted_balance} krw')\n",
        "\n",
        "a = Account(\"Lezzy\", 1000000)\n",
        "b = Account(\"Mark\", 580000)\n",
        "c = Account(\"Donald\", 640000)\n",
        "\n",
        "account_list = [a, b, c]\n",
        "\n",
        "print(\"\\nCustomer Info: \")\n",
        "for account in account_list:\n",
        "    account.display_info()\n",
        "\n",
        "print(f'\\nTotal number of accounts: {Account.get_account_num()}')\n",
        "\n",
        "vip = [account for account in account_list if account.balance >= 1000000]\n",
        "\n",
        "print(\"\\nVIP Info: \")\n",
        "for c in vip:\n",
        "    c.display_info()\n",
        "\n"
      ]
    }
  ]
}