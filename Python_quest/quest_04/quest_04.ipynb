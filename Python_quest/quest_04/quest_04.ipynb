{
  "nbformat": 4,
  "nbformat_minor": 0,
  "metadata": {
    "colab": {
      "provenance": [],
      "authorship_tag": "ABX9TyOsHkbfHFNdYXJeuiUfxj67",
      "include_colab_link": true
    },
    "kernelspec": {
      "name": "python3",
      "display_name": "Python 3"
    },
    "language_info": {
      "name": "python"
    }
  },
  "cells": [
    {
      "cell_type": "markdown",
      "metadata": {
        "id": "view-in-github",
        "colab_type": "text"
      },
      "source": [
        "<a href=\"https://colab.research.google.com/github/CAVASOL/aiffel_quest/blob/main/Python_quest/quest_04/quest_04.ipynb\" target=\"_parent\"><img src=\"https://colab.research.google.com/assets/colab-badge.svg\" alt=\"Open In Colab\"/></a>"
      ]
    },
    {
      "cell_type": "code",
      "execution_count": 14,
      "metadata": {
        "colab": {
          "base_uri": "https://localhost:8080/"
        },
        "id": "w0ej36XHMW6b",
        "outputId": "13c1e34d-ff15-4d08-ac56-fcad24fb3ac8"
      },
      "outputs": [
        {
          "output_type": "stream",
          "name": "stdout",
          "text": [
            "Using Comprehension:\n",
            "Nemo is swimming at 3 m/s\n",
            "Dory is swimming at 5 m/s\n",
            "Using Generator:\n",
            "Nemo is swimming at 3 m/s\n",
            "Dory is swimming at 5 m/s\n"
          ]
        }
      ],
      "source": [
        "# 물고기 리스트를 입력값으로 넣었을때 물고기의 움직임을 출력값으로 뱉어내도록 만들어봅시다.\n",
        "# 물고기의 움직임을 출력하는 함수 2개(컴프리헨션, 제너레이터)를 만듭니다.\n",
        "# 컴프리헨션 함수에는 이름, 속도를 조합하고 제너레티어 함수에는 for문과 yield문를 활용합니다.\n",
        "# 물고기 리스트를 입력받으면, 2개의 함수는 물고기 이름과, 속도를 출력해야 합니다.\n",
        "\n",
        "# fish_list = [\n",
        "#   {\"이름\": \"Nemo\", \"speed\": 3},\n",
        "#   {\"이름\": \"Dory\", \"speed\": 5},\n",
        "# ]\n",
        "\n",
        "# 출력값 :\n",
        "# Using Comprehension:\n",
        "# Nemo is swimming at 3 m/s\n",
        "# Dory is swimming at 5 m/s\n",
        "# Using Generator:\n",
        "# Nemo is swimming at 3 m/s\n",
        "# Dory is swimming at 5 m/s\n",
        "\n",
        "class Fish: # 물고기의 객체 속성 초기화\n",
        "    def __init__(self, name: str, speed: int):\n",
        "        self.name = name # 물고기의 이름\n",
        "        self.speed = speed # 물고기의 속도\n",
        "\n",
        "    def swimming(self):\n",
        "       # \"(물고기)*가 *의 속도로 수영한다\"는 문장을 출력하는 함수\n",
        "        return f\"{self.name} is swimming at {self.speed} m/s\"\n",
        "\n",
        "# 리스트 안에 있는 물고기의 움직임을 문장으로 출력하는 제너레이터 함수\n",
        "def fish_moving(fish_list):\n",
        "    for f in fish_list:\n",
        "        yield f.swimming()\n",
        "\n",
        "# 니모와 도리가 있는 물고기 리스트\n",
        "fish_list = [\n",
        "    {\"name\": \"Nemo\", \"speed\": 3},\n",
        "    {\"name\": \"Dory\", \"speed\": 5},\n",
        "]\n",
        "\n",
        "# 리스트 컴프리헨션을 사용, 딕셔너리 리스트인 fish_list에서 Fish클래스의 객체 생성\n",
        "fish_list = [Fish(f[\"name\"], f[\"speed\"]) for f in fish_list]\n",
        "\n",
        "# 컴프리헨션\n",
        "print(\"Using Comprehension:\")\n",
        "fish_comp = [f.swimming() for f in fish_list]\n",
        "for f in fish_comp:\n",
        "    print(f)\n",
        "\n",
        "# 제너레이터\n",
        "print(\"Using Generator:\")\n",
        "fish_gen = fish_moving(fish_list)\n",
        "for f in fish_gen:\n",
        "    print(f)\n",
        "\n",
        "\n",
        "# 회고\n",
        "\n",
        "# 배운 점 - 제너레이터와 컴프리헨션의 기능에 대해 익힐 수 있는 퀘스트였습니다.\n",
        "#         __init__ 메서드를 활용한 코드를 디자인해볼 수 있었습니다.\n",
        "\n",
        "# 아쉬운 점 - 아쉬운 점은 없었어요.\n",
        "\n",
        "# 느낀 점 - Python Docs에 있는 다양한 메서드들을 제대로 이해하고 활용한다면 유익하다는 것을 느꼈고,\n",
        "#         효율적인 코드 작성을 위해 관련한 메서드를 찾아보고 익히는 것이 좋겠습니다.\n"
      ]
    }
  ]
}