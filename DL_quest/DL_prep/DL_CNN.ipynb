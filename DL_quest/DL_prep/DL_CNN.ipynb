{
  "cells": [
    {
      "cell_type": "markdown",
      "metadata": {
        "id": "view-in-github",
        "colab_type": "text"
      },
      "source": [
        "<a href=\"https://colab.research.google.com/github/CAVASOL/aiffel_quest/blob/main/DL_quest/DL_prep/DL_CNN.ipynb\" target=\"_parent\"><img src=\"https://colab.research.google.com/assets/colab-badge.svg\" alt=\"Open In Colab\"/></a>"
      ]
    },
    {
      "cell_type": "markdown",
      "id": "5226019f",
      "metadata": {
        "id": "5226019f"
      },
      "source": [
        "## Convolutional Neutral Network"
      ]
    },
    {
      "cell_type": "markdown",
      "id": "84a80147",
      "metadata": {
        "id": "84a80147"
      },
      "source": [
        "### 7-1. Structure\n",
        "\n",
        "**완전연결 신경망**\n",
        "\n",
        "Data ---> `Affine -> ReLU` ---> `Affine -> ReLU` ---> `Affine -> ReLU` ---> `Affine -> Softmax` ---> L\n",
        "\n",
        "**CNN**\n",
        "\n",
        "Data ---> **`Conv -> ReLU -> (Pool)`** ---> `Conv -> ReLU` ---> `Affine -> ReLU` ---> `Affine -> Softmax` ---> L"
      ]
    },
    {
      "cell_type": "markdown",
      "id": "7d6aa80a",
      "metadata": {
        "id": "7d6aa80a"
      },
      "source": [
        "### 7-2. Convolution layer\n",
        "\n",
        "* 계층 사이에 3차원 데이터와 같이 입체적인 데이터가 흐른다는 점에서 완전연결 네트워크와 다름.\n",
        "* 완전연결 시 데이터의 형상이 무시되는 문제를 보완. ex) flatten\n",
        "* CNN에서 합성곱 계층의 **입출력 데이터**를 `특징 맵 Feature map` 이라 함. 따라서, Input Feature map, Output Feature map.\n",
        "* 3차원 합성곱 연산에서 입력 데이터의 채널 수와 필터의 채널 수가 같아야 함."
      ]
    },
    {
      "cell_type": "markdown",
      "id": "3e6f2c07",
      "metadata": {
        "id": "3e6f2c07"
      },
      "source": [
        "**Padding**\n",
        "\n",
        "* 합성곱 연산을 수행하기 전에 입력 데이터 주변을 특정 값(가령, 0)으로 채움.  \n",
        "* 출력 크기를 조정할 목적으로 사용.  \n",
        "\n",
        "**Stride**\n",
        "\n",
        "* 필터를 적용하는 위치의 간격, 보폭.\n",
        "* 입력 크기를 (H, W), 필터 크기를 (FH, FW), 출력 크기를 (OH, OW), 패딩을 P, 스트라이드를 S 이라고 한다면 수식은 아래와 같음.\n",
        "* **출력 크기(OH와 OW)는 원소의 개수이니 당연히 정수로 나눌 수 있는 값이어야 함.**\n",
        "\n",
        "```\n",
        "OH = (H + 2P - FH / S) + 1\n",
        "OW = (H + 2P - FW / S) + 1\n",
        "```\n",
        "\n",
        "**Convolution Operation**\n",
        "\n",
        "* CNN에서 계층 사이에 흐르는 데이터는 **4차원**.\n",
        "\n",
        "```\n",
        "(DN, C, H, W) * (FN, C, FH, FW) = (DN, FN, OH, OW) + (FN, 1, 1) = 2D.reshape = (DN, FN, OH, OW)\n",
        "      |                |                                  |                           |\n",
        "  Input:row      Filter:column                           Bias                      Output\n",
        "```"
      ]
    },
    {
      "cell_type": "markdown",
      "id": "9adaea91",
      "metadata": {
        "id": "9adaea91"
      },
      "source": [
        "### 7-3. Pulling layer\n",
        "\n",
        "* Pulling은 세로와 가로 방향의 공간을 줄이는 연산.\n",
        "* 풀링 계층은 합성곱 계층과 달리 학습해야 할 매개변수가 없음.\n",
        "* 입력 데이터의 채널 수 그대로 출력 데이터를 내보냄.\n",
        "* 입력 데이터가 조금 변하더라도 풀링 계층의 결과는 잘 변하지 않음.\n",
        "* 풀링의 윈도우 크기와 스트라이드는 같은 값으로 설정하는 것이 보통.\n",
        "\n",
        "**Max pooling**\n",
        "\n",
        "* 윈도우에서 가장 큰(값) 원소 하나.\n",
        "* 이미지 인식 분야에서 주로 사용.\n",
        "\n",
        "**Average pooling**\n",
        "\n",
        "* 윈도우의 평균을 계산."
      ]
    },
    {
      "cell_type": "markdown",
      "id": "c2033884",
      "metadata": {
        "id": "c2033884"
      },
      "source": [
        "### 7-4. Implement Convolution layer / Pulling layer\n",
        "\n",
        "* 합성곱 계층과 풀링 계층은 im2col(Image to column, 이미지를 행렬로 전개하는 함수) 함수를 이용하면 간단하고 효율적으로 구현할 수 있음.\n",
        "* im2col은 입력 데이터를 필터링(가중치 계산)하기 좋게 전개하는 함수."
      ]
    },
    {
      "cell_type": "code",
      "execution_count": null,
      "id": "14fa8d5c",
      "metadata": {
        "id": "14fa8d5c"
      },
      "outputs": [],
      "source": [
        "import numpy as np\n",
        "\n",
        "def im2col(input_data, filter_h, filter_w, stride=1, pad=0):\n",
        "    \"\"\"다수의 이미지를 입력받아 2차원 배열로 변환한다(평탄화).\n",
        "\n",
        "    Parameters\n",
        "    ----------\n",
        "    input_data : 4차원 배열 형태의 입력 데이터(이미지 수, 채널 수, 높이, 너비)\n",
        "    filter_h : 필터의 높이\n",
        "    filter_w : 필터의 너비\n",
        "    stride : 스트라이드\n",
        "    pad : 패딩\n",
        "\n",
        "    Returns\n",
        "    -------\n",
        "    col : 2차원 배열\n",
        "    \"\"\"\n",
        "    N, C, H, W = input_data.shape\n",
        "    out_h = (H + 2*pad - filter_h)//stride + 1\n",
        "    out_w = (W + 2*pad - filter_w)//stride + 1\n",
        "\n",
        "    img = np.pad(input_data, [(0,0), (0,0), (pad, pad), (pad, pad)], 'constant')\n",
        "    col = np.zeros((N, C, filter_h, filter_w, out_h, out_w))\n",
        "\n",
        "    for y in range(filter_h):\n",
        "        y_max = y + stride*out_h\n",
        "        for x in range(filter_w):\n",
        "            x_max = x + stride*out_w\n",
        "            col[:, :, y, x, :, :] = img[:, :, y:y_max:stride, x:x_max:stride]\n",
        "\n",
        "    col = col.transpose(0, 4, 5, 1, 2, 3).reshape(N*out_h*out_w, -1)\n",
        "    return col"
      ]
    },
    {
      "cell_type": "code",
      "execution_count": null,
      "id": "abf25378",
      "metadata": {
        "id": "abf25378",
        "outputId": "3860dd7f-32dd-43f0-f5c3-0cb977f5091a"
      },
      "outputs": [
        {
          "name": "stdout",
          "output_type": "stream",
          "text": [
            "(9, 75)\n"
          ]
        }
      ],
      "source": [
        "import sys, os\n",
        "sys.path.append(os.pardir)\n",
        "from common.util import im2col\n",
        "\n",
        "x1 = np.random.rand(1, 3, 7, 7) # (DN, C, H, W)\n",
        "col1 = im2col(x1, 5, 5, stride=1, pad=0)\n",
        "print(col1.shape)"
      ]
    },
    {
      "cell_type": "code",
      "execution_count": null,
      "id": "58b5546c",
      "metadata": {
        "id": "58b5546c",
        "outputId": "b195bcfa-d58d-4e64-ae99-997d36014d1f"
      },
      "outputs": [
        {
          "name": "stdout",
          "output_type": "stream",
          "text": [
            "(90, 75)\n"
          ]
        }
      ],
      "source": [
        "x2 = np.random.rand(10, 3, 7, 7)\n",
        "col2 = im2col(x2, 5, 5, stride=1, pad=0)\n",
        "print(col2.shape)"
      ]
    },
    {
      "cell_type": "code",
      "execution_count": null,
      "id": "64a48949",
      "metadata": {
        "id": "64a48949"
      },
      "outputs": [],
      "source": [
        "class Convolution:\n",
        "\n",
        "    def __init__(self, W, b, stride=1, pad=0):\n",
        "        self.W = W\n",
        "        self.b = b\n",
        "        self.stride = stride\n",
        "        self.pad = pad\n",
        "\n",
        "    def forward(self, x):\n",
        "        FN, C, FH, FW = self.W.shape\n",
        "        N, C, H, W = x.shape\n",
        "        oh = int(1 + (H + 2 * self.pad - FH) / self.stride)\n",
        "        ow = int(1 + (W + 2 * self.pad - FW) / self.stride)\n",
        "\n",
        "        # ========= Convolution Operation =========\n",
        "        col = im2col(x, FH, FW, self.stride, self.pad)\n",
        "        col_W = self.W.reshape(FN, -1).T\n",
        "\n",
        "        out = np.dot(col, col_W) + self.b\n",
        "        # =========================================\n",
        "        out = out.reshape(N, oh, ow, -1).transpose(0, 3, 1, 2)\n",
        "\n",
        "        return out"
      ]
    },
    {
      "cell_type": "markdown",
      "id": "98c493ee",
      "metadata": {
        "id": "98c493ee"
      },
      "source": [
        "**out = out.reshape(N, oh, ow, -1).transpose(0, 3, 1, 2)**\n",
        "\n",
        "* reshape에 -1을 지정하면 다차원 배열의 원소 수가 변환 후에도 유지됨.\n",
        "* forward 마지막에 transpose(0, 3, 1, 2)를 사용하여 인덱스로 다차원 배열의 축의 순서를 바꿈.\n",
        "\n",
        "```\n",
        "(N, H, W, C) -> (N, C, H, W)\n",
        "[0, 1, 2, 3] -> [0, 3, 1, 2]\n",
        "```"
      ]
    },
    {
      "cell_type": "markdown",
      "id": "bc59634d",
      "metadata": {
        "id": "bc59634d"
      },
      "source": [
        "**Backward, col2im**"
      ]
    },
    {
      "cell_type": "code",
      "execution_count": null,
      "id": "6510bbd1",
      "metadata": {
        "id": "6510bbd1"
      },
      "outputs": [],
      "source": [
        "def col2im(col, input_shape, filter_h, filter_w, stride=1, pad=0):\n",
        "    \"\"\"(im2col과 반대) 2차원 배열을 입력받아 다수의 이미지 묶음으로 변환한다.\n",
        "\n",
        "    Parameters\n",
        "    ----------\n",
        "    col : 2차원 배열(입력 데이터)\n",
        "    input_shape : 원래 이미지 데이터의 형상（예：(10, 1, 28, 28)）\n",
        "    filter_h : 필터의 높이\n",
        "    filter_w : 필터의 너비\n",
        "    stride : 스트라이드\n",
        "    pad : 패딩\n",
        "\n",
        "    Returns\n",
        "    -------\n",
        "    img : 변환된 이미지들\n",
        "    \"\"\"\n",
        "    N, C, H, W = input_shape\n",
        "    out_h = (H + 2*pad - filter_h)//stride + 1\n",
        "    out_w = (W + 2*pad - filter_w)//stride + 1\n",
        "    col = col.reshape(N, out_h, out_w, C, filter_h, filter_w).transpose(0, 3, 4, 5, 1, 2)\n",
        "\n",
        "    img = np.zeros((N, C, H + 2*pad + stride - 1, W + 2*pad + stride - 1))\n",
        "    for y in range(filter_h):\n",
        "        y_max = y + stride*out_h\n",
        "        for x in range(filter_w):\n",
        "            x_max = x + stride*out_w\n",
        "            img[:, :, y:y_max:stride, x:x_max:stride] += col[:, :, y, x, :, :]\n",
        "\n",
        "    return img[:, :, pad:H + pad, pad:W + pad]\n"
      ]
    },
    {
      "cell_type": "markdown",
      "id": "e0abc81b",
      "metadata": {
        "id": "e0abc81b"
      },
      "source": [
        "**Convolution layer & Pulling layer**"
      ]
    },
    {
      "cell_type": "code",
      "execution_count": null,
      "id": "71f9cab8",
      "metadata": {
        "id": "71f9cab8"
      },
      "outputs": [],
      "source": [
        "class Convolution:\n",
        "    def __init__(self, W, b, stride=1, pad=0):\n",
        "        self.W = W\n",
        "        self.b = b\n",
        "        self.stride = stride\n",
        "        self.pad = pad\n",
        "\n",
        "        # 중간 데이터（backward 시 사용）\n",
        "        self.x = None\n",
        "        self.col = None\n",
        "        self.col_W = None\n",
        "\n",
        "        # 가중치와 편향 매개변수의 기울기\n",
        "        self.dW = None\n",
        "        self.db = None\n",
        "\n",
        "    def forward(self, x):\n",
        "        FN, C, FH, FW = self.W.shape\n",
        "        N, C, H, W = x.shape\n",
        "        out_h = 1 + int((H + 2*self.pad - FH) / self.stride)\n",
        "        out_w = 1 + int((W + 2*self.pad - FW) / self.stride)\n",
        "\n",
        "        col = im2col(x, FH, FW, self.stride, self.pad)\n",
        "        col_W = self.W.reshape(FN, -1).T\n",
        "\n",
        "        out = np.dot(col, col_W) + self.b\n",
        "        out = out.reshape(N, out_h, out_w, -1).transpose(0, 3, 1, 2)\n",
        "\n",
        "        self.x = x\n",
        "        self.col = col\n",
        "        self.col_W = col_W\n",
        "\n",
        "        return out\n",
        "\n",
        "    def backward(self, dout):\n",
        "        FN, C, FH, FW = self.W.shape\n",
        "        dout = dout.transpose(0,2,3,1).reshape(-1, FN)\n",
        "\n",
        "        self.db = np.sum(dout, axis=0)\n",
        "        self.dW = np.dot(self.col.T, dout)\n",
        "        self.dW = self.dW.transpose(1, 0).reshape(FN, C, FH, FW)\n",
        "\n",
        "        dcol = np.dot(dout, self.col_W.T)\n",
        "        dx = col2im(dcol, self.x.shape, FH, FW, self.stride, self.pad)\n",
        "\n",
        "        return dx\n",
        "\n",
        "\n",
        "class Pooling:\n",
        "    def __init__(self, pool_h, pool_w, stride=1, pad=0):\n",
        "        self.pool_h = pool_h\n",
        "        self.pool_w = pool_w\n",
        "        self.stride = stride\n",
        "        self.pad = pad\n",
        "\n",
        "        self.x = None\n",
        "        self.arg_max = None\n",
        "\n",
        "    def forward(self, x):\n",
        "        N, C, H, W = x.shape\n",
        "        out_h = int(1 + (H - self.pool_h) / self.stride)\n",
        "        out_w = int(1 + (W - self.pool_w) / self.stride)\n",
        "\n",
        "        # 1. 입력 데이터를 전개\n",
        "        col = im2col(x, self.pool_h, self.pool_w, self.stride, self.pad)\n",
        "        col = col.reshape(-1, self.pool_h*self.pool_w)\n",
        "\n",
        "        arg_max = np.argmax(col, axis=1)\n",
        "\n",
        "        # 2. 행 별 최대값 구하기\n",
        "        out = np.max(col, axis=1)\n",
        "\n",
        "        # 3. 적절한 모양으로 성형\n",
        "        out = out.reshape(N, out_h, out_w, C).transpose(0, 3, 1, 2)\n",
        "\n",
        "        self.x = x\n",
        "        self.arg_max = arg_max\n",
        "\n",
        "        return out\n",
        "\n",
        "    def backward(self, dout):\n",
        "        dout = dout.transpose(0, 2, 3, 1)\n",
        "\n",
        "        pool_size = self.pool_h * self.pool_w\n",
        "        dmax = np.zeros((dout.size, pool_size))\n",
        "        dmax[np.arange(self.arg_max.size), self.arg_max.flatten()] = dout.flatten()\n",
        "        dmax = dmax.reshape(dout.shape + (pool_size,))\n",
        "\n",
        "        dcol = dmax.reshape(dmax.shape[0] * dmax.shape[1] * dmax.shape[2], -1)\n",
        "        dx = col2im(dcol, self.x.shape, self.pool_h, self.pool_w, self.stride, self.pad)\n",
        "\n",
        "        return dx"
      ]
    },
    {
      "cell_type": "markdown",
      "id": "fa1ecb75",
      "metadata": {
        "id": "fa1ecb75"
      },
      "source": [
        "### 7-5. Implement CNN"
      ]
    },
    {
      "cell_type": "code",
      "execution_count": null,
      "id": "570d66f9",
      "metadata": {
        "id": "570d66f9"
      },
      "outputs": [],
      "source": [
        "import sys, os\n",
        "sys.path.append(os.pardir)\n",
        "import pickle\n",
        "import numpy as np\n",
        "from collections import OrderedDict\n",
        "from common.layers import *\n",
        "from common.gradient import numerical_gradient\n",
        "\n",
        "\n",
        "class SimpleConvNet:\n",
        "    \"\"\"\n",
        "    Parameters\n",
        "    ----------\n",
        "    input_size : 입력 크기（MNIST의 경우엔 784）\n",
        "    hidden_size_list : 각 은닉층의 뉴런 수를 담은 리스트（e.g. [100, 100, 100]）\n",
        "    output_size : 출력 크기（MNIST의 경우엔 10）\n",
        "    activation : 활성화 함수 - 'relu' 혹은 'sigmoid'\n",
        "    weight_init_std : 가중치의 표준편차 지정（e.g. 0.01）\n",
        "        'relu'나 'he'로 지정하면 'He 초깃값'으로 설정\n",
        "        'sigmoid'나 'xavier'로 지정하면 'Xavier 초깃값'으로 설정\n",
        "    \"\"\"\n",
        "\n",
        "    # SimpleConvNet의 초기화\n",
        "    def __init__(self, input_dim=(1, 28, 28),\n",
        "                 conv_param={'filter_num':30, 'filter_size':5, 'pad':0, 'stride':1},\n",
        "                 hidden_size=100, output_size=10, weight_init_std=0.01):\n",
        "        filter_num = conv_param['filter_num']\n",
        "        filter_size = conv_param['filter_size']\n",
        "        filter_pad = conv_param['pad']\n",
        "        filter_stride = conv_param['stride']\n",
        "        input_size = input_dim[1]\n",
        "        conv_output_size = (input_size - filter_size + 2*filter_pad) / filter_stride + 1\n",
        "        pool_output_size = int(filter_num * (conv_output_size/2) * (conv_output_size/2))\n",
        "\n",
        "        # 가중치 매개변수 초기화\n",
        "        self.params = {}\n",
        "        self.params['W1'] = weight_init_std * \\\n",
        "                            np.random.randn(filter_num, input_dim[0], filter_size, filter_size)\n",
        "        self.params['b1'] = np.zeros(filter_num)\n",
        "        self.params['W2'] = weight_init_std * \\\n",
        "                            np.random.randn(pool_output_size, hidden_size)\n",
        "        self.params['b2'] = np.zeros(hidden_size)\n",
        "        self.params['W3'] = weight_init_std * \\\n",
        "                            np.random.randn(hidden_size, output_size)\n",
        "        self.params['b3'] = np.zeros(output_size)\n",
        "\n",
        "        # CNN을 구성하는 계층 생성\n",
        "        self.layers = OrderedDict()\n",
        "        self.layers['Conv1'] = Convolution(self.params['W1'], self.params['b1'],\n",
        "                                           conv_param['stride'], conv_param['pad'])\n",
        "        self.layers['Relu1'] = Relu()\n",
        "        self.layers['Pool1'] = Pooling(pool_h=2, pool_w=2, stride=2)\n",
        "        self.layers['Affine1'] = Affine(self.params['W2'], self.params['b2'])\n",
        "        self.layers['Relu2'] = Relu()\n",
        "        self.layers['Affine2'] = Affine(self.params['W3'], self.params['b3'])\n",
        "\n",
        "        self.last_layer = SoftmaxWithLoss()\n",
        "\n",
        "    # SimpleConvNet의 추론과 손실 함수값 구하기\n",
        "    def predict(self, x):\n",
        "        for layer in self.layers.values():\n",
        "            x = layer.forward(x)\n",
        "\n",
        "        return x\n",
        "\n",
        "    def loss(self, x, t):\n",
        "        y = self.predict(x)\n",
        "        return self.last_layer.forward(y, t)\n",
        "\n",
        "    def accuracy(self, x, t, batch_size=100):\n",
        "        if t.ndim != 1 : t = np.argmax(t, axis=1)\n",
        "\n",
        "        acc = 0.0\n",
        "\n",
        "        for i in range(int(x.shape[0] / batch_size)):\n",
        "            tx = x[i*batch_size:(i+1)*batch_size]\n",
        "            tt = t[i*batch_size:(i+1)*batch_size]\n",
        "            y = self.predict(tx)\n",
        "            y = np.argmax(y, axis=1)\n",
        "            acc += np.sum(y == tt)\n",
        "\n",
        "        return acc / x.shape[0]\n",
        "\n",
        "    def numerical_gradient(self, x, t):\n",
        "        \"\"\"기울기를 구한다（수치미분）.\n",
        "\n",
        "        Parameters\n",
        "        ----------\n",
        "        x : 입력 데이터\n",
        "        t : 정답 레이블\n",
        "\n",
        "        Returns\n",
        "        -------\n",
        "        각 층의 기울기를 담은 사전(dictionary) 변수\n",
        "            grads['W1']、grads['W2']、... 각 층의 가중치\n",
        "            grads['b1']、grads['b2']、... 각 층의 편향\n",
        "        \"\"\"\n",
        "        loss_w = lambda w: self.loss(x, t)\n",
        "\n",
        "        grads = {}\n",
        "        for idx in (1, 2, 3):\n",
        "            grads['W' + str(idx)] = numerical_gradient(loss_w, self.params['W' + str(idx)])\n",
        "            grads['b' + str(idx)] = numerical_gradient(loss_w, self.params['b' + str(idx)])\n",
        "\n",
        "        return grads\n",
        "\n",
        "    def gradient(self, x, t):\n",
        "        \"\"\"기울기를 구한다(오차역전파법).\n",
        "\n",
        "        Parameters\n",
        "        ----------\n",
        "        x : 입력 데이터\n",
        "        t : 정답 레이블\n",
        "\n",
        "        Returns\n",
        "        -------\n",
        "        각 층의 기울기를 담은 사전(dictionary) 변수\n",
        "            grads['W1']、grads['W2']、... 각 층의 가중치\n",
        "            grads['b1']、grads['b2']、... 각 층의 편향\n",
        "        \"\"\"\n",
        "        # forward\n",
        "        self.loss(x, t)\n",
        "\n",
        "        # backward\n",
        "        dout = 1\n",
        "        dout = self.last_layer.backward(dout)\n",
        "\n",
        "        layers = list(self.layers.values())\n",
        "        layers.reverse()\n",
        "        for layer in layers:\n",
        "            dout = layer.backward(dout)\n",
        "\n",
        "        # 결과 저장\n",
        "        grads = {}\n",
        "        grads['W1'], grads['b1'] = self.layers['Conv1'].dW, self.layers['Conv1'].db\n",
        "        grads['W2'], grads['b2'] = self.layers['Affine1'].dW, self.layers['Affine1'].db\n",
        "        grads['W3'], grads['b3'] = self.layers['Affine2'].dW, self.layers['Affine2'].db\n",
        "\n",
        "        return grads\n",
        "\n",
        "    def save_params(self, file_name=\"params.pkl\"):\n",
        "        params = {}\n",
        "        for key, val in self.params.items():\n",
        "            params[key] = val\n",
        "        with open(file_name, 'wb') as f:\n",
        "            pickle.dump(params, f)\n",
        "\n",
        "    def load_params(self, file_name=\"params.pkl\"):\n",
        "        with open(file_name, 'rb') as f:\n",
        "            params = pickle.load(f)\n",
        "        for key, val in params.items():\n",
        "            self.params[key] = val\n",
        "\n",
        "        for i, key in enumerate(['Conv1', 'Affine1', 'Affine2']):\n",
        "            self.layers[key].W = self.params['W' + str(i+1)]\n",
        "            self.layers[key].b = self.params['b' + str(i+1)]"
      ]
    },
    {
      "cell_type": "code",
      "execution_count": null,
      "id": "6b03e49b",
      "metadata": {
        "id": "6b03e49b",
        "outputId": "b51e5cf3-4715-40c8-ab7d-6793520eab60"
      },
      "outputs": [
        {
          "name": "stdout",
          "output_type": "stream",
          "text": [
            "train loss:2.299894096982763\n",
            "=== epoch:1, train acc:0.173, test acc:0.163 ===\n",
            "train loss:2.2979371413865417\n",
            "train loss:2.292904285102211\n",
            "train loss:2.2889328722429814\n",
            "train loss:2.278741367116174\n",
            "train loss:2.2623044563276618\n",
            "train loss:2.265955879822179\n",
            "train loss:2.235416564889921\n",
            "train loss:2.220943561519158\n",
            "train loss:2.1919015361650502\n",
            "train loss:2.1861242592712364\n",
            "train loss:2.136079318474923\n",
            "train loss:2.083108025766864\n",
            "train loss:2.032353609143226\n",
            "train loss:1.9991077378482607\n",
            "train loss:1.9428504593359137\n",
            "train loss:1.8397220493575634\n",
            "train loss:1.7860099996318544\n",
            "train loss:1.6925236095654832\n",
            "train loss:1.650197426850948\n",
            "train loss:1.6543647632441334\n",
            "train loss:1.4457480761184096\n",
            "train loss:1.4636820637337433\n",
            "train loss:1.3978625919349172\n",
            "train loss:1.2363377355692544\n",
            "train loss:1.176152080972975\n",
            "train loss:1.0315099679941224\n",
            "train loss:1.0464333433090913\n",
            "train loss:1.0025650348599773\n",
            "train loss:0.9550478002736265\n",
            "train loss:0.9859316860893277\n",
            "train loss:0.7931396055927914\n",
            "train loss:0.8926355033706899\n",
            "train loss:0.859728382702295\n",
            "train loss:0.9422553564909034\n",
            "train loss:0.7131118234246686\n",
            "train loss:0.7220677708657607\n",
            "train loss:0.7677147978679628\n",
            "train loss:0.6960354032639965\n",
            "train loss:0.6170962277323773\n",
            "train loss:0.7585230462367717\n",
            "train loss:0.6290239248621337\n",
            "train loss:0.7996451622276574\n",
            "train loss:0.7474311336785737\n",
            "train loss:0.6570594245591986\n",
            "train loss:0.650809065397297\n",
            "train loss:0.4604666962987311\n",
            "train loss:0.6246073879375058\n",
            "train loss:0.4610525533245237\n",
            "train loss:0.6581591976413005\n",
            "=============== Final Test Accuracy ===============\n",
            "test acc:0.788\n",
            "Saved Network Parameters!\n"
          ]
        },
        {
          "data": {
            "image/png": "[encoded data removed]",
            "text/plain": [
              "<Figure size 432x288 with 1 Axes>"
            ]
          },
          "metadata": {
            "needs_background": "light"
          },
          "output_type": "display_data"
        }
      ],
      "source": [
        "import sys, os\n",
        "sys.path.append(os.pardir)\n",
        "import numpy as np\n",
        "import matplotlib.pyplot as plt\n",
        "from dataset.mnist import load_mnist\n",
        "from common.trainer import Trainer\n",
        "\n",
        "x_train, t_train = x_train[:5000], t_train[:5000]\n",
        "x_test, t_test = x_test[:1000], t_test[:1000]\n",
        "\n",
        "max_epochs = 1\n",
        "\n",
        "network = SimpleConvNet(input_dim=(1,28,28),\n",
        "                        conv_param = {'filter_num': 30, 'filter_size': 5, 'pad': 0, 'stride': 1},\n",
        "                        hidden_size=100, output_size=10, weight_init_std=0.01)\n",
        "\n",
        "trainer = Trainer(network, x_train, t_train, x_test, t_test,\n",
        "                  epochs=max_epochs, mini_batch_size=100,\n",
        "                  optimizer='Adam', optimizer_param={'lr': 0.001},\n",
        "                  evaluate_sample_num_per_epoch=1000)\n",
        "trainer.train()\n",
        "\n",
        "# 매개변수 보존\n",
        "network.save_params(\"params.pkl\")\n",
        "print(\"Saved Network Parameters!\")\n",
        "\n",
        "# 시각화\n",
        "markers = {'train': 'o', 'test': 's'}\n",
        "x = np.arange(max_epochs)\n",
        "plt.plot(x, trainer.train_acc_list, marker='o', label='train', markevery=2)\n",
        "plt.plot(x, trainer.test_acc_list, marker='s', label='test', markevery=2)\n",
        "plt.xlabel(\"epochs\")\n",
        "plt.ylabel(\"accuracy\")\n",
        "plt.ylim(0, 1.0)\n",
        "plt.legend(loc='lower right')\n",
        "plt.show()"
      ]
    },
    {
      "cell_type": "markdown",
      "id": "b54936b0",
      "metadata": {
        "id": "b54936b0"
      },
      "source": [
        "### 7-6. Visualize CNN\n",
        "\n",
        "* 합성곱 계층을 여러 겹 쌓으면 층이 깊어지면서 더 복잡하고 추상화 된 정보가 추출.\n",
        "* 처음 층은 단순한 에지에 반응, 이어서 텍스처에 반응, 더 복잡한 사물에 일부 반응하는 식으로 변화. 즉, 단순한 모양에서 고급 정보로 변화."
      ]
    },
    {
      "cell_type": "code",
      "execution_count": null,
      "id": "791b0e26",
      "metadata": {
        "id": "791b0e26",
        "outputId": "94b943d3-e81a-4676-b6f7-c925417b81fb"
      },
      "outputs": [
        {
          "data": {
            "image/png": "[encoded data removed]",
            "text/plain": [
              "<Figure size 432x288 with 30 Axes>"
            ]
          },
          "metadata": {},
          "output_type": "display_data"
        },
        {
          "data": {
            "image/png": "[encoded data removed]",
            "text/plain": [
              "<Figure size 432x288 with 30 Axes>"
            ]
          },
          "metadata": {},
          "output_type": "display_data"
        }
      ],
      "source": [
        "import numpy as np\n",
        "import matplotlib.pyplot as plt\n",
        "\n",
        "def filter_show(filters, nx=8, margin=3, scale=10):\n",
        "    \"\"\"\n",
        "    c.f. https://gist.github.com/aidiary/07d530d5e08011832b12#file-draw_weight-py\n",
        "    \"\"\"\n",
        "    FN, C, FH, FW = filters.shape\n",
        "    ny = int(np.ceil(FN / nx))\n",
        "\n",
        "    fig = plt.figure()\n",
        "    fig.subplots_adjust(left=0, right=1, bottom=0, top=1, hspace=0.05, wspace=0.05)\n",
        "\n",
        "    for i in range(FN):\n",
        "        ax = fig.add_subplot(ny, nx, i+1, xticks=[], yticks=[])\n",
        "        ax.imshow(filters[i, 0], cmap=plt.cm.gray_r, interpolation='nearest')\n",
        "    plt.show()\n",
        "\n",
        "\n",
        "network = SimpleConvNet()\n",
        "# 무작위(랜덤) 초기화 후의 가중치\n",
        "filter_show(network.params['W1'])\n",
        "\n",
        "# 학습된 가중치\n",
        "network.load_params(\"params.pkl\")\n",
        "filter_show(network.params['W1'])"
      ]
    },
    {
      "cell_type": "markdown",
      "id": "2ca7b91d",
      "metadata": {
        "id": "2ca7b91d"
      },
      "source": [
        "### 7-7. LeNet and AlexNet"
      ]
    },
    {
      "cell_type": "markdown",
      "id": "1224ebca",
      "metadata": {
        "id": "1224ebca"
      },
      "source": [
        "**LeNet**\n",
        "\n",
        "* 손글씨 숫자를 인식하는 네트워크.\n",
        "* 합성곱 계층과 풀링 계층을 반복하고, 마지막으로 완전연결계층을 거치면서 결과 출력.\n",
        "* LeNet은 시그모이드 함수를 사용하는 데 반해, 현재의 CNN은 주로 ReLU를 사용.\n",
        "* LeNet은 서브 샘플링을 하여 중간 데이터의 크기를 줄이지만, 현재의 CNN은 최대 풀링이 주류."
      ]
    },
    {
      "cell_type": "markdown",
      "id": "151fafa5",
      "metadata": {
        "id": "151fafa5"
      },
      "source": [
        "**AlexNet**\n",
        "\n",
        "* 합성곱 계층과 풀링 계층을 거듭하면서 마지막으로 완전연결계층을 거쳐 결과 출력.\n",
        "* 활성화 함수로 ReLU 함수를 이용.\n",
        "* LRN Local Response Nomalization 국소적 정규화를 실시하는 계층을 이용.\n",
        "* Dropout."
      ]
    }
  ],
  "metadata": {
    "kernelspec": {
      "display_name": "Python 3 (ipykernel)",
      "language": "python",
      "name": "python3"
    },
    "language_info": {
      "codemirror_mode": {
        "name": "ipython",
        "version": 3
      },
      "file_extension": ".py",
      "mimetype": "text/x-python",
      "name": "python",
      "nbconvert_exporter": "python",
      "pygments_lexer": "ipython3",
      "version": "3.9.7"
    },
    "colab": {
      "provenance": [],
      "include_colab_link": true
    }
  },
  "nbformat": 4,
  "nbformat_minor": 5
}