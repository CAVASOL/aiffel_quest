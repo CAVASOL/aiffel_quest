{
  "cells": [
    {
      "cell_type": "markdown",
      "metadata": {
        "id": "view-in-github",
        "colab_type": "text"
      },
      "source": [
        "<a href=\"https://colab.research.google.com/github/CAVASOL/aiffel_quest/blob/main/DL_quest/DL_prep/DL_Perceptron_and_NN.ipynb\" target=\"_parent\"><img src=\"https://colab.research.google.com/assets/colab-badge.svg\" alt=\"Open In Colab\"/></a>"
      ]
    },
    {
      "cell_type": "markdown",
      "id": "1114e404",
      "metadata": {
        "id": "1114e404"
      },
      "source": [
        "## 2. Perceptron\n",
        "\n",
        "### 2-1.  Perceptron\n",
        "\n",
        "* 입출력을 갖춘 알고리즘 즉, 다수의 신호(흐름)를 입력으로 받아 하나의 신호를 출력\n",
        "* 가중치(w, weight)와 편향(b, bias)를 매개변수로 설정\n",
        "* 뉴런에서 보내온 신호의 총합이 정해진 한계(임계값, theta)를 넘어설 때만 1을 출력\n",
        "* 퍼셉트론의 구조는 AND / NAND / OR 게이트의 모두에서 같음\n",
        "* **단층 퍼셉트론은 직선 하나로 나눈 영역만 표현할 수 있음**\n",
        "* 다층 퍼셉트론은 비선형적인 표현이 가능, `XOR Gate`"
      ]
    },
    {
      "cell_type": "markdown",
      "id": "4ce32600",
      "metadata": {
        "id": "4ce32600"
      },
      "source": [
        "### 2-2. Logic Gate\n",
        "\n",
        "* AND Gate / NAND Gate / OR Gate\n",
        "* 두 개의 입력 신호와 하나의 출력신호."
      ]
    },
    {
      "cell_type": "code",
      "execution_count": null,
      "id": "666c83cd",
      "metadata": {
        "id": "666c83cd"
      },
      "outputs": [],
      "source": [
        "def AND(x1, x2):\n",
        "    w1, w2, theta = 0.5, 0.5, 0.7\n",
        "    tmp = x1*w1 + x2*w2\n",
        "    if tmp <= theta:\n",
        "        return 0\n",
        "    elif tmp > theta:\n",
        "        return 1"
      ]
    },
    {
      "cell_type": "code",
      "execution_count": null,
      "id": "c262b09f",
      "metadata": {
        "id": "c262b09f",
        "outputId": "3785b63b-d7e2-4077-a43d-1b2e8fb46d8a"
      },
      "outputs": [
        {
          "data": {
            "text/plain": [
              "0"
            ]
          },
          "execution_count": 6,
          "metadata": {},
          "output_type": "execute_result"
        }
      ],
      "source": [
        "AND(0, 0)"
      ]
    },
    {
      "cell_type": "code",
      "execution_count": null,
      "id": "bde64476",
      "metadata": {
        "id": "bde64476",
        "outputId": "aecd2686-055c-422c-ce97-ca05a6d8b490"
      },
      "outputs": [
        {
          "data": {
            "text/plain": [
              "0"
            ]
          },
          "execution_count": 7,
          "metadata": {},
          "output_type": "execute_result"
        }
      ],
      "source": [
        "AND(1, 0)"
      ]
    },
    {
      "cell_type": "code",
      "execution_count": null,
      "id": "e1331090",
      "metadata": {
        "id": "e1331090",
        "outputId": "96ffee5d-6685-45bb-a34e-dedf6ada81a3"
      },
      "outputs": [
        {
          "data": {
            "text/plain": [
              "0"
            ]
          },
          "execution_count": 8,
          "metadata": {},
          "output_type": "execute_result"
        }
      ],
      "source": [
        "AND(0, 1)"
      ]
    },
    {
      "cell_type": "code",
      "execution_count": null,
      "id": "29758b7d",
      "metadata": {
        "id": "29758b7d",
        "outputId": "a609c2cd-eac5-4979-b759-55d9f3915f35"
      },
      "outputs": [
        {
          "data": {
            "text/plain": [
              "1"
            ]
          },
          "execution_count": 9,
          "metadata": {},
          "output_type": "execute_result"
        }
      ],
      "source": [
        "AND(1, 1)"
      ]
    },
    {
      "cell_type": "markdown",
      "id": "28fadb99",
      "metadata": {
        "id": "28fadb99"
      },
      "source": [
        "### 2-3. 가중치(weight)와 편향(bias)\n",
        "\n",
        "* 퍼셉트론은 입력 신호(x)에 가중치(w)를 곱한 값과 편향(b)을 합하여, 그 값이 0을 넘으면 1을 출력하고 그렇지 않으면 0을 출력."
      ]
    },
    {
      "cell_type": "code",
      "execution_count": null,
      "id": "a05ab57d",
      "metadata": {
        "id": "a05ab57d",
        "outputId": "68d73dc4-3cc5-4fd1-ebbd-c2d4fa5bc1f5"
      },
      "outputs": [
        {
          "data": {
            "text/plain": [
              "array([0. , 0.5])"
            ]
          },
          "execution_count": 10,
          "metadata": {},
          "output_type": "execute_result"
        }
      ],
      "source": [
        "# 가중치(w)와 편향(b)\n",
        "import numpy as np\n",
        "x = np.array([0, 1])\n",
        "w = np.array([0.5, 0.5])\n",
        "b = -0.7 # bias\n",
        "w*x"
      ]
    },
    {
      "cell_type": "code",
      "execution_count": null,
      "id": "f3db0d93",
      "metadata": {
        "id": "f3db0d93",
        "outputId": "ce7b36db-4ebb-4c2c-c6be-e0f39c4155a2"
      },
      "outputs": [
        {
          "data": {
            "text/plain": [
              "0.5"
            ]
          },
          "execution_count": 11,
          "metadata": {},
          "output_type": "execute_result"
        }
      ],
      "source": [
        "np.sum(w*x)"
      ]
    },
    {
      "cell_type": "code",
      "execution_count": null,
      "id": "bfcdfd6f",
      "metadata": {
        "id": "bfcdfd6f",
        "outputId": "a279530f-22f9-4bc6-9f94-4402d1560e25"
      },
      "outputs": [
        {
          "data": {
            "text/plain": [
              "-0.19999999999999996"
            ]
          },
          "execution_count": 12,
          "metadata": {},
          "output_type": "execute_result"
        }
      ],
      "source": [
        "np.sum(w*x) + b"
      ]
    },
    {
      "cell_type": "markdown",
      "id": "4db7a218",
      "metadata": {
        "id": "4db7a218"
      },
      "source": [
        "**AND Gate**\n",
        "\n",
        "* 입력이 모두 1이어야 출력도 1, 그 외는 0.\n",
        "* 입력이 3개 이상일 수 있다. 시퀀스 회로에선 직렬을 뜻함."
      ]
    },
    {
      "cell_type": "code",
      "execution_count": null,
      "id": "ac5ee685",
      "metadata": {
        "id": "ac5ee685"
      },
      "outputs": [],
      "source": [
        "def AND(x1, x2):\n",
        "    x = np.array([x1, x2])\n",
        "    w = np.array([0.5, 0.5])\n",
        "    b = -0.7 # bias\n",
        "    tmp = np.sum(w*x) + b\n",
        "    if tmp <= 0:\n",
        "        return 0\n",
        "    else:\n",
        "        return 1"
      ]
    },
    {
      "cell_type": "markdown",
      "id": "4bda04fa",
      "metadata": {
        "id": "4bda04fa"
      },
      "source": [
        "**NAND Gate**\n",
        "\n",
        "* 두 입력이 모두 1일 때는 0을 출력, 그 외는 1\n",
        "* 전자공학에서 모든 논리 게이트를 NAND 만으로 구성 가능함. 즉, Universal Gate!"
      ]
    },
    {
      "cell_type": "code",
      "execution_count": null,
      "id": "4176638a",
      "metadata": {
        "id": "4176638a"
      },
      "outputs": [],
      "source": [
        "def NAND(x1, x2):\n",
        "    x = np.array([x1, x2])\n",
        "    w = np.array([-0.5, -0.5])\n",
        "    b = 0.7 # bias\n",
        "    tmp = np.sum(w*x) + b\n",
        "    if tmp <= 0:\n",
        "        return 0\n",
        "    else:\n",
        "        return 1"
      ]
    },
    {
      "cell_type": "markdown",
      "id": "5876b8ee",
      "metadata": {
        "id": "5876b8ee"
      },
      "source": [
        "**OR Gate**\n",
        "\n",
        "* 입력 신호 중 하나만 1이어도 1을 출력"
      ]
    },
    {
      "cell_type": "code",
      "execution_count": null,
      "id": "cf514f55",
      "metadata": {
        "id": "cf514f55"
      },
      "outputs": [],
      "source": [
        "def OR(x1, x2):\n",
        "    x = np.array([x1, x2])\n",
        "    w = np.array([0.5, 0.5])\n",
        "    b = -0.2 # bias\n",
        "    tmp = np.sum(w*x) + b\n",
        "    if tmp <= 0:\n",
        "        return 0\n",
        "    else:\n",
        "        return 1"
      ]
    },
    {
      "cell_type": "markdown",
      "id": "9692671b",
      "metadata": {
        "id": "9692671b"
      },
      "source": [
        "**XOR Gate**\n",
        "\n",
        "* 입력 신호 중 한 쪽이 1일 때만 1을 출력\n",
        "* 다층 구조의 네트워크 즉, 2층 퍼셉트론(다층 퍼셉트론)\n",
        "* 0층의 두 뉴런이 신호를 받아 1층 뉴런으로 신호를 보내고, 1층 뉴런이 2층 뉴런으로 신호를 보내고, 2층의 뉴런은 y를 출력"
      ]
    },
    {
      "cell_type": "code",
      "execution_count": null,
      "id": "33bae504",
      "metadata": {
        "id": "33bae504"
      },
      "outputs": [],
      "source": [
        "def XOR(x1, x2):\n",
        "    s1 = NAND(x1, x2)\n",
        "    s2 = OR(x1, x2)\n",
        "    y = AND(s1, s2)\n",
        "    return y"
      ]
    },
    {
      "cell_type": "code",
      "execution_count": null,
      "id": "8151d2a0",
      "metadata": {
        "id": "8151d2a0",
        "outputId": "c2f0007a-266d-4878-dd22-c595ecc867dd"
      },
      "outputs": [
        {
          "data": {
            "text/plain": [
              "0"
            ]
          },
          "execution_count": 17,
          "metadata": {},
          "output_type": "execute_result"
        }
      ],
      "source": [
        "XOR(0, 0)"
      ]
    },
    {
      "cell_type": "code",
      "execution_count": null,
      "id": "b5b2ad34",
      "metadata": {
        "id": "b5b2ad34",
        "outputId": "1a5def33-24e7-4b77-971b-17a26bd5337e"
      },
      "outputs": [
        {
          "data": {
            "text/plain": [
              "1"
            ]
          },
          "execution_count": 18,
          "metadata": {},
          "output_type": "execute_result"
        }
      ],
      "source": [
        "XOR(1, 0)"
      ]
    },
    {
      "cell_type": "code",
      "execution_count": null,
      "id": "884cd930",
      "metadata": {
        "id": "884cd930",
        "outputId": "f7cafac6-0ad4-485e-f99f-3b3f9dd9e149"
      },
      "outputs": [
        {
          "data": {
            "text/plain": [
              "1"
            ]
          },
          "execution_count": 19,
          "metadata": {},
          "output_type": "execute_result"
        }
      ],
      "source": [
        "XOR(0, 1)"
      ]
    },
    {
      "cell_type": "code",
      "execution_count": null,
      "id": "83c38ea7",
      "metadata": {
        "id": "83c38ea7",
        "outputId": "e0a8a4fb-d7bd-42c4-b9c5-4e5ac3076591"
      },
      "outputs": [
        {
          "data": {
            "text/plain": [
              "0"
            ]
          },
          "execution_count": 20,
          "metadata": {},
          "output_type": "execute_result"
        }
      ],
      "source": [
        "XOR(1, 1)"
      ]
    },
    {
      "cell_type": "markdown",
      "id": "4e49c363",
      "metadata": {
        "id": "4e49c363"
      },
      "source": [
        "## 3. Neural Network, NN\n",
        "\n",
        "* 신경망에서는 활성화 함수로 비선형 함수를 사용.\n",
        "* **퍼셉트론은 계단 함수**를 활성화 함수로 사용한 모델이고, **신경망은 Sigmoid 함수와 ReLU 함수**를 활성화 함수로 사용한 모델.\n",
        "* 퍼셉트론에서는 뉴런 사이에 0 또는 1이 흘렀다면, 신경망에서는 연속적인 실수가 흐름.\n",
        "* 계단 함수와 시그모이드 함수는 **비선형 함수**이며, 출력은 0과 1 사이에 있음.\n",
        "* **ReLU 함수**는 입력(x)이 0을 넘으면 그 입력(x)을 출력하고, 0 이하이면 0을 출력함.\n",
        "* 출력층의 활성화 함수는 풀고자 하는 문제의 성질에 맞게 정함. 즉, **회귀는 Identify 함수, 2 Class 분류는 Sigmoid 함수, 다중 분류는 Softmax 함수**."
      ]
    },
    {
      "cell_type": "markdown",
      "id": "dcdb82fb",
      "metadata": {
        "id": "dcdb82fb"
      },
      "source": [
        "### 3-1. 퍼셉트론 복습\n",
        "\n",
        "```\n",
        "y = 0(b + w1x1 + w2x2 <= 0)\n",
        "y = 1(b + w1x1 + w2x2 > 0)\n",
        "```\n",
        "\n",
        "* b는 편향을 나타내는 매개변수로 뉴런이 얼마나 쉽게 활성화 되느냐를 제어\n",
        "* w는 각 신호의 가중치를 나타내는 매개변수로 각 신호의 영향력을 제어"
      ]
    },
    {
      "cell_type": "markdown",
      "id": "e65dbba5",
      "metadata": {
        "id": "e65dbba5"
      },
      "source": [
        "### 3-2. 활성화 함수\n",
        "\n",
        "```\n",
        "a = b + w1x1 + w2x2\n",
        "y = h(a)\n",
        "\n",
        "h(x) = 0(x <= 0)\n",
        "h(x) = 1(x > 0)\n",
        "```\n",
        "\n",
        "* `활성화 함수 activation function`는 입력 신호의 총합을 출력신호로 변환하는 함수.\n",
        "* 가중치 신호를 조합한 결과가 a라는 노드가 되고, 활성화 함수 h()를 통과하여 y라는 노드로 변환."
      ]
    },
    {
      "cell_type": "markdown",
      "id": "549295bf",
      "metadata": {
        "id": "549295bf"
      },
      "source": [
        "**Step Function**\n",
        "\n",
        "* 임계값을 경계로 출력이 변함.\n",
        "* 입력이 0을 넘으면 1을 출력하고, 그 외에는 0을 출력하는 함수."
      ]
    },
    {
      "cell_type": "code",
      "execution_count": null,
      "id": "6e49aa28",
      "metadata": {
        "id": "6e49aa28"
      },
      "outputs": [],
      "source": [
        "import numpy as np\n",
        "\n",
        "def step_function(x):\n",
        "    if x > 0:\n",
        "        return 1\n",
        "    else:\n",
        "        return 0\n",
        "\n",
        "    y = x > 0\n",
        "    return y.astype(np.int)"
      ]
    },
    {
      "cell_type": "code",
      "execution_count": null,
      "id": "3c8c6163",
      "metadata": {
        "id": "3c8c6163",
        "outputId": "1a4d9635-0da0-4274-a63f-e54d580b7204"
      },
      "outputs": [
        {
          "data": {
            "text/plain": [
              "array([-1.,  1.,  2.])"
            ]
          },
          "execution_count": 22,
          "metadata": {},
          "output_type": "execute_result"
        }
      ],
      "source": [
        "x = np.array([-1.0, 1.0, 2.0])\n",
        "x"
      ]
    },
    {
      "cell_type": "code",
      "execution_count": null,
      "id": "09945760",
      "metadata": {
        "id": "09945760",
        "outputId": "bf67d892-7454-424d-aac4-cdde35e4adca"
      },
      "outputs": [
        {
          "data": {
            "text/plain": [
              "array([False,  True,  True])"
            ]
          },
          "execution_count": 23,
          "metadata": {},
          "output_type": "execute_result"
        }
      ],
      "source": [
        "y = x >0\n",
        "y"
      ]
    },
    {
      "cell_type": "code",
      "execution_count": null,
      "id": "5f5d41e4",
      "metadata": {
        "id": "5f5d41e4",
        "outputId": "7d47905a-a034-47e4-ce6d-160a489887ae"
      },
      "outputs": [
        {
          "data": {
            "text/plain": [
              "array([0, 1, 1])"
            ]
          },
          "execution_count": 24,
          "metadata": {},
          "output_type": "execute_result"
        }
      ],
      "source": [
        "y = y.astype(int)\n",
        "y"
      ]
    },
    {
      "cell_type": "code",
      "execution_count": null,
      "id": "aa903050",
      "metadata": {
        "id": "aa903050",
        "outputId": "fcd01e3e-413d-4575-efc1-1560d98bde38"
      },
      "outputs": [
        {
          "data": {
            "image/png": "[encoded data removed]",
            "text/plain": [
              "<Figure size 432x288 with 1 Axes>"
            ]
          },
          "metadata": {
            "needs_background": "light"
          },
          "output_type": "display_data"
        }
      ],
      "source": [
        "import matplotlib.pylab as plt\n",
        "\n",
        "def step_function(x):\n",
        "    return np.array(x > 0, dtype=int)\n",
        "\n",
        "x = np.arange(-5.0, 5.0, 0.1)\n",
        "y = step_function(x)\n",
        "plt.plot(x, y)\n",
        "plt.ylim(-0.1, 1.1)\n",
        "plt.show()"
      ]
    },
    {
      "cell_type": "markdown",
      "id": "e4aa7cca",
      "metadata": {
        "id": "e4aa7cca"
      },
      "source": [
        "**Sigmoid Function**\n",
        "\n",
        "* 부드러운 곡선으로 표현되며, 입력에 따라 출력이 연손적으로 변화."
      ]
    },
    {
      "cell_type": "code",
      "execution_count": null,
      "id": "167144ec",
      "metadata": {
        "id": "167144ec"
      },
      "outputs": [],
      "source": [
        "def sigmoid(x):\n",
        "    return 1 / (1 + np.exp(-x))"
      ]
    },
    {
      "cell_type": "code",
      "execution_count": null,
      "id": "26acd0d8",
      "metadata": {
        "id": "26acd0d8",
        "outputId": "b3c50d34-edc4-4f78-8afb-2bc3ff9fe68f"
      },
      "outputs": [
        {
          "data": {
            "text/plain": [
              "array([0.26894142, 0.73105858, 0.88079708])"
            ]
          },
          "execution_count": 27,
          "metadata": {},
          "output_type": "execute_result"
        }
      ],
      "source": [
        "x = np.array([-1.0, 1.0, 2.0])\n",
        "sigmoid(x)"
      ]
    },
    {
      "cell_type": "code",
      "execution_count": null,
      "id": "35b0f555",
      "metadata": {
        "id": "35b0f555",
        "outputId": "a3fc672d-fcb6-42c8-848e-6b564633986d"
      },
      "outputs": [
        {
          "data": {
            "text/plain": [
              "array([2., 3., 4.])"
            ]
          },
          "execution_count": 28,
          "metadata": {},
          "output_type": "execute_result"
        }
      ],
      "source": [
        "t = np.array([1.0, 2.0, 3.0])\n",
        "1.0 + t"
      ]
    },
    {
      "cell_type": "code",
      "execution_count": null,
      "id": "3645ee66",
      "metadata": {
        "id": "3645ee66",
        "outputId": "ab9f13e2-8d34-4bfb-a3c5-05eaca47c9d9"
      },
      "outputs": [
        {
          "data": {
            "text/plain": [
              "array([1.        , 0.5       , 0.33333333])"
            ]
          },
          "execution_count": 29,
          "metadata": {},
          "output_type": "execute_result"
        }
      ],
      "source": [
        "1.0 / t"
      ]
    },
    {
      "cell_type": "code",
      "execution_count": null,
      "id": "501f759b",
      "metadata": {
        "id": "501f759b",
        "outputId": "91bb25ad-4df5-4c17-c779-3ae805e70adf"
      },
      "outputs": [
        {
          "data": {
            "text/plain": [
              "<function matplotlib.pyplot.show(close=None, block=None)>"
            ]
          },
          "execution_count": 30,
          "metadata": {},
          "output_type": "execute_result"
        },
        {
          "data": {
            "image/png": "[encoded data removed]",
            "text/plain": [
              "<Figure size 432x288 with 1 Axes>"
            ]
          },
          "metadata": {
            "needs_background": "light"
          },
          "output_type": "display_data"
        }
      ],
      "source": [
        "x = np.arange(-5.0, 5.0, 0.1)\n",
        "y = sigmoid(x)\n",
        "plt.plot(x, y)\n",
        "plt.ylim(-0.1, 1.1)\n",
        "plt.show"
      ]
    },
    {
      "cell_type": "markdown",
      "id": "f1a4698f",
      "metadata": {
        "id": "f1a4698f"
      },
      "source": [
        "**ReLU(Rectified Linear Unit) Function**\n",
        "\n",
        "* 입력(x)이 0을 넘으면 그 입력(x)을 그대로 출력하고, 0 이하이면 0을 출력.\n",
        "* maximun()은 두 입력 중 큰 값을 선택해 반환."
      ]
    },
    {
      "cell_type": "code",
      "execution_count": null,
      "id": "9011605d",
      "metadata": {
        "id": "9011605d"
      },
      "outputs": [],
      "source": [
        "def relu(x):\n",
        "    return np.maximum(0, x)"
      ]
    },
    {
      "cell_type": "code",
      "execution_count": null,
      "id": "eb14dd3d",
      "metadata": {
        "id": "eb14dd3d",
        "outputId": "7973d87d-d2b4-4d67-8cda-70d0f11ce2bc"
      },
      "outputs": [
        {
          "data": {
            "text/plain": [
              "<function matplotlib.pyplot.show(close=None, block=None)>"
            ]
          },
          "execution_count": 32,
          "metadata": {},
          "output_type": "execute_result"
        },
        {
          "data": {
            "image/png": "[encoded data removed]",
            "text/plain": [
              "<Figure size 432x288 with 1 Axes>"
            ]
          },
          "metadata": {
            "needs_background": "light"
          },
          "output_type": "display_data"
        }
      ],
      "source": [
        "x = np.arange(-5.0, 5.0, 0.1)\n",
        "y = relu(x)\n",
        "plt.plot(x, y)\n",
        "plt.show"
      ]
    },
    {
      "cell_type": "markdown",
      "id": "16d679d2",
      "metadata": {
        "id": "16d679d2"
      },
      "source": [
        "### 3-3. 다차원 배열의 계산\n",
        "\n",
        "* np.ndim() 배열의 차원 수를 확인.\n",
        "* shape 배열의 형상 확인"
      ]
    },
    {
      "cell_type": "code",
      "execution_count": null,
      "id": "a7bf400a",
      "metadata": {
        "id": "a7bf400a",
        "outputId": "8e3d79ac-4eb4-48d4-964a-64507ace373d"
      },
      "outputs": [
        {
          "name": "stdout",
          "output_type": "stream",
          "text": [
            "[[1 2]\n",
            " [3 4]\n",
            " [5 6]]\n"
          ]
        }
      ],
      "source": [
        "B = np.array([[1, 2], [3, 4], [5, 6]])\n",
        "print(B)"
      ]
    },
    {
      "cell_type": "code",
      "execution_count": null,
      "id": "c505c053",
      "metadata": {
        "id": "c505c053",
        "outputId": "105d3d55-6239-4702-fe51-1fca4fbe142c"
      },
      "outputs": [
        {
          "data": {
            "text/plain": [
              "2"
            ]
          },
          "execution_count": 34,
          "metadata": {},
          "output_type": "execute_result"
        }
      ],
      "source": [
        "np.ndim(B) # 2차원 행렬(matrix)"
      ]
    },
    {
      "cell_type": "code",
      "execution_count": null,
      "id": "ad0fd712",
      "metadata": {
        "id": "ad0fd712",
        "outputId": "dd355c34-0dbc-4034-c2c1-57b77f8b0b05"
      },
      "outputs": [
        {
          "data": {
            "text/plain": [
              "(3, 2)"
            ]
          },
          "execution_count": 35,
          "metadata": {},
          "output_type": "execute_result"
        }
      ],
      "source": [
        "B.shape # 3x2 행렬. 즉, 3행 2열인 행렬(matrix)"
      ]
    },
    {
      "cell_type": "markdown",
      "id": "95a0372b",
      "metadata": {
        "id": "95a0372b"
      },
      "source": [
        "### 3-4. 행렬의 내적과 연산\n",
        "\n",
        "* 행렬의 형상(Shape) 즉, 차원의 원소 수가 같아야 연산이 가능함.\n",
        "* 행렬 A(`3`x2)와 행렬 B(2x`4`)의 연산 결과인 C행렬(`3x4`)의 형상은 A행렬의 행 수와 B행렬의 열 수가 됨.\n",
        "* 피연산자의 순서가 다르면 결과도 다름. 즉, A x B != B x A"
      ]
    },
    {
      "cell_type": "code",
      "execution_count": null,
      "id": "da0820ec",
      "metadata": {
        "id": "da0820ec",
        "outputId": "49185b24-2833-4926-ca26-8e4a1f4e5850"
      },
      "outputs": [
        {
          "data": {
            "text/plain": [
              "(2, 3)"
            ]
          },
          "execution_count": 36,
          "metadata": {},
          "output_type": "execute_result"
        }
      ],
      "source": [
        "A = np.array([[1, 2, 3], [4, 5, 6]])\n",
        "A.shape"
      ]
    },
    {
      "cell_type": "code",
      "execution_count": null,
      "id": "da0c170c",
      "metadata": {
        "id": "da0c170c",
        "outputId": "bf5cd29f-25cd-40b1-daac-c6b5c2aa32b1"
      },
      "outputs": [
        {
          "data": {
            "text/plain": [
              "(3, 2)"
            ]
          },
          "execution_count": 37,
          "metadata": {},
          "output_type": "execute_result"
        }
      ],
      "source": [
        "B = np.array([[1, 2], [3, 4], [5, 6]])\n",
        "B.shape"
      ]
    },
    {
      "cell_type": "code",
      "execution_count": null,
      "id": "33e24fae",
      "metadata": {
        "id": "33e24fae",
        "outputId": "f67d9878-052a-4099-e6bb-b41f5a66223c"
      },
      "outputs": [
        {
          "name": "stdout",
          "output_type": "stream",
          "text": [
            "[[22 28]\n",
            " [49 64]]\n"
          ]
        }
      ],
      "source": [
        "Y = np.dot(A, B)\n",
        "print(Y)"
      ]
    },
    {
      "cell_type": "markdown",
      "id": "3fbb050a",
      "metadata": {
        "id": "3fbb050a"
      },
      "source": [
        "### 3-5. 3층 신경망의 신호 전달 과정\n",
        "\n",
        "* 0층: 입력 신호(x) > 1층: 은닉층(a1) > 2층: 은닉층(a2) > 3층: 출력 신호(y)\n",
        "* A = XW + B"
      ]
    },
    {
      "cell_type": "code",
      "execution_count": null,
      "id": "5230c8c2",
      "metadata": {
        "id": "5230c8c2",
        "outputId": "3b13e632-9c33-4cb6-c5e8-29d91f50bd26"
      },
      "outputs": [
        {
          "name": "stdout",
          "output_type": "stream",
          "text": [
            "(2,)\n",
            "(2, 3)\n",
            "(3,)\n"
          ]
        }
      ],
      "source": [
        "# 입력 신호(X), 가중치(W), 편향(B) 설정하기\n",
        "X = np.array([1.0, 0.5])\n",
        "W1 = np.array([[0.1, 0.3, 0.5], [0.2, 0.4, 0.6]])\n",
        "B1 = np.array([0.1, 0.2, 0.3])\n",
        "\n",
        "print(X.shape)\n",
        "print(W1.shape)\n",
        "print(B1.shape)\n",
        "\n",
        "A1 = np.dot(X, W1) + B1"
      ]
    },
    {
      "cell_type": "code",
      "execution_count": null,
      "id": "2c1c8fdf",
      "metadata": {
        "id": "2c1c8fdf",
        "outputId": "77c65490-10ad-429d-e5f6-21d3e87a1ec9"
      },
      "outputs": [
        {
          "name": "stdout",
          "output_type": "stream",
          "text": [
            "[0.3 0.7 1.1]\n",
            "[0.57444252 0.66818777 0.75026011]\n"
          ]
        }
      ],
      "source": [
        "# 입력층에서 1층(은닉1)으로 신호 전달\n",
        "Z1 = sigmoid(A1)\n",
        "\n",
        "print(A1)\n",
        "print(Z1)"
      ]
    },
    {
      "cell_type": "code",
      "execution_count": null,
      "id": "7ef5267e",
      "metadata": {
        "id": "7ef5267e",
        "outputId": "d7fe48f9-b0b0-464f-a447-56636dea2f62"
      },
      "outputs": [
        {
          "name": "stdout",
          "output_type": "stream",
          "text": [
            "(3,)\n",
            "(3, 2)\n",
            "(2,)\n"
          ]
        }
      ],
      "source": [
        "# 1층(은닉1)에서 2층(은닉2)으로 신호 전달\n",
        "\n",
        "W2 = np.array([[0.1, 0.4], [0.2, 0.5], [0.3, 0.6]])\n",
        "B2 = np.array([0.1, 0.2])\n",
        "\n",
        "print(Z1.shape)\n",
        "print(W2.shape)\n",
        "print(B2.shape)\n",
        "\n",
        "A2 = np.dot(Z1, W2) + B2\n",
        "Z2 = sigmoid(A2)"
      ]
    },
    {
      "cell_type": "code",
      "execution_count": null,
      "id": "97598fba",
      "metadata": {
        "id": "97598fba"
      },
      "outputs": [],
      "source": [
        "# 2층(은닉2)에서 3층(출력 신호)으로 신호 전달\n",
        "\n",
        "def identify_function(x):\n",
        "    return x\n",
        "\n",
        "W3 = np.array([[0.1, 0.3], [0.2, 0.4]])\n",
        "B3 = np.array([0.1, 0.2])\n",
        "\n",
        "A3 = np.dot(Z2, W3) + B3\n",
        "Y = identify_function(A3)"
      ]
    },
    {
      "cell_type": "markdown",
      "id": "2e44249d",
      "metadata": {
        "id": "2e44249d"
      },
      "source": [
        "### 3-6. 출력층 설계하기\n",
        "\n",
        "* 출력층의 활성화 함수는 풀고자 하는 문제의 성질에 맞게 정함.\n",
        "* 회귀는 Identify 함수, 2 Class 분류는 Sigmoid 함수, 다중 분류는 Softmax 함수."
      ]
    },
    {
      "cell_type": "markdown",
      "id": "a959939e",
      "metadata": {
        "id": "a959939e"
      },
      "source": [
        "**항등 함수를 활용한 신경망의 순방향 신호 전달 과정**"
      ]
    },
    {
      "cell_type": "code",
      "execution_count": null,
      "id": "cc3b92af",
      "metadata": {
        "id": "cc3b92af",
        "outputId": "4951043f-5c7f-4052-87a2-a3160c0a0c45"
      },
      "outputs": [
        {
          "name": "stdout",
          "output_type": "stream",
          "text": [
            "[0.31682708 0.69627909]\n"
          ]
        }
      ],
      "source": [
        "def sigmoid(x):\n",
        "    return 1 / (1 + np.exp(-x))\n",
        "\n",
        "def identity_function(x):\n",
        "    return x\n",
        "\n",
        "def init_network():\n",
        "    network = {}\n",
        "    network['W1'] = np.array([[0.1, 0.3, 0.5], [0.2, 0.4, 0.6]])\n",
        "    network['b1'] = np.array([0.1, 0.2, 0.3])\n",
        "    network['W2'] = np.array([[0.1, 0.4], [0.2, 0.5], [0.3, 0.6]])\n",
        "    network['b2'] = np.array([0.1, 0.2])\n",
        "    network['W3'] = np.array([[0.1, 0.3], [0.2, 0.4]])\n",
        "    network['b3'] = np.array([0.1, 0.2])\n",
        "\n",
        "    return network\n",
        "\n",
        "def forward(network, x):\n",
        "    W1, W2, W3 = network['W1'], network['W2'], network['W3']\n",
        "    b1, b2, b3 = network['b1'], network['b2'], network['b3']\n",
        "\n",
        "    a1 = np.dot(x, W1) + b1\n",
        "    z1 = sigmoid(a1)\n",
        "    a2 = np.dot(z1, W2) + b2\n",
        "    z2 = sigmoid(a2)\n",
        "    a3 = np.dot(z2, W3) + b3\n",
        "    y = identity_function(a3)\n",
        "\n",
        "    return y\n",
        "\n",
        "network = init_network()\n",
        "x = np.array([1.0, 0.5])\n",
        "y = forward(network, x)\n",
        "print(y)"
      ]
    },
    {
      "cell_type": "markdown",
      "id": "7ffb30ba",
      "metadata": {
        "id": "7ffb30ba"
      },
      "source": [
        "**Softmax Function**\n",
        "\n",
        "* 모든 신호로부터 받은 값을 연산하여 출력하고, 출력은 0과 1사이의 실수.\n",
        "* 출력의 총합은 1이며, 함수의 출력값을 확률로 해석할 수 있음."
      ]
    },
    {
      "cell_type": "code",
      "execution_count": null,
      "id": "e237ae56",
      "metadata": {
        "id": "e237ae56",
        "outputId": "9efec20d-f9d0-428c-8e04-1358a2bc0ae5"
      },
      "outputs": [
        {
          "name": "stdout",
          "output_type": "stream",
          "text": [
            "[ 1.34985881 18.17414537 54.59815003]\n"
          ]
        }
      ],
      "source": [
        "a = np.array([0.3, 2.9, 4.0])\n",
        "\n",
        "exp_a = np.exp(a)\n",
        "print(exp_a)"
      ]
    },
    {
      "cell_type": "code",
      "execution_count": null,
      "id": "374464c6",
      "metadata": {
        "id": "374464c6",
        "outputId": "536d9060-d80e-4b0a-b1b6-5641a01d68db"
      },
      "outputs": [
        {
          "name": "stdout",
          "output_type": "stream",
          "text": [
            "74.1221542101633\n"
          ]
        }
      ],
      "source": [
        "sum_exp_a = np.sum(exp_a)\n",
        "print(sum_exp_a)"
      ]
    },
    {
      "cell_type": "code",
      "execution_count": null,
      "id": "fcbb3295",
      "metadata": {
        "id": "fcbb3295",
        "outputId": "56baf3ab-d411-445d-8ee3-4c9c18d6f901"
      },
      "outputs": [
        {
          "name": "stdout",
          "output_type": "stream",
          "text": [
            "[0.01821127 0.24519181 0.73659691]\n"
          ]
        }
      ],
      "source": [
        "y = exp_a / sum_exp_a\n",
        "print(y)"
      ]
    },
    {
      "cell_type": "code",
      "execution_count": null,
      "id": "61697eba",
      "metadata": {
        "id": "61697eba"
      },
      "outputs": [],
      "source": [
        "def softmax(a):\n",
        "    exp_a = np.exp(a)\n",
        "    sum_exp_a = np.sum(exp_a)\n",
        "    y = exp_a / sum_exp_a\n",
        "\n",
        "    return y"
      ]
    },
    {
      "cell_type": "markdown",
      "id": "8f9279ce",
      "metadata": {
        "id": "8f9279ce"
      },
      "source": [
        "**Overflow**\n",
        "\n",
        ">`Softmax 함수`는 `지수 함수 exp(x)`를  사용하는데, 지수 함수는 쉽게 아주 큰 값을 연산할 수 있습니다.  \n",
        "즉, 무한대의 값을 연산하는 루프가 될 수 있어요.  그렇기에 나눗셈을 지속할수록 수치가 불안정해집니다. 이러한 오류를 `오버플로` 라고 합니다.  \n",
        "오버플로를 해결하기 위해서는 지수 함수에 입력 신호 중 최대값인 임의의 정수(C')를 연산에 더하거나 빼는 방법을 사용할 수 있습니다!"
      ]
    },
    {
      "cell_type": "code",
      "execution_count": null,
      "id": "ed9b470b",
      "metadata": {
        "id": "ed9b470b",
        "outputId": "26febfc6-1da6-48fa-8bd6-1ca3777148d4"
      },
      "outputs": [
        {
          "name": "stderr",
          "output_type": "stream",
          "text": [
            "/tmp/ipykernel_30/832863605.py:2: RuntimeWarning: overflow encountered in exp\n",
            "  np.exp(a) / np.sum(np.exp(a))\n",
            "/tmp/ipykernel_30/832863605.py:2: RuntimeWarning: invalid value encountered in true_divide\n",
            "  np.exp(a) / np.sum(np.exp(a))\n"
          ]
        },
        {
          "data": {
            "text/plain": [
              "array([nan, nan, nan])"
            ]
          },
          "execution_count": 49,
          "metadata": {},
          "output_type": "execute_result"
        }
      ],
      "source": [
        "a = np.array([1010, 1000, 990])\n",
        "np.exp(a) / np.sum(np.exp(a))"
      ]
    },
    {
      "cell_type": "code",
      "execution_count": null,
      "id": "4c412112",
      "metadata": {
        "id": "4c412112",
        "outputId": "c356627e-75b8-465b-b6c2-3185f498197a"
      },
      "outputs": [
        {
          "data": {
            "text/plain": [
              "array([  0, -10, -20])"
            ]
          },
          "execution_count": 50,
          "metadata": {},
          "output_type": "execute_result"
        }
      ],
      "source": [
        "c = np.max(a)\n",
        "a - c"
      ]
    },
    {
      "cell_type": "code",
      "execution_count": null,
      "id": "09f80e39",
      "metadata": {
        "id": "09f80e39",
        "outputId": "0b9238dc-5283-434e-b647-2108a26a408b"
      },
      "outputs": [
        {
          "data": {
            "text/plain": [
              "array([9.99954600e-01, 4.53978686e-05, 2.06106005e-09])"
            ]
          },
          "execution_count": 51,
          "metadata": {},
          "output_type": "execute_result"
        }
      ],
      "source": [
        "np.exp(a - c) / np.sum(np.exp(a - c))"
      ]
    },
    {
      "cell_type": "markdown",
      "id": "78bbe8aa",
      "metadata": {
        "id": "78bbe8aa"
      },
      "source": [
        "**소프트맥스 함수를 활용한 신경망의 신호 전달 과정**"
      ]
    },
    {
      "cell_type": "code",
      "execution_count": null,
      "id": "f1c8f02f",
      "metadata": {
        "id": "f1c8f02f"
      },
      "outputs": [],
      "source": [
        "def softmax(a):\n",
        "    # c = np.max(a - c)\n",
        "    exp_a = np.exp(a)\n",
        "    sum_exp_a = np.sum(exp_a)\n",
        "    y = exp_a / sum_exp_a\n",
        "\n",
        "    return y"
      ]
    },
    {
      "cell_type": "code",
      "execution_count": null,
      "id": "d943e346",
      "metadata": {
        "id": "d943e346",
        "outputId": "384ce2b7-cdb0-44a4-8f1f-4c7103423cb0"
      },
      "outputs": [
        {
          "name": "stdout",
          "output_type": "stream",
          "text": [
            "[0.01821127 0.24519181 0.73659691]\n"
          ]
        }
      ],
      "source": [
        "a = np.array([0.3, 2.9, 4.0])\n",
        "y = softmax(a)\n",
        "print(y)"
      ]
    },
    {
      "cell_type": "code",
      "execution_count": null,
      "id": "75e1b3c4",
      "metadata": {
        "id": "75e1b3c4",
        "outputId": "ea3083d4-2397-4047-8a3e-bfd212c7d903"
      },
      "outputs": [
        {
          "data": {
            "text/plain": [
              "1.0"
            ]
          },
          "execution_count": 54,
          "metadata": {},
          "output_type": "execute_result"
        }
      ],
      "source": [
        "np.sum(y)"
      ]
    },
    {
      "cell_type": "markdown",
      "id": "095e5a71",
      "metadata": {
        "id": "095e5a71"
      },
      "source": [
        "### 3-7. 손글씨 숫자 인식\n",
        "\n",
        "* 신경망의 순전파 forward propagation\n",
        "* 정규화 nomalization: 데이터를 특정 범위로 변환하는 처리\n",
        "* 전처리 pre-processing: 신경망의 입력 데이터에 특정 변환을 가하는 것"
      ]
    },
    {
      "cell_type": "code",
      "execution_count": null,
      "id": "b6c9c8c3",
      "metadata": {
        "id": "b6c9c8c3"
      },
      "outputs": [],
      "source": [
        "# Lib\n",
        "import tensorflow as tf\n",
        "import matplotlib.pyplot as plt\n",
        "from tensorflow.keras.layers import Flatten, Dense\n",
        "from tensorflow.keras.models import Sequential\n",
        "from PIL import Image\n",
        "import numpy as np\n",
        "\n",
        "# Dataset\n",
        "mnist = tf.keras.datasets.mnist\n",
        "(X_train, y_train), (X_test, y_test) = mnist.load_data()"
      ]
    },
    {
      "cell_type": "code",
      "execution_count": null,
      "id": "3b992636",
      "metadata": {
        "id": "3b992636",
        "outputId": "03ebeefe-c55f-4ef7-ac10-14b32d471ede"
      },
      "outputs": [
        {
          "name": "stdout",
          "output_type": "stream",
          "text": [
            "5\n",
            "(28, 28)\n"
          ]
        },
        {
          "data": {
            "image/png": "[encoded data removed]",
            "text/plain": [
              "<PIL.Image.Image image mode=L size=28x28 at 0x7FB54D6F22B0>"
            ]
          },
          "metadata": {},
          "output_type": "display_data"
        }
      ],
      "source": [
        "def img_show(img):\n",
        "    pil_img = Image.fromarray(np.uint8(img))\n",
        "    pil_img.show()\n",
        "\n",
        "img = X_train[0]\n",
        "label = y_train[0]\n",
        "print(label)\n",
        "\n",
        "print(img.shape)\n",
        "img_show(img)"
      ]
    },
    {
      "cell_type": "code",
      "execution_count": null,
      "id": "f4abf416",
      "metadata": {
        "id": "f4abf416"
      },
      "outputs": [],
      "source": [
        "# 신경망의 추론 처리를 위해 세 함수인 get_data(), init_network(), predict() 정의하기\n",
        "\n",
        "import pickle\n",
        "\n",
        "def get_data():\n",
        "    (X_train, y_train), (X_test, y_test) = mnist.load_data()\n",
        "    return X_test, y_test\n",
        "\n",
        "def sigmoid(x):\n",
        "    return 1 / (1 + np.exp(-x))\n",
        "\n",
        "def identity_function(x):\n",
        "    return x\n",
        "\n",
        "def init_network():\n",
        "    with open(\"sample_weight.pkl\", 'rb') as f:\n",
        "        network = pickle.load(f)\n",
        "    return network\n",
        "\n",
        "def predict(network, x):\n",
        "    W1, W2, W3 = network['W1'], network['W2'], network['W3']\n",
        "    b1, b2, b3 = network['b1'], network['b2'], network['b3']\n",
        "\n",
        "    x = x.reshape(-1, 784)\n",
        "\n",
        "    a1 = np.dot(x, W1) + b1\n",
        "    z1 = sigmoid(a1)\n",
        "    a2 = np.dot(z1, W2) + b2\n",
        "    z2 = sigmoid(a2)\n",
        "    a3 = np.dot(z2, W3) + b3\n",
        "    y = identity_function(a3)\n",
        "\n",
        "    return y"
      ]
    },
    {
      "cell_type": "code",
      "execution_count": null,
      "id": "2baf4e35",
      "metadata": {
        "scrolled": true,
        "id": "2baf4e35",
        "outputId": "82be831b-cda7-468f-a473-6d08b67f0258"
      },
      "outputs": [
        {
          "name": "stderr",
          "output_type": "stream",
          "text": [
            "/tmp/ipykernel_31/46671533.py:10: RuntimeWarning: overflow encountered in exp\n",
            "  return 1 / (1 + np.exp(-x))\n"
          ]
        },
        {
          "name": "stdout",
          "output_type": "stream",
          "text": [
            "Accuracy: 0.9207\n"
          ]
        }
      ],
      "source": [
        "# 신경망에 의한 추론을 수행한 후, 정확도 평가\n",
        "\n",
        "X, y = get_data()\n",
        "network = init_network()\n",
        "accuracy_cnt = 0\n",
        "\n",
        "for i in range(len(X)):\n",
        "    y_pred = predict(network, X[i])\n",
        "    p = np.argmax(y_pred)\n",
        "    if p == y[i]:\n",
        "        accuracy_cnt += 1\n",
        "\n",
        "accuracy = float(accuracy_cnt) / len(X)\n",
        "print(\"Accuracy: \" + str(accuracy))"
      ]
    },
    {
      "cell_type": "markdown",
      "id": "92c74e35",
      "metadata": {
        "id": "92c74e35"
      },
      "source": [
        "**배치 처리**\n",
        "\n",
        "* `배치 Batch` 하나로 묶은 입력 데이터를 의미합니다.\n",
        "* 수치 계산 라이브러리 대부분이 큰 배열을 효율적으로 처리할 수 있도록 고도로 최적화.\n",
        "* 커다란 신경망에서는 데이터 전송이 병목으로 작용하는 경우가 자주 있는데, 빠른 CPU나 GPU로 순수 계산을 수행하는 비율이 높아짐."
      ]
    },
    {
      "cell_type": "code",
      "execution_count": null,
      "id": "7780b06d",
      "metadata": {
        "id": "7780b06d",
        "outputId": "b4576fe4-25f6-422a-9064-81f12965be8d"
      },
      "outputs": [
        {
          "data": {
            "text/plain": [
              "(10000, 28, 28)"
            ]
          },
          "execution_count": 27,
          "metadata": {},
          "output_type": "execute_result"
        }
      ],
      "source": [
        "# 신경망 각 층의 가중치 형상 출력\n",
        "\n",
        "X, _ = get_data()\n",
        "network = init_network()\n",
        "W1, W2, W3 = network['W1'], network['W2'], network['W3']\n",
        "\n",
        "X.shape"
      ]
    },
    {
      "cell_type": "code",
      "execution_count": null,
      "id": "992a14b8",
      "metadata": {
        "id": "992a14b8",
        "outputId": "c024f3ee-c8d8-4c3a-9a8a-ab7555b9cc3c"
      },
      "outputs": [
        {
          "data": {
            "text/plain": [
              "(28, 28)"
            ]
          },
          "execution_count": 28,
          "metadata": {},
          "output_type": "execute_result"
        }
      ],
      "source": [
        "X[0].shape"
      ]
    },
    {
      "cell_type": "code",
      "execution_count": null,
      "id": "7960d692",
      "metadata": {
        "id": "7960d692",
        "outputId": "85770eee-6ba9-4cb3-e3cb-96a632e90ddb"
      },
      "outputs": [
        {
          "data": {
            "text/plain": [
              "(784, 50)"
            ]
          },
          "execution_count": 29,
          "metadata": {},
          "output_type": "execute_result"
        }
      ],
      "source": [
        "W1.shape"
      ]
    },
    {
      "cell_type": "code",
      "execution_count": null,
      "id": "07c56838",
      "metadata": {
        "id": "07c56838",
        "outputId": "9c9e1a38-2652-4f84-aeb3-76413b37d26d"
      },
      "outputs": [
        {
          "data": {
            "text/plain": [
              "(50, 100)"
            ]
          },
          "execution_count": 30,
          "metadata": {},
          "output_type": "execute_result"
        }
      ],
      "source": [
        "W2.shape"
      ]
    },
    {
      "cell_type": "code",
      "execution_count": null,
      "id": "6232a7ce",
      "metadata": {
        "id": "6232a7ce",
        "outputId": "5af8dd63-847a-4646-bf78-d7a94d4fa72d"
      },
      "outputs": [
        {
          "data": {
            "text/plain": [
              "(100, 10)"
            ]
          },
          "execution_count": 31,
          "metadata": {},
          "output_type": "execute_result"
        }
      ],
      "source": [
        "W3.shape"
      ]
    },
    {
      "cell_type": "code",
      "execution_count": null,
      "id": "af6b64ef",
      "metadata": {
        "id": "af6b64ef",
        "outputId": "272b5db3-b45e-45ab-9e1b-949a70a94259"
      },
      "outputs": [
        {
          "name": "stdout",
          "output_type": "stream",
          "text": [
            "Accuracy: 0.9207\n"
          ]
        },
        {
          "name": "stderr",
          "output_type": "stream",
          "text": [
            "/tmp/ipykernel_31/46671533.py:10: RuntimeWarning: overflow encountered in exp\n",
            "  return 1 / (1 + np.exp(-x))\n"
          ]
        }
      ],
      "source": [
        "# 배치 처리 구현\n",
        "\n",
        "X, y = get_data()\n",
        "network = init_network()\n",
        "\n",
        "batch_size = 100\n",
        "accuracy_cnt = 0\n",
        "\n",
        "for i in range(0, len(X), batch_size):\n",
        "    x_batch = X[i:i+batch_size]\n",
        "    y_batch = predict(network, x_batch)\n",
        "    p = np.argmax(y_batch, axis=1)\n",
        "    accuracy_cnt += np.sum(p == y[i:i+batch_size])\n",
        "\n",
        "accuracy = float(accuracy_cnt) / len(X)\n",
        "print(\"Accuracy: \" + str(accuracy))"
      ]
    }
  ],
  "metadata": {
    "kernelspec": {
      "display_name": "Python 3 (ipykernel)",
      "language": "python",
      "name": "python3"
    },
    "language_info": {
      "codemirror_mode": {
        "name": "ipython",
        "version": 3
      },
      "file_extension": ".py",
      "mimetype": "text/x-python",
      "name": "python",
      "nbconvert_exporter": "python",
      "pygments_lexer": "ipython3",
      "version": "3.9.7"
    },
    "colab": {
      "provenance": [],
      "include_colab_link": true
    }
  },
  "nbformat": 4,
  "nbformat_minor": 5
}