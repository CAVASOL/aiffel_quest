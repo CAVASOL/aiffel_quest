{
  "cells": [
    {
      "cell_type": "markdown",
      "metadata": {
        "id": "view-in-github",
        "colab_type": "text"
      },
      "source": [
        "<a href=\"https://colab.research.google.com/github/CAVASOL/aiffel_quest/blob/main/DL_quest/DL_prep/DL_Perceptron_and_NN.ipynb\" target=\"_parent\"><img src=\"https://colab.research.google.com/assets/colab-badge.svg\" alt=\"Open In Colab\"/></a>"
      ]
    },
    {
      "cell_type": "markdown",
      "id": "6c4c81ad",
      "metadata": {
        "id": "6c4c81ad"
      },
      "source": [
        "## Perceptron\n",
        "\n",
        "* 입출력을 갖춘 알고리즘 즉, 다수의 신호(흐름)를 입력으로 받아 하나의 신호를 출력\n",
        "* 가중치(w, weight)와 편향(b, bias)를 매개변수로 설정\n",
        "* 뉴런에서 보내온 신호의 총합이 정해진 한계(임계값, theta)를 넘어설 때만 1을 출력\n",
        "* 퍼셉트론의 구조는 AND / NAND / OR 게이트의 모두에서 같음\n",
        "* **단층 퍼셉트론은 직선 하나로 나눈 영역만 표현할 수 있음**\n",
        "* 다층 퍼셉트론은 비선형적인 표현이 가능, `XOR Gate`"
      ]
    },
    {
      "cell_type": "markdown",
      "id": "b07a8cd3",
      "metadata": {
        "id": "b07a8cd3"
      },
      "source": [
        "### AND Gate\n",
        "\n",
        "* 입력이 둘이고 출력은 하나\n",
        "* 두 입력이 모두 1일 때만 1을 출력, 그 외는 0\n",
        "* (w1, w2, theta) = (0.5, 0.5, 0.7) || (1.0, 1.0, 1.0)"
      ]
    },
    {
      "cell_type": "code",
      "execution_count": null,
      "id": "ce64cd0c",
      "metadata": {
        "id": "ce64cd0c"
      },
      "outputs": [],
      "source": [
        "def AND(x1, x2):\n",
        "    w1, w2, theta = 0.5, 0.5, 0.7\n",
        "    tmp = x1*w1 + x2*w2\n",
        "    if tmp <= theta:\n",
        "        return 0\n",
        "    elif tmp > theta:\n",
        "        return 1"
      ]
    },
    {
      "cell_type": "code",
      "execution_count": null,
      "id": "c4357e38",
      "metadata": {
        "id": "c4357e38",
        "outputId": "8daf5291-5425-4c9c-9adb-957a2af25d80"
      },
      "outputs": [
        {
          "data": {
            "text/plain": [
              "0"
            ]
          },
          "execution_count": 2,
          "metadata": {},
          "output_type": "execute_result"
        }
      ],
      "source": [
        "AND(0, 0)"
      ]
    },
    {
      "cell_type": "code",
      "execution_count": null,
      "id": "4aa94dfa",
      "metadata": {
        "id": "4aa94dfa",
        "outputId": "f74c4ecc-5f49-4ca2-e652-c9dc893f5e7e"
      },
      "outputs": [
        {
          "data": {
            "text/plain": [
              "0"
            ]
          },
          "execution_count": 3,
          "metadata": {},
          "output_type": "execute_result"
        }
      ],
      "source": [
        "AND(1, 0)"
      ]
    },
    {
      "cell_type": "code",
      "execution_count": null,
      "id": "a21d0d2e",
      "metadata": {
        "id": "a21d0d2e",
        "outputId": "ec31369f-7f64-400f-f041-2b57b97df178"
      },
      "outputs": [
        {
          "data": {
            "text/plain": [
              "0"
            ]
          },
          "execution_count": 4,
          "metadata": {},
          "output_type": "execute_result"
        }
      ],
      "source": [
        "AND(0, 1)"
      ]
    },
    {
      "cell_type": "code",
      "execution_count": null,
      "id": "50a69c59",
      "metadata": {
        "id": "50a69c59",
        "outputId": "1923138d-02fc-44ab-b167-4bb8039c5345"
      },
      "outputs": [
        {
          "data": {
            "text/plain": [
              "1"
            ]
          },
          "execution_count": 5,
          "metadata": {},
          "output_type": "execute_result"
        }
      ],
      "source": [
        "AND(1, 1)"
      ]
    },
    {
      "cell_type": "markdown",
      "id": "ea61332c",
      "metadata": {
        "id": "ea61332c"
      },
      "source": [
        "**퍼셉트론은 입력 신호에 가중치를 곱한 값과 편향(b)을 합하여, 그 값이 0을 넘으면 1을 출력하고 그렇지 않으면 0을 출력**"
      ]
    },
    {
      "cell_type": "code",
      "execution_count": null,
      "id": "bece5185",
      "metadata": {
        "id": "bece5185",
        "outputId": "7b0d9bb6-7011-43c9-e90f-2d91a5434247"
      },
      "outputs": [
        {
          "data": {
            "text/plain": [
              "array([0. , 0.5])"
            ]
          },
          "execution_count": 6,
          "metadata": {},
          "output_type": "execute_result"
        }
      ],
      "source": [
        "# 가중치(w)와 편향(b)\n",
        "import numpy as np\n",
        "x = np.array([0, 1])\n",
        "w = np.array([0.5, 0.5])\n",
        "b = -0.7 # bias\n",
        "w*x"
      ]
    },
    {
      "cell_type": "code",
      "execution_count": null,
      "id": "ae680af4",
      "metadata": {
        "id": "ae680af4",
        "outputId": "4e83a19d-1337-4041-f5a8-d9fb24931808"
      },
      "outputs": [
        {
          "data": {
            "text/plain": [
              "0.5"
            ]
          },
          "execution_count": 7,
          "metadata": {},
          "output_type": "execute_result"
        }
      ],
      "source": [
        "np.sum(w*x)"
      ]
    },
    {
      "cell_type": "code",
      "execution_count": null,
      "id": "946f59b2",
      "metadata": {
        "id": "946f59b2",
        "outputId": "5b54070c-5eed-4930-a812-6ba00712947d"
      },
      "outputs": [
        {
          "data": {
            "text/plain": [
              "-0.19999999999999996"
            ]
          },
          "execution_count": 8,
          "metadata": {},
          "output_type": "execute_result"
        }
      ],
      "source": [
        "np.sum(w*x) + b"
      ]
    },
    {
      "cell_type": "code",
      "execution_count": null,
      "id": "51c7c7b0",
      "metadata": {
        "id": "51c7c7b0"
      },
      "outputs": [],
      "source": [
        "def AND(x1, x2):\n",
        "    x = np.array([x1, x2])\n",
        "    w = np.array([0.5, 0.5])\n",
        "    b = -0.7 # bias\n",
        "    tmp = np.sum(w*x) + b\n",
        "    if tmp <= 0:\n",
        "        return 0\n",
        "    else:\n",
        "        return 1"
      ]
    },
    {
      "cell_type": "markdown",
      "id": "139974da",
      "metadata": {
        "id": "139974da"
      },
      "source": [
        "### NAND(Not AND) Gate\n",
        "\n",
        "* 두 입력이 모두 1일 때는 0을 출력, 그 외는 1\n",
        "* (w1, w2, theta) = (-0.5, -0.5, -0.7)"
      ]
    },
    {
      "cell_type": "code",
      "execution_count": null,
      "id": "987e25c7",
      "metadata": {
        "id": "987e25c7"
      },
      "outputs": [],
      "source": [
        "def NAND(x1, x2):\n",
        "    x = np.array([x1, x2])\n",
        "    w = np.array([-0.5, -0.5])\n",
        "    b = 0.7 # bias\n",
        "    tmp = np.sum(w*x) + b\n",
        "    if tmp <= 0:\n",
        "        return 0\n",
        "    else:\n",
        "        return 1"
      ]
    },
    {
      "cell_type": "markdown",
      "id": "1a5beac5",
      "metadata": {
        "id": "1a5beac5"
      },
      "source": [
        "### OR Gate\n",
        "\n",
        "* 입력 신호 중 하나 이상이 1이면 1을 출력"
      ]
    },
    {
      "cell_type": "code",
      "execution_count": null,
      "id": "9e4e6a42",
      "metadata": {
        "id": "9e4e6a42"
      },
      "outputs": [],
      "source": [
        "def OR(x1, x2):\n",
        "    x = np.array([x1, x2])\n",
        "    w = np.array([0.5, 0.5])\n",
        "    b = -0.2 # bias\n",
        "    tmp = np.sum(w*x) + b\n",
        "    if tmp <= 0:\n",
        "        return 0\n",
        "    else:\n",
        "        return 1"
      ]
    },
    {
      "cell_type": "markdown",
      "id": "370ba145",
      "metadata": {
        "id": "370ba145"
      },
      "source": [
        "### XOR Gate, 배타적 논리합\n",
        "\n",
        "* x1과 x2 중 한 쪽이 1일 때만 1을 출력\n",
        "```\n",
        "(0, 0) (0, 1) (1, 0) (1, 1)\n",
        "   0,     1,     1,     0\n",
        "```\n",
        "* 다층 구조의 네트워크 즉, 2층 퍼셉트론 = 다층 퍼셉트론\n",
        "* 0층의 두 뉴런이 신호를 받아 1층 뉴런으로 신호를 보내고, 1층 뉴런이 2층 뉴런으로 신호를 보내고, 2층의 뉴런은 y를 출력"
      ]
    },
    {
      "cell_type": "code",
      "execution_count": null,
      "id": "28501c50",
      "metadata": {
        "id": "28501c50"
      },
      "outputs": [],
      "source": [
        "def XOR(x1, x2):\n",
        "    s1 = NAND(x1, x2)\n",
        "    s2 = OR(x1, x2)\n",
        "    y = AND(s1, s2)\n",
        "    return y"
      ]
    },
    {
      "cell_type": "code",
      "execution_count": null,
      "id": "89cedfb8",
      "metadata": {
        "id": "89cedfb8",
        "outputId": "0feff926-b3fa-4227-8287-5fc6c912ad8d"
      },
      "outputs": [
        {
          "data": {
            "text/plain": [
              "0"
            ]
          },
          "execution_count": 13,
          "metadata": {},
          "output_type": "execute_result"
        }
      ],
      "source": [
        "XOR(0, 0)"
      ]
    },
    {
      "cell_type": "code",
      "execution_count": null,
      "id": "ef838079",
      "metadata": {
        "id": "ef838079",
        "outputId": "f664cb04-bebc-45c0-8014-c31afe84e538"
      },
      "outputs": [
        {
          "data": {
            "text/plain": [
              "1"
            ]
          },
          "execution_count": 14,
          "metadata": {},
          "output_type": "execute_result"
        }
      ],
      "source": [
        "XOR(1, 0)"
      ]
    },
    {
      "cell_type": "code",
      "execution_count": null,
      "id": "d9bc2da0",
      "metadata": {
        "id": "d9bc2da0",
        "outputId": "b350a580-1aef-4757-9bab-7f87a3917c0c"
      },
      "outputs": [
        {
          "data": {
            "text/plain": [
              "1"
            ]
          },
          "execution_count": 15,
          "metadata": {},
          "output_type": "execute_result"
        }
      ],
      "source": [
        "XOR(0, 1)"
      ]
    },
    {
      "cell_type": "code",
      "execution_count": null,
      "id": "327f38af",
      "metadata": {
        "id": "327f38af",
        "outputId": "8207b8b5-fb27-4462-d284-56db881fe658"
      },
      "outputs": [
        {
          "data": {
            "text/plain": [
              "0"
            ]
          },
          "execution_count": 16,
          "metadata": {},
          "output_type": "execute_result"
        }
      ],
      "source": [
        "XOR(1, 1)"
      ]
    },
    {
      "cell_type": "markdown",
      "id": "265d9adc",
      "metadata": {
        "id": "265d9adc"
      },
      "source": [
        "## Neural Network, NN\n",
        "\n",
        "* b(bias)는 편향을 나타내는 매개변수로, 뉴런이 (얼마나 쉽게) 활성화 되느냐를 판단/조절하는 역할!\n",
        "* **퍼셉트론은 계단 함수**를 활성화 함수로 사용한 모델이고, **신경망은 Sigmoid 함수와 ReLU 함수**를 활성화 함수로 사용한 모델.\n",
        "* 퍼셉트론에서는 뉴런 사이에 0 또는 1이 흘렀다면, 신경망에서는 연속적인 실수가 흐름.\n",
        "* 계단 함수와 시그모이드 함수는 **비선형 함수**이며, 출력은 0과 1 사이에 있음.\n",
        "* **ReLU 함수**는 입력(x)이 0을 넘으면 그 입력(x)을 출력하고, 0 이하이면 0을 출력함.\n",
        "* 출력층의 활성화 함수는 풀고자 하는 문제의 성질에 맞게 정함. 즉, **회귀는 Identify 함수, 2 Class 분류는 Sigmoid 함수, 다중 분류는 Softmax 함수**."
      ]
    },
    {
      "cell_type": "markdown",
      "id": "359bc8e9",
      "metadata": {
        "id": "359bc8e9"
      },
      "source": [
        "### Step Function\n",
        "\n",
        "* 0을 경계로 출력이 변화."
      ]
    },
    {
      "cell_type": "code",
      "execution_count": null,
      "id": "fb76fd7a",
      "metadata": {
        "id": "fb76fd7a"
      },
      "outputs": [],
      "source": [
        "def step_function(x):\n",
        "    if x > 0:\n",
        "        return 1\n",
        "    else:\n",
        "        return 0\n",
        "\n",
        "    y = x > 0\n",
        "    return y.astype(np.int)"
      ]
    },
    {
      "cell_type": "code",
      "execution_count": null,
      "id": "9ed7dbb6",
      "metadata": {
        "id": "9ed7dbb6"
      },
      "outputs": [],
      "source": [
        "import numpy as np"
      ]
    },
    {
      "cell_type": "code",
      "execution_count": null,
      "id": "dfefd3d4",
      "metadata": {
        "id": "dfefd3d4",
        "outputId": "acf97c2a-04c0-4c5f-fe24-94fa04e47891"
      },
      "outputs": [
        {
          "data": {
            "text/plain": [
              "array([-1.,  1.,  2.])"
            ]
          },
          "execution_count": 19,
          "metadata": {},
          "output_type": "execute_result"
        }
      ],
      "source": [
        "x = np.array([-1.0, 1.0, 2.0])\n",
        "x"
      ]
    },
    {
      "cell_type": "code",
      "execution_count": null,
      "id": "1cadfede",
      "metadata": {
        "id": "1cadfede",
        "outputId": "d0426955-0b28-488a-93f1-1c2450c19158"
      },
      "outputs": [
        {
          "data": {
            "text/plain": [
              "array([False,  True,  True])"
            ]
          },
          "execution_count": 20,
          "metadata": {},
          "output_type": "execute_result"
        }
      ],
      "source": [
        "y = x >0\n",
        "y"
      ]
    },
    {
      "cell_type": "code",
      "execution_count": null,
      "id": "879c14c2",
      "metadata": {
        "id": "879c14c2",
        "outputId": "6c749157-9746-48bc-f84e-e1f8f9e8e46a"
      },
      "outputs": [
        {
          "data": {
            "text/plain": [
              "array([0, 1, 1])"
            ]
          },
          "execution_count": 21,
          "metadata": {},
          "output_type": "execute_result"
        }
      ],
      "source": [
        "y = y.astype(int)\n",
        "y"
      ]
    },
    {
      "cell_type": "code",
      "execution_count": null,
      "id": "3407f1ab",
      "metadata": {
        "id": "3407f1ab",
        "outputId": "bbcc21d3-23ba-46ff-ca88-3242f0982ab4"
      },
      "outputs": [
        {
          "data": {
            "image/png": "[encoded data removed]",
            "text/plain": [
              "<Figure size 432x288 with 1 Axes>"
            ]
          },
          "metadata": {
            "needs_background": "light"
          },
          "output_type": "display_data"
        }
      ],
      "source": [
        "import matplotlib.pylab as plt\n",
        "\n",
        "def step_function(x):\n",
        "    return np.array(x > 0, dtype=int)\n",
        "\n",
        "x = np.arange(-5.0, 5.0, 0.1)\n",
        "y = step_function(x)\n",
        "plt.plot(x, y)\n",
        "plt.ylim(-0.1, 1.1)\n",
        "plt.show()"
      ]
    },
    {
      "cell_type": "markdown",
      "id": "b73ab89a",
      "metadata": {
        "id": "b73ab89a"
      },
      "source": [
        "### Sigmoid Function\n",
        "\n",
        "* 부드러운 곡선으로 표현되며, 입력에 따라 출력이 연손적으로 변화."
      ]
    },
    {
      "cell_type": "code",
      "execution_count": null,
      "id": "741852dd",
      "metadata": {
        "id": "741852dd"
      },
      "outputs": [],
      "source": [
        "def sigmoid(x):\n",
        "    return 1 / (1 + np.exp(-x))"
      ]
    },
    {
      "cell_type": "code",
      "execution_count": null,
      "id": "3643005e",
      "metadata": {
        "id": "3643005e",
        "outputId": "ebf5f25f-50f4-401e-9960-54ad76f422a3"
      },
      "outputs": [
        {
          "data": {
            "text/plain": [
              "array([0.26894142, 0.73105858, 0.88079708])"
            ]
          },
          "execution_count": 24,
          "metadata": {},
          "output_type": "execute_result"
        }
      ],
      "source": [
        "x = np.array([-1.0, 1.0, 2.0])\n",
        "sigmoid(x)"
      ]
    },
    {
      "cell_type": "code",
      "execution_count": null,
      "id": "8e670d38",
      "metadata": {
        "id": "8e670d38",
        "outputId": "f63fff94-3908-4add-c43e-6c5c9522e7cb"
      },
      "outputs": [
        {
          "data": {
            "text/plain": [
              "array([2., 3., 4.])"
            ]
          },
          "execution_count": 25,
          "metadata": {},
          "output_type": "execute_result"
        }
      ],
      "source": [
        "t = np.array([1.0, 2.0, 3.0])\n",
        "1.0 + t"
      ]
    },
    {
      "cell_type": "code",
      "execution_count": null,
      "id": "3701967c",
      "metadata": {
        "id": "3701967c",
        "outputId": "270f32c1-a231-41f2-a0df-849f345e3c3b"
      },
      "outputs": [
        {
          "data": {
            "text/plain": [
              "array([1.        , 0.5       , 0.33333333])"
            ]
          },
          "execution_count": 26,
          "metadata": {},
          "output_type": "execute_result"
        }
      ],
      "source": [
        "1.0 / t"
      ]
    },
    {
      "cell_type": "code",
      "execution_count": null,
      "id": "96d3b529",
      "metadata": {
        "id": "96d3b529",
        "outputId": "2389683a-1733-4466-d777-b72f9b5743ec"
      },
      "outputs": [
        {
          "data": {
            "text/plain": [
              "<function matplotlib.pyplot.show(close=None, block=None)>"
            ]
          },
          "execution_count": 27,
          "metadata": {},
          "output_type": "execute_result"
        },
        {
          "data": {
            "image/png": "[encoded data removed]",
            "text/plain": [
              "<Figure size 432x288 with 1 Axes>"
            ]
          },
          "metadata": {
            "needs_background": "light"
          },
          "output_type": "display_data"
        }
      ],
      "source": [
        "x = np.arange(-5.0, 5.0, 0.1)\n",
        "y = sigmoid(x)\n",
        "plt.plot(x, y)\n",
        "plt.ylim(-0.1, 1.1)\n",
        "plt.show"
      ]
    },
    {
      "cell_type": "markdown",
      "id": "a3fc9efb",
      "metadata": {
        "id": "a3fc9efb"
      },
      "source": [
        "### ReLU, Rectified Linear Unit Function\n",
        "\n",
        "* 입력(x)이 0을 넘으면 그 입력(x)을 그대로 출력하고, 0 이하이면 0을 출력."
      ]
    },
    {
      "cell_type": "code",
      "execution_count": null,
      "id": "77dfb39d",
      "metadata": {
        "id": "77dfb39d"
      },
      "outputs": [],
      "source": [
        "def relu(x):\n",
        "    return np.maximum(0, x)"
      ]
    },
    {
      "cell_type": "code",
      "execution_count": null,
      "id": "c8457b04",
      "metadata": {
        "id": "c8457b04",
        "outputId": "9ece9986-5984-4c63-ea31-b68f7822023b"
      },
      "outputs": [
        {
          "data": {
            "text/plain": [
              "<function matplotlib.pyplot.show(close=None, block=None)>"
            ]
          },
          "execution_count": 29,
          "metadata": {},
          "output_type": "execute_result"
        },
        {
          "data": {
            "image/png": "[encoded data removed]",
            "text/plain": [
              "<Figure size 432x288 with 1 Axes>"
            ]
          },
          "metadata": {
            "needs_background": "light"
          },
          "output_type": "display_data"
        }
      ],
      "source": [
        "x = np.arange(-5.0, 5.0, 0.1)\n",
        "y = relu(x)\n",
        "plt.plot(x, y)\n",
        "plt.show"
      ]
    },
    {
      "cell_type": "markdown",
      "id": "ed67c264",
      "metadata": {
        "id": "ed67c264"
      },
      "source": [
        "## 행렬의 내적과 연산\n",
        "\n",
        "* 행렬의 형상(Shape) 즉, 차원의 원소 수가 같아야 연산이 가능함.\n",
        "* 행렬 A(`3`x2)와 행렬 B(2x`4`)의 연산 결과인 C행렬(`3x4`)의 형상은 A행렬의 행 수와 B행렬의 열 수가 됨."
      ]
    },
    {
      "cell_type": "code",
      "execution_count": null,
      "id": "c17693f7",
      "metadata": {
        "id": "c17693f7",
        "outputId": "ecec8aa9-08af-43c1-eb31-284944883cf6"
      },
      "outputs": [
        {
          "data": {
            "text/plain": [
              "(2,)"
            ]
          },
          "execution_count": 30,
          "metadata": {},
          "output_type": "execute_result"
        }
      ],
      "source": [
        "X = np.array([1, 2])\n",
        "X.shape"
      ]
    },
    {
      "cell_type": "code",
      "execution_count": null,
      "id": "dcf048fd",
      "metadata": {
        "id": "dcf048fd",
        "outputId": "7dbc412a-7ea1-4aaf-f8b7-3b80415904a7"
      },
      "outputs": [
        {
          "name": "stdout",
          "output_type": "stream",
          "text": [
            "[[1 3 5]\n",
            " [2 4 6]]\n"
          ]
        }
      ],
      "source": [
        "W = np.array([[1, 3, 5], [2, 4, 6]])\n",
        "print(W)"
      ]
    },
    {
      "cell_type": "code",
      "execution_count": null,
      "id": "ad5668c3",
      "metadata": {
        "id": "ad5668c3",
        "outputId": "59176ecd-44fd-48b1-d93a-930bb8fb6a82"
      },
      "outputs": [
        {
          "data": {
            "text/plain": [
              "(2, 3)"
            ]
          },
          "execution_count": 32,
          "metadata": {},
          "output_type": "execute_result"
        }
      ],
      "source": [
        "W.shape"
      ]
    },
    {
      "cell_type": "code",
      "execution_count": null,
      "id": "2645504a",
      "metadata": {
        "id": "2645504a",
        "outputId": "b08497e8-e9d9-4d78-e5ae-1d46f98b7c82"
      },
      "outputs": [
        {
          "name": "stdout",
          "output_type": "stream",
          "text": [
            "[ 5 11 17]\n"
          ]
        }
      ],
      "source": [
        "Y = np.dot(X, W)\n",
        "print(Y)"
      ]
    },
    {
      "cell_type": "markdown",
      "id": "8e4d4969",
      "metadata": {
        "id": "8e4d4969"
      },
      "source": [
        "### 3층 신경망의 신호 전달 과정"
      ]
    },
    {
      "cell_type": "code",
      "execution_count": null,
      "id": "5a98780e",
      "metadata": {
        "id": "5a98780e",
        "outputId": "887e8c06-1cd4-4f2d-b9fc-7ee5811cc2da"
      },
      "outputs": [
        {
          "name": "stdout",
          "output_type": "stream",
          "text": [
            "(2,)\n",
            "(2, 3)\n",
            "(3,)\n"
          ]
        }
      ],
      "source": [
        "# 입력 신호(X), 가중치(W), 편향(B) 설정하기\n",
        "X = np.array([1.0, 0.5])\n",
        "W1 = np.array([[0.1, 0.3, 0.5], [0.2, 0.4, 0.6]])\n",
        "B1 = np.array([0.1, 0.2, 0.3])\n",
        "\n",
        "print(X.shape)\n",
        "print(W1.shape)\n",
        "print(B1.shape)\n",
        "\n",
        "A1 = np.dot(X, W1) + B1"
      ]
    },
    {
      "cell_type": "code",
      "execution_count": null,
      "id": "73a36f62",
      "metadata": {
        "id": "73a36f62",
        "outputId": "baf1970a-a2ca-4d91-eb63-2bbdb7e2e2cf"
      },
      "outputs": [
        {
          "name": "stdout",
          "output_type": "stream",
          "text": [
            "[0.3 0.7 1.1]\n",
            "[0.57444252 0.66818777 0.75026011]\n"
          ]
        }
      ],
      "source": [
        "# 입력층에서 1층(은닉1)으로 신호 전달\n",
        "Z1 = sigmoid(A1)\n",
        "\n",
        "print(A1)\n",
        "print(Z1)"
      ]
    },
    {
      "cell_type": "code",
      "execution_count": null,
      "id": "cea6e3e6",
      "metadata": {
        "id": "cea6e3e6",
        "outputId": "63b17833-b473-42d4-87b0-990f8b294de4"
      },
      "outputs": [
        {
          "name": "stdout",
          "output_type": "stream",
          "text": [
            "(3,)\n",
            "(3, 2)\n",
            "(2,)\n"
          ]
        }
      ],
      "source": [
        "# 1층(은닉1)에서 2층(은닉2)으로 신호 전달\n",
        "\n",
        "W2 = np.array([[0.1, 0.4], [0.2, 0.5], [0.3, 0.6]])\n",
        "B2 = np.array([0.1, 0.2])\n",
        "\n",
        "print(Z1.shape)\n",
        "print(W2.shape)\n",
        "print(B2.shape)\n",
        "\n",
        "A2 = np.dot(Z1, W2) + B2\n",
        "Z2 = sigmoid(A2)"
      ]
    },
    {
      "cell_type": "code",
      "execution_count": null,
      "id": "c9d77bda",
      "metadata": {
        "id": "c9d77bda"
      },
      "outputs": [],
      "source": [
        "# 2층(은닉2)에서 출력층(3층)으로 신호 전달\n",
        "\n",
        "def identify_function(x):\n",
        "    return x\n",
        "\n",
        "W3 = np.array([[0.1, 0.3], [0.2, 0.4]])\n",
        "B3 = np.array([0.1, 0.2])\n",
        "\n",
        "A3 = np.dot(Z2, W3) + B3\n",
        "Y = identify_function(A3)"
      ]
    },
    {
      "cell_type": "markdown",
      "id": "e3dedb35",
      "metadata": {
        "id": "e3dedb35"
      },
      "source": [
        "### 출력층 설계하기\n",
        "\n",
        "* 출력층의 활성화 함수는 풀고자 하는 문제의 성질에 맞게 정함.\n",
        "* 회귀는 Identify 함수, 2 Class 분류는 Sigmoid 함수, 다중 분류는 Softmax 함수."
      ]
    },
    {
      "cell_type": "markdown",
      "id": "8b04243a",
      "metadata": {
        "id": "8b04243a"
      },
      "source": [
        "### 항등 함수를 활용한 신경망의 순방향 신호 전달 과정"
      ]
    },
    {
      "cell_type": "code",
      "execution_count": null,
      "id": "8b5914e3",
      "metadata": {
        "id": "8b5914e3",
        "outputId": "d8e33ef9-4f32-4416-fb33-3ca2e3fde675"
      },
      "outputs": [
        {
          "name": "stdout",
          "output_type": "stream",
          "text": [
            "[0.31682708 0.69627909]\n"
          ]
        }
      ],
      "source": [
        "def sigmoid(x):\n",
        "    return 1 / (1 + np.exp(-x))\n",
        "\n",
        "def identity_function(x):\n",
        "    return x\n",
        "\n",
        "def init_network():\n",
        "    network = {}\n",
        "    network['W1'] = np.array([[0.1, 0.3, 0.5], [0.2, 0.4, 0.6]])\n",
        "    network['b1'] = np.array([0.1, 0.2, 0.3])\n",
        "    network['W2'] = np.array([[0.1, 0.4], [0.2, 0.5], [0.3, 0.6]])\n",
        "    network['b2'] = np.array([0.1, 0.2])\n",
        "    network['W3'] = np.array([[0.1, 0.3], [0.2, 0.4]])\n",
        "    network['b3'] = np.array([0.1, 0.2])\n",
        "\n",
        "    return network\n",
        "\n",
        "def forward(network, x):\n",
        "    W1, W2, W3 = network['W1'], network['W2'], network['W3']\n",
        "    b1, b2, b3 = network['b1'], network['b2'], network['b3']\n",
        "\n",
        "    a1 = np.dot(x, W1) + b1\n",
        "    z1 = sigmoid(a1)\n",
        "    a2 = np.dot(z1, W2) + b2\n",
        "    z2 = sigmoid(a2)\n",
        "    a3 = np.dot(z2, W3) + b3\n",
        "    y = identity_function(a3)\n",
        "\n",
        "    return y\n",
        "\n",
        "network = init_network()\n",
        "x = np.array([1.0, 0.5])\n",
        "y = forward(network, x)\n",
        "print(y)"
      ]
    },
    {
      "cell_type": "markdown",
      "id": "e7eecf6d",
      "metadata": {
        "id": "e7eecf6d"
      },
      "source": [
        "### 소프트맥스 함수\n",
        "\n",
        "* 모든 신호로부터 받은 값을 연산하여 출력하고, 출력은 0과 1사이의 실수.\n",
        "* 출력의 총합은 1이며, 함수의 출력값을 확률로 해석할 수 있음."
      ]
    },
    {
      "cell_type": "code",
      "execution_count": null,
      "id": "754652db",
      "metadata": {
        "id": "754652db",
        "outputId": "137c3fd1-bcaa-4a68-f05b-4a7574e55a51"
      },
      "outputs": [
        {
          "name": "stdout",
          "output_type": "stream",
          "text": [
            "[ 1.34985881 18.17414537 54.59815003]\n"
          ]
        }
      ],
      "source": [
        "a = np.array([0.3, 2.9, 4.0])\n",
        "\n",
        "exp_a = np.exp(a)\n",
        "print(exp_a)"
      ]
    },
    {
      "cell_type": "code",
      "execution_count": null,
      "id": "67a63602",
      "metadata": {
        "id": "67a63602",
        "outputId": "102758c7-8023-4af9-ad4b-6d3f310bf482"
      },
      "outputs": [
        {
          "name": "stdout",
          "output_type": "stream",
          "text": [
            "74.1221542101633\n"
          ]
        }
      ],
      "source": [
        "sum_exp_a = np.sum(exp_a)\n",
        "print(sum_exp_a)"
      ]
    },
    {
      "cell_type": "code",
      "execution_count": null,
      "id": "73e0ef9a",
      "metadata": {
        "id": "73e0ef9a",
        "outputId": "3ca71f62-32e5-4d77-8949-1bca1af465c7"
      },
      "outputs": [
        {
          "name": "stdout",
          "output_type": "stream",
          "text": [
            "[0.01821127 0.24519181 0.73659691]\n"
          ]
        }
      ],
      "source": [
        "y = exp_a / sum_exp_a\n",
        "print(y)"
      ]
    },
    {
      "cell_type": "code",
      "execution_count": null,
      "id": "d8591983",
      "metadata": {
        "id": "d8591983"
      },
      "outputs": [],
      "source": [
        "def softmax(a):\n",
        "    exp_a = np.exp(a)\n",
        "    sum_exp_a = np.sum(exp_a)\n",
        "    y = exp_a / sum_exp_a\n",
        "\n",
        "    return y"
      ]
    },
    {
      "cell_type": "markdown",
      "id": "fe06634f",
      "metadata": {
        "id": "fe06634f"
      },
      "source": [
        "### Overflow\n",
        "\n",
        ">`Softmax 함수`는 `지수 함수 exp(x)`를  사용하는데, 지수 함수는 쉽게 아주 큰 값을 연산할 수 있습니다.  \n",
        "즉, 무한대의 값을 연산하는 루프가 될 수 있어요.  그렇기에 나눗셈을 지속할수록 수치가 불안정해집니다. 이러한 오류를 `오버플로` 라고 합니다.  \n",
        "오버플로를 해결하기 위해서는 지수 함수에 입력 신호 중 최대값인 임의의 정수(C')를 연산에 더하거나 빼는 방법을 사용할 수 있습니다!"
      ]
    },
    {
      "cell_type": "code",
      "execution_count": null,
      "id": "36c50fac",
      "metadata": {
        "id": "36c50fac",
        "outputId": "328df836-36b3-4914-f660-07ac1d8f6e50"
      },
      "outputs": [
        {
          "name": "stderr",
          "output_type": "stream",
          "text": [
            "/tmp/ipykernel_31/832863605.py:2: RuntimeWarning: overflow encountered in exp\n",
            "  np.exp(a) / np.sum(np.exp(a))\n",
            "/tmp/ipykernel_31/832863605.py:2: RuntimeWarning: invalid value encountered in true_divide\n",
            "  np.exp(a) / np.sum(np.exp(a))\n"
          ]
        },
        {
          "data": {
            "text/plain": [
              "array([nan, nan, nan])"
            ]
          },
          "execution_count": 60,
          "metadata": {},
          "output_type": "execute_result"
        }
      ],
      "source": [
        "a = np.array([1010, 1000, 990])\n",
        "np.exp(a) / np.sum(np.exp(a))"
      ]
    },
    {
      "cell_type": "code",
      "execution_count": null,
      "id": "4ed3cc17",
      "metadata": {
        "id": "4ed3cc17",
        "outputId": "9babe5c0-a13f-4aef-e92c-334d157b1687"
      },
      "outputs": [
        {
          "data": {
            "text/plain": [
              "array([  0, -10, -20])"
            ]
          },
          "execution_count": 61,
          "metadata": {},
          "output_type": "execute_result"
        }
      ],
      "source": [
        "c = np.max(a)\n",
        "a - c"
      ]
    },
    {
      "cell_type": "code",
      "execution_count": null,
      "id": "1ab3019e",
      "metadata": {
        "id": "1ab3019e",
        "outputId": "75a5bb6d-d091-482b-93c0-1a218c9e9a35"
      },
      "outputs": [
        {
          "data": {
            "text/plain": [
              "array([9.99954600e-01, 4.53978686e-05, 2.06106005e-09])"
            ]
          },
          "execution_count": 62,
          "metadata": {},
          "output_type": "execute_result"
        }
      ],
      "source": [
        "np.exp(a - c) / np.sum(np.exp(a - c))"
      ]
    },
    {
      "cell_type": "markdown",
      "id": "a9872c68",
      "metadata": {
        "id": "a9872c68"
      },
      "source": [
        "### 소프트맥스 함수를 활용한 신경망의 신호 전달 과정"
      ]
    },
    {
      "cell_type": "code",
      "execution_count": null,
      "id": "895f8550",
      "metadata": {
        "id": "895f8550"
      },
      "outputs": [],
      "source": [
        "def softmax(a):\n",
        "    # c = np.max(a - c)\n",
        "    exp_a = np.exp(a)\n",
        "    sum_exp_a = np.sum(exp_a)\n",
        "    y = exp_a / sum_exp_a\n",
        "\n",
        "    return y"
      ]
    },
    {
      "cell_type": "code",
      "execution_count": null,
      "id": "19abcca8",
      "metadata": {
        "id": "19abcca8",
        "outputId": "657b3b7d-89da-4609-820e-157328c73d16"
      },
      "outputs": [
        {
          "name": "stdout",
          "output_type": "stream",
          "text": [
            "[0.01821127 0.24519181 0.73659691]\n"
          ]
        }
      ],
      "source": [
        "a = np.array([0.3, 2.9, 4.0])\n",
        "y = softmax(a)\n",
        "print(y)"
      ]
    },
    {
      "cell_type": "code",
      "execution_count": null,
      "id": "935e7906",
      "metadata": {
        "id": "935e7906",
        "outputId": "31568636-c5bc-4f49-d23c-9e9984d22f06"
      },
      "outputs": [
        {
          "data": {
            "text/plain": [
              "1.0"
            ]
          },
          "execution_count": 67,
          "metadata": {},
          "output_type": "execute_result"
        }
      ],
      "source": [
        "np.sum(y)"
      ]
    },
    {
      "cell_type": "markdown",
      "id": "b11f37c1",
      "metadata": {
        "id": "b11f37c1"
      },
      "source": [
        "### MNIST 활용"
      ]
    },
    {
      "cell_type": "code",
      "execution_count": null,
      "id": "bd7d46c2",
      "metadata": {
        "id": "bd7d46c2"
      },
      "outputs": [],
      "source": [
        "# Lib\n",
        "import tensorflow as tf\n",
        "import matplotlib.pyplot as plt\n",
        "from tensorflow.keras.layers import Flatten, Dense\n",
        "from tensorflow.keras.models import Sequential\n",
        "from PIL import Image\n",
        "import numpy as np\n",
        "\n",
        "# Dataset\n",
        "mnist = tf.keras.datasets.mnist\n",
        "(X_train, y_train), (X_test, y_test) = mnist.load_data()"
      ]
    },
    {
      "cell_type": "code",
      "execution_count": null,
      "id": "afaa8421",
      "metadata": {
        "id": "afaa8421",
        "outputId": "68ca63dd-3bc5-4860-c415-2f8ce952691d"
      },
      "outputs": [
        {
          "name": "stdout",
          "output_type": "stream",
          "text": [
            "5\n"
          ]
        },
        {
          "data": {
            "image/png": "[encoded data removed]",
            "text/plain": [
              "<PIL.Image.Image image mode=L size=28x28 at 0x7F3ED89ED4F0>"
            ]
          },
          "metadata": {},
          "output_type": "display_data"
        }
      ],
      "source": [
        "import numpy as np\n",
        "\n",
        "def img_show(img):\n",
        "    pil_img = Image.fromarray(np.uint8(img))\n",
        "    pil_img.show()\n",
        "\n",
        "model = Sequential([\n",
        "            Flatten(input_shape=(28, 28)),\n",
        "            Dense(256, activation='relu'),\n",
        "            Dense(units=10, activation='softmax')])\n",
        "\n",
        "img = X_train[0]\n",
        "label = y_train[0]\n",
        "print(label)\n",
        "\n",
        "img_show(img)"
      ]
    },
    {
      "cell_type": "code",
      "execution_count": null,
      "id": "9aebd5ed",
      "metadata": {
        "id": "9aebd5ed"
      },
      "outputs": [],
      "source": [
        "# 신경망의 추론 처리를 위해 세 함수인 get_data(), init_network(), predict() 정의하기\n",
        "\n",
        "def get_data():\n",
        "    (X_train, y_train), (X_test, y_test) = mnist.load_data()\n",
        "    X_test = X_test.reshape(X_test.shape[0], -1)\n",
        "    X_test = X_test.astype(np.float32)\n",
        "    X_test /= 255.0\n",
        "    return X_test, y_test\n",
        "\n",
        "def sigmoid(x):\n",
        "    return 1 / (1 + np.exp(-x))\n",
        "\n",
        "def identity_function(x):\n",
        "    return x\n",
        "\n",
        "def init_network():\n",
        "    network = {}\n",
        "\n",
        "    network['W1'] = np.random.rand(784, 50)\n",
        "    network['b1'] = np.random.rand(50)\n",
        "    network['W2'] = np.random.rand(50, 100)\n",
        "    network['b2'] = np.random.rand(100)\n",
        "    network['W3'] = np.random.rand(100, 10)\n",
        "    network['b3'] = np.random.rand(10)\n",
        "\n",
        "    return network\n",
        "\n",
        "def predict(network, x):\n",
        "    W1, W2, W3 = network['W1'], network['W2'], network['W3']\n",
        "    b1, b2, b3 = network['b1'], network['b2'], network['b3']\n",
        "\n",
        "    a1 = np.dot(x, W1) + b1\n",
        "    z1 = sigmoid(a1)\n",
        "    a2 = np.dot(z1, W2) + b2\n",
        "    z2 = sigmoid(a2)\n",
        "    a3 = np.dot(z2, W3) + b3\n",
        "    y = identity_function(a3)\n",
        "\n",
        "    return y"
      ]
    },
    {
      "cell_type": "code",
      "execution_count": null,
      "id": "fe2de980",
      "metadata": {
        "scrolled": true,
        "id": "fe2de980",
        "outputId": "0a78a4d8-b0c2-4a16-876f-8d9e9aa67782"
      },
      "outputs": [
        {
          "name": "stdout",
          "output_type": "stream",
          "text": [
            "Accuracy: 0.101\n"
          ]
        }
      ],
      "source": [
        "X, y = get_data()\n",
        "network = init_network()\n",
        "accuracy_cnt = 0\n",
        "\n",
        "for i in range(len(X)):\n",
        "    y_pred = predict(network, X[i])\n",
        "    p = np.argmax(y_pred)\n",
        "    if p == y[i]:\n",
        "        accuracy_cnt += 1\n",
        "\n",
        "X = X.reshape(-1, 28, 28)\n",
        "\n",
        "accuracy = float(accuracy_cnt) / len(X)\n",
        "print(\"Accuracy: \" + str(accuracy))"
      ]
    },
    {
      "cell_type": "markdown",
      "id": "3b96263c",
      "metadata": {
        "id": "3b96263c"
      },
      "source": [
        "### 배치 처리\n",
        "\n",
        "* `배치 Batch` 하나로 묶은 입력 데이터를 의미합니다."
      ]
    },
    {
      "cell_type": "code",
      "execution_count": null,
      "id": "c4b65b91",
      "metadata": {
        "id": "c4b65b91",
        "outputId": "4e67bcfa-2d3e-477a-f91d-953ad404e9c3"
      },
      "outputs": [
        {
          "data": {
            "text/plain": [
              "(10000, 784)"
            ]
          },
          "execution_count": 65,
          "metadata": {},
          "output_type": "execute_result"
        }
      ],
      "source": [
        "X, _ = get_data()\n",
        "network = init_network()\n",
        "W1, W2, W3 = network['W1'], network['W2'], network['W3']\n",
        "\n",
        "X.shape"
      ]
    },
    {
      "cell_type": "code",
      "execution_count": null,
      "id": "721e9d76",
      "metadata": {
        "id": "721e9d76",
        "outputId": "fc170555-7326-41e7-8c9b-6eba3d7df8e2"
      },
      "outputs": [
        {
          "data": {
            "text/plain": [
              "(784,)"
            ]
          },
          "execution_count": 66,
          "metadata": {},
          "output_type": "execute_result"
        }
      ],
      "source": [
        "X[0].shape"
      ]
    },
    {
      "cell_type": "code",
      "execution_count": null,
      "id": "79c7d5ee",
      "metadata": {
        "id": "79c7d5ee",
        "outputId": "6ad91886-b7fe-4b3d-aa71-63bfd9ba8d58"
      },
      "outputs": [
        {
          "data": {
            "text/plain": [
              "(784, 50)"
            ]
          },
          "execution_count": 67,
          "metadata": {},
          "output_type": "execute_result"
        }
      ],
      "source": [
        "W1.shape"
      ]
    },
    {
      "cell_type": "code",
      "execution_count": null,
      "id": "2cf61e24",
      "metadata": {
        "id": "2cf61e24",
        "outputId": "e810cf3c-ae7b-4c56-a232-9eb49dcc30c7"
      },
      "outputs": [
        {
          "data": {
            "text/plain": [
              "(50, 100)"
            ]
          },
          "execution_count": 68,
          "metadata": {},
          "output_type": "execute_result"
        }
      ],
      "source": [
        "W2.shape"
      ]
    },
    {
      "cell_type": "code",
      "execution_count": null,
      "id": "610d3286",
      "metadata": {
        "id": "610d3286",
        "outputId": "c15b37f3-4f08-4d88-95df-3641b68a6668"
      },
      "outputs": [
        {
          "data": {
            "text/plain": [
              "(100, 10)"
            ]
          },
          "execution_count": 69,
          "metadata": {},
          "output_type": "execute_result"
        }
      ],
      "source": [
        "W3.shape"
      ]
    },
    {
      "cell_type": "code",
      "execution_count": null,
      "id": "02f12c80",
      "metadata": {
        "id": "02f12c80",
        "outputId": "628be531-49a8-4ef4-b37e-387bdcc3b8e4"
      },
      "outputs": [
        {
          "name": "stdout",
          "output_type": "stream",
          "text": [
            "Accuracy: 0.0982\n"
          ]
        }
      ],
      "source": [
        "X, y = get_data()\n",
        "network = init_network()\n",
        "\n",
        "batch_size = 100\n",
        "accuracy_cnt = 0\n",
        "\n",
        "for i in range(0, len(X), batch_size):\n",
        "    x_batch = X[i:i+batch_size]\n",
        "    y_batch = predict(network, x_batch)\n",
        "    p = np.argmax(y_batch, axis=1)\n",
        "    accuracy_cnt += np.sum(p == y[i:i+batch_size])\n",
        "\n",
        "accuracy = float(accuracy_cnt) / len(X)\n",
        "print(\"Accuracy: \" + str(accuracy))"
      ]
    }
  ],
  "metadata": {
    "kernelspec": {
      "display_name": "Python 3 (ipykernel)",
      "language": "python",
      "name": "python3"
    },
    "language_info": {
      "codemirror_mode": {
        "name": "ipython",
        "version": 3
      },
      "file_extension": ".py",
      "mimetype": "text/x-python",
      "name": "python",
      "nbconvert_exporter": "python",
      "pygments_lexer": "ipython3",
      "version": "3.9.7"
    },
    "colab": {
      "provenance": [],
      "include_colab_link": true
    }
  },
  "nbformat": 4,
  "nbformat_minor": 5
}