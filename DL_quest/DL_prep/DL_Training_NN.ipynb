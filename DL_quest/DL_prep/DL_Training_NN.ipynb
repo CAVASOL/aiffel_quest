{
  "cells": [
    {
      "cell_type": "markdown",
      "metadata": {
        "id": "view-in-github",
        "colab_type": "text"
      },
      "source": [
        "<a href=\"https://colab.research.google.com/github/CAVASOL/aiffel_quest/blob/main/DL_quest/DL_prep/DL_Training_NN.ipynb\" target=\"_parent\"><img src=\"https://colab.research.google.com/assets/colab-badge.svg\" alt=\"Open In Colab\"/></a>"
      ]
    },
    {
      "cell_type": "markdown",
      "id": "00007eec",
      "metadata": {
        "id": "00007eec"
      },
      "source": [
        "## How do we ‘train’ neural networks ?\n",
        "\n",
        "### 4-1. 데이터 주도 학습\n",
        "\n",
        "* 신경망의 특징은 데이터를 보고 학습할 수 있다는 것! 즉, 가중치 매개변수의 값인 데이터를 보고 자동으로 결정한다.\n",
        "* 신경망에서 이미지의 특징은 보통 벡터로 기술하고, CV 분야에서는 SIFT, SURF, HOG 등으로 기술함.\n",
        "* 가중치 매개변수를 갱신할 때는 가중치 매개변수의 기울기를 이용하고, 기울어진 방향으로 가중치의 값을 갱신하는 작업을 반복."
      ]
    },
    {
      "cell_type": "markdown",
      "id": "3631ac9c",
      "metadata": {
        "id": "3631ac9c"
      },
      "source": [
        "### 4-2. Loss Function\n",
        "\n",
        "* 손실 함수는 신경망 성능의 '나쁨'을 나타내는 하나의 지표.\n",
        "* 신경망 학습의 목표는 손실 함수의 결과값을 가장 작게 만드는 가중치 매개변수를 찾는 것입니다."
      ]
    },
    {
      "cell_type": "markdown",
      "id": "3ae3aa8b",
      "metadata": {
        "id": "3ae3aa8b"
      },
      "source": [
        "**오차제곱값 Sum of squares for errors, SSE**"
      ]
    },
    {
      "cell_type": "code",
      "execution_count": null,
      "id": "8039ea53",
      "metadata": {
        "id": "8039ea53"
      },
      "outputs": [],
      "source": [
        "y = [0.1, 0.05, 0.6, 0.0, 0.05, 0.1, 0.0, 0.1, 0.0, 0.0]\n",
        "t = [0, 0, 1, 0, 0, 0, 0, 0, 0, 0]"
      ]
    },
    {
      "cell_type": "code",
      "execution_count": null,
      "id": "04cf8987",
      "metadata": {
        "id": "04cf8987"
      },
      "outputs": [],
      "source": [
        "import numpy as np\n",
        "\n",
        "def sse(y, t):\n",
        "    return 0.5 * np.sum((y-t)**2)"
      ]
    },
    {
      "cell_type": "code",
      "execution_count": null,
      "id": "7ac65bdc",
      "metadata": {
        "id": "7ac65bdc",
        "outputId": "694f8a35-c98c-44de-e381-8b5bd3d45385"
      },
      "outputs": [
        {
          "data": {
            "text/plain": [
              "0.09750000000000003"
            ]
          },
          "execution_count": 15,
          "metadata": {},
          "output_type": "execute_result"
        }
      ],
      "source": [
        "sse(np.array(y), np.array(t))"
      ]
    },
    {
      "cell_type": "code",
      "execution_count": null,
      "id": "f75eea64",
      "metadata": {
        "id": "f75eea64",
        "outputId": "139824a7-4ab2-46c5-c5b3-3ab422101080"
      },
      "outputs": [
        {
          "data": {
            "text/plain": [
              "0.5975"
            ]
          },
          "execution_count": 16,
          "metadata": {},
          "output_type": "execute_result"
        }
      ],
      "source": [
        "y = [0.1, 0.05, 0.1, 0.0, 0.05, 0.1, 0.0, 0.6, 0.0, 0.0]\n",
        "sse(np.array(y), np.array(t))"
      ]
    },
    {
      "cell_type": "markdown",
      "id": "c39c0ea5",
      "metadata": {
        "id": "c39c0ea5"
      },
      "source": [
        "**교차 엔트로피 오차 Cross Entropy Error, CEE**"
      ]
    },
    {
      "cell_type": "code",
      "execution_count": null,
      "id": "09aac265",
      "metadata": {
        "id": "09aac265"
      },
      "outputs": [],
      "source": [
        "import numpy as np\n",
        "\n",
        "def cee(y, t):\n",
        "    delta = 1e-7\n",
        "    return -np.sum(t * np.log(y + delta))"
      ]
    },
    {
      "cell_type": "code",
      "execution_count": null,
      "id": "1cc7230c",
      "metadata": {
        "id": "1cc7230c",
        "outputId": "9b6cb9fd-67d4-4123-eeb1-c8d60dc3b146"
      },
      "outputs": [
        {
          "data": {
            "text/plain": [
              "0.510825457099338"
            ]
          },
          "execution_count": 18,
          "metadata": {},
          "output_type": "execute_result"
        }
      ],
      "source": [
        "t = [0, 0, 1, 0, 0, 0, 0, 0, 0, 0]\n",
        "y = [0.1, 0.05, 0.6, 0.0, 0.05, 0.1, 0.0, 0.1, 0.0, 0.0]\n",
        "cee(np.array(y), np.array(t))"
      ]
    },
    {
      "cell_type": "code",
      "execution_count": null,
      "id": "612c4865",
      "metadata": {
        "id": "612c4865",
        "outputId": "b3a4ea6b-9842-4525-f2e9-368dd344a2bf"
      },
      "outputs": [
        {
          "data": {
            "text/plain": [
              "2.302584092994546"
            ]
          },
          "execution_count": 19,
          "metadata": {},
          "output_type": "execute_result"
        }
      ],
      "source": [
        "y = [0.1, 0.05, 0.1, 0.0, 0.05, 0.1, 0.0, 0.6, 0.0, 0.0]\n",
        "cee(np.array(y), np.array(t))"
      ]
    },
    {
      "cell_type": "markdown",
      "id": "c271263c",
      "metadata": {
        "id": "c271263c"
      },
      "source": [
        "**Minibatch**"
      ]
    },
    {
      "cell_type": "code",
      "execution_count": null,
      "id": "3f7f4a54",
      "metadata": {
        "id": "3f7f4a54",
        "outputId": "e5672ef9-86c0-4895-9a3c-7ff258f4f177"
      },
      "outputs": [
        {
          "name": "stdout",
          "output_type": "stream",
          "text": [
            "(60000, 784)\n",
            "(60000, 10)\n"
          ]
        }
      ],
      "source": [
        "# coding: utf-8\n",
        "import sys, os\n",
        "sys.path.append(os.pardir)\n",
        "import numpy as np\n",
        "import matplotlib.pyplot as plt\n",
        "from dataset.mnist import load_mnist\n",
        "\n",
        "(x_train, t_train), (x_test, t_test) = load_mnist(normalize=True, one_hot_label=True)\n",
        "\n",
        "print(x_train.shape)\n",
        "print(t_train.shape)"
      ]
    },
    {
      "cell_type": "code",
      "execution_count": null,
      "id": "fc522141",
      "metadata": {
        "id": "fc522141"
      },
      "outputs": [],
      "source": [
        "train_size = x_train.shape[0]\n",
        "batch_size = 10\n",
        "batch_mask = np.random.choice(train_size, batch_size)\n",
        "x_batch = x_train[batch_mask]\n",
        "t_batch = t_train[batch_mask]"
      ]
    },
    {
      "cell_type": "code",
      "execution_count": null,
      "id": "d02e0a61",
      "metadata": {
        "id": "d02e0a61",
        "outputId": "8f0d3727-d3de-4073-9314-2eb8da727694"
      },
      "outputs": [
        {
          "data": {
            "text/plain": [
              "array([31982, 36661,  3375, 45761, 20918, 16355, 36305, 26732, 34221,\n",
              "       21340])"
            ]
          },
          "execution_count": 22,
          "metadata": {},
          "output_type": "execute_result"
        }
      ],
      "source": [
        "np.random.choice(60000, 10)"
      ]
    },
    {
      "cell_type": "markdown",
      "id": "30e13722",
      "metadata": {
        "id": "30e13722"
      },
      "source": [
        "**CEE 구현하기**"
      ]
    },
    {
      "cell_type": "code",
      "execution_count": null,
      "id": "5f0ce079",
      "metadata": {
        "id": "5f0ce079"
      },
      "outputs": [],
      "source": [
        "import numpy as np\n",
        "\n",
        "def cee(y, t):\n",
        "    if y.ndim == 1:\n",
        "        t = t.reshape(1, t.size)\n",
        "        y = y.reshape(1, y.size)\n",
        "\n",
        "        batch_size = y.shape[0]\n",
        "        return -np.sum(t * np.log(y + 1e-7)) / batch_size"
      ]
    },
    {
      "cell_type": "code",
      "execution_count": null,
      "id": "a89f9281",
      "metadata": {
        "id": "a89f9281"
      },
      "outputs": [],
      "source": [
        "import numpy as np\n",
        "\n",
        "def cee(y, t):\n",
        "    if y.ndim == 1:\n",
        "        t = t.reshape(1, t.size)\n",
        "        y = y.reshape(1, y.size)\n",
        "\n",
        "        batch_size = y.shape[0]\n",
        "        return -np.sum(t * np.log(y[np.arrange(batch_size), t] + 1e-7)) / batch_size"
      ]
    },
    {
      "cell_type": "markdown",
      "id": "e195ba39",
      "metadata": {
        "id": "e195ba39"
      },
      "source": [
        "**수치 미분**\n",
        "\n",
        "* 경사법에서는 기울기(경사값)를 기준으로 방향을 정함."
      ]
    },
    {
      "cell_type": "code",
      "execution_count": null,
      "id": "0be9bd40",
      "metadata": {
        "id": "0be9bd40"
      },
      "outputs": [],
      "source": [
        "def numerical_diff(f, x):\n",
        "    h = 1e-4 # 0.0001\n",
        "    return (f(x+h) - f(x-h)) / (2*h)"
      ]
    },
    {
      "cell_type": "code",
      "execution_count": null,
      "id": "01076ced",
      "metadata": {
        "id": "01076ced"
      },
      "outputs": [],
      "source": [
        "def function_1(x):\n",
        "    return 0.01*x**2 + 0.1*x"
      ]
    },
    {
      "cell_type": "code",
      "execution_count": null,
      "id": "66bd39c5",
      "metadata": {
        "id": "66bd39c5",
        "outputId": "42883ed3-a553-4811-a7f8-5ad77a25e013"
      },
      "outputs": [
        {
          "data": {
            "text/plain": [
              "<function matplotlib.pyplot.show(close=None, block=None)>"
            ]
          },
          "execution_count": 27,
          "metadata": {},
          "output_type": "execute_result"
        },
        {
          "data": {
            "image/png": "[encoded data removed]",
            "text/plain": [
              "<Figure size 432x288 with 1 Axes>"
            ]
          },
          "metadata": {
            "needs_background": "light"
          },
          "output_type": "display_data"
        }
      ],
      "source": [
        "import numpy as np\n",
        "import matplotlib.pylab as plt\n",
        "\n",
        "x = np.arange(0.0, 20.0, 0.1)\n",
        "y = function_1(x)\n",
        "plt.xlabel(\"x\")\n",
        "plt.ylabel(\"f(x)\")\n",
        "plt.plot(x, y)\n",
        "plt.show"
      ]
    },
    {
      "cell_type": "code",
      "execution_count": null,
      "id": "e610154b",
      "metadata": {
        "id": "e610154b",
        "outputId": "6ba80902-911d-4232-e2bd-f7d4fa49af2c"
      },
      "outputs": [
        {
          "data": {
            "text/plain": [
              "0.1999999999990898"
            ]
          },
          "execution_count": 28,
          "metadata": {},
          "output_type": "execute_result"
        }
      ],
      "source": [
        "numerical_diff(function_1, 5)"
      ]
    },
    {
      "cell_type": "code",
      "execution_count": null,
      "id": "76f57170",
      "metadata": {
        "id": "76f57170",
        "outputId": "9fe12a9d-48aa-4791-e602-cfd14407c6ad"
      },
      "outputs": [
        {
          "data": {
            "text/plain": [
              "0.2999999999986347"
            ]
          },
          "execution_count": 29,
          "metadata": {},
          "output_type": "execute_result"
        }
      ],
      "source": [
        "numerical_diff(function_1, 10)"
      ]
    },
    {
      "cell_type": "markdown",
      "id": "73dd201e",
      "metadata": {
        "id": "73dd201e"
      },
      "source": [
        "**편미분**\n",
        "\n",
        "* 변수가 여럿인 함수에 대한 미분\n",
        "* 특정 장소의 기울기"
      ]
    },
    {
      "cell_type": "code",
      "execution_count": null,
      "id": "eb8aa42d",
      "metadata": {
        "id": "eb8aa42d"
      },
      "outputs": [],
      "source": [
        "def function_2(x):\n",
        "    return x[0]**2 + x[1]**2 # np.sum(x**2)"
      ]
    },
    {
      "cell_type": "code",
      "execution_count": null,
      "id": "d90a3fbc",
      "metadata": {
        "id": "d90a3fbc",
        "outputId": "14fea8df-eb33-4603-989e-d969f6e838ac"
      },
      "outputs": [
        {
          "data": {
            "image/png": "[encoded data removed]",
            "text/plain": [
              "<Figure size 720x576 with 1 Axes>"
            ]
          },
          "metadata": {
            "needs_background": "light"
          },
          "output_type": "display_data"
        }
      ],
      "source": [
        "import numpy as np\n",
        "import matplotlib.pyplot as plt\n",
        "from mpl_toolkits.mplot3d import Axes3D\n",
        "\n",
        "x0 = np.linspace(-5, 5, 100)\n",
        "x1 = np.linspace(-5, 5, 100)\n",
        "x0, x1 = np.meshgrid(x0, x1)\n",
        "\n",
        "def function_tmp1(x0, x1):\n",
        "    return x0**2 + x1**2 + 4.0**2\n",
        "\n",
        "z = function_tmp1(x0, x1)\n",
        "\n",
        "fig = plt.figure(figsize=(10, 8))\n",
        "ax = fig.add_subplot(111, projection='3d')\n",
        "\n",
        "ax.plot_surface(x0, x1, z, cmap='viridis', alpha=0.8, label='function_tmp1')\n",
        "\n",
        "plt.show()"
      ]
    },
    {
      "cell_type": "markdown",
      "id": "d9eae252",
      "metadata": {
        "id": "d9eae252"
      },
      "source": [
        "### 4-4. 기울기\n",
        "\n",
        "* 기울기가 가리키는 쪽은 각 장소에서 함수의 출력 값을 가장 크게 줄이는 방향."
      ]
    },
    {
      "cell_type": "code",
      "execution_count": null,
      "id": "0a68f9a0",
      "metadata": {
        "id": "0a68f9a0"
      },
      "outputs": [],
      "source": [
        "def _numerical_gradient_no_batch(f, x):\n",
        "    h = 1e-4 # 0.0001\n",
        "    grad = np.zeros_like(x)\n",
        "\n",
        "    for idx in range(x.size):\n",
        "        tmp_val = x[idx]\n",
        "\n",
        "        x[idx] = float(tmp_val) + h\n",
        "        fxh1 = f(x)\n",
        "\n",
        "        x[idx] = tmp_val - h\n",
        "        fxh2 = f(x)\n",
        "\n",
        "        grad[idx] = (fxh1 - fxh2) / (2*h)\n",
        "        x[idx] = tmp_val\n",
        "\n",
        "    return grad"
      ]
    },
    {
      "cell_type": "code",
      "execution_count": null,
      "id": "569c58e2",
      "metadata": {
        "id": "569c58e2",
        "outputId": "85c2b3e4-a467-4d79-8414-8b4735b1f749"
      },
      "outputs": [
        {
          "data": {
            "image/png": "[encoded data removed]",
            "text/plain": [
              "<Figure size 432x288 with 1 Axes>"
            ]
          },
          "metadata": {
            "needs_background": "light"
          },
          "output_type": "display_data"
        }
      ],
      "source": [
        "import numpy as np\n",
        "import matplotlib.pylab as plt\n",
        "from mpl_toolkits.mplot3d import Axes3D\n",
        "\n",
        "def numerical_gradient(f, X):\n",
        "    if X.ndim == 1:\n",
        "        return _numerical_gradient_no_batch(f, X)\n",
        "    else:\n",
        "        grad = np.zeros_like(X)\n",
        "\n",
        "        for idx, x in enumerate(X):\n",
        "            grad[idx] = _numerical_gradient_no_batch(f, x)\n",
        "\n",
        "        return grad\n",
        "\n",
        "def function_2(x):\n",
        "    if x.ndim == 1:\n",
        "        return np.sum(x**2)\n",
        "    else:\n",
        "        return np.sum(x**2, axis=1)\n",
        "\n",
        "\n",
        "def tangent_line(f, x):\n",
        "    d = numerical_gradient(f, x)\n",
        "    print(d)\n",
        "    y = f(x) - d*x\n",
        "    return lambda t: d*t + y\n",
        "\n",
        "if __name__ == '__main__':\n",
        "    x0 = np.arange(-2, 2.5, 0.25)\n",
        "    x1 = np.arange(-2, 2.5, 0.25)\n",
        "    X, Y = np.meshgrid(x0, x1)\n",
        "\n",
        "    X = X.flatten()\n",
        "    Y = Y.flatten()\n",
        "\n",
        "    grad = numerical_gradient(function_2, np.array([X, Y]) )\n",
        "\n",
        "    plt.figure()\n",
        "    plt.quiver(X, Y, -grad[0], -grad[1],  angles=\"xy\", color=\"#666666\")\n",
        "    plt.xlim([-2, 2])\n",
        "    plt.ylim([-2, 2])\n",
        "    plt.xlabel('x0')\n",
        "    plt.ylabel('x1')\n",
        "    plt.grid()\n",
        "\n",
        "    plt.draw()\n",
        "    plt.show()"
      ]
    },
    {
      "cell_type": "markdown",
      "id": "cd41e333",
      "metadata": {
        "id": "cd41e333"
      },
      "source": [
        "**Gradient descent**"
      ]
    },
    {
      "cell_type": "code",
      "execution_count": null,
      "id": "6f7cc3c1",
      "metadata": {
        "id": "6f7cc3c1"
      },
      "outputs": [],
      "source": [
        "pip install gradient"
      ]
    },
    {
      "cell_type": "code",
      "execution_count": null,
      "id": "2726de87",
      "metadata": {
        "id": "2726de87",
        "outputId": "66e09072-dec2-4a9a-bf1f-0ac2fa8ad49a"
      },
      "outputs": [
        {
          "data": {
            "text/plain": [
              "array([-6.11110793e-10,  8.14814391e-10])"
            ]
          },
          "execution_count": 35,
          "metadata": {},
          "output_type": "execute_result"
        }
      ],
      "source": [
        "import numpy as np\n",
        "import matplotlib.pylab as plt\n",
        "\n",
        "def gradient_descent(f, init_x, lr=0.01, step_num=100):\n",
        "    x = init_x\n",
        "\n",
        "    for i in range(step_num):\n",
        "        grad = numerical_gradient(f, x)\n",
        "        x -= lr * grad\n",
        "\n",
        "    return x\n",
        "\n",
        "\n",
        "def function_2(x):\n",
        "    return x[0]**2 + x[1]**2\n",
        "\n",
        "init_x = np.array([-3.0, 4.0])\n",
        "gradient_descent(function_2, init_x, lr=0.1, step_num=100)"
      ]
    },
    {
      "cell_type": "markdown",
      "id": "86a94846",
      "metadata": {
        "id": "86a94846"
      },
      "source": [
        "**simpleNet class**"
      ]
    },
    {
      "cell_type": "code",
      "execution_count": null,
      "id": "168e13b3",
      "metadata": {
        "id": "168e13b3"
      },
      "outputs": [],
      "source": [
        "import sys, os\n",
        "sys.path.append(os.pardir)\n",
        "import numpy as np\n",
        "from common.functions import softmax, cross_entropy_error\n",
        "from common.gradient import numerical_gradient\n",
        "\n",
        "class simpleNet:\n",
        "    def __init__(self):\n",
        "        self.W = np.random.randn(2,3)\n",
        "\n",
        "    def predict(self, x):\n",
        "        return np.dot(x, self.W)\n",
        "\n",
        "    def loss(self, x, t):\n",
        "        z = self.predict(x)\n",
        "        y = softmax(z)\n",
        "        loss = cross_entropy_error(y, t)\n",
        "\n",
        "        return loss"
      ]
    },
    {
      "cell_type": "code",
      "execution_count": null,
      "id": "4b208dd5",
      "metadata": {
        "id": "4b208dd5",
        "outputId": "f9def9a5-ade3-44fe-ee9c-223929c87227"
      },
      "outputs": [
        {
          "name": "stdout",
          "output_type": "stream",
          "text": [
            "[[ 0.07147035 -0.52544673 -1.34227886]\n",
            " [ 0.89774497  0.79657532  1.67234731]]\n"
          ]
        }
      ],
      "source": [
        "net = simpleNet()\n",
        "print(net.W)"
      ]
    },
    {
      "cell_type": "code",
      "execution_count": null,
      "id": "80b09b0e",
      "metadata": {
        "id": "80b09b0e",
        "outputId": "7514c538-71a0-480b-a4bc-c48be1ad9b12"
      },
      "outputs": [
        {
          "name": "stdout",
          "output_type": "stream",
          "text": [
            "[0.85085268 0.40164975 0.69974526]\n"
          ]
        }
      ],
      "source": [
        "x = np.array([0.6, 0.9])\n",
        "p = net.predict(x)\n",
        "print(p)"
      ]
    },
    {
      "cell_type": "code",
      "execution_count": null,
      "id": "4bbcc86c",
      "metadata": {
        "id": "4bbcc86c",
        "outputId": "24a49255-08f6-494b-f6f0-76cb6377438c"
      },
      "outputs": [
        {
          "data": {
            "text/plain": [
              "0"
            ]
          },
          "execution_count": 48,
          "metadata": {},
          "output_type": "execute_result"
        }
      ],
      "source": [
        "np.argmax(p)"
      ]
    },
    {
      "cell_type": "code",
      "execution_count": null,
      "id": "d21e9074",
      "metadata": {
        "id": "d21e9074",
        "outputId": "19bb199c-d606-4cd0-af83-5fcb43298143"
      },
      "outputs": [
        {
          "data": {
            "text/plain": [
              "1.0665542751130268"
            ]
          },
          "execution_count": 49,
          "metadata": {},
          "output_type": "execute_result"
        }
      ],
      "source": [
        "t = np.array([0, 0, 1])\n",
        "net.loss(x, t)"
      ]
    },
    {
      "cell_type": "code",
      "execution_count": null,
      "id": "f8d5fb67",
      "metadata": {
        "id": "f8d5fb67"
      },
      "outputs": [],
      "source": [
        "def f(W):\n",
        "    return net.loss(x, t)"
      ]
    },
    {
      "cell_type": "code",
      "execution_count": null,
      "id": "2a21c0eb",
      "metadata": {
        "id": "2a21c0eb",
        "outputId": "cdac0cb9-6746-4929-8234-98e6d084e78a"
      },
      "outputs": [
        {
          "name": "stdout",
          "output_type": "stream",
          "text": [
            "[[ 0.24020248  0.15328199 -0.39348446]\n",
            " [ 0.36030371  0.22992298 -0.5902267 ]]\n"
          ]
        }
      ],
      "source": [
        "dW = numerical_gradient(f, net.W)\n",
        "print(dW)"
      ]
    },
    {
      "cell_type": "code",
      "execution_count": null,
      "id": "e277b150",
      "metadata": {
        "id": "e277b150"
      },
      "outputs": [],
      "source": [
        "# f = lambda w: net.loss(x, t)\n",
        "# dW = numerical_gradient(f, net.W)"
      ]
    },
    {
      "cell_type": "markdown",
      "id": "e3a67772",
      "metadata": {
        "id": "e3a67772"
      },
      "source": [
        "### 4-5 학습 알고리즘 구현하기\n",
        "\n",
        "**2층 신경망 클래스 구현하기**"
      ]
    },
    {
      "cell_type": "code",
      "execution_count": null,
      "id": "1c994a4b",
      "metadata": {
        "id": "1c994a4b"
      },
      "outputs": [],
      "source": [
        "import sys, os\n",
        "sys.path.append(os.pardir)\n",
        "from common.functions import *\n",
        "from common.gradient import numerical_gradient\n",
        "\n",
        "class TwoLayerNet:\n",
        "\n",
        "    def __init__(self, input_size, hidden_size, output_size, weight_init_std=0.01):\n",
        "        self.params = {}\n",
        "        self.params['W1'] = weight_init_std * np.random.randn(input_size, hidden_size)\n",
        "        self.params['b1'] = np.zeros(hidden_size)\n",
        "        self.params['W2'] = weight_init_std * np.random.randn(hidden_size, output_size)\n",
        "        self.params['b2'] = np.zeros(output_size)\n",
        "\n",
        "    def predict(self, x):\n",
        "        W1, W2 = self.params['W1'], self.params['W2']\n",
        "        b1, b2 = self.params['b1'], self.params['b2']\n",
        "\n",
        "        a1 = np.dot(x, W1) + b1\n",
        "        z1 = sigmoid(a1)\n",
        "        a2 = np.dot(z1, W2) + b2\n",
        "        y = softmax(a2)\n",
        "\n",
        "        return y\n",
        "\n",
        "    def loss(self, x, t):\n",
        "        y = self.predict(x)\n",
        "\n",
        "        return cross_entropy_error(y, t)\n",
        "\n",
        "    def accuracy(self, x, t):\n",
        "        y = self.predict(x)\n",
        "        y = np.argmax(y, axis=1)\n",
        "        t = np.argmax(t, axis=1)\n",
        "\n",
        "        accuracy = np.sum(y == t) / float(x.shape[0])\n",
        "        return accuracy\n",
        "\n",
        "    def numerical_gradient(self, x, t):\n",
        "        loss_W = lambda W: self.loss(x, t)\n",
        "\n",
        "        grads = {}\n",
        "        grads['W1'] = numerical_gradient(loss_W, self.params['W1'])\n",
        "        grads['b1'] = numerical_gradient(loss_W, self.params['b1'])\n",
        "        grads['W2'] = numerical_gradient(loss_W, self.params['W2'])\n",
        "        grads['b2'] = numerical_gradient(loss_W, self.params['b2'])\n",
        "\n",
        "        return grads\n",
        "\n",
        "    def gradient(self, x, t):\n",
        "        W1, W2 = self.params['W1'], self.params['W2']\n",
        "        b1, b2 = self.params['b1'], self.params['b2']\n",
        "        grads = {}\n",
        "\n",
        "        batch_num = x.shape[0]\n",
        "\n",
        "        # forward\n",
        "        a1 = np.dot(x, W1) + b1\n",
        "        z1 = sigmoid(a1)\n",
        "        a2 = np.dot(z1, W2) + b2\n",
        "        y = softmax(a2)\n",
        "\n",
        "        # backward\n",
        "        dy = (y - t) / batch_num\n",
        "        grads['W2'] = np.dot(z1.T, dy)\n",
        "        grads['b2'] = np.sum(dy, axis=0)\n",
        "\n",
        "        da1 = np.dot(dy, W2.T)\n",
        "        dz1 = sigmoid_grad(a1) * da1\n",
        "        grads['W1'] = np.dot(x.T, dz1)\n",
        "        grads['b1'] = np.sum(dz1, axis=0)\n",
        "\n",
        "        return grads"
      ]
    },
    {
      "cell_type": "code",
      "execution_count": null,
      "id": "ebfee9ad",
      "metadata": {
        "id": "ebfee9ad",
        "outputId": "e323e461-827f-41b1-8790-81a19fb45656"
      },
      "outputs": [
        {
          "data": {
            "text/plain": [
              "(784, 100)"
            ]
          },
          "execution_count": 56,
          "metadata": {},
          "output_type": "execute_result"
        }
      ],
      "source": [
        "net = TwoLayerNet(input_size=784, hidden_size=100, output_size=10)\n",
        "net.params['W1'].shape"
      ]
    },
    {
      "cell_type": "code",
      "execution_count": null,
      "id": "ee7bb94c",
      "metadata": {
        "id": "ee7bb94c",
        "outputId": "26f64da9-e81e-4751-9868-7718d0ef5a87"
      },
      "outputs": [
        {
          "data": {
            "text/plain": [
              "(100,)"
            ]
          },
          "execution_count": 57,
          "metadata": {},
          "output_type": "execute_result"
        }
      ],
      "source": [
        "net.params['b1'].shape"
      ]
    },
    {
      "cell_type": "code",
      "execution_count": null,
      "id": "199aeb38",
      "metadata": {
        "id": "199aeb38",
        "outputId": "d2ec42bd-a6e1-4a9e-a292-e007c410f4db"
      },
      "outputs": [
        {
          "data": {
            "text/plain": [
              "(100, 10)"
            ]
          },
          "execution_count": 58,
          "metadata": {},
          "output_type": "execute_result"
        }
      ],
      "source": [
        "net.params['W2'].shape"
      ]
    },
    {
      "cell_type": "code",
      "execution_count": null,
      "id": "f13b8f0f",
      "metadata": {
        "id": "f13b8f0f",
        "outputId": "042ad69f-b9d4-441d-a549-ab6e6374a47f"
      },
      "outputs": [
        {
          "data": {
            "text/plain": [
              "(10,)"
            ]
          },
          "execution_count": 59,
          "metadata": {},
          "output_type": "execute_result"
        }
      ],
      "source": [
        "net.params['b2'].shape"
      ]
    },
    {
      "cell_type": "code",
      "execution_count": null,
      "id": "c267b72b",
      "metadata": {
        "id": "c267b72b"
      },
      "outputs": [],
      "source": [
        "x = np.random.rand(100, 784)\n",
        "y = net.predict(x)"
      ]
    },
    {
      "cell_type": "code",
      "execution_count": null,
      "id": "ec845cd3",
      "metadata": {
        "id": "ec845cd3",
        "outputId": "dd6f3bcc-60a9-4471-d39f-a48190a5daa6"
      },
      "outputs": [
        {
          "data": {
            "text/plain": [
              "(784, 100)"
            ]
          },
          "execution_count": 62,
          "metadata": {},
          "output_type": "execute_result"
        }
      ],
      "source": [
        "x = np.random.rand(100, 784)\n",
        "t = np.random.rand(100, 10)\n",
        "\n",
        "grads = net.numerical_gradient(x, t)\n",
        "\n",
        "grads['W1'].shape"
      ]
    },
    {
      "cell_type": "code",
      "execution_count": null,
      "id": "85c90416",
      "metadata": {
        "id": "85c90416",
        "outputId": "aa77767d-58c2-4f42-eb40-14d14a19c788"
      },
      "outputs": [
        {
          "data": {
            "text/plain": [
              "(100,)"
            ]
          },
          "execution_count": 63,
          "metadata": {},
          "output_type": "execute_result"
        }
      ],
      "source": [
        "grads['b1'].shape"
      ]
    },
    {
      "cell_type": "code",
      "execution_count": null,
      "id": "a380323b",
      "metadata": {
        "id": "a380323b",
        "outputId": "90d468b1-81f6-4561-d4c7-37f983c9ba00"
      },
      "outputs": [
        {
          "data": {
            "text/plain": [
              "(100, 10)"
            ]
          },
          "execution_count": 64,
          "metadata": {},
          "output_type": "execute_result"
        }
      ],
      "source": [
        "grads['W2'].shape"
      ]
    },
    {
      "cell_type": "code",
      "execution_count": null,
      "id": "dff4ea36",
      "metadata": {
        "id": "dff4ea36",
        "outputId": "9e0c0d02-24fa-431b-bb0a-83c958df4541"
      },
      "outputs": [
        {
          "data": {
            "text/plain": [
              "(10,)"
            ]
          },
          "execution_count": 65,
          "metadata": {},
          "output_type": "execute_result"
        }
      ],
      "source": [
        "grads['b2'].shape"
      ]
    },
    {
      "cell_type": "markdown",
      "id": "18da362b",
      "metadata": {
        "id": "18da362b"
      },
      "source": [
        "**미니배치 학습 구현하기**"
      ]
    },
    {
      "cell_type": "code",
      "execution_count": null,
      "id": "10e66a91",
      "metadata": {
        "id": "10e66a91",
        "outputId": "9a8384df-dfeb-4e12-f706-a34c7222939a"
      },
      "outputs": [
        {
          "name": "stdout",
          "output_type": "stream",
          "text": [
            "train acc, test acc | 0.09736666666666667, 0.0982\n",
            "train acc, test acc | 0.7842666666666667, 0.7903\n",
            "train acc, test acc | 0.8774, 0.8807\n",
            "train acc, test acc | 0.8976166666666666, 0.9018\n",
            "train acc, test acc | 0.90835, 0.9101\n",
            "train acc, test acc | 0.9133666666666667, 0.9157\n",
            "train acc, test acc | 0.9193833333333333, 0.9195\n",
            "train acc, test acc | 0.9219666666666667, 0.9234\n",
            "train acc, test acc | 0.9257666666666666, 0.9283\n",
            "train acc, test acc | 0.9301833333333334, 0.9318\n",
            "train acc, test acc | 0.9329666666666667, 0.934\n",
            "train acc, test acc | 0.9354333333333333, 0.9365\n",
            "train acc, test acc | 0.9378166666666666, 0.9392\n",
            "train acc, test acc | 0.9405166666666667, 0.9402\n",
            "train acc, test acc | 0.9419, 0.9422\n",
            "train acc, test acc | 0.94505, 0.9442\n",
            "train acc, test acc | 0.9463666666666667, 0.9457\n"
          ]
        },
        {
          "data": {
            "image/png": "[encoded data removed]",
            "text/plain": [
              "<Figure size 432x288 with 1 Axes>"
            ]
          },
          "metadata": {
            "needs_background": "light"
          },
          "output_type": "display_data"
        }
      ],
      "source": [
        "# coding: utf-8\n",
        "import sys, os\n",
        "sys.path.append(os.pardir)  # 부모 디렉터리의 파일을 가져올 수 있도록 설정\n",
        "import numpy as np\n",
        "import matplotlib.pyplot as plt\n",
        "from dataset.mnist import load_mnist\n",
        "from two_layer_net import TwoLayerNet\n",
        "\n",
        "# 데이터 읽기\n",
        "(x_train, t_train), (x_test, t_test) = load_mnist(normalize=True, one_hot_label=True)\n",
        "\n",
        "network = TwoLayerNet(input_size=784, hidden_size=50, output_size=10)\n",
        "\n",
        "# 하이퍼파라미터\n",
        "iters_num = 10000  # 반복 횟수를 적절히 설정한다.\n",
        "train_size = x_train.shape[0]\n",
        "batch_size = 100   # 미니배치 크기\n",
        "learning_rate = 0.1\n",
        "\n",
        "train_loss_list = []\n",
        "train_acc_list = []\n",
        "test_acc_list = []\n",
        "\n",
        "# 1에폭당 반복 수\n",
        "iter_per_epoch = max(train_size / batch_size, 1)\n",
        "\n",
        "for i in range(iters_num):\n",
        "    # 미니배치 획득\n",
        "    batch_mask = np.random.choice(train_size, batch_size)\n",
        "    x_batch = x_train[batch_mask]\n",
        "    t_batch = t_train[batch_mask]\n",
        "\n",
        "    # 기울기 계산\n",
        "    #grad = network.numerical_gradient(x_batch, t_batch)\n",
        "    grad = network.gradient(x_batch, t_batch)\n",
        "\n",
        "    # 매개변수 갱신\n",
        "    for key in ('W1', 'b1', 'W2', 'b2'):\n",
        "        network.params[key] -= learning_rate * grad[key]\n",
        "\n",
        "    # 학습 경과 기록\n",
        "    loss = network.loss(x_batch, t_batch)\n",
        "    train_loss_list.append(loss)\n",
        "\n",
        "    # 1에폭당 정확도 계산\n",
        "    if i % iter_per_epoch == 0:\n",
        "        train_acc = network.accuracy(x_train, t_train)\n",
        "        test_acc = network.accuracy(x_test, t_test)\n",
        "        train_acc_list.append(train_acc)\n",
        "        test_acc_list.append(test_acc)\n",
        "        print(\"train acc, test acc | \" + str(train_acc) + \", \" + str(test_acc))\n",
        "\n",
        "# 그래프 그리기\n",
        "markers = {'train': 'o', 'test': 's'}\n",
        "x = np.arange(len(train_acc_list))\n",
        "plt.plot(x, train_acc_list, label='train acc')\n",
        "plt.plot(x, test_acc_list, label='test acc', linestyle='--')\n",
        "plt.xlabel(\"epochs\")\n",
        "plt.ylabel(\"accuracy\")\n",
        "plt.ylim(0, 1.0)\n",
        "plt.legend(loc='lower right')\n",
        "plt.show()"
      ]
    }
  ],
  "metadata": {
    "kernelspec": {
      "display_name": "Python 3 (ipykernel)",
      "language": "python",
      "name": "python3"
    },
    "language_info": {
      "codemirror_mode": {
        "name": "ipython",
        "version": 3
      },
      "file_extension": ".py",
      "mimetype": "text/x-python",
      "name": "python",
      "nbconvert_exporter": "python",
      "pygments_lexer": "ipython3",
      "version": "3.9.7"
    },
    "colab": {
      "provenance": [],
      "include_colab_link": true
    }
  },
  "nbformat": 4,
  "nbformat_minor": 5
}