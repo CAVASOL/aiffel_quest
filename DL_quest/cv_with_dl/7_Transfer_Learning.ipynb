{
  "cells": [
    {
      "cell_type": "markdown",
      "metadata": {
        "id": "view-in-github",
        "colab_type": "text"
      },
      "source": [
        "<a href=\"https://colab.research.google.com/github/CAVASOL/aiffel_quest/blob/main/DL_quest/cv_with_dl/7_Transfer_Learning.ipynb\" target=\"_parent\"><img src=\"https://colab.research.google.com/assets/colab-badge.svg\" alt=\"Open In Colab\"/></a>"
      ]
    },
    {
      "cell_type": "markdown",
      "id": "416a6bb0",
      "metadata": {
        "id": "416a6bb0"
      },
      "source": [
        "## Transfer Learning\n",
        "\n",
        "**학습 목표**\n",
        "\n",
        "* Transfer learning의 목적을 설명할 수 있습니다.\n",
        "* 처음부터 모델을 학습하는 것과 학습된 모델을 이용하는 것에 대한 특징을 통해 Transfer Learning의 개념과 효과를 알아봅시다.\n",
        "* Transfer Learning을 적용할 때 어떤 것을 고려해야 하는지, 어떻게 적절하게 적용할 수 있을지에 대한 것을 알아봅시다."
      ]
    },
    {
      "cell_type": "markdown",
      "id": "5cada38a",
      "metadata": {
        "id": "5cada38a"
      },
      "source": [
        "**Q. ImageNet Competition의 결과를 보며 알게 된 특징과 오분류율에 비해 파라미터 수가 어떻게 되었는지 설명해 보세요.**\n",
        "```\n",
        "2012년을 기점으로, 딥러닝 기반 모델들이 ImageNet competition에서 좋은 결과를 얻었습니다. ImageNet competition에서 처음으로 우승했던 딥러닝 기반 모델인 AlexNet(2012)에는 8개의 레이어가 있었습니다. 또한, VGG(19개), GoogleNet(22개)을 거쳐서, 2015년의 ResNet에는 152개의 레이어가 있습니다. 오분류율이 감소함과 동시에, 연산해야 하는 파라미터의 수가 급격하게 증가했습니다.\n",
        "```\n",
        "\n",
        "**Q. Training from scratch와 Transfer Learnin은 각 어떤 방법이고 어떤 특징이 있는지 설명해 보세요.**\n",
        "```\n",
        "training from scratch: 처음부터 모델을 만들고 가중치를 무작위로 초기화한 다음 데이터로부터 학습시키는 방법, 모델이 데이터에 대해 완전히 새로운 표현을 학습해야 하기 때문에 데이터가 많고 모델이 복잡한 경우 시간과 컴퓨팅 리소스를 많이 소비.\n",
        "\n",
        "transfer learning:이미 학습된 모델의 가중치를 가져와서 이를 새로운 작업에 맞게 조정하는 방법, 작은 데이터셋에서도 잘 작동하며, 훈련 시간과 컴퓨팅 리소스를 절약.\n",
        "```\n",
        "\n",
        "**Q. Transfer Learning을 사용했을 때 효과는 어떤 것이 있는지 설명해 보세요.**\n",
        "```\n",
        "기존에 만들어진(학습된) 모델을 사용하여 새로운 모델을 만들 때, 학습을 빠르게 하며 예측 능력을 더 높일 수 있습니다. 또한, 복잡한 모델일수록 학습시키기 어렵다는 난점을 해결할 수 있으며 학습에 들어가는 연산 비용을 절감할 수 있습니다.\n",
        "```\n",
        "\n",
        "**Q. input과 가까운 레이어와 input과 멀어지는 레이어는 각각 어떤 부분이 학습되는지 설명해 보세요.**\n",
        "```\n",
        "input과 가까운 레이어에서는 이미지의 단순하고 일반적인 패턴을 인식하는 filter들이 학습됩니다. 레이어가 input과 멀어질수록 복잡하고 task(domain)-specific 한 특성들이 학습됩니다.\n",
        "```\n",
        "\n",
        "**Q. VGG16 모델을 학습할 때 데이터셋의 사이즈에 따라서 어떻게 모델을 학습하면 좋을지 설명해 보세요.**\n",
        "```\n",
        "만약 가지고 있는 데이터셋의 사이즈가 충분히 크다면 VGG16 모델 전체를 학습시킵니다. 반면에 데이터셋의 사이즈가 작다면 feature extractor 부분의 파라미터를 고정(freeze) 시키고, 내가 가진 task 또는 데이터와 관계되는 일부 layer 부분만 학습시킵니다. 마지막으로 데이터셋의 사이즈가 중간 정도라면 freeze 하는 부분을 줄여서 학습시킵니다.\n",
        "```\n",
        "\n",
        "**Q. 데이터셋의 유사성과 데이터셋의 사이즈에 따라서 학습방법이 각각 어떻게 달라지는지 설명해 보세요.**\n",
        "```\n",
        "상황에 따라서 크게 4가지로 나눌 수 있습니다. 각 학습방법에 대해서 영상과 이미지를 참고해서 잘 작성하셨다고 믿습니다! 조금 헷갈리신 분들은 다시 영상을 참고하셔서 복습해 보세요. 한 줄로 요약하자면 가지고 있는 데이터셋의 크기가 작을수록, pre-training을 진행한 데이터셋과의 유사성(domain의 유사성)이 높을수록 많은 레이어를 freeze 하는 것이 효과적입니다.\n",
        "```\n",
        "\n",
        "**Q. Transfer learning의 목적에 대해서 설명해 보세요.**\n",
        "```\n",
        "Transfer learning은 데이터의 양과 연산 비용의 한계를 극복하면서 딥러닝 구조의 장점을 이용하기 위해서 고안되었습니다.\n",
        "```\n",
        "\n",
        "**Q. Transfer learning을 적용함에 있어서 어떤 기준으로 적용을 해야 하는지 설명해 보세요.**\n",
        "```\n",
        "Domain의 유사성과 가지고 있는 Dataset의 size입니다. Transfer learning을 적절하게 사용하기 위해서는 Pretrained model에서 어느 정도를 더 학습할지를 판단할 수 있어야 합니다.\n",
        "```"
      ]
    },
    {
      "cell_type": "markdown",
      "id": "c46708b2",
      "metadata": {
        "id": "c46708b2"
      },
      "source": [
        "### ResNet50 Transfer Learning"
      ]
    },
    {
      "cell_type": "code",
      "execution_count": null,
      "id": "e3f30c69",
      "metadata": {
        "id": "e3f30c69"
      },
      "outputs": [],
      "source": [
        "!mkdir -p aiffel/cifar_10_small\n",
        "\n",
        "!ln -s ~/data/cifar_10_small/train/ aiffel/cifar_10_small/train\n",
        "!ln -s ~/data/cifar_10_small/test/ aiffel/cifar_10_small/test"
      ]
    },
    {
      "cell_type": "code",
      "execution_count": null,
      "id": "dbb85f47",
      "metadata": {
        "id": "dbb85f47"
      },
      "outputs": [],
      "source": [
        "import os\n",
        "import tensorflow as tf\n",
        "import matplotlib.pyplot as plt"
      ]
    },
    {
      "cell_type": "code",
      "execution_count": null,
      "id": "611547be",
      "metadata": {
        "id": "611547be"
      },
      "outputs": [],
      "source": [
        "train_dir='aiffel/cifar_10_small/train'\n",
        "test_dir='aiffel/cifar_10_small/test'\n",
        "\n",
        "train_aeroplane_dir= os.path.join(train_dir,'aeroplane')\n",
        "train_bird_dir=os.path.join(train_dir,'bird')\n",
        "train_car_dir= os.path.join(train_dir,'car')\n",
        "train_cat_dir=os.path.join(train_dir,'cat')\n",
        "\n",
        "test_aeroplane_dir= os.path.join(test_dir,'aeroplane')\n",
        "test_bird_dir=os.path.join(test_dir,'bird')\n",
        "test_car_dir= os.path.join(test_dir,'car')\n",
        "test_cat_dir=os.path.join(test_dir,'cat')"
      ]
    },
    {
      "cell_type": "code",
      "execution_count": null,
      "id": "e0555743",
      "metadata": {
        "id": "e0555743",
        "outputId": "fc44cb5a-4596-452f-e122-c710ee27865c"
      },
      "outputs": [
        {
          "name": "stdout",
          "output_type": "stream",
          "text": [
            "훈련용 aeroplane 이미지 전체 개수: 5000\n",
            "훈련용 bird 이미지 전체 개수: 5000\n",
            "훈련용 car 이미지 전체 개수: 5000\n",
            "훈련용 cat 이미지 전체 개수: 5000\n"
          ]
        }
      ],
      "source": [
        "# 훈련용 데이터셋의 이미지 개수 출력\n",
        "\n",
        "print('훈련용 aeroplane 이미지 전체 개수:', len(os.listdir(train_aeroplane_dir)))\n",
        "print('훈련용 bird 이미지 전체 개수:', len(os.listdir(train_bird_dir)))\n",
        "print('훈련용 car 이미지 전체 개수:', len(os.listdir(train_car_dir)))\n",
        "print('훈련용 cat 이미지 전체 개수:', len(os.listdir(train_cat_dir)))"
      ]
    },
    {
      "cell_type": "code",
      "execution_count": null,
      "id": "a014f3b6",
      "metadata": {
        "id": "a014f3b6",
        "outputId": "831f0c91-99f0-41a6-ae81-2bb5e3f5afc4"
      },
      "outputs": [
        {
          "name": "stdout",
          "output_type": "stream",
          "text": [
            "테스트용 aeroplane 이미지 전체 개수: 1000\n",
            "테스트용 bird 이미지 전체 개수: 1000\n",
            "테스트용 car 이미지 전체 개수: 1000\n",
            "테스트용 cat 이미지 전체 개수: 1000\n"
          ]
        }
      ],
      "source": [
        "# Q. 테스트용 데이터셋의 이미지 개수를 각 디렉토리별로 출력해 보세요.\n",
        "\n",
        "print('테스트용 aeroplane 이미지 전체 개수:', len(os.listdir(test_aeroplane_dir)))\n",
        "print('테스트용 bird 이미지 전체 개수:', len(os.listdir(test_bird_dir)))\n",
        "print('테스트용 car 이미지 전체 개수:', len(os.listdir(test_car_dir)))\n",
        "print('테스트용 cat 이미지 전체 개수:', len(os.listdir(test_cat_dir)))"
      ]
    },
    {
      "cell_type": "markdown",
      "id": "cf92c5fb",
      "metadata": {
        "id": "cf92c5fb"
      },
      "source": [
        "**데이터 파이프 라인 생성하기**\n",
        "\n",
        "데이터를 디렉토리로부터 불러올 때 한번에 가져올 데이터의 수인 batch size를 설정하고, data generator를 생성하여 데이터를 모델에 넣을 수 있도록 합니다. 우선 ImageDataGenerator 객체를 생성하여 데이터 파이프 라인을 만듭니다. train dataset의 generator에는 augmentation이 포함되고, test dataset의 generator는 원본 상태를 유지하고 rescaling만 적용합니다."
      ]
    },
    {
      "cell_type": "code",
      "execution_count": null,
      "id": "78ee4c4c",
      "metadata": {
        "id": "78ee4c4c"
      },
      "outputs": [],
      "source": [
        "# data 파이프 라인 생성\n",
        "\n",
        "# 데이터를 디렉토리로부터 불러올 때, 한번에 가져올 데이터의 수\n",
        "batch_size=20\n",
        "\n",
        "# Training 데이터의 augmentation 파이프 라인 만들기\n",
        "augmentation_train_datagen = tf.keras.preprocessing.image.ImageDataGenerator( rescale=1./255,  # 모든 데이터의 값을 1/255로 스케일 조정\n",
        "                                    rotation_range=40,  # 0~40도 사이로 이미지 회전\n",
        "                                    width_shift_range=0.2,  # 전체 가로 길이를 기준으로 0.2 비율까지 가로로 이동\n",
        "                                    height_shift_range=0.2,   # 전체 세로 길이를 기준으로 0.2 비율까지 가로로 이동\n",
        "                                    shear_range=0.2,  # 0.2 라디안 정도까지 이미지를 기울이기\n",
        "                                    zoom_range=0.2, # 확대와 축소의 범위 [1-0.2 ~ 1+0.2 ]\n",
        "                                    horizontal_flip=True,)  # 수평 기준 플립을 할 지, 하지 않을 지를 결정\n",
        "\n",
        "# Test 데이터의 augmentation 파이프 라인 만들기\n",
        "test_datagen = tf.keras.preprocessing.image.ImageDataGenerator(rescale=1./255)"
      ]
    },
    {
      "cell_type": "markdown",
      "id": "1086227a",
      "metadata": {
        "id": "1086227a"
      },
      "source": [
        "Augmentation 파이프라인을 기준으로 디렉토리로부터 데이터를 불러오는 모듈을 만듭니다. train/test dataset의 경로와 이미지 크기 등을 지정하여 train_generator와 test_generator 생성하면 됩니다."
      ]
    },
    {
      "cell_type": "code",
      "execution_count": null,
      "id": "183767e7",
      "metadata": {
        "id": "183767e7",
        "outputId": "fa56379b-8a23-44c8-aa2a-522359accaca"
      },
      "outputs": [
        {
          "name": "stdout",
          "output_type": "stream",
          "text": [
            "Found 20000 images belonging to 4 classes.\n",
            "{'aeroplane': 0, 'bird': 1, 'car': 2, 'cat': 3}\n"
          ]
        }
      ],
      "source": [
        "# Augmentation 파이프라인을 기준으로 디렉토리로부터 데이터를 불러 오는 모듈 만들기\n",
        "\n",
        "train_generator = augmentation_train_datagen.flow_from_directory(\n",
        "        directory=train_dir, #  어느 디렉터리에서 이미지 데이터를 가져올 것인가?\n",
        "        target_size=(150, 150), # 모든 이미지를 150 × 150 크기로 바꿉니다\n",
        "        batch_size=batch_size, # 디렉토리에서 batch size만큼의 이미지를 가져옵니다.\n",
        "        interpolation='bilinear',  # resize를 할 때, interpolatrion 기법을 결정합니다.\n",
        "        color_mode ='rgb',\n",
        "        shuffle='True', # 이미지를 셔플링할 지 하지 않을 지를 결정.\n",
        "        class_mode='categorical') # multiclass의 경우이므로 class mode는 categorical\n",
        "\n",
        "print(train_generator.class_indices)"
      ]
    },
    {
      "cell_type": "code",
      "execution_count": null,
      "id": "066dc560",
      "metadata": {
        "id": "066dc560",
        "outputId": "92d18ebd-121a-4efc-fe2c-e572f17b9b3d"
      },
      "outputs": [
        {
          "name": "stdout",
          "output_type": "stream",
          "text": [
            "Found 20000 images belonging to 4 classes.\n",
            "{'aeroplane': 0, 'bird': 1, 'car': 2, 'cat': 3}\n"
          ]
        }
      ],
      "source": [
        "# Q. Test 데이터 디렉토리로부터 이미지를 불러오는 파이프라인을 완성해 보세요.\n",
        "# (위의 train_generator와 조건은 동일)\n",
        "\n",
        "test_generator = test_datagen.flow_from_directory(\n",
        "        directory=train_dir, #  어느 디렉터리에서 이미지 데이터를 가져올 것인가?\n",
        "        target_size=(150, 150), # 모든 이미지를 150 × 150 크기로 바꿉니다\n",
        "        batch_size=batch_size, # 디렉토리에서 batch size만큼의 이미지를 가져옵니다.\n",
        "        interpolation='bilinear',  # resize를 할 때, interpolatrion 기법을 결정합니다.\n",
        "        color_mode ='rgb',\n",
        "        shuffle='True', # 이미지를 셔플링할 지 하지 않을 지를 결정.\n",
        "        class_mode='categorical')\n",
        "\n",
        "print(train_generator.class_indices)"
      ]
    },
    {
      "cell_type": "code",
      "execution_count": null,
      "id": "ac87c4e2",
      "metadata": {
        "id": "ac87c4e2",
        "outputId": "484b694b-7c50-42c9-8a5b-a850ae81c52a"
      },
      "outputs": [
        {
          "name": "stdout",
          "output_type": "stream",
          "text": [
            "배치 데이터 크기: (20, 150, 150, 3)\n",
            "배치 레이블 크기: (20, 4)\n"
          ]
        }
      ],
      "source": [
        "for data_batch, labels_batch in train_generator:\n",
        "    print('배치 데이터 크기:', data_batch.shape)\n",
        "    print('배치 레이블 크기:', labels_batch.shape)\n",
        "    break"
      ]
    },
    {
      "cell_type": "code",
      "execution_count": null,
      "id": "718dd775",
      "metadata": {
        "id": "718dd775",
        "outputId": "30f041eb-222e-474f-9a0c-f781941cba15"
      },
      "outputs": [
        {
          "name": "stdout",
          "output_type": "stream",
          "text": [
            "Model: \"resnet50\"\n",
            "__________________________________________________________________________________________________\n",
            "Layer (type)                    Output Shape         Param #     Connected to                     \n",
            "==================================================================================================\n",
            "input_1 (InputLayer)            [(None, None, None,  0                                            \n",
            "__________________________________________________________________________________________________\n",
            "conv1_pad (ZeroPadding2D)       (None, None, None, 3 0           input_1[0][0]                    \n",
            "__________________________________________________________________________________________________\n",
            "conv1_conv (Conv2D)             (None, None, None, 6 9472        conv1_pad[0][0]                  \n",
            "__________________________________________________________________________________________________\n",
            "conv1_bn (BatchNormalization)   (None, None, None, 6 256         conv1_conv[0][0]                 \n",
            "__________________________________________________________________________________________________\n",
            "conv1_relu (Activation)         (None, None, None, 6 0           conv1_bn[0][0]                   \n",
            "__________________________________________________________________________________________________\n",
            "pool1_pad (ZeroPadding2D)       (None, None, None, 6 0           conv1_relu[0][0]                 \n",
            "__________________________________________________________________________________________________\n",
            "pool1_pool (MaxPooling2D)       (None, None, None, 6 0           pool1_pad[0][0]                  \n",
            "__________________________________________________________________________________________________\n",
            "conv2_block1_1_conv (Conv2D)    (None, None, None, 6 4160        pool1_pool[0][0]                 \n",
            "__________________________________________________________________________________________________\n",
            "conv2_block1_1_bn (BatchNormali (None, None, None, 6 256         conv2_block1_1_conv[0][0]        \n",
            "__________________________________________________________________________________________________\n",
            "conv2_block1_1_relu (Activation (None, None, None, 6 0           conv2_block1_1_bn[0][0]          \n",
            "__________________________________________________________________________________________________\n",
            "conv2_block1_2_conv (Conv2D)    (None, None, None, 6 36928       conv2_block1_1_relu[0][0]        \n",
            "__________________________________________________________________________________________________\n",
            "conv2_block1_2_bn (BatchNormali (None, None, None, 6 256         conv2_block1_2_conv[0][0]        \n",
            "__________________________________________________________________________________________________\n",
            "conv2_block1_2_relu (Activation (None, None, None, 6 0           conv2_block1_2_bn[0][0]          \n",
            "__________________________________________________________________________________________________\n",
            "conv2_block1_0_conv (Conv2D)    (None, None, None, 2 16640       pool1_pool[0][0]                 \n",
            "__________________________________________________________________________________________________\n",
            "conv2_block1_3_conv (Conv2D)    (None, None, None, 2 16640       conv2_block1_2_relu[0][0]        \n",
            "__________________________________________________________________________________________________\n",
            "conv2_block1_0_bn (BatchNormali (None, None, None, 2 1024        conv2_block1_0_conv[0][0]        \n",
            "__________________________________________________________________________________________________\n",
            "conv2_block1_3_bn (BatchNormali (None, None, None, 2 1024        conv2_block1_3_conv[0][0]        \n",
            "__________________________________________________________________________________________________\n",
            "conv2_block1_add (Add)          (None, None, None, 2 0           conv2_block1_0_bn[0][0]          \n",
            "                                                                 conv2_block1_3_bn[0][0]          \n",
            "__________________________________________________________________________________________________\n",
            "conv2_block1_out (Activation)   (None, None, None, 2 0           conv2_block1_add[0][0]           \n",
            "__________________________________________________________________________________________________\n",
            "conv2_block2_1_conv (Conv2D)    (None, None, None, 6 16448       conv2_block1_out[0][0]           \n",
            "__________________________________________________________________________________________________\n",
            "conv2_block2_1_bn (BatchNormali (None, None, None, 6 256         conv2_block2_1_conv[0][0]        \n",
            "__________________________________________________________________________________________________\n",
            "conv2_block2_1_relu (Activation (None, None, None, 6 0           conv2_block2_1_bn[0][0]          \n",
            "__________________________________________________________________________________________________\n",
            "conv2_block2_2_conv (Conv2D)    (None, None, None, 6 36928       conv2_block2_1_relu[0][0]        \n",
            "__________________________________________________________________________________________________\n",
            "conv2_block2_2_bn (BatchNormali (None, None, None, 6 256         conv2_block2_2_conv[0][0]        \n",
            "__________________________________________________________________________________________________\n",
            "conv2_block2_2_relu (Activation (None, None, None, 6 0           conv2_block2_2_bn[0][0]          \n",
            "__________________________________________________________________________________________________\n",
            "conv2_block2_3_conv (Conv2D)    (None, None, None, 2 16640       conv2_block2_2_relu[0][0]        \n",
            "__________________________________________________________________________________________________\n",
            "conv2_block2_3_bn (BatchNormali (None, None, None, 2 1024        conv2_block2_3_conv[0][0]        \n",
            "__________________________________________________________________________________________________\n",
            "conv2_block2_add (Add)          (None, None, None, 2 0           conv2_block1_out[0][0]           \n",
            "                                                                 conv2_block2_3_bn[0][0]          \n",
            "__________________________________________________________________________________________________\n",
            "conv2_block2_out (Activation)   (None, None, None, 2 0           conv2_block2_add[0][0]           \n",
            "__________________________________________________________________________________________________\n",
            "conv2_block3_1_conv (Conv2D)    (None, None, None, 6 16448       conv2_block2_out[0][0]           \n",
            "__________________________________________________________________________________________________\n",
            "conv2_block3_1_bn (BatchNormali (None, None, None, 6 256         conv2_block3_1_conv[0][0]        \n",
            "__________________________________________________________________________________________________\n",
            "conv2_block3_1_relu (Activation (None, None, None, 6 0           conv2_block3_1_bn[0][0]          \n",
            "__________________________________________________________________________________________________\n",
            "conv2_block3_2_conv (Conv2D)    (None, None, None, 6 36928       conv2_block3_1_relu[0][0]        \n",
            "__________________________________________________________________________________________________\n",
            "conv2_block3_2_bn (BatchNormali (None, None, None, 6 256         conv2_block3_2_conv[0][0]        \n",
            "__________________________________________________________________________________________________\n",
            "conv2_block3_2_relu (Activation (None, None, None, 6 0           conv2_block3_2_bn[0][0]          \n",
            "__________________________________________________________________________________________________\n",
            "conv2_block3_3_conv (Conv2D)    (None, None, None, 2 16640       conv2_block3_2_relu[0][0]        \n",
            "__________________________________________________________________________________________________\n",
            "conv2_block3_3_bn (BatchNormali (None, None, None, 2 1024        conv2_block3_3_conv[0][0]        \n",
            "__________________________________________________________________________________________________\n",
            "conv2_block3_add (Add)          (None, None, None, 2 0           conv2_block2_out[0][0]           \n",
            "                                                                 conv2_block3_3_bn[0][0]          \n",
            "__________________________________________________________________________________________________\n",
            "conv2_block3_out (Activation)   (None, None, None, 2 0           conv2_block3_add[0][0]           \n",
            "__________________________________________________________________________________________________\n",
            "conv3_block1_1_conv (Conv2D)    (None, None, None, 1 32896       conv2_block3_out[0][0]           \n",
            "__________________________________________________________________________________________________\n",
            "conv3_block1_1_bn (BatchNormali (None, None, None, 1 512         conv3_block1_1_conv[0][0]        \n",
            "__________________________________________________________________________________________________\n",
            "conv3_block1_1_relu (Activation (None, None, None, 1 0           conv3_block1_1_bn[0][0]          \n",
            "__________________________________________________________________________________________________\n",
            "conv3_block1_2_conv (Conv2D)    (None, None, None, 1 147584      conv3_block1_1_relu[0][0]        \n",
            "__________________________________________________________________________________________________\n",
            "conv3_block1_2_bn (BatchNormali (None, None, None, 1 512         conv3_block1_2_conv[0][0]        \n",
            "__________________________________________________________________________________________________\n",
            "conv3_block1_2_relu (Activation (None, None, None, 1 0           conv3_block1_2_bn[0][0]          \n",
            "__________________________________________________________________________________________________\n",
            "conv3_block1_0_conv (Conv2D)    (None, None, None, 5 131584      conv2_block3_out[0][0]           \n",
            "__________________________________________________________________________________________________\n",
            "conv3_block1_3_conv (Conv2D)    (None, None, None, 5 66048       conv3_block1_2_relu[0][0]        \n",
            "__________________________________________________________________________________________________\n",
            "conv3_block1_0_bn (BatchNormali (None, None, None, 5 2048        conv3_block1_0_conv[0][0]        \n",
            "__________________________________________________________________________________________________\n",
            "conv3_block1_3_bn (BatchNormali (None, None, None, 5 2048        conv3_block1_3_conv[0][0]        \n",
            "__________________________________________________________________________________________________\n",
            "conv3_block1_add (Add)          (None, None, None, 5 0           conv3_block1_0_bn[0][0]          \n",
            "                                                                 conv3_block1_3_bn[0][0]          \n",
            "__________________________________________________________________________________________________\n",
            "conv3_block1_out (Activation)   (None, None, None, 5 0           conv3_block1_add[0][0]           \n",
            "__________________________________________________________________________________________________\n",
            "conv3_block2_1_conv (Conv2D)    (None, None, None, 1 65664       conv3_block1_out[0][0]           \n",
            "__________________________________________________________________________________________________\n",
            "conv3_block2_1_bn (BatchNormali (None, None, None, 1 512         conv3_block2_1_conv[0][0]        \n",
            "__________________________________________________________________________________________________\n",
            "conv3_block2_1_relu (Activation (None, None, None, 1 0           conv3_block2_1_bn[0][0]          \n",
            "__________________________________________________________________________________________________\n",
            "conv3_block2_2_conv (Conv2D)    (None, None, None, 1 147584      conv3_block2_1_relu[0][0]        \n",
            "__________________________________________________________________________________________________\n",
            "conv3_block2_2_bn (BatchNormali (None, None, None, 1 512         conv3_block2_2_conv[0][0]        \n",
            "__________________________________________________________________________________________________\n",
            "conv3_block2_2_relu (Activation (None, None, None, 1 0           conv3_block2_2_bn[0][0]          \n",
            "__________________________________________________________________________________________________\n",
            "conv3_block2_3_conv (Conv2D)    (None, None, None, 5 66048       conv3_block2_2_relu[0][0]        \n",
            "__________________________________________________________________________________________________\n",
            "conv3_block2_3_bn (BatchNormali (None, None, None, 5 2048        conv3_block2_3_conv[0][0]        \n",
            "__________________________________________________________________________________________________\n",
            "conv3_block2_add (Add)          (None, None, None, 5 0           conv3_block1_out[0][0]           \n",
            "                                                                 conv3_block2_3_bn[0][0]          \n",
            "__________________________________________________________________________________________________\n",
            "conv3_block2_out (Activation)   (None, None, None, 5 0           conv3_block2_add[0][0]           \n",
            "__________________________________________________________________________________________________\n",
            "conv3_block3_1_conv (Conv2D)    (None, None, None, 1 65664       conv3_block2_out[0][0]           \n",
            "__________________________________________________________________________________________________\n",
            "conv3_block3_1_bn (BatchNormali (None, None, None, 1 512         conv3_block3_1_conv[0][0]        \n",
            "__________________________________________________________________________________________________\n",
            "conv3_block3_1_relu (Activation (None, None, None, 1 0           conv3_block3_1_bn[0][0]          \n",
            "__________________________________________________________________________________________________\n",
            "conv3_block3_2_conv (Conv2D)    (None, None, None, 1 147584      conv3_block3_1_relu[0][0]        \n",
            "__________________________________________________________________________________________________\n",
            "conv3_block3_2_bn (BatchNormali (None, None, None, 1 512         conv3_block3_2_conv[0][0]        \n",
            "__________________________________________________________________________________________________\n",
            "conv3_block3_2_relu (Activation (None, None, None, 1 0           conv3_block3_2_bn[0][0]          \n",
            "__________________________________________________________________________________________________\n",
            "conv3_block3_3_conv (Conv2D)    (None, None, None, 5 66048       conv3_block3_2_relu[0][0]        \n",
            "__________________________________________________________________________________________________\n",
            "conv3_block3_3_bn (BatchNormali (None, None, None, 5 2048        conv3_block3_3_conv[0][0]        \n",
            "__________________________________________________________________________________________________\n",
            "conv3_block3_add (Add)          (None, None, None, 5 0           conv3_block2_out[0][0]           \n",
            "                                                                 conv3_block3_3_bn[0][0]          \n",
            "__________________________________________________________________________________________________\n",
            "conv3_block3_out (Activation)   (None, None, None, 5 0           conv3_block3_add[0][0]           \n",
            "__________________________________________________________________________________________________\n",
            "conv3_block4_1_conv (Conv2D)    (None, None, None, 1 65664       conv3_block3_out[0][0]           \n",
            "__________________________________________________________________________________________________\n",
            "conv3_block4_1_bn (BatchNormali (None, None, None, 1 512         conv3_block4_1_conv[0][0]        \n",
            "__________________________________________________________________________________________________\n",
            "conv3_block4_1_relu (Activation (None, None, None, 1 0           conv3_block4_1_bn[0][0]          \n",
            "__________________________________________________________________________________________________\n",
            "conv3_block4_2_conv (Conv2D)    (None, None, None, 1 147584      conv3_block4_1_relu[0][0]        \n",
            "__________________________________________________________________________________________________\n",
            "conv3_block4_2_bn (BatchNormali (None, None, None, 1 512         conv3_block4_2_conv[0][0]        \n",
            "__________________________________________________________________________________________________\n",
            "conv3_block4_2_relu (Activation (None, None, None, 1 0           conv3_block4_2_bn[0][0]          \n",
            "__________________________________________________________________________________________________\n",
            "conv3_block4_3_conv (Conv2D)    (None, None, None, 5 66048       conv3_block4_2_relu[0][0]        \n",
            "__________________________________________________________________________________________________\n",
            "conv3_block4_3_bn (BatchNormali (None, None, None, 5 2048        conv3_block4_3_conv[0][0]        \n",
            "__________________________________________________________________________________________________\n",
            "conv3_block4_add (Add)          (None, None, None, 5 0           conv3_block3_out[0][0]           \n",
            "                                                                 conv3_block4_3_bn[0][0]          \n",
            "__________________________________________________________________________________________________\n",
            "conv3_block4_out (Activation)   (None, None, None, 5 0           conv3_block4_add[0][0]           \n",
            "__________________________________________________________________________________________________\n",
            "conv4_block1_1_conv (Conv2D)    (None, None, None, 2 131328      conv3_block4_out[0][0]           \n",
            "__________________________________________________________________________________________________\n",
            "conv4_block1_1_bn (BatchNormali (None, None, None, 2 1024        conv4_block1_1_conv[0][0]        \n",
            "__________________________________________________________________________________________________\n",
            "conv4_block1_1_relu (Activation (None, None, None, 2 0           conv4_block1_1_bn[0][0]          \n",
            "__________________________________________________________________________________________________\n",
            "conv4_block1_2_conv (Conv2D)    (None, None, None, 2 590080      conv4_block1_1_relu[0][0]        \n",
            "__________________________________________________________________________________________________\n",
            "conv4_block1_2_bn (BatchNormali (None, None, None, 2 1024        conv4_block1_2_conv[0][0]        \n",
            "__________________________________________________________________________________________________\n",
            "conv4_block1_2_relu (Activation (None, None, None, 2 0           conv4_block1_2_bn[0][0]          \n",
            "__________________________________________________________________________________________________\n",
            "conv4_block1_0_conv (Conv2D)    (None, None, None, 1 525312      conv3_block4_out[0][0]           \n",
            "__________________________________________________________________________________________________\n",
            "conv4_block1_3_conv (Conv2D)    (None, None, None, 1 263168      conv4_block1_2_relu[0][0]        \n",
            "__________________________________________________________________________________________________\n",
            "conv4_block1_0_bn (BatchNormali (None, None, None, 1 4096        conv4_block1_0_conv[0][0]        \n",
            "__________________________________________________________________________________________________\n",
            "conv4_block1_3_bn (BatchNormali (None, None, None, 1 4096        conv4_block1_3_conv[0][0]        \n",
            "__________________________________________________________________________________________________\n",
            "conv4_block1_add (Add)          (None, None, None, 1 0           conv4_block1_0_bn[0][0]          \n",
            "                                                                 conv4_block1_3_bn[0][0]          \n",
            "__________________________________________________________________________________________________\n",
            "conv4_block1_out (Activation)   (None, None, None, 1 0           conv4_block1_add[0][0]           \n",
            "__________________________________________________________________________________________________\n",
            "conv4_block2_1_conv (Conv2D)    (None, None, None, 2 262400      conv4_block1_out[0][0]           \n",
            "__________________________________________________________________________________________________\n",
            "conv4_block2_1_bn (BatchNormali (None, None, None, 2 1024        conv4_block2_1_conv[0][0]        \n",
            "__________________________________________________________________________________________________\n",
            "conv4_block2_1_relu (Activation (None, None, None, 2 0           conv4_block2_1_bn[0][0]          \n",
            "__________________________________________________________________________________________________\n",
            "conv4_block2_2_conv (Conv2D)    (None, None, None, 2 590080      conv4_block2_1_relu[0][0]        \n",
            "__________________________________________________________________________________________________\n",
            "conv4_block2_2_bn (BatchNormali (None, None, None, 2 1024        conv4_block2_2_conv[0][0]        \n",
            "__________________________________________________________________________________________________\n",
            "conv4_block2_2_relu (Activation (None, None, None, 2 0           conv4_block2_2_bn[0][0]          \n",
            "__________________________________________________________________________________________________\n",
            "conv4_block2_3_conv (Conv2D)    (None, None, None, 1 263168      conv4_block2_2_relu[0][0]        \n",
            "__________________________________________________________________________________________________\n",
            "conv4_block2_3_bn (BatchNormali (None, None, None, 1 4096        conv4_block2_3_conv[0][0]        \n",
            "__________________________________________________________________________________________________\n",
            "conv4_block2_add (Add)          (None, None, None, 1 0           conv4_block1_out[0][0]           \n",
            "                                                                 conv4_block2_3_bn[0][0]          \n",
            "__________________________________________________________________________________________________\n",
            "conv4_block2_out (Activation)   (None, None, None, 1 0           conv4_block2_add[0][0]           \n",
            "__________________________________________________________________________________________________\n",
            "conv4_block3_1_conv (Conv2D)    (None, None, None, 2 262400      conv4_block2_out[0][0]           \n",
            "__________________________________________________________________________________________________\n",
            "conv4_block3_1_bn (BatchNormali (None, None, None, 2 1024        conv4_block3_1_conv[0][0]        \n",
            "__________________________________________________________________________________________________\n",
            "conv4_block3_1_relu (Activation (None, None, None, 2 0           conv4_block3_1_bn[0][0]          \n",
            "__________________________________________________________________________________________________\n",
            "conv4_block3_2_conv (Conv2D)    (None, None, None, 2 590080      conv4_block3_1_relu[0][0]        \n",
            "__________________________________________________________________________________________________\n",
            "conv4_block3_2_bn (BatchNormali (None, None, None, 2 1024        conv4_block3_2_conv[0][0]        \n",
            "__________________________________________________________________________________________________\n",
            "conv4_block3_2_relu (Activation (None, None, None, 2 0           conv4_block3_2_bn[0][0]          \n",
            "__________________________________________________________________________________________________\n",
            "conv4_block3_3_conv (Conv2D)    (None, None, None, 1 263168      conv4_block3_2_relu[0][0]        \n",
            "__________________________________________________________________________________________________\n",
            "conv4_block3_3_bn (BatchNormali (None, None, None, 1 4096        conv4_block3_3_conv[0][0]        \n",
            "__________________________________________________________________________________________________\n",
            "conv4_block3_add (Add)          (None, None, None, 1 0           conv4_block2_out[0][0]           \n",
            "                                                                 conv4_block3_3_bn[0][0]          \n",
            "__________________________________________________________________________________________________\n",
            "conv4_block3_out (Activation)   (None, None, None, 1 0           conv4_block3_add[0][0]           \n",
            "__________________________________________________________________________________________________\n",
            "conv4_block4_1_conv (Conv2D)    (None, None, None, 2 262400      conv4_block3_out[0][0]           \n",
            "__________________________________________________________________________________________________\n",
            "conv4_block4_1_bn (BatchNormali (None, None, None, 2 1024        conv4_block4_1_conv[0][0]        \n",
            "__________________________________________________________________________________________________\n",
            "conv4_block4_1_relu (Activation (None, None, None, 2 0           conv4_block4_1_bn[0][0]          \n",
            "__________________________________________________________________________________________________\n",
            "conv4_block4_2_conv (Conv2D)    (None, None, None, 2 590080      conv4_block4_1_relu[0][0]        \n",
            "__________________________________________________________________________________________________\n",
            "conv4_block4_2_bn (BatchNormali (None, None, None, 2 1024        conv4_block4_2_conv[0][0]        \n",
            "__________________________________________________________________________________________________\n",
            "conv4_block4_2_relu (Activation (None, None, None, 2 0           conv4_block4_2_bn[0][0]          \n",
            "__________________________________________________________________________________________________\n",
            "conv4_block4_3_conv (Conv2D)    (None, None, None, 1 263168      conv4_block4_2_relu[0][0]        \n",
            "__________________________________________________________________________________________________\n",
            "conv4_block4_3_bn (BatchNormali (None, None, None, 1 4096        conv4_block4_3_conv[0][0]        \n",
            "__________________________________________________________________________________________________\n",
            "conv4_block4_add (Add)          (None, None, None, 1 0           conv4_block3_out[0][0]           \n",
            "                                                                 conv4_block4_3_bn[0][0]          \n",
            "__________________________________________________________________________________________________\n",
            "conv4_block4_out (Activation)   (None, None, None, 1 0           conv4_block4_add[0][0]           \n",
            "__________________________________________________________________________________________________\n",
            "conv4_block5_1_conv (Conv2D)    (None, None, None, 2 262400      conv4_block4_out[0][0]           \n",
            "__________________________________________________________________________________________________\n",
            "conv4_block5_1_bn (BatchNormali (None, None, None, 2 1024        conv4_block5_1_conv[0][0]        \n",
            "__________________________________________________________________________________________________\n",
            "conv4_block5_1_relu (Activation (None, None, None, 2 0           conv4_block5_1_bn[0][0]          \n",
            "__________________________________________________________________________________________________\n",
            "conv4_block5_2_conv (Conv2D)    (None, None, None, 2 590080      conv4_block5_1_relu[0][0]        \n",
            "__________________________________________________________________________________________________\n",
            "conv4_block5_2_bn (BatchNormali (None, None, None, 2 1024        conv4_block5_2_conv[0][0]        \n",
            "__________________________________________________________________________________________________\n",
            "conv4_block5_2_relu (Activation (None, None, None, 2 0           conv4_block5_2_bn[0][0]          \n",
            "__________________________________________________________________________________________________\n",
            "conv4_block5_3_conv (Conv2D)    (None, None, None, 1 263168      conv4_block5_2_relu[0][0]        \n",
            "__________________________________________________________________________________________________\n",
            "conv4_block5_3_bn (BatchNormali (None, None, None, 1 4096        conv4_block5_3_conv[0][0]        \n",
            "__________________________________________________________________________________________________\n",
            "conv4_block5_add (Add)          (None, None, None, 1 0           conv4_block4_out[0][0]           \n",
            "                                                                 conv4_block5_3_bn[0][0]          \n",
            "__________________________________________________________________________________________________\n",
            "conv4_block5_out (Activation)   (None, None, None, 1 0           conv4_block5_add[0][0]           \n",
            "__________________________________________________________________________________________________\n",
            "conv4_block6_1_conv (Conv2D)    (None, None, None, 2 262400      conv4_block5_out[0][0]           \n",
            "__________________________________________________________________________________________________\n",
            "conv4_block6_1_bn (BatchNormali (None, None, None, 2 1024        conv4_block6_1_conv[0][0]        \n",
            "__________________________________________________________________________________________________\n",
            "conv4_block6_1_relu (Activation (None, None, None, 2 0           conv4_block6_1_bn[0][0]          \n",
            "__________________________________________________________________________________________________\n",
            "conv4_block6_2_conv (Conv2D)    (None, None, None, 2 590080      conv4_block6_1_relu[0][0]        \n",
            "__________________________________________________________________________________________________\n",
            "conv4_block6_2_bn (BatchNormali (None, None, None, 2 1024        conv4_block6_2_conv[0][0]        \n",
            "__________________________________________________________________________________________________\n",
            "conv4_block6_2_relu (Activation (None, None, None, 2 0           conv4_block6_2_bn[0][0]          \n",
            "__________________________________________________________________________________________________\n",
            "conv4_block6_3_conv (Conv2D)    (None, None, None, 1 263168      conv4_block6_2_relu[0][0]        \n",
            "__________________________________________________________________________________________________\n",
            "conv4_block6_3_bn (BatchNormali (None, None, None, 1 4096        conv4_block6_3_conv[0][0]        \n",
            "__________________________________________________________________________________________________\n",
            "conv4_block6_add (Add)          (None, None, None, 1 0           conv4_block5_out[0][0]           \n",
            "                                                                 conv4_block6_3_bn[0][0]          \n",
            "__________________________________________________________________________________________________\n",
            "conv4_block6_out (Activation)   (None, None, None, 1 0           conv4_block6_add[0][0]           \n",
            "__________________________________________________________________________________________________\n",
            "conv5_block1_1_conv (Conv2D)    (None, None, None, 5 524800      conv4_block6_out[0][0]           \n",
            "__________________________________________________________________________________________________\n",
            "conv5_block1_1_bn (BatchNormali (None, None, None, 5 2048        conv5_block1_1_conv[0][0]        \n",
            "__________________________________________________________________________________________________\n",
            "conv5_block1_1_relu (Activation (None, None, None, 5 0           conv5_block1_1_bn[0][0]          \n",
            "__________________________________________________________________________________________________\n",
            "conv5_block1_2_conv (Conv2D)    (None, None, None, 5 2359808     conv5_block1_1_relu[0][0]        \n",
            "__________________________________________________________________________________________________\n",
            "conv5_block1_2_bn (BatchNormali (None, None, None, 5 2048        conv5_block1_2_conv[0][0]        \n",
            "__________________________________________________________________________________________________\n",
            "conv5_block1_2_relu (Activation (None, None, None, 5 0           conv5_block1_2_bn[0][0]          \n",
            "__________________________________________________________________________________________________\n",
            "conv5_block1_0_conv (Conv2D)    (None, None, None, 2 2099200     conv4_block6_out[0][0]           \n",
            "__________________________________________________________________________________________________\n",
            "conv5_block1_3_conv (Conv2D)    (None, None, None, 2 1050624     conv5_block1_2_relu[0][0]        \n",
            "__________________________________________________________________________________________________\n",
            "conv5_block1_0_bn (BatchNormali (None, None, None, 2 8192        conv5_block1_0_conv[0][0]        \n",
            "__________________________________________________________________________________________________\n",
            "conv5_block1_3_bn (BatchNormali (None, None, None, 2 8192        conv5_block1_3_conv[0][0]        \n",
            "__________________________________________________________________________________________________\n",
            "conv5_block1_add (Add)          (None, None, None, 2 0           conv5_block1_0_bn[0][0]          \n",
            "                                                                 conv5_block1_3_bn[0][0]          \n",
            "__________________________________________________________________________________________________\n",
            "conv5_block1_out (Activation)   (None, None, None, 2 0           conv5_block1_add[0][0]           \n",
            "__________________________________________________________________________________________________\n",
            "conv5_block2_1_conv (Conv2D)    (None, None, None, 5 1049088     conv5_block1_out[0][0]           \n",
            "__________________________________________________________________________________________________\n",
            "conv5_block2_1_bn (BatchNormali (None, None, None, 5 2048        conv5_block2_1_conv[0][0]        \n",
            "__________________________________________________________________________________________________\n",
            "conv5_block2_1_relu (Activation (None, None, None, 5 0           conv5_block2_1_bn[0][0]          \n",
            "__________________________________________________________________________________________________\n",
            "conv5_block2_2_conv (Conv2D)    (None, None, None, 5 2359808     conv5_block2_1_relu[0][0]        \n",
            "__________________________________________________________________________________________________\n",
            "conv5_block2_2_bn (BatchNormali (None, None, None, 5 2048        conv5_block2_2_conv[0][0]        \n",
            "__________________________________________________________________________________________________\n",
            "conv5_block2_2_relu (Activation (None, None, None, 5 0           conv5_block2_2_bn[0][0]          \n",
            "__________________________________________________________________________________________________\n",
            "conv5_block2_3_conv (Conv2D)    (None, None, None, 2 1050624     conv5_block2_2_relu[0][0]        \n",
            "__________________________________________________________________________________________________\n",
            "conv5_block2_3_bn (BatchNormali (None, None, None, 2 8192        conv5_block2_3_conv[0][0]        \n",
            "__________________________________________________________________________________________________\n",
            "conv5_block2_add (Add)          (None, None, None, 2 0           conv5_block1_out[0][0]           \n",
            "                                                                 conv5_block2_3_bn[0][0]          \n",
            "__________________________________________________________________________________________________\n",
            "conv5_block2_out (Activation)   (None, None, None, 2 0           conv5_block2_add[0][0]           \n",
            "__________________________________________________________________________________________________\n",
            "conv5_block3_1_conv (Conv2D)    (None, None, None, 5 1049088     conv5_block2_out[0][0]           \n",
            "__________________________________________________________________________________________________\n",
            "conv5_block3_1_bn (BatchNormali (None, None, None, 5 2048        conv5_block3_1_conv[0][0]        \n",
            "__________________________________________________________________________________________________\n",
            "conv5_block3_1_relu (Activation (None, None, None, 5 0           conv5_block3_1_bn[0][0]          \n",
            "__________________________________________________________________________________________________\n",
            "conv5_block3_2_conv (Conv2D)    (None, None, None, 5 2359808     conv5_block3_1_relu[0][0]        \n",
            "__________________________________________________________________________________________________\n",
            "conv5_block3_2_bn (BatchNormali (None, None, None, 5 2048        conv5_block3_2_conv[0][0]        \n",
            "__________________________________________________________________________________________________\n",
            "conv5_block3_2_relu (Activation (None, None, None, 5 0           conv5_block3_2_bn[0][0]          \n",
            "__________________________________________________________________________________________________\n",
            "conv5_block3_3_conv (Conv2D)    (None, None, None, 2 1050624     conv5_block3_2_relu[0][0]        \n",
            "__________________________________________________________________________________________________\n",
            "conv5_block3_3_bn (BatchNormali (None, None, None, 2 8192        conv5_block3_3_conv[0][0]        \n",
            "__________________________________________________________________________________________________\n",
            "conv5_block3_add (Add)          (None, None, None, 2 0           conv5_block2_out[0][0]           \n",
            "                                                                 conv5_block3_3_bn[0][0]          \n",
            "__________________________________________________________________________________________________\n",
            "conv5_block3_out (Activation)   (None, None, None, 2 0           conv5_block3_add[0][0]           \n",
            "==================================================================================================\n",
            "Total params: 23,587,712\n",
            "Trainable params: 23,534,592\n",
            "Non-trainable params: 53,120\n",
            "__________________________________________________________________________________________________\n"
          ]
        }
      ],
      "source": [
        "# back bone\n",
        "\n",
        "conv_base=tf.keras.applications.ResNet50(weights='imagenet',include_top=False)\n",
        "conv_base.summary()"
      ]
    },
    {
      "cell_type": "code",
      "execution_count": null,
      "id": "17f767bd",
      "metadata": {
        "id": "17f767bd"
      },
      "outputs": [],
      "source": [
        "# 최종 모델 구성하기\n",
        "\n",
        "input_layer = tf.keras.layers.Input(shape=(150,150,3))\n",
        "x = conv_base(input_layer) # 위에서 불러온 pretrained model을 활용하기\n",
        "\n",
        "# 불러온 conv_base 모델의 최종 결과물은 Conv2D 연산의 feature map과 동일\n",
        "# 따라서 최종적인 Multiclass classfication을 하기 위해서는 Flatten을 해야 한다.\n",
        "\n",
        "x = tf.keras.layers.Flatten()(x)\n",
        "x = tf.keras.layers.Dense(512, activation='relu')(x)\n",
        "out_layer = tf.keras.layers.Dense(4, activation='softmax')(x)"
      ]
    },
    {
      "cell_type": "markdown",
      "id": "d0892c9e",
      "metadata": {
        "id": "d0892c9e"
      },
      "source": [
        "conv_base는 freeze 시킴으로써 이미 학습된 파라미터 값을 그대로 사용합니다."
      ]
    },
    {
      "cell_type": "code",
      "execution_count": null,
      "id": "a253284c",
      "metadata": {
        "id": "a253284c"
      },
      "outputs": [],
      "source": [
        "conv_base.trainable = False"
      ]
    },
    {
      "cell_type": "code",
      "execution_count": null,
      "id": "79c82af4",
      "metadata": {
        "id": "79c82af4",
        "outputId": "4b02097d-1769-417c-85f9-42dfc916f3c2"
      },
      "outputs": [
        {
          "name": "stdout",
          "output_type": "stream",
          "text": [
            "Model: \"model\"\n",
            "_________________________________________________________________\n",
            "Layer (type)                 Output Shape              Param #   \n",
            "=================================================================\n",
            "input_2 (InputLayer)         [(None, 150, 150, 3)]     0         \n",
            "_________________________________________________________________\n",
            "resnet50 (Functional)        (None, None, None, 2048)  23587712  \n",
            "_________________________________________________________________\n",
            "flatten (Flatten)            (None, 51200)             0         \n",
            "_________________________________________________________________\n",
            "dense (Dense)                (None, 512)               26214912  \n",
            "_________________________________________________________________\n",
            "dense_1 (Dense)              (None, 4)                 2052      \n",
            "=================================================================\n",
            "Total params: 49,804,676\n",
            "Trainable params: 26,216,964\n",
            "Non-trainable params: 23,587,712\n",
            "_________________________________________________________________\n"
          ]
        }
      ],
      "source": [
        "model = tf.keras.Model(inputs=[input_layer], outputs=[out_layer])\n",
        "model.summary()"
      ]
    },
    {
      "cell_type": "code",
      "execution_count": null,
      "id": "5f789d24",
      "metadata": {
        "id": "5f789d24"
      },
      "outputs": [],
      "source": [
        "loss_function=tf.keras.losses.categorical_crossentropy\n",
        "optimize=tf.keras.optimizers.Adam(learning_rate=0.0001)\n",
        "metric=tf.keras.metrics.categorical_accuracy\n",
        "model.compile(loss=loss_function,\n",
        "              optimizer=optimize,\n",
        "              metrics=[metric])"
      ]
    },
    {
      "cell_type": "markdown",
      "id": "755fba5a",
      "metadata": {
        "id": "755fba5a"
      },
      "source": [
        "data generator는 입력 데이터와 타겟(라벨)의 batch를 끝없이 반환합니다. batch가 끝없이 생성되기 때문에, 한 번의 epoch에 generator로부터 얼마나 많은 샘플을 뽑을지 모델에 전달해야 합니다. 만약 batch_size=20이고 steps_per_epoch=100일 경우 (데이터, 라벨)의 쌍 20개가 생성되고, 크기가 20인 batch 데이터를 100번 학습하면 1 epoch이 완료됩니다. 단, 크기 20의 batch 데이터는 매번 랜덤으로 생성됩니다. 일반적으로 (전체 데이터 길이/batch_size)를 steps_per_epoch으로 설정합니다."
      ]
    },
    {
      "cell_type": "code",
      "execution_count": null,
      "id": "d9dd81c7",
      "metadata": {
        "id": "d9dd81c7",
        "outputId": "d7284801-3ebd-4a08-ff8f-231d3967f354"
      },
      "outputs": [
        {
          "name": "stdout",
          "output_type": "stream",
          "text": [
            "Epoch 1/20\n",
            "1000/1000 [==============================] - 158s 158ms/step - loss: 1.2163 - categorical_accuracy: 0.4512 - val_loss: 1.0876 - val_categorical_accuracy: 0.5108\n",
            "Epoch 3/20\n",
            "1000/1000 [==============================] - 156s 156ms/step - loss: 1.1650 - categorical_accuracy: 0.4811 - val_loss: 1.0050 - val_categorical_accuracy: 0.5830\n",
            "Epoch 4/20\n",
            "1000/1000 [==============================] - 155s 155ms/step - loss: 1.1450 - categorical_accuracy: 0.4943 - val_loss: 1.0338 - val_categorical_accuracy: 0.5732\n",
            "Epoch 5/20\n",
            "1000/1000 [==============================] - 155s 155ms/step - loss: 1.1275 - categorical_accuracy: 0.5065 - val_loss: 0.9736 - val_categorical_accuracy: 0.6074\n",
            "Epoch 6/20\n",
            "1000/1000 [==============================] - 157s 157ms/step - loss: 1.1117 - categorical_accuracy: 0.5143 - val_loss: 1.0497 - val_categorical_accuracy: 0.5438\n",
            "Epoch 7/20\n",
            "1000/1000 [==============================] - 159s 159ms/step - loss: 1.1110 - categorical_accuracy: 0.5145 - val_loss: 0.9604 - val_categorical_accuracy: 0.5989\n",
            "Epoch 8/20\n",
            "1000/1000 [==============================] - 157s 157ms/step - loss: 1.0918 - categorical_accuracy: 0.5241 - val_loss: 1.0322 - val_categorical_accuracy: 0.5596\n",
            "Epoch 9/20\n",
            "1000/1000 [==============================] - 156s 156ms/step - loss: 1.0841 - categorical_accuracy: 0.5308 - val_loss: 0.9195 - val_categorical_accuracy: 0.6298\n",
            "Epoch 10/20\n",
            "1000/1000 [==============================] - 159s 159ms/step - loss: 1.0849 - categorical_accuracy: 0.5296 - val_loss: 0.8984 - val_categorical_accuracy: 0.6314\n",
            "Epoch 11/20\n",
            "1000/1000 [==============================] - 158s 158ms/step - loss: 1.0752 - categorical_accuracy: 0.5368 - val_loss: 0.9038 - val_categorical_accuracy: 0.6327\n",
            "Epoch 12/20\n",
            "1000/1000 [==============================] - 160s 160ms/step - loss: 1.0723 - categorical_accuracy: 0.5340 - val_loss: 0.9322 - val_categorical_accuracy: 0.6217\n",
            "Epoch 13/20\n",
            "1000/1000 [==============================] - 157s 157ms/step - loss: 1.0564 - categorical_accuracy: 0.5433 - val_loss: 1.0026 - val_categorical_accuracy: 0.5762\n",
            "Epoch 14/20\n",
            "1000/1000 [==============================] - 160s 160ms/step - loss: 1.0620 - categorical_accuracy: 0.5411 - val_loss: 0.9563 - val_categorical_accuracy: 0.6028\n",
            "Epoch 15/20\n",
            "1000/1000 [==============================] - 158s 158ms/step - loss: 1.0523 - categorical_accuracy: 0.5468 - val_loss: 0.9264 - val_categorical_accuracy: 0.6223\n",
            "Epoch 16/20\n",
            "1000/1000 [==============================] - 158s 158ms/step - loss: 1.0474 - categorical_accuracy: 0.5441 - val_loss: 0.9520 - val_categorical_accuracy: 0.5971\n",
            "Epoch 17/20\n",
            "1000/1000 [==============================] - 158s 158ms/step - loss: 1.0488 - categorical_accuracy: 0.5449 - val_loss: 0.9215 - val_categorical_accuracy: 0.6165\n",
            "Epoch 18/20\n",
            "1000/1000 [==============================] - 159s 159ms/step - loss: 1.0422 - categorical_accuracy: 0.5530 - val_loss: 0.9080 - val_categorical_accuracy: 0.6195\n",
            "Epoch 19/20\n",
            "1000/1000 [==============================] - 158s 158ms/step - loss: 1.0367 - categorical_accuracy: 0.5579 - val_loss: 0.9035 - val_categorical_accuracy: 0.6163\n",
            "Epoch 20/20\n",
            "1000/1000 [==============================] - 158s 158ms/step - loss: 1.0382 - categorical_accuracy: 0.5551 - val_loss: 0.9223 - val_categorical_accuracy: 0.6202\n"
          ]
        }
      ],
      "source": [
        "history = model.fit(\n",
        "      train_generator,\n",
        "     steps_per_epoch=(len(os.listdir(train_aeroplane_dir)) + len(os.listdir(train_bird_dir)) + len(\n",
        "       os.listdir(train_car_dir)) + len(os.listdir(train_cat_dir))) // batch_size,\n",
        "      epochs=20,\n",
        "      validation_data=test_generator,\n",
        "      validation_freq=1)"
      ]
    },
    {
      "cell_type": "code",
      "execution_count": null,
      "id": "e5a7e020",
      "metadata": {
        "id": "e5a7e020",
        "outputId": "77d36f57-3927-4d03-b51b-b27d7d457570"
      },
      "outputs": [
        {
          "name": "stderr",
          "output_type": "stream",
          "text": [
            "/opt/conda/lib/python3.9/site-packages/keras/utils/generic_utils.py:494: CustomMaskWarning: Custom mask layers require a config and must override get_config. When loading, the custom mask layer must be passed to the custom_objects argument.\n",
            "  warnings.warn('Custom mask layers require a config and must override '\n"
          ]
        }
      ],
      "source": [
        "model.save('/aiffel/aiffel/cifar_10_small/multi_classification_augumentation_model.hdf5')\n",
        "\n",
        "acc = history.history['categorical_accuracy']\n",
        "val_acc = history.history['val_categorical_accuracy']\n",
        "loss = history.history['loss']\n",
        "val_loss = history.history['val_loss']"
      ]
    },
    {
      "cell_type": "code",
      "execution_count": null,
      "id": "2ae78c43",
      "metadata": {
        "id": "2ae78c43",
        "outputId": "1aaeeb54-5117-4e0f-922f-8dd7146b358f"
      },
      "outputs": [
        {
          "data": {
            "image/png": "[encoded data removed]",
            "text/plain": [
              "<Figure size 432x288 with 1 Axes>"
            ]
          },
          "metadata": {
            "needs_background": "light"
          },
          "output_type": "display_data"
        },
        {
          "data": {
            "image/png": "[encoded data removed]",
            "text/plain": [
              "<Figure size 432x288 with 1 Axes>"
            ]
          },
          "metadata": {
            "needs_background": "light"
          },
          "output_type": "display_data"
        }
      ],
      "source": [
        "# 시각화\n",
        "\n",
        "epochs = range(len(acc))\n",
        "\n",
        "plt.plot(epochs, acc, 'bo', label='Training acc')\n",
        "plt.plot(epochs, val_acc, 'b', label='Validation acc')\n",
        "plt.title('Training and validation accuracy')\n",
        "plt.legend()\n",
        "\n",
        "plt.figure()\n",
        "\n",
        "plt.plot(epochs, loss, 'bo', label='Training loss')\n",
        "plt.plot(epochs, val_loss, 'b', label='Validation loss')\n",
        "plt.title('Training and validation loss')\n",
        "plt.legend()\n",
        "\n",
        "plt.show()"
      ]
    }
  ],
  "metadata": {
    "kernelspec": {
      "display_name": "Python 3 (ipykernel)",
      "language": "python",
      "name": "python3"
    },
    "language_info": {
      "codemirror_mode": {
        "name": "ipython",
        "version": 3
      },
      "file_extension": ".py",
      "mimetype": "text/x-python",
      "name": "python",
      "nbconvert_exporter": "python",
      "pygments_lexer": "ipython3",
      "version": "3.9.7"
    },
    "colab": {
      "provenance": [],
      "include_colab_link": true
    }
  },
  "nbformat": 4,
  "nbformat_minor": 5
}