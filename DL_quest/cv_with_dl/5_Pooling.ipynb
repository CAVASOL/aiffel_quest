{
  "cells": [
    {
      "cell_type": "markdown",
      "metadata": {
        "id": "view-in-github",
        "colab_type": "text"
      },
      "source": [
        "<a href=\"https://colab.research.google.com/github/CAVASOL/aiffel_quest/blob/main/DL_quest/cv_with_dl/5_Pooling.ipynb\" target=\"_parent\"><img src=\"https://colab.research.google.com/assets/colab-badge.svg\" alt=\"Open In Colab\"/></a>"
      ]
    },
    {
      "cell_type": "markdown",
      "id": "b975af55",
      "metadata": {
        "id": "b975af55"
      },
      "source": [
        "## Pooling\n",
        "\n",
        "**학습 목표**\n",
        "\n",
        "* Max pooling과 average pooling을 설명할 수 있습니다.\n",
        "* Pooling 연산이 convolution 연산에 비해 어떤 강점을 가지고 있는지 설명할 수 있습니다."
      ]
    },
    {
      "cell_type": "markdown",
      "id": "f5e56756",
      "metadata": {
        "id": "f5e56756"
      },
      "source": [
        "**Q. Pooling을 알아보기 전, 이미지 분류를 위한 전형적인 CNN 구조에 대해 다시 한번 설명해 볼까요? 3차원의 Input image가 CNN(Convolution Neural Network) 구조에 들어가면 어떠한 연산을 거치게 되는지 설명해 봅시다.**\n",
        "```\n",
        "3차원의 Input image가 들어오게 되면 Convolution 연산을 하게 되고 그다음에 오늘 배울 Pooling 연산을 하게 됩니다. 반복해서 Convolution 연산과 Pooling 연산을 하게 되고 어느 순간 FC라고 표현하는 Fully Connected layer를 만나게 됩니다. 마지막으로는 최종적으로 내가 수행하고 싶은 classification을 진행하게 됩니다.\n",
        "```\n",
        "\n",
        "**Q. Pooling은 어떤 역할을 하고 Pooling을 사용하였을 때 장점에 대해서 설명해 봅시다.**\n",
        "```\n",
        "Pooling은 Feature map으로 표현된 정보를 축약(down sampling)하는 역할을 하며, Parameter를 사용하지 않고 정보를 압축할 수 있다는 장점이 있습니다. 또한 Pooling은 비선형성을 강화하고, Feature map의 크기를 줄여서 연산 성능을 향상시킬 수 있습니다.\n",
        "```\n",
        "\n",
        "**Q. Max Pooling, Average Pooling, Sum Pooling은 각 Feature map을 어떻게 연산하는지 설명해 봅시다.**\n",
        "```\n",
        "a. Max Pooling:\n",
        "\n",
        "    각 풀링 윈도우(예: 2x2 또는 3x3) 내에서 가장 큰 값을 선택하여 특징 맵을 축소합니다.\n",
        "    각 윈도우에서 최대 값을 선택하므로 가장 뚜렷한 특징을 보존하면서 해상도를 줄입니다.\n",
        "    Max Pooling은 이미지에서 물체의 경계나 중요한 특징을 검출할 때 주로 사용됩니다.\n",
        "\n",
        "b. Average Pooling:\n",
        "\n",
        "    풀링 윈도우 내의 모든 값의 평균을 계산하여 특징 맵을 축소합니다.\n",
        "    입력 특징의 평균을 구하므로, 특징을 부드럽게 하고 일반화된 정보를 얻을 수 있습니다.\n",
        "    Average Pooling은 노이즈를 감소시키고 공간 해상도를 줄이는 데 사용될 때 유용합니다.\n",
        "\n",
        "c. Sum Pooling:\n",
        "\n",
        "    풀링 윈도우 내의 모든 값의 합계를 계산하여 특징 맵을 축소합니다.\n",
        "    입력 특징의 값을 모두 더함으로써, 유용한 정보의 누적을 표현합니다.\n",
        "    Sum Pooling은 정보의 누적 및 강조에 사용되며, 더 길게 특징을 보존하는 데 도움이 될 수 있습니다.\n",
        "```\n",
        "\n",
        "**Q. Convolution Neural Network를 구성하고 있는 가장 핵심적인 연산 Convolution 연산과 Pooling 연산에 대해서 알아보았습니다. 이제 2가지 연산이 다 적용된 CNN은 어떻게 구성되어 있고 어떤 특징을 가지고 있는지 설명해 봅시다.**\n",
        "```\n",
        "CNN은 크게 Feature Extraction과 Classification 영역으로 구성됩니다. 연속적인 CNN 연산(Convolution + Pooling)을 순차적으로 수행하면서 일련의 Feature Map을 생성합니다. CNN 연산을 통해 순차적으로 생성된 Feature map의 크기(높이x너비)는 줄어들지만 채널(깊이)은 증가합니다. 최근에는 더 복잡하고 다양한 Feature 정보를 반영하기 위해, CNN 깊이를 증가시키는 방향으로 점차 발전하고 있습니다.\n",
        "```"
      ]
    },
    {
      "cell_type": "markdown",
      "id": "0a5270db",
      "metadata": {
        "id": "0a5270db"
      },
      "source": [
        "### 기본적인 형태의 CNN 모델 구현"
      ]
    },
    {
      "cell_type": "code",
      "execution_count": null,
      "id": "8ffb538a",
      "metadata": {
        "id": "8ffb538a"
      },
      "outputs": [],
      "source": [
        "import tensorflow as tf"
      ]
    },
    {
      "cell_type": "code",
      "execution_count": null,
      "id": "3ab827c2",
      "metadata": {
        "id": "3ab827c2",
        "outputId": "02dff46c-5642-4321-af60-0a0f3ffdbbb9"
      },
      "outputs": [
        {
          "name": "stdout",
          "output_type": "stream",
          "text": [
            "<class 'keras.engine.keras_tensor.KerasTensor'>\n",
            "KerasTensor(type_spec=TensorSpec(shape=(None, 28, 28, 4), dtype=tf.float32, name=None), name='conv2d/Relu:0', description=\"created by layer 'conv2d'\")\n"
          ]
        }
      ],
      "source": [
        "# 가로 28, 세로 28, 채널 수 1의 input 데이터를 받는 input layer 생성하기\n",
        "input_layer = tf.keras.layers.Input(shape=(28, 28, 1))\n",
        "\n",
        "# 커널의 가로 세로 사이즈는 3이고, 채널 수는 4, zero-padding을 넣고,\n",
        "# stride는 1로 한 Conv2D layer\n",
        "x = tf.keras.layers.Conv2D(filters=4, kernel_size=3, strides=1, padding='same', activation='relu')(input_layer)\n",
        "\n",
        "print(type(x))\n",
        "print(x)"
      ]
    },
    {
      "cell_type": "code",
      "execution_count": null,
      "id": "c99436fb",
      "metadata": {
        "id": "c99436fb",
        "outputId": "d043bca1-846b-44c9-bb05-276fcda82b79"
      },
      "outputs": [
        {
          "name": "stdout",
          "output_type": "stream",
          "text": [
            "(None, 28, 28, 1)\n",
            "(None, 28, 28, 4)\n"
          ]
        }
      ],
      "source": [
        "print(input_layer.shape)\n",
        "print(x.shape)"
      ]
    },
    {
      "cell_type": "markdown",
      "id": "09ae06e1",
      "metadata": {
        "id": "09ae06e1"
      },
      "source": [
        "**CNN Model with Pooling Layer**"
      ]
    },
    {
      "cell_type": "code",
      "execution_count": null,
      "id": "b5facf2a",
      "metadata": {
        "id": "b5facf2a"
      },
      "outputs": [],
      "source": [
        "# Q. 가로 27, 세로 27, 채널 수 1의 input 데이터를 받는 input layer 생성해 보세요.\n",
        "input_tensor = tf.keras.layers.Input(shape=(27, 27, 1))"
      ]
    },
    {
      "cell_type": "code",
      "execution_count": null,
      "id": "ce85d850",
      "metadata": {
        "id": "ce85d850"
      },
      "outputs": [],
      "source": [
        "# Q. 커널의 가로 세로 사이즈는 2이고, 채널 수는 6, zero-padding을 넣고,\n",
        "# stride는 2인 Conv2D layer x1을 생성해 보세요. (활성화 함수 : relu)\n",
        "x1 = tf.keras.layers.Conv2D(filters=6, kernel_size=2, strides=2, padding='same', activation='relu')(input_layer)"
      ]
    },
    {
      "cell_type": "code",
      "execution_count": null,
      "id": "26d32a88",
      "metadata": {
        "id": "26d32a88",
        "outputId": "a1366df9-c0ad-4258-d1e3-342c3b87bff8"
      },
      "outputs": [
        {
          "name": "stdout",
          "output_type": "stream",
          "text": [
            "KerasTensor(type_spec=TensorSpec(shape=(None, 14, 14, 6), dtype=tf.float32, name=None), name='conv2d_1/Relu:0', description=\"created by layer 'conv2d_1'\")\n",
            "KerasTensor(type_spec=TensorSpec(shape=(None, 7, 7, 6), dtype=tf.float32, name=None), name='max_pooling2d/MaxPool:0', description=\"created by layer 'max_pooling2d'\")\n"
          ]
        }
      ],
      "source": [
        "# 가로 세로 사이즈가 2인 영역에서 최대값을 뽑는 Maxpooling을 적용\n",
        "x2 = tf.keras.layers.MaxPooling2D(2)(x1)\n",
        "print(x1)\n",
        "print(x2)"
      ]
    },
    {
      "cell_type": "code",
      "execution_count": null,
      "id": "53abfb99",
      "metadata": {
        "id": "53abfb99",
        "outputId": "3aa844fe-d5ae-45b8-aa97-33f68dde0a69"
      },
      "outputs": [
        {
          "name": "stdout",
          "output_type": "stream",
          "text": [
            "Model: \"model\"\n",
            "_________________________________________________________________\n",
            "Layer (type)                 Output Shape              Param #   \n",
            "=================================================================\n",
            "input_3 (InputLayer)         [(None, 7, 7, 5)]         0         \n",
            "_________________________________________________________________\n",
            "conv2d_2 (Conv2D)            (None, 7, 7, 4)           184       \n",
            "_________________________________________________________________\n",
            "conv2d_3 (Conv2D)            (None, 5, 5, 8)           296       \n",
            "_________________________________________________________________\n",
            "max_pooling2d_1 (MaxPooling2 (None, 2, 2, 8)           0         \n",
            "=================================================================\n",
            "Total params: 480\n",
            "Trainable params: 480\n",
            "Non-trainable params: 0\n",
            "_________________________________________________________________\n"
          ]
        }
      ],
      "source": [
        "input_layer = tf.keras.layers.Input(shape=(7, 7, 5))\n",
        "convlayer1 = tf.keras.layers.Conv2D(filters=4, kernel_size=3, strides=1, padding='same')(input_layer)\n",
        "convlayer2 = tf.keras.layers.Conv2D(filters=8, kernel_size=3, strides=1, padding='valid')(convlayer1)\n",
        "pooling = tf.keras.layers.MaxPooling2D(2)(convlayer2)\n",
        "\n",
        "model = tf.keras.Model(inputs=input_layer, outputs=pooling)\n",
        "model.summary()"
      ]
    },
    {
      "cell_type": "code",
      "execution_count": null,
      "id": "86e1f274",
      "metadata": {
        "id": "86e1f274"
      },
      "outputs": [],
      "source": [
        "# input_layer = tf.keras.layers.Input(shape=(13, 13, 5))\n",
        "# convlayer1 = tf.keras.layers.Conv2D(filters=8, kernel_size=5, strides=2, padding='valid')(input_layer)\n",
        "# convlayer2 = tf.keras.layers.Conv2D(filters=16, kernel_size=5, strides=2, padding='valid')(convlayer1)\n",
        "# pooling = tf.keras.layers.MaxPooling2D(2)(convlayer2)\n",
        "\n",
        "# model = tf.keras.Model(inputs=input_layer, outputs=pooling)\n",
        "# model.summary()"
      ]
    },
    {
      "cell_type": "markdown",
      "source": [
        "두 번째 Conv2D 레이어의 output convlayer2의 크기가 작아서 pooling 연산을 수행할 공간이 부족하기 때문입니다. 첫 번째 Conv2D 레이어의 output convlayer1의 크기는 5x5이고, 두 번째 Conv2D 레이어의 output convlayer2의 크기는 1x1입니다. 1x1를 pooling 연산을 하기에는 공간이 부족합니다."
      ],
      "metadata": {
        "id": "vEvahbPER7an"
      },
      "id": "vEvahbPER7an"
    },
    {
      "cell_type": "markdown",
      "id": "47b1c8bf",
      "metadata": {
        "id": "47b1c8bf"
      },
      "source": [
        "**이미지 분류 CNN 모델**"
      ]
    },
    {
      "cell_type": "code",
      "execution_count": null,
      "id": "dce95e57",
      "metadata": {
        "id": "dce95e57"
      },
      "outputs": [],
      "source": [
        "input_tensor = tf.keras.layers.Input(shape=(28, 28, 1))\n",
        "x = tf.keras.layers.Conv2D(filters=32, kernel_size=3, strides=1, padding='same', activation='relu')(input_tensor)\n",
        "x = tf.keras.layers.Conv2D(filters=64, kernel_size=3, activation='relu')(x)\n",
        "x = tf.keras.layers.MaxPooling2D(2)(x)\n",
        "\n",
        "# 3차원으로 되어있는 Feature map 결과를 Fully Connected 연결하기 위해서는 Flatten()을 적용해야 합니다.\n",
        "x = tf.keras.layers.Flatten()(x)\n",
        "\n",
        "# Flatten 된 결과를 100의 노드를 가진 Fuly Connected Layer와 연결\n",
        "x = tf.keras.layers.Dense(100, activation='relu')(x)\n",
        "output = tf.keras.layers.Dense(10, activation='softmax')(x)"
      ]
    },
    {
      "cell_type": "code",
      "execution_count": null,
      "id": "272d9786",
      "metadata": {
        "id": "272d9786"
      },
      "outputs": [],
      "source": [
        "# Q. tf.keras.Model을 사용하여 model을 정의해 주세요. (위에 코드 참고해서 작성해 보세요.)\n",
        "model = tf.keras.Model(inputs=input_tensor, outputs=output)"
      ]
    },
    {
      "cell_type": "code",
      "execution_count": null,
      "id": "c384474e",
      "metadata": {
        "id": "c384474e",
        "outputId": "49205302-e0d9-46eb-9e52-7caf95b195bd"
      },
      "outputs": [
        {
          "name": "stdout",
          "output_type": "stream",
          "text": [
            "Model: \"model_1\"\n",
            "_________________________________________________________________\n",
            "Layer (type)                 Output Shape              Param #   \n",
            "=================================================================\n",
            "input_4 (InputLayer)         [(None, 28, 28, 1)]       0         \n",
            "_________________________________________________________________\n",
            "conv2d_4 (Conv2D)            (None, 28, 28, 32)        320       \n",
            "_________________________________________________________________\n",
            "conv2d_5 (Conv2D)            (None, 26, 26, 64)        18496     \n",
            "_________________________________________________________________\n",
            "max_pooling2d_2 (MaxPooling2 (None, 13, 13, 64)        0         \n",
            "_________________________________________________________________\n",
            "flatten (Flatten)            (None, 10816)             0         \n",
            "_________________________________________________________________\n",
            "dense (Dense)                (None, 100)               1081700   \n",
            "_________________________________________________________________\n",
            "dense_1 (Dense)              (None, 10)                1010      \n",
            "=================================================================\n",
            "Total params: 1,101,526\n",
            "Trainable params: 1,101,526\n",
            "Non-trainable params: 0\n",
            "_________________________________________________________________\n"
          ]
        }
      ],
      "source": [
        "# Q. 정의해 준 model이 잘 만들어졌는지 summary를 통해 확인해 보세요.\n",
        "model.summary()"
      ]
    },
    {
      "cell_type": "markdown",
      "id": "f41b1659",
      "metadata": {
        "id": "f41b1659"
      },
      "source": [
        "**Q. Pooling 연산은 어떤 장점이 있었는지 설명해 보세요.**\n",
        "```\n",
        "Pooling을 통해 Parameter 연산 없이 Feature map의 차원을 축소할 수 있다는 장점이 있습니다. 차원을 축소 즉, down sampling을 해준다고 표현할 수도 있습니다.\n",
        "```\n",
        "\n",
        "**Q. CNN 구조를 크게 2가지로 나눠본다면 어떤 영역들로 구성이 되어 있는지 설명해 보세요. 또한, CNN 구조의 깊이를 증가시키면 어떤 장점이 있는지 설명해 보세요.**\n",
        "```\n",
        "CNN 구조는 크게 특징을 찾아내는 feature extraction과 실제적으로 이미지 분류를 하는 classification 영역으로 나뉩니다. 또한, CNN 구조의 깊이를 증가시키면 다양하고 복잡한 feature를 찾아낼 수 있습니다.\n",
        "```"
      ]
    }
  ],
  "metadata": {
    "kernelspec": {
      "display_name": "Python 3 (ipykernel)",
      "language": "python",
      "name": "python3"
    },
    "language_info": {
      "codemirror_mode": {
        "name": "ipython",
        "version": 3
      },
      "file_extension": ".py",
      "mimetype": "text/x-python",
      "name": "python",
      "nbconvert_exporter": "python",
      "pygments_lexer": "ipython3",
      "version": "3.9.7"
    },
    "colab": {
      "provenance": [],
      "include_colab_link": true
    }
  },
  "nbformat": 4,
  "nbformat_minor": 5
}