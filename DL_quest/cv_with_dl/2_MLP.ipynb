{
  "cells": [
    {
      "cell_type": "markdown",
      "metadata": {
        "id": "view-in-github",
        "colab_type": "text"
      },
      "source": [
        "<a href=\"https://colab.research.google.com/github/CAVASOL/aiffel_quest/blob/main/DL_quest/cv_with_dl/2_MLP.ipynb\" target=\"_parent\"><img src=\"https://colab.research.google.com/assets/colab-badge.svg\" alt=\"Open In Colab\"/></a>"
      ]
    },
    {
      "cell_type": "markdown",
      "id": "943ec138",
      "metadata": {
        "id": "943ec138"
      },
      "source": [
        "## Multi Layer Perceptron\n",
        "\n",
        "**학습 목표**\n",
        "\n",
        "* Multi-Layer Perceptron(MLP) 구조를 설명할 수 있습니다.\n",
        "* MLP를 이용해서 이미지 분류를 어떻게 할 수 있는지를 설명하고, 코드를 작성할 수 있습니다.\n",
        "* 이미지 데이터를 분석할 때 MLP가 가진 한계점을 설명할 수 있습니다."
      ]
    },
    {
      "cell_type": "markdown",
      "id": "c8f683d0",
      "metadata": {
        "id": "c8f683d0"
      },
      "source": [
        "**Q. 이미지 속의 정보는 어떤 특징을 가지고 있나요?**\n",
        "```\n",
        "이미지 데이터 안의 정보는 하나의 픽셀 자체가 아닌 주변의 여러 픽셀과의 관계를 통해서 드러납니다. 특정 픽셀과 주변 픽셀과 유사성을 통해 이미지의 색, 형태, 질감 등을 파악할 수 있습니다.\n",
        "```\n",
        "\n",
        "**Q. 컴퓨터 비전의 각 태스크는 어떻게 구분할 수 있나요?**\n",
        "```\n",
        "Single Object인지 Multiple Object인지에 따라 구분할 수 있습니다. Single Object를 다루는 태스크에는 Classification과 Localization이 있고, Multiple Object를 다루는 태스크는 Object Detection과 Instance Segmentation이 있습니다.\n",
        "```\n",
        "\n",
        "**Q. Classification과 Localization를 설명해 보세요.**\n",
        "```\n",
        "Classification: 1개의 object의 class를 예측하는 태스크입니다. Localization: object의 위치를 찾아내는 태스크로, Bounding Box를 통해 위치를 지정합니다.\n",
        "```\n",
        ">* 이미지 Classification (이미지 분류): 이미지 내의 주요 객체나 패턴을 식별하여 이미지를 사전 정의된 클래스 또는 범주로 분류하는 작업입니다. 주로 \"무엇(What)\"을 식별하는 작업으로 생각할 수 있습니다. 예를 들어, 개 이미지와 고양이 이미지를 구별하거나, 과일 이미지를 사과, 바나나, 오렌지 등으로 분류하는 것이 이미지 분류의 예입니다. 일반적으로 Convolutional Neural Networks (CNNs)와 같은 딥러닝 모델이 이미지 분류 작업에 사용됩니다.\n",
        ">\n",
        ">\n",
        ">* 객체 Localization (객체 위치 파악): 이미지에서 객체의 위치와 크기를 파악하는 작업입니다. 이것은 \"어디(Where)\"에 해당하는 작업으로 생각할 수 있습니다. 객체 Localization은 주로 경계 상자(bounding box)를 이용하여 객체의 위치를 지정합니다. 따라서 객체를 감싸는 사각형 영역을 정의하고, 이 경계 상자의 위치와 크기를 추정하는 것이 중요합니다. 객체 Localization과 Classification을 함께 수행하는 모델은 \"객체 검출(Object Detection)\" 모델이라고 불립니다. 예를 들어, 자동차 검출 작업에서 이미지에 있는 자동차의 위치와 클래스를 동시에 파악하는 것이 객체 검출의 예입니다. 객체 검출에는 다양한 딥러닝 아키텍처, 예를 들어 Faster R-CNN, YOLO(You Only Look Once), SSD(Single Shot MultiBox Detector) 등이 사용됩니다.\n",
        "\n",
        "\n",
        "**Q. Object Detection을 설명해 보세요.**\n",
        "```\n",
        "Object Detection는 Bounding Box로 위치를 지정하고, 각 Bounding Box 안의 obejct를 classification을 하는 것입니다.\n",
        "Object Detection = Bounding Box Regression (Localization) + Multi-Labeled Classification\n",
        "```\n",
        "\n",
        "**Q. Segmentation을 설명해 보세요.**\n",
        "```\n",
        "Segmentation은 픽셀 수준에서의 의미를 찾는 태스크입니다. Segmentation은 이미지를 픽셀 단위로 분해하고 픽셀의 class를 분류하는 Semantic Segmentation와 픽셀이 어떤 개별 객체(개체, Instance)로 구분되는지 분류하는 Instance Segmentation로 구분할 수 있습니다.\n",
        "```\n",
        "\n",
        "**Q. MLP 모델 구조를 보면 여러 개의 hidden layer로 이뤄져 있는 것을 알 수 있습니다. 이것들은 Representation learning을 수행한다고 말할 수 있습니다.  이때 Representation learning은 무엇을 의미하고, 또 다른 말로 어떻게 부를 수 있는지 설명해 보세요.**\n",
        "\n",
        "```\n",
        "Representation learning은 Representation을 통해서 원래 데이터가 존재하는 공간을 변경하는 것을 의미합니다. 정리해서 설명하자면, Representation learning은 Training 하는 과정에서 parameter를 계속해서 변형하여 task를 수행하는 데에 가장 적합한 공간구조를 Representation을 합니다. Representation learning은 Pattern Extractor(패턴 추출기) Feature Extractor라고 부릅니다. 이는 MLP 모델이 가진 큰 장점이라고 말할 수 있으며, 어떻게 하면 Feature Extractor를 잘 만들 수 있을까가 딥러닝 모델을 만들 때 핵심이 됩니다.\n",
        "```\n",
        ">Representation learning(표현 학습)은 기계 학습 및 딥러닝 분야에서 중요한 개념 중 하나이며, 데이터로부터 유용하고 정보-rich한 표현(또는 피처)을 학습하는 과정을 가리킵니다. 이러한 표현은 원시 데이터를 고차원 공간에서 저차원, 의미 있는 공간으로 변환하여 데이터의 특징, 패턴, 구조를 더 잘 파악할 수 있도록 도와줍니다. Representation learning은 다양한 기계 학습 작업에서 효과적으로 사용됩니다.\n",
        ">\n",
        ">Representation learning에 대한 다른 용어 및 설명은 다음과 같습니다.\n",
        ">* Feature Learning (피처 학습): Representation learning은 종종 \"feature learning\"이라고도 불립니다. 이것은 원시 데이터에서 피처를 추출하고, 데이터의 표현을 개선하는 과정을 강조합니다.\n",
        ">* 표현(representation): 표현은 원시 데이터를 표현하기 위한 중간 형태로, 일반적으로 고차원 데이터를 저차원 벡터로 나타냅니다. 이러한 표현은 데이터의 의미와 구조를 포함하며, 다른 데이터 간의 유사성 및 차이를 나타내는 중요한 특징을 갖습니다.\n",
        ">* 표현 학습 모델: 다층 퍼셉트론(MLP), 컨볼루션 신경망(CNN), 순환 신경망(RNN), 오토인코더(Autoencoder) 및 변이형 오토인코더(Variational Autoencoder, VAE)와 같은 신경망 구조는 표현 학습 모델의 한 예입니다. 이러한 모델은 데이터로부터 표현을 학습하고, 학습된 표현을 특정 작업에 활용할 수 있습니다.\n",
        ">\n",
        ">Representation learning은 다음과 같은 이점을 제공합니다.\n",
        ">* 데이터 압축: 고차원 데이터를 저차원으로 효과적으로 압축하여 저장 및 처리 효율을 향상시킵니다.\n",
        ">* 특징 추출: 데이터의 중요한 특징을 추출하고, 분류, 클러스터링 및 기타 기계 학습 작업을 위한 입력으로 사용할 수 있습니다.\n",
        ">* 고차원 데이터의 시각화: 저차원 표현은 고차원 데이터를 시각화하는 데 유용하며, 데이터 간의 관계를 더 잘 이해할 수 있습니다."
      ]
    },
    {
      "cell_type": "markdown",
      "id": "cb1d65a9",
      "metadata": {
        "id": "cb1d65a9"
      },
      "source": [
        "**Q. MLP 모델 구조의 핵심을 한 줄로 요약해 봅시다.**\n",
        "```\n",
        "MLP 모델 구조의 핵심은 데이터 안에 숨겨진 패턴을 Representation을 통해서 찾는 것\n",
        "```\n",
        "\n",
        "**Q. MLP 모델로 이미지 분류를 하기 위해서는 2차원의 이미지를 1차원으로 변형해야 했습니다. 이때, 발생하는 문제점은 어떤 것인가요?**\n",
        "```\n",
        "하나의 픽셀의 의미는 주변 픽셀과의 관계를 통해서 결정되기 때문에 2차원 이미지를 1차원의 구조로 바꾸면 숨겨져 있던 패턴의 정보가 사라집니다.\n",
        "```"
      ]
    },
    {
      "cell_type": "markdown",
      "id": "c6f3869b",
      "metadata": {
        "id": "c6f3869b"
      },
      "source": [
        "### MLP 모델로 이미지 분류해보기\n",
        "\n",
        "**MNIST 데이터 살펴보기**"
      ]
    },
    {
      "cell_type": "code",
      "execution_count": null,
      "id": "0adb3098",
      "metadata": {
        "id": "0adb3098",
        "outputId": "9b2d2522-053b-4465-d5ea-507a64ad91f2"
      },
      "outputs": [
        {
          "name": "stdout",
          "output_type": "stream",
          "text": [
            "(60000, 28, 28)\n",
            "(60000,)\n",
            "학습셋 이미지 수 : 60000 개\n",
            "테스트셋 이미지 수 : 10000 개\n"
          ]
        }
      ],
      "source": [
        "import sys\n",
        "import tensorflow as tf\n",
        "import numpy as np\n",
        "\n",
        "(X_train, Y_train), (X_test, Y_test) = tf.keras.datasets.mnist.load_data()\n",
        "\n",
        "print(X_train.shape)\n",
        "print(Y_train.shape)\n",
        "print(\"학습셋 이미지 수 : %d 개\" % (X_train.shape[0]))\n",
        "print(\"테스트셋 이미지 수 : %d 개\" % (X_test.shape[0]))"
      ]
    },
    {
      "cell_type": "code",
      "execution_count": null,
      "id": "9d11cb85",
      "metadata": {
        "id": "9d11cb85",
        "outputId": "dbb7418b-ecd3-4cf9-a372-911f46d1636b"
      },
      "outputs": [
        {
          "name": "stdout",
          "output_type": "stream",
          "text": [
            "5\n"
          ]
        },
        {
          "data": {
            "image/png": "[encoded data removed]",
            "text/plain": [
              "<Figure size 432x288 with 1 Axes>"
            ]
          },
          "metadata": {
            "needs_background": "light"
          },
          "output_type": "display_data"
        }
      ],
      "source": [
        "import matplotlib.pyplot as plt\n",
        "print(Y_train[0])\n",
        "plt.imshow(X_train[0], cmap='Greys')\n",
        "plt.show()"
      ]
    },
    {
      "cell_type": "code",
      "execution_count": null,
      "id": "0faf1d3a",
      "metadata": {
        "id": "0faf1d3a"
      },
      "outputs": [],
      "source": [
        "# for x in X_train[0]:\n",
        "#     for i in x:\n",
        "#         sys.stdout.write('%d\\t' % i)\n",
        "#     sys.stdout.write('\\n')"
      ]
    },
    {
      "cell_type": "markdown",
      "id": "ea6ce2e1",
      "metadata": {
        "id": "ea6ce2e1"
      },
      "source": [
        "**MLP 구조 만들기**\n",
        "\n",
        "MLP(Multi Layer Perceptron)의 입력 데이터는 기본적으로 `벡터 형태`입니다. X_train은 28 x 28 크기의 MNIST 데이터 60,000개가 모여 있는 배열이기 때문에, 각각의 데이터를 (28, 28) 크기의 행렬(2차원)에서 길이가 28x28=784인 벡터(1차원)로 변형시켜야 합니다. X_test에 포함된 데이터도 reshape() 함수를 사용하여 크기를 바꿔줍시다."
      ]
    },
    {
      "cell_type": "code",
      "execution_count": null,
      "id": "22112b0a",
      "metadata": {
        "id": "22112b0a"
      },
      "outputs": [],
      "source": [
        "# MLP 구조에 적절한 input의 형태로 변형하기\n",
        "## reshape()을 사용하여 2차원의 데이터를 1차원으로 변형\n",
        "## 1차원으로 변형함과 동시에 Normalization\n",
        "\n",
        "X_train = X_train.reshape(X_train.shape[0], 784).astype('float32') # 28 x 28= 784\n",
        "X_test = X_test.reshape(X_test.shape[0], 784).astype('float32')"
      ]
    },
    {
      "cell_type": "code",
      "execution_count": null,
      "id": "4a3a8db1",
      "metadata": {
        "id": "4a3a8db1",
        "outputId": "85bf0509-5fa1-4d19-b1da-f6a8ecf4ccec"
      },
      "outputs": [
        {
          "name": "stdout",
          "output_type": "stream",
          "text": [
            "(60000, 784)\n",
            "(10000, 784)\n"
          ]
        }
      ],
      "source": [
        "print(X_train.shape)\n",
        "print(X_test.shape)"
      ]
    },
    {
      "cell_type": "code",
      "execution_count": null,
      "id": "c957d7b6",
      "metadata": {
        "id": "c957d7b6"
      },
      "outputs": [],
      "source": [
        "# Label 값을 One-hot encoding 하기\n",
        "# Multi-Class Classfication이므로 keras.utils.to_categorical을 사용\n",
        "\n",
        "Y_train = tf.keras.utils.to_categorical(Y_train)\n",
        "Y_test = tf.keras.utils.to_categorical(Y_test)"
      ]
    },
    {
      "cell_type": "code",
      "execution_count": null,
      "id": "35750a95",
      "metadata": {
        "id": "35750a95",
        "outputId": "39d09a93-10d0-4859-e81b-6adde7d4575f"
      },
      "outputs": [
        {
          "name": "stdout",
          "output_type": "stream",
          "text": [
            "(60000, 10)\n",
            "(10000, 10)\n",
            "[0. 0. 0. 0. 0. 1. 0. 0. 0. 0.]\n"
          ]
        }
      ],
      "source": [
        "print(Y_train.shape)\n",
        "print(Y_test.shape)\n",
        "print(Y_train[0])"
      ]
    },
    {
      "cell_type": "markdown",
      "id": "17832a4f",
      "metadata": {
        "id": "17832a4f"
      },
      "source": [
        "본격적으로 MLP 모델을 만들어봅시다. 모델을 만드는 여러 가지 방법이 있지만 여기서는 `Functional API`로 만들겠습니다. 이번에 구현할 모델은 input layer와 두 개의 hidden layer, 그리고 output layer로 구성되어 있습니다. 특히 output layer는 특별한 task를 수행하는데, 이 경우에는 10개의 class를 분류 (multi-class classification)하는 것입니다. 만약 output layer의 perceptron이 회귀 문제에서와 같이 실수 출력 값을 가진다면 수행하고자 하는 분류 task에 적절하지 않습니다. 왜냐 하면 분류 문제에서 label 값은 one-hot vector로 인코딩되고, 이것은 특정 클래스에 속할 확률이 1이라고 해석될 수 있기 때문입니다. 그러므로 10개의 perceptron에서 나온 출력을 확률 값으로 만들기 위해 활성화 함수로 softmax를 사용해야 합니다."
      ]
    },
    {
      "cell_type": "code",
      "execution_count": null,
      "id": "4b73c8b5",
      "metadata": {
        "id": "4b73c8b5",
        "outputId": "b52a9ba2-26dc-4e60-c75a-a80d16cbeb99"
      },
      "outputs": [
        {
          "name": "stdout",
          "output_type": "stream",
          "text": [
            "Model: \"model\"\n",
            "_________________________________________________________________\n",
            "Layer (type)                 Output Shape              Param #   \n",
            "=================================================================\n",
            "input_1 (InputLayer)         [(None, 784)]             0         \n",
            "_________________________________________________________________\n",
            "dense (Dense)                (None, 512)               401920    \n",
            "_________________________________________________________________\n",
            "dense_1 (Dense)              (None, 512)               262656    \n",
            "_________________________________________________________________\n",
            "dense_2 (Dense)              (None, 10)                5130      \n",
            "=================================================================\n",
            "Total params: 669,706\n",
            "Trainable params: 669,706\n",
            "Non-trainable params: 0\n",
            "_________________________________________________________________\n"
          ]
        }
      ],
      "source": [
        "input_layer = tf.keras.layers.Input(shape=(784,))\n",
        "x = tf.keras.layers.Dense(512, activation='relu')(input_layer)\n",
        "x = tf.keras.layers.Dense(512, activation='relu')(x)\n",
        "out_layer= tf.keras.layers.Dense(10, activation='softmax')(x)\n",
        "\n",
        "model = tf.keras.Model(inputs=[input_layer], outputs=[out_layer])\n",
        "model.summary()"
      ]
    },
    {
      "cell_type": "code",
      "execution_count": null,
      "id": "83af6c7d",
      "metadata": {
        "id": "83af6c7d"
      },
      "outputs": [],
      "source": [
        "loss=tf.keras.losses.categorical_crossentropy\n",
        "optimizer = tf.keras.optimizers.Adam(learning_rate = 0.001)\n",
        "metric=tf.keras.metrics.categorical_accuracy\n",
        "model.compile(loss = loss,\n",
        "              optimizer = optimizer,\n",
        "              metrics = [metric])"
      ]
    },
    {
      "cell_type": "markdown",
      "id": "f578d71a",
      "metadata": {
        "id": "f578d71a"
      },
      "source": [
        "**MLP 모델 Training 하기**"
      ]
    },
    {
      "cell_type": "code",
      "execution_count": null,
      "id": "ac3c6c27",
      "metadata": {
        "id": "ac3c6c27",
        "outputId": "e86609f5-19fe-4f40-8141-734af0fa567c"
      },
      "outputs": [
        {
          "name": "stdout",
          "output_type": "stream",
          "text": [
            "Epoch 1/30\n",
            "48/48 [==============================] - 2s 10ms/step - loss: 15.3634 - categorical_accuracy: 0.7808 - val_loss: 1.3344 - val_categorical_accuracy: 0.9178\n",
            "Epoch 2/30\n",
            "48/48 [==============================] - 0s 5ms/step - loss: 0.7861 - categorical_accuracy: 0.9305 - val_loss: 0.7593 - val_categorical_accuracy: 0.9297\n",
            "Epoch 3/30\n",
            "48/48 [==============================] - 0s 5ms/step - loss: 0.3757 - categorical_accuracy: 0.9512 - val_loss: 0.6071 - val_categorical_accuracy: 0.9391\n",
            "Epoch 4/30\n",
            "48/48 [==============================] - 0s 5ms/step - loss: 0.1939 - categorical_accuracy: 0.9685 - val_loss: 0.5458 - val_categorical_accuracy: 0.9424\n",
            "Epoch 5/30\n",
            "48/48 [==============================] - 0s 5ms/step - loss: 0.0991 - categorical_accuracy: 0.9809 - val_loss: 0.5197 - val_categorical_accuracy: 0.9449\n",
            "Epoch 6/30\n",
            "48/48 [==============================] - 0s 5ms/step - loss: 0.0544 - categorical_accuracy: 0.9880 - val_loss: 0.5105 - val_categorical_accuracy: 0.9467\n",
            "Epoch 7/30\n",
            "48/48 [==============================] - 0s 6ms/step - loss: 0.0281 - categorical_accuracy: 0.9931 - val_loss: 0.4920 - val_categorical_accuracy: 0.9472\n",
            "Epoch 8/30\n",
            "48/48 [==============================] - 0s 6ms/step - loss: 0.0135 - categorical_accuracy: 0.9969 - val_loss: 0.4869 - val_categorical_accuracy: 0.9474\n",
            "Epoch 9/30\n",
            "48/48 [==============================] - 0s 5ms/step - loss: 0.0057 - categorical_accuracy: 0.9989 - val_loss: 0.4804 - val_categorical_accuracy: 0.9486\n",
            "Epoch 10/30\n",
            "48/48 [==============================] - 0s 5ms/step - loss: 0.0022 - categorical_accuracy: 0.9997 - val_loss: 0.4769 - val_categorical_accuracy: 0.9491\n",
            "Epoch 11/30\n",
            "48/48 [==============================] - 0s 5ms/step - loss: 0.0010 - categorical_accuracy: 1.0000 - val_loss: 0.4759 - val_categorical_accuracy: 0.9496\n",
            "Epoch 12/30\n",
            "48/48 [==============================] - 0s 5ms/step - loss: 6.1658e-04 - categorical_accuracy: 1.0000 - val_loss: 0.4757 - val_categorical_accuracy: 0.9500\n",
            "Epoch 13/30\n",
            "48/48 [==============================] - 0s 5ms/step - loss: 4.9829e-04 - categorical_accuracy: 1.0000 - val_loss: 0.4752 - val_categorical_accuracy: 0.9507\n",
            "Epoch 14/30\n",
            "48/48 [==============================] - 0s 5ms/step - loss: 4.3562e-04 - categorical_accuracy: 1.0000 - val_loss: 0.4746 - val_categorical_accuracy: 0.9503\n",
            "Epoch 15/30\n",
            "48/48 [==============================] - 0s 5ms/step - loss: 3.8855e-04 - categorical_accuracy: 1.0000 - val_loss: 0.4744 - val_categorical_accuracy: 0.9506\n",
            "Epoch 16/30\n",
            "48/48 [==============================] - 0s 5ms/step - loss: 3.5162e-04 - categorical_accuracy: 1.0000 - val_loss: 0.4745 - val_categorical_accuracy: 0.9508\n",
            "Epoch 17/30\n",
            "48/48 [==============================] - 0s 5ms/step - loss: 3.2165e-04 - categorical_accuracy: 1.0000 - val_loss: 0.4742 - val_categorical_accuracy: 0.9509\n",
            "Epoch 18/30\n",
            "48/48 [==============================] - 0s 5ms/step - loss: 2.9686e-04 - categorical_accuracy: 1.0000 - val_loss: 0.4742 - val_categorical_accuracy: 0.9512\n",
            "Epoch 19/30\n",
            "48/48 [==============================] - 0s 5ms/step - loss: 2.7509e-04 - categorical_accuracy: 1.0000 - val_loss: 0.4742 - val_categorical_accuracy: 0.9511\n",
            "Epoch 20/30\n",
            "48/48 [==============================] - 0s 5ms/step - loss: 2.5638e-04 - categorical_accuracy: 1.0000 - val_loss: 0.4737 - val_categorical_accuracy: 0.9514\n",
            "Epoch 21/30\n",
            "48/48 [==============================] - 0s 4ms/step - loss: 2.3992e-04 - categorical_accuracy: 1.0000 - val_loss: 0.4738 - val_categorical_accuracy: 0.9516\n",
            "Epoch 22/30\n",
            "48/48 [==============================] - 0s 5ms/step - loss: 2.2468e-04 - categorical_accuracy: 1.0000 - val_loss: 0.4740 - val_categorical_accuracy: 0.9517\n",
            "Epoch 23/30\n",
            "48/48 [==============================] - 0s 5ms/step - loss: 2.1096e-04 - categorical_accuracy: 1.0000 - val_loss: 0.4738 - val_categorical_accuracy: 0.9516\n",
            "Epoch 24/30\n",
            "48/48 [==============================] - 0s 5ms/step - loss: 1.9911e-04 - categorical_accuracy: 1.0000 - val_loss: 0.4736 - val_categorical_accuracy: 0.9518\n",
            "Epoch 25/30\n",
            "48/48 [==============================] - 0s 5ms/step - loss: 1.8781e-04 - categorical_accuracy: 1.0000 - val_loss: 0.4737 - val_categorical_accuracy: 0.9521\n",
            "Epoch 26/30\n",
            "48/48 [==============================] - 0s 5ms/step - loss: 1.7790e-04 - categorical_accuracy: 1.0000 - val_loss: 0.4735 - val_categorical_accuracy: 0.9520\n",
            "Epoch 27/30\n",
            "48/48 [==============================] - 0s 5ms/step - loss: 1.6815e-04 - categorical_accuracy: 1.0000 - val_loss: 0.4736 - val_categorical_accuracy: 0.9522\n",
            "Epoch 28/30\n",
            "48/48 [==============================] - 0s 5ms/step - loss: 1.5993e-04 - categorical_accuracy: 1.0000 - val_loss: 0.4735 - val_categorical_accuracy: 0.9522\n",
            "Epoch 29/30\n",
            "48/48 [==============================] - 0s 5ms/step - loss: 1.5220e-04 - categorical_accuracy: 1.0000 - val_loss: 0.4732 - val_categorical_accuracy: 0.9524\n",
            "Epoch 30/30\n",
            "48/48 [==============================] - 0s 5ms/step - loss: 1.4493e-04 - categorical_accuracy: 1.0000 - val_loss: 0.4732 - val_categorical_accuracy: 0.9527\n",
            "dict_keys(['loss', 'categorical_accuracy', 'val_loss', 'val_categorical_accuracy'])\n"
          ]
        }
      ],
      "source": [
        "# validation_data 옵션으로 테스트 데이터만 넣어주어서 검증 데이터 분류가 가능\n",
        "\n",
        "history = model.fit(X_train, Y_train, validation_split=0.2, epochs=30, batch_size=1000, verbose=1)\n",
        "print(history.history.keys())"
      ]
    },
    {
      "cell_type": "code",
      "execution_count": null,
      "id": "65ece91a",
      "metadata": {
        "id": "65ece91a",
        "outputId": "f182a7c6-41b5-4fc1-ca0b-e54fcde06911"
      },
      "outputs": [
        {
          "name": "stdout",
          "output_type": "stream",
          "text": [
            "[15.363444328308105, 0.7861288785934448, 0.3757259249687195, 0.19390717148780823, 0.09914762526750565, 0.05440088361501694, 0.028130080550909042, 0.013527690432965755, 0.005665619391947985, 0.0022280793637037277, 0.0010351873934268951, 0.0006165754166431725, 0.0004982869722880423, 0.00043562109931372106, 0.0003885479236487299, 0.0003516232827678323, 0.00032164924778044224, 0.0002968627668451518, 0.00027509109349921346, 0.00025637756334617734, 0.00023992151545826346, 0.00022467965027317405, 0.00021095972624607384, 0.00019910611445084214, 0.00018781269318424165, 0.00017789511184673756, 0.00016815064009279013, 0.00015993427950888872, 0.00015220462228171527, 0.00014493390335701406]\n"
          ]
        }
      ],
      "source": [
        "# Training loss 확인하기\n",
        "\n",
        "loss = history.history['loss']\n",
        "print(loss)"
      ]
    },
    {
      "cell_type": "code",
      "execution_count": null,
      "id": "a32a3984",
      "metadata": {
        "id": "a32a3984",
        "outputId": "6b1244c5-9da0-411f-f568-2d5b7337c627"
      },
      "outputs": [
        {
          "name": "stdout",
          "output_type": "stream",
          "text": [
            "Validation Loss: [1.3344312906265259, 0.7593138217926025, 0.6070867776870728, 0.5457627773284912, 0.5197417140007019, 0.5104641318321228, 0.49201053380966187, 0.48690131306648254, 0.48038625717163086, 0.47686144709587097, 0.47586336731910706, 0.47565072774887085, 0.4752471148967743, 0.47464892268180847, 0.4744149446487427, 0.47454655170440674, 0.47416743636131287, 0.47423383593559265, 0.47421830892562866, 0.47370287775993347, 0.4738098084926605, 0.4739762842655182, 0.4737704396247864, 0.47363370656967163, 0.47374227643013, 0.4734947085380554, 0.4735689163208008, 0.4734974503517151, 0.4732329845428467, 0.4732285439968109]\n"
          ]
        }
      ],
      "source": [
        "# Q. Validation loss를 확인해 보세요.\n",
        "\n",
        "val_loss = history.history['val_loss']\n",
        "print(\"Validation Loss:\", val_loss)"
      ]
    },
    {
      "cell_type": "markdown",
      "id": "366c086c",
      "metadata": {
        "id": "366c086c"
      },
      "source": [
        "**학습된 모델의 성능 확인하기**"
      ]
    },
    {
      "cell_type": "code",
      "execution_count": null,
      "id": "ac2759cf",
      "metadata": {
        "id": "ac2759cf",
        "outputId": "c8c92cda-cc92-43e0-9771-cd1d40ab9e38"
      },
      "outputs": [
        {
          "name": "stdout",
          "output_type": "stream",
          "text": [
            "313/313 [==============================] - 1s 2ms/step - loss: 0.4157 - categorical_accuracy: 0.9524\n",
            "\n",
            " Test Accuracy: 0.9524\n"
          ]
        }
      ],
      "source": [
        "# Test 데이터를 통해서 정확도 확인하기\n",
        "\n",
        "print(\"\\n Test Accuracy: %.4f\" % (model.evaluate(X_test, Y_test)[1]))"
      ]
    },
    {
      "cell_type": "code",
      "execution_count": null,
      "id": "31cd028f",
      "metadata": {
        "id": "31cd028f",
        "outputId": "c11a3bc6-51bc-4bc1-f1fc-9f5f68196dbe"
      },
      "outputs": [
        {
          "data": {
            "image/png": "[encoded data removed]",
            "text/plain": [
              "<Figure size 432x288 with 1 Axes>"
            ]
          },
          "metadata": {
            "needs_background": "light"
          },
          "output_type": "display_data"
        }
      ],
      "source": [
        "x_len = np.arange(len(val_loss))\n",
        "plt.plot(x_len, val_loss, marker='.', c=\"red\", label='validation loss')\n",
        "plt.plot(x_len, loss, marker='.', c=\"blue\", label='training loss')\n",
        "\n",
        "# 그래프에 그리드를 주고 레이블을 표시\n",
        "plt.legend(loc='upper right')\n",
        "plt.axis([0, 20, 0, 0.35])\n",
        "plt.grid()\n",
        "plt.xlabel('epoch')\n",
        "plt.ylabel('loss')\n",
        "plt.show()"
      ]
    },
    {
      "cell_type": "markdown",
      "id": "2e9225c4",
      "metadata": {
        "id": "2e9225c4"
      },
      "source": [
        "**Modified Model**"
      ]
    },
    {
      "cell_type": "code",
      "execution_count": null,
      "id": "23708485",
      "metadata": {
        "id": "23708485",
        "outputId": "b2a0d7dd-83ef-4e2d-91ae-f1f3be940174"
      },
      "outputs": [
        {
          "name": "stdout",
          "output_type": "stream",
          "text": [
            "Model: \"model_1\"\n",
            "_________________________________________________________________\n",
            "Layer (type)                 Output Shape              Param #   \n",
            "=================================================================\n",
            "input_2 (InputLayer)         [(None, 784)]             0         \n",
            "_________________________________________________________________\n",
            "dense_3 (Dense)              (None, 1024)              803840    \n",
            "_________________________________________________________________\n",
            "dropout (Dropout)            (None, 1024)              0         \n",
            "_________________________________________________________________\n",
            "dense_4 (Dense)              (None, 1024)              1049600   \n",
            "_________________________________________________________________\n",
            "dense_5 (Dense)              (None, 10)                10250     \n",
            "=================================================================\n",
            "Total params: 1,863,690\n",
            "Trainable params: 1,863,690\n",
            "Non-trainable params: 0\n",
            "_________________________________________________________________\n"
          ]
        }
      ],
      "source": [
        "input_layer = tf.keras.layers.Input(shape=(784,))\n",
        "x = tf.keras.layers.Dense(1024, activation='relu')(input_layer)\n",
        "x = tf.keras.layers.Dropout(0.5)(x) # dropout 추가\n",
        "x = tf.keras.layers.Dense(1024, activation='relu')(x)\n",
        "\n",
        "out_layer= tf.keras.layers.Dense(10, activation='softmax')(x)\n",
        "\n",
        "model = tf.keras.Model(inputs=[input_layer], outputs=[out_layer])\n",
        "model.summary()"
      ]
    },
    {
      "cell_type": "code",
      "execution_count": null,
      "id": "62af8480",
      "metadata": {
        "id": "62af8480"
      },
      "outputs": [],
      "source": [
        "loss=tf.keras.losses.categorical_crossentropy\n",
        "optimizer = tf.keras.optimizers.Adam(learning_rate = 0.001)\n",
        "metric=tf.keras.metrics.categorical_accuracy\n",
        "model.compile(loss = loss,\n",
        "              optimizer = optimizer,\n",
        "              metrics = [metric])"
      ]
    },
    {
      "cell_type": "code",
      "execution_count": null,
      "id": "d0156432",
      "metadata": {
        "id": "d0156432",
        "outputId": "fad6aaef-e95b-4223-f0e9-49ab690bb94f"
      },
      "outputs": [
        {
          "name": "stdout",
          "output_type": "stream",
          "text": [
            "Epoch 1/40\n",
            "75/75 [==============================] - 1s 8ms/step - loss: 13.8389 - categorical_accuracy: 0.7883 - val_loss: 0.4819 - val_categorical_accuracy: 0.9236\n",
            "Epoch 2/40\n",
            "75/75 [==============================] - 0s 5ms/step - loss: 0.7934 - categorical_accuracy: 0.8746 - val_loss: 0.3373 - val_categorical_accuracy: 0.9357\n",
            "Epoch 3/40\n",
            "75/75 [==============================] - 0s 4ms/step - loss: 0.5557 - categorical_accuracy: 0.8950 - val_loss: 0.2959 - val_categorical_accuracy: 0.9398\n",
            "Epoch 4/40\n",
            "75/75 [==============================] - 0s 4ms/step - loss: 0.4630 - categorical_accuracy: 0.9038 - val_loss: 0.2908 - val_categorical_accuracy: 0.9439\n",
            "Epoch 5/40\n",
            "75/75 [==============================] - 0s 4ms/step - loss: 0.3796 - categorical_accuracy: 0.9167 - val_loss: 0.2538 - val_categorical_accuracy: 0.9513\n",
            "Epoch 6/40\n",
            "75/75 [==============================] - 0s 4ms/step - loss: 0.3433 - categorical_accuracy: 0.9237 - val_loss: 0.2563 - val_categorical_accuracy: 0.9516\n",
            "Epoch 7/40\n",
            "75/75 [==============================] - 0s 4ms/step - loss: 0.3204 - categorical_accuracy: 0.9298 - val_loss: 0.2420 - val_categorical_accuracy: 0.9582\n",
            "Epoch 8/40\n",
            "75/75 [==============================] - 0s 4ms/step - loss: 0.3014 - categorical_accuracy: 0.9360 - val_loss: 0.2324 - val_categorical_accuracy: 0.9571\n",
            "Epoch 9/40\n",
            "75/75 [==============================] - 0s 4ms/step - loss: 0.2710 - categorical_accuracy: 0.9387 - val_loss: 0.2238 - val_categorical_accuracy: 0.9592\n",
            "Epoch 10/40\n",
            "75/75 [==============================] - 0s 4ms/step - loss: 0.2452 - categorical_accuracy: 0.9437 - val_loss: 0.2240 - val_categorical_accuracy: 0.9592\n",
            "Epoch 11/40\n",
            "75/75 [==============================] - 0s 4ms/step - loss: 0.2428 - categorical_accuracy: 0.9464 - val_loss: 0.2322 - val_categorical_accuracy: 0.9600\n",
            "Epoch 12/40\n",
            "75/75 [==============================] - 0s 4ms/step - loss: 0.2309 - categorical_accuracy: 0.9497 - val_loss: 0.2406 - val_categorical_accuracy: 0.9606\n",
            "Epoch 13/40\n",
            "75/75 [==============================] - 0s 4ms/step - loss: 0.2236 - categorical_accuracy: 0.9511 - val_loss: 0.2248 - val_categorical_accuracy: 0.9617\n",
            "Epoch 14/40\n",
            "75/75 [==============================] - 0s 5ms/step - loss: 0.2145 - categorical_accuracy: 0.9541 - val_loss: 0.2185 - val_categorical_accuracy: 0.9632\n",
            "Epoch 15/40\n",
            "75/75 [==============================] - 0s 4ms/step - loss: 0.2048 - categorical_accuracy: 0.9551 - val_loss: 0.2270 - val_categorical_accuracy: 0.9654\n",
            "Epoch 16/40\n",
            "75/75 [==============================] - 0s 4ms/step - loss: 0.2032 - categorical_accuracy: 0.9550 - val_loss: 0.2209 - val_categorical_accuracy: 0.9635\n",
            "Epoch 17/40\n",
            "75/75 [==============================] - 0s 4ms/step - loss: 0.2089 - categorical_accuracy: 0.9539 - val_loss: 0.2307 - val_categorical_accuracy: 0.9662\n",
            "Epoch 18/40\n",
            "75/75 [==============================] - 0s 4ms/step - loss: 0.2007 - categorical_accuracy: 0.9569 - val_loss: 0.2368 - val_categorical_accuracy: 0.9630\n",
            "Epoch 19/40\n",
            "75/75 [==============================] - 0s 4ms/step - loss: 0.1968 - categorical_accuracy: 0.9580 - val_loss: 0.2037 - val_categorical_accuracy: 0.9673\n",
            "Epoch 20/40\n",
            "75/75 [==============================] - 0s 5ms/step - loss: 0.1821 - categorical_accuracy: 0.9613 - val_loss: 0.2114 - val_categorical_accuracy: 0.9645\n",
            "Epoch 21/40\n",
            "75/75 [==============================] - 0s 4ms/step - loss: 0.1890 - categorical_accuracy: 0.9608 - val_loss: 0.2365 - val_categorical_accuracy: 0.9630\n",
            "Epoch 22/40\n",
            "75/75 [==============================] - 0s 4ms/step - loss: 0.1877 - categorical_accuracy: 0.9595 - val_loss: 0.2162 - val_categorical_accuracy: 0.9660\n",
            "Epoch 23/40\n",
            "75/75 [==============================] - 0s 4ms/step - loss: 0.1873 - categorical_accuracy: 0.9619 - val_loss: 0.2235 - val_categorical_accuracy: 0.9631\n",
            "Epoch 24/40\n",
            "75/75 [==============================] - 0s 4ms/step - loss: 0.1785 - categorical_accuracy: 0.9637 - val_loss: 0.1971 - val_categorical_accuracy: 0.9686\n",
            "Epoch 25/40\n",
            "75/75 [==============================] - 0s 4ms/step - loss: 0.1853 - categorical_accuracy: 0.9624 - val_loss: 0.2154 - val_categorical_accuracy: 0.9674\n",
            "Epoch 26/40\n",
            "75/75 [==============================] - 0s 4ms/step - loss: 0.1804 - categorical_accuracy: 0.9637 - val_loss: 0.2093 - val_categorical_accuracy: 0.9672\n",
            "Epoch 27/40\n",
            "75/75 [==============================] - 0s 4ms/step - loss: 0.1789 - categorical_accuracy: 0.9631 - val_loss: 0.2165 - val_categorical_accuracy: 0.9684\n",
            "Epoch 28/40\n",
            "75/75 [==============================] - 0s 4ms/step - loss: 0.1812 - categorical_accuracy: 0.9643 - val_loss: 0.2160 - val_categorical_accuracy: 0.9665\n",
            "Epoch 29/40\n",
            "75/75 [==============================] - 0s 5ms/step - loss: 0.1774 - categorical_accuracy: 0.9665 - val_loss: 0.2229 - val_categorical_accuracy: 0.9653\n",
            "Epoch 30/40\n",
            "75/75 [==============================] - 0s 5ms/step - loss: 0.1630 - categorical_accuracy: 0.9669 - val_loss: 0.2155 - val_categorical_accuracy: 0.9692\n",
            "Epoch 31/40\n",
            "75/75 [==============================] - 0s 4ms/step - loss: 0.1717 - categorical_accuracy: 0.9672 - val_loss: 0.2235 - val_categorical_accuracy: 0.9686\n",
            "Epoch 32/40\n",
            "75/75 [==============================] - 0s 4ms/step - loss: 0.1747 - categorical_accuracy: 0.9658 - val_loss: 0.2150 - val_categorical_accuracy: 0.9688\n",
            "Epoch 33/40\n",
            "75/75 [==============================] - 0s 4ms/step - loss: 0.1666 - categorical_accuracy: 0.9675 - val_loss: 0.1827 - val_categorical_accuracy: 0.9690\n",
            "Epoch 34/40\n",
            "75/75 [==============================] - 0s 4ms/step - loss: 0.1693 - categorical_accuracy: 0.9665 - val_loss: 0.1955 - val_categorical_accuracy: 0.9669\n",
            "Epoch 35/40\n",
            "75/75 [==============================] - 0s 4ms/step - loss: 0.1613 - categorical_accuracy: 0.9671 - val_loss: 0.2041 - val_categorical_accuracy: 0.9685\n",
            "Epoch 36/40\n",
            "75/75 [==============================] - 0s 4ms/step - loss: 0.1601 - categorical_accuracy: 0.9688 - val_loss: 0.1933 - val_categorical_accuracy: 0.9715\n",
            "Epoch 37/40\n",
            "75/75 [==============================] - 0s 4ms/step - loss: 0.1575 - categorical_accuracy: 0.9698 - val_loss: 0.1982 - val_categorical_accuracy: 0.9681\n",
            "Epoch 38/40\n",
            "75/75 [==============================] - 0s 4ms/step - loss: 0.1490 - categorical_accuracy: 0.9706 - val_loss: 0.1962 - val_categorical_accuracy: 0.9705\n",
            "Epoch 39/40\n",
            "75/75 [==============================] - 0s 4ms/step - loss: 0.1584 - categorical_accuracy: 0.9698 - val_loss: 0.1898 - val_categorical_accuracy: 0.9720\n",
            "Epoch 40/40\n",
            "75/75 [==============================] - 0s 4ms/step - loss: 0.1478 - categorical_accuracy: 0.9721 - val_loss: 0.1841 - val_categorical_accuracy: 0.9711\n",
            "dict_keys(['loss', 'categorical_accuracy', 'val_loss', 'val_categorical_accuracy'])\n"
          ]
        }
      ],
      "source": [
        "history = model.fit(X_train, Y_train, validation_split=0.2, epochs=40, batch_size=640, verbose=1)\n",
        "print(history.history.keys())"
      ]
    },
    {
      "cell_type": "code",
      "execution_count": null,
      "id": "30f091af",
      "metadata": {
        "id": "30f091af",
        "outputId": "070db062-557c-4c2a-ac11-4c3592a9badc"
      },
      "outputs": [
        {
          "name": "stdout",
          "output_type": "stream",
          "text": [
            "313/313 [==============================] - 1s 2ms/step - loss: 0.1789 - categorical_accuracy: 0.9733\n",
            "\n",
            " Test Accuracy: 0.9733\n"
          ]
        }
      ],
      "source": [
        "print(\"\\n Test Accuracy: %.4f\" % (model.evaluate(X_test, Y_test)[1]))"
      ]
    },
    {
      "cell_type": "code",
      "execution_count": null,
      "id": "fe69218e",
      "metadata": {
        "id": "fe69218e",
        "outputId": "5c5fceae-1c62-4433-b6d5-7e227ed35265"
      },
      "outputs": [
        {
          "data": {
            "image/png": "[encoded data removed]",
            "text/plain": [
              "<Figure size 432x288 with 1 Axes>"
            ]
          },
          "metadata": {
            "needs_background": "light"
          },
          "output_type": "display_data"
        }
      ],
      "source": [
        "x_len = np.arange(len(val_loss))\n",
        "plt.plot(x_len, val_loss, marker='.', c=\"red\", label='validation loss')\n",
        "# plt.plot(x_len, loss, marker='.', c=\"blue\", label='training loss')\n",
        "\n",
        "plt.legend(loc='upper right')\n",
        "# plt.axis([0, 20, 0, 0.35])\n",
        "plt.grid()\n",
        "plt.xlabel('epoch')\n",
        "plt.ylabel('loss')\n",
        "plt.show()"
      ]
    }
  ],
  "metadata": {
    "kernelspec": {
      "display_name": "Python 3 (ipykernel)",
      "language": "python",
      "name": "python3"
    },
    "language_info": {
      "codemirror_mode": {
        "name": "ipython",
        "version": 3
      },
      "file_extension": ".py",
      "mimetype": "text/x-python",
      "name": "python",
      "nbconvert_exporter": "python",
      "pygments_lexer": "ipython3",
      "version": "3.9.7"
    },
    "colab": {
      "provenance": [],
      "include_colab_link": true
    }
  },
  "nbformat": 4,
  "nbformat_minor": 5
}