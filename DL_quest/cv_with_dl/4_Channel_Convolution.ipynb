{
  "cells": [
    {
      "cell_type": "markdown",
      "metadata": {
        "id": "view-in-github",
        "colab_type": "text"
      },
      "source": [
        "<a href=\"https://colab.research.google.com/github/CAVASOL/aiffel_quest/blob/main/DL_quest/cv_with_dl/4_Channel_Convolution.ipynb\" target=\"_parent\"><img src=\"https://colab.research.google.com/assets/colab-badge.svg\" alt=\"Open In Colab\"/></a>"
      ]
    },
    {
      "cell_type": "markdown",
      "id": "6469df05",
      "metadata": {
        "id": "6469df05"
      },
      "source": [
        "## 4. Channel Convolution\n",
        "\n",
        "**학습 목표**\n",
        "\n",
        "* 3 Channel 일 때 Convolution 연산 방식을 설명할 수 있습니다.\n",
        "* Convolution 연산의 결과로 나온 feature map의 차원을 계산할 수 있습니다."
      ]
    },
    {
      "cell_type": "markdown",
      "id": "1b9f2e11",
      "metadata": {
        "id": "1b9f2e11"
      },
      "source": [
        "**Kernel Size**\n",
        "\n",
        "* Kernel size가 커질수록 연산을 통해 찾아야 하는 파라미터의 수가 증가하게 됩니다.\n",
        "* Kernel size가 작아질수록 데이터에 존재하는 global feature보다 local feature에 집중하게 됩니다. 쉽게 표현하자면 큼직한 특징보다는 지엽적인 특징에 집중해서 패턴을 찾게 됩니다.\n",
        "\n",
        "**Channel size**\n",
        "\n",
        "* Filter의 channel size가 커질수록 convolution 연산을 통해서 더 다양한 패턴을 찾을 수 있습니다.\n",
        "* 그러나 channel의 사이즈가 커짐에 따라서 연산으로 찾아야 하는 파라미터의 숫자가 증가하게 됩니다.\n",
        "\n",
        "**Stride**\n",
        "\n",
        "* Stride 값이 커지면 데이터를 빠르게 훑고 지나가는 연산을 하게 됩니다.\n",
        "* 따라서 지역적인 특징을 꼼꼼하게 살펴보아야 할 경우에는 stride값을 크게 하는 것이 좋지 않습니다."
      ]
    },
    {
      "cell_type": "markdown",
      "id": "2ad512a3",
      "metadata": {
        "id": "2ad512a3"
      },
      "source": [
        "**Q. filter마다 위의 연산과정을 반복하게 됩니다. filter은 어떤 역할을 하고 filter가 많으면 어떻게 되는지 설명해 보세요.**\n",
        "```\n",
        "filter는 feature extractor입니다. 이미지 데이터가 가지고 있는 특징, pattern을 추출해 주는 역할을 합니다. filter가 많을수록 여러 개의 feature map이 생기며 복잡하고 다양한 pattern을 찾을 수 있습니다.\n",
        "```\n",
        "\n",
        "**Q. input의 channel 수, feature map의 channel 수, filter의 개수의 관계에 대해서 설명해 보세요.**\n",
        "```\n",
        "input의 channel 수와 feature map의 channel 수는 다르지만, filter의 개수와 feature map의 channel 수는 같습니다. (feature map은 activation map이라고도 많이 씁니다.)\n",
        "```\n",
        "\n",
        "**Q. Convolution 연산을 할 때와 모델을 학습할 때에는 다양한 hyperparameter의 값을 정해야 합니다. hyperparameter와 많이 혼용해서 사용되는 개념인 매개변수 parameter에 대해서 알아봅시다. 각각의 개념을 찾아보고 두 개념의 차이점에 대해서 설명해 보세요.**\n",
        "\n",
        "```\n",
        "Parameters는 모델이 학습 중에 업데이트되는 가중치(weight) 및 편향(bias)와 같은 모델 내부의 값이에요. Hyperparameters는 모델 학습 과정 및 구조를 제어하는 매개변수이며, 모델의 설정을 결정하는 외부 설정 값이구요. 매개변수는 모델이 데이터에 적합하게 학습될 때 업데이트 되고, 하이퍼파라미터는 모델을 구성하고 학습 프로세스를 제어하는 외부 설정 값으로, 데이터로부터 추정되지 않아요. 하이퍼파라미터를 조정하여 모델을 최적화하고 최상의 성능을 얻을 수 있도록 도움을 줍니다.\n",
        "```"
      ]
    },
    {
      "cell_type": "markdown",
      "id": "d9864ff6",
      "metadata": {
        "id": "d9864ff6"
      },
      "source": [
        "**1x1 Convolution**\n",
        "\n",
        "Convolution 학습을 수행하는 layer를 사용해서 원하는 모델을 구성할 때는 Filter의 Channel 수를 직접 결정해야 합니다. 이전에 언급한 대로, 일반적으로는 좋은 성능을 보이는 논문에서의 구조를 그대로 따라하지만, 때로는 연구자가 직접 결정해주어야 합니다. channel size가 지나치게 크면 학습을 통해 찾아야 하는 파라미터 숫자가 증가하기 때문에 많은 연산 비용을 들여야만 합니다. 하지만 1x1 Convolution을 사용하면 연산량을 매우 쉽게 줄일 수 있습니다.\n",
        "\n",
        "때로는 feature map의 가로 세로 사이즈는 변화시키지 않고 channel size만 변형하고 싶을 때가 있습니다. 물론 padding을 통하여 가로 세로 사이즈에 대한 변경없이 channel size만 변경할 수 있지만 파라미터 숫자 증가에 따른 연산량 증가의 문제를 피할 수 없습니다. 이럴 때 1x1 convolution은 연산량의 문제를 회피하면서도 channel size를 원하는 대로 변경하는 데에 도움을 줍니다."
      ]
    },
    {
      "cell_type": "markdown",
      "id": "f51d7b6b",
      "metadata": {
        "id": "f51d7b6b"
      },
      "source": [
        "**Q. Transposed Convolution을 사용하는 이유와 특징에 대해서 설명해 보세요.**\n",
        "```\n",
        "Transposed Convolution은 Auto-Encoder 구조에서 입력 정보가 압축된 compressed representation을 다시 원래 입력 사이즈로 반환하기 위해 사용합니다. 정보를 축약하는 down-sampling이라는 표현과 반대로 up-sampling 한다고 말하기도 합니다. Low-resolution의 이미지를 high-resolution으로 바꾸는 역할도 할 수 있고, Pixel 별로 할당된 정답 값을 맞추는 task인 semantic segmentation에서도 활용할 수 있습니다.\n",
        "```\n",
        "\n",
        "**Q. Convolution 연산은 어떤 연산인지 설명해 보세요.**\n",
        "```\n",
        "Convolution 연산은 이미지 내의 패턴을 자동으로 추출하는 Filter(그 안의 Kernel)를 이용해서 숨겨진 패턴을 찾는 연산입니다.\n",
        "```\n",
        "\n",
        "**Q. Filter와 Feature map의 관계에 대해서 배운 내용을 설명해 보세요.**\n",
        "```\n",
        "Filter의 개수에 따라서 Feature map의 개수가 결정됩니다. 또한, Filter 여러 개를 사용하면 다양한 Feature map을 만들어낼 수 있습니다.\n",
        "```"
      ]
    }
  ],
  "metadata": {
    "kernelspec": {
      "display_name": "Python 3 (ipykernel)",
      "language": "python",
      "name": "python3"
    },
    "language_info": {
      "codemirror_mode": {
        "name": "ipython",
        "version": 3
      },
      "file_extension": ".py",
      "mimetype": "text/x-python",
      "name": "python",
      "nbconvert_exporter": "python",
      "pygments_lexer": "ipython3",
      "version": "3.9.7"
    },
    "colab": {
      "provenance": [],
      "include_colab_link": true
    }
  },
  "nbformat": 4,
  "nbformat_minor": 5
}