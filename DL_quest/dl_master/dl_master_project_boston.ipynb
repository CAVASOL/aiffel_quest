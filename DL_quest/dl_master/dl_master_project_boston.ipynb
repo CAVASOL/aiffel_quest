{
  "cells": [
    {
      "cell_type": "markdown",
      "metadata": {
        "id": "view-in-github",
        "colab_type": "text"
      },
      "source": [
        "<a href=\"https://colab.research.google.com/github/CAVASOL/aiffel_quest/blob/main/DL_quest/dl_master/dl_master_project_boston.ipynb\" target=\"_parent\"><img src=\"https://colab.research.google.com/assets/colab-badge.svg\" alt=\"Open In Colab\"/></a>"
      ]
    },
    {
      "cell_type": "markdown",
      "id": "9a7e1db7",
      "metadata": {
        "id": "9a7e1db7"
      },
      "source": [
        "## DL Master node 10\n",
        "\n",
        "### 목차\n",
        "\n",
        "10. 딥러닝 프로젝트"
      ]
    },
    {
      "cell_type": "markdown",
      "id": "1ebd46a3",
      "metadata": {
        "id": "1ebd46a3"
      },
      "source": [
        "### 10. 딥러닝 프로젝트\n",
        "\n",
        "**학습 목표**\n",
        "\n",
        "* Boston Housing 데이터셋을 이용해 주택 가격을 예측하는 딥러닝 모델을 실습합나다.\n",
        "* Reuters 데이터넷을 이용해 텍스트로 구성된 뉴스 데이터의 주제를 분류하는 딥러닝 모델을 실습합니다.\n",
        "* CIFAR10 데이터셋을 이용해 여러 객체의 이미지를 분류하는 딥러닝 모델을 실습합니다."
      ]
    },
    {
      "cell_type": "markdown",
      "id": "06f6cec2",
      "metadata": {
        "id": "06f6cec2"
      },
      "source": [
        "**데이터 로드 및 전처리**"
      ]
    },
    {
      "cell_type": "code",
      "execution_count": null,
      "id": "98b97c97",
      "metadata": {
        "id": "98b97c97"
      },
      "outputs": [],
      "source": [
        "# 데이터셋은 keras.datasets에서 불러올 수 있는 boston_housing 데이터셋을 활용합니다.\n",
        "\n",
        "from tensorflow.keras import models\n",
        "import matplotlib.pyplot as plt"
      ]
    },
    {
      "cell_type": "code",
      "execution_count": null,
      "id": "ce1d8810",
      "metadata": {
        "id": "ce1d8810",
        "outputId": "85134e17-81a7-4981-de1d-7ddeb1636a62"
      },
      "outputs": [
        {
          "name": "stdout",
          "output_type": "stream",
          "text": [
            "404\n",
            "102\n",
            "122\n",
            "122\n"
          ]
        }
      ],
      "source": [
        "# keras.datasets 안에 boston_housing 데이터셋을 로드합니다.\n",
        "from keras.datasets import boston_housing\n",
        "from sklearn.model_selection import train_test_split\n",
        "\n",
        "(train_data, train_labels), (test_data, test_labels) = boston_housing.load_data()\n",
        "x_train, x_val, y_train, y_val = train_test_split(train_data, train_labels,\n",
        "                                                  test_size=0.3,\n",
        "                                                  random_state=123)\n",
        "\n",
        "# 데이터셋의 크기를 확인합니다.\n",
        "print(len(train_data))\n",
        "print(len(test_data))\n",
        "print(len(x_val))\n",
        "print(len(y_val))"
      ]
    },
    {
      "cell_type": "code",
      "execution_count": null,
      "id": "41ffbc5f",
      "metadata": {
        "id": "41ffbc5f"
      },
      "outputs": [],
      "source": [
        "# 문제 1-1: 데이터셋의 전처리를 위해 표준화 작업을 수행합니다.\n",
        "\n",
        "# 입력 데이터의 각 특성의 평균을 뺍니다\n",
        "mean = train_data.mean(axis=0)\n",
        "train_data = train_data - mean\n",
        "\n",
        "# 평균을 뺀 입력 데이터에서 표준편차를 나눕니다.\n",
        "# 데이터 특성의 중앙이 0에 가깝에 만들고, 표준편차가 1이 되도록 만듭니다\n",
        "std = train_data.std(axis=0)\n",
        "train_data = train_data / std\n",
        "\n",
        "# 테스트 데이터셋도 마찬가지로 평균을 빼고, 표준편차로 나눕니다\n",
        "test_data = test_data - mean\n",
        "test_data = test_data / std"
      ]
    },
    {
      "cell_type": "markdown",
      "id": "43af3d60",
      "metadata": {
        "id": "43af3d60"
      },
      "source": [
        "**모델 구성 및 컴파일**"
      ]
    },
    {
      "cell_type": "code",
      "execution_count": null,
      "id": "2ae6f76f",
      "metadata": {
        "id": "2ae6f76f",
        "outputId": "8e156b9e-8fd3-4f33-9db4-b7cefaca6963"
      },
      "outputs": [
        {
          "name": "stdout",
          "output_type": "stream",
          "text": [
            "INFO:tensorflow:Assets written to: boston_housing_model_init/assets\n",
            "Model: \"sequential_1\"\n",
            "_________________________________________________________________\n",
            "Layer (type)                 Output Shape              Param #   \n",
            "=================================================================\n",
            "dense (Dense)                (None, 64)                896       \n",
            "_________________________________________________________________\n",
            "batch_normalization (BatchNo (None, 64)                256       \n",
            "_________________________________________________________________\n",
            "dense_1 (Dense)              (None, 64)                4160      \n",
            "_________________________________________________________________\n",
            "batch_normalization_1 (Batch (None, 64)                256       \n",
            "_________________________________________________________________\n",
            "dense_2 (Dense)              (None, 1)                 65        \n",
            "=================================================================\n",
            "Total params: 5,633\n",
            "Trainable params: 5,377\n",
            "Non-trainable params: 256\n",
            "_________________________________________________________________\n"
          ]
        }
      ],
      "source": [
        "# 문제 1-2: boston_housing 데이터셋을 활용하여 주택 가격 예측을 위한 딥러닝 모델 구성 및 컴파일합니다.\n",
        "from tensorflow.keras import models, layers\n",
        "\n",
        "# input_shape은 (train_data.shape[1], )으로 구성합니다.\n",
        "model = models.Sequential()\n",
        "model.add(layers.Input(shape=(train_data.shape[1], )))\n",
        "model.add(layers.Dense(64, activation='relu'))\n",
        "model.add(layers.BatchNormalization())\n",
        "model.add(layers.Dense(64, activation='relu'))\n",
        "model.add(layers.BatchNormalization())\n",
        "model.add(layers.Dense(1))\n",
        "\n",
        "# 회귀(예측)을 위한 모델이므로 loss를 mse, metrics를 mae로 사용합니다.\n",
        "model.compile(optimizer='adam',\n",
        "              loss='mse',\n",
        "              metrics=['mae'])\n",
        "\n",
        "model.save('boston_housing_model_init')\n",
        "model.summary()"
      ]
    },
    {
      "cell_type": "markdown",
      "id": "04dc93e9",
      "metadata": {
        "id": "04dc93e9"
      },
      "source": [
        "**모델 학습**"
      ]
    },
    {
      "cell_type": "code",
      "execution_count": null,
      "id": "fe0d16fa",
      "metadata": {
        "id": "fe0d16fa",
        "outputId": "969613d2-65b8-4e94-9cf7-dbe4749312cc"
      },
      "outputs": [
        {
          "name": "stdout",
          "output_type": "stream",
          "text": [
            "Epoch 1/100\n",
            "9/9 [==============================] - 2s 23ms/step - loss: 562.4812 - mae: 22.0652 - val_loss: 853.2516 - val_mae: 27.9865\n",
            "INFO:tensorflow:Assets written to: boston_housing_model_init/assets\n",
            "Epoch 2/100\n",
            "9/9 [==============================] - 0s 6ms/step - loss: 546.2653 - mae: 21.9669 - val_loss: 787.2047 - val_mae: 26.8691\n",
            "INFO:tensorflow:Assets written to: boston_housing_model_init/assets\n",
            "Epoch 3/100\n",
            "9/9 [==============================] - 0s 6ms/step - loss: 536.0737 - mae: 21.8654 - val_loss: 723.8595 - val_mae: 25.7044\n",
            "INFO:tensorflow:Assets written to: boston_housing_model_init/assets\n",
            "Epoch 4/100\n",
            "9/9 [==============================] - 0s 6ms/step - loss: 527.6559 - mae: 21.7591 - val_loss: 677.8411 - val_mae: 24.8272\n",
            "INFO:tensorflow:Assets written to: boston_housing_model_init/assets\n",
            "Epoch 5/100\n",
            "9/9 [==============================] - 0s 6ms/step - loss: 518.9293 - mae: 21.6451 - val_loss: 677.2435 - val_mae: 24.8619\n",
            "INFO:tensorflow:Assets written to: boston_housing_model_init/assets\n",
            "Epoch 6/100\n",
            "9/9 [==============================] - 0s 6ms/step - loss: 509.2184 - mae: 21.5207 - val_loss: 648.2567 - val_mae: 24.3096\n",
            "INFO:tensorflow:Assets written to: boston_housing_model_init/assets\n",
            "Epoch 7/100\n",
            "9/9 [==============================] - 0s 6ms/step - loss: 500.4524 - mae: 21.3854 - val_loss: 631.2286 - val_mae: 23.9969\n",
            "INFO:tensorflow:Assets written to: boston_housing_model_init/assets\n",
            "Epoch 8/100\n",
            "9/9 [==============================] - 0s 6ms/step - loss: 491.6270 - mae: 21.2367 - val_loss: 615.3353 - val_mae: 23.6992\n",
            "INFO:tensorflow:Assets written to: boston_housing_model_init/assets\n",
            "Epoch 9/100\n",
            "9/9 [==============================] - 0s 6ms/step - loss: 481.0966 - mae: 21.0729 - val_loss: 628.8863 - val_mae: 24.0228\n",
            "Epoch 10/100\n",
            "9/9 [==============================] - 0s 5ms/step - loss: 470.2633 - mae: 20.8922 - val_loss: 605.5372 - val_mae: 23.5768\n",
            "INFO:tensorflow:Assets written to: boston_housing_model_init/assets\n",
            "Epoch 11/100\n",
            "9/9 [==============================] - 0s 6ms/step - loss: 461.2592 - mae: 20.6953 - val_loss: 631.2226 - val_mae: 24.1595\n",
            "Epoch 12/100\n",
            "9/9 [==============================] - 0s 6ms/step - loss: 450.0762 - mae: 20.4804 - val_loss: 617.9436 - val_mae: 23.9067\n",
            "Epoch 13/100\n",
            "9/9 [==============================] - 0s 5ms/step - loss: 435.4285 - mae: 20.2465 - val_loss: 620.7892 - val_mae: 23.9992\n",
            "Epoch 14/100\n",
            "9/9 [==============================] - 0s 5ms/step - loss: 427.2305 - mae: 19.9934 - val_loss: 607.0894 - val_mae: 23.7561\n",
            "Epoch 15/100\n",
            "9/9 [==============================] - 0s 6ms/step - loss: 412.7603 - mae: 19.7182 - val_loss: 558.8757 - val_mae: 22.7670\n",
            "INFO:tensorflow:Assets written to: boston_housing_model_init/assets\n",
            "Epoch 16/100\n",
            "9/9 [==============================] - 0s 6ms/step - loss: 400.6376 - mae: 19.4287 - val_loss: 601.1397 - val_mae: 23.6612\n",
            "Epoch 17/100\n",
            "9/9 [==============================] - 0s 6ms/step - loss: 387.1029 - mae: 19.1193 - val_loss: 577.8790 - val_mae: 23.1730\n",
            "Epoch 18/100\n",
            "9/9 [==============================] - 0s 6ms/step - loss: 374.9866 - mae: 18.7925 - val_loss: 558.9398 - val_mae: 22.7820\n",
            "Epoch 19/100\n",
            "9/9 [==============================] - 0s 6ms/step - loss: 358.2532 - mae: 18.4448 - val_loss: 509.6286 - val_mae: 21.7373\n",
            "INFO:tensorflow:Assets written to: boston_housing_model_init/assets\n",
            "Epoch 20/100\n",
            "9/9 [==============================] - 0s 6ms/step - loss: 347.9154 - mae: 18.0777 - val_loss: 561.9136 - val_mae: 22.8848\n",
            "Epoch 21/100\n",
            "9/9 [==============================] - 0s 6ms/step - loss: 329.8398 - mae: 17.6908 - val_loss: 531.0235 - val_mae: 22.2490\n",
            "Epoch 22/100\n",
            "9/9 [==============================] - 0s 7ms/step - loss: 316.3010 - mae: 17.2801 - val_loss: 451.8279 - val_mae: 20.5101\n",
            "INFO:tensorflow:Assets written to: boston_housing_model_init/assets\n",
            "Epoch 23/100\n",
            "9/9 [==============================] - 0s 6ms/step - loss: 302.7450 - mae: 16.8600 - val_loss: 422.9319 - val_mae: 19.8278\n",
            "INFO:tensorflow:Assets written to: boston_housing_model_init/assets\n",
            "Epoch 24/100\n",
            "9/9 [==============================] - 0s 6ms/step - loss: 285.6509 - mae: 16.4235 - val_loss: 383.1793 - val_mae: 18.8589\n",
            "INFO:tensorflow:Assets written to: boston_housing_model_init/assets\n",
            "Epoch 25/100\n",
            "9/9 [==============================] - 0s 6ms/step - loss: 271.6339 - mae: 15.9747 - val_loss: 354.1664 - val_mae: 18.1137\n",
            "INFO:tensorflow:Assets written to: boston_housing_model_init/assets\n",
            "Epoch 26/100\n",
            "9/9 [==============================] - 0s 6ms/step - loss: 257.4434 - mae: 15.4948 - val_loss: 365.3412 - val_mae: 18.3600\n",
            "Epoch 27/100\n",
            "9/9 [==============================] - 0s 5ms/step - loss: 244.2747 - mae: 15.0219 - val_loss: 340.5284 - val_mae: 17.7007\n",
            "INFO:tensorflow:Assets written to: boston_housing_model_init/assets\n",
            "Epoch 28/100\n",
            "9/9 [==============================] - 0s 6ms/step - loss: 230.3992 - mae: 14.5152 - val_loss: 289.2003 - val_mae: 16.2369\n",
            "INFO:tensorflow:Assets written to: boston_housing_model_init/assets\n",
            "Epoch 29/100\n",
            "9/9 [==============================] - 0s 6ms/step - loss: 210.8539 - mae: 14.0294 - val_loss: 321.9884 - val_mae: 17.1153\n",
            "Epoch 30/100\n",
            "9/9 [==============================] - 0s 6ms/step - loss: 197.8673 - mae: 13.5085 - val_loss: 329.1458 - val_mae: 17.3129\n",
            "Epoch 31/100\n",
            "9/9 [==============================] - 0s 6ms/step - loss: 183.6598 - mae: 12.9912 - val_loss: 312.6954 - val_mae: 16.8577\n",
            "Epoch 32/100\n",
            "9/9 [==============================] - 0s 6ms/step - loss: 170.5409 - mae: 12.4767 - val_loss: 292.8705 - val_mae: 16.2583\n",
            "Epoch 33/100\n",
            "9/9 [==============================] - 0s 6ms/step - loss: 157.4999 - mae: 11.9864 - val_loss: 286.0213 - val_mae: 15.9937\n",
            "INFO:tensorflow:Assets written to: boston_housing_model_init/assets\n",
            "Epoch 34/100\n",
            "9/9 [==============================] - 0s 6ms/step - loss: 141.7583 - mae: 11.3780 - val_loss: 259.6978 - val_mae: 15.1495\n",
            "INFO:tensorflow:Assets written to: boston_housing_model_init/assets\n",
            "Epoch 35/100\n",
            "9/9 [==============================] - 0s 6ms/step - loss: 133.9342 - mae: 10.9012 - val_loss: 202.3915 - val_mae: 13.3083\n",
            "INFO:tensorflow:Assets written to: boston_housing_model_init/assets\n",
            "Epoch 36/100\n",
            "9/9 [==============================] - 0s 6ms/step - loss: 118.2088 - mae: 10.3299 - val_loss: 207.9997 - val_mae: 13.5381\n",
            "Epoch 37/100\n",
            "9/9 [==============================] - 0s 5ms/step - loss: 110.2241 - mae: 9.8026 - val_loss: 202.6780 - val_mae: 13.3166\n",
            "Epoch 38/100\n",
            "9/9 [==============================] - 0s 5ms/step - loss: 102.6109 - mae: 9.3596 - val_loss: 161.8437 - val_mae: 11.8857\n",
            "INFO:tensorflow:Assets written to: boston_housing_model_init/assets\n",
            "Epoch 39/100\n",
            "9/9 [==============================] - 0s 6ms/step - loss: 92.3273 - mae: 8.7919 - val_loss: 155.5554 - val_mae: 11.5160\n",
            "INFO:tensorflow:Assets written to: boston_housing_model_init/assets\n",
            "Epoch 40/100\n",
            "9/9 [==============================] - 0s 6ms/step - loss: 82.3750 - mae: 8.2683 - val_loss: 125.8088 - val_mae: 10.2400\n",
            "INFO:tensorflow:Assets written to: boston_housing_model_init/assets\n",
            "Epoch 41/100\n",
            "9/9 [==============================] - 0s 6ms/step - loss: 75.2065 - mae: 7.8641 - val_loss: 123.4959 - val_mae: 10.1408\n",
            "INFO:tensorflow:Assets written to: boston_housing_model_init/assets\n",
            "Epoch 42/100\n",
            "9/9 [==============================] - 0s 6ms/step - loss: 64.8813 - mae: 7.2853 - val_loss: 106.9667 - val_mae: 9.3404\n",
            "INFO:tensorflow:Assets written to: boston_housing_model_init/assets\n",
            "Epoch 43/100\n",
            "9/9 [==============================] - 0s 6ms/step - loss: 62.0108 - mae: 6.9441 - val_loss: 78.7530 - val_mae: 8.0367\n",
            "INFO:tensorflow:Assets written to: boston_housing_model_init/assets\n",
            "Epoch 44/100\n",
            "9/9 [==============================] - 0s 6ms/step - loss: 57.5736 - mae: 6.4210 - val_loss: 76.3613 - val_mae: 7.9665\n",
            "INFO:tensorflow:Assets written to: boston_housing_model_init/assets\n",
            "Epoch 45/100\n",
            "9/9 [==============================] - 0s 6ms/step - loss: 45.6368 - mae: 5.9910 - val_loss: 64.3599 - val_mae: 7.1723\n",
            "INFO:tensorflow:Assets written to: boston_housing_model_init/assets\n",
            "Epoch 46/100\n",
            "9/9 [==============================] - 0s 6ms/step - loss: 44.4193 - mae: 5.7478 - val_loss: 53.4848 - val_mae: 6.3306\n",
            "INFO:tensorflow:Assets written to: boston_housing_model_init/assets\n",
            "Epoch 47/100\n",
            "9/9 [==============================] - 0s 6ms/step - loss: 37.4380 - mae: 5.2107 - val_loss: 49.9427 - val_mae: 6.1680\n",
            "INFO:tensorflow:Assets written to: boston_housing_model_init/assets\n",
            "Epoch 48/100\n",
            "9/9 [==============================] - 0s 7ms/step - loss: 38.8931 - mae: 5.1070 - val_loss: 40.5623 - val_mae: 5.4517\n",
            "INFO:tensorflow:Assets written to: boston_housing_model_init/assets\n",
            "Epoch 49/100\n",
            "9/9 [==============================] - 0s 6ms/step - loss: 32.6013 - mae: 4.7023 - val_loss: 26.9074 - val_mae: 4.2565\n",
            "INFO:tensorflow:Assets written to: boston_housing_model_init/assets\n",
            "Epoch 50/100\n",
            "9/9 [==============================] - 0s 6ms/step - loss: 30.5995 - mae: 4.4859 - val_loss: 25.9666 - val_mae: 4.1476\n",
            "INFO:tensorflow:Assets written to: boston_housing_model_init/assets\n",
            "Epoch 51/100\n",
            "9/9 [==============================] - 0s 6ms/step - loss: 24.9814 - mae: 3.9876 - val_loss: 22.1126 - val_mae: 3.7944\n",
            "INFO:tensorflow:Assets written to: boston_housing_model_init/assets\n",
            "Epoch 52/100\n",
            "9/9 [==============================] - 0s 6ms/step - loss: 23.6489 - mae: 3.9190 - val_loss: 15.6785 - val_mae: 3.0535\n",
            "INFO:tensorflow:Assets written to: boston_housing_model_init/assets\n",
            "Epoch 53/100\n",
            "9/9 [==============================] - 0s 6ms/step - loss: 22.6055 - mae: 3.7148 - val_loss: 20.2094 - val_mae: 3.4446\n",
            "Epoch 54/100\n",
            "9/9 [==============================] - 0s 6ms/step - loss: 20.9220 - mae: 3.5370 - val_loss: 15.8021 - val_mae: 3.0411\n",
            "Epoch 55/100\n",
            "9/9 [==============================] - 0s 5ms/step - loss: 17.7439 - mae: 3.2279 - val_loss: 15.8248 - val_mae: 3.0536\n",
            "Epoch 56/100\n",
            "9/9 [==============================] - 0s 5ms/step - loss: 16.0256 - mae: 3.1750 - val_loss: 10.6537 - val_mae: 2.5397\n",
            "INFO:tensorflow:Assets written to: boston_housing_model_init/assets\n",
            "Epoch 57/100\n",
            "9/9 [==============================] - 0s 6ms/step - loss: 17.4824 - mae: 3.2310 - val_loss: 11.1461 - val_mae: 2.6093\n",
            "Epoch 58/100\n",
            "9/9 [==============================] - 0s 6ms/step - loss: 14.9184 - mae: 2.8584 - val_loss: 10.1874 - val_mae: 2.5141\n",
            "INFO:tensorflow:Assets written to: boston_housing_model_init/assets\n",
            "Epoch 59/100\n",
            "9/9 [==============================] - 0s 6ms/step - loss: 17.9976 - mae: 3.1013 - val_loss: 12.6331 - val_mae: 2.8464\n",
            "Epoch 60/100\n",
            "9/9 [==============================] - 0s 5ms/step - loss: 13.8000 - mae: 2.7886 - val_loss: 13.0780 - val_mae: 2.7136\n",
            "Epoch 61/100\n",
            "9/9 [==============================] - 0s 6ms/step - loss: 15.2472 - mae: 2.7501 - val_loss: 12.7626 - val_mae: 2.7692\n",
            "Epoch 62/100\n",
            "9/9 [==============================] - 0s 5ms/step - loss: 12.4326 - mae: 2.6473 - val_loss: 12.3572 - val_mae: 2.7709\n",
            "Epoch 63/100\n",
            "9/9 [==============================] - 0s 5ms/step - loss: 15.2499 - mae: 2.9858 - val_loss: 14.4473 - val_mae: 3.0506\n",
            "Epoch 64/100\n",
            "9/9 [==============================] - 0s 5ms/step - loss: 11.7341 - mae: 2.4832 - val_loss: 13.1165 - val_mae: 2.9222\n",
            "Epoch 65/100\n",
            "9/9 [==============================] - 0s 6ms/step - loss: 10.7830 - mae: 2.5060 - val_loss: 25.9354 - val_mae: 4.1375\n",
            "Epoch 66/100\n",
            "9/9 [==============================] - 0s 6ms/step - loss: 11.1884 - mae: 2.4410 - val_loss: 9.5858 - val_mae: 2.4361\n",
            "INFO:tensorflow:Assets written to: boston_housing_model_init/assets\n",
            "Epoch 67/100\n",
            "9/9 [==============================] - 0s 6ms/step - loss: 10.8529 - mae: 2.4471 - val_loss: 8.5721 - val_mae: 2.2962\n",
            "INFO:tensorflow:Assets written to: boston_housing_model_init/assets\n",
            "Epoch 68/100\n",
            "9/9 [==============================] - 0s 6ms/step - loss: 14.6463 - mae: 2.6954 - val_loss: 33.2499 - val_mae: 4.4122\n",
            "Epoch 69/100\n",
            "9/9 [==============================] - 0s 5ms/step - loss: 14.3331 - mae: 2.6110 - val_loss: 31.1169 - val_mae: 4.4133\n",
            "Epoch 70/100\n",
            "9/9 [==============================] - 0s 6ms/step - loss: 16.1044 - mae: 2.8769 - val_loss: 24.9065 - val_mae: 3.9586\n",
            "Epoch 71/100\n",
            "9/9 [==============================] - 0s 5ms/step - loss: 12.8515 - mae: 2.4648 - val_loss: 30.3306 - val_mae: 4.3795\n",
            "Epoch 72/100\n",
            "9/9 [==============================] - 0s 6ms/step - loss: 13.7851 - mae: 2.6246 - val_loss: 12.0547 - val_mae: 2.6851\n",
            "Epoch 73/100\n",
            "9/9 [==============================] - 0s 6ms/step - loss: 10.8489 - mae: 2.3773 - val_loss: 11.3043 - val_mae: 2.4956\n",
            "Epoch 74/100\n",
            "9/9 [==============================] - 0s 6ms/step - loss: 11.3794 - mae: 2.3929 - val_loss: 13.5740 - val_mae: 2.8592\n",
            "Epoch 75/100\n",
            "9/9 [==============================] - 0s 6ms/step - loss: 11.9760 - mae: 2.3909 - val_loss: 23.8045 - val_mae: 3.8635\n",
            "Epoch 76/100\n",
            "9/9 [==============================] - 0s 5ms/step - loss: 18.8330 - mae: 3.0133 - val_loss: 10.7278 - val_mae: 2.4054\n",
            "Epoch 77/100\n",
            "9/9 [==============================] - 0s 5ms/step - loss: 12.6661 - mae: 2.3559 - val_loss: 13.5525 - val_mae: 2.7843\n"
          ]
        }
      ],
      "source": [
        "# 문제 1-3: 예측을 위한 딥러닝 모델을 학습합니다.\n",
        "from tensorflow.keras import callbacks\n",
        "\n",
        "check_point_cb = callbacks.ModelCheckpoint('boston_housing_model_init',\n",
        "                                           save_best_only=True)\n",
        "\n",
        "early_stopping_cb = callbacks.EarlyStopping(patience=10,\n",
        "                                            monitor='val_loss',\n",
        "                                            restore_best_weights=True)\n",
        "\n",
        "history = model.fit(x_train, y_train,\n",
        "                    epochs=100,\n",
        "                    batch_size=32,\n",
        "                    validation_data=(x_val, y_val),\n",
        "                    callbacks=[check_point_cb, early_stopping_cb])"
      ]
    },
    {
      "cell_type": "code",
      "execution_count": null,
      "id": "803bcb93",
      "metadata": {
        "id": "803bcb93",
        "outputId": "44f0b3cd-4e83-414d-b739-f8b593799d06"
      },
      "outputs": [
        {
          "data": {
            "image/png": "[encoded data removed]",
            "text/plain": [
              "<Figure size 864x360 with 2 Axes>"
            ]
          },
          "metadata": {},
          "output_type": "display_data"
        }
      ],
      "source": [
        "# 모델 학습 히스토리에서 loss, val_loss, mae, val_mae를 차트로 보여줍니다.\n",
        "\n",
        "plt.style.use('seaborn-white')\n",
        "\n",
        "history_dict = history.history\n",
        "\n",
        "loss = history_dict['loss']\n",
        "val_loss = history_dict['val_loss']\n",
        "\n",
        "epochs = range(1, len(loss) + 1)\n",
        "fig = plt.figure(figsize=(12, 5))\n",
        "\n",
        "ax1 = fig.add_subplot(1, 2, 1)\n",
        "ax1.plot(epochs, loss, 'b-', label='train_loss')\n",
        "ax1.plot(epochs, val_loss, 'r-', label='val_loss')\n",
        "ax1.set_title('Train and Validation Loss')\n",
        "ax1.set_xlabel('Epochs')\n",
        "ax1.set_ylabel('Loss')\n",
        "ax1.grid()\n",
        "ax1.legend()\n",
        "\n",
        "mae = history_dict['mae']\n",
        "val_mae = history_dict['val_mae']\n",
        "\n",
        "ax2 = fig.add_subplot(1, 2, 2)\n",
        "ax2.plot(epochs, mae, 'b-', label='train_mae')\n",
        "ax2.plot(epochs, val_mae, 'r-', label='val_mae')\n",
        "ax2.set_title('Train and Validation MAE')\n",
        "ax2.set_xlabel('Epochs')\n",
        "ax2.set_ylabel('Accuracy')\n",
        "ax2.grid()\n",
        "ax2.legend()\n",
        "\n",
        "plt.show()"
      ]
    },
    {
      "cell_type": "markdown",
      "id": "65199c16",
      "metadata": {
        "id": "65199c16"
      },
      "source": [
        "**모델 평가 및 예측**"
      ]
    },
    {
      "cell_type": "code",
      "execution_count": null,
      "id": "d3cfb658",
      "metadata": {
        "id": "d3cfb658",
        "outputId": "536c3427-e8dd-41e3-f233-2a6fe6cfbe8a"
      },
      "outputs": [
        {
          "name": "stdout",
          "output_type": "stream",
          "text": [
            "4/4 [==============================] - 0s 2ms/step - loss: 1926.0728 - mae: 33.8181\n"
          ]
        },
        {
          "data": {
            "text/plain": [
              "[1926.07275390625, 33.81807327270508]"
            ]
          },
          "execution_count": 9,
          "metadata": {},
          "output_type": "execute_result"
        }
      ],
      "source": [
        "# 문제 1-4: 테스트 데이터셋을 이용해 모델을 평가합니다.\n",
        "\n",
        "model.evaluate(test_data, test_labels)"
      ]
    }
  ],
  "metadata": {
    "kernelspec": {
      "display_name": "Python 3 (ipykernel)",
      "language": "python",
      "name": "python3"
    },
    "language_info": {
      "codemirror_mode": {
        "name": "ipython",
        "version": 3
      },
      "file_extension": ".py",
      "mimetype": "text/x-python",
      "name": "python",
      "nbconvert_exporter": "python",
      "pygments_lexer": "ipython3",
      "version": "3.9.7"
    },
    "colab": {
      "provenance": [],
      "include_colab_link": true
    }
  },
  "nbformat": 4,
  "nbformat_minor": 5
}