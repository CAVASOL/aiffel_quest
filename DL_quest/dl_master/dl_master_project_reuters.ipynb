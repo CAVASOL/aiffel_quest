{
  "cells": [
    {
      "cell_type": "markdown",
      "metadata": {
        "id": "view-in-github",
        "colab_type": "text"
      },
      "source": [
        "<a href=\"https://colab.research.google.com/github/CAVASOL/aiffel_quest/blob/main/DL_quest/dl_master/dl_master_project_reuters.ipynb\" target=\"_parent\"><img src=\"https://colab.research.google.com/assets/colab-badge.svg\" alt=\"Open In Colab\"/></a>"
      ]
    },
    {
      "cell_type": "markdown",
      "id": "f1a0ad39",
      "metadata": {
        "id": "f1a0ad39"
      },
      "source": [
        "## DL Master node 10\n",
        "\n",
        "### 목차\n",
        "\n",
        "10. 딥러닝 프로젝트"
      ]
    },
    {
      "cell_type": "markdown",
      "id": "3552d5aa",
      "metadata": {
        "id": "3552d5aa"
      },
      "source": [
        "### 10. 딥러닝 프로젝트\n",
        "\n",
        "**학습 목표**\n",
        "\n",
        "* Boston Housing 데이터셋을 이용해 주택 가격을 예측하는 딥러닝 모델을 실습합나다.\n",
        "* Reuters 데이터넷을 이용해 텍스트로 구성된 뉴스 데이터의 주제를 분류하는 딥러닝 모델을 실습합니다.\n",
        "* CIFAR10 데이터셋을 이용해 여러 객체의 이미지를 분류하는 딥러닝 모델을 실습합니다."
      ]
    },
    {
      "cell_type": "markdown",
      "id": "2a728f02",
      "metadata": {
        "id": "2a728f02"
      },
      "source": [
        "**데이터 로드 및 전처리**\n",
        "\n",
        "* reuters 데이터셋을 로드하고, 훈련 데이터셋에서 25%를 검증 데이터셋으로 분리합니다. 데이터셋은 keras.datasets에서 불러올 수 있는 reuters 데이터 셋을 활용하고, 이때 파라메터 조정을 통해 단어의 개수는 10000개로 제한합니다(num_words=10000).\n",
        "* 데이터셋 분리 작업에서는 sklearn 라이브러리의 train_test_split 함수를 활용합니다.\n",
        "* 훈련, 검증, 테스트 데이터와 레이블 종류가 몇개인지 출력합니다."
      ]
    },
    {
      "cell_type": "code",
      "execution_count": null,
      "id": "c0c6b682",
      "metadata": {
        "id": "c0c6b682"
      },
      "outputs": [],
      "source": [
        "import numpy as np\n",
        "import matplotlib.pyplot as plt\n",
        "from sklearn.model_selection import train_test_split\n",
        "\n",
        "from tensorflow.keras import models, layers\n",
        "from tensorflow.keras import callbacks\n",
        "from tensorflow.keras import utils\n",
        "from keras.datasets import reuters"
      ]
    },
    {
      "cell_type": "code",
      "execution_count": null,
      "id": "dc63aff4",
      "metadata": {
        "id": "dc63aff4",
        "outputId": "6b6ab9bb-af24-4fc9-a247-cc65a6805a45"
      },
      "outputs": [
        {
          "name": "stdout",
          "output_type": "stream",
          "text": [
            "6736\n",
            "2246\n",
            "2246\n",
            "2246\n",
            "46\n"
          ]
        }
      ],
      "source": [
        "# 문제 2-1: reuters 데이터셋을 로드하고, 훈련 데이터셋에서 25%를 검증 데이터셋으로 분리합니다.\n",
        "from keras.datasets import reuters\n",
        "from sklearn.model_selection import train_test_split\n",
        "import numpy as np\n",
        "\n",
        "(train_data, train_labels), (test_data, test_labels) = reuters.load_data(num_words=10000)\n",
        "train_data, val_data, train_labels, val_label = train_test_split(train_data, train_labels,\n",
        "                                                  test_size=0.25,\n",
        "                                                  random_state=123)\n",
        "\n",
        "# 훈련, 검증, 테스트 데이터와 레이블 종류가 몇 개인지 출력합니다.\n",
        "print(len(train_data))\n",
        "print(len(val_data))\n",
        "print(len(val_label))\n",
        "print(len(test_data))\n",
        "print(len(set(train_labels)))"
      ]
    },
    {
      "cell_type": "markdown",
      "id": "507500f2",
      "metadata": {
        "id": "507500f2"
      },
      "source": [
        "텍스트 데이터의 전처리를 위해서 각 데이터셋마다 원-핫 인코딩을 수행합니다. 원-핫 인코딩 함수를 적용합니다. 레이블 데이터들은 범주형 형태로 to_categorical() 함수를 사용해 변환합니다."
      ]
    },
    {
      "cell_type": "code",
      "execution_count": null,
      "id": "af294b39",
      "metadata": {
        "id": "af294b39",
        "outputId": "51edc6f8-a7aa-43be-a707-efa6ff896fd0"
      },
      "outputs": [
        {
          "name": "stdout",
          "output_type": "stream",
          "text": [
            "(6736, 46)\n"
          ]
        }
      ],
      "source": [
        "# 문제 2-2: 텍스트 데이터의 전처리를 위해서 각 데이터셋마다 원-핫 인코딩을 수행합니다.\n",
        "from tensorflow.keras import utils\n",
        "\n",
        "def one_hot_encoding(data, dim=10000):\n",
        "  results = np.zeros((len(data), dim))\n",
        "  for i, d in enumerate(data):\n",
        "    results[i, d] = 1.\n",
        "  return results\n",
        "\n",
        "x_train = one_hot_encoding(train_data)\n",
        "x_val = one_hot_encoding(val_data)\n",
        "x_test = one_hot_encoding(test_data)\n",
        "\n",
        "# 레이블 데이터들은 범주형 형태로 to_categorical() 함수를 사용해 변환합니다.\n",
        "y_train = utils.to_categorical(train_labels)\n",
        "y_val = utils.to_categorical(val_label)\n",
        "y_test = utils.to_categorical(test_labels)\n",
        "\n",
        "print(y_train.shape)"
      ]
    },
    {
      "cell_type": "markdown",
      "id": "216338d4",
      "metadata": {
        "id": "216338d4"
      },
      "source": [
        "**모델 구성 및 컴파일**\n",
        "\n",
        "BatchNormalization과 Dropout을 적용하여 빠르게 학습하면서 과대적합을 방지하고, 46개의 뉴스 주제를 분류하는 딥러닝 모델을 구성합니다."
      ]
    },
    {
      "cell_type": "code",
      "execution_count": null,
      "id": "40d78ace",
      "metadata": {
        "id": "40d78ace",
        "outputId": "1e2c08c5-d1d4-40da-dc78-bade1a3c405c"
      },
      "outputs": [
        {
          "name": "stdout",
          "output_type": "stream",
          "text": [
            "INFO:tensorflow:Assets written to: reuters_model_init/assets\n",
            "Model: \"sequential\"\n",
            "_________________________________________________________________\n",
            "Layer (type)                 Output Shape              Param #   \n",
            "=================================================================\n",
            "input (Dense)                (None, 128)               1280128   \n",
            "_________________________________________________________________\n",
            "batch_normalization (BatchNo (None, 128)               512       \n",
            "_________________________________________________________________\n",
            "activation (Activation)      (None, 128)               0         \n",
            "_________________________________________________________________\n",
            "hidden (Dense)               (None, 128)               16512     \n",
            "_________________________________________________________________\n",
            "batch_normalization_1 (Batch (None, 128)               512       \n",
            "_________________________________________________________________\n",
            "activation_1 (Activation)    (None, 128)               0         \n",
            "_________________________________________________________________\n",
            "dropout (Dropout)            (None, 128)               0         \n",
            "_________________________________________________________________\n",
            "output (Dense)               (None, 46)                5934      \n",
            "=================================================================\n",
            "Total params: 1,303,598\n",
            "Trainable params: 1,303,086\n",
            "Non-trainable params: 512\n",
            "_________________________________________________________________\n"
          ]
        }
      ],
      "source": [
        "# # 문제 2-3: 빠른 학습과 과대적합을 방지하기 위해 BatchNormalization과 Dropout을 적용한 딥러닝 모델을 구성합니다.\n",
        "from tensorflow.keras import models, layers\n",
        "\n",
        "model = models.Sequential()\n",
        "model.add(layers.Dense(128, input_shape=(10000, ), name='input'))\n",
        "model.add(layers.BatchNormalization())\n",
        "model.add(layers.Activation('relu'))\n",
        "model.add(layers.Dense(128, name='hidden'))\n",
        "model.add(layers.BatchNormalization())\n",
        "model.add(layers.Activation('relu'))\n",
        "model.add(layers.Dropout(0.5))\n",
        "model.add(layers.Dense(46, activation='softmax', name='output'))\n",
        "\n",
        "model.compile(optimizer='adam',\n",
        "              loss='categorical_crossentropy',\n",
        "              metrics=['accuracy'])\n",
        "\n",
        "model.save('reuters_model_init')\n",
        "model.summary()"
      ]
    },
    {
      "cell_type": "markdown",
      "id": "eb60d411",
      "metadata": {
        "id": "eb60d411"
      },
      "source": [
        "**모델 학습**"
      ]
    },
    {
      "cell_type": "code",
      "execution_count": null,
      "id": "b046c3fa",
      "metadata": {
        "id": "b046c3fa",
        "outputId": "f5a0250a-87f3-4b31-8d42-f40f9d7e821f"
      },
      "outputs": [
        {
          "name": "stdout",
          "output_type": "stream",
          "text": [
            "Epoch 1/40\n",
            "14/14 [==============================] - 2s 46ms/step - loss: 2.8547 - accuracy: 0.3992 - val_loss: 3.4283 - val_accuracy: 0.6247\n",
            "INFO:tensorflow:Assets written to: reuters_model_init/assets\n",
            "Epoch 2/40\n",
            "14/14 [==============================] - 0s 18ms/step - loss: 1.3877 - accuracy: 0.7190 - val_loss: 3.0755 - val_accuracy: 0.7039\n",
            "INFO:tensorflow:Assets written to: reuters_model_init/assets\n",
            "Epoch 3/40\n",
            "14/14 [==============================] - 0s 15ms/step - loss: 0.9536 - accuracy: 0.7977 - val_loss: 2.8410 - val_accuracy: 0.7199\n",
            "INFO:tensorflow:Assets written to: reuters_model_init/assets\n",
            "Epoch 4/40\n",
            "14/14 [==============================] - 0s 15ms/step - loss: 0.7186 - accuracy: 0.8483 - val_loss: 2.6440 - val_accuracy: 0.7248\n",
            "INFO:tensorflow:Assets written to: reuters_model_init/assets\n",
            "Epoch 5/40\n",
            "14/14 [==============================] - 0s 15ms/step - loss: 0.5517 - accuracy: 0.8836 - val_loss: 2.4505 - val_accuracy: 0.7079\n",
            "INFO:tensorflow:Assets written to: reuters_model_init/assets\n",
            "Epoch 6/40\n",
            "14/14 [==============================] - 0s 15ms/step - loss: 0.4334 - accuracy: 0.9123 - val_loss: 2.2627 - val_accuracy: 0.6968\n",
            "INFO:tensorflow:Assets written to: reuters_model_init/assets\n",
            "Epoch 7/40\n",
            "14/14 [==============================] - 0s 14ms/step - loss: 0.3555 - accuracy: 0.9322 - val_loss: 2.0731 - val_accuracy: 0.6955\n",
            "INFO:tensorflow:Assets written to: reuters_model_init/assets\n",
            "Epoch 8/40\n",
            "14/14 [==============================] - 0s 15ms/step - loss: 0.2917 - accuracy: 0.9415 - val_loss: 1.8772 - val_accuracy: 0.6955\n",
            "INFO:tensorflow:Assets written to: reuters_model_init/assets\n",
            "Epoch 9/40\n",
            "14/14 [==============================] - 0s 15ms/step - loss: 0.2514 - accuracy: 0.9485 - val_loss: 1.7261 - val_accuracy: 0.6946\n",
            "INFO:tensorflow:Assets written to: reuters_model_init/assets\n",
            "Epoch 10/40\n",
            "14/14 [==============================] - 0s 15ms/step - loss: 0.2221 - accuracy: 0.9531 - val_loss: 1.6156 - val_accuracy: 0.6986\n",
            "INFO:tensorflow:Assets written to: reuters_model_init/assets\n",
            "Epoch 11/40\n",
            "14/14 [==============================] - 0s 14ms/step - loss: 0.1902 - accuracy: 0.9581 - val_loss: 1.4802 - val_accuracy: 0.7115\n",
            "INFO:tensorflow:Assets written to: reuters_model_init/assets\n",
            "Epoch 12/40\n",
            "14/14 [==============================] - 0s 14ms/step - loss: 0.1754 - accuracy: 0.9617 - val_loss: 1.3873 - val_accuracy: 0.7142\n",
            "INFO:tensorflow:Assets written to: reuters_model_init/assets\n",
            "Epoch 13/40\n",
            "14/14 [==============================] - 0s 14ms/step - loss: 0.1644 - accuracy: 0.9641 - val_loss: 1.2819 - val_accuracy: 0.7320\n",
            "INFO:tensorflow:Assets written to: reuters_model_init/assets\n",
            "Epoch 14/40\n",
            "14/14 [==============================] - 0s 14ms/step - loss: 0.1471 - accuracy: 0.9662 - val_loss: 1.2104 - val_accuracy: 0.7444\n",
            "INFO:tensorflow:Assets written to: reuters_model_init/assets\n",
            "Epoch 15/40\n",
            "14/14 [==============================] - 0s 16ms/step - loss: 0.1448 - accuracy: 0.9679 - val_loss: 1.1543 - val_accuracy: 0.7480\n",
            "INFO:tensorflow:Assets written to: reuters_model_init/assets\n",
            "Epoch 16/40\n",
            "14/14 [==============================] - 0s 14ms/step - loss: 0.1338 - accuracy: 0.9662 - val_loss: 1.1071 - val_accuracy: 0.7547\n",
            "INFO:tensorflow:Assets written to: reuters_model_init/assets\n",
            "Epoch 17/40\n",
            "14/14 [==============================] - 0s 15ms/step - loss: 0.1228 - accuracy: 0.9684 - val_loss: 1.0635 - val_accuracy: 0.7636\n",
            "INFO:tensorflow:Assets written to: reuters_model_init/assets\n",
            "Epoch 18/40\n",
            "14/14 [==============================] - 0s 14ms/step - loss: 0.1162 - accuracy: 0.9697 - val_loss: 1.0367 - val_accuracy: 0.7671\n",
            "INFO:tensorflow:Assets written to: reuters_model_init/assets\n",
            "Epoch 19/40\n",
            "14/14 [==============================] - 0s 15ms/step - loss: 0.1149 - accuracy: 0.9679 - val_loss: 1.0177 - val_accuracy: 0.7725\n",
            "INFO:tensorflow:Assets written to: reuters_model_init/assets\n",
            "Epoch 20/40\n",
            "14/14 [==============================] - 0s 14ms/step - loss: 0.1096 - accuracy: 0.9705 - val_loss: 1.0042 - val_accuracy: 0.7756\n",
            "INFO:tensorflow:Assets written to: reuters_model_init/assets\n",
            "Epoch 21/40\n",
            "14/14 [==============================] - 0s 15ms/step - loss: 0.1057 - accuracy: 0.9705 - val_loss: 1.0078 - val_accuracy: 0.7743\n",
            "Epoch 22/40\n",
            "14/14 [==============================] - 0s 14ms/step - loss: 0.0997 - accuracy: 0.9709 - val_loss: 1.0016 - val_accuracy: 0.7801\n",
            "INFO:tensorflow:Assets written to: reuters_model_init/assets\n",
            "Epoch 23/40\n",
            "14/14 [==============================] - 0s 15ms/step - loss: 0.1014 - accuracy: 0.9699 - val_loss: 1.0120 - val_accuracy: 0.7850\n",
            "Epoch 24/40\n",
            "14/14 [==============================] - 0s 14ms/step - loss: 0.1042 - accuracy: 0.9685 - val_loss: 1.0184 - val_accuracy: 0.7907\n",
            "Epoch 25/40\n",
            "14/14 [==============================] - 0s 15ms/step - loss: 0.0986 - accuracy: 0.9708 - val_loss: 1.0231 - val_accuracy: 0.7890\n"
          ]
        }
      ],
      "source": [
        "# 문제 1-3: 예측을 위한 딥러닝 모델을 학습합니다.\n",
        "from tensorflow.keras import callbacks\n",
        "\n",
        "check_point_cb = callbacks.ModelCheckpoint('reuters_model_init',\n",
        "                                           monitor=\"val_loss\",\n",
        "                                           save_best_only=True)\n",
        "\n",
        "early_stopping_cb = callbacks.EarlyStopping(patience=3,\n",
        "                                            monitor=\"val_loss\",\n",
        "                                            restore_best_weights=True)\n",
        "\n",
        "history = model.fit(x_train, y_train,\n",
        "                    epochs=40,\n",
        "                    batch_size=512,\n",
        "                    validation_data=(x_val, y_val),\n",
        "                    callbacks=[check_point_cb, early_stopping_cb])"
      ]
    },
    {
      "cell_type": "code",
      "execution_count": null,
      "id": "d28aafe1",
      "metadata": {
        "id": "d28aafe1",
        "outputId": "b7015c19-f92a-42c9-b9ec-6bf97f3d132e"
      },
      "outputs": [
        {
          "data": {
            "image/png": "[encoded data removed]",
            "text/plain": [
              "<Figure size 864x360 with 2 Axes>"
            ]
          },
          "metadata": {},
          "output_type": "display_data"
        }
      ],
      "source": [
        "# 학습 히스토리의 `loss`, `val_loss`, `accuracy`, `val_accuracy`를 차트로 시각화합니다.\n",
        "\n",
        "plt.style.use('seaborn-white')\n",
        "\n",
        "history_dict = history.history\n",
        "\n",
        "loss = history_dict['loss']\n",
        "val_loss = history_dict['val_loss']\n",
        "\n",
        "epochs = range(1, len(loss) + 1)\n",
        "fig = plt.figure(figsize=(12, 5))\n",
        "\n",
        "ax1 = fig.add_subplot(1, 2, 1)\n",
        "ax1.plot(epochs, loss, 'b-', label='train_loss')\n",
        "ax1.plot(epochs, val_loss, 'r-', label='val_loss')\n",
        "ax1.set_title('Train and Validation Loss')\n",
        "ax1.set_xlabel('Epochs')\n",
        "ax1.set_ylabel('Loss')\n",
        "ax1.grid()\n",
        "ax1.legend()\n",
        "\n",
        "accuracy = history_dict['accuracy']\n",
        "val_accuracy = history_dict['val_accuracy']\n",
        "\n",
        "ax2 = fig.add_subplot(1, 2, 2)\n",
        "ax2.plot(epochs, accuracy, 'b-', label='train_accuracy')\n",
        "ax2.plot(epochs, val_accuracy, 'r-', label='val_accuracy')\n",
        "ax2.set_title('Train and Validation Accuracy')\n",
        "ax2.set_xlabel('Epochs')\n",
        "ax2.set_ylabel('Accuracy')\n",
        "ax2.grid()\n",
        "ax2.legend()\n",
        "\n",
        "plt.show()"
      ]
    },
    {
      "cell_type": "markdown",
      "id": "11fd27af",
      "metadata": {
        "id": "11fd27af"
      },
      "source": [
        "**모델 평가 및 예측**"
      ]
    },
    {
      "cell_type": "code",
      "execution_count": null,
      "id": "602892e6",
      "metadata": {
        "id": "602892e6",
        "outputId": "bdb01c93-45e6-4165-efd6-5ee52c5c9e9a"
      },
      "outputs": [
        {
          "name": "stdout",
          "output_type": "stream",
          "text": [
            "71/71 [==============================] - 0s 3ms/step - loss: 0.9902 - accuracy: 0.7881\n"
          ]
        },
        {
          "data": {
            "text/plain": [
              "[0.9901757836341858, 0.7880676984786987]"
            ]
          },
          "execution_count": 9,
          "metadata": {},
          "output_type": "execute_result"
        }
      ],
      "source": [
        "# 문제 2-5: 테스트 데이터셋을 이용해 모델을 평가합니다.\n",
        "\n",
        "model.evaluate(x_test, y_test)"
      ]
    }
  ],
  "metadata": {
    "kernelspec": {
      "display_name": "Python 3 (ipykernel)",
      "language": "python",
      "name": "python3"
    },
    "language_info": {
      "codemirror_mode": {
        "name": "ipython",
        "version": 3
      },
      "file_extension": ".py",
      "mimetype": "text/x-python",
      "name": "python",
      "nbconvert_exporter": "python",
      "pygments_lexer": "ipython3",
      "version": "3.9.7"
    },
    "colab": {
      "provenance": [],
      "include_colab_link": true
    }
  },
  "nbformat": 4,
  "nbformat_minor": 5
}