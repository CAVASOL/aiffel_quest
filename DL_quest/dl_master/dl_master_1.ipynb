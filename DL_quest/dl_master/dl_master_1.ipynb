{
  "cells": [
    {
      "cell_type": "markdown",
      "metadata": {
        "id": "view-in-github",
        "colab_type": "text"
      },
      "source": [
        "<a href=\"https://colab.research.google.com/github/CAVASOL/aiffel_quest/blob/main/DL_quest/dl_master/dl_master_1.ipynb\" target=\"_parent\"><img src=\"https://colab.research.google.com/assets/colab-badge.svg\" alt=\"Open In Colab\"/></a>"
      ]
    },
    {
      "cell_type": "markdown",
      "id": "fd50e65c",
      "metadata": {
        "id": "fd50e65c"
      },
      "source": [
        "## DL Master node 1-4\n",
        "\n",
        "### 목차\n",
        "\n",
        "1. 딥러닝이란\n",
        "\n",
        "2. 텐서 표현과 연산\n",
        "\n",
        "3. 딥러닝 구조와 모델\n",
        "\n",
        "4. 딥러닝 모델 학습"
      ]
    },
    {
      "cell_type": "markdown",
      "id": "e881a636",
      "metadata": {
        "id": "e881a636"
      },
      "source": [
        "### 1. 딥러닝이란\n",
        "\n",
        "**학습 내용**\n",
        "\n",
        "* 인공신경망은 사람의 신경 세포와 어떻게 다른지 살펴보고, 이를 통해 인공신경망의 동작 원리를 알아봅니다.  \n",
        "* 인공신경망은 어떻게 발전해왔으며 현재 어느 수준에 이르렀는지 살펴봅니다.  \n",
        "* 인공신경망의 발전을 통해 새롭게 탄생한 딥러닝이란 무엇이며 어떤 문제가 산적해있는지 알아봅니다.  \n",
        "    \n",
        "\n",
        "**학습 목표**\n",
        "* 인공신경망의 개념과 구조를 설명할 수 있습니다.\n",
        "* 최초의 인공신경망과 역사를 설명할 수 있습니다.\n",
        "* 인공신경망의 문제점과 딥러닝 역사와 발전을 설명할 수 있습니다."
      ]
    },
    {
      "cell_type": "markdown",
      "id": "327a4b49",
      "metadata": {
        "id": "327a4b49"
      },
      "source": [
        "**Q. 논리 회로 게이트 중에서도 단일 퍼셉트론으로는 해결할 수 없는 것들이 있을까요?**\n",
        "\n",
        "```\n",
        "XOR 게이트의 반전 형태인 XNOR 게이트가 있습니다. XNOR 게이트는 입력 받은 데이터가 같으면 1, 다르면 0을 출력합니다.\n",
        "```\n",
        "\n",
        "**Q. 다층 퍼셉트론을 학습시키는것이 어려운 이유는 무엇일까요?**\n",
        "\n",
        "```\n",
        "많은 은닉층의 수와 미분이 불가능한 계단함수의 존재가 학습의 난이도를 높입니다.\n",
        "```\n",
        "\n",
        "**Q. 일반 신경망과 딥러닝 신경망의 차이 중 하나는 특징 추출과정의 포함 여부입니다. 특징 추출을 포함했을 때 어떤 장점이 있나요?**\n",
        "\n",
        "```\n",
        "사람의 개입이 들어가지 않아 사람의 편견으로 인한 오류가 적고 추론시간이 짧아지며 성능이 높아지는 장점이 있습니다.\n",
        "```\n",
        "\n",
        "**Q. 딥러닝 신경망은 일반 신경망과 비교했을 때 어떤 문제점들을 갖고 있나요?**\n",
        "\n",
        "```\n",
        "더 많은 학습 데이터를 필요로하며 훈련을 위해 많은 시간과 비용이 쓰이고, 기울기 소멸 문제, 과적합 등의 문제가 있습니다.\n",
        "```"
      ]
    },
    {
      "cell_type": "markdown",
      "id": "8618b26b",
      "metadata": {
        "id": "8618b26b"
      },
      "source": [
        "### 2. 텐서 표현과 연산\n",
        "\n",
        "**학습 내용**\n",
        "\n",
        "1. 텐서(Tensor)란 무엇인지, 어떤 구조로 되어있는지 등 텐서의 개념에 대해 그림을 통해 살펴봅니다.\n",
        "2. 텐서에 담을 수 있는 데이터의 타입에 대해 알아보고 텐서의 형태를 어떻게 바꾸는지 알아봅니다.\n",
        "3. 텐서 연산은 어떤 종류가 있고 어떻게 계산 할 수 있는지 살펴봅니다.\n",
        "\n",
        "**학습 목표**\n",
        "\n",
        "1. 텐서 개념을 설명할 수 있습니다.\n",
        "2. 텐서 데이터 타입을 설명할 수 있습니다.\n",
        "3. 텐서 연산을 수행할 수 있습니다."
      ]
    },
    {
      "cell_type": "markdown",
      "id": "340d1b38",
      "metadata": {
        "id": "340d1b38"
      },
      "source": [
        "**Tensor**\n",
        "\n",
        "* `Rank`  축(차원)의 개수\n",
        "* `Shape`  형상(각 축의 요소의 개수)\n",
        "* `Type`  데이터 타입"
      ]
    },
    {
      "cell_type": "code",
      "execution_count": null,
      "id": "e713e381",
      "metadata": {
        "id": "e713e381"
      },
      "outputs": [],
      "source": [
        "# 텐서를 생성하기 위해 텐서플로우(TensorFlow) 임포트\n",
        "\n",
        "import tensorflow as tf"
      ]
    },
    {
      "cell_type": "code",
      "execution_count": null,
      "id": "7cd0d659",
      "metadata": {
        "id": "7cd0d659",
        "outputId": "5650288e-34b3-4f07-c81c-de33139ac20a"
      },
      "outputs": [
        {
          "name": "stdout",
          "output_type": "stream",
          "text": [
            "tf.Tensor(1, shape=(), dtype=int32)\n",
            "tf.Tensor(0, shape=(), dtype=int32)\n"
          ]
        }
      ],
      "source": [
        "# 0D Tensor(Scalar)\n",
        "\n",
        "t0 = tf.constant(1)\n",
        "print(t0)\n",
        "print(tf.rank(t0)) # 축의 개수를 반환합니다."
      ]
    },
    {
      "cell_type": "code",
      "execution_count": null,
      "id": "90f4c3b5",
      "metadata": {
        "id": "90f4c3b5",
        "outputId": "5caa1d87-ec4a-4eff-881d-b7ba59b79e76"
      },
      "outputs": [
        {
          "name": "stdout",
          "output_type": "stream",
          "text": [
            "tf.Tensor([1 2 3], shape=(3,), dtype=int32)\n",
            "tf.Tensor(1, shape=(), dtype=int32)\n"
          ]
        }
      ],
      "source": [
        "# 1D Tensor(Vector)\n",
        "\n",
        "t1 = tf.constant([1, 2, 3])\n",
        "print(t1)\n",
        "print(tf.rank(t1))"
      ]
    },
    {
      "cell_type": "code",
      "execution_count": null,
      "id": "91217059",
      "metadata": {
        "id": "91217059",
        "outputId": "9d61def6-898b-468f-f089-0a535e80bb4e"
      },
      "outputs": [
        {
          "name": "stdout",
          "output_type": "stream",
          "text": [
            "tf.Tensor(\n",
            "[[1 2 3]\n",
            " [4 5 6]\n",
            " [7 8 9]], shape=(3, 3), dtype=int32)\n",
            "tf.Tensor(2, shape=(), dtype=int32)\n"
          ]
        }
      ],
      "source": [
        "# 2D Tensor(Matrix)\n",
        "\n",
        "t2 = tf.constant([[1, 2, 3], [4, 5, 6], [7, 8, 9]])\n",
        "print(t2)\n",
        "print(tf.rank(t2))"
      ]
    },
    {
      "cell_type": "markdown",
      "id": "3059638a",
      "metadata": {
        "id": "3059638a"
      },
      "source": [
        "`3차원 텐서`는 큐브(cube)와 같은 모양으로 세개의 축이 존재하며, 일반적으로 데이터가 연속된 시퀀스 데이터나 시간 축이 포함된 시계열 데이터에 해당합니다. 주로 샘플(samples), 타임스텝(timesteps), 특성(features)을 가진 구조로 사용됩니다. 3차원 텐서를 이용하는 데이터로는 주식 가격 데이터셋, 시간에 따른 질병 발병 데이터 등이 존재합니다."
      ]
    },
    {
      "cell_type": "code",
      "execution_count": null,
      "id": "09ac52cc",
      "metadata": {
        "id": "09ac52cc",
        "outputId": "add07c1f-d316-4536-c51d-f8ce062366aa"
      },
      "outputs": [
        {
          "name": "stdout",
          "output_type": "stream",
          "text": [
            "tf.Tensor(\n",
            "[[[ 1  2  3]\n",
            "  [ 4  5  6]\n",
            "  [ 7  8  9]]\n",
            "\n",
            " [[10 11 12]\n",
            "  [13 14 15]\n",
            "  [16 17 18]]\n",
            "\n",
            " [[19 20 21]\n",
            "  [22 23 24]\n",
            "  [25 26 27]]], shape=(3, 3, 3), dtype=int32)\n",
            "tf.Tensor(3, shape=(), dtype=int32)\n"
          ]
        }
      ],
      "source": [
        "# 3D Tensor\n",
        "\n",
        "t3 = tf.constant([[[1, 2, 3], [4, 5, 6], [7, 8, 9]], [[10, 11, 12], [13, 14, 15], [16, 17, 18]], [[19, 20, 21], [22, 23, 24], [25, 26, 27]]])\n",
        "print(t3)\n",
        "print(tf.rank(t3))"
      ]
    },
    {
      "cell_type": "markdown",
      "id": "b5f41d38",
      "metadata": {
        "id": "b5f41d38"
      },
      "source": [
        "`4차원 텐서`는 4개의 축이 존재하며, 컬러 이미지 데이터가 대표적인 사례 (흑백 이미지 데이터는 3D Tensor로 가능)입니다. 주로 샘플(samples), 높이(height), 너비(width), 컬러 채널(channel)을 가진 구조로 사용됩니다."
      ]
    },
    {
      "cell_type": "markdown",
      "id": "d7077440",
      "metadata": {
        "id": "d7077440"
      },
      "source": [
        "`5차원 텐서`는 5개의 축이 존재하며, 비디오 데이터가 대표적인 사례입니다. 주로 샘플(samples), 프레임(frames), 높이(height), 너비(width), 컬러 채널(channel)을 가진 구조로 사용됩니다."
      ]
    },
    {
      "cell_type": "code",
      "execution_count": null,
      "id": "1e17e126",
      "metadata": {
        "id": "1e17e126",
        "outputId": "f246b14d-7066-4ad8-8eff-21bc601d6c1c"
      },
      "outputs": [
        {
          "name": "stdout",
          "output_type": "stream",
          "text": [
            "tf.Tensor(\n",
            "[[[[ 1  2  3]\n",
            "   [ 4  5  6]\n",
            "   [ 7  8  9]]\n",
            "\n",
            "  [[10 11 12]\n",
            "   [13 14 15]\n",
            "   [16 17 18]]\n",
            "\n",
            "  [[19 20 21]\n",
            "   [22 23 24]\n",
            "   [25 26 27]]]\n",
            "\n",
            "\n",
            " [[[ 1  2  3]\n",
            "   [ 4  5  6]\n",
            "   [ 7  8  9]]\n",
            "\n",
            "  [[10 11 12]\n",
            "   [13 14 15]\n",
            "   [16 17 18]]\n",
            "\n",
            "  [[19 20 21]\n",
            "   [22 23 24]\n",
            "   [25 26 27]]]\n",
            "\n",
            "\n",
            " [[[ 1  2  3]\n",
            "   [ 4  5  6]\n",
            "   [ 7  8  9]]\n",
            "\n",
            "  [[10 11 12]\n",
            "   [13 14 15]\n",
            "   [16 17 18]]\n",
            "\n",
            "  [[19 20 21]\n",
            "   [22 23 24]\n",
            "   [25 26 27]]]], shape=(3, 3, 3, 3), dtype=int32)\n",
            "tf.Tensor(4, shape=(), dtype=int32)\n"
          ]
        }
      ],
      "source": [
        "# 4D Tensor\n",
        "\n",
        "t3 = tf.constant([[[[1, 2, 3], [4, 5, 6], [7, 8, 9]], [[10, 11, 12], [13, 14, 15], [16, 17, 18]], [[19, 20, 21], [22, 23, 24], [25, 26, 27]]],\n",
        "                  [[[1, 2, 3], [4, 5, 6], [7, 8, 9]], [[10, 11, 12], [13, 14, 15], [16, 17, 18]], [[19, 20, 21], [22, 23, 24], [25, 26, 27]]],\n",
        "                  [[[1, 2, 3], [4, 5, 6], [7, 8, 9]], [[10, 11, 12], [13, 14, 15], [16, 17, 18]], [[19, 20, 21], [22, 23, 24], [25, 26, 27]]]])\n",
        "print(t3)\n",
        "print(tf.rank(t3))"
      ]
    },
    {
      "cell_type": "markdown",
      "id": "9618b99a",
      "metadata": {
        "id": "9618b99a"
      },
      "source": [
        "**Tensor's type & Reshaping**\n",
        "\n",
        "`tf.shape 텐서의 구조`  \n",
        "tf.size 텐서의 크기  \n",
        "`tf.rank 텐서의 랭크`  \n",
        "tf.reshape 텐서의 원소는 그대로 유지하되 텐서의 구조 변형  \n",
        "`tf.squeese 텐서에서 크기가 1인 차원 삭제`  \n",
        "tf.expand_dims 텐서의 차원 추가  \n",
        "`tf.slice 텐서의 일부분 삭제/분리`  \n",
        "tf.split 텐서를 한 차원을 기준으로 여러 개의 텐서로 나누기  \n",
        "`tf.tile 한 텐서를 여러 번 중복해서 새로운 텐서로`  \n",
        "tf.concat 한 차원을 기준으로 텐서 이어 붙이기  \n",
        "`tf.reverse 한 차원을 기준으로 텐서 역전`  \n",
        "tf.transpose 텐서 전치  \n",
        "`tf.gather 주어진 인덱스에 따라 텐서의 원소 모으기`  "
      ]
    },
    {
      "cell_type": "code",
      "execution_count": null,
      "id": "11556202",
      "metadata": {
        "id": "11556202",
        "outputId": "bcfe1dc8-000f-4313-a0bf-eeebe0fbfe43"
      },
      "outputs": [
        {
          "name": "stdout",
          "output_type": "stream",
          "text": [
            "tf.Tensor(2, shape=(), dtype=int32)\n"
          ]
        }
      ],
      "source": [
        "# 상수 값 2로 지정하면, 정수형(int32) 타입 텐서 생성\n",
        "\n",
        "i = tf.constant(2)\n",
        "print(i)"
      ]
    },
    {
      "cell_type": "code",
      "execution_count": null,
      "id": "0976c2e0",
      "metadata": {
        "id": "0976c2e0",
        "outputId": "4cfa4e79-34d8-4f46-b02e-9885f012508b"
      },
      "outputs": [
        {
          "name": "stdout",
          "output_type": "stream",
          "text": [
            "tf.Tensor(2.0, shape=(), dtype=float32)\n"
          ]
        }
      ],
      "source": [
        "# 상수 값 2.0으로 지정하면, 실수형(float32) 타입 텐서 생성\n",
        "\n",
        "f = tf.constant(2.)\n",
        "print(f)"
      ]
    },
    {
      "cell_type": "code",
      "execution_count": null,
      "id": "199eadc6",
      "metadata": {
        "id": "199eadc6",
        "outputId": "91d9deb3-4768-47c2-ed12-0c86432a80d9"
      },
      "outputs": [
        {
          "name": "stdout",
          "output_type": "stream",
          "text": [
            "tf.Tensor(b'Suan', shape=(), dtype=string)\n"
          ]
        }
      ],
      "source": [
        "# 문자열 타입(string) 텐서 생성\n",
        "\n",
        "s = tf.constant('Suan')\n",
        "print(s)"
      ]
    },
    {
      "cell_type": "code",
      "execution_count": null,
      "id": "26b4e6a8",
      "metadata": {
        "id": "26b4e6a8",
        "outputId": "d93cb420-d611-46cb-a0b1-eab1e8158e25"
      },
      "outputs": [
        {
          "name": "stdout",
          "output_type": "stream",
          "text": [
            "tf.Tensor(2.0, shape=(), dtype=float16)\n"
          ]
        }
      ],
      "source": [
        "# tf.float16으로 16비트 실수형으로 타입 지정\n",
        "\n",
        "f16 = tf.constant(2., dtype=tf.float16)\n",
        "print(f16)"
      ]
    },
    {
      "cell_type": "code",
      "execution_count": null,
      "id": "967325e3",
      "metadata": {
        "id": "967325e3",
        "outputId": "e442572b-18f3-48dd-d3bd-030988bc3897"
      },
      "outputs": [
        {
          "name": "stdout",
          "output_type": "stream",
          "text": [
            "tf.Tensor(2, shape=(), dtype=int8)\n"
          ]
        }
      ],
      "source": [
        "# tf.int8으로 8비트 정수형으로 타입 지정\n",
        "\n",
        "f8 = tf.constant(2, dtype=tf.int8)\n",
        "print(f8)"
      ]
    },
    {
      "cell_type": "code",
      "execution_count": null,
      "id": "9752b1d3",
      "metadata": {
        "id": "9752b1d3",
        "outputId": "30256d66-a276-4f2c-e885-5b62ed2e7dc9"
      },
      "outputs": [
        {
          "name": "stdout",
          "output_type": "stream",
          "text": [
            "tf.Tensor(2.0, shape=(), dtype=float32)\n"
          ]
        }
      ],
      "source": [
        "# 텐서의 타입 변환\n",
        "\n",
        "f32 = tf.cast(f16, tf.float32)\n",
        "print(f32)"
      ]
    },
    {
      "cell_type": "code",
      "execution_count": null,
      "id": "85011d9e",
      "metadata": {
        "id": "85011d9e",
        "outputId": "c513cc08-e342-45e4-f5e9-e0c0c9a1970b"
      },
      "outputs": [
        {
          "name": "stdout",
          "output_type": "stream",
          "text": [
            "tf.Tensor(2, shape=(), dtype=int32)\n"
          ]
        }
      ],
      "source": [
        "int32 = tf.cast(f8, tf.int32)\n",
        "print(int32)"
      ]
    },
    {
      "cell_type": "code",
      "execution_count": null,
      "id": "a133c536",
      "metadata": {
        "id": "a133c536",
        "outputId": "02ab166f-7866-48e1-e64c-8feb2424129d"
      },
      "outputs": [
        {
          "name": "stdout",
          "output_type": "stream",
          "text": [
            "tf.Tensor(\n",
            "[[1]\n",
            " [2]\n",
            " [3]], shape=(3, 1), dtype=int32)\n",
            "(3, 1)\n",
            "tf.Tensor([[1 2 3]], shape=(1, 3), dtype=int32)\n",
            "(1, 3)\n"
          ]
        }
      ],
      "source": [
        "# 텐서의 형상 변환\n",
        "\n",
        "x = tf.constant([[1], [2], [3]])\n",
        "print(x)\n",
        "print(x.shape)\n",
        "\n",
        "y = tf.reshape(x, [1, 3])\n",
        "print(y)\n",
        "print(y.shape)"
      ]
    },
    {
      "cell_type": "code",
      "execution_count": null,
      "id": "33f24155",
      "metadata": {
        "id": "33f24155",
        "outputId": "7d6ca979-4234-46a8-f780-ad482c7a1563"
      },
      "outputs": [
        {
          "name": "stdout",
          "output_type": "stream",
          "text": [
            "tf.Tensor([[1 2 3]], shape=(1, 3), dtype=int32)\n",
            "tf.Tensor(\n",
            "[[1]\n",
            " [2]\n",
            " [3]], shape=(3, 1), dtype=int32)\n",
            "(1, 3)\n"
          ]
        }
      ],
      "source": [
        "# 텐서를 전치하여 형상 변경\n",
        "\n",
        "print(y)\n",
        "print(tf.transpose(y))\n",
        "print(y.shape)"
      ]
    },
    {
      "cell_type": "code",
      "execution_count": null,
      "id": "1d114cc8",
      "metadata": {
        "id": "1d114cc8",
        "outputId": "c49c2c92-f879-4061-e24d-a92fec29f2e4"
      },
      "outputs": [
        {
          "name": "stdout",
          "output_type": "stream",
          "text": [
            "tf.Tensor(\n",
            "[[1]\n",
            " [2]\n",
            " [3]], shape=(3, 1), dtype=int32)\n",
            "tf.Tensor([1 2 3], shape=(3,), dtype=int32)\n"
          ]
        }
      ],
      "source": [
        "# 텐서에서 크기가 1인 차원을 제거하는 tf.squeeze 함수를 이용해 형상 변경\n",
        "\n",
        "print(x)\n",
        "print(tf.squeeze(x))"
      ]
    },
    {
      "cell_type": "code",
      "execution_count": null,
      "id": "27e71b3f",
      "metadata": {
        "id": "27e71b3f",
        "outputId": "0c1c1853-7499-4540-f9bc-384aae2874e0"
      },
      "outputs": [
        {
          "name": "stdout",
          "output_type": "stream",
          "text": [
            "tf.Tensor([[1 2 3]], shape=(1, 3), dtype=int32)\n",
            "tf.Tensor([[[1 2 3]]], shape=(1, 1, 3), dtype=int32)\n",
            "tf.Tensor([[[1 2 3]]], shape=(1, 1, 3), dtype=int32)\n",
            "tf.Tensor(\n",
            "[[[1]\n",
            "  [2]\n",
            "  [3]]], shape=(1, 3, 1), dtype=int32)\n"
          ]
        }
      ],
      "source": [
        "# 텐서의 차원을 추가\n",
        "\n",
        "print(y)\n",
        "print(tf.expand_dims(y, axis=0))\n",
        "print(tf.expand_dims(y, axis=1))\n",
        "print(tf.expand_dims(y, axis=2))"
      ]
    },
    {
      "cell_type": "code",
      "execution_count": null,
      "id": "37cfe661",
      "metadata": {
        "id": "37cfe661",
        "outputId": "a4545da7-9399-4644-80ae-59e244ccceff"
      },
      "outputs": [
        {
          "name": "stdout",
          "output_type": "stream",
          "text": [
            "tf.Tensor(\n",
            "[[1]\n",
            " [2]\n",
            " [3]], shape=(3, 1), dtype=int32)\n",
            "[<tf.Tensor: shape=(1, 1), dtype=int32, numpy=array([[1]], dtype=int32)>, <tf.Tensor: shape=(1, 1), dtype=int32, numpy=array([[2]], dtype=int32)>, <tf.Tensor: shape=(1, 1), dtype=int32, numpy=array([[3]], dtype=int32)>]\n"
          ]
        }
      ],
      "source": [
        "# 텐서의 지정한 차원을 기준으로 여러 개의 텐서로 구분\n",
        "\n",
        "print(x)\n",
        "print(tf.split(x, 3))"
      ]
    },
    {
      "cell_type": "code",
      "execution_count": null,
      "id": "c5c517b6",
      "metadata": {
        "id": "c5c517b6",
        "outputId": "1736e63f-9c67-4416-e03f-f1299d0d7e64"
      },
      "outputs": [
        {
          "name": "stdout",
          "output_type": "stream",
          "text": [
            "tf.Tensor(\n",
            "[[1]\n",
            " [2]\n",
            " [3]], shape=(3, 1), dtype=int32)\n",
            "tf.Tensor(\n",
            "[[1]\n",
            " [2]\n",
            " [3]\n",
            " [1]\n",
            " [2]\n",
            " [3]], shape=(6, 1), dtype=int32)\n",
            "tf.Tensor(\n",
            "[[1 1]\n",
            " [2 2]\n",
            " [3 3]], shape=(3, 2), dtype=int32)\n"
          ]
        }
      ],
      "source": [
        "# 지정한 축 axis를 기준으로 텐서들을 연결\n",
        "\n",
        "print(x)\n",
        "print(tf.concat([x, x], axis=0))\n",
        "print(tf.concat([x, x], axis=1))"
      ]
    },
    {
      "cell_type": "markdown",
      "id": "cd2bf3de",
      "metadata": {
        "id": "cd2bf3de"
      },
      "source": [
        "**Playground**"
      ]
    },
    {
      "cell_type": "code",
      "execution_count": null,
      "id": "e313d834",
      "metadata": {
        "id": "e313d834",
        "outputId": "7f4190d0-87a5-439d-e1f8-45b7d40b2d7e"
      },
      "outputs": [
        {
          "name": "stdout",
          "output_type": "stream",
          "text": [
            "tf.Tensor(\n",
            "[[1 2]\n",
            " [2 3]\n",
            " [3 4]], shape=(3, 2), dtype=int32)\n",
            "(3, 2)\n"
          ]
        }
      ],
      "source": [
        "a = tf.constant([[1, 2], [2, 3], [3, 4]])\n",
        "print(a)\n",
        "print(a.shape)"
      ]
    },
    {
      "cell_type": "code",
      "execution_count": null,
      "id": "e5c42816",
      "metadata": {
        "id": "e5c42816",
        "outputId": "6f6e851f-9efc-49f4-ee92-e414026c5f75"
      },
      "outputs": [
        {
          "name": "stdout",
          "output_type": "stream",
          "text": [
            "tf.Tensor(\n",
            "[[1 2]\n",
            " [2 3]\n",
            " [3 4]], shape=(3, 2), dtype=int32)\n"
          ]
        }
      ],
      "source": [
        "print(tf.squeeze(a))"
      ]
    },
    {
      "cell_type": "code",
      "execution_count": null,
      "id": "01d35430",
      "metadata": {
        "id": "01d35430",
        "outputId": "4d4f2ead-490b-4dec-b4e6-6a92dbcb11b0"
      },
      "outputs": [
        {
          "name": "stdout",
          "output_type": "stream",
          "text": [
            "tf.Tensor(\n",
            "[[1 2 1 2 1 2 1 2 1 2]\n",
            " [2 3 2 3 2 3 2 3 2 3]\n",
            " [3 4 3 4 3 4 3 4 3 4]\n",
            " [1 2 1 2 1 2 1 2 1 2]\n",
            " [2 3 2 3 2 3 2 3 2 3]\n",
            " [3 4 3 4 3 4 3 4 3 4]\n",
            " [1 2 1 2 1 2 1 2 1 2]\n",
            " [2 3 2 3 2 3 2 3 2 3]\n",
            " [3 4 3 4 3 4 3 4 3 4]], shape=(9, 10), dtype=int32)\n"
          ]
        }
      ],
      "source": [
        "b = tf.constant([3, 5], tf.int32)\n",
        "\n",
        "c = tf.tile(a, b)\n",
        "print(c)"
      ]
    },
    {
      "cell_type": "code",
      "execution_count": null,
      "id": "d475a8c0",
      "metadata": {
        "id": "d475a8c0",
        "outputId": "4c8bb0bc-611a-4c85-d493-ab211ccfcb38"
      },
      "outputs": [
        {
          "name": "stdout",
          "output_type": "stream",
          "text": [
            "[<tf.Tensor: shape=(3, 10), dtype=int32, numpy=\n",
            "array([[1, 2, 1, 2, 1, 2, 1, 2, 1, 2],\n",
            "       [2, 3, 2, 3, 2, 3, 2, 3, 2, 3],\n",
            "       [3, 4, 3, 4, 3, 4, 3, 4, 3, 4]], dtype=int32)>, <tf.Tensor: shape=(3, 10), dtype=int32, numpy=\n",
            "array([[1, 2, 1, 2, 1, 2, 1, 2, 1, 2],\n",
            "       [2, 3, 2, 3, 2, 3, 2, 3, 2, 3],\n",
            "       [3, 4, 3, 4, 3, 4, 3, 4, 3, 4]], dtype=int32)>, <tf.Tensor: shape=(3, 10), dtype=int32, numpy=\n",
            "array([[1, 2, 1, 2, 1, 2, 1, 2, 1, 2],\n",
            "       [2, 3, 2, 3, 2, 3, 2, 3, 2, 3],\n",
            "       [3, 4, 3, 4, 3, 4, 3, 4, 3, 4]], dtype=int32)>]\n"
          ]
        }
      ],
      "source": [
        "print(tf.split(c, 3))"
      ]
    },
    {
      "cell_type": "code",
      "execution_count": null,
      "id": "68bc3352",
      "metadata": {
        "id": "68bc3352",
        "outputId": "0ab7b880-5527-49ca-8154-4d8dfbcddd6f"
      },
      "outputs": [
        {
          "name": "stdout",
          "output_type": "stream",
          "text": [
            "tf.Tensor(\n",
            "[[2 1 2 1 2 1 2 1 2 1]\n",
            " [3 2 3 2 3 2 3 2 3 2]\n",
            " [4 3 4 3 4 3 4 3 4 3]\n",
            " [2 1 2 1 2 1 2 1 2 1]\n",
            " [3 2 3 2 3 2 3 2 3 2]\n",
            " [4 3 4 3 4 3 4 3 4 3]\n",
            " [2 1 2 1 2 1 2 1 2 1]\n",
            " [3 2 3 2 3 2 3 2 3 2]\n",
            " [4 3 4 3 4 3 4 3 4 3]], shape=(9, 10), dtype=int32)\n"
          ]
        }
      ],
      "source": [
        "e = tf.reverse(c, [1])\n",
        "print(e)"
      ]
    },
    {
      "cell_type": "code",
      "execution_count": null,
      "id": "12acb2ac",
      "metadata": {
        "id": "12acb2ac",
        "outputId": "3dd15293-4174-4d88-f2d7-c14e1a8aa6ee"
      },
      "outputs": [
        {
          "name": "stdout",
          "output_type": "stream",
          "text": [
            "tf.Tensor(\n",
            "[[2 1 2 1 2 1 2 1 2 1]\n",
            " [3 2 3 2 3 2 3 2 3 2]\n",
            " [4 3 4 3 4 3 4 3 4 3]\n",
            " [2 1 2 1 2 1 2 1 2 1]\n",
            " [3 2 3 2 3 2 3 2 3 2]\n",
            " [4 3 4 3 4 3 4 3 4 3]\n",
            " [2 1 2 1 2 1 2 1 2 1]\n",
            " [3 2 3 2 3 2 3 2 3 2]\n",
            " [4 3 4 3 4 3 4 3 4 3]\n",
            " [2 1 2 1 2 1 2 1 2 1]\n",
            " [3 2 3 2 3 2 3 2 3 2]\n",
            " [4 3 4 3 4 3 4 3 4 3]\n",
            " [2 1 2 1 2 1 2 1 2 1]\n",
            " [3 2 3 2 3 2 3 2 3 2]\n",
            " [4 3 4 3 4 3 4 3 4 3]\n",
            " [2 1 2 1 2 1 2 1 2 1]\n",
            " [3 2 3 2 3 2 3 2 3 2]\n",
            " [4 3 4 3 4 3 4 3 4 3]], shape=(18, 10), dtype=int32)\n",
            "tf.Tensor(\n",
            "[[2 1 2 1 2 1 2 1 2 1 2 1 2 1 2 1 2 1 2 1]\n",
            " [3 2 3 2 3 2 3 2 3 2 3 2 3 2 3 2 3 2 3 2]\n",
            " [4 3 4 3 4 3 4 3 4 3 4 3 4 3 4 3 4 3 4 3]\n",
            " [2 1 2 1 2 1 2 1 2 1 2 1 2 1 2 1 2 1 2 1]\n",
            " [3 2 3 2 3 2 3 2 3 2 3 2 3 2 3 2 3 2 3 2]\n",
            " [4 3 4 3 4 3 4 3 4 3 4 3 4 3 4 3 4 3 4 3]\n",
            " [2 1 2 1 2 1 2 1 2 1 2 1 2 1 2 1 2 1 2 1]\n",
            " [3 2 3 2 3 2 3 2 3 2 3 2 3 2 3 2 3 2 3 2]\n",
            " [4 3 4 3 4 3 4 3 4 3 4 3 4 3 4 3 4 3 4 3]], shape=(9, 20), dtype=int32)\n"
          ]
        }
      ],
      "source": [
        "print(tf.concat([e, e], axis=0))\n",
        "print(tf.concat([e, e], axis=1))"
      ]
    },
    {
      "cell_type": "markdown",
      "id": "d7f88043",
      "metadata": {
        "id": "d7f88043"
      },
      "source": [
        "**Tensor Opertaions**"
      ]
    },
    {
      "cell_type": "code",
      "execution_count": null,
      "id": "627e6827",
      "metadata": {
        "id": "627e6827",
        "outputId": "2cc869f5-ba6a-48b9-cba1-ea6b5bf2b5aa"
      },
      "outputs": [
        {
          "name": "stdout",
          "output_type": "stream",
          "text": [
            "tf.Tensor(4, shape=(), dtype=int32)\n",
            "tf.Tensor(0, shape=(), dtype=int32)\n",
            "tf.Tensor(4, shape=(), dtype=int32)\n",
            "tf.Tensor(0, shape=(), dtype=int32)\n"
          ]
        }
      ],
      "source": [
        "# 0차원 텐서의 연산\n",
        "\n",
        "print(tf.constant(2) + tf.constant(2))\n",
        "print(tf.constant(2) - tf.constant(2))\n",
        "print(tf.add(tf.constant(2), tf.constant(2)))\n",
        "print(tf.subtract(tf.constant(2), tf.constant(2)))"
      ]
    },
    {
      "cell_type": "code",
      "execution_count": null,
      "id": "a621bc89",
      "metadata": {
        "id": "a621bc89",
        "outputId": "fc97a8ba-8b7f-4e83-d44a-9f6ffcf953ea"
      },
      "outputs": [
        {
          "name": "stdout",
          "output_type": "stream",
          "text": [
            "tf.Tensor(4, shape=(), dtype=int32)\n",
            "tf.Tensor(1.0, shape=(), dtype=float64)\n",
            "tf.Tensor(4, shape=(), dtype=int32)\n",
            "tf.Tensor(1.0, shape=(), dtype=float64)\n"
          ]
        }
      ],
      "source": [
        "print(tf.constant(2) * tf.constant(2))\n",
        "print(tf.constant(2) / tf.constant(2))\n",
        "print(tf.multiply(tf.constant(2), tf.constant(2)))\n",
        "print(tf.divide(tf.constant(2), tf.constant(2)))"
      ]
    },
    {
      "cell_type": "code",
      "execution_count": null,
      "id": "333b1f51",
      "metadata": {
        "id": "333b1f51",
        "outputId": "671055b1-5782-448b-fbf5-bad640439c75"
      },
      "outputs": [
        {
          "name": "stdout",
          "output_type": "stream",
          "text": [
            "tf.Tensor(4.2, shape=(), dtype=float32)\n"
          ]
        }
      ],
      "source": [
        "# 다른 타입을 가지는 텐서들의 연산을 위해서 타입 변환\n",
        "\n",
        "print(tf.cast(tf.constant(2), tf.float32) + tf.constant(2.2))"
      ]
    },
    {
      "cell_type": "markdown",
      "id": "02bb4b93",
      "metadata": {
        "id": "02bb4b93"
      },
      "source": [
        "**1차원 이상의 텐서 연산**"
      ]
    },
    {
      "cell_type": "code",
      "execution_count": null,
      "id": "d210bbcd",
      "metadata": {
        "id": "d210bbcd",
        "outputId": "2c3e68c0-d6d5-4e45-ebd7-3bbdadee542b"
      },
      "outputs": [
        {
          "name": "stdout",
          "output_type": "stream",
          "text": [
            "tf.Tensor(8, shape=(), dtype=int32)\n",
            "tf.Tensor(4, shape=(), dtype=int32)\n"
          ]
        }
      ],
      "source": [
        "# 1차원 텐서의 연산\n",
        "\n",
        "f = tf.constant(8)\n",
        "t = tf.constant(4)\n",
        "print(f)\n",
        "print(t)"
      ]
    },
    {
      "cell_type": "code",
      "execution_count": null,
      "id": "6424535f",
      "metadata": {
        "id": "6424535f",
        "outputId": "c2a0bc40-e419-4c50-dcbd-e06cc085955d"
      },
      "outputs": [
        {
          "name": "stdout",
          "output_type": "stream",
          "text": [
            "tf.Tensor(\n",
            "[[ 6  9]\n",
            " [ 8 10]], shape=(2, 2), dtype=int32)\n",
            "tf.Tensor(\n",
            "[[ 0 -1]\n",
            " [-6 -6]], shape=(2, 2), dtype=int32)\n",
            "tf.Tensor(\n",
            "[[ 9 20]\n",
            " [ 7 16]], shape=(2, 2), dtype=int32)\n",
            "tf.Tensor(\n",
            "[[1.         0.8       ]\n",
            " [0.14285714 0.25      ]], shape=(2, 2), dtype=float64)\n"
          ]
        }
      ],
      "source": [
        "# Q. 사칙연산(더하기, 빼기, 곱하기, 나누기)을 해보세요.\n",
        "\n",
        "print(a + b) # element-wise addition\n",
        "print(a - b) # element-wise subtraction\n",
        "print(a * b) # element-wise multiplication\n",
        "print(a / b) # element-wise division"
      ]
    },
    {
      "cell_type": "code",
      "execution_count": null,
      "id": "52128816",
      "metadata": {
        "id": "52128816",
        "outputId": "0c94cb91-a17f-468f-99e1-a676f42886ed"
      },
      "outputs": [
        {
          "name": "stdout",
          "output_type": "stream",
          "text": [
            "tf.Tensor(\n",
            "[[3 4]\n",
            " [1 2]], shape=(2, 2), dtype=int32)\n",
            "tf.Tensor(\n",
            "[[3 5]\n",
            " [7 8]], shape=(2, 2), dtype=int32)\n"
          ]
        }
      ],
      "source": [
        "# Q. 크기 (2,2)인 2차원 텐서 2개를 생성해 보세요.\n",
        "\n",
        "a = tf.constant([[3, 4], [1, 2]])\n",
        "b = tf.constant([[3, 5], [7, 8]])\n",
        "print(a)\n",
        "print(b)"
      ]
    },
    {
      "cell_type": "code",
      "execution_count": null,
      "id": "c5221a6e",
      "metadata": {
        "id": "c5221a6e",
        "outputId": "e0f275e0-e2ae-41b4-b060-e8ab362367d6"
      },
      "outputs": [
        {
          "name": "stdout",
          "output_type": "stream",
          "text": [
            "tf.Tensor(\n",
            "[[ 6  9]\n",
            " [ 8 10]], shape=(2, 2), dtype=int32)\n",
            "tf.Tensor(\n",
            "[[ 0 -1]\n",
            " [-6 -6]], shape=(2, 2), dtype=int32)\n",
            "tf.Tensor(\n",
            "[[ 9 20]\n",
            " [ 7 16]], shape=(2, 2), dtype=int32)\n",
            "tf.Tensor(\n",
            "[[37 47]\n",
            " [17 21]], shape=(2, 2), dtype=int32)\n",
            "tf.Tensor(\n",
            "[[1.         0.8       ]\n",
            " [0.14285714 0.25      ]], shape=(2, 2), dtype=float64)\n"
          ]
        }
      ],
      "source": [
        "import tensorflow as tf\n",
        "\n",
        "print(a + b) # element-wise addition\n",
        "print(a - b) # element-wise subtraction\n",
        "print(a * b) # element-wise multiplication\n",
        "print(a @ b) # matrix multiplication\n",
        "print(a / b) # element-wise division"
      ]
    },
    {
      "cell_type": "markdown",
      "id": "69fddc57",
      "metadata": {
        "id": "69fddc57"
      },
      "source": [
        "* `reduce_max()`: 텐서 값 중에서 최대값을 계산합니다.\n",
        "* `argmax()`: 최대값의 위치를 반환합니다. 예제에서는 [4.0, 5.0, 6.0] 보다 [10.0, 9.0, 8.0]이 다 크기 때문에 [0 0 0]이 아니라 [1 1 1]의 결과를 보여주고 있습니다.\n",
        "* `nn.softmax()`: 텐서의 값을 0과 1 사이의 값으로 보여줍니다. 예제에서는 [4.0, 5.0, 6.0] 값이 [0.09003057 0.24472848 0.66524094]으로 변환되었고, [10.0, 9.0, 8.0]이 [0.66524094 0.24472848 0.09003057]로 변환되었습니다."
      ]
    },
    {
      "cell_type": "code",
      "execution_count": null,
      "id": "0a8bf442",
      "metadata": {
        "id": "0a8bf442",
        "outputId": "e95d4af2-374e-401a-d6e2-f82f520228dc"
      },
      "outputs": [
        {
          "name": "stdout",
          "output_type": "stream",
          "text": [
            "tf.Tensor(\n",
            "[[ 6  9]\n",
            " [ 8 10]], shape=(2, 2), dtype=int32)\n",
            "tf.Tensor(\n",
            "[[ 0 -1]\n",
            " [-6 -6]], shape=(2, 2), dtype=int32)\n",
            "tf.Tensor(\n",
            "[[ 9 20]\n",
            " [ 7 16]], shape=(2, 2), dtype=int32)\n",
            "tf.Tensor(\n",
            "[[37 47]\n",
            " [17 21]], shape=(2, 2), dtype=int32)\n",
            "tf.Tensor(\n",
            "[[1.         0.8       ]\n",
            " [0.14285714 0.25      ]], shape=(2, 2), dtype=float64)\n"
          ]
        }
      ],
      "source": [
        "print(tf.add(a, b))\n",
        "print(tf.subtract(a, b))\n",
        "print(tf.multiply(a, b))\n",
        "print(tf.matmul(a, b))\n",
        "print(tf.divide(a, b))"
      ]
    },
    {
      "cell_type": "code",
      "execution_count": null,
      "id": "d22a3a0a",
      "metadata": {
        "id": "d22a3a0a",
        "outputId": "588f18b7-a183-438e-e828-648adc48413c"
      },
      "outputs": [
        {
          "name": "stdout",
          "output_type": "stream",
          "text": [
            "tf.Tensor(10.0, shape=(), dtype=float32)\n",
            "tf.Tensor([1 1 1], shape=(3,), dtype=int64)\n",
            "tf.Tensor(\n",
            "[[0.09003057 0.24472848 0.66524094]\n",
            " [0.66524094 0.24472848 0.09003057]], shape=(2, 3), dtype=float32)\n"
          ]
        }
      ],
      "source": [
        "c = tf.constant([[4.0, 5.0, 6.0],\n",
        "                 [10.0, 9.0, 8.0]])\n",
        "\n",
        "print(tf.reduce_max(c))\n",
        "print(tf.argmax(c))\n",
        "print(tf.nn.softmax(c))"
      ]
    },
    {
      "cell_type": "markdown",
      "id": "3002b523",
      "metadata": {
        "id": "3002b523"
      },
      "source": [
        "**Playground**"
      ]
    },
    {
      "cell_type": "code",
      "execution_count": null,
      "id": "4922c6d8",
      "metadata": {
        "id": "4922c6d8",
        "outputId": "b6e4254c-6e9a-492a-f86c-4f310b5c5e09"
      },
      "outputs": [
        {
          "name": "stdout",
          "output_type": "stream",
          "text": [
            "Addition (+): tf.Tensor([5. 7. 9.], shape=(3,), dtype=float32)\n",
            "Subtraction (-): tf.Tensor([-3. -3. -3.], shape=(3,), dtype=float32)\n",
            "Multiplication (*): tf.Tensor([ 4. 10. 18.], shape=(3,), dtype=float32)\n",
            "Matrix Multiplication (@): tf.Tensor(\n",
            "[[19. 22.]\n",
            " [43. 50.]], shape=(2, 2), dtype=float32)\n",
            "Division (/): tf.Tensor([0.25 0.4  0.5 ], shape=(3,), dtype=float32)\n",
            "Reduce Max (Max Value of a): tf.Tensor(3.0, shape=(), dtype=float32)\n",
            "Argmax (Index of Max Value in a): tf.Tensor(2, shape=(), dtype=int64)\n"
          ]
        }
      ],
      "source": [
        "import tensorflow as tf\n",
        "\n",
        "a = tf.constant([1.0, 2.0, 3.0])\n",
        "b = tf.constant([4.0, 5.0, 6.0])\n",
        "\n",
        "addition = a + b\n",
        "print(\"Addition (+):\", addition)\n",
        "\n",
        "subtraction = a - b\n",
        "print(\"Subtraction (-):\", subtraction)\n",
        "\n",
        "multiplication = a * b\n",
        "print(\"Multiplication (*):\", multiplication)\n",
        "\n",
        "matrix_a = tf.constant([[1.0, 2.0], [3.0, 4.0]])\n",
        "matrix_b = tf.constant([[5.0, 6.0], [7.0, 8.0]])\n",
        "matrix_multiplication = matrix_a @ matrix_b\n",
        "print(\"Matrix Multiplication (@):\", matrix_multiplication)\n",
        "\n",
        "division = a / b\n",
        "print(\"Division (/):\", division)\n",
        "\n",
        "max_value = tf.reduce_max(a)\n",
        "print(\"Reduce Max (Max Value of a):\", max_value)\n",
        "\n",
        "argmax_index = tf.argmax(a)\n",
        "print(\"Argmax (Index of Max Value in a):\", argmax_index)"
      ]
    },
    {
      "cell_type": "markdown",
      "id": "d6c3587f",
      "metadata": {
        "id": "d6c3587f"
      },
      "source": [
        "**Q. 2개의 텐서를 행렬곱 연산이 가능하도록 3차원 텐서로 변환해주세요.**"
      ]
    },
    {
      "cell_type": "code",
      "execution_count": null,
      "id": "ccadc035",
      "metadata": {
        "id": "ccadc035",
        "outputId": "3055736b-160b-4918-f374-f49b583f7bcb"
      },
      "outputs": [
        {
          "name": "stdout",
          "output_type": "stream",
          "text": [
            "tf.Tensor(\n",
            "[[[1 2 3 4]\n",
            "  [5 6 7 8]]], shape=(1, 2, 4), dtype=int32)\n",
            "tf.Tensor(\n",
            "[[[1 2]\n",
            "  [3 4]\n",
            "  [5 6]\n",
            "  [7 8]]], shape=(1, 4, 2), dtype=int32)\n",
            "tf.Tensor(\n",
            "[[[ 50  60]\n",
            "  [114 140]]], shape=(1, 2, 2), dtype=int32)\n"
          ]
        }
      ],
      "source": [
        "import tensorflow as tf\n",
        "\n",
        "a = tf.constant([1, 2, 3, 4, 5, 6, 7, 8])\n",
        "b = tf.constant([[1., 2., 3., 4., 5., 6., 7., 8.]])\n",
        "\n",
        "a = tf.reshape(a, [1, 2, 4])\n",
        "b = tf.reshape(b, [1, 4, 2])\n",
        "b = tf.cast(b, tf.int32)\n",
        "\n",
        "print(a)\n",
        "print(b)\n",
        "\n",
        "print(a@b)"
      ]
    },
    {
      "cell_type": "markdown",
      "id": "81c5bdf2",
      "metadata": {
        "id": "81c5bdf2"
      },
      "source": [
        "### 3. 딥러닝 구조와 모델\n",
        "\n",
        "**학습 목표**\n",
        "\n",
        "1. 딥러닝 모델(네트워크)를 구성하는 레이어에 대한 개념을 설명할 수 있습니다.\n",
        "2. 딥러닝 모델을 구성하는 방법을 익히고 실습해봅니다."
      ]
    },
    {
      "cell_type": "markdown",
      "id": "306206d5",
      "metadata": {
        "id": "306206d5"
      },
      "source": [
        "**딥러닝 구조와 레이어(Layer)**\n",
        "\n",
        "케라스에서 제공하는 API들의 구성도를 살펴보면, 크게 Model API와 Layer API가 있고 필요한 모듈들을 Modules API를 호출해서 사용합니다. 딥러닝 모델은 여러 레이어들로 구성되어 있습니다. 먼저 딥러닝을 사용하는데 필요한 라이브러리인 TensorFlow와 keras를 임포트합니다. 또한 케라스(Keras)의 레이어를 사용할 수 있도록 임포트합니다.  "
      ]
    },
    {
      "cell_type": "code",
      "execution_count": null,
      "id": "9d52f93d",
      "metadata": {
        "id": "9d52f93d"
      },
      "outputs": [],
      "source": [
        "# Lib\n",
        "\n",
        "import tensorflow as tf\n",
        "from tensorflow import keras\n",
        "from tensorflow.keras import layers"
      ]
    },
    {
      "cell_type": "markdown",
      "id": "66407778",
      "metadata": {
        "id": "66407778"
      },
      "source": [
        "딥러닝은 여러 개의 레이어(Layer)로 구성되어 있으며, 기본적으로 입력층(Input Layer), 은닉층(Hidden Layer), 출력층(Output Layer) 으로 구분됩니다. 레이어는 딥러닝 모델을 구성하는 핵심 데이터 구조로서 하나 이상의 텐서를 입력받아 하나 이상의 텐서를 출력하는 데이터 처리 모듈입니다."
      ]
    },
    {
      "cell_type": "markdown",
      "id": "350a43b2",
      "metadata": {
        "id": "350a43b2"
      },
      "source": [
        "**Input**  \n",
        "\n",
        "딥러닝 모델의 입력을 정의할 때 사용하는 Input 객체는 입력 데이터의 모양인 shape와 예상되는 데이터 유형인 dtype 등을 포함하고 있습니다. Input 객체는 배치 크기를 batch_size로 지정할 수 있고, name을 통해서 이름을 지정할 수도 있습니다."
      ]
    },
    {
      "cell_type": "code",
      "execution_count": null,
      "id": "f04e44fb",
      "metadata": {
        "id": "f04e44fb",
        "outputId": "fe4bb626-8276-41ea-e513-c5a1a7e0a9c1"
      },
      "outputs": [
        {
          "data": {
            "text/plain": [
              "<KerasTensor: shape=(None, 8) dtype=int32 (created by layer 'input_1')>"
            ]
          },
          "execution_count": 3,
          "metadata": {},
          "output_type": "execute_result"
        }
      ],
      "source": [
        "keras.Input(shape=(8,), dtype=tf.int32)"
      ]
    },
    {
      "cell_type": "code",
      "execution_count": null,
      "id": "76b6ead8",
      "metadata": {
        "id": "76b6ead8",
        "outputId": "699b6883-e0eb-4c80-f338-5c8232b37395"
      },
      "outputs": [
        {
          "data": {
            "text/plain": [
              "<KerasTensor: shape=(None, 28, 28) dtype=float32 (created by layer 'input_2')>"
            ]
          },
          "execution_count": 4,
          "metadata": {},
          "output_type": "execute_result"
        }
      ],
      "source": [
        "keras.Input(shape=(28, 28), dtype=tf.float32)"
      ]
    },
    {
      "cell_type": "code",
      "execution_count": null,
      "id": "4cdb975c",
      "metadata": {
        "id": "4cdb975c",
        "outputId": "6f1f45e5-f4ff-4ff1-9ea7-f0aecc397a47"
      },
      "outputs": [
        {
          "data": {
            "text/plain": [
              "<KerasTensor: shape=(16, 28, 28) dtype=float32 (created by layer 'input_3')>"
            ]
          },
          "execution_count": 5,
          "metadata": {},
          "output_type": "execute_result"
        }
      ],
      "source": [
        "keras.Input(shape=(28, 28), dtype=tf.float32, batch_size=16)"
      ]
    },
    {
      "cell_type": "code",
      "execution_count": null,
      "id": "026905a3",
      "metadata": {
        "id": "026905a3",
        "outputId": "9bbd46d4-1b12-46bc-8671-2986cf72b527"
      },
      "outputs": [
        {
          "data": {
            "text/plain": [
              "<KerasTensor: shape=(16, 28, 28) dtype=float32 (created by layer 'input_4')>"
            ]
          },
          "execution_count": 6,
          "metadata": {},
          "output_type": "execute_result"
        }
      ],
      "source": [
        "keras.Input(shape=(28, 28), dtype=tf.float32, batch_size=16)"
      ]
    },
    {
      "cell_type": "code",
      "execution_count": null,
      "id": "d1554b83",
      "metadata": {
        "id": "d1554b83",
        "outputId": "888439d0-10fd-4f80-e317-ee09598c9cad"
      },
      "outputs": [
        {
          "data": {
            "text/plain": [
              "<KerasTensor: shape=(16, 28, 28) dtype=float32 (created by layer 'input')>"
            ]
          },
          "execution_count": 7,
          "metadata": {},
          "output_type": "execute_result"
        }
      ],
      "source": [
        "keras.Input(shape=(28, 28), dtype=tf.float32, batch_size=16, name='input')"
      ]
    },
    {
      "cell_type": "markdown",
      "id": "54faf432",
      "metadata": {
        "id": "54faf432"
      },
      "source": [
        "**Dense Layer**\n",
        "\n",
        "Dense 레이어는 완전연결계층(Fully-Connected Layer)으로 노드수(유닛수)를 지정하면 생성됩니다. Dense 레이어에 대한 자세한 내용은 다음 링크를 참조하면 됩니다. https://keras.io/api/layers/core_layers/dense/"
      ]
    },
    {
      "cell_type": "code",
      "execution_count": null,
      "id": "e0970acf",
      "metadata": {
        "id": "e0970acf",
        "outputId": "a6467a88-e8f2-4758-a299-3619f5855d57"
      },
      "outputs": [
        {
          "data": {
            "text/plain": [
              "<keras.layers.core.Dense at 0x7f493a021f70>"
            ]
          },
          "execution_count": 8,
          "metadata": {},
          "output_type": "execute_result"
        }
      ],
      "source": [
        "layers.Dense(10)"
      ]
    },
    {
      "cell_type": "code",
      "execution_count": null,
      "id": "29242bb9",
      "metadata": {
        "id": "29242bb9",
        "outputId": "4a38db1f-faff-47a2-e2ac-4fc27537b5e2"
      },
      "outputs": [
        {
          "data": {
            "text/plain": [
              "<keras.layers.core.Dense at 0x7f49b7242880>"
            ]
          },
          "execution_count": 9,
          "metadata": {},
          "output_type": "execute_result"
        }
      ],
      "source": [
        "layers.Dense(10, name='layer1')"
      ]
    },
    {
      "cell_type": "code",
      "execution_count": null,
      "id": "36b74258",
      "metadata": {
        "id": "36b74258",
        "outputId": "3c97a41b-fd3e-4230-9efd-fc19e95889fc"
      },
      "outputs": [
        {
          "data": {
            "text/plain": [
              "<keras.layers.core.Dense at 0x7f49b41e2940>"
            ]
          },
          "execution_count": 10,
          "metadata": {},
          "output_type": "execute_result"
        }
      ],
      "source": [
        "# 레이어에서 사용할 활성화 함수(activation)를 지정하여 생성하는 것이 가능합니다.\n",
        "\n",
        "layers.Dense(10, activation='softmax')"
      ]
    },
    {
      "cell_type": "code",
      "execution_count": null,
      "id": "0e2301d5",
      "metadata": {
        "id": "0e2301d5",
        "outputId": "04836b1c-9f0b-48a2-a400-11222b8d65aa"
      },
      "outputs": [
        {
          "data": {
            "text/plain": [
              "<keras.layers.core.Dense at 0x7f4939796d90>"
            ]
          },
          "execution_count": 11,
          "metadata": {},
          "output_type": "execute_result"
        }
      ],
      "source": [
        "# 레이어에 유닛수와 활성화 함수 그리고 이름까지 지정하여 사용하는 것도 가능합니다.\n",
        "\n",
        "layers.Dense(10, activation='relu', name='Dense Layer')"
      ]
    },
    {
      "cell_type": "code",
      "execution_count": null,
      "id": "2920d34d",
      "metadata": {
        "id": "2920d34d",
        "outputId": "50c2d4ee-861e-410b-b3d3-d12fcbfa8bc0"
      },
      "outputs": [
        {
          "name": "stdout",
          "output_type": "stream",
          "text": [
            "tf.Tensor(\n",
            "[[0.6562748  0.3642193 ]\n",
            " [0.27948403 0.65652204]\n",
            " [0.24328613 0.4661851 ]\n",
            " [0.97968566 0.72885704]\n",
            " [0.3058201  0.0498358 ]], shape=(5, 2), dtype=float32)\n",
            "[<tf.Variable 'dense_2/kernel:0' shape=(2, 10) dtype=float32, numpy=\n",
            "array([[ 0.05456907,  0.69246644, -0.44053084,  0.30569786, -0.6732477 ,\n",
            "        -0.49735117, -0.33783144, -0.59282595, -0.06898648, -0.42507085],\n",
            "       [ 0.48131436, -0.52023184, -0.5879366 ,  0.02524346, -0.16344851,\n",
            "        -0.3166823 , -0.1195755 , -0.01122844, -0.06120145, -0.11641836]],\n",
            "      dtype=float32)>, <tf.Variable 'dense_2/bias:0' shape=(10,) dtype=float32, numpy=array([0., 0., 0., 0., 0., 0., 0., 0., 0., 0.], dtype=float32)>]\n",
            "<tf.Variable 'dense_2/bias:0' shape=(10,) dtype=float32, numpy=array([0., 0., 0., 0., 0., 0., 0., 0., 0., 0.], dtype=float32)>\n",
            "tf.Tensor(\n",
            "[[0.21111628 0.2649698  0.         0.20981595 0.         0.\n",
            "  0.         0.         0.         0.        ]\n",
            " [0.33124468 0.         0.         0.10201056 0.         0.\n",
            "  0.         0.         0.         0.        ]\n",
            " [0.23765747 0.         0.         0.08614018 0.         0.\n",
            "  0.         0.         0.         0.        ]\n",
            " [0.4042699  0.2992248  0.         0.31788668 0.         0.\n",
            "  0.         0.         0.         0.        ]\n",
            " [0.040675   0.18584399 0.         0.09474658 0.         0.\n",
            "  0.         0.         0.         0.        ]], shape=(5, 10), dtype=float32)\n"
          ]
        }
      ],
      "source": [
        "# 랜덤으로 값을 만들고, 생성한 레이어에 그 값을 입력으로 사용한 뒤에 레이어 가중치 값과 결과 값을 확인해 봅시다.\n",
        "\n",
        "inputs = tf.random.uniform(shape=(5, 2))\n",
        "print(inputs)\n",
        "layer = layers.Dense(10, activation='relu')\n",
        "outputs = layer(inputs)\n",
        "print(layer.weights)\n",
        "print(layer.bias)\n",
        "print(outputs)"
      ]
    },
    {
      "cell_type": "markdown",
      "id": "d326cff1",
      "metadata": {
        "id": "d326cff1"
      },
      "source": [
        "**Activation Layer**  \n",
        "\n",
        "활성화 함수는 이전 레이어의 결과값을 변환하여 다른 레이어로 전달하는 역할을 하는데, 크게 선형 활성화 함수(Linear activation function)와 비선형 활성화 함수(Non-linear activation function)로 구분할 수 있습니다. 다만 딥러닝에서는 선형 활성화 함수를 사용하면 다층 구조를 사용하는 의미가 없기 때문에 모델 표현력을 위해서 비선형 활성화 함수를 사용합니다. 케라스의 Dense 레이어에서 미리 활성화 함수를 지정할 수도 있지만, 필요에 따라 별도의 Activation 레이어를 만들어줄 수 있습니다.  \n",
        "\n",
        "Keras에서 제공하는 활성화 함수(activation function)의 종류: https://keras.io/api/layers/activations/"
      ]
    },
    {
      "cell_type": "code",
      "execution_count": null,
      "id": "af519664",
      "metadata": {
        "id": "af519664",
        "outputId": "3922c339-66ac-4f1d-a6c9-0d151b756bf2"
      },
      "outputs": [
        {
          "data": {
            "image/png": "[encoded data removed]",
            "text/plain": [
              "<Figure size 432x288 with 1 Axes>"
            ]
          },
          "metadata": {
            "needs_background": "light"
          },
          "output_type": "display_data"
        }
      ],
      "source": [
        "# -10부터 10 사이의 수 가운데 100개의 값을 입력 데이터로 사용하여 Activation 레이어가 어떤식으로 동작하는지 살펴보자\n",
        "\n",
        "import numpy as np\n",
        "import matplotlib.pyplot as plt\n",
        "\n",
        "input = np.linspace(-10, 10, 100)\n",
        "x = np.linspace(-10, 10, 100)\n",
        "plt.scatter(x, input)\n",
        "plt.show()"
      ]
    },
    {
      "cell_type": "markdown",
      "id": "860e5bd5",
      "metadata": {
        "id": "860e5bd5"
      },
      "source": [
        "**시그모이드 함수**\n",
        "\n",
        "시그모이드 함수는 주로 확률 예측 모델에 자주 사용되며, 출력값이 0과 1 사이로 나타납니다. 그러다보니 0과 1 사이에서 포화(saturate)되는 문제가 있습니다. 즉, 입력값이 작아도 출력값이 0 이하가 될 수 없고, 커져도 1 이상이 될 수 없기 때문에 훈련 시간이 오래걸리고, 그래디언트(gradient)가 0에 가까워져서 가중치 업데이트가 발생하지 않게 됩니다.  "
      ]
    },
    {
      "cell_type": "code",
      "execution_count": null,
      "id": "0d4c5cee",
      "metadata": {
        "id": "0d4c5cee",
        "outputId": "27b42313-4935-41a0-a185-087e8f30a3a9"
      },
      "outputs": [
        {
          "data": {
            "image/png": "[encoded data removed]",
            "text/plain": [
              "<Figure size 432x288 with 1 Axes>"
            ]
          },
          "metadata": {
            "needs_background": "light"
          },
          "output_type": "display_data"
        }
      ],
      "source": [
        "layer = layers.Activation('sigmoid')\n",
        "output = layer(input)\n",
        "\n",
        "plt.scatter(x, output)\n",
        "plt.show()"
      ]
    },
    {
      "cell_type": "markdown",
      "id": "4fe595d1",
      "metadata": {
        "id": "4fe595d1"
      },
      "source": [
        "**하이퍼볼릭 탄젠트(tanh, Hyperbolic tangent) 함수**\n",
        "\n",
        "하이퍼볼릭 탄젠트 함수는 0을 중심으로 -1과 1 사이의 값이 나타납니다. 일반적으로 시그모이드 함수보다는 빨리 훈련되지만, 여전히 -1과 1 사이에서 포화되는 문제가 있습니다.  "
      ]
    },
    {
      "cell_type": "code",
      "execution_count": null,
      "id": "16ec6511",
      "metadata": {
        "id": "16ec6511",
        "outputId": "04dd7a30-88c5-481d-c3dd-c051a335bd95"
      },
      "outputs": [
        {
          "data": {
            "image/png": "[encoded data removed]",
            "text/plain": [
              "<Figure size 432x288 with 1 Axes>"
            ]
          },
          "metadata": {
            "needs_background": "light"
          },
          "output_type": "display_data"
        }
      ],
      "source": [
        "layer = layers.Activation('tanh')\n",
        "output = layer(input)\n",
        "\n",
        "plt.scatter(x, output)\n",
        "plt.show()"
      ]
    },
    {
      "cell_type": "markdown",
      "id": "1edd586c",
      "metadata": {
        "id": "1edd586c"
      },
      "source": [
        "**ReLU(Rectified Linear Unit) 함수**\n",
        "\n",
        "ReLU 함수의 출력값은 0부터 무한대까지의 범위의 값을 가지므로 하이퍼볼릭 탄젠트 함수보다 몇 배는 더 빠르게 훈련됩니다. 다만 ReLU 함수 출력값이 0이 중심이 아니고, 학습률(learning rate)이 크면 ReLU를 사용한 노드에서 출력이 0으로만 나온다는 문제가 있습니다.  "
      ]
    },
    {
      "cell_type": "code",
      "execution_count": null,
      "id": "e1cbb01c",
      "metadata": {
        "id": "e1cbb01c",
        "outputId": "f36c1e4c-7987-4be0-a836-d027e218c506"
      },
      "outputs": [
        {
          "data": {
            "image/png": "[encoded data removed]",
            "text/plain": [
              "<Figure size 432x288 with 1 Axes>"
            ]
          },
          "metadata": {
            "needs_background": "light"
          },
          "output_type": "display_data"
        }
      ],
      "source": [
        "layer = layers.Activation('relu')\n",
        "output = layer(input)\n",
        "\n",
        "plt.scatter(x, output)\n",
        "plt.show()"
      ]
    },
    {
      "cell_type": "markdown",
      "id": "8f5152f6",
      "metadata": {
        "id": "8f5152f6"
      },
      "source": [
        "**Leaky ReLU 함수**\n",
        "\n",
        "Leaky ReLU 함수는 ReLU 함수의 문제점, 즉 노드 출력을 0으로만 하던 문제를 노드 출력을 0이 아닌 아주 작은 음수값으로 출력하게 만들어 해결하였으며 다음과 같이 표현됩니다.  "
      ]
    },
    {
      "cell_type": "code",
      "execution_count": null,
      "id": "d42a0a6c",
      "metadata": {
        "id": "d42a0a6c",
        "outputId": "aab7e992-5442-4e37-f1d1-a4ef36390bd3"
      },
      "outputs": [
        {
          "data": {
            "image/png": "[encoded data removed]",
            "text/plain": [
              "<Figure size 432x288 with 1 Axes>"
            ]
          },
          "metadata": {
            "needs_background": "light"
          },
          "output_type": "display_data"
        }
      ],
      "source": [
        "layer = layers.LeakyReLU()\n",
        "output = layer(input)\n",
        "\n",
        "plt.scatter(x, output)\n",
        "plt.show()"
      ]
    },
    {
      "cell_type": "markdown",
      "id": "aebd2faf",
      "metadata": {
        "id": "aebd2faf"
      },
      "source": [
        "**ELU(Exponential Linear Unit) 함수**\n",
        "\n",
        "ReLU가 중심점이 0이 아니고, 노드 출력을 0으로만 하던 문제를 해결한 활성화 함수이며, 다음과 같이 표현됩니다. ELU 함수는 0 이하에서는 exponential 연산이 수행되므로 계산 비용이 높아지는 단점이 있습니다.  "
      ]
    },
    {
      "cell_type": "code",
      "execution_count": null,
      "id": "baa2855e",
      "metadata": {
        "id": "baa2855e",
        "outputId": "ecada4b0-9f85-4f99-89c2-8d99bb8085f4"
      },
      "outputs": [
        {
          "data": {
            "image/png": "[encoded data removed]",
            "text/plain": [
              "<Figure size 432x288 with 1 Axes>"
            ]
          },
          "metadata": {
            "needs_background": "light"
          },
          "output_type": "display_data"
        }
      ],
      "source": [
        "layer = layers.ELU()\n",
        "output = layer(input)\n",
        "\n",
        "plt.scatter(x, output)\n",
        "plt.show()"
      ]
    },
    {
      "cell_type": "markdown",
      "id": "d2977bf8",
      "metadata": {
        "id": "d2977bf8"
      },
      "source": [
        "**Flatten Layer**\n",
        "\n",
        "Flatten 레이어는 배치 크기(또는 데이터 크기)를 제외하고 데이터를 1차원 형태로 평평하게 변환합니다.  "
      ]
    },
    {
      "cell_type": "code",
      "execution_count": null,
      "id": "fc736bf1",
      "metadata": {
        "id": "fc736bf1",
        "outputId": "3369322c-4603-4241-ed6f-235f81658679"
      },
      "outputs": [
        {
          "name": "stdout",
          "output_type": "stream",
          "text": [
            "(None, 784)\n"
          ]
        }
      ],
      "source": [
        "inputs = keras.Input(shape=(28, 28, 1))\n",
        "layer = layers.Flatten(input_shape=(28, 28, 1))(inputs)\n",
        "print(layer.shape)"
      ]
    },
    {
      "cell_type": "code",
      "execution_count": null,
      "id": "e5d27bdf",
      "metadata": {
        "id": "e5d27bdf",
        "outputId": "b94875c3-5050-47a6-cd86-7800005f1f31"
      },
      "outputs": [
        {
          "name": "stdout",
          "output_type": "stream",
          "text": [
            "(None, 50176)\n"
          ]
        }
      ],
      "source": [
        "inputs = keras.Input(shape=(224, 224, 1))\n",
        "layer = layers.Flatten()(inputs)\n",
        "print(layer.shape)"
      ]
    },
    {
      "cell_type": "markdown",
      "id": "5a16393d",
      "metadata": {
        "id": "5a16393d"
      },
      "source": [
        "**DL Model**\n",
        "\n",
        "딥러닝 모델을 구성하는 방법은 1) Sequential() 함수를 이용한 Sequential API 방법과 2) Functional API를 이용하는 방법, 그리고 3) Subclassing API를 이용하는 방법이 있습니다. 먼저 케라스(Keras)에서 모델과 유틸리티들을 사용할 수 있도록 `models`, `utils`를 임포트하겠습니다."
      ]
    },
    {
      "cell_type": "code",
      "execution_count": null,
      "id": "6cba325f",
      "metadata": {
        "id": "6cba325f"
      },
      "outputs": [],
      "source": [
        "from tensorflow.keras import models, utils"
      ]
    },
    {
      "cell_type": "markdown",
      "id": "6f779fdb",
      "metadata": {
        "id": "6f779fdb"
      },
      "source": [
        "**Sequential API**\n",
        "\n",
        "Sequential API를 이용하는 방법은 모델이 순차적인 구조로 진행할 때 사용하는 간단한 방법입니다. 다만 이 방법은 다중 입력 및 출력이 존재하는 등의 복잡한 모델을 구성할 수 없습니다. Sequential API를 이용한 방법 중 첫번째는 Sequential 객체 생성 후,add()를 이용하여 사용할 레이어들을 추가하는 방법입니다.  "
      ]
    },
    {
      "cell_type": "code",
      "execution_count": null,
      "id": "4d9f5ae3",
      "metadata": {
        "id": "4d9f5ae3",
        "outputId": "3e5b0898-9d50-4c1e-f477-c81dcbc621ea"
      },
      "outputs": [
        {
          "name": "stdout",
          "output_type": "stream",
          "text": [
            "Model: \"sequential\"\n",
            "_________________________________________________________________\n",
            "Layer (type)                 Output Shape              Param #   \n",
            "=================================================================\n",
            "dense_3 (Dense)              (None, 28, 300)           8700      \n",
            "_________________________________________________________________\n",
            "dense_4 (Dense)              (None, 28, 100)           30100     \n",
            "_________________________________________________________________\n",
            "dense_5 (Dense)              (None, 28, 10)            1010      \n",
            "=================================================================\n",
            "Total params: 39,810\n",
            "Trainable params: 39,810\n",
            "Non-trainable params: 0\n",
            "_________________________________________________________________\n"
          ]
        }
      ],
      "source": [
        "model = models.Sequential()\n",
        "model.add(layers.Input(shape=(28, 28)))\n",
        "model.add(layers.Dense(300, activation='relu'))\n",
        "model.add(layers.Dense(100, activation='relu'))\n",
        "model.add(layers.Dense(10, activation='softmax'))\n",
        "model.summary()"
      ]
    },
    {
      "cell_type": "code",
      "execution_count": null,
      "id": "ae65f162",
      "metadata": {
        "id": "ae65f162",
        "outputId": "bfbe8d15-b590-4b7a-9776-17bebf4cb44b"
      },
      "outputs": [
        {
          "data": {
            "image/png": "[encoded data removed]",
            "text/plain": [
              "<IPython.core.display.Image object>"
            ]
          },
          "execution_count": 23,
          "metadata": {},
          "output_type": "execute_result"
        }
      ],
      "source": [
        "utils.plot_model(model)"
      ]
    },
    {
      "cell_type": "code",
      "execution_count": null,
      "id": "8a3dc075",
      "metadata": {
        "id": "8a3dc075",
        "outputId": "342cf0f2-3270-43c2-f4d8-016ee2117aa5"
      },
      "outputs": [
        {
          "name": "stdout",
          "output_type": "stream",
          "text": [
            "Model: \"sequential_1\"\n",
            "_________________________________________________________________\n",
            "Layer (type)                 Output Shape              Param #   \n",
            "=================================================================\n",
            "Dense1 (Dense)               (None, 28, 300)           8700      \n",
            "_________________________________________________________________\n",
            "Dense2 (Dense)               (None, 28, 100)           30100     \n",
            "_________________________________________________________________\n",
            "Output (Dense)               (None, 28, 10)            1010      \n",
            "=================================================================\n",
            "Total params: 39,810\n",
            "Trainable params: 39,810\n",
            "Non-trainable params: 0\n",
            "_________________________________________________________________\n"
          ]
        }
      ],
      "source": [
        "# Sequential 인자에 한번에 추가하는 방법\n",
        "\n",
        "model = models.Sequential([layers.Input(shape=(28, 28), name='Input'),\n",
        "                           layers.Dense(300, activation='relu', name='Dense1'),\n",
        "                           layers.Dense(100, activation='relu', name='Dense2'),\n",
        "                           layers.Dense(10, activation='softmax', name='Output')])\n",
        "model.summary()"
      ]
    },
    {
      "cell_type": "code",
      "execution_count": null,
      "id": "ba21ac2e",
      "metadata": {
        "id": "ba21ac2e",
        "outputId": "aa8dd17b-b9da-4070-b74d-3e836bfedba6"
      },
      "outputs": [
        {
          "data": {
            "image/png": "[encoded data removed]",
            "text/plain": [
              "<IPython.core.display.Image object>"
            ]
          },
          "execution_count": 25,
          "metadata": {},
          "output_type": "execute_result"
        }
      ],
      "source": [
        "utils.plot_model(model)"
      ]
    },
    {
      "cell_type": "markdown",
      "id": "1998372b",
      "metadata": {
        "id": "1998372b"
      },
      "source": [
        "**Functional API**\n",
        "\n",
        "모델 생성에 Functional API를 이용하는 방법은 가장 권장되는 방법입니다. Functional API는 딥러닝 모델을 복잡하고, 유연하게 구성하는 것이 가능하며, 다중 입출력을 다룰 수 있습니다.  "
      ]
    },
    {
      "cell_type": "code",
      "execution_count": null,
      "id": "424576ab",
      "metadata": {
        "id": "424576ab",
        "outputId": "52896912-5115-4472-ce20-a5367807d793"
      },
      "outputs": [
        {
          "name": "stdout",
          "output_type": "stream",
          "text": [
            "Model: \"model\"\n",
            "_________________________________________________________________\n",
            "Layer (type)                 Output Shape              Param #   \n",
            "=================================================================\n",
            "input_8 (InputLayer)         [(None, 28, 28, 1)]       0         \n",
            "_________________________________________________________________\n",
            "flatten_2 (Flatten)          (None, 784)               0         \n",
            "_________________________________________________________________\n",
            "dense_6 (Dense)              (None, 300)               235500    \n",
            "_________________________________________________________________\n",
            "dense_7 (Dense)              (None, 100)               30100     \n",
            "_________________________________________________________________\n",
            "dense_8 (Dense)              (None, 10)                1010      \n",
            "=================================================================\n",
            "Total params: 266,610\n",
            "Trainable params: 266,610\n",
            "Non-trainable params: 0\n",
            "_________________________________________________________________\n"
          ]
        }
      ],
      "source": [
        "inputs = layers.Input(shape=(28, 28, 1))\n",
        "x = layers.Flatten(input_shape=(28, 28, 1))(inputs)\n",
        "x = layers.Dense(300, activation='relu')(x)\n",
        "x = layers.Dense(100, activation='relu')(x)\n",
        "x = layers.Dense(10, activation='softmax')(x)\n",
        "\n",
        "model = models.Model(inputs=inputs, outputs=x)\n",
        "model.summary()"
      ]
    },
    {
      "cell_type": "code",
      "execution_count": null,
      "id": "09903005",
      "metadata": {
        "id": "09903005",
        "outputId": "1c00e4d4-da13-429a-d107-081c1e749a19"
      },
      "outputs": [
        {
          "data": {
            "image/png": "[encoded data removed]",
            "text/plain": [
              "<IPython.core.display.Image object>"
            ]
          },
          "execution_count": 27,
          "metadata": {},
          "output_type": "execute_result"
        }
      ],
      "source": [
        "utils.plot_model(model)"
      ]
    },
    {
      "cell_type": "markdown",
      "id": "363ed725",
      "metadata": {
        "id": "363ed725"
      },
      "source": [
        "Functional API를 이용하면 Input 객체를 여러 레이어에서 사용하는 것이 가능합니다.  \n",
        "아래의 예제에서는 Concatenate()를 이용하여 Dense 레이어 결과와 Input을 결합하였습니다."
      ]
    },
    {
      "cell_type": "code",
      "execution_count": null,
      "id": "9ccfaf82",
      "metadata": {
        "id": "9ccfaf82",
        "outputId": "7bd57099-2284-40f2-c634-861f09f33bfc"
      },
      "outputs": [
        {
          "name": "stdout",
          "output_type": "stream",
          "text": [
            "Model: \"model_1\"\n",
            "__________________________________________________________________________________________________\n",
            "Layer (type)                    Output Shape         Param #     Connected to                     \n",
            "==================================================================================================\n",
            "input_9 (InputLayer)            [(None, 28, 28)]     0                                            \n",
            "__________________________________________________________________________________________________\n",
            "dense_9 (Dense)                 (None, 28, 100)      2900        input_9[0][0]                    \n",
            "__________________________________________________________________________________________________\n",
            "dense_10 (Dense)                (None, 28, 30)       3030        dense_9[0][0]                    \n",
            "__________________________________________________________________________________________________\n",
            "concatenate (Concatenate)       (None, 28, 58)       0           input_9[0][0]                    \n",
            "                                                                 dense_10[0][0]                   \n",
            "__________________________________________________________________________________________________\n",
            "dense_11 (Dense)                (None, 28, 1)        59          concatenate[0][0]                \n",
            "==================================================================================================\n",
            "Total params: 5,989\n",
            "Trainable params: 5,989\n",
            "Non-trainable params: 0\n",
            "__________________________________________________________________________________________________\n"
          ]
        }
      ],
      "source": [
        "inputs = keras.Input(shape=(28, 28))\n",
        "hidden1 = layers.Dense(100, activation='relu')(inputs)\n",
        "hidden2 = layers.Dense(30, activation='relu')(hidden1)\n",
        "concat = layers.Concatenate()([inputs, hidden2])\n",
        "output = layers.Dense(1)(concat)\n",
        "\n",
        "model = models.Model(inputs=[inputs], outputs=[output])\n",
        "model.summary()"
      ]
    },
    {
      "cell_type": "code",
      "execution_count": null,
      "id": "0b52e697",
      "metadata": {
        "id": "0b52e697",
        "outputId": "21381cb8-4996-4c51-868a-776b1dcf3535"
      },
      "outputs": [
        {
          "data": {
            "image/png": "[encoded data removed]",
            "text/plain": [
              "<IPython.core.display.Image object>"
            ]
          },
          "execution_count": 29,
          "metadata": {},
          "output_type": "execute_result"
        }
      ],
      "source": [
        "utils.plot_model(model)"
      ]
    },
    {
      "cell_type": "markdown",
      "id": "b44ce614",
      "metadata": {
        "id": "b44ce614"
      },
      "source": [
        "Functional API를 이용하면 여러 Input 객체를 사용하는 것도 가능합니다."
      ]
    },
    {
      "cell_type": "code",
      "execution_count": null,
      "id": "01d2abac",
      "metadata": {
        "id": "01d2abac",
        "outputId": "8a3ef91c-ea82-40e1-f56c-3b6401b98df0"
      },
      "outputs": [
        {
          "name": "stdout",
          "output_type": "stream",
          "text": [
            "Model: \"model_2\"\n",
            "__________________________________________________________________________________________________\n",
            "Layer (type)                    Output Shape         Param #     Connected to                     \n",
            "==================================================================================================\n",
            "Input_2 (InputLayer)            [(None, 10, 28)]     0                                            \n",
            "__________________________________________________________________________________________________\n",
            "dense_12 (Dense)                (None, 10, 100)      2900        Input_2[0][0]                    \n",
            "__________________________________________________________________________________________________\n",
            "Input_1 (InputLayer)            [(None, 10, 10)]     0                                            \n",
            "__________________________________________________________________________________________________\n",
            "dense_13 (Dense)                (None, 10, 10)       1010        dense_12[0][0]                   \n",
            "__________________________________________________________________________________________________\n",
            "concatenate_1 (Concatenate)     (None, 10, 20)       0           Input_1[0][0]                    \n",
            "                                                                 dense_13[0][0]                   \n",
            "__________________________________________________________________________________________________\n",
            "output (Dense)                  (None, 10, 1)        21          concatenate_1[0][0]              \n",
            "==================================================================================================\n",
            "Total params: 3,931\n",
            "Trainable params: 3,931\n",
            "Non-trainable params: 0\n",
            "__________________________________________________________________________________________________\n"
          ]
        }
      ],
      "source": [
        "input_1 = keras.Input(shape=(10, 10), name='Input_1')\n",
        "input_2 = keras.Input(shape=(10, 28), name='Input_2')\n",
        "\n",
        "hidden1 = layers.Dense(100, activation='relu')(input_2)\n",
        "hidden2 = layers.Dense(10, activation='relu')(hidden1)\n",
        "concat = layers.Concatenate()([input_1, hidden2])\n",
        "output = layers.Dense(1, activation='sigmoid', name='output')(concat)\n",
        "\n",
        "model = models.Model(inputs=[input_1, input_2], outputs=[output])\n",
        "model.summary()"
      ]
    },
    {
      "cell_type": "code",
      "execution_count": null,
      "id": "d638d979",
      "metadata": {
        "id": "d638d979",
        "outputId": "96e152b3-68fa-47ea-d25a-70bb569de2bc"
      },
      "outputs": [
        {
          "data": {
            "image/png": "[encoded data removed]",
            "text/plain": [
              "<IPython.core.display.Image object>"
            ]
          },
          "execution_count": 31,
          "metadata": {},
          "output_type": "execute_result"
        }
      ],
      "source": [
        "utils.plot_model(model)"
      ]
    },
    {
      "cell_type": "markdown",
      "id": "137a3dd8",
      "metadata": {
        "id": "137a3dd8"
      },
      "source": [
        "Functional API를 이용하면 결과를 여러개로 나눠서 사용하는 것도 가능합니다.  "
      ]
    },
    {
      "cell_type": "code",
      "execution_count": null,
      "id": "e6cfaca5",
      "metadata": {
        "id": "e6cfaca5",
        "outputId": "c1238bbd-83ed-4c00-dc97-fafae127c6c9"
      },
      "outputs": [
        {
          "name": "stdout",
          "output_type": "stream",
          "text": [
            "Model: \"model_3\"\n",
            "__________________________________________________________________________________________________\n",
            "Layer (type)                    Output Shape         Param #     Connected to                     \n",
            "==================================================================================================\n",
            "input_ (InputLayer)             [(None, 10, 10)]     0                                            \n",
            "__________________________________________________________________________________________________\n",
            "dense_14 (Dense)                (None, 10, 100)      1100        input_[0][0]                     \n",
            "__________________________________________________________________________________________________\n",
            "dense_15 (Dense)                (None, 10, 10)       1010        dense_14[0][0]                   \n",
            "__________________________________________________________________________________________________\n",
            "main_output (Dense)             (None, 10, 1)        11          dense_15[0][0]                   \n",
            "__________________________________________________________________________________________________\n",
            "sum_output (Dense)              (None, 10, 1)        11          dense_15[0][0]                   \n",
            "==================================================================================================\n",
            "Total params: 2,132\n",
            "Trainable params: 2,132\n",
            "Non-trainable params: 0\n",
            "__________________________________________________________________________________________________\n"
          ]
        }
      ],
      "source": [
        "input_ = keras.Input(shape=(10, 10), name='input_')\n",
        "hidden1 = layers.Dense(100, activation='relu')(input_)\n",
        "hidden2 = layers.Dense(10, activation='relu')(hidden1)\n",
        "output = layers.Dense(1, activation='sigmoid', name='main_output')(hidden2)\n",
        "sub_out = layers.Dense(1, name='sum_output')(hidden2)\n",
        "\n",
        "model = models.Model(inputs=[input_], outputs=[output, sub_out])\n",
        "model.summary()"
      ]
    },
    {
      "cell_type": "code",
      "execution_count": null,
      "id": "2068be42",
      "metadata": {
        "id": "2068be42",
        "outputId": "b2593d50-9ab8-43c0-8990-e6177f25ab73"
      },
      "outputs": [
        {
          "data": {
            "image/png": "[encoded data removed]",
            "text/plain": [
              "<IPython.core.display.Image object>"
            ]
          },
          "execution_count": 33,
          "metadata": {},
          "output_type": "execute_result"
        }
      ],
      "source": [
        "utils.plot_model(model)"
      ]
    },
    {
      "cell_type": "markdown",
      "id": "f1ec38f0",
      "metadata": {
        "id": "f1ec38f0"
      },
      "source": [
        "Functional API를 이용하여 다중 입력과 다중 출력이 가능한 모델도 만들 수 있습니다."
      ]
    },
    {
      "cell_type": "code",
      "execution_count": null,
      "id": "71d8e997",
      "metadata": {
        "id": "71d8e997",
        "outputId": "4e515fe8-a48c-41b3-d9e9-a9f692df55cb"
      },
      "outputs": [
        {
          "name": "stdout",
          "output_type": "stream",
          "text": [
            "Model: \"model_4\"\n",
            "__________________________________________________________________________________________________\n",
            "Layer (type)                    Output Shape         Param #     Connected to                     \n",
            "==================================================================================================\n",
            "input_2 (InputLayer)            [(None, 10, 28)]     0                                            \n",
            "__________________________________________________________________________________________________\n",
            "dense_16 (Dense)                (None, 10, 100)      2900        input_2[0][0]                    \n",
            "__________________________________________________________________________________________________\n",
            "input_1 (InputLayer)            [(None, 10, 10)]     0                                            \n",
            "__________________________________________________________________________________________________\n",
            "dense_17 (Dense)                (None, 10, 10)       1010        dense_16[0][0]                   \n",
            "__________________________________________________________________________________________________\n",
            "concatenate_2 (Concatenate)     (None, 10, 20)       0           input_1[0][0]                    \n",
            "                                                                 dense_17[0][0]                   \n",
            "__________________________________________________________________________________________________\n",
            "main_output (Dense)             (None, 10, 1)        21          concatenate_2[0][0]              \n",
            "__________________________________________________________________________________________________\n",
            "sum_output (Dense)              (None, 10, 1)        11          dense_17[0][0]                   \n",
            "==================================================================================================\n",
            "Total params: 3,942\n",
            "Trainable params: 3,942\n",
            "Non-trainable params: 0\n",
            "__________________________________________________________________________________________________\n"
          ]
        }
      ],
      "source": [
        "input_1 = keras.Input(shape=(10, 10), name='input_1')\n",
        "input_2 = keras.Input(shape=(10, 28), name='input_2')\n",
        "hidden1 = layers.Dense(100, activation='relu')(input_2)\n",
        "hidden2 = layers.Dense(10, activation='relu')(hidden1)\n",
        "concat = layers.Concatenate()([input_1, hidden2])\n",
        "output = layers.Dense(1, activation='sigmoid', name='main_output')(concat)\n",
        "sub_out = layers.Dense(1, name='sum_output')(hidden2)\n",
        "\n",
        "model = models.Model(inputs=[input_1, input_2], outputs=[output, sub_out])\n",
        "model.summary()"
      ]
    },
    {
      "cell_type": "code",
      "execution_count": null,
      "id": "f4ce030e",
      "metadata": {
        "id": "f4ce030e",
        "outputId": "6401fef6-ddb8-4409-e6d2-8f39636c7b1f"
      },
      "outputs": [
        {
          "data": {
            "image/png": "[encoded data removed]",
            "text/plain": [
              "<IPython.core.display.Image object>"
            ]
          },
          "execution_count": 36,
          "metadata": {},
          "output_type": "execute_result"
        }
      ],
      "source": [
        "utils.plot_model(model)"
      ]
    },
    {
      "cell_type": "markdown",
      "id": "3eb14182",
      "metadata": {
        "id": "3eb14182"
      },
      "source": [
        "**Subclassing API**\n",
        "\n",
        "서브클래싱(Subclassing) 방법은 커스터마이징에 최적화된 방법으로, Model 클래스를 상속받아서 사용하고 모델에 포함되는 다음과 같은 기능을 사용할 수 있습니다.  \n",
        "\n",
        "* `fit()`: 모델 학습  \n",
        "* `evaluate()`: 모델 평가  \n",
        "* `predict()`: 모델 예측  \n",
        "* `save()`: 모델 저장  \n",
        "* `load()`: 모델 불러오기  \n",
        "* `call()`: 메소드안에서 원하는 계산 가능  \n",
        "\n",
        "Subclassing API를 사용하면 Functional API로도 구현할 수 없는 모델들도 구현이 가능하지만, 객체지향 프로그래밍(Object-oriented Programming)에 익숙해야 합니다.  "
      ]
    },
    {
      "cell_type": "code",
      "execution_count": null,
      "id": "8e4c89f0",
      "metadata": {
        "id": "8e4c89f0"
      },
      "outputs": [],
      "source": [
        "# Subclassing API의 예시\n",
        "\n",
        "class MyModel(models.Model):\n",
        "\n",
        "  def __init__(self, units=30, activation='relu', **kwargs):\n",
        "    super(MyModel, self).__init__(**kwargs)\n",
        "    self.dense_layer1 = layers.Dense(300, activation=activation)\n",
        "    self.dense_layer2 = layers.Dense(100, activation=activation)\n",
        "    self.dense_layer3 = layers.Dense(units, activation=activation)\n",
        "    self.output_layer = layers.Dense(10, activation='softmax')\n",
        "\n",
        "  def call(self, inputs):\n",
        "    x = self.dense_layer1(inputs)\n",
        "    x = self.dense_layer2(x)\n",
        "    x = self.dense_layer3(x)\n",
        "    x = self.output_layer(x)\n",
        "    return x"
      ]
    },
    {
      "cell_type": "markdown",
      "id": "3a9a5e47",
      "metadata": {
        "id": "3a9a5e47"
      },
      "source": [
        "**Q. 아래 주석을 따라 Seqential API 모델을 완성해 보세요.**"
      ]
    },
    {
      "cell_type": "code",
      "execution_count": null,
      "id": "c4c1aa2e",
      "metadata": {
        "id": "c4c1aa2e",
        "outputId": "db1693dd-6aac-4fa0-f84e-31eb71da53ca"
      },
      "outputs": [
        {
          "name": "stdout",
          "output_type": "stream",
          "text": [
            "Model: \"sequential_2\"\n",
            "_________________________________________________________________\n",
            "Layer (type)                 Output Shape              Param #   \n",
            "=================================================================\n",
            "flatten_5 (Flatten)          (None, 30000)             0         \n",
            "_________________________________________________________________\n",
            "dense_24 (Dense)             (None, 400)               12000400  \n",
            "_________________________________________________________________\n",
            "dense_25 (Dense)             (None, 200)               80200     \n",
            "_________________________________________________________________\n",
            "dense_26 (Dense)             (None, 100)               20100     \n",
            "=================================================================\n",
            "Total params: 12,100,700\n",
            "Trainable params: 12,100,700\n",
            "Non-trainable params: 0\n",
            "_________________________________________________________________\n"
          ]
        }
      ],
      "source": [
        "model = models.Sequential()\n",
        "\n",
        "# (100, 100, 3) 형태의 데이터를 받는 Input 레이어를 쌓으세요.\n",
        "model.add(layers.Input(shape=(100, 100, 3)))\n",
        "\n",
        "# Flatten 레이어를 쌓으세요.\n",
        "model.add(layers.Flatten(input_shape=(100, 100, 3)))\n",
        "\n",
        "# Unit의 수는 400, 활성화함수는 ReLU를 사용하는 Dense 레이어를 쌓으세요.\n",
        "model.add(layers.Dense(400, activation='relu'))\n",
        "\n",
        "# Unit의 수는 200, 활성화함수는 ReLU를 사용하는 Dense 레이어를 쌓으세요.\n",
        "model.add(layers.Dense(200, activation='relu'))\n",
        "\n",
        "# Unit의 수는 100, 활성화함수는 Softmax를 사용하는 Dense 레이어를 쌓으세요.\n",
        "model.add(layers.Dense(100, activation='softmax'))\n",
        "\n",
        "model.summary()"
      ]
    },
    {
      "cell_type": "markdown",
      "id": "903756b8",
      "metadata": {
        "id": "903756b8"
      },
      "source": [
        "**Q. 아래 주석을 따라 Functional API 모델을 완성해 보세요.**"
      ]
    },
    {
      "cell_type": "code",
      "execution_count": null,
      "id": "bf5fbef7",
      "metadata": {
        "id": "bf5fbef7",
        "outputId": "8e76be29-6640-4fbb-a419-8cecc881f53c"
      },
      "outputs": [
        {
          "name": "stdout",
          "output_type": "stream",
          "text": [
            "Model: \"model_5\"\n",
            "_________________________________________________________________\n",
            "Layer (type)                 Output Shape              Param #   \n",
            "=================================================================\n",
            "input_10 (InputLayer)        [(None, 100, 100, 3)]     0         \n",
            "_________________________________________________________________\n",
            "flatten_4 (Flatten)          (None, 30000)             0         \n",
            "_________________________________________________________________\n",
            "dense_21 (Dense)             (None, 400)               12000400  \n",
            "_________________________________________________________________\n",
            "dense_22 (Dense)             (None, 200)               80200     \n",
            "_________________________________________________________________\n",
            "dense_23 (Dense)             (None, 100)               20100     \n",
            "=================================================================\n",
            "Total params: 12,100,700\n",
            "Trainable params: 12,100,700\n",
            "Non-trainable params: 0\n",
            "_________________________________________________________________\n"
          ]
        }
      ],
      "source": [
        "# (100, 100, 3) 형태의 데이터를 받는 Input 레이어를 쌓으세요\n",
        "inputs = layers.Input(shape=(100, 100, 3))\n",
        "\n",
        "# Flatten 레이어를 쌓으세요.\n",
        "x = layers.Flatten(input_shape=(100, 100, 3))(inputs)\n",
        "\n",
        "# Unit의 수는 400, 활성화함수는 ReLU를 사용하는 Dense 레이어를 쌓으세요.\n",
        "x = layers.Dense(400, activation='relu')(x)\n",
        "\n",
        "# Unit의 수는 200, 활성화함수는 ReLU를 사용하는 Dense 레이어를 쌓으세요.\n",
        "x = layers.Dense(200, activation='relu')(x)\n",
        "\n",
        "# Unit의 수는 100, 활성화함수는 Softmax를 사용하는 Dense 레이어를 쌓으세요.\n",
        "x = layers.Dense(100, activation='softmax')(x)\n",
        "\n",
        "model = models.Model(inputs = inputs, outputs = x)\n",
        "model.summary()"
      ]
    },
    {
      "cell_type": "markdown",
      "id": "b48c40ab",
      "metadata": {
        "id": "b48c40ab"
      },
      "source": [
        "**Subclassing API의 경우도 방금처럼 동일한 모델을 한 번 더 구현해보겠습니다. 아래 주석을 따라 Subclassing API 모델을 완성해 보세요.**"
      ]
    },
    {
      "cell_type": "code",
      "execution_count": null,
      "id": "604f4c1a",
      "metadata": {
        "id": "604f4c1a",
        "outputId": "74dbce1d-5e22-484f-92fb-feb065d81874"
      },
      "outputs": [
        {
          "name": "stdout",
          "output_type": "stream",
          "text": [
            "Model: \"your_model\"\n",
            "_________________________________________________________________\n",
            "Layer (type)                 Output Shape              Param #   \n",
            "=================================================================\n",
            "flatten_3 (Flatten)          multiple                  0         \n",
            "_________________________________________________________________\n",
            "dense_18 (Dense)             multiple                  12000400  \n",
            "_________________________________________________________________\n",
            "dense_19 (Dense)             multiple                  80200     \n",
            "_________________________________________________________________\n",
            "dense_20 (Dense)             multiple                  20100     \n",
            "=================================================================\n",
            "Total params: 12,100,700\n",
            "Trainable params: 12,100,700\n",
            "Non-trainable params: 0\n",
            "_________________________________________________________________\n"
          ]
        }
      ],
      "source": [
        "import tensorflow as tf\n",
        "from tensorflow.keras import layers, models\n",
        "\n",
        "class YourModel(models.Model):\n",
        "    def __init__(self, **kwargs):\n",
        "        super(YourModel, self).__init__(**kwargs)\n",
        "        # Flatten 레이어를 쌓으세요.\n",
        "        self.flat_layer = layers.Flatten()\n",
        "        # Unit의 수는 400, 활성화함수는 ReLU를 사용하는 Dense 레이어를 쌓으세요.\n",
        "        self.dense_layer1 = layers.Dense(400, activation='relu')\n",
        "        # Unit의 수는 200, 활성화함수는 ReLU를 사용하는 Dense 레이어를 쌓으세요.\n",
        "        self.dense_layer2 = layers.Dense(200, activation='relu')\n",
        "        # Unit의 수는 100, 활성화함수는 Softmax를 사용하는 Dense 레이어를 쌓으세요.\n",
        "        self.output_layer = layers.Dense(100, activation='softmax')\n",
        "\n",
        "    def call(self, inputs):\n",
        "        # Flatten 레이어를 통과한 뒤 Dense 레이어를 400 -> 200 -> 100 순으로 쌓으세요.\n",
        "        x = self.flat_layer(inputs)\n",
        "        x = self.dense_layer1(x)\n",
        "        x = self.dense_layer2(x)\n",
        "        x = self.output_layer(x)\n",
        "        return x\n",
        "\n",
        "# (100, 100, 3) 형태를 가진 임의의 텐서를 생성해줍니다.\n",
        "data = tf.random.normal([100, 100, 3])\n",
        "# 데이터는 일반적으로 batch 단위로 들어가기 때문에 batch 차원을 추가해주겠습니다.\n",
        "data = tf.reshape(data, (-1, 100, 100, 3))\n",
        "model = YourModel()\n",
        "model(data)\n",
        "\n",
        "model.summary()"
      ]
    },
    {
      "cell_type": "markdown",
      "id": "fe87e299",
      "metadata": {
        "id": "fe87e299"
      },
      "source": [
        "**Q. Functional API 방식 혹은 Subclassing API 방식으로 예제 모델을 구현해주세요.**"
      ]
    },
    {
      "cell_type": "code",
      "execution_count": null,
      "id": "11733da0",
      "metadata": {
        "id": "11733da0",
        "outputId": "d9212dc9-0b84-4956-cb0f-18dc7d659b9e"
      },
      "outputs": [
        {
          "name": "stdout",
          "output_type": "stream",
          "text": [
            "Model: \"model_62\"\n",
            "__________________________________________________________________________________________________\n",
            "Layer (type)                    Output Shape         Param #     Connected to                     \n",
            "==================================================================================================\n",
            "Input_1 (InputLayer)            [(None, 40)]         0                                            \n",
            "__________________________________________________________________________________________________\n",
            "Input_2 (InputLayer)            [(None, 10)]         0                                            \n",
            "__________________________________________________________________________________________________\n",
            "dense (Dense)                   (None, 100)          4100        Input_1[0][0]                    \n",
            "__________________________________________________________________________________________________\n",
            "dense_1 (Dense)                 (None, 100)          1100        Input_2[0][0]                    \n",
            "__________________________________________________________________________________________________\n",
            "concatenate (Concatenate)       (None, 200)          0           dense[0][0]                      \n",
            "                                                                 dense_1[0][0]                    \n",
            "__________________________________________________________________________________________________\n",
            "dense_3 (Dense)                 (None, 1)            201         concatenate[0][0]                \n",
            "__________________________________________________________________________________________________\n",
            "dense_2 (Dense)                 (None, 40)           8040        concatenate[0][0]                \n",
            "__________________________________________________________________________________________________\n",
            "dense_4 (Dense)                 (None, 10)           20          dense_3[0][0]                    \n",
            "==================================================================================================\n",
            "Total params: 13,461\n",
            "Trainable params: 13,461\n",
            "Non-trainable params: 0\n",
            "__________________________________________________________________________________________________\n"
          ]
        }
      ],
      "source": [
        "input_1 = keras.Input(shape=(40), name='Input_1')\n",
        "input_2 = keras.Input(shape=(10), name='Input_2')\n",
        "\n",
        "hidden1 = layers.Dense(100, activation='relu', name='dense')(input_1)\n",
        "hidden2 = layers.Dense(100, activation='relu', name='dense_1')(input_2)\n",
        "\n",
        "concat = layers.Concatenate(name='concatenate')([hidden1, hidden2])\n",
        "\n",
        "output1 = layers.Dense(40, activation='sigmoid', name='dense_2')(concat)\n",
        "output2 = layers.Dense(1, activation='sigmoid', name='dense_3')(concat)\n",
        "\n",
        "hidden3 = layers.Dense(10, activation='relu', name='dense_4')(output2)\n",
        "\n",
        "# 두 개의 출력을 가지는 모델을 정의합니다.\n",
        "model = keras.Model(inputs=[input_1, input_2], outputs=[output1, hidden3])\n",
        "model.summary()"
      ]
    },
    {
      "cell_type": "code",
      "execution_count": null,
      "id": "7577f636",
      "metadata": {
        "id": "7577f636",
        "outputId": "e49f1108-2a73-4b9c-cdf0-1c1ffb6cc7cc"
      },
      "outputs": [
        {
          "data": {
            "image/png": "[encoded data removed]",
            "text/plain": [
              "<IPython.core.display.Image object>"
            ]
          },
          "execution_count": 115,
          "metadata": {},
          "output_type": "execute_result"
        }
      ],
      "source": [
        "utils.plot_model(model)"
      ]
    },
    {
      "cell_type": "markdown",
      "id": "c92640fd",
      "metadata": {
        "id": "c92640fd"
      },
      "source": [
        "### 4. 딥러닝 모델 학습\n",
        "\n",
        "**학습 목표**  \n",
        "\n",
        "1. 딥러닝 모델을 학습하기 위한 개념을 설명할 수 있습니다.\n",
        "2. 손실 함수, 옵티마이저, 지표에 대해서 설명할 수 있습니다."
      ]
    },
    {
      "cell_type": "markdown",
      "id": "31432c15",
      "metadata": {
        "id": "31432c15"
      },
      "source": [
        "**Q. 손실 함수는 어떤 일을 해주나요?**\n",
        "\n",
        "```\n",
        "손실함수는 학습이 진행되면서 해당 과정이 얼마나 잘 되고 있는지 나타내는 지표로서 모델이 훈련되는 동안 최소화될 값으로 주어진 문제에 대한 성공 지표가 됩니다. 손실 함수에 따른 결과를 통해 파라미터를 조정하며 학습이 진행됩니다. 손실함수는 최적화 이론에서 최소화 하고자 하는 함수로 미분 가능한 함수를 사용합니다.\n",
        "```\n",
        "\n",
        "**Q. 평균절대오차(Mean Absolute Error, MAE)는 평균제곱오차(Mean Squared Error, MSE)는 서로 어떤 공통점과 차이점이 있나요?**\n",
        "\n",
        "```\n",
        "둘 다 오차를 기준으로 총합을 해 평균을 구하며 각각의 오차를 절대 값으로 다룰지 혹은 제곱 값으로 처리하는지가 다릅니다.\n",
        "```\n",
        "\n",
        "**Q. 평균절대오차(Mean Absolute Error, MAE)는 평균제곱오차(Mean Squared Error, MSE)와 비교했을 때 어떻게 이상치에 강건할 수 있나요?**\n",
        "\n",
        "```\n",
        "오차가 매우 크더라도(outlier) 제곱항으로 영향을 미치는 것이 아니라 차이의 절대값만큼만 영향을 미치기 때문에 MSE에 비해 상대적으로 이상치에 더 강건합니다.\n",
        "```\n",
        "\n",
        "**Q. 경사하강법은 무슨 일을 하나요?**\n",
        "\n",
        "```\n",
        "옵티마이저는 손실 함수를 기반으로 모델이 어떻게 업데이트되어야 하는지 결정합니다. Keras에서 여러 옵티마이저를 제공하고, 사용자는 특정 종류의 확률적 경사 하강법을 지정할 수 있습니다.\n",
        "```\n",
        "\n",
        "**Q. 왜 경사하강법으로는 안장점(Saddle point)에서 벗어나지 못할까요?**\n",
        "\n",
        "```\n",
        "기울기의 반대 방향으로 다음 위치를 이동해야하는데 기울기 값이 0이라 이동하지 못합니다.\n",
        "```\n",
        "\n",
        "**Q. 학습률은 어디에 사용되고 잘못 설정한 경우 어떤 문제가 발생할 수 있나요?**\n",
        "\n",
        "```\n",
        "경사하강법을 통해 손실함수의 반대 기울기 방향으로 업데이트 할 때 업데이트 되는 크기에 관여하며 잘못 설정한 경우 손실함수의 최저점에 도달하지 못할 수 있습니다.\n",
        "```\n",
        "\n",
        "**Q. 지금까지 배운 개념들을 종합해 딥러닝의 학습은 어떤 식으로 이뤄지는지 적어주세요.**\n",
        "\n",
        "```\n",
        "먼저 데이터셋을 입력 X와 실제 정답(레이블)인 Y로 구분합니다.\n",
        "입력 데이터는 연속된 레이어로 구성된 네트워크(모델)를 통해 결과로 예측 Y'을 출력합니다.\n",
        "손실 함수는 모델이 예측한 Y'과 실제 정답인 Y와 비교하여 얼마나 차이가 나는지 측정하는 손실 값을 계산합니다.\n",
        "옵티마이저는 손실 값을 사용하여 모델의 가중치를 업데이트하는 과정을 수행합니다.\n",
        "모델이 새롭게 예측한 Y'과 실제 정답인 Y의 차이를 측정하는 손실 값을 계산하는 과정을 반복합니다.\n",
        "계산한 손실값을 최소화하도록 옵티마이저가 동작하는 것이 딥러닝 모델 학습입니다.\n",
        "```"
      ]
    },
    {
      "cell_type": "markdown",
      "id": "d8695174",
      "metadata": {
        "id": "d8695174"
      },
      "source": [
        "**데이터 생성**\n",
        "\n",
        "선형회귀(Linear Regression)를 위한 딥러닝 모델 을 만들어보도록 하겠습니다. 먼저 데이터셋을 make_regression 함수를 이용하여 입력\n",
        "X와 정답 y로 샘플 갯수(n_samples) 200개, 특징 갯수(n_featrues) 1개에 바이어스(bias)는 5.0, 노이즈(noise)는 5.0으로 지정하고, random_state는 123으로 하여 랜덤 시드를 지정해줍니다."
      ]
    },
    {
      "cell_type": "code",
      "execution_count": null,
      "id": "c5e34c76",
      "metadata": {
        "id": "c5e34c76",
        "outputId": "ad1e462d-d502-470b-c255-aec138eafb1d"
      },
      "outputs": [
        {
          "data": {
            "image/png": "[encoded data removed]",
            "text/plain": [
              "<Figure size 432x288 with 1 Axes>"
            ]
          },
          "metadata": {
            "needs_background": "light"
          },
          "output_type": "display_data"
        }
      ],
      "source": [
        "import numpy as np\n",
        "import matplotlib.pyplot as plt\n",
        "from sklearn.datasets import make_regression\n",
        "\n",
        "X, y = make_regression(n_samples=200, n_features=1,\n",
        "                       bias=5.0, noise=5.0, random_state=123)\n",
        "y = np.expand_dims(y, axis=1)\n",
        "\n",
        "plt.scatter(X, y)\n",
        "plt.show()"
      ]
    },
    {
      "cell_type": "markdown",
      "id": "305ac192",
      "metadata": {
        "id": "305ac192"
      },
      "source": [
        "데이터는 학습용 데이터셋(x_train, y_train), 테스트용 데이터셋(x_test, y_test)으로 구분합니다."
      ]
    },
    {
      "cell_type": "code",
      "execution_count": null,
      "id": "7137c36b",
      "metadata": {
        "id": "7137c36b",
        "outputId": "a88139ef-da28-49bd-8105-167f45f963ce"
      },
      "outputs": [
        {
          "name": "stdout",
          "output_type": "stream",
          "text": [
            "(160, 1) (160, 1)\n",
            "(40, 1) (40, 1)\n"
          ]
        }
      ],
      "source": [
        "from sklearn.model_selection import train_test_split\n",
        "\n",
        "x_train, x_test, y_train, y_test = train_test_split(X, y,\n",
        "                                                    test_size=0.2,\n",
        "                                                    shuffle=True,\n",
        "                                                    random_state=123)\n",
        "\n",
        "print(x_train.shape, y_train.shape)\n",
        "print(x_test.shape, y_test.shape)"
      ]
    },
    {
      "cell_type": "markdown",
      "id": "352ebe74",
      "metadata": {
        "id": "352ebe74"
      },
      "source": [
        "**모델 생성**\n",
        "\n",
        "먼저 딥러닝을 사용하는데 필요한 라이브러리인 Tensorflow와 keras를 임포트합니다. 케라스(Keras)의 모델, 레이어, 옵티마이저, 유틸을 사용할 수 있도록 models, layers, optimizer, utils도 임포트합니다."
      ]
    },
    {
      "cell_type": "code",
      "execution_count": null,
      "id": "11d9575f",
      "metadata": {
        "id": "11d9575f"
      },
      "outputs": [],
      "source": [
        "import tensorflow as tf\n",
        "from tensorflow import keras\n",
        "from tensorflow.keras import models, layers, optimizers, utils"
      ]
    },
    {
      "cell_type": "markdown",
      "id": "af206fe6",
      "metadata": {
        "id": "af206fe6"
      },
      "source": [
        "모델은 간단하게 Sequential()을 이용해 선언하고, Dense 레이어 하나를 추가해줍니다. 레이어의 유닛수는 1개이고, activation은 선형 회귀이니 'linear'로 지정하며, input_shape은 (1,) 으로 1차원 모양으로 입력 모양을 가집니다. 최종 모델의 구조를 summary() 함수를 통해 확인해봅니다."
      ]
    },
    {
      "cell_type": "code",
      "execution_count": null,
      "id": "1c4709b3",
      "metadata": {
        "id": "1c4709b3",
        "outputId": "e4c9efc1-9414-4bb6-b291-ce9fe6d89691"
      },
      "outputs": [
        {
          "name": "stdout",
          "output_type": "stream",
          "text": [
            "Model: \"sequential\"\n",
            "_________________________________________________________________\n",
            "Layer (type)                 Output Shape              Param #   \n",
            "=================================================================\n",
            "dense (Dense)                (None, 1)                 2         \n",
            "=================================================================\n",
            "Total params: 2\n",
            "Trainable params: 2\n",
            "Non-trainable params: 0\n",
            "_________________________________________________________________\n"
          ]
        }
      ],
      "source": [
        "model = keras.Sequential()\n",
        "model.add(layers.Dense(1, activation='linear', input_shape=(1,)))\n",
        "model.summary()"
      ]
    },
    {
      "cell_type": "code",
      "execution_count": null,
      "id": "7f795387",
      "metadata": {
        "id": "7f795387",
        "outputId": "ed5c9381-d7c7-4738-9e23-7a0c018ad13a"
      },
      "outputs": [
        {
          "data": {
            "image/png": "[encoded data removed]",
            "text/plain": [
              "<IPython.core.display.Image object>"
            ]
          },
          "execution_count": 5,
          "metadata": {},
          "output_type": "execute_result"
        }
      ],
      "source": [
        "utils.plot_model(model)"
      ]
    },
    {
      "cell_type": "markdown",
      "id": "ec20555b",
      "metadata": {
        "id": "ec20555b"
      },
      "source": [
        "**모델 학습**\n",
        "\n",
        "딥러닝 모델의 학습 진행 방식을 결정하는 옵티마이저(optimizer)로 SGD(Stochastic Gradient Descent) 를 사용합니다. compile() 함수를 통해서 손실 함수(loss function), 옵티마이저(optimizer), 지표(metrics)를 지정합니다.\n",
        "\n",
        "모델의 학습에 필요한 손실 함수로 mse를 지정하여 Mean Square Error를 사용하고, 옵티마이저는 정의했던 SGD를 사용합니다. 지표로는 mae와 mse를 사용하는데 여기서 MAE는 Mean Absolute Error를 의미합니다.\n",
        "\n",
        "이제 모델 학습을 진행하기위해 fit() 함수를 호출합니다. 학습을 위해 x_train과 y_train를 지정하고, 학습 반복 횟수인 epochs를 40으로 지정합니다."
      ]
    },
    {
      "cell_type": "code",
      "execution_count": null,
      "id": "b274c1d2",
      "metadata": {
        "id": "b274c1d2",
        "outputId": "a1c3e062-4d25-423c-ba56-d902a5f4a7f7"
      },
      "outputs": [
        {
          "name": "stdout",
          "output_type": "stream",
          "text": [
            "Epoch 1/40\n",
            "5/5 [==============================] - 1s 2ms/step - loss: 520.2603 - mae: 18.3953 - mse: 520.2603\n",
            "Epoch 2/40\n",
            "5/5 [==============================] - 0s 3ms/step - loss: 417.3107 - mae: 16.4537 - mse: 417.3107\n",
            "Epoch 3/40\n",
            "5/5 [==============================] - 0s 4ms/step - loss: 337.0025 - mae: 14.7917 - mse: 337.0025\n",
            "Epoch 4/40\n",
            "5/5 [==============================] - 0s 3ms/step - loss: 272.6486 - mae: 13.2845 - mse: 272.6486\n",
            "Epoch 5/40\n",
            "5/5 [==============================] - 0s 11ms/step - loss: 221.5103 - mae: 11.9503 - mse: 221.5103\n",
            "Epoch 6/40\n",
            "5/5 [==============================] - 0s 2ms/step - loss: 180.3677 - mae: 10.7766 - mse: 180.3677\n",
            "Epoch 7/40\n",
            "5/5 [==============================] - 0s 5ms/step - loss: 147.9547 - mae: 9.7764 - mse: 147.9547\n",
            "Epoch 8/40\n",
            "5/5 [==============================] - 0s 6ms/step - loss: 122.0087 - mae: 8.8833 - mse: 122.0087\n",
            "Epoch 9/40\n",
            "5/5 [==============================] - 0s 4ms/step - loss: 101.5189 - mae: 8.0572 - mse: 101.5189\n",
            "Epoch 10/40\n",
            "5/5 [==============================] - 0s 12ms/step - loss: 84.9610 - mae: 7.3840 - mse: 84.9610\n",
            "Epoch 11/40\n",
            "5/5 [==============================] - 0s 4ms/step - loss: 71.9426 - mae: 6.7997 - mse: 71.9426\n",
            "Epoch 12/40\n",
            "5/5 [==============================] - 0s 4ms/step - loss: 61.4393 - mae: 6.2890 - mse: 61.4393\n",
            "Epoch 13/40\n",
            "5/5 [==============================] - 0s 4ms/step - loss: 53.1210 - mae: 5.8444 - mse: 53.1210\n",
            "Epoch 14/40\n",
            "5/5 [==============================] - 0s 4ms/step - loss: 46.5374 - mae: 5.4549 - mse: 46.5374\n",
            "Epoch 15/40\n",
            "5/5 [==============================] - 0s 4ms/step - loss: 41.2179 - mae: 5.1001 - mse: 41.2179\n",
            "Epoch 16/40\n",
            "5/5 [==============================] - 0s 4ms/step - loss: 37.1176 - mae: 4.8215 - mse: 37.1176\n",
            "Epoch 17/40\n",
            "5/5 [==============================] - 0s 3ms/step - loss: 33.7274 - mae: 4.5955 - mse: 33.7274\n",
            "Epoch 18/40\n",
            "5/5 [==============================] - 0s 2ms/step - loss: 31.0478 - mae: 4.3984 - mse: 31.0478\n",
            "Epoch 19/40\n",
            "5/5 [==============================] - 0s 2ms/step - loss: 28.9767 - mae: 4.2283 - mse: 28.9767\n",
            "Epoch 20/40\n",
            "5/5 [==============================] - 0s 4ms/step - loss: 27.2432 - mae: 4.0970 - mse: 27.2432\n",
            "Epoch 21/40\n",
            "5/5 [==============================] - 0s 3ms/step - loss: 25.9022 - mae: 3.9927 - mse: 25.9022\n",
            "Epoch 22/40\n",
            "5/5 [==============================] - 0s 2ms/step - loss: 24.8550 - mae: 3.9143 - mse: 24.8550\n",
            "Epoch 23/40\n",
            "5/5 [==============================] - 0s 4ms/step - loss: 23.9518 - mae: 3.8462 - mse: 23.9518\n",
            "Epoch 24/40\n",
            "5/5 [==============================] - 0s 3ms/step - loss: 23.2949 - mae: 3.8032 - mse: 23.2949\n",
            "Epoch 25/40\n",
            "5/5 [==============================] - 0s 3ms/step - loss: 22.7672 - mae: 3.7660 - mse: 22.7672\n",
            "Epoch 26/40\n",
            "5/5 [==============================] - 0s 5ms/step - loss: 22.3024 - mae: 3.7345 - mse: 22.3024\n",
            "Epoch 27/40\n",
            "5/5 [==============================] - 0s 13ms/step - loss: 21.9509 - mae: 3.7050 - mse: 21.9509\n",
            "Epoch 28/40\n",
            "5/5 [==============================] - 0s 3ms/step - loss: 21.6818 - mae: 3.6875 - mse: 21.6818\n",
            "Epoch 29/40\n",
            "5/5 [==============================] - 0s 2ms/step - loss: 21.4689 - mae: 3.6638 - mse: 21.4689\n",
            "Epoch 30/40\n",
            "5/5 [==============================] - 0s 2ms/step - loss: 21.3120 - mae: 3.6553 - mse: 21.3120\n",
            "Epoch 31/40\n",
            "5/5 [==============================] - 0s 4ms/step - loss: 21.1877 - mae: 3.6486 - mse: 21.1877\n",
            "Epoch 32/40\n",
            "5/5 [==============================] - 0s 3ms/step - loss: 21.0541 - mae: 3.6377 - mse: 21.0541\n",
            "Epoch 33/40\n",
            "5/5 [==============================] - 0s 2ms/step - loss: 20.9803 - mae: 3.6287 - mse: 20.9803\n",
            "Epoch 34/40\n",
            "5/5 [==============================] - 0s 4ms/step - loss: 20.8967 - mae: 3.6217 - mse: 20.8967\n",
            "Epoch 35/40\n",
            "5/5 [==============================] - 0s 3ms/step - loss: 20.8393 - mae: 3.6177 - mse: 20.8393\n",
            "Epoch 36/40\n",
            "5/5 [==============================] - 0s 3ms/step - loss: 20.8161 - mae: 3.6144 - mse: 20.8161\n",
            "Epoch 37/40\n",
            "5/5 [==============================] - 0s 3ms/step - loss: 20.7520 - mae: 3.6089 - mse: 20.7520\n",
            "Epoch 38/40\n",
            "5/5 [==============================] - 0s 2ms/step - loss: 20.7515 - mae: 3.6087 - mse: 20.7515\n",
            "Epoch 39/40\n",
            "5/5 [==============================] - 0s 2ms/step - loss: 20.7215 - mae: 3.6018 - mse: 20.7215\n",
            "Epoch 40/40\n",
            "5/5 [==============================] - 0s 2ms/step - loss: 20.6927 - mae: 3.6022 - mse: 20.6927\n"
          ]
        }
      ],
      "source": [
        "optimizer = optimizers.SGD()\n",
        "model.compile(loss='mse', optimizer=optimizer, metrics=['mae', 'mse'])\n",
        "history = model.fit(x_train, y_train, epochs=40)"
      ]
    },
    {
      "cell_type": "markdown",
      "id": "c5b178e0",
      "metadata": {
        "id": "c5b178e0"
      },
      "source": [
        "모델이 학습하면서 각 epoch 마다 저장한 mae와 mse 지표를 차트를 통해서 확인합니다."
      ]
    },
    {
      "cell_type": "code",
      "execution_count": null,
      "id": "79043c0d",
      "metadata": {
        "id": "79043c0d",
        "outputId": "fb82353e-1b80-40f8-d90c-08961d19a081"
      },
      "outputs": [
        {
          "data": {
            "image/png": "[encoded data removed]",
            "text/plain": [
              "<Figure size 432x288 with 1 Axes>"
            ]
          },
          "metadata": {
            "needs_background": "light"
          },
          "output_type": "display_data"
        }
      ],
      "source": [
        "plt.plot(history.history['mae'])\n",
        "plt.plot(history.history['mse'])\n",
        "plt.xlabel('Epoch')\n",
        "plt.legend(['mae', 'mse'])\n",
        "plt.show();"
      ]
    },
    {
      "cell_type": "markdown",
      "id": "0cb28ac6",
      "metadata": {
        "id": "0cb28ac6"
      },
      "source": [
        "**모델 평가**\n",
        "\n",
        "이제 모델의 평가를 위해 evaluate() 함수를 이용하여 데이터셋인 x_test, y_test에 대해서 지표인 mae와 mse를 확인합니다."
      ]
    },
    {
      "cell_type": "code",
      "execution_count": null,
      "id": "878a3b41",
      "metadata": {
        "id": "878a3b41",
        "outputId": "3f1b8e94-33a9-4a7c-d8f5-6e847e136ce5"
      },
      "outputs": [
        {
          "name": "stdout",
          "output_type": "stream",
          "text": [
            "2/2 [==============================] - 0s 9ms/step - loss: 21.8890 - mae: 3.9864 - mse: 21.8890\n"
          ]
        },
        {
          "data": {
            "text/plain": [
              "[21.889034271240234, 3.986377716064453, 21.889034271240234]"
            ]
          },
          "execution_count": 8,
          "metadata": {},
          "output_type": "execute_result"
        }
      ],
      "source": [
        "model.evaluate(x_test, y_test)"
      ]
    },
    {
      "cell_type": "markdown",
      "id": "e0fce7b1",
      "metadata": {
        "id": "e0fce7b1"
      },
      "source": [
        "**모델 예측**\n",
        "\n",
        "학습된 모델을 통해 입력 데이터 X에 대한 예측값을 predict()를 통해 결과로 받아옵니다. 실제 데이터의 결과값 y와 모델의 예측 결과인 result를 살펴봅니다."
      ]
    },
    {
      "cell_type": "code",
      "execution_count": null,
      "id": "cd24e251",
      "metadata": {
        "id": "cd24e251",
        "outputId": "f0748457-37da-4484-d353-ee396848ee2b"
      },
      "outputs": [
        {
          "data": {
            "image/png": "[encoded data removed]",
            "text/plain": [
              "<Figure size 432x288 with 1 Axes>"
            ]
          },
          "metadata": {
            "needs_background": "light"
          },
          "output_type": "display_data"
        }
      ],
      "source": [
        "result = model.predict(X)\n",
        "\n",
        "plt.scatter(X, y)\n",
        "plt.plot(X, result, 'r')\n",
        "plt.show()"
      ]
    },
    {
      "cell_type": "markdown",
      "id": "0e43d98d",
      "metadata": {
        "id": "0e43d98d"
      },
      "source": [
        "딥러닝 모델에서 사용한 레이어를 layers로 접근하여 살펴볼 수 있습니다. 여기에서는 Dense 레이어 하나만 사용된 것을 알 수 있습니다."
      ]
    },
    {
      "cell_type": "code",
      "execution_count": null,
      "id": "2fda250f",
      "metadata": {
        "id": "2fda250f",
        "outputId": "1f335cc1-53ed-45fc-cd6c-6158e65a266e"
      },
      "outputs": [
        {
          "data": {
            "text/plain": [
              "[<keras.layers.core.Dense at 0x7f604af0c7c0>]"
            ]
          },
          "execution_count": 10,
          "metadata": {},
          "output_type": "execute_result"
        }
      ],
      "source": [
        "model.layers"
      ]
    },
    {
      "cell_type": "markdown",
      "id": "029c99d2",
      "metadata": {
        "id": "029c99d2"
      },
      "source": [
        "모델의 0번째 레이어인 layers[0]를 가져와서 layer.name으로 레이어의 이름을 확인할 수 있습니다. 또한, get_layer() 함수를 통해 같은 이름의 레이어를 얻을 수도 있습니다."
      ]
    },
    {
      "cell_type": "code",
      "execution_count": null,
      "id": "5fd02298",
      "metadata": {
        "id": "5fd02298",
        "outputId": "49022305-f1fa-43ed-dc51-bb7dab0e6771"
      },
      "outputs": [
        {
          "name": "stdout",
          "output_type": "stream",
          "text": [
            "dense\n",
            "dense\n"
          ]
        }
      ],
      "source": [
        "layer = model.layers[0]\n",
        "print(layer.name)\n",
        "layer = model.get_layer('dense')\n",
        "print(layer.name)"
      ]
    },
    {
      "cell_type": "markdown",
      "id": "4121d74d",
      "metadata": {
        "id": "4121d74d"
      },
      "source": [
        "레이어에서 사용하는 가중치(weights)와 바이어스(biases)를 get_weights() 함수를 통해서 얻을 수 있습니다. 즉, 레이어에 있는 가중치와 바이어스를 통해 선형 회귀식을 얻을 수 있습니다."
      ]
    },
    {
      "cell_type": "code",
      "execution_count": null,
      "id": "778879eb",
      "metadata": {
        "id": "778879eb",
        "outputId": "3f80a14a-a7c6-45a8-94e4-0424da5f8c46"
      },
      "outputs": [
        {
          "name": "stdout",
          "output_type": "stream",
          "text": [
            "[[22.924616]]\n",
            "[4.1733522]\n"
          ]
        }
      ],
      "source": [
        "weights, biases = layer.get_weights()\n",
        "print(weights)\n",
        "print(biases)"
      ]
    },
    {
      "cell_type": "markdown",
      "id": "356f4dde",
      "metadata": {
        "id": "356f4dde"
      },
      "source": [
        "딥러닝 모델에서 학습된 가중치(weights)와 바이어스(biases)를 통해 선형회귀식을 np.array(weights * X + biases)로 표현할 수 있습니다."
      ]
    },
    {
      "cell_type": "code",
      "execution_count": null,
      "id": "036900ad",
      "metadata": {
        "id": "036900ad",
        "outputId": "afbd73d4-15a4-4fa2-ad61-760ddad95a83"
      },
      "outputs": [
        {
          "data": {
            "image/png": "[encoded data removed]",
            "text/plain": [
              "<Figure size 432x288 with 1 Axes>"
            ]
          },
          "metadata": {
            "needs_background": "light"
          },
          "output_type": "display_data"
        }
      ],
      "source": [
        "plt.scatter(X, y)\n",
        "plt.plot(X, np.array(weights * X + biases), 'r')\n",
        "plt.show()"
      ]
    }
  ],
  "metadata": {
    "kernelspec": {
      "display_name": "Python 3 (ipykernel)",
      "language": "python",
      "name": "python3"
    },
    "language_info": {
      "codemirror_mode": {
        "name": "ipython",
        "version": 3
      },
      "file_extension": ".py",
      "mimetype": "text/x-python",
      "name": "python",
      "nbconvert_exporter": "python",
      "pygments_lexer": "ipython3",
      "version": "3.9.7"
    },
    "colab": {
      "provenance": [],
      "include_colab_link": true
    }
  },
  "nbformat": 4,
  "nbformat_minor": 5
}