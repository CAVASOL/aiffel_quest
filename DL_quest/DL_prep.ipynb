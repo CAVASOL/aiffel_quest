{
  "cells": [
    {
      "cell_type": "markdown",
      "metadata": {
        "id": "view-in-github",
        "colab_type": "text"
      },
      "source": [
        "<a href=\"https://colab.research.google.com/github/CAVASOL/aiffel_quest/blob/main/DL_quest/DL_prep.ipynb\" target=\"_parent\"><img src=\"https://colab.research.google.com/assets/colab-badge.svg\" alt=\"Open In Colab\"/></a>"
      ]
    },
    {
      "cell_type": "markdown",
      "id": "infinite-boring",
      "metadata": {
        "id": "infinite-boring"
      },
      "source": [
        "## 1. Can AI replace people?\n",
        "\n",
        "\n",
        "### 1-2. 인공지능의 개요와 현황\n",
        "\n",
        "**Q. 인공지능으로 새롭게 생겨날 직업은 무엇일까요?**\n",
        ">A. AI변호사, 메타버스 건물주 ...\n",
        "\n",
        "### 1-3. 인공지능이란 무엇인가\n",
        "\n",
        "**Q. 인공지능으로 만들 수 있는 것들은 무엇이 있알까요?**  \n",
        ">A. 개별화 학습 도우미, 기후 모니터, 방위 및 안보 시스템 등\n",
        "\n",
        "### 1-4. 왜 인공지능은 무서워졌을까?\n",
        "\n",
        "**Q. 영상을 참고하여, 인공지능을 설명해보세요.**\n",
        ">A. '왜 인공지능은 무서워졌을까' 이 질문 이상해요. 왜 무서울거라고 가정해요? 막연히 '모른다' 라는 사실은 사람마다 다른 감정으로 치환될 수 있어요 인공지능이라는 대상을 어떻게 인지하고 수용하는지에 따라 다르게 반응될테니까요. 인공지능은 함수에요. 어떤 변수를 넣느냐에 따라 그 성능과 가능성은 무한할테지만 결국 인간에 의해 디자인 되고, 기능이라고 부를만한 걸 갖게 되죠.\n",
        "\n",
        "### 1-5. 인공지능, 머신러닝은 다른가\n",
        "\n",
        "**Q. 영상을 참고하여, 그네를 더 잘 타기 위해 사용한 방법은 무엇인가?**\n",
        ">A. 머신러닝, 유전자 알고리즘을 통해 세대를 거듭할 수록 그네를 잘 타게 학습이 된다\n",
        "\n",
        "### 1-6. 인공지능 어떻게 똑똑해지는가\n",
        "\n",
        "**Q. 인공지능이 더 똑똑해질 수 있는 방법은 무엇일까요?**\n",
        ">A. 데이터가 늘어날수록 인공지능 알고리즘이 많이 학습한다\n",
        "\n",
        "### 1-7. 머신러닝의 세 가지 유형\n",
        "\n",
        "**Q. 만들고 싶은 인공지능을 작성하고, 세 가지 분류 중 어디에 해당하는지 작성해보세요.**\n",
        ">A. 컴퓨터비전으로 이미지를 활용하여 시장분석을 수행, 가령 소비자 행동이나 경쟁업체 부석, 제품 추적, 매출 예측 등"
      ]
    },
    {
      "cell_type": "markdown",
      "id": "eastern-narrative",
      "metadata": {
        "id": "eastern-narrative"
      },
      "source": [
        "## 2. Paired Data\n",
        "\n",
        "### 2-1. Paired data를 알아보자\n",
        "\n",
        "**Q. Paired data란 무엇일까?**\n",
        ">A. 입력과 출력/정답이 하나의 짝을 이룬 데이터\n",
        "\n",
        "### 2-2. Image Classifier\n",
        "\n",
        "**Q. 사람이 구분하기 어렵지만, 인공지능이 구분할 수 있는 image classifier 예시**\n",
        ">A. 근접한 색상 분류, 텍스터, 동물의 종류, 문서의 글꼴, 식물이나 꽃의 종류 등\n",
        "\n",
        "\n",
        "### 2-3. Object Detection/Tracking\n",
        "\n",
        "**Q. Object detection을 활용한 서비스**\n",
        ">A. 교통정보 모니터, 배송추적, 보안 시스템, 상품 인식, 기후 모니터 등\n",
        "\n",
        "### 2-4. Image Segmentation\n",
        "\n",
        "**Q. 용종검출에서 Object detection이 아닌, Image segmentation 기법이 활용되는 이유**\n",
        ">A. 용종의 모양이 일정하지 않으니까! image segmentation은 object detection의 바운딩 박스보다 더 정확하게 비정형의 도형으로 object를 찾아서 학습. 따라서, 정확도가 중요한 헬스케어 분야에서 image segmentation 기법이 활용.\n",
        "\n",
        "### 2-5. Pose Estimation\n",
        "\n",
        "**Q. Pose estimation 활용 방안**\n",
        ">A. 수어 번역, 재활치료, 보안, 운동 훈련(골프, 주짓수..) 등\n",
        "\n",
        "### 2-6. Paired Data의 활용\n",
        "\n",
        "**Q. 인공지능 서비스를 찾아서 어떠한 기술을 활용하였는지**\n",
        ">A. CS나 챗봇. 고객지원을 비롯한 다양한 응대, 문제 해결 도우미, 구글 번역기 같은 기계 번역, 공항에서 얼굴 인식, 음성 비서, 등\n",
        "\n",
        "### 2-7. 우리가 가진 Paired Data에는 무엇이 있을까\n",
        "\n",
        "**Q. 우리가 가진 paired data에는 무엇이 있을까요?**\n",
        ">A. 언어 특히 다국어 학습, 감정 인식, 시간이나 일정 관리, 인간의 상호 작용 등\n",
        "\n",
        "### 2-8. Paired Data 만들기, [TeachableMachine](https://teachablemachine.withgoogle.com/train/image)\n",
        "\n",
        "**Q. TeachableMachine으로 만들 수 있는 분류기를 무엇이 있을까?**\n",
        ">A. 이미지, 음성인식, 이상치, 예측이나 감지 분류 등"
      ]
    },
    {
      "cell_type": "markdown",
      "id": "national-rapid",
      "metadata": {
        "id": "national-rapid"
      },
      "source": [
        "## 3. Unpaired Data\n",
        "\n",
        "### 3-1. Unpaired Data는 무엇인가\n",
        "\n",
        "**Q. Paired data와 Unpaired Data의 차이**\n",
        ">A. Paired data는 종종 짝지어진 관측값 간의 차이에 중점을 두는 반면, Unpaired data는 두 그룹 간의 차이에 중점. 즉, Paired data는 정답(label)이 있고, Unpaired Data는 정답은 없지만 정답 그룹의 데이터가 있음.\n",
        "\n",
        "### 3-2. Unpaired Data의 활용_영상과 음성\n",
        "\n",
        "**Q. Unpaired Data를 사용한 예**\n",
        ">A. 일반 도로 환경에서 자율 주행 자동차 모델을 학습한 후, 다른 지역의 도로에서도 작동하도록 도메인 간의 차이를 보상,  원하는 목소리 또는 음악 스타일을 가진 Unpaired 데이터를 활용하여 음성이나 음악을 생성하거나 변조 등. Universal Music Translation, Deepfake 등. Deepfake 기술은 주로 딥 러닝과 생성적 적대 신경망(GAN)을 기반으로 작동하며, 학습 데이터에 Unpaired 데이터를 사용하여 얼굴 특징, 표현, 그림자 등을 모방. 이 기술은 예술, 엔터테인먼트, 광고, 특수 효과, 그래픽 디자인 및 다른 분야에서 활용. 그러나 또다른 중요한 측면은 Deepfake 기술의 윤리적 및 법적 고려사항.\n",
        "\n",
        "### 3-3. 우리가 가진 Unpaired Data는 무엇이 있을까\n",
        "\n",
        "**Q. 우리가 가진 Unpaired Data는 무엇이 있을까**\n",
        ">A. 일상 대화, 사진, 동영상, 지리 정보 등\n",
        "\n",
        "### 3-4. U-GAT-IT을 이용한 애니메이션 프사 만들기\n",
        "\n",
        "**Prep env**\n",
        "```\n",
        "import matplotlib.image as img\n",
        "import matplotlib.pyplot as plt\n",
        "import os, random\n",
        "\n",
        "def show_n_images_from_dir(dir_path, n, shuffle=True):\n",
        "    file_list = os.listdir(dir_path)\n",
        "    if shuffle:\n",
        "        random.shuffle(file_list)\n",
        "        \n",
        "    plt.figure(figsize=(15, 5))\n",
        "\n",
        "    for idx, file in enumerate(file_list):\n",
        "        if idx >= n: break\n",
        "        img_path = os.path.join(dir_path, file)\n",
        "        plt.subplot(1,n,idx+1)\n",
        "        plt.title(file)\n",
        "        plt.imshow(img.imread(img_path))\n",
        "\n",
        "# 실제 인물 예제\n",
        "img_dir_A = os.path.join('dataset', 'selfie2anime', 'trainA')\n",
        "show_n_images_from_dir(img_dir_A, 5)\n",
        "\n",
        "# 애니메이션 캐릭터 예제\n",
        "img_dir_B = os.path.join('dataset', 'selfie2anime', 'trainB')\n",
        "show_n_images_from_dir(img_dir_B, 5)\n",
        "```\n",
        "\n",
        "**Fitting data after upload img**\n",
        "```\n",
        "import demo\n",
        "import matplotlib.pyplot as plt\n",
        "from utils import *\n",
        "gan = demo.gan\n",
        "\n",
        "plt.figure(figsize=(10, 20))\n",
        "\n",
        "def show_my_animated_images(img_count=5):\n",
        "    for n, (real_A, _) in enumerate(gan.test_mine_loader):\n",
        "        real_A = real_A.to(gan.device)\n",
        "        fake_A2B, _, _ = gan.genA2B(real_A)\n",
        "\n",
        "        if n >= img_count: break\n",
        "        plt.subplot(img_count,2,2*n+1)\n",
        "        plt.title('original')\n",
        "        plt.imshow(tensor2numpy(denorm(real_A[0])))\n",
        "\n",
        "        plt.subplot(img_count,2,2*n+2)\n",
        "        plt.title('generated')\n",
        "        plt.imshow(tensor2numpy(denorm(fake_A2B[0])))\n",
        "\n",
        "# 이미지 변환을 수행합니다!\n",
        "# 업로드한 이미지 갯수로 바꿔주세요.\n",
        "show_my_animated_images(2)\n",
        "```"
      ]
    },
    {
      "cell_type": "markdown",
      "id": "standing-arbor",
      "metadata": {
        "id": "standing-arbor"
      },
      "source": [
        "## 4. 강화학습 Reinforcement Learning\n",
        "\n",
        "### 4-1. 강화학습의 예\n",
        "\n",
        "**Q. 강화학습의 예**\n",
        ">A. 특수교육에서 개별화 학습 지도, 환자 관리나 치료, 자동화 생산에 사용되는 로봇 제어, 자율주행 자동차 등\n",
        "\n",
        "### 4-2. 지도학습 vs 강화학습\n",
        "\n",
        "**Q. 강화학습의 장점**\n",
        ">A. 자동회 된/실시간 의사 결정, 시행착오를 통한 학습, 유연성 등. 학습 프로세스의 불안정성과 샘플 효율성에 대한 도전과제도 있으며, 데이터, 모델 선택 및 하이퍼파라미터 튜닝과 관련된 작업이 포함.\n",
        "\n",
        "### 4-3. 강화학습 더 깊게 파악하기\n",
        "\n",
        "**Q. 강화학습을 할 때 중요한 3가지 요소**\n",
        ">A. State(환경 정보), Action(행동), Reward(보상)\n",
        "\n",
        "**Q. 강화학습은 어떻게 이루어지나요?**\n",
        ">A. 에이전트와 환경의 상호작용 > 정책/전략 > 보상 > 상태 확인 > 강화학습 알고리즘 > 학습 > 탐험이나 활용 > 학습 종료 > 평가\n",
        "\n",
        "### 4-4. 강화학습 요소(1) 슈퍼마리오로 파악해보자\n",
        "\n",
        "**Q. 강화학습에서 State, Action, Reward가 왜 중요한가요?**\n",
        ">A. 에이전트는 상태 정보를 기반으로 행동을 선택하고, 이로부터 받은 보상을 통해 행동을 개선하며, 시간이 지남에 따라 최상의 정책을 학습합니다. 이러한 프로세스를 통해 에이전트는 주어진 환경에서 목표를 달성하기 위한 최적의 전략을 찾습니다.\n",
        "\n",
        "### 4-5. 강화학습 요소(2) 자율주행자동차로 파악해보자\n",
        "\n",
        "**Q. 원하는 목적지로 갈 수 있도록 안전하게 주행하는 자율주행자동차를 만들기 위해 강화학습을 하려고 합니다. 이 강화학습의 State, Action, Reward를 찾아 보세요.**\n",
        ">A. 차량의 색상, 위치, 속도는 State. 주행 속도의 가속이나 감속 또는 정지 그리고 핸들의 동작 등은 Action, 차량의 색상에 따른 목적지로 이동 여부 그리고 교통법규를 준수했는지 여부 등에 따라 Reward\n",
        "\n",
        "### 4-6. 강화학습 요소(3) 양궁로봇으로 파악해보자\n",
        "\n",
        "**Q. 양궁로봇의 만들기 위한 강화학습의 State, Action, Reward는 어떻게 설정하면 좋을까요?**\n",
        ">A. 목표 (표적)의 위치, 활을 잡는 손의 위치 및 자세, 바람의 세기 및 방향, 이전 화살의 목표와의 거리 등이 State, 활을 높이거나 낮추는 동작, 활의 높이 각도를 조절하는 동작, 활을 놓치는 방향으로 이동하거나 회전하는 동작, 활을 당기거나 놓는 동작 등이 Action, 목표 지점에 활이 맞았거나 특정 점수에 도달했을 때 Reward\n",
        "\n",
        "### 4-7. 강화학습, 어디에 활용할까\n",
        "\n",
        "**Q. 강화학습이 활용되면 좋지 않은 경우에는 어떤 것이 있을까요?**\n",
        ">A. 잘못된 보상 함수는 원치않는 행동을 유도하거나 원하는 목표와는 다른 방향으로 학습을 이끌 수 있음. 현실 환경을 정확하게 모델링하는 것은 어렵고 복잡. 윤리적 문제. 강화학습을 사용하기 전에 문제의 복잡성, 데이터 요구, 보상 설계, 안정성 등을 신중하게 고려해야 함.\n",
        "\n",
        "**Q. 강화학습을 적용할 수 있는 응용분야에는 무엇이 있을까요?**\n",
        ">A. 자원관리나 환경 보전, 환자의 진단이나 치료 계획, 로보틱스 등"
      ]
    },
    {
      "cell_type": "markdown",
      "id": "several-museum",
      "metadata": {
        "id": "several-museum"
      },
      "source": [
        "## 5. 의미없는 데이터를 의미있게 만들기\n",
        "\n",
        "### 5-1. 내 안에 존재하는 Paired Data\n",
        "\n",
        "**Q. 데이터가 Paired data도, Unpaired Data도 아닌 경우, 데이터에서 Paired data를 추출할 수 있습니다. 영상 속 예시로 제시된 사진 속에 숨겨져 있는 label은 무엇일까요?**\n",
        ">A. 진짜 사진\n",
        "\n",
        "### 5-2. 인공지능으로 얼굴 만들기 Generator와 Discriminator의 학습\n",
        "\n",
        "**Q. White noise는 무엇인가요?**\n",
        ">A. 무분별, 무작위의 예측하기 어려운 일종의 신호나 패턴\n",
        "\n",
        "**Q. 영상에서 설명하고 있는 알고리즘은 무엇인가요?**\n",
        ">A.\n",
        "\n",
        "**Q. Generator와 Discriminator의 역할은 무엇인가요?**\n",
        ">A. GAN(Generative adversarial network)의 학습 프로세스는 Generator와 Discriminator 간의 경쟁으로 진행됩니다. Generator는 더 실제와 유사한 데이터를 생성하려고 노력하며, Discriminator는 그 데이터를 판별하려고 노력합니다. 이러한 경쟁은 두 네트워크가 서로를 개선하고 결국 Generator가 높은 품질의 데이터를 생성하도록 하게 됩니다.\n",
        "\n",
        "```\n",
        "Generator (생성기):  \n",
        "Generator는 무작위 노이즈 또는 입력 데이터를 사용하여 가짜 데이터를 생성하는 역할을 합니다. 이것은 원본 데이터와 유사한 분포를 가지는 데이터를 생성하려는 것이 목표입니다. Generator는 처음에는 랜덤한 노이즈에서 시작하며, 학습 과정을 통해 더 실제와 유사한 데이터를 생성하는 능력을 향상시킵니다.\n",
        "\n",
        "Discriminator (판별기):  \n",
        "Discriminator는 주어진 데이터가 실제 데이터인지 (원본 데이터) 또는 가짜 데이터인지를 구분하는 역할을 합니다. 이것은 이진 분류기 역할을 하며, 가짜 데이터를 생성한 Generator로부터 실제 데이터와 구별하기 위해 학습됩니다. Discriminator는 가짜 데이터와 실제 데이터를 받고 두 가지 클래스로 분류합니다 (예: \"가짜\" 및 \"진짜\").\n",
        "```\n",
        "\n",
        "### 5-3. 텍스트 분석을 위한 데이터 변환\n",
        "\n",
        "**Q. ‘웜테일은 가늘게 ( ) 목소리로 재빨리 말했다’와 같이 맞출 단어에 마스크를 씌우고, 마스크의 위치를 변경하면서 학습시키는 모델은 무엇인가요?**\n",
        ">A. 언어 모델(language model)\n",
        "\n",
        "```\n",
        "언어 모델(Language Model)은 자연어 처리 분야에서 사용되는 중요한 컴퓨터 프로그램 또는 인공 신경망 아키텍처로, 언어의 구조와 통계적 특성을 기반으로 텍스트의 확률적인 특성을 학습하는 모델. 이 모델은 주어진 텍스트나 문장의 다음 단어를 예측하는 데 사용되며, 언어 이해, 문서 생성, 기계 번역 및 대화형 인공지능 에이전트를 개발하는 데 중요한 역할.\n",
        "```\n",
        "\n",
        "### 5-4. 언어모델 활용해 보기\n",
        "\n",
        "**CASE 1. GPT : 다음 문장에 이어질 단어는 무엇일까요?**\n",
        ">사람처럼 유창한 글을 쓰는 것으로 널리 알려진 GPT 모델은 텍스트 생성 모델 중 가장 대표적인 것입니다. 이 모델의 학습 데이터는 주어진 문장 다음에 오기에 가장 적당한 단어를 맞추는 방식으로 구성. ex) 웜테일은 가늘게 떨리는 목소리로 재빨리 __.\n",
        "\n",
        "\n",
        "**CASE 2. BERT : 다음 빈칸에 알맞은 단어는 무엇일까요?**\n",
        ">BERT는 텍스트의 의미를 정확하게 분석하는 작업에 널리 활용되는 가장 대표적인 언어 모델입니다. 이 모델의 학습 데이터는 텍스트에서 중간 위치를 빈칸으로 가려놓고 그게 무엇인지 맞추는 방식으로 구성. ex) 웜테일은 가늘게 __ 목소리로 재빨리 말했다.\n",
        "\n",
        "**[Hugging Face](https://huggingface.co/tasks/text-generation)를 이용한 GPT 모델 실습**\n",
        "\n",
        "### 5-5. Paired data를 만들어보자 Everybody Dance Now로 도출하는 데이터\n",
        "\n",
        "**Q. Everybody Dance now로 paired data를 도출하는 방법을 설명해 보세요.**\n",
        ">A. 비디오 데이터 수집 > 제너레이터로 영상 생성 > 제너레이터 학습 > 원본 데이터와 테스트 데이터를 합성, 일반인의 동작과 댄서의 동작 페어링\n",
        "\n",
        "### 5-6. Final\n",
        "\n",
        ">인공지능은 Paired Data, Unpaired Data, 강화학습을 종합적으로 사용하여, 정답 데이터나 정답 그룹이 부족한 상황에서도 다양한 작업을 수행하고 의미 있는 결과를 얻을 수 있습니다. 그러나 인간을 완전히 대체하는 데에는 여전히 한계가 존재하며, 윤리, 창의성, 판단력 등 인간의 고유한 능력을 모방하기는 어려울 것입니다."
      ]
    },
    {
      "cell_type": "markdown",
      "id": "innovative-murray",
      "metadata": {
        "id": "innovative-murray"
      },
      "source": [
        "## 6. Convolution"
      ]
    },
    {
      "cell_type": "markdown",
      "id": "desperate-alfred",
      "metadata": {
        "id": "desperate-alfred"
      },
      "source": [
        "## 7. Convolutional Neural Network"
      ]
    },
    {
      "cell_type": "markdown",
      "id": "individual-prairie",
      "metadata": {
        "id": "individual-prairie"
      },
      "source": [
        "## 8. RNN"
      ]
    },
    {
      "cell_type": "markdown",
      "id": "essential-bruce",
      "metadata": {
        "id": "essential-bruce"
      },
      "source": [
        "## 9. Understanding RNNs Mathematically"
      ]
    }
  ],
  "metadata": {
    "kernelspec": {
      "display_name": "Python 3",
      "language": "python",
      "name": "python3"
    },
    "language_info": {
      "codemirror_mode": {
        "name": "ipython",
        "version": 3
      },
      "file_extension": ".py",
      "mimetype": "text/x-python",
      "name": "python",
      "nbconvert_exporter": "python",
      "pygments_lexer": "ipython3",
      "version": "3.7.9"
    },
    "colab": {
      "provenance": [],
      "include_colab_link": true
    }
  },
  "nbformat": 4,
  "nbformat_minor": 5
}