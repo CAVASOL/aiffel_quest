{
  "cells": [
    {
      "cell_type": "markdown",
      "metadata": {
        "id": "view-in-github",
        "colab_type": "text"
      },
      "source": [
        "<a href=\"https://colab.research.google.com/github/CAVASOL/aiffel_quest/blob/main/DL_quest/main_quest_03/mq3_rock_paper__scissors.ipynb\" target=\"_parent\"><img src=\"https://colab.research.google.com/assets/colab-badge.svg\" alt=\"Open In Colab\"/></a>"
      ]
    },
    {
      "cell_type": "markdown",
      "id": "1e1f4d7f",
      "metadata": {
        "id": "1e1f4d7f"
      },
      "source": [
        "## Main Quest 03. 인공지능과 가위바위보 하기\n",
        "\n",
        "\n",
        "### 학습 내용\n",
        "\n",
        "* 이미 잘 정제된 10개 클래스의 숫자 손글씨 데이터를 분류하는 classifier 만들기\n",
        "* 정제되지 않은 웹캠 사진으로부터 데이터 만들어보기\n",
        "* 흑백 사진이 아닌 컬러 사진을 학습하는 classifier 만들기\n",
        "* 분류하고자 하는 클래스의 개수를 마음대로 조절하기 (10개에서 3개로)\n",
        "\n",
        "### 학습 목표\n",
        "\n",
        "* `MNIST Dataset`와 텐서플로우 `Sequential API`를 이용하여 숫자 손글씨 인식기를 만들어 볼 수 있다.\n",
        "* Sequential Model을 활용하여 딥러닝 네트워크를 설계하고 학습 시킬 수 있다.\n",
        "* 테스트 데이터로 성능을 확인하고 하이퍼파라미터 조정을 시도하여 성능을 높여볼 수 있다.\n",
        "* 가위바위보 분류기를 만들기 위한 기본 데이터를 웹캠으로 제작 할 수 있다.\n",
        "\n",
        "### 목차\n",
        "\n",
        "**2. 인공지능과 가위바위보 하기**\n",
        "\n",
        "    1) 인공지능과 가위바위보 하기  \n",
        "\n",
        "    2) 데이터 준비  \n",
        "        1) MNIST 숫자 손글씨 Dataset 불러들이기\n",
        "        2) 학습용 데이터와 시험용 데이터\n",
        "        3) 데이터 전처리 하기\n",
        "\n",
        "    3) 딥러닝 네트워크 설계하기  \n",
        "        1) Sequential Model을 사용해 보자\n",
        "\n",
        "    4) 딥러닝 네트워크 학습시키기  \n",
        "\n",
        "    5) 얼마나 잘 만들었는지 확인하기\n",
        "        1) 테스트 데이터로 성능을 확인해 보자\n",
        "        2) 어떤 데이터를 잘못 추론했을까?\n",
        "\n",
        "    6) 더 좋은 네트워크 만들어보기  \n",
        "\n",
        "\n",
        "**3. 미니 프로젝트: 가위바위보 분류기를 만들자**  \n",
        "\n",
        "    1) 미니 프로젝트: 가위바위보 분류기를 만들자\n",
        "        1) 라이브러리 버전 확인하기\n",
        "        2) 데이터 준비하기\n",
        "        3) 데이터 불러오기 & 이미지 데이터 크기 조정하기\n",
        "        4) 딥러닝 네트워크 설계하기\n",
        "        5) 딥러닝 네트워크 학습시키기\n",
        "        6) 얼마나 잘 만들었는지 확인하기: 테스트\n",
        "        7) 더 좋은 네트워크 만들어보기\n",
        "        \n",
        "    2) test_accuracy를 높이기 위해 설정한 몇 가지 시도"
      ]
    },
    {
      "cell_type": "markdown",
      "id": "edacd4bc",
      "metadata": {
        "id": "edacd4bc"
      },
      "source": [
        "## 2. 인공지능과 가위바위보 하기"
      ]
    },
    {
      "cell_type": "markdown",
      "id": "320e0f11",
      "metadata": {
        "id": "320e0f11"
      },
      "source": [
        "### 2-1. 인공지능과 가위바위보 하기"
      ]
    },
    {
      "cell_type": "markdown",
      "id": "94d7125e",
      "metadata": {
        "id": "94d7125e"
      },
      "source": [
        "**Q. 2는 5보다 위에 있고 0은 2보다 큽니다. 또한, 5는 0보다 큽니다. 이것은 무엇일까요?**\n",
        "\n",
        "```\n",
        "가위바위보!\n",
        "```"
      ]
    },
    {
      "cell_type": "markdown",
      "id": "d71259c8",
      "metadata": {
        "id": "d71259c8"
      },
      "source": [
        "### 2-2. 데이터 준비"
      ]
    },
    {
      "cell_type": "markdown",
      "id": "7cc128cc",
      "metadata": {
        "id": "7cc128cc"
      },
      "source": [
        "**MNIST 숫자 손글씨 Dataset 불러들이기**"
      ]
    },
    {
      "cell_type": "code",
      "execution_count": null,
      "id": "9a4642a7",
      "metadata": {
        "id": "9a4642a7",
        "outputId": "f1730ecd-5bb7-4278-d024-3cb53e4a8bcd"
      },
      "outputs": [
        {
          "name": "stdout",
          "output_type": "stream",
          "text": [
            "2.6.0\n",
            "60000\n"
          ]
        }
      ],
      "source": [
        "# TensorFlow의 표준 API인 tf.keras의 Sequential API를 이용하여 숫자 손글씨 인식기 만들기\n",
        "# TF 2.6.0\n",
        "\n",
        "import tensorflow as tf\n",
        "from tensorflow import keras\n",
        "\n",
        "import numpy as np\n",
        "import matplotlib.pyplot as plt\n",
        "import os\n",
        "\n",
        "\n",
        "print(tf.__version__)\n",
        "\n",
        "mnist = keras.datasets.mnist\n",
        "\n",
        "(x_train, y_train), (x_test, y_test) = mnist.load_data()\n",
        "\n",
        "print(len(x_train))"
      ]
    },
    {
      "cell_type": "markdown",
      "id": "808326a3",
      "metadata": {
        "id": "808326a3"
      },
      "source": [
        "**Q. 숫자 손글씨 이미지의 크기는 무엇일까요? \"nxn\"(n은 정수)의 형태로.**\n",
        "\n",
        "```\n",
        "28x28\n",
        "```"
      ]
    },
    {
      "cell_type": "markdown",
      "id": "09e44389",
      "metadata": {
        "id": "09e44389"
      },
      "source": [
        "**Q. MNIST dataset에는 총 몇 장의 손글씨 이미지가 있을까요?**\n",
        "\n",
        "```\n",
        "총 70000만 장의 손글씨 이미지 데이터가 있으며, 그 중 60000개는 훈련 데이터 10000개는 테스트 데이터로 활용합니다.\n",
        "```"
      ]
    },
    {
      "cell_type": "markdown",
      "id": "aa301050",
      "metadata": {
        "id": "aa301050"
      },
      "source": [
        "**Q. 학습용 데이터(training set)은 대략 몇명의 손글씨가 들어있을까요?**\n",
        "\n",
        "```\n",
        "250명\n",
        "```"
      ]
    },
    {
      "cell_type": "code",
      "execution_count": null,
      "id": "a840be70",
      "metadata": {
        "id": "a840be70",
        "outputId": "46ef7226-461f-4945-91f3-51077bea9050"
      },
      "outputs": [
        {
          "data": {
            "image/png": "[encoded data removed]",
            "text/plain": [
              "<Figure size 432x288 with 1 Axes>"
            ]
          },
          "metadata": {
            "needs_background": "light"
          },
          "output_type": "display_data"
        }
      ],
      "source": [
        "# x_train 행렬의 2번째 값 확인\n",
        "\n",
        "plt.imshow(x_train[1],cmap=plt.cm.binary)\n",
        "plt.show()"
      ]
    },
    {
      "cell_type": "code",
      "execution_count": null,
      "id": "979ad480",
      "metadata": {
        "id": "979ad480",
        "outputId": "a89c69ba-1932-4177-a5bb-7e0bdbd682dc"
      },
      "outputs": [
        {
          "name": "stdout",
          "output_type": "stream",
          "text": [
            "0\n"
          ]
        }
      ],
      "source": [
        "# y_train 행렬의 2번째 값 확인\n",
        "\n",
        "print(y_train[1])"
      ]
    },
    {
      "cell_type": "code",
      "execution_count": null,
      "id": "7ae7cfc6",
      "metadata": {
        "id": "7ae7cfc6",
        "outputId": "9d68df22-62a0-44d6-da9d-5d29c6630124"
      },
      "outputs": [
        {
          "data": {
            "image/png": "[encoded data removed]",
            "text/plain": [
              "<Figure size 432x288 with 1 Axes>"
            ]
          },
          "metadata": {
            "needs_background": "light"
          },
          "output_type": "display_data"
        },
        {
          "name": "stdout",
          "output_type": "stream",
          "text": [
            "10002 번째 이미지의 숫자는 바로  8 입니다.\n"
          ]
        }
      ],
      "source": [
        "index=10001\n",
        "plt.imshow(x_train[index],cmap=plt.cm.binary)\n",
        "plt.show()\n",
        "print( (index+1), '번째 이미지의 숫자는 바로 ',  y_train[index], '입니다.')"
      ]
    },
    {
      "cell_type": "markdown",
      "id": "dfb64e2e",
      "metadata": {
        "id": "dfb64e2e"
      },
      "source": [
        "**학습용 데이터와 시험용 데이터**"
      ]
    },
    {
      "cell_type": "code",
      "execution_count": null,
      "id": "2401a538",
      "metadata": {
        "id": "2401a538",
        "outputId": "cc209b4d-e1e2-4523-c49b-05f2d3fb770c"
      },
      "outputs": [
        {
          "name": "stdout",
          "output_type": "stream",
          "text": [
            "(60000, 28, 28)\n"
          ]
        }
      ],
      "source": [
        "# Train data\n",
        "\n",
        "print(x_train.shape)"
      ]
    },
    {
      "cell_type": "markdown",
      "id": "84a947b0",
      "metadata": {
        "id": "84a947b0"
      },
      "source": [
        "훈련 데이터로서 28x28 크기의 숫자 이미지가 60,000장이 있습니다."
      ]
    },
    {
      "cell_type": "code",
      "execution_count": null,
      "id": "8f7e5280",
      "metadata": {
        "id": "8f7e5280",
        "outputId": "51a1f71a-32d4-4093-fa9f-bbe289b050a3"
      },
      "outputs": [
        {
          "name": "stdout",
          "output_type": "stream",
          "text": [
            "(10000, 28, 28)\n"
          ]
        }
      ],
      "source": [
        "# Test data\n",
        "\n",
        "print(x_test.shape)"
      ]
    },
    {
      "cell_type": "markdown",
      "id": "c217e9ae",
      "metadata": {
        "id": "c217e9ae"
      },
      "source": [
        "시험 데이터로서 28x28 크기의 숫자 이미지가 10,000장이 있습니다."
      ]
    },
    {
      "cell_type": "markdown",
      "id": "55da0c40",
      "metadata": {
        "id": "55da0c40"
      },
      "source": [
        "**Q. 언제 검증용 데이터(validation set)를 사용하나요?**\n",
        "\n",
        "```\n",
        "기계학습의 훈련 과정 중 학습의 진행 상황, 과적합 여부, 학습 중단의 필요 유무 등을 확인하기 위해 사용해요.\n",
        "```"
      ]
    },
    {
      "cell_type": "markdown",
      "id": "eaaf79fd",
      "metadata": {
        "id": "eaaf79fd"
      },
      "source": [
        "**Q. 교차 검증(cross validation) 기법은 무엇인가요?**\n",
        "\n",
        "```\n",
        "기계 학습 모델의 성능을 평가하고 일반화 성능을 향상시키는데 사용되는 기술이에요. 모델의 성능을 평가하기 위한 목적으로 사용하고, 모델이 훈련 데이터에 과적합(오버피팅)되는지 여부를 확인할 수 있어요. 그러나 데이터가 많은 경우, 시간이 다소 오래 걸린다는 단점이 있어요.\n",
        "```"
      ]
    },
    {
      "cell_type": "markdown",
      "id": "88aad25f",
      "metadata": {
        "id": "88aad25f"
      },
      "source": [
        "**데이터 전처리 하기**"
      ]
    },
    {
      "cell_type": "code",
      "execution_count": null,
      "id": "37175c0c",
      "metadata": {
        "id": "37175c0c",
        "outputId": "603a17f1-6172-443a-da80-0788c4890fe4"
      },
      "outputs": [
        {
          "name": "stdout",
          "output_type": "stream",
          "text": [
            "최소값: 0  최대값: 255\n"
          ]
        }
      ],
      "source": [
        "# 숫자 손글씨 이미지의 실제 픽셀 값\n",
        "\n",
        "print('최소값:',np.min(x_train), ' 최대값:',np.max(x_train))"
      ]
    },
    {
      "cell_type": "code",
      "execution_count": null,
      "id": "d7d497c2",
      "metadata": {
        "id": "d7d497c2",
        "outputId": "8d121fa0-2242-454c-c487-37905e4e0c47"
      },
      "outputs": [
        {
          "name": "stdout",
          "output_type": "stream",
          "text": [
            "최소값: 0.0  최대값: 1.0\n"
          ]
        }
      ],
      "source": [
        "# 입력 데이터  0과 1 사이 값으로 정규화\n",
        "\n",
        "x_train_norm, x_test_norm = x_train / 255.0, x_test / 255.0\n",
        "print('최소값:',np.min(x_train_norm), ' 최대값:',np.max(x_train_norm))"
      ]
    },
    {
      "cell_type": "markdown",
      "id": "18849c7c",
      "metadata": {
        "id": "18849c7c"
      },
      "source": [
        "### 2-3. 딥러닝 네트워크 설계하기"
      ]
    },
    {
      "cell_type": "markdown",
      "id": "abbb1225",
      "metadata": {
        "id": "abbb1225"
      },
      "source": [
        "**Sequential Model을 사용해 보자**"
      ]
    },
    {
      "cell_type": "code",
      "execution_count": null,
      "id": "a3691712",
      "metadata": {
        "id": "a3691712",
        "outputId": "f6a004db-3c4a-4eac-b46f-84cf36bbcc20"
      },
      "outputs": [
        {
          "name": "stdout",
          "output_type": "stream",
          "text": [
            "Model에 추가된 Layer 개수:  7\n"
          ]
        }
      ],
      "source": [
        "# tf.keras의 Sequential API를 이용하여 LeNet 설계\n",
        "\n",
        "model=keras.models.Sequential()\n",
        "model.add(keras.layers.Conv2D(16, (3,3), activation='relu', input_shape=(28, 28, 1))) # 이미지의 특징과 입력 이미지의 형태\n",
        "model.add(keras.layers.MaxPool2D(2,2))\n",
        "model.add(keras.layers.Conv2D(32, (3,3), activation='relu')) # 이미지의 특징\n",
        "model.add(keras.layers.MaxPooling2D((2,2)))\n",
        "model.add(keras.layers.Flatten())\n",
        "model.add(keras.layers.Dense(32, activation='relu')) # 분류기 알고리즘의 복잡도\n",
        "model.add(keras.layers.Dense(10, activation='softmax')) # 최종 분류기의 class 수\n",
        "\n",
        "print('Model에 추가된 Layer 개수: ', len(model.layers))"
      ]
    },
    {
      "cell_type": "markdown",
      "id": "bb1fabda",
      "metadata": {
        "id": "bb1fabda"
      },
      "source": [
        "* **Conv2D** 레이어의 첫 번째 인자는 `사용하는 이미지 특징의 수` 입니다. 여기서는 16과 32를 사용했습니다. 가장 먼저 16개의 이미지 특징을, 그 뒤에 32개의 이미지 특징씩을 고려하겠다는 뜻입니다. 우리의 숫자 이미지는 사실 매우 단순한 형태의 이미지입니다. 만약 강아지 얼굴 사진이 입력 이미지라면 훨씬 디테일하고 복잡한 영상일 것입니다. 그럴 경우에는 이 특징 숫자를 늘려주는 것을 고려해 볼 수 있습니다.  \n",
        "\n",
        "\n",
        "* **Dense** 레이어의 첫 번째 인자는 분류기에 `사용되는 뉴런의 숫자` 입니다. 이 값이 클수록 보다 복잡한 분류기를 만들 수 있습니다. 10개의 숫자가 아닌 알파벳을 구분하고 싶다면, 대문자 26개, 소문자 26개로 총 52개의 클래스를 분류해 내야 합니다. 그래서 32보다 큰 64, 128 등을 고려해 볼 수 있을 것입니다.  \n",
        "\n",
        "\n",
        "* 마지막 Dense 레이어의 뉴런 숫자는 결과적으로 분류해 내야 하는 `최종 클래스 수`로 지정하면 됩니다. 숫자 인식기에서는 10, 알파벳 인식기에서는 52가 되겠지요."
      ]
    },
    {
      "cell_type": "markdown",
      "id": "30aa0c48",
      "metadata": {
        "id": "30aa0c48"
      },
      "source": [
        "**Q. 입력 이미지의 형태 input_shape=(28, 28, 1) 코드가 의미하는 바는 무엇일까요?**\n",
        "\n",
        "```\n",
        "이미지의 입력 형태로서 높이 28 너비 28 채널 1개의 이미지라는 의미입니다.\n",
        "```"
      ]
    },
    {
      "cell_type": "code",
      "execution_count": null,
      "id": "d07986a2",
      "metadata": {
        "id": "d07986a2",
        "outputId": "abfdca4a-567f-42e0-eeab-8c97277942f9"
      },
      "outputs": [
        {
          "name": "stdout",
          "output_type": "stream",
          "text": [
            "Model: \"sequential\"\n",
            "_________________________________________________________________\n",
            "Layer (type)                 Output Shape              Param #   \n",
            "=================================================================\n",
            "conv2d (Conv2D)              (None, 26, 26, 16)        160       \n",
            "_________________________________________________________________\n",
            "max_pooling2d (MaxPooling2D) (None, 13, 13, 16)        0         \n",
            "_________________________________________________________________\n",
            "conv2d_1 (Conv2D)            (None, 11, 11, 32)        4640      \n",
            "_________________________________________________________________\n",
            "max_pooling2d_1 (MaxPooling2 (None, 5, 5, 32)          0         \n",
            "_________________________________________________________________\n",
            "flatten (Flatten)            (None, 800)               0         \n",
            "_________________________________________________________________\n",
            "dense (Dense)                (None, 32)                25632     \n",
            "_________________________________________________________________\n",
            "dense_1 (Dense)              (None, 10)                330       \n",
            "=================================================================\n",
            "Total params: 30,762\n",
            "Trainable params: 30,762\n",
            "Non-trainable params: 0\n",
            "_________________________________________________________________\n"
          ]
        }
      ],
      "source": [
        "# Model 확인하기\n",
        "\n",
        "model.summary()"
      ]
    },
    {
      "cell_type": "markdown",
      "id": "0f4d1a7d",
      "metadata": {
        "id": "0f4d1a7d"
      },
      "source": [
        "### 2-4. 딥러닝 네트워크 학습시키기"
      ]
    },
    {
      "cell_type": "code",
      "execution_count": null,
      "id": "d6d1c14f",
      "metadata": {
        "id": "d6d1c14f",
        "outputId": "0824a55a-3709-448e-8e2e-5b55b34ebb2c"
      },
      "outputs": [
        {
          "name": "stdout",
          "output_type": "stream",
          "text": [
            "Before Reshape - x_train_norm shape: (60000, 28, 28)\n",
            "Before Reshape - x_test_norm shape: (10000, 28, 28)\n",
            "After Reshape - x_train_reshaped shape: (60000, 28, 28, 1)\n",
            "After Reshape - x_test_reshaped shape: (10000, 28, 28, 1)\n"
          ]
        }
      ],
      "source": [
        "# 입력 데이터 형태 재구성하기: 채널 추가하기\n",
        "\n",
        "print(f\"Before Reshape - x_train_norm shape: {x_train_norm.shape}\")\n",
        "print(f\"Before Reshape - x_test_norm shape: {x_test_norm.shape}\")\n",
        "\n",
        "x_train_reshaped=x_train_norm.reshape( -1, 28, 28, 1)  # 데이터갯수에 -1을 쓰면 reshape 시 자동 계산\n",
        "x_test_reshaped=x_test_norm.reshape( -1, 28, 28, 1)\n",
        "\n",
        "print(f\"After Reshape - x_train_reshaped shape: {x_train_reshaped.shape}\")\n",
        "print(f\"After Reshape - x_test_reshaped shape: {x_test_reshaped.shape}\")"
      ]
    },
    {
      "cell_type": "code",
      "execution_count": null,
      "id": "a7632b0e",
      "metadata": {
        "id": "a7632b0e",
        "outputId": "8211802f-830e-4cbb-ab39-47da26a4eb05"
      },
      "outputs": [
        {
          "name": "stdout",
          "output_type": "stream",
          "text": [
            "Epoch 1/10\n",
            "1875/1875 [==============================] - 75s 39ms/step - loss: 0.1844 - accuracy: 0.9444\n",
            "Epoch 2/10\n",
            "1875/1875 [==============================] - 74s 39ms/step - loss: 0.0625 - accuracy: 0.9812\n",
            "Epoch 3/10\n",
            "1875/1875 [==============================] - 74s 39ms/step - loss: 0.0456 - accuracy: 0.9856\n",
            "Epoch 4/10\n",
            "1875/1875 [==============================] - 73s 39ms/step - loss: 0.0353 - accuracy: 0.9891\n",
            "Epoch 5/10\n",
            "1875/1875 [==============================] - 72s 38ms/step - loss: 0.0279 - accuracy: 0.9912\n",
            "Epoch 6/10\n",
            "1875/1875 [==============================] - 73s 39ms/step - loss: 0.0226 - accuracy: 0.9928\n",
            "Epoch 7/10\n",
            "1875/1875 [==============================] - 73s 39ms/step - loss: 0.0192 - accuracy: 0.9937\n",
            "Epoch 8/10\n",
            "1875/1875 [==============================] - 73s 39ms/step - loss: 0.0170 - accuracy: 0.9941\n",
            "Epoch 9/10\n",
            "1875/1875 [==============================] - 73s 39ms/step - loss: 0.0136 - accuracy: 0.9955\n",
            "Epoch 10/10\n",
            "1875/1875 [==============================] - 45s 24ms/step - loss: 0.0122 - accuracy: 0.9961\n"
          ]
        },
        {
          "data": {
            "text/plain": [
              "<keras.callbacks.History at 0x7f34d22db310>"
            ]
          },
          "execution_count": 12,
          "metadata": {},
          "output_type": "execute_result"
        }
      ],
      "source": [
        "# 학습 데이터로 딥러닝 네트워크 학습 시키기\n",
        "\n",
        "model.compile(optimizer='adam',\n",
        "             loss='sparse_categorical_crossentropy',\n",
        "             metrics=['accuracy'])\n",
        "\n",
        "model.fit(x_train_reshaped, y_train, epochs=10)"
      ]
    },
    {
      "cell_type": "markdown",
      "id": "3552af14",
      "metadata": {
        "id": "3552af14"
      },
      "source": [
        "학습이 진행됨에 따라 epoch 별로 어느 정도 인식 정확도(accuracy)가 올라가는지 확인할 수 있습니다.  \n",
        "인식 정확도가 0.9444에서 0.9961까지 매우 높게 올라가며, 9 epoch 정도부터는 인식률의 상승이 미미합니다.  \n",
        "10 epoch 정도로 학습을 시키면 충분할 것 같네요."
      ]
    },
    {
      "cell_type": "markdown",
      "id": "650bd7f3",
      "metadata": {
        "id": "650bd7f3"
      },
      "source": [
        "### 2-5. 얼마나 잘 만들었는지 확인하기\n",
        "\n",
        "**테스트 데이터로 성능을 확인해 보자**"
      ]
    },
    {
      "cell_type": "code",
      "execution_count": null,
      "id": "de237bc5",
      "metadata": {
        "id": "de237bc5",
        "outputId": "4e8b1b9f-d1b0-4674-c8c1-600ea1556e54"
      },
      "outputs": [
        {
          "name": "stdout",
          "output_type": "stream",
          "text": [
            "313/313 - 2s - loss: 0.0329 - accuracy: 0.9903\n",
            "test_loss: 0.0328618586063385\n",
            "test_accuracy: 0.9902999997138977\n"
          ]
        }
      ],
      "source": [
        "# 테스트 데이터로 성능 확인\n",
        "\n",
        "test_loss, test_accuracy = model.evaluate(x_test_reshaped, y_test, verbose=2)\n",
        "print(f\"test_loss: {test_loss}\")\n",
        "print(f\"test_accuracy: {test_accuracy}\")"
      ]
    },
    {
      "cell_type": "markdown",
      "id": "fe9f9b32",
      "metadata": {
        "id": "fe9f9b32"
      },
      "source": [
        "학습할 때마다 test_loss와 test_accuracy도 변동 됨을 알 수 있습니다."
      ]
    },
    {
      "cell_type": "markdown",
      "id": "161be48e",
      "metadata": {
        "id": "161be48e"
      },
      "source": [
        "**어떤 데이터를 잘못 추론했을까?**\n",
        "\n",
        "model.evaluate() 대신 model.predict()를 사용하면 model이 입력값을 보고 실제로 추론한 확률분포를 출력할 수 있습니다.  \n",
        "우리가 만든 model이란 사실 10개의 숫자 중 어느 것일지에 대한 확률값을 출력하는 함수입니다.  \n",
        "이 함수의 출력값, 즉 확률값이 가장 높은 숫자가 바로 model이 추론한 숫자가 되는 거죠."
      ]
    },
    {
      "cell_type": "code",
      "execution_count": null,
      "id": "467b83f2",
      "metadata": {
        "id": "467b83f2",
        "outputId": "5f04a039-5a65-4aed-95b1-422771eddcbf"
      },
      "outputs": [
        {
          "name": "stdout",
          "output_type": "stream",
          "text": [
            "model.predict() 결과 :  [2.52045953e-17 6.99740309e-12 4.75359162e-12 1.04478835e-10\n",
            " 1.07324504e-14 4.80373459e-14 1.13350989e-18 1.00000000e+00\n",
            " 7.36783308e-15 3.12457016e-09]\n",
            "model이 추론한 가장 가능성이 높은 결과 :  7\n",
            "실제 데이터의 라벨 :  7\n"
          ]
        }
      ],
      "source": [
        "predicted_result = model.predict(x_test_reshaped)  # model이 추론한 확률값\n",
        "predicted_labels = np.argmax(predicted_result, axis=1)\n",
        "\n",
        "idx=0  # 1번째 x_test\n",
        "print('model.predict() 결과 : ', predicted_result[idx])\n",
        "print('model이 추론한 가장 가능성이 높은 결과 : ', predicted_labels[idx])\n",
        "print('실제 데이터의 라벨 : ', y_test[idx])"
      ]
    },
    {
      "cell_type": "markdown",
      "id": "a03c022e",
      "metadata": {
        "id": "a03c022e"
      },
      "source": [
        "이 모델은 입력한 이미지가 숫자 7이라는 걸 아주 확신하고 있네요? 정말 `7` 인지 확인해 봅시다."
      ]
    },
    {
      "cell_type": "code",
      "execution_count": null,
      "id": "752f9968",
      "metadata": {
        "id": "752f9968",
        "outputId": "c56b70fb-7e9d-45ec-ab52-609e5b3a4f0c"
      },
      "outputs": [
        {
          "data": {
            "image/png": "[encoded data removed]",
            "text/plain": [
              "<Figure size 432x288 with 1 Axes>"
            ]
          },
          "metadata": {
            "needs_background": "light"
          },
          "output_type": "display_data"
        }
      ],
      "source": [
        "plt.imshow(x_test[idx],cmap=plt.cm.binary)\n",
        "plt.show()"
      ]
    },
    {
      "cell_type": "markdown",
      "id": "91821e55",
      "metadata": {
        "id": "91821e55"
      },
      "source": [
        "그렇다면, 모델이 추론해 낸 숫자와 실제 라벨의 값이 다른 경우는 어떤 경우일까요?"
      ]
    },
    {
      "cell_type": "code",
      "execution_count": null,
      "id": "fd5275b5",
      "metadata": {
        "id": "fd5275b5",
        "outputId": "0b815ea7-cec0-432e-faee-b04370c2fb7a"
      },
      "outputs": [
        {
          "name": "stdout",
          "output_type": "stream",
          "text": [
            "예측확률분포: [9.5154750e-01 1.6923180e-09 1.2876356e-07 4.4030376e-06 5.7151558e-12\n",
            " 4.8298780e-02 1.4898444e-04 1.2103810e-07 4.5000686e-08 7.9837088e-09]\n",
            "라벨: 5, 예측결과: 0\n"
          ]
        },
        {
          "data": {
            "image/png": "[encoded data removed]",
            "text/plain": [
              "<Figure size 432x288 with 1 Axes>"
            ]
          },
          "metadata": {
            "needs_background": "light"
          },
          "output_type": "display_data"
        },
        {
          "name": "stdout",
          "output_type": "stream",
          "text": [
            "예측확률분포: [7.9479292e-03 6.3938023e-06 9.3906194e-10 3.9874254e-10 7.4617255e-09\n",
            " 1.2981172e-07 8.5088759e-12 9.0553182e-01 1.8389053e-10 8.6513683e-02]\n",
            "라벨: 9, 예측결과: 7\n"
          ]
        },
        {
          "data": {
            "image/png": "[encoded data removed]",
            "text/plain": [
              "<Figure size 432x288 with 1 Axes>"
            ]
          },
          "metadata": {
            "needs_background": "light"
          },
          "output_type": "display_data"
        },
        {
          "name": "stdout",
          "output_type": "stream",
          "text": [
            "예측확률분포: [3.4482645e-07 4.3992298e-08 3.9840972e-07 2.9605917e-05 2.2370384e-07\n",
            " 4.2326110e-06 3.0737544e-11 6.7353046e-01 2.0811814e-09 3.2643473e-01]\n",
            "라벨: 9, 예측결과: 7\n"
          ]
        },
        {
          "data": {
            "image/png": "[encoded data removed]",
            "text/plain": [
              "<Figure size 432x288 with 1 Axes>"
            ]
          },
          "metadata": {
            "needs_background": "light"
          },
          "output_type": "display_data"
        },
        {
          "name": "stdout",
          "output_type": "stream",
          "text": [
            "예측확률분포: [6.5824461e-06 4.6776148e-07 7.5385935e-05 1.3794273e-07 1.0966273e-01\n",
            " 3.5596449e-07 1.3394008e-08 1.1749966e-05 3.6474565e-04 8.8987786e-01]\n",
            "라벨: 4, 예측결과: 9\n"
          ]
        },
        {
          "data": {
            "image/png": "[encoded data removed]",
            "text/plain": [
              "<Figure size 432x288 with 1 Axes>"
            ]
          },
          "metadata": {
            "needs_background": "light"
          },
          "output_type": "display_data"
        },
        {
          "name": "stdout",
          "output_type": "stream",
          "text": [
            "예측확률분포: [3.01776803e-03 1.73960252e-05 9.18137448e-06 2.85098540e-05\n",
            " 2.83275070e-09 1.13434435e-05 7.20443785e-01 5.67960713e-11\n",
            " 2.76464045e-01 7.94995594e-06]\n",
            "라벨: 8, 예측결과: 6\n"
          ]
        },
        {
          "data": {
            "image/png": "[encoded data removed]",
            "text/plain": [
              "<Figure size 432x288 with 1 Axes>"
            ]
          },
          "metadata": {
            "needs_background": "light"
          },
          "output_type": "display_data"
        }
      ],
      "source": [
        "import random\n",
        "wrong_predict_list=[]\n",
        "for i, _ in enumerate(predicted_labels):\n",
        "    # i번째 test_labels과 y_test이 다른 경우\n",
        "    if predicted_labels[i] != y_test[i]:\n",
        "        wrong_predict_list.append(i)\n",
        "\n",
        "# wrong_predict_list에서 랜덤하게 5개만 골라보자\n",
        "samples = random.choices(population=wrong_predict_list, k=5)\n",
        "\n",
        "for n in samples:\n",
        "    print(\"예측확률분포: \" + str(predicted_result[n]))\n",
        "    print(\"라벨: \" + str(y_test[n]) + \", 예측결과: \" + str(predicted_labels[n]))\n",
        "    plt.imshow(x_test[n], cmap=plt.cm.binary)\n",
        "    plt.show()"
      ]
    },
    {
      "cell_type": "markdown",
      "id": "e2d9255e",
      "metadata": {
        "id": "e2d9255e"
      },
      "source": [
        "틀린 경우를 살펴보면 모델도 추론 결과에 대한 확신도가 낮고, 매우 혼란스러워 한다는 것을 알 수 있습니다.  \n",
        "모델의 추론 결과를 시각화하여 살펴보는 것은 향후 모델의 성능 개선에 도움이 되는 아이디어를 얻을 수 있는 좋은 방법 중 하나입니다.  "
      ]
    },
    {
      "cell_type": "markdown",
      "id": "6b463128",
      "metadata": {
        "id": "6b463128"
      },
      "source": [
        "### 2-6. 더 좋은 네트워크 만들어 보기"
      ]
    },
    {
      "cell_type": "code",
      "execution_count": null,
      "id": "71bc39ac",
      "metadata": {
        "id": "71bc39ac",
        "outputId": "3f5347a5-2314-4c30-e160-35c7f3c00ce7"
      },
      "outputs": [
        {
          "name": "stdout",
          "output_type": "stream",
          "text": [
            "Model: \"sequential_1\"\n",
            "_________________________________________________________________\n",
            "Layer (type)                 Output Shape              Param #   \n",
            "=================================================================\n",
            "conv2d_2 (Conv2D)            (None, 26, 26, 32)        320       \n",
            "_________________________________________________________________\n",
            "max_pooling2d_2 (MaxPooling2 (None, 13, 13, 32)        0         \n",
            "_________________________________________________________________\n",
            "conv2d_3 (Conv2D)            (None, 11, 11, 64)        18496     \n",
            "_________________________________________________________________\n",
            "max_pooling2d_3 (MaxPooling2 (None, 5, 5, 64)          0         \n",
            "_________________________________________________________________\n",
            "flatten_1 (Flatten)          (None, 1600)              0         \n",
            "_________________________________________________________________\n",
            "dense_2 (Dense)              (None, 64)                102464    \n",
            "_________________________________________________________________\n",
            "dense_3 (Dense)              (None, 10)                650       \n",
            "=================================================================\n",
            "Total params: 121,930\n",
            "Trainable params: 121,930\n",
            "Non-trainable params: 0\n",
            "_________________________________________________________________\n",
            "Epoch 1/10\n",
            "1875/1875 [==============================] - 126s 67ms/step - loss: 0.1377 - accuracy: 0.9585\n",
            "Epoch 2/10\n",
            "1875/1875 [==============================] - 124s 66ms/step - loss: 0.0455 - accuracy: 0.9862\n",
            "Epoch 3/10\n",
            "1875/1875 [==============================] - 123s 66ms/step - loss: 0.0317 - accuracy: 0.9901\n",
            "Epoch 4/10\n",
            "1875/1875 [==============================] - 122s 65ms/step - loss: 0.0239 - accuracy: 0.9923\n",
            "Epoch 5/10\n",
            "1875/1875 [==============================] - 122s 65ms/step - loss: 0.0172 - accuracy: 0.9945\n",
            "Epoch 6/10\n",
            "1875/1875 [==============================] - 122s 65ms/step - loss: 0.0135 - accuracy: 0.9955\n",
            "Epoch 7/10\n",
            "1875/1875 [==============================] - 121s 65ms/step - loss: 0.0114 - accuracy: 0.9963\n",
            "Epoch 8/10\n",
            "1875/1875 [==============================] - 114s 61ms/step - loss: 0.0089 - accuracy: 0.9972\n",
            "Epoch 9/10\n",
            "1875/1875 [==============================] - 59s 32ms/step - loss: 0.0071 - accuracy: 0.9977\n",
            "Epoch 10/10\n",
            "1875/1875 [==============================] - 59s 32ms/step - loss: 0.0071 - accuracy: 0.9975\n",
            "313/313 - 3s - loss: 0.0343 - accuracy: 0.9920\n",
            "test_loss: 0.034336887300014496 \n",
            "test_accuracy: 0.9919999837875366\n"
          ]
        }
      ],
      "source": [
        "# 성능 올리기: 하이퍼파라미터 조정하기\n",
        "\n",
        "n_channel_1=32\n",
        "n_channel_2=64\n",
        "n_dense=64\n",
        "n_train_epoch=10\n",
        "\n",
        "model=keras.models.Sequential()\n",
        "model.add(keras.layers.Conv2D(n_channel_1, (3,3), activation='relu', input_shape=(28, 28, 1)))\n",
        "model.add(keras.layers.MaxPool2D(2,2))\n",
        "model.add(keras.layers.Conv2D(n_channel_2, (3,3), activation='relu'))\n",
        "model.add(keras.layers.MaxPooling2D((2,2)))\n",
        "model.add(keras.layers.Flatten())\n",
        "model.add(keras.layers.Dense(n_dense, activation='relu'))\n",
        "model.add(keras.layers.Dense(10, activation='softmax'))\n",
        "\n",
        "model.summary()\n",
        "model.compile(optimizer='adam',\n",
        "             loss='sparse_categorical_crossentropy',\n",
        "             metrics=['accuracy'])\n",
        "\n",
        "# 모델 훈련\n",
        "model.fit(x_train_reshaped, y_train, epochs=n_train_epoch)\n",
        "\n",
        "# 모델 시험\n",
        "test_loss, test_accuracy = model.evaluate(x_test_reshaped, y_test, verbose=2)\n",
        "print(f\"test_loss: {test_loss} \")\n",
        "print(f\"test_accuracy: {test_accuracy}\")"
      ]
    },
    {
      "cell_type": "markdown",
      "id": "9227ca24",
      "metadata": {
        "id": "9227ca24"
      },
      "source": [
        "**Q. 하이퍼파라미터를 바꾸어가면서 시험용 데이터(x_test)에 대한 인식률을 확인해 봅시다.  \n",
        "최고로 높은 점수를 얻은 네트워크 모델 코드와 그 때의 시험용 데이터 인식률 값을 올려주세요.**\n",
        "\n",
        "```\n",
        "n_channel_1=32 / n_channel_2=64 / n_dense=64 / n_train_epoch=10\n",
        "```"
      ]
    },
    {
      "cell_type": "markdown",
      "id": "8da423cf",
      "metadata": {
        "id": "8da423cf"
      },
      "source": [
        "## 3. 미니 프로젝트: 가위바위보 분류기를 만들자"
      ]
    },
    {
      "cell_type": "markdown",
      "id": "5bd96afd",
      "metadata": {
        "id": "5bd96afd"
      },
      "source": [
        "### 3-1. 미니 프로젝트 : 가위바위보 분류기를 만들자"
      ]
    },
    {
      "cell_type": "markdown",
      "id": "9b2aec08",
      "metadata": {
        "id": "9b2aec08"
      },
      "source": [
        "**라이브러리 버전 확인하기**"
      ]
    },
    {
      "cell_type": "code",
      "execution_count": null,
      "id": "8da8d712",
      "metadata": {
        "id": "8da8d712",
        "outputId": "5bc60e48-1a51-4a23-d3a1-c839d9dd736e"
      },
      "outputs": [
        {
          "name": "stdout",
          "output_type": "stream",
          "text": [
            "2.6.0\n",
            "1.22.2\n"
          ]
        }
      ],
      "source": [
        "# Lib\n",
        "\n",
        "import tensorflow as tf\n",
        "import numpy as np\n",
        "\n",
        "print(tf.__version__)\n",
        "print(np.__version__)"
      ]
    },
    {
      "cell_type": "markdown",
      "id": "07c3f8e0",
      "metadata": {
        "id": "07c3f8e0"
      },
      "source": [
        "**데이터 준비하기**\n",
        "\n",
        "구글의 teachable machine 활용하여 `Rock Paper Scissors` 이미지 데이터 만들고, LMS에 저장하기\n",
        "\n",
        "```\n",
        "aiffel\n",
        "└── rock_scissor_paper\n",
        "    ├── rock\n",
        "        └── rock.zip\n",
        "    ├── scissor\n",
        "        └── scissor.zip\n",
        "    └── paper\n",
        "        └── paper.zip\n",
        "```"
      ]
    },
    {
      "cell_type": "markdown",
      "id": "826af4a1",
      "metadata": {
        "id": "826af4a1"
      },
      "source": [
        "**Q. 다운로드 받은 이미지는 크기는 무엇일까요? \"nxn\"(n은 정수)의 형태로.**\n",
        "\n",
        "```\n",
        "224x224\n",
        "```"
      ]
    },
    {
      "cell_type": "markdown",
      "id": "fd348b93",
      "metadata": {
        "id": "fd348b93"
      },
      "source": [
        "**데이터 불러오기 & 이미지 데이터 크기 조정하기**"
      ]
    },
    {
      "cell_type": "code",
      "execution_count": null,
      "id": "26942711",
      "metadata": {
        "id": "26942711",
        "outputId": "6ab87154-51eb-4454-d64c-38a8c352a530"
      },
      "outputs": [
        {
          "name": "stdout",
          "output_type": "stream",
          "text": [
            "PIL 라이브러리 import 완료!\n"
          ]
        }
      ],
      "source": [
        "from PIL import Image\n",
        "import glob\n",
        "import os\n",
        "\n",
        "print(\"PIL 라이브러리 import 완료!\")"
      ]
    },
    {
      "cell_type": "code",
      "execution_count": null,
      "id": "a5c783c3",
      "metadata": {
        "id": "a5c783c3",
        "outputId": "5a0ad996-1870-491f-8579-8c4786303c17"
      },
      "outputs": [
        {
          "name": "stdout",
          "output_type": "stream",
          "text": [
            "200  images to be resized.\n",
            "200  images resized.\n",
            "가위 이미지 resize 완료!\n"
          ]
        }
      ],
      "source": [
        "# 가위 이미지 28x28 사이즈로 변경\n",
        "\n",
        "def resize_images(img_path):\n",
        "    images=glob.glob(img_path + \"/*.jpg\")\n",
        "\n",
        "    print(len(images), \" images to be resized.\")\n",
        "\n",
        "    # 파일마다 모두 28x28 사이즈로 변경\n",
        "    target_size=(28,28)\n",
        "    for img in images:\n",
        "        old_img=Image.open(img)\n",
        "        new_img=old_img.resize(target_size,Image.ANTIALIAS)\n",
        "        new_img.save(img, \"JPEG\")\n",
        "\n",
        "    print(len(images), \" images resized.\")\n",
        "\n",
        "image_dir_path = os.getenv(\"HOME\") + \"/aiffel/rock_scissor_paper/scissor\"\n",
        "resize_images(image_dir_path)\n",
        "\n",
        "print(\"가위 이미지 resize 완료!\")"
      ]
    },
    {
      "cell_type": "code",
      "execution_count": null,
      "id": "5ac9a354",
      "metadata": {
        "id": "5ac9a354",
        "outputId": "c3ba1a57-ab16-454b-e84d-2c0623365cd8"
      },
      "outputs": [
        {
          "name": "stdout",
          "output_type": "stream",
          "text": [
            "200  images to be resized.\n",
            "200  images resized.\n",
            "바위 이미지 resize 완료!\n"
          ]
        }
      ],
      "source": [
        "def resize_images(img_path):\n",
        "    images=glob.glob(img_path + \"/*.jpg\")\n",
        "    print(len(images), \" images to be resized.\")\n",
        "\n",
        "    # 파일마다 모두 28x28 사이즈로 바꾸어 저장합니다.\n",
        "    target_size=(28,28)\n",
        "    for img in images:\n",
        "        old_img=Image.open(img)\n",
        "        new_img=old_img.resize(target_size,Image.ANTIALIAS)\n",
        "        new_img.save(img, \"JPEG\")\n",
        "\n",
        "    print(len(images), \" images resized.\")\n",
        "\n",
        "# 바위 이미지가 저장된 디렉토리 아래의 모든 jpg 파일을 읽어들여서\n",
        "image_dir_path = os.getenv(\"HOME\") + \"/aiffel/rock_scissor_paper/rock\"\n",
        "resize_images(image_dir_path)\n",
        "\n",
        "print(\"바위 이미지 resize 완료!\")"
      ]
    },
    {
      "cell_type": "code",
      "execution_count": null,
      "id": "b49c4c22",
      "metadata": {
        "id": "b49c4c22",
        "outputId": "499f7428-1ae2-4be6-b387-a372767f39b6"
      },
      "outputs": [
        {
          "name": "stdout",
          "output_type": "stream",
          "text": [
            "200  images to be resized.\n",
            "200  images resized.\n",
            "보 이미지 resize 완료!\n"
          ]
        }
      ],
      "source": [
        "def resize_images(img_path):\n",
        "    images=glob.glob(img_path + \"/*.jpg\")\n",
        "    print(len(images), \" images to be resized.\")\n",
        "\n",
        "    # 파일마다 모두 28x28 사이즈로 바꾸어 저장합니다.\n",
        "    target_size=(28,28)\n",
        "    for img in images:\n",
        "        old_img=Image.open(img)\n",
        "        new_img=old_img.resize(target_size,Image.ANTIALIAS)\n",
        "        new_img.save(img, \"JPEG\")\n",
        "\n",
        "    print(len(images), \" images resized.\")\n",
        "\n",
        "# 보 이미지가 저장된 디렉토리 아래의 모든 jpg 파일을 읽어들여서\n",
        "image_dir_path = os.getenv(\"HOME\") + \"/aiffel/rock_scissor_paper/paper\"\n",
        "resize_images(image_dir_path)\n",
        "\n",
        "print(\"보 이미지 resize 완료!\")"
      ]
    },
    {
      "cell_type": "code",
      "execution_count": null,
      "id": "c8004d8b",
      "metadata": {
        "id": "c8004d8b",
        "outputId": "7df2b809-163e-4c44-e755-1449cacb20b1"
      },
      "outputs": [
        {
          "name": "stdout",
          "output_type": "stream",
          "text": [
            "학습데이터(x_train)의 이미지 개수는 600 입니다.\n",
            "x_train shape: (480, 28, 28, 3)\n",
            "y_train shape: (480,)\n"
          ]
        }
      ],
      "source": [
        "# 가위, 바위, 보 데이터를 읽을 수 있는 load_data() 함수 만들기\n",
        "\n",
        "import numpy as np\n",
        "\n",
        "def load_data(img_path, number_of_data=600):  # 가위바위보 이미지 개수 총합에 주의하세요.\n",
        "    # 가위 : 0, 바위 : 1, 보 : 2\n",
        "    img_size=28\n",
        "    color=3\n",
        "    #이미지 데이터와 라벨(가위 : 0, 바위 : 1, 보 : 2) 데이터를 담을 행렬(matrix) 영역을 생성합니다.\n",
        "    imgs=np.zeros(number_of_data*img_size*img_size*color,dtype=np.int32).reshape(number_of_data,img_size,img_size,color)\n",
        "    labels=np.zeros(number_of_data,dtype=np.int32)\n",
        "\n",
        "    idx=0\n",
        "    for file in glob.iglob(img_path+'/scissor/*.jpg'):\n",
        "        img = np.array(Image.open(file),dtype=np.int32)\n",
        "        imgs[idx,:,:,:]=img    # 데이터 영역에 이미지 행렬을 복사\n",
        "        labels[idx]=0   # 가위 : 0\n",
        "        idx=idx+1\n",
        "\n",
        "    for file in glob.iglob(img_path+'/rock/*.jpg'):\n",
        "        img = np.array(Image.open(file),dtype=np.int32)\n",
        "        imgs[idx,:,:,:]=img    # 데이터 영역에 이미지 행렬을 복사\n",
        "        labels[idx]=1   # 바위 : 1\n",
        "        idx=idx+1\n",
        "\n",
        "    for file in glob.iglob(img_path+'/paper/*.jpg'):\n",
        "        img = np.array(Image.open(file),dtype=np.int32)\n",
        "        imgs[idx,:,:,:]=img    # 데이터 영역에 이미지 행렬을 복사\n",
        "        labels[idx]=2   # 보 : 2\n",
        "        idx=idx+1\n",
        "\n",
        "    print(\"학습데이터(x_train)의 이미지 개수는\", idx,\"입니다.\")\n",
        "    return imgs, labels\n",
        "\n",
        "image_dir_path = os.getenv(\"HOME\") + \"/aiffel/rock_scissor_paper\"\n",
        "(x_train, y_train)=load_data(image_dir_path)\n",
        "x_train_norm = x_train/255.0   # 입력은 0~1 사이의 값으로 정규화\n",
        "\n",
        "# 데이터 섞고, 검증 데이터 분리하기\n",
        "def shuffle_dataset(x_train, y_train):\n",
        "    permutation = np.random.permutation(x_train.shape[0])\n",
        "    x_train = x_train[permutation,:] if x_train.ndim == 2 else x_train[permutation,:,:,:]\n",
        "    y_train = y_train[permutation]\n",
        "\n",
        "    return x_train, y_train\n",
        "\n",
        "x_train, y_train = shuffle_dataset(x_train, y_train)\n",
        "validation_rate = 0.20\n",
        "validation_num = int(x_train.shape[0] * validation_rate)\n",
        "\n",
        "x_val = x_train[:validation_num]\n",
        "y_val = y_train[:validation_num]\n",
        "\n",
        "x_train = x_train[validation_num:]\n",
        "y_train = y_train[validation_num:]\n",
        "\n",
        "print(\"x_train shape: {}\".format(x_train.shape))\n",
        "print(\"y_train shape: {}\".format(y_train.shape))"
      ]
    },
    {
      "cell_type": "code",
      "execution_count": null,
      "id": "b202b0a8",
      "metadata": {
        "id": "b202b0a8",
        "outputId": "7175ea36-0185-4d17-d856-344bd0d9ae66"
      },
      "outputs": [
        {
          "name": "stdout",
          "output_type": "stream",
          "text": [
            "라벨:  0\n"
          ]
        },
        {
          "data": {
            "image/png": "[encoded data removed]",
            "text/plain": [
              "<Figure size 432x288 with 1 Axes>"
            ]
          },
          "metadata": {
            "needs_background": "light"
          },
          "output_type": "display_data"
        }
      ],
      "source": [
        "# 이미지 데이터 확인하기\n",
        "\n",
        "import matplotlib.pyplot as plt\n",
        "\n",
        "plt.imshow(x_train[0])\n",
        "print('라벨: ', y_train[0])"
      ]
    },
    {
      "cell_type": "markdown",
      "id": "6a4c3c14",
      "metadata": {
        "id": "6a4c3c14"
      },
      "source": [
        "**딥러닝 네트워크 설계하기**"
      ]
    },
    {
      "cell_type": "markdown",
      "id": "54d0cffc",
      "metadata": {
        "id": "54d0cffc"
      },
      "source": [
        "**Q. 모델의 입력/출력부에 특히 유의하여 모델을 직접 만들어 보세요. 가위바위보 데이터셋은 MNIST 데이터셋과 어떤 점이 달라졌나요?**\n",
        "\n",
        "```\n",
        "MNIST 데이터셋의 최종 분류기 class 수는 10이었고, 가위바위보 데이터셋의 최종 분류기 class 수는 3입니다.\n",
        "```"
      ]
    },
    {
      "cell_type": "code",
      "execution_count": null,
      "id": "dc6b4575",
      "metadata": {
        "id": "dc6b4575",
        "outputId": "885f825b-44de-484b-a09e-3b206052e477"
      },
      "outputs": [
        {
          "name": "stdout",
          "output_type": "stream",
          "text": [
            "Model에 추가된 Layer 개수:  7\n",
            "Model: \"sequential_23\"\n",
            "_________________________________________________________________\n",
            "Layer (type)                 Output Shape              Param #   \n",
            "=================================================================\n",
            "conv2d_46 (Conv2D)           (None, 26, 26, 256)       7168      \n",
            "_________________________________________________________________\n",
            "max_pooling2d_46 (MaxPooling (None, 13, 13, 256)       0         \n",
            "_________________________________________________________________\n",
            "conv2d_47 (Conv2D)           (None, 11, 11, 512)       1180160   \n",
            "_________________________________________________________________\n",
            "max_pooling2d_47 (MaxPooling (None, 5, 5, 512)         0         \n",
            "_________________________________________________________________\n",
            "flatten_23 (Flatten)         (None, 12800)             0         \n",
            "_________________________________________________________________\n",
            "dense_46 (Dense)             (None, 512)               6554112   \n",
            "_________________________________________________________________\n",
            "dense_47 (Dense)             (None, 3)                 1539      \n",
            "=================================================================\n",
            "Total params: 7,742,979\n",
            "Trainable params: 7,742,979\n",
            "Non-trainable params: 0\n",
            "_________________________________________________________________\n"
          ]
        }
      ],
      "source": [
        "import tensorflow as tf\n",
        "from tensorflow import keras\n",
        "import numpy as np\n",
        "\n",
        "model=keras.models.Sequential()\n",
        "model.add(keras.layers.Conv2D(256, (3, 3), activation='relu', input_shape=(28, 28, 3))) # 이미지의 특징과 입력 이미지의 형태\n",
        "model.add(keras.layers.MaxPool2D(2, 2))\n",
        "model.add(keras.layers.Conv2D(512, (3, 3), activation='relu')) # 이미지의 특징\n",
        "model.add(keras.layers.MaxPooling2D((2, 2)))\n",
        "model.add(keras.layers.Flatten())\n",
        "model.add(keras.layers.Dense(512, activation='relu')) # 분류기 알고리즘의 복잡도\n",
        "model.add(keras.layers.Dense(3, activation='softmax')) # 최종 분류기의 class 수\n",
        "\n",
        "print('Model에 추가된 Layer 개수: ', len(model.layers))\n",
        "\n",
        "model.summary()"
      ]
    },
    {
      "cell_type": "markdown",
      "id": "89f89c34",
      "metadata": {
        "id": "89f89c34"
      },
      "source": [
        "**딥러닝 네트워크 학습시키기**"
      ]
    },
    {
      "cell_type": "markdown",
      "id": "8acc15de",
      "metadata": {
        "id": "8acc15de"
      },
      "source": [
        "**Q. model.compile()과 model.fit()을 사용하여 딥러닝 네트워크 학습시키기**"
      ]
    },
    {
      "cell_type": "code",
      "execution_count": null,
      "id": "7ab87804",
      "metadata": {
        "id": "7ab87804",
        "outputId": "8b6a61c0-09f5-4a05-f0bf-02a5e63238ca"
      },
      "outputs": [
        {
          "name": "stdout",
          "output_type": "stream",
          "text": [
            "Epoch 1/8\n",
            "15/15 [==============================] - 15s 992ms/step - loss: 80.6893 - accuracy: 0.3833\n",
            "Epoch 2/8\n",
            "15/15 [==============================] - 15s 981ms/step - loss: 0.6541 - accuracy: 0.7292\n",
            "Epoch 3/8\n",
            "15/15 [==============================] - 15s 973ms/step - loss: 0.4645 - accuracy: 0.8292\n",
            "Epoch 4/8\n",
            "15/15 [==============================] - 14s 956ms/step - loss: 0.2387 - accuracy: 0.9167\n",
            "Epoch 5/8\n",
            "15/15 [==============================] - 15s 979ms/step - loss: 0.1165 - accuracy: 0.9521\n",
            "Epoch 6/8\n",
            "15/15 [==============================] - 14s 962ms/step - loss: 0.0448 - accuracy: 0.9875\n",
            "Epoch 7/8\n",
            "15/15 [==============================] - 14s 957ms/step - loss: 0.0263 - accuracy: 0.9896\n",
            "Epoch 8/8\n",
            "15/15 [==============================] - 14s 965ms/step - loss: 0.0102 - accuracy: 1.0000\n"
          ]
        },
        {
          "data": {
            "text/plain": [
              "<keras.callbacks.History at 0x7f5d4830c6d0>"
            ]
          },
          "execution_count": 72,
          "metadata": {},
          "output_type": "execute_result"
        }
      ],
      "source": [
        "model.compile(optimizer='adam',\n",
        "             loss='sparse_categorical_crossentropy',\n",
        "             metrics=['accuracy'])\n",
        "\n",
        "model.fit(x_train, y_train, epochs=8)"
      ]
    },
    {
      "cell_type": "markdown",
      "id": "a7187a60",
      "metadata": {
        "id": "a7187a60"
      },
      "source": [
        "학습이 진행됨에 따라 epoch 별로 어느 정도 인식 정확도(accuracy)가 올라가는지 확인할 수 있습니다.  \n",
        "인식 정확도가 0.3042에서 5 epoch 이르러 1.0이 나옵니다. 과적합이 발생한 것 같아요!"
      ]
    },
    {
      "cell_type": "markdown",
      "id": "2dc0e764",
      "metadata": {
        "id": "2dc0e764"
      },
      "source": [
        "**얼마나 잘 만들었는지 확인하기(테스트)**\n",
        "\n",
        "```\n",
        "# Test data 경로 설정\n",
        "\n",
        "mkdir -p ~/aiffel/rock_scissor_paper/test\n",
        "```"
      ]
    },
    {
      "cell_type": "markdown",
      "id": "33de8d47",
      "metadata": {
        "id": "33de8d47"
      },
      "source": [
        "**테스트 데이터 이미지 크기 조정하기**"
      ]
    },
    {
      "cell_type": "code",
      "execution_count": null,
      "id": "cef94c08",
      "metadata": {
        "id": "cef94c08",
        "outputId": "b6a84d0d-c709-4f13-c97e-99ea3bccf2e5"
      },
      "outputs": [
        {
          "name": "stdout",
          "output_type": "stream",
          "text": [
            "100  images to be resized.\n",
            "100  images resized.\n",
            "가위 테스트 이미지 resize 완료!\n"
          ]
        }
      ],
      "source": [
        "def resize_images(img_path):\n",
        "    images=glob.glob(img_path + \"/*.jpg\")\n",
        "\n",
        "    print(len(images), \" images to be resized.\")\n",
        "\n",
        "    # 파일마다 모두 28x28 사이즈로 변경\n",
        "    target_size=(28,28)\n",
        "    for img in images:\n",
        "        old_img=Image.open(img)\n",
        "        new_img=old_img.resize(target_size,Image.ANTIALIAS)\n",
        "        new_img.save(img, \"JPEG\")\n",
        "\n",
        "    print(len(images), \" images resized.\")\n",
        "\n",
        "image_dir_path = os.getenv(\"HOME\") + \"/aiffel/rock_scissor_paper/test/scissor\"\n",
        "resize_images(image_dir_path)\n",
        "\n",
        "print(\"가위 테스트 이미지 resize 완료!\")"
      ]
    },
    {
      "cell_type": "code",
      "execution_count": null,
      "id": "5e63df17",
      "metadata": {
        "id": "5e63df17",
        "outputId": "d5738d01-b9dc-4ab3-ec4a-8823e90a18ee"
      },
      "outputs": [
        {
          "name": "stdout",
          "output_type": "stream",
          "text": [
            "100  images to be resized.\n",
            "100  images resized.\n",
            "바위 테스트 이미지 resize 완료!\n"
          ]
        }
      ],
      "source": [
        "def resize_images(img_path):\n",
        "    images=glob.glob(img_path + \"/*.jpg\")\n",
        "    print(len(images), \" images to be resized.\")\n",
        "\n",
        "    # 파일마다 모두 28x28 사이즈로 바꾸어 저장합니다.\n",
        "    target_size=(28,28)\n",
        "    for img in images:\n",
        "        old_img=Image.open(img)\n",
        "        new_img=old_img.resize(target_size,Image.ANTIALIAS)\n",
        "        new_img.save(img, \"JPEG\")\n",
        "\n",
        "    print(len(images), \" images resized.\")\n",
        "\n",
        "# 바위 이미지가 저장된 디렉토리 아래의 모든 jpg 파일을 읽어들여서\n",
        "image_dir_path = os.getenv(\"HOME\") + \"/aiffel/rock_scissor_paper/test/rock\"\n",
        "resize_images(image_dir_path)\n",
        "\n",
        "print(\"바위 테스트 이미지 resize 완료!\")"
      ]
    },
    {
      "cell_type": "code",
      "execution_count": null,
      "id": "a4bed9dc",
      "metadata": {
        "id": "a4bed9dc",
        "outputId": "7927641c-71e0-451b-9b44-902866571c10"
      },
      "outputs": [
        {
          "name": "stdout",
          "output_type": "stream",
          "text": [
            "100  images to be resized.\n",
            "100  images resized.\n",
            "보 테스트 이미지 resize 완료!\n"
          ]
        }
      ],
      "source": [
        "def resize_images(img_path):\n",
        "    images=glob.glob(img_path + \"/*.jpg\")\n",
        "    print(len(images), \" images to be resized.\")\n",
        "\n",
        "    # 파일마다 모두 28x28 사이즈로 바꾸어 저장합니다.\n",
        "    target_size=(28,28)\n",
        "    for img in images:\n",
        "        old_img=Image.open(img)\n",
        "        new_img=old_img.resize(target_size,Image.ANTIALIAS)\n",
        "        new_img.save(img, \"JPEG\")\n",
        "\n",
        "    print(len(images), \" images resized.\")\n",
        "\n",
        "# 보 이미지가 저장된 디렉토리 아래의 모든 jpg 파일을 읽어들여서\n",
        "image_dir_path = os.getenv(\"HOME\") + \"/aiffel/rock_scissor_paper/test/paper\"\n",
        "resize_images(image_dir_path)\n",
        "\n",
        "print(\"보 테스트 이미지 resize 완료!\")"
      ]
    },
    {
      "cell_type": "code",
      "execution_count": null,
      "id": "c34036bb",
      "metadata": {
        "id": "c34036bb",
        "outputId": "546fe583-9b5c-47f7-9d45-1e2dac6838d9"
      },
      "outputs": [
        {
          "name": "stdout",
          "output_type": "stream",
          "text": [
            "테스트 데이터(x_test)의 이미지 개수는 300 입니다.\n",
            "(480, 28, 28, 3)\n",
            "(300, 28, 28, 3)\n"
          ]
        }
      ],
      "source": [
        "# 테스트 데이터 x_test, y_test 만들기\n",
        "\n",
        "def load_data(img_path, number_of_data=300):  # 가위바위보 이미지 개수 총합에 주의하세요.\n",
        "    # 가위 : 0, 바위 : 1, 보 : 2\n",
        "    img_size=28\n",
        "    color=3\n",
        "    #이미지 데이터와 라벨(가위 : 0, 바위 : 1, 보 : 2) 데이터를 담을 행렬(matrix) 영역을 생성합니다.\n",
        "    imgs=np.zeros(number_of_data*img_size*img_size*color,dtype=np.int32).reshape(number_of_data,img_size,img_size,color)\n",
        "    labels=np.zeros(number_of_data,dtype=np.int32)\n",
        "\n",
        "    idx=0\n",
        "    for file in glob.iglob(img_path+'/scissor/*.jpg'):\n",
        "        img = np.array(Image.open(file),dtype=np.int32)\n",
        "        imgs[idx,:,:,:]=img    # 데이터 영역에 이미지 행렬을 복사\n",
        "        labels[idx]=0   # 가위 : 0\n",
        "        idx=idx+1\n",
        "\n",
        "    for file in glob.iglob(img_path+'/rock/*.jpg'):\n",
        "        img = np.array(Image.open(file),dtype=np.int32)\n",
        "        imgs[idx,:,:,:]=img    # 데이터 영역에 이미지 행렬을 복사\n",
        "        labels[idx]=1   # 바위 : 1\n",
        "        idx=idx+1\n",
        "\n",
        "    for file in glob.iglob(img_path+'/paper/*.jpg'):\n",
        "        img = np.array(Image.open(file),dtype=np.int32)\n",
        "        imgs[idx,:,:,:]=img    # 데이터 영역에 이미지 행렬을 복사\n",
        "        labels[idx]=2   # 보 : 2\n",
        "        idx=idx+1\n",
        "\n",
        "    print(\"테스트 데이터(x_test)의 이미지 개수는\", idx,\"입니다.\")\n",
        "    return imgs, labels\n",
        "\n",
        "image_dir_path = os.getenv(\"HOME\") + \"/aiffel/rock_scissor_paper/test\"\n",
        "(x_test, y_test)=load_data(image_dir_path)\n",
        "x_test_norm = x_test/255.0   # 입력은 0~1 사이의 값으로 정규화\n",
        "\n",
        "print(x_train.shape)\n",
        "print(x_test.shape)"
      ]
    },
    {
      "cell_type": "code",
      "execution_count": null,
      "id": "1dc9dfcf",
      "metadata": {
        "id": "1dc9dfcf",
        "outputId": "bdb5d6bc-404f-4c9b-c7e4-344dbff2821e"
      },
      "outputs": [
        {
          "name": "stdout",
          "output_type": "stream",
          "text": [
            "10/10 - 2s - loss: 3.0493 - accuracy: 0.3900\n",
            "test_loss: 3.0492687225341797\n",
            "test_accuracy: 0.38999998569488525\n"
          ]
        }
      ],
      "source": [
        "# 위에서 훈련시킨 모델을 사용하여 test_accuracy를 측정\n",
        "\n",
        "test_loss, test_accuracy = model.evaluate(x_test, y_test, verbose=2)\n",
        "print(f\"test_loss: {test_loss}\")\n",
        "print(f\"test_accuracy: {test_accuracy}\")"
      ]
    },
    {
      "cell_type": "markdown",
      "id": "1db0f3f0",
      "metadata": {
        "id": "1db0f3f0"
      },
      "source": [
        "손실 3.04에 인식 정확도(test_accuracy)는 무려 0.3899! 엉망진창이네요."
      ]
    },
    {
      "cell_type": "code",
      "execution_count": null,
      "id": "195a8d72",
      "metadata": {
        "id": "195a8d72",
        "outputId": "91357435-a8e6-4e3f-feac-4861d65143da"
      },
      "outputs": [
        {
          "name": "stdout",
          "output_type": "stream",
          "text": [
            "model.predict() 결과 :  [1.5080101e-05 9.9121557e-05 9.9988580e-01]\n",
            "model이 추론한 가장 가능성이 높은 결과 :  2\n",
            "실제 데이터의 라벨 :  0\n"
          ]
        }
      ],
      "source": [
        "predicted_result = model.predict(x_test)  # model이 추론한 확률값\n",
        "predicted_labels = np.argmax(predicted_result, axis=1)\n",
        "\n",
        "idx=0  # 1번째 x_test\n",
        "print('model.predict() 결과 : ', predicted_result[idx])\n",
        "print('model이 추론한 가장 가능성이 높은 결과 : ', predicted_labels[idx])\n",
        "print('실제 데이터의 라벨 : ', y_test[idx])"
      ]
    },
    {
      "cell_type": "code",
      "execution_count": null,
      "id": "2446a9f3",
      "metadata": {
        "id": "2446a9f3",
        "outputId": "8374d4c8-bc87-4166-a70e-d1a7baf004af"
      },
      "outputs": [
        {
          "data": {
            "image/png": "[encoded data removed]",
            "text/plain": [
              "<Figure size 432x288 with 1 Axes>"
            ]
          },
          "metadata": {
            "needs_background": "light"
          },
          "output_type": "display_data"
        }
      ],
      "source": [
        "plt.imshow(x_test[idx],cmap=plt.cm.binary)\n",
        "plt.show()"
      ]
    },
    {
      "cell_type": "markdown",
      "id": "2477df7f",
      "metadata": {
        "id": "2477df7f"
      },
      "source": [
        "**더 좋은 네트워크 만들어보기**"
      ]
    },
    {
      "cell_type": "code",
      "execution_count": null,
      "id": "f03fd464",
      "metadata": {
        "id": "f03fd464",
        "outputId": "f059d645-4de2-4204-d4d9-ed08a4fe478c"
      },
      "outputs": [
        {
          "name": "stdout",
          "output_type": "stream",
          "text": [
            "Model: \"sequential_77\"\n",
            "_________________________________________________________________\n",
            "Layer (type)                 Output Shape              Param #   \n",
            "=================================================================\n",
            "conv2d_154 (Conv2D)          (None, 26, 26, 32)        896       \n",
            "_________________________________________________________________\n",
            "max_pooling2d_154 (MaxPoolin (None, 13, 13, 32)        0         \n",
            "_________________________________________________________________\n",
            "conv2d_155 (Conv2D)          (None, 11, 11, 64)        18496     \n",
            "_________________________________________________________________\n",
            "max_pooling2d_155 (MaxPoolin (None, 5, 5, 64)          0         \n",
            "_________________________________________________________________\n",
            "flatten_77 (Flatten)         (None, 1600)              0         \n",
            "_________________________________________________________________\n",
            "dense_154 (Dense)            (None, 64)                102464    \n",
            "_________________________________________________________________\n",
            "dropout_70 (Dropout)         (None, 64)                0         \n",
            "_________________________________________________________________\n",
            "dense_155 (Dense)            (None, 10)                650       \n",
            "=================================================================\n",
            "Total params: 122,506\n",
            "Trainable params: 122,506\n",
            "Non-trainable params: 0\n",
            "_________________________________________________________________\n",
            "Epoch 1/20\n",
            "15/15 [==============================] - 1s 35ms/step - loss: 19.7990 - accuracy: 0.3479\n",
            "Epoch 2/20\n",
            "15/15 [==============================] - 1s 34ms/step - loss: 1.0400 - accuracy: 0.6042\n",
            "Epoch 3/20\n",
            "15/15 [==============================] - 1s 35ms/step - loss: 0.4471 - accuracy: 0.8271\n",
            "Epoch 4/20\n",
            "15/15 [==============================] - 1s 34ms/step - loss: 0.3059 - accuracy: 0.8917\n",
            "Epoch 5/20\n",
            "15/15 [==============================] - 1s 34ms/step - loss: 0.1692 - accuracy: 0.9396\n",
            "Epoch 6/20\n",
            "15/15 [==============================] - 1s 35ms/step - loss: 0.1558 - accuracy: 0.9458\n",
            "Epoch 7/20\n",
            "15/15 [==============================] - 1s 35ms/step - loss: 0.1860 - accuracy: 0.9208\n",
            "Epoch 8/20\n",
            "15/15 [==============================] - 1s 33ms/step - loss: 0.1598 - accuracy: 0.9500\n",
            "Epoch 9/20\n",
            "15/15 [==============================] - 1s 37ms/step - loss: 0.1533 - accuracy: 0.9458\n",
            "Epoch 10/20\n",
            "15/15 [==============================] - 1s 39ms/step - loss: 0.1330 - accuracy: 0.9458\n",
            "Epoch 11/20\n",
            "15/15 [==============================] - 1s 38ms/step - loss: 0.2397 - accuracy: 0.9167\n",
            "Epoch 12/20\n",
            "15/15 [==============================] - 1s 37ms/step - loss: 0.0907 - accuracy: 0.9729\n",
            "Epoch 13/20\n",
            "15/15 [==============================] - 1s 39ms/step - loss: 0.1002 - accuracy: 0.9583\n",
            "Epoch 14/20\n",
            "15/15 [==============================] - 1s 35ms/step - loss: 0.0519 - accuracy: 0.9812\n",
            "Epoch 15/20\n",
            "15/15 [==============================] - 1s 35ms/step - loss: 0.0661 - accuracy: 0.9833\n",
            "Epoch 16/20\n",
            "15/15 [==============================] - 1s 36ms/step - loss: 0.0502 - accuracy: 0.9792\n",
            "Epoch 17/20\n",
            "15/15 [==============================] - 1s 38ms/step - loss: 0.0798 - accuracy: 0.9688\n",
            "Epoch 18/20\n",
            "15/15 [==============================] - 1s 38ms/step - loss: 0.1387 - accuracy: 0.9500\n",
            "Epoch 19/20\n",
            "15/15 [==============================] - 1s 36ms/step - loss: 0.1304 - accuracy: 0.9417\n",
            "Epoch 20/20\n",
            "15/15 [==============================] - 1s 34ms/step - loss: 0.1384 - accuracy: 0.9500\n",
            "10/10 - 0s - loss: 5.6543 - accuracy: 0.5567\n",
            "test_loss: 5.6543426513671875 \n",
            "test_accuracy: 0.5566666722297668\n"
          ]
        }
      ],
      "source": [
        "# 성능 올리기: 하이퍼파라미터 조정하기\n",
        "\n",
        "import tensorflow as tf\n",
        "from tensorflow import keras\n",
        "\n",
        "n_channel_1 = 32\n",
        "n_channel_2 = 64\n",
        "n_dense = 64\n",
        "n_train_epoch = 20\n",
        "\n",
        "model = keras.models.Sequential()\n",
        "model.add(keras.layers.Conv2D(n_channel_1, (3, 3), activation='relu', input_shape=(28, 28, 3)))\n",
        "model.add(keras.layers.MaxPool2D(2, 2))\n",
        "model.add(keras.layers.Conv2D(n_channel_2, (3, 3), activation='relu'))\n",
        "model.add(keras.layers.MaxPooling2D((2, 2)))\n",
        "model.add(keras.layers.Flatten())\n",
        "model.add(keras.layers.Dense(n_dense, activation='relu'))\n",
        "model.add(keras.layers.Dropout(0.5))\n",
        "model.add(keras.layers.Dense(10, activation='softmax'))\n",
        "\n",
        "model.summary()\n",
        "\n",
        "datagen = keras.preprocessing.image.ImageDataGenerator(\n",
        "    rotation_range=10,\n",
        "    width_shift_range=0.1,\n",
        "    height_shift_range=0.1,\n",
        "    shear_range=0.1,\n",
        "    zoom_range=0.1,\n",
        "    horizontal_flip=True,\n",
        "    vertical_flip=False\n",
        ")\n",
        "\n",
        "lr_schedule = keras.optimizers.schedules.ExponentialDecay(initial_learning_rate=1e-2,\n",
        "                                                          decay_steps=10000,\n",
        "                                                          decay_rate=0.9)\n",
        "optimizer = keras.optimizers.Adam(learning_rate=lr_schedule)\n",
        "\n",
        "model.compile(optimizer=optimizer,\n",
        "             loss='sparse_categorical_crossentropy',\n",
        "             metrics=['accuracy'])\n",
        "\n",
        "# 모델 훈련\n",
        "model.fit(x_train, y_train, epochs=n_train_epoch)\n",
        "\n",
        "# 모델 시험\n",
        "test_loss, test_accuracy = model.evaluate(x_test, y_test, verbose=2)\n",
        "print(f\"test_loss: {test_loss} \")\n",
        "print(f\"test_accuracy: {test_accuracy}\")"
      ]
    },
    {
      "cell_type": "markdown",
      "id": "071b6d03",
      "metadata": {
        "id": "071b6d03"
      },
      "source": [
        "### 3-2. test_accuracy를 높이기 위해 설정한 몇 가지 시도\n",
        "\n",
        "\n",
        "**1. 채널 조정 및 더 많은 횟수의 에포크 시도**\n",
        "\n",
        "```\n",
        "n_channel_1 = 256   -->   n_channel_1 = 32\n",
        "n_channel_2 = 512   -->   n_channel_2 = 64\n",
        "n_dense = 512       -->   n_dense = 64\n",
        "n_train_epoch = 8   -->   n_train_epoch = 20\n",
        "```\n",
        "\n",
        "**2. Dropout 레이어 추가**\n",
        "\n",
        "```\n",
        "model.add(keras.layers.Dropout(0.5))\n",
        "```\n",
        "\n",
        "**3. 학습률 스케줄링 설정**\n",
        "\n",
        "```\n",
        "lr_schedule = keras.optimizers.schedules.ExponentialDecay(initial_learning_rate=1e-7,\n",
        "                                                          decay_steps=10000,\n",
        "                                                          decay_rate=0.9)\n",
        "optimizer = keras.optimizers.Adam(learning_rate=lr_schedule)\n",
        "\n",
        "model.compile(optimizer=optimizer,\n",
        "             loss='sparse_categorical_crossentropy',\n",
        "             metrics=['accuracy'])\n",
        "```"
      ]
    }
  ],
  "metadata": {
    "kernelspec": {
      "display_name": "Python 3 (ipykernel)",
      "language": "python",
      "name": "python3"
    },
    "language_info": {
      "codemirror_mode": {
        "name": "ipython",
        "version": 3
      },
      "file_extension": ".py",
      "mimetype": "text/x-python",
      "name": "python",
      "nbconvert_exporter": "python",
      "pygments_lexer": "ipython3",
      "version": "3.9.7"
    },
    "colab": {
      "provenance": [],
      "include_colab_link": true
    }
  },
  "nbformat": 4,
  "nbformat_minor": 5
}