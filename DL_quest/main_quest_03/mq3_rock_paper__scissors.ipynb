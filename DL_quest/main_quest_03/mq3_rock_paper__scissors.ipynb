{
  "cells": [
    {
      "cell_type": "markdown",
      "metadata": {
        "id": "view-in-github",
        "colab_type": "text"
      },
      "source": [
        "<a href=\"https://colab.research.google.com/github/CAVASOL/aiffel_quest/blob/main/DL_quest/main_quest_03/mq3_rock_paper__scissors.ipynb\" target=\"_parent\"><img src=\"https://colab.research.google.com/assets/colab-badge.svg\" alt=\"Open In Colab\"/></a>"
      ]
    },
    {
      "cell_type": "markdown",
      "id": "01d829d7",
      "metadata": {
        "id": "01d829d7"
      },
      "source": [
        "## Main Quest 03. 인공지능과 가위바위보 하기\n",
        "\n",
        "\n",
        "### 학습 내용\n",
        "\n",
        "* 이미 잘 정제된 10개 클래스의 숫자 손글씨 데이터를 분류하는 classifier 만들기\n",
        "* 정제되지 않은 웹캠 사진으로부터 데이터 만들어보기\n",
        "* 흑백 사진이 아닌 컬러 사진을 학습하는 classifier 만들기\n",
        "* 분류하고자 하는 클래스의 개수를 마음대로 조절하기 (10개에서 3개로)\n",
        "\n",
        "### 학습 목표\n",
        "\n",
        "* `MNIST Dataset`와 텐서플로우 `Sequential API`를 이용하여 숫자 손글씨 인식기를 만들어 볼 수 있다.\n",
        "* Sequential Model을 활용하여 딥러닝 네트워크를 설계하고 학습 시킬 수 있다.\n",
        "* 테스트 데이터로 성능을 확인하고 하이퍼파라미터 조정을 시도하여 성능을 높여볼 수 있다.\n",
        "* 가위바위보 분류기를 만들기 위한 기본 데이터를 웹캠으로 제작 할 수 있다.\n",
        "\n",
        "### 목차\n",
        "\n",
        "**2. 인공지능과 가위바위보 하기**\n",
        "\n",
        "    2-1) 인공지능과 가위바위보 하기  \n",
        "\n",
        "    2-2) 데이터 준비  \n",
        "        1) MNIST 숫자 손글씨 Dataset 불러들이기\n",
        "        2) 학습용 데이터와 시험용 데이터\n",
        "        3) 데이터 전처리 하기\n",
        "\n",
        "    2-3) 딥러닝 네트워크 설계하기  \n",
        "        1) Sequential Model을 사용해 보자\n",
        "\n",
        "    2-4) 딥러닝 네트워크 학습시키기  \n",
        "\n",
        "    2-5) 얼마나 잘 만들었는지 확인하기\n",
        "        1) 테스트 데이터로 성능을 확인해 보자\n",
        "        2) 어떤 데이터를 잘못 추론했을까?\n",
        "\n",
        "    2-6) 더 좋은 네트워크 만들어보기  \n",
        "\n",
        "\n",
        "**3. 미니 프로젝트: 가위바위보 분류기를 만들자**  \n",
        "\n",
        "    3-1) 미니 프로젝트: 가위바위보 분류기를 만들자\n",
        "        1) 라이브러리 버전 확인하기\n",
        "        2) 데이터 준비하기\n",
        "        3) 데이터 불러오기 & 이미지 데이터 크기 조정하기\n",
        "        4) 딥러닝 네트워크 설계하기\n",
        "        5) 딥러닝 네트워크 학습시키기\n",
        "        6) 얼마나 잘 만들었는지 확인하기: 테스트\n",
        "        7) 더 좋은 네트워크 만들어보기\n",
        "        \n",
        "    3-2) test_accuracy를 높이기 위해 설정한 몇 가지 시도"
      ]
    },
    {
      "cell_type": "markdown",
      "id": "773a9d29",
      "metadata": {
        "id": "773a9d29"
      },
      "source": [
        "## 2. 인공지능과 가위바위보 하기"
      ]
    },
    {
      "cell_type": "markdown",
      "id": "ee2a00a6",
      "metadata": {
        "id": "ee2a00a6"
      },
      "source": [
        "### 2-1. 인공지능과 가위바위보 하기"
      ]
    },
    {
      "cell_type": "markdown",
      "id": "aaa2cde0",
      "metadata": {
        "id": "aaa2cde0"
      },
      "source": [
        "**Q. 2는 5보다 위에 있고 0은 2보다 큽니다. 또한, 5는 0보다 큽니다. 이것은 무엇일까요?**\n",
        "\n",
        "```\n",
        "가위바위보!\n",
        "```"
      ]
    },
    {
      "cell_type": "markdown",
      "id": "6fcd1a5f",
      "metadata": {
        "id": "6fcd1a5f"
      },
      "source": [
        "### 2-2. 데이터 준비"
      ]
    },
    {
      "cell_type": "markdown",
      "id": "8c031aec",
      "metadata": {
        "id": "8c031aec"
      },
      "source": [
        "**MNIST 숫자 손글씨 Dataset 불러들이기**"
      ]
    },
    {
      "cell_type": "code",
      "execution_count": null,
      "id": "d5cd7224",
      "metadata": {
        "id": "d5cd7224",
        "outputId": "d5ce152a-a559-4375-d381-51b12c8a9128"
      },
      "outputs": [
        {
          "name": "stdout",
          "output_type": "stream",
          "text": [
            "2.6.0\n",
            "60000\n"
          ]
        }
      ],
      "source": [
        "# TensorFlow의 표준 API인 tf.keras의 Sequential API를 이용하여 숫자 손글씨 인식기 만들기\n",
        "# TF 2.6.0\n",
        "\n",
        "import tensorflow as tf\n",
        "from tensorflow import keras\n",
        "\n",
        "import numpy as np\n",
        "import matplotlib.pyplot as plt\n",
        "import os\n",
        "\n",
        "\n",
        "print(tf.__version__)\n",
        "\n",
        "mnist = keras.datasets.mnist\n",
        "\n",
        "(x_train, y_train), (x_test, y_test) = mnist.load_data()\n",
        "\n",
        "print(len(x_train))"
      ]
    },
    {
      "cell_type": "markdown",
      "id": "a4ff6194",
      "metadata": {
        "id": "a4ff6194"
      },
      "source": [
        "**Q. 숫자 손글씨 이미지의 크기는 무엇일까요? \"nxn\"(n은 정수)의 형태로.**\n",
        "\n",
        "```\n",
        "28x28\n",
        "```"
      ]
    },
    {
      "cell_type": "markdown",
      "id": "ab7a55d7",
      "metadata": {
        "id": "ab7a55d7"
      },
      "source": [
        "**Q. MNIST dataset에는 총 몇 장의 손글씨 이미지가 있을까요?**\n",
        "\n",
        "```\n",
        "총 70000만 장의 손글씨 이미지 데이터가 있으며, 그 중 60000개는 훈련 데이터 10000개는 테스트 데이터로 활용합니다.\n",
        "```"
      ]
    },
    {
      "cell_type": "markdown",
      "id": "ed47d8f3",
      "metadata": {
        "id": "ed47d8f3"
      },
      "source": [
        "**Q. 학습용 데이터(training set)은 대략 몇명의 손글씨가 들어있을까요?**\n",
        "\n",
        "```\n",
        "250명\n",
        "```"
      ]
    },
    {
      "cell_type": "code",
      "execution_count": null,
      "id": "a798377c",
      "metadata": {
        "id": "a798377c",
        "outputId": "8f361fab-e076-4584-9fb5-bac9d19e8493"
      },
      "outputs": [
        {
          "data": {
            "image/png": "[encoded data removed]",
            "text/plain": [
              "<Figure size 432x288 with 1 Axes>"
            ]
          },
          "metadata": {
            "needs_background": "light"
          },
          "output_type": "display_data"
        }
      ],
      "source": [
        "# x_train 행렬의 2번째 값 확인\n",
        "\n",
        "plt.imshow(x_train[1],cmap=plt.cm.binary)\n",
        "plt.show()"
      ]
    },
    {
      "cell_type": "code",
      "execution_count": null,
      "id": "d69d58da",
      "metadata": {
        "id": "d69d58da",
        "outputId": "bb0b9442-d672-42c1-ea47-e40ee26619c1"
      },
      "outputs": [
        {
          "name": "stdout",
          "output_type": "stream",
          "text": [
            "0\n"
          ]
        }
      ],
      "source": [
        "# y_train 행렬의 2번째 값 확인\n",
        "\n",
        "print(y_train[1])"
      ]
    },
    {
      "cell_type": "code",
      "execution_count": null,
      "id": "01c7088d",
      "metadata": {
        "id": "01c7088d",
        "outputId": "ed141268-a0ca-409b-bab3-d88a295ec0a0"
      },
      "outputs": [
        {
          "data": {
            "image/png": "[encoded data removed]",
            "text/plain": [
              "<Figure size 432x288 with 1 Axes>"
            ]
          },
          "metadata": {
            "needs_background": "light"
          },
          "output_type": "display_data"
        },
        {
          "name": "stdout",
          "output_type": "stream",
          "text": [
            "10002 번째 이미지의 숫자는 바로  8 입니다.\n"
          ]
        }
      ],
      "source": [
        "index=10001\n",
        "plt.imshow(x_train[index],cmap=plt.cm.binary)\n",
        "plt.show()\n",
        "print( (index+1), '번째 이미지의 숫자는 바로 ',  y_train[index], '입니다.')"
      ]
    },
    {
      "cell_type": "markdown",
      "id": "fe4eaf38",
      "metadata": {
        "id": "fe4eaf38"
      },
      "source": [
        "**학습용 데이터와 시험용 데이터**"
      ]
    },
    {
      "cell_type": "code",
      "execution_count": null,
      "id": "d909308e",
      "metadata": {
        "id": "d909308e",
        "outputId": "50362ddf-72e2-4c3a-fea5-8406a5aca9af"
      },
      "outputs": [
        {
          "name": "stdout",
          "output_type": "stream",
          "text": [
            "(60000, 28, 28)\n"
          ]
        }
      ],
      "source": [
        "# Train data\n",
        "\n",
        "print(x_train.shape)"
      ]
    },
    {
      "cell_type": "markdown",
      "id": "09f946ef",
      "metadata": {
        "id": "09f946ef"
      },
      "source": [
        "훈련 데이터로서 28x28 크기의 숫자 이미지 데이터가 60,000장이 있습니다."
      ]
    },
    {
      "cell_type": "code",
      "execution_count": null,
      "id": "8935d064",
      "metadata": {
        "id": "8935d064",
        "outputId": "b2fbf9df-1129-4ebc-ad44-7501aef4094e"
      },
      "outputs": [
        {
          "name": "stdout",
          "output_type": "stream",
          "text": [
            "(10000, 28, 28)\n"
          ]
        }
      ],
      "source": [
        "# Test data\n",
        "\n",
        "print(x_test.shape)"
      ]
    },
    {
      "cell_type": "markdown",
      "id": "77a0a87b",
      "metadata": {
        "id": "77a0a87b"
      },
      "source": [
        "시험 데이터로서 28x28 크기의 숫자 이미지 데이터가 10,000장이 있습니다."
      ]
    },
    {
      "cell_type": "markdown",
      "id": "87aac7ed",
      "metadata": {
        "id": "87aac7ed"
      },
      "source": [
        "**Q. 언제 검증용 데이터(validation set)를 사용하나요?**\n",
        "\n",
        "```\n",
        "기계학습의 훈련 과정 중 학습의 진행 상황, 과적합 여부, 학습 중단의 필요 유무 등을 확인하기 위해 사용해요.\n",
        "```"
      ]
    },
    {
      "cell_type": "markdown",
      "id": "2ed3f862",
      "metadata": {
        "id": "2ed3f862"
      },
      "source": [
        "**Q. 교차 검증(cross validation) 기법은 무엇인가요?**\n",
        "\n",
        "```\n",
        "기계 학습 모델의 성능을 평가하고 일반화 성능을 향상시키는데 사용되는 기술이에요. 모델의 성능을 평가하기 위한 목적으로 사용하고, 모델이 훈련 데이터에 과적합(오버피팅)되는지 여부를 확인할 수 있어요. 그러나 데이터가 많은 경우, 시간이 다소 오래 걸린다는 단점이 있어요.\n",
        "```"
      ]
    },
    {
      "cell_type": "markdown",
      "id": "696f3487",
      "metadata": {
        "id": "696f3487"
      },
      "source": [
        "**데이터 전처리 하기**"
      ]
    },
    {
      "cell_type": "code",
      "execution_count": null,
      "id": "72341d3d",
      "metadata": {
        "id": "72341d3d",
        "outputId": "8e694d16-f356-4cfc-e6cc-cfc7b053dbe2"
      },
      "outputs": [
        {
          "name": "stdout",
          "output_type": "stream",
          "text": [
            "최소값: 0  최대값: 255\n"
          ]
        }
      ],
      "source": [
        "# 숫자 손글씨 이미지의 실제 픽셀 값\n",
        "\n",
        "print('최소값:',np.min(x_train), ' 최대값:',np.max(x_train))"
      ]
    },
    {
      "cell_type": "code",
      "execution_count": null,
      "id": "0130c986",
      "metadata": {
        "id": "0130c986",
        "outputId": "c5ebd664-39ee-4662-de87-28afa30f5812"
      },
      "outputs": [
        {
          "name": "stdout",
          "output_type": "stream",
          "text": [
            "최소값: 0.0  최대값: 1.0\n"
          ]
        }
      ],
      "source": [
        "# 입력 데이터  0과 1 사이 값으로 정규화\n",
        "\n",
        "x_train_norm, x_test_norm = x_train / 255.0, x_test / 255.0\n",
        "print('최소값:',np.min(x_train_norm), ' 최대값:',np.max(x_train_norm))"
      ]
    },
    {
      "cell_type": "markdown",
      "id": "b83567b9",
      "metadata": {
        "id": "b83567b9"
      },
      "source": [
        "### 2-3. 딥러닝 네트워크 설계하기"
      ]
    },
    {
      "cell_type": "markdown",
      "id": "72d50c00",
      "metadata": {
        "id": "72d50c00"
      },
      "source": [
        "**Sequential Model을 사용해 보자**"
      ]
    },
    {
      "cell_type": "code",
      "execution_count": null,
      "id": "dfffdc36",
      "metadata": {
        "id": "dfffdc36",
        "outputId": "da845a65-a5b6-41ea-dd46-6cb8c622e9f7"
      },
      "outputs": [
        {
          "name": "stdout",
          "output_type": "stream",
          "text": [
            "Model에 추가된 Layer 개수:  7\n"
          ]
        }
      ],
      "source": [
        "# tf.keras의 Sequential API를 이용하여 LeNet 설계\n",
        "\n",
        "model=keras.models.Sequential()\n",
        "model.add(keras.layers.Conv2D(16, (3,3), activation='relu', input_shape=(28, 28, 1))) # 이미지의 특징과 입력 이미지의 형태\n",
        "model.add(keras.layers.MaxPool2D(2,2))\n",
        "model.add(keras.layers.Conv2D(32, (3,3), activation='relu')) # 이미지의 특징\n",
        "model.add(keras.layers.MaxPooling2D((2,2)))\n",
        "model.add(keras.layers.Flatten())\n",
        "model.add(keras.layers.Dense(32, activation='relu')) # 분류기 알고리즘의 복잡도\n",
        "model.add(keras.layers.Dense(10, activation='softmax')) # 최종 분류기의 class 수\n",
        "\n",
        "print('Model에 추가된 Layer 개수: ', len(model.layers))"
      ]
    },
    {
      "cell_type": "markdown",
      "id": "68c279b0",
      "metadata": {
        "id": "68c279b0"
      },
      "source": [
        "* **Conv2D** 레이어의 첫 번째 인자는 `사용하는 이미지 특징의 수` 입니다. 여기서는 16과 32를 사용했습니다. 가장 먼저 16개의 이미지 특징을, 그 뒤에 32개의 이미지 특징씩을 고려하겠다는 뜻입니다. 우리의 숫자 이미지는 사실 매우 단순한 형태의 이미지입니다. 만약 강아지 얼굴 사진이 입력 이미지라면 훨씬 디테일하고 복잡한 영상일 것입니다. 그럴 경우에는 이 특징 숫자를 늘려주는 것을 고려해 볼 수 있습니다.  \n",
        "\n",
        "\n",
        "* **Dense** 레이어의 첫 번째 인자는 분류기에 `사용되는 뉴런의 숫자` 입니다. 이 값이 클수록 보다 복잡한 분류기를 만들 수 있습니다. 10개의 숫자가 아닌 알파벳을 구분하고 싶다면, 대문자 26개, 소문자 26개로 총 52개의 클래스를 분류해 내야 합니다. 그래서 32보다 큰 64, 128 등을 고려해 볼 수 있을 것입니다.  \n",
        "\n",
        "\n",
        "* 마지막 Dense 레이어의 뉴런 숫자는 결과적으로 분류해 내야 하는 `최종 클래스 수`로 지정하면 됩니다. 숫자 인식기에서는 10, 알파벳 인식기에서는 52가 되겠지요."
      ]
    },
    {
      "cell_type": "markdown",
      "id": "65941fda",
      "metadata": {
        "id": "65941fda"
      },
      "source": [
        "**Q. 입력 이미지의 형태 input_shape=(28, 28, 1) 코드가 의미하는 바는 무엇일까요?**\n",
        "\n",
        "```\n",
        "이미지의 입력 형태로서 높이 28 너비 28 채널 1개의 이미지라는 의미입니다.\n",
        "```"
      ]
    },
    {
      "cell_type": "code",
      "execution_count": null,
      "id": "69b67a0d",
      "metadata": {
        "id": "69b67a0d",
        "outputId": "be41e7f9-0bee-43ee-ed77-728fa724d4f8"
      },
      "outputs": [
        {
          "name": "stdout",
          "output_type": "stream",
          "text": [
            "Model: \"sequential\"\n",
            "_________________________________________________________________\n",
            "Layer (type)                 Output Shape              Param #   \n",
            "=================================================================\n",
            "conv2d (Conv2D)              (None, 26, 26, 16)        160       \n",
            "_________________________________________________________________\n",
            "max_pooling2d (MaxPooling2D) (None, 13, 13, 16)        0         \n",
            "_________________________________________________________________\n",
            "conv2d_1 (Conv2D)            (None, 11, 11, 32)        4640      \n",
            "_________________________________________________________________\n",
            "max_pooling2d_1 (MaxPooling2 (None, 5, 5, 32)          0         \n",
            "_________________________________________________________________\n",
            "flatten (Flatten)            (None, 800)               0         \n",
            "_________________________________________________________________\n",
            "dense (Dense)                (None, 32)                25632     \n",
            "_________________________________________________________________\n",
            "dense_1 (Dense)              (None, 10)                330       \n",
            "=================================================================\n",
            "Total params: 30,762\n",
            "Trainable params: 30,762\n",
            "Non-trainable params: 0\n",
            "_________________________________________________________________\n"
          ]
        }
      ],
      "source": [
        "# Model 확인하기\n",
        "\n",
        "model.summary()"
      ]
    },
    {
      "cell_type": "markdown",
      "id": "86ca7139",
      "metadata": {
        "id": "86ca7139"
      },
      "source": [
        "### 2-4. 딥러닝 네트워크 학습시키기"
      ]
    },
    {
      "cell_type": "code",
      "execution_count": null,
      "id": "c660f3ff",
      "metadata": {
        "id": "c660f3ff",
        "outputId": "9eda6e37-dd4d-4a50-a556-25ffc83fc6ff"
      },
      "outputs": [
        {
          "name": "stdout",
          "output_type": "stream",
          "text": [
            "Before Reshape - x_train_norm shape: (60000, 28, 28)\n",
            "Before Reshape - x_test_norm shape: (10000, 28, 28)\n",
            "After Reshape - x_train_reshaped shape: (60000, 28, 28, 1)\n",
            "After Reshape - x_test_reshaped shape: (10000, 28, 28, 1)\n"
          ]
        }
      ],
      "source": [
        "# 입력 데이터 형태 재구성하기: 채널 추가하기\n",
        "\n",
        "print(f\"Before Reshape - x_train_norm shape: {x_train_norm.shape}\")\n",
        "print(f\"Before Reshape - x_test_norm shape: {x_test_norm.shape}\")\n",
        "\n",
        "x_train_reshaped=x_train_norm.reshape( -1, 28, 28, 1)  # 데이터갯수에 -1을 쓰면 reshape 시 자동 계산\n",
        "x_test_reshaped=x_test_norm.reshape( -1, 28, 28, 1)\n",
        "\n",
        "print(f\"After Reshape - x_train_reshaped shape: {x_train_reshaped.shape}\")\n",
        "print(f\"After Reshape - x_test_reshaped shape: {x_test_reshaped.shape}\")"
      ]
    },
    {
      "cell_type": "code",
      "execution_count": null,
      "id": "db1924ee",
      "metadata": {
        "id": "db1924ee",
        "outputId": "b27ed239-10b9-4e1e-d7c2-e543e74b1954"
      },
      "outputs": [
        {
          "name": "stdout",
          "output_type": "stream",
          "text": [
            "Epoch 1/20\n",
            "1875/1875 [==============================] - 38s 19ms/step - loss: 0.1958 - accuracy: 0.9407\n",
            "Epoch 2/20\n",
            "1875/1875 [==============================] - 35s 19ms/step - loss: 0.0647 - accuracy: 0.9799\n",
            "Epoch 3/20\n",
            "1875/1875 [==============================] - 35s 19ms/step - loss: 0.0477 - accuracy: 0.9853\n",
            "Epoch 4/20\n",
            "1875/1875 [==============================] - 36s 19ms/step - loss: 0.0367 - accuracy: 0.9886\n",
            "Epoch 5/20\n",
            "1875/1875 [==============================] - 36s 19ms/step - loss: 0.0297 - accuracy: 0.9910\n",
            "Epoch 6/20\n",
            "1875/1875 [==============================] - 36s 19ms/step - loss: 0.0244 - accuracy: 0.9921\n",
            "Epoch 7/20\n",
            "1875/1875 [==============================] - 36s 19ms/step - loss: 0.0208 - accuracy: 0.9935\n",
            "Epoch 8/20\n",
            "1875/1875 [==============================] - 36s 19ms/step - loss: 0.0169 - accuracy: 0.9944\n",
            "Epoch 9/20\n",
            "1875/1875 [==============================] - 35s 19ms/step - loss: 0.0148 - accuracy: 0.9953\n",
            "Epoch 10/20\n",
            "1875/1875 [==============================] - 35s 19ms/step - loss: 0.0126 - accuracy: 0.9955\n",
            "Epoch 11/20\n",
            "1875/1875 [==============================] - 36s 19ms/step - loss: 0.0109 - accuracy: 0.9961\n",
            "Epoch 12/20\n",
            "1875/1875 [==============================] - 37s 20ms/step - loss: 0.0098 - accuracy: 0.9969\n",
            "Epoch 13/20\n",
            "1875/1875 [==============================] - 35s 19ms/step - loss: 0.0080 - accuracy: 0.9974\n",
            "Epoch 14/20\n",
            "1875/1875 [==============================] - 35s 18ms/step - loss: 0.0078 - accuracy: 0.9972\n",
            "Epoch 15/20\n",
            "1875/1875 [==============================] - 33s 18ms/step - loss: 0.0071 - accuracy: 0.9977\n",
            "Epoch 16/20\n",
            "1875/1875 [==============================] - 35s 18ms/step - loss: 0.0067 - accuracy: 0.9978\n",
            "Epoch 17/20\n",
            "1875/1875 [==============================] - 34s 18ms/step - loss: 0.0063 - accuracy: 0.9980\n",
            "Epoch 18/20\n",
            "1875/1875 [==============================] - 34s 18ms/step - loss: 0.0055 - accuracy: 0.9980\n",
            "Epoch 19/20\n",
            "1875/1875 [==============================] - 33s 18ms/step - loss: 0.0057 - accuracy: 0.9981\n",
            "Epoch 20/20\n",
            "1875/1875 [==============================] - 33s 18ms/step - loss: 0.0050 - accuracy: 0.9982\n"
          ]
        },
        {
          "data": {
            "text/plain": [
              "<keras.callbacks.History at 0x7fd33514d550>"
            ]
          },
          "execution_count": 13,
          "metadata": {},
          "output_type": "execute_result"
        }
      ],
      "source": [
        "# 학습 데이터로 딥러닝 네트워크 학습 시키기\n",
        "\n",
        "model.compile(optimizer='adam',\n",
        "             loss='sparse_categorical_crossentropy',\n",
        "             metrics=['accuracy'])\n",
        "\n",
        "model.fit(x_train_reshaped, y_train, epochs=20)"
      ]
    },
    {
      "cell_type": "markdown",
      "id": "1a8ad0d5",
      "metadata": {
        "id": "1a8ad0d5"
      },
      "source": [
        "학습이 진행됨에 따라 epoch 별로 어느 정도 인식 정확도(accuracy)가 올라가는지, 손실(loss) 값이 내려가는지 확인할 수 있습니다.  \n",
        "인식 정확도가 0.9407에서 0.9982까지 매우 높게 올라갑니다."
      ]
    },
    {
      "cell_type": "markdown",
      "id": "14b664ef",
      "metadata": {
        "id": "14b664ef"
      },
      "source": [
        "### 2-5. 얼마나 잘 만들었는지 확인하기\n",
        "\n",
        "**테스트 데이터로 성능을 확인해 보자**"
      ]
    },
    {
      "cell_type": "code",
      "execution_count": null,
      "id": "b134fe00",
      "metadata": {
        "id": "b134fe00",
        "outputId": "eecaed3c-8de6-4413-fa48-83210fb1e22b"
      },
      "outputs": [
        {
          "name": "stdout",
          "output_type": "stream",
          "text": [
            "313/313 - 2s - loss: 0.0620 - accuracy: 0.9884\n",
            "test_loss: 0.06196744367480278\n",
            "test_accuracy: 0.9883999824523926\n"
          ]
        }
      ],
      "source": [
        "# 테스트 데이터로 성능 확인\n",
        "\n",
        "test_loss, test_accuracy = model.evaluate(x_test_reshaped, y_test, verbose=2)\n",
        "print(f\"test_loss: {test_loss}\")\n",
        "print(f\"test_accuracy: {test_accuracy}\")"
      ]
    },
    {
      "cell_type": "markdown",
      "id": "72458e6f",
      "metadata": {
        "id": "72458e6f"
      },
      "source": [
        "학습할 때마다 test_loss와 test_accuracy도 변동 됨을 알 수 있습니다."
      ]
    },
    {
      "cell_type": "markdown",
      "id": "49e55469",
      "metadata": {
        "id": "49e55469"
      },
      "source": [
        "**어떤 데이터를 잘못 추론했을까?**\n",
        "\n",
        "model.evaluate() 대신 model.predict()를 사용하면 model이 입력값을 보고 실제로 추론한 확률분포를 출력할 수 있습니다.  \n",
        "우리가 만든 model이란 사실 10개의 숫자 중 어느 것일지에 대한 확률값을 출력하는 함수입니다.  \n",
        "이 함수의 출력값, 즉 확률값이 가장 높은 숫자가 바로 model이 추론한 숫자가 되는 거죠."
      ]
    },
    {
      "cell_type": "code",
      "execution_count": null,
      "id": "55c8251b",
      "metadata": {
        "id": "55c8251b",
        "outputId": "71cf01ab-2897-4302-a2cc-0a7c11a962f7"
      },
      "outputs": [
        {
          "name": "stdout",
          "output_type": "stream",
          "text": [
            "model.predict() 결과 :  [3.5025247e-20 1.5164967e-11 6.7866615e-11 6.8846664e-11 7.8838247e-12\n",
            " 1.8756697e-18 1.3473870e-17 1.0000000e+00 1.5494862e-15 7.8322964e-12]\n",
            "model이 추론한 가장 가능성이 높은 결과 :  7\n",
            "실제 데이터의 라벨 :  7\n"
          ]
        }
      ],
      "source": [
        "predicted_result = model.predict(x_test_reshaped)  # model이 추론한 확률값\n",
        "predicted_labels = np.argmax(predicted_result, axis=1)\n",
        "\n",
        "idx=0  # 1번째 x_test\n",
        "print('model.predict() 결과 : ', predicted_result[idx])\n",
        "print('model이 추론한 가장 가능성이 높은 결과 : ', predicted_labels[idx])\n",
        "print('실제 데이터의 라벨 : ', y_test[idx])"
      ]
    },
    {
      "cell_type": "markdown",
      "id": "5557108d",
      "metadata": {
        "id": "5557108d"
      },
      "source": [
        "이 모델은 입력한 이미지가 숫자 `7` 이라는 걸 아주 확신하고 있네요? 정말 `7` 인지 확인해 봅시다."
      ]
    },
    {
      "cell_type": "code",
      "execution_count": null,
      "id": "c6bcabcd",
      "metadata": {
        "id": "c6bcabcd",
        "outputId": "bef4f2a1-01cb-44b7-fa3a-8a9a8e9284d4"
      },
      "outputs": [
        {
          "data": {
            "image/png": "[encoded data removed]",
            "text/plain": [
              "<Figure size 432x288 with 1 Axes>"
            ]
          },
          "metadata": {
            "needs_background": "light"
          },
          "output_type": "display_data"
        }
      ],
      "source": [
        "plt.imshow(x_test[idx],cmap=plt.cm.binary)\n",
        "plt.show()"
      ]
    },
    {
      "cell_type": "markdown",
      "id": "ea5b5773",
      "metadata": {
        "id": "ea5b5773"
      },
      "source": [
        "그렇다면, 모델이 추론해 낸 숫자와 실제 라벨의 값이 다른 경우는 어떤 경우일까요?"
      ]
    },
    {
      "cell_type": "code",
      "execution_count": null,
      "id": "e2688b01",
      "metadata": {
        "id": "e2688b01",
        "outputId": "b7825648-9f8e-4071-abcf-e8d2223d2545"
      },
      "outputs": [
        {
          "name": "stdout",
          "output_type": "stream",
          "text": [
            "예측확률분포: [6.9427003e-17 2.2844583e-08 2.4340616e-01 3.4909588e-06 4.6778677e-18\n",
            " 7.9890971e-20 1.1538693e-15 7.5659031e-01 8.8127887e-11 2.1479513e-18]\n",
            "라벨: 2, 예측결과: 7\n"
          ]
        },
        {
          "data": {
            "image/png": "[encoded data removed]",
            "text/plain": [
              "<Figure size 432x288 with 1 Axes>"
            ]
          },
          "metadata": {
            "needs_background": "light"
          },
          "output_type": "display_data"
        },
        {
          "name": "stdout",
          "output_type": "stream",
          "text": [
            "예측확률분포: [7.0382441e-14 2.2464676e-13 1.2724625e-09 2.0559658e-20 5.5712241e-07\n",
            " 7.4177909e-18 9.9999940e-01 8.4522199e-23 2.9734190e-13 1.3516711e-22]\n",
            "라벨: 4, 예측결과: 6\n"
          ]
        },
        {
          "data": {
            "image/png": "[encoded data removed]",
            "text/plain": [
              "<Figure size 432x288 with 1 Axes>"
            ]
          },
          "metadata": {
            "needs_background": "light"
          },
          "output_type": "display_data"
        },
        {
          "name": "stdout",
          "output_type": "stream",
          "text": [
            "예측확률분포: [2.10873379e-13 1.52512174e-03 1.02012826e-04 2.16361045e-08\n",
            " 1.79758242e-09 6.09513080e-18 7.94597571e-17 9.98372912e-01\n",
            " 1.73388937e-09 3.92107354e-12]\n",
            "라벨: 2, 예측결과: 7\n"
          ]
        },
        {
          "data": {
            "image/png": "[encoded data removed]",
            "text/plain": [
              "<Figure size 432x288 with 1 Axes>"
            ]
          },
          "metadata": {
            "needs_background": "light"
          },
          "output_type": "display_data"
        },
        {
          "name": "stdout",
          "output_type": "stream",
          "text": [
            "예측확률분포: [8.0683854e-12 3.6594687e-07 3.1022170e-01 5.1269519e-13 6.4952305e-04\n",
            " 2.6627208e-13 6.8912846e-01 8.0262052e-16 2.5846466e-08 2.8378954e-22]\n",
            "라벨: 4, 예측결과: 6\n"
          ]
        },
        {
          "data": {
            "image/png": "[encoded data removed]",
            "text/plain": [
              "<Figure size 432x288 with 1 Axes>"
            ]
          },
          "metadata": {
            "needs_background": "light"
          },
          "output_type": "display_data"
        },
        {
          "name": "stdout",
          "output_type": "stream",
          "text": [
            "예측확률분포: [1.20425415e-04 4.18585710e-16 9.96841550e-01 4.65773153e-09\n",
            " 1.50141801e-04 5.62103702e-14 1.29005915e-04 5.81195858e-14\n",
            " 2.74281274e-03 1.60563086e-05]\n",
            "라벨: 9, 예측결과: 2\n"
          ]
        },
        {
          "data": {
            "image/png": "[encoded data removed]",
            "text/plain": [
              "<Figure size 432x288 with 1 Axes>"
            ]
          },
          "metadata": {
            "needs_background": "light"
          },
          "output_type": "display_data"
        }
      ],
      "source": [
        "import random\n",
        "wrong_predict_list=[]\n",
        "for i, _ in enumerate(predicted_labels):\n",
        "    # i번째 test_labels과 y_test이 다른 경우\n",
        "    if predicted_labels[i] != y_test[i]:\n",
        "        wrong_predict_list.append(i)\n",
        "\n",
        "# wrong_predict_list에서 랜덤하게 5개만 골라보자\n",
        "samples = random.choices(population=wrong_predict_list, k=5)\n",
        "\n",
        "for n in samples:\n",
        "    print(\"예측확률분포: \" + str(predicted_result[n]))\n",
        "    print(\"라벨: \" + str(y_test[n]) + \", 예측결과: \" + str(predicted_labels[n]))\n",
        "    plt.imshow(x_test[n], cmap=plt.cm.binary)\n",
        "    plt.show()"
      ]
    },
    {
      "cell_type": "markdown",
      "id": "f0a614bd",
      "metadata": {
        "id": "f0a614bd"
      },
      "source": [
        "**틀린 경우를 살펴보면** 모델도 추론 결과에 대한 확신도가 낮고, 매우 혼란스러워 한다는 것을 알 수 있습니다.  \n",
        "`모델의 추론 결과를 시각화하여 살펴보는 것`은 향후 모델의 성능 개선에 도움이 되는 아이디어를 얻을 수 있는 좋은 방법 중 하나입니다.  "
      ]
    },
    {
      "cell_type": "markdown",
      "id": "1708e48d",
      "metadata": {
        "id": "1708e48d"
      },
      "source": [
        "### 2-6. 더 좋은 네트워크 만들어 보기"
      ]
    },
    {
      "cell_type": "code",
      "execution_count": null,
      "id": "917de870",
      "metadata": {
        "id": "917de870",
        "outputId": "769dbac4-b0e8-4313-9e1e-b0912c2ee538"
      },
      "outputs": [
        {
          "name": "stdout",
          "output_type": "stream",
          "text": [
            "Model: \"sequential_1\"\n",
            "_________________________________________________________________\n",
            "Layer (type)                 Output Shape              Param #   \n",
            "=================================================================\n",
            "conv2d_2 (Conv2D)            (None, 26, 26, 32)        320       \n",
            "_________________________________________________________________\n",
            "max_pooling2d_2 (MaxPooling2 (None, 13, 13, 32)        0         \n",
            "_________________________________________________________________\n",
            "conv2d_3 (Conv2D)            (None, 11, 11, 64)        18496     \n",
            "_________________________________________________________________\n",
            "max_pooling2d_3 (MaxPooling2 (None, 5, 5, 64)          0         \n",
            "_________________________________________________________________\n",
            "flatten_1 (Flatten)          (None, 1600)              0         \n",
            "_________________________________________________________________\n",
            "dense_2 (Dense)              (None, 64)                102464    \n",
            "_________________________________________________________________\n",
            "dense_3 (Dense)              (None, 10)                650       \n",
            "=================================================================\n",
            "Total params: 121,930\n",
            "Trainable params: 121,930\n",
            "Non-trainable params: 0\n",
            "_________________________________________________________________\n",
            "Epoch 1/10\n",
            "1875/1875 [==============================] - 60s 32ms/step - loss: 0.1483 - accuracy: 0.9541\n",
            "Epoch 2/10\n",
            "1875/1875 [==============================] - 59s 32ms/step - loss: 0.0487 - accuracy: 0.9846\n",
            "Epoch 3/10\n",
            "1875/1875 [==============================] - 59s 32ms/step - loss: 0.0322 - accuracy: 0.9896\n",
            "Epoch 4/10\n",
            "1875/1875 [==============================] - 59s 31ms/step - loss: 0.0235 - accuracy: 0.9923\n",
            "Epoch 5/10\n",
            "1875/1875 [==============================] - 60s 32ms/step - loss: 0.0185 - accuracy: 0.9940\n",
            "Epoch 6/10\n",
            "1875/1875 [==============================] - 59s 31ms/step - loss: 0.0133 - accuracy: 0.9955\n",
            "Epoch 7/10\n",
            "1875/1875 [==============================] - 59s 31ms/step - loss: 0.0119 - accuracy: 0.9961\n",
            "Epoch 8/10\n",
            "1875/1875 [==============================] - 59s 31ms/step - loss: 0.0088 - accuracy: 0.9972\n",
            "Epoch 9/10\n",
            "1875/1875 [==============================] - 59s 31ms/step - loss: 0.0068 - accuracy: 0.9979\n",
            "Epoch 10/10\n",
            "1875/1875 [==============================] - 59s 31ms/step - loss: 0.0074 - accuracy: 0.9976\n",
            "313/313 - 3s - loss: 0.0446 - accuracy: 0.9900\n",
            "test_loss: 0.04459071531891823 \n",
            "test_accuracy: 0.9900000095367432\n"
          ]
        }
      ],
      "source": [
        "# 성능 올리기: 하이퍼파라미터 조정하기\n",
        "\n",
        "n_channel_1=32\n",
        "n_channel_2=64\n",
        "n_dense=64\n",
        "n_train_epoch=10\n",
        "\n",
        "model=keras.models.Sequential()\n",
        "model.add(keras.layers.Conv2D(n_channel_1, (3,3), activation='relu', input_shape=(28, 28, 1)))\n",
        "model.add(keras.layers.MaxPool2D(2,2))\n",
        "model.add(keras.layers.Conv2D(n_channel_2, (3,3), activation='relu'))\n",
        "model.add(keras.layers.MaxPooling2D((2,2)))\n",
        "model.add(keras.layers.Flatten())\n",
        "model.add(keras.layers.Dense(n_dense, activation='relu'))\n",
        "model.add(keras.layers.Dense(10, activation='softmax'))\n",
        "\n",
        "model.summary()\n",
        "model.compile(optimizer='adam',\n",
        "             loss='sparse_categorical_crossentropy',\n",
        "             metrics=['accuracy'])\n",
        "\n",
        "# 모델 훈련\n",
        "model.fit(x_train_reshaped, y_train, epochs=n_train_epoch)\n",
        "\n",
        "# 모델 시험\n",
        "test_loss, test_accuracy = model.evaluate(x_test_reshaped, y_test, verbose=2)\n",
        "print(f\"test_loss: {test_loss} \")\n",
        "print(f\"test_accuracy: {test_accuracy}\")"
      ]
    },
    {
      "cell_type": "markdown",
      "id": "e69584dc",
      "metadata": {
        "id": "e69584dc"
      },
      "source": [
        "**Q. 하이퍼파라미터를 바꾸어가면서 시험용 데이터(x_test)에 대한 인식률을 확인해 봅시다.  \n",
        "최고로 높은 점수를 얻은 네트워크 모델 코드와 그 때의 시험용 데이터 인식률 값을 올려주세요.**\n",
        "\n",
        "```\n",
        "n_channel_1=32\n",
        "n_channel_2=64\n",
        "n_dense=64\n",
        "n_train_epoch=10\n",
        "```"
      ]
    },
    {
      "cell_type": "markdown",
      "id": "fafe8ed5",
      "metadata": {
        "id": "fafe8ed5"
      },
      "source": [
        "## 3. 미니 프로젝트: 가위바위보 분류기를 만들자"
      ]
    },
    {
      "cell_type": "markdown",
      "id": "62a4999e",
      "metadata": {
        "id": "62a4999e"
      },
      "source": [
        "### 3-1. 미니 프로젝트 : 가위바위보 분류기를 만들자"
      ]
    },
    {
      "cell_type": "markdown",
      "id": "cd96c9fc",
      "metadata": {
        "id": "cd96c9fc"
      },
      "source": [
        "**라이브러리 버전 확인하기**"
      ]
    },
    {
      "cell_type": "code",
      "execution_count": null,
      "id": "784b6bce",
      "metadata": {
        "id": "784b6bce",
        "outputId": "11bdeed2-d396-4727-bda9-33db59042d6c"
      },
      "outputs": [
        {
          "name": "stdout",
          "output_type": "stream",
          "text": [
            "2.6.0\n",
            "1.22.2\n"
          ]
        }
      ],
      "source": [
        "# Lib\n",
        "\n",
        "import tensorflow as tf\n",
        "import numpy as np\n",
        "\n",
        "print(tf.__version__)\n",
        "print(np.__version__)"
      ]
    },
    {
      "cell_type": "markdown",
      "id": "54efb389",
      "metadata": {
        "id": "54efb389"
      },
      "source": [
        "**데이터 준비하기**\n",
        "\n",
        "구글의 teachable machine 활용하여 `Rock Paper Scissors` 이미지 데이터 만들고, LMS에 저장하기\n",
        "\n",
        "```\n",
        "aiffel\n",
        "└── rock_scissor_paper\n",
        "    ├── rock\n",
        "        └── rock.zip\n",
        "    ├── scissor\n",
        "        └── scissor.zip\n",
        "    └── paper\n",
        "        └── paper.zip\n",
        "```"
      ]
    },
    {
      "cell_type": "markdown",
      "id": "3ddf2c57",
      "metadata": {
        "id": "3ddf2c57"
      },
      "source": [
        "**Q. 다운로드 받은 이미지는 크기는 무엇일까요? \"nxn\"(n은 정수)의 형태로.**\n",
        "\n",
        "```\n",
        "224x224\n",
        "```"
      ]
    },
    {
      "cell_type": "markdown",
      "id": "8aaea5bb",
      "metadata": {
        "id": "8aaea5bb"
      },
      "source": [
        "**데이터 불러오기 & 이미지 데이터 크기 조정하기**"
      ]
    },
    {
      "cell_type": "code",
      "execution_count": null,
      "id": "3cd9d099",
      "metadata": {
        "id": "3cd9d099",
        "outputId": "467ccc36-1b8c-4bee-d4c8-c48ec80feb05"
      },
      "outputs": [
        {
          "name": "stdout",
          "output_type": "stream",
          "text": [
            "PIL 라이브러리 import 완료!\n"
          ]
        }
      ],
      "source": [
        "# PIL Lib\n",
        "\n",
        "from PIL import Image\n",
        "import glob\n",
        "import os\n",
        "\n",
        "print(\"PIL 라이브러리 import 완료!\")"
      ]
    },
    {
      "cell_type": "code",
      "execution_count": null,
      "id": "efd3b455",
      "metadata": {
        "id": "efd3b455",
        "outputId": "68f5080a-6d3a-4257-d255-4da9e255578d"
      },
      "outputs": [
        {
          "name": "stdout",
          "output_type": "stream",
          "text": [
            "100  images to be resized.\n",
            "100  images resized.\n"
          ]
        }
      ],
      "source": [
        "# 가위 이미지 28x28 사이즈로 변경\n",
        "\n",
        "def resize_images(img_path):\n",
        "    images=glob.glob(img_path + \"/*.jpg\")\n",
        "\n",
        "    print(len(images), \" images to be resized.\")\n",
        "\n",
        "    # 파일마다 모두 28x28 사이즈로 바꾸어 저장합니다.\n",
        "    target_size=(28,28)\n",
        "    for img in images:\n",
        "        old_img=Image.open(img)\n",
        "        new_img=old_img.resize(target_size,Image.ANTIALIAS)\n",
        "        new_img.save(img, \"JPEG\")\n",
        "\n",
        "    print(len(images), \" images resized.\")\n",
        "\n",
        "# 가위 이미지가 저장된 디렉토리 아래의 모든 jpg 파일을 읽어들여서\n",
        "image_dir_path = os.getenv(\"HOME\") + \"/aiffel/rock_paper_scissors/scissor\"\n",
        "resize_images(image_dir_path)"
      ]
    },
    {
      "cell_type": "code",
      "execution_count": null,
      "id": "0f105bc6",
      "metadata": {
        "id": "0f105bc6",
        "outputId": "66a342ea-8691-4dfa-dc4b-920c4bdd3831"
      },
      "outputs": [
        {
          "name": "stdout",
          "output_type": "stream",
          "text": [
            "100  images to be resized.\n",
            "100  images resized.\n",
            "바위 이미지 resize 완료!\n"
          ]
        }
      ],
      "source": [
        "def resize_images(img_path):\n",
        "    images=glob.glob(img_path + \"/*.jpg\")\n",
        "    print(len(images), \" images to be resized.\")\n",
        "\n",
        "    # 파일마다 모두 28x28 사이즈로 바꾸어 저장합니다.\n",
        "    target_size=(28,28)\n",
        "    for img in images:\n",
        "        old_img=Image.open(img)\n",
        "        new_img=old_img.resize(target_size,Image.ANTIALIAS)\n",
        "        new_img.save(img, \"JPEG\")\n",
        "\n",
        "    print(len(images), \" images resized.\")\n",
        "\n",
        "# 바위 이미지가 저장된 디렉토리 아래의 모든 jpg 파일을 읽어들여서\n",
        "image_dir_path = os.getenv(\"HOME\") + \"/aiffel/rock_paper_scissors/rock\"\n",
        "resize_images(image_dir_path)\n",
        "\n",
        "print(\"바위 이미지 resize 완료!\")"
      ]
    },
    {
      "cell_type": "code",
      "execution_count": null,
      "id": "84246df0",
      "metadata": {
        "id": "84246df0",
        "outputId": "0e6339d1-a6bf-4e23-9087-eced00e72072"
      },
      "outputs": [
        {
          "name": "stdout",
          "output_type": "stream",
          "text": [
            "100  images to be resized.\n",
            "100  images resized.\n",
            "보 이미지 resize 완료!\n"
          ]
        }
      ],
      "source": [
        "def resize_images(img_path):\n",
        "    images=glob.glob(img_path + \"/*.jpg\")\n",
        "    print(len(images), \" images to be resized.\")\n",
        "\n",
        "    # 파일마다 모두 28x28 사이즈로 바꾸어 저장합니다.\n",
        "    target_size=(28,28)\n",
        "    for img in images:\n",
        "        old_img=Image.open(img)\n",
        "        new_img=old_img.resize(target_size,Image.ANTIALIAS)\n",
        "        new_img.save(img, \"JPEG\")\n",
        "\n",
        "    print(len(images), \" images resized.\")\n",
        "\n",
        "# 보 이미지가 저장된 디렉토리 아래의 모든 jpg 파일을 읽어들여서\n",
        "image_dir_path = os.getenv(\"HOME\") + \"/aiffel/rock_paper_scissors/paper\"\n",
        "resize_images(image_dir_path)\n",
        "\n",
        "print(\"보 이미지 resize 완료!\")"
      ]
    },
    {
      "cell_type": "code",
      "execution_count": null,
      "id": "4a5acf7f",
      "metadata": {
        "id": "4a5acf7f",
        "outputId": "2e90e95c-d3b2-4bac-d011-a26c2385bc51"
      },
      "outputs": [
        {
          "name": "stdout",
          "output_type": "stream",
          "text": [
            "학습데이터(x_train)의 이미지 개수는 300 입니다.\n"
          ]
        }
      ],
      "source": [
        "# 가위, 바위, 보 데이터를 읽을 수 있는 load_data() 함수 만들기\n",
        "\n",
        "import numpy as np\n",
        "\n",
        "def load_data(img_path, number_of_data=300):  # 가위바위보 이미지 개수 총합에 주의하세요.\n",
        "    # 가위 : 0, 바위 : 1, 보 : 2\n",
        "    img_size=28\n",
        "    color=3\n",
        "    #이미지 데이터와 라벨(가위 : 0, 바위 : 1, 보 : 2) 데이터를 담을 행렬(matrix) 영역을 생성합니다.\n",
        "    imgs=np.zeros(number_of_data*img_size*img_size*color,dtype=np.int32).reshape(number_of_data,img_size,img_size,color)\n",
        "    labels=np.zeros(number_of_data,dtype=np.int32)\n",
        "\n",
        "    idx=0\n",
        "    for file in glob.iglob(img_path+'/scissor/*.jpg'):\n",
        "        img = np.array(Image.open(file),dtype=np.int32)\n",
        "        imgs[idx,:,:,:]=img    # 데이터 영역에 이미지 행렬을 복사\n",
        "        labels[idx]=0   # 가위 : 0\n",
        "        idx=idx+1\n",
        "\n",
        "    for file in glob.iglob(img_path+'/rock/*.jpg'):\n",
        "        img = np.array(Image.open(file),dtype=np.int32)\n",
        "        imgs[idx,:,:,:]=img    # 데이터 영역에 이미지 행렬을 복사\n",
        "        labels[idx]=1   # 바위 : 1\n",
        "        idx=idx+1\n",
        "\n",
        "    for file in glob.iglob(img_path+'/paper/*.jpg'):\n",
        "        img = np.array(Image.open(file),dtype=np.int32)\n",
        "        imgs[idx,:,:,:]=img    # 데이터 영역에 이미지 행렬을 복사\n",
        "        labels[idx]=2   # 보 : 2\n",
        "        idx=idx+1\n",
        "\n",
        "    print(\"학습데이터(x_train)의 이미지 개수는\", idx,\"입니다.\")\n",
        "    return imgs, labels\n",
        "\n",
        "image_dir_path = os.getenv(\"HOME\") + \"/aiffel/rock_paper_scissors\"\n",
        "(x_train, y_train)=load_data(image_dir_path)"
      ]
    },
    {
      "cell_type": "code",
      "execution_count": null,
      "id": "cd7f2bdc",
      "metadata": {
        "id": "cd7f2bdc",
        "outputId": "6ee4e058-9d37-4c79-8483-649f87b7a3f6"
      },
      "outputs": [
        {
          "name": "stdout",
          "output_type": "stream",
          "text": [
            "x_train shape: (300, 28, 28, 3)\n",
            "y_train shape: (300,)\n"
          ]
        }
      ],
      "source": [
        "# # 데이터 섞고, 검증 데이터 분리하기\n",
        "\n",
        "# def shuffle_dataset(x_train, y_train):\n",
        "#     permutation = np.random.permutation(x_train.shape[0])\n",
        "#     x_train = x_train[permutation,:] if x_train.ndim == 2 else x_train[permutation,:,:,:]\n",
        "#     y_train = y_train[permutation]\n",
        "\n",
        "#     return x_train, y_train\n",
        "\n",
        "# x_train, y_train = shuffle_dataset(x_train, y_train)\n",
        "# validation_rate = 0.20\n",
        "# validation_num = int(x_train.shape[0] * validation_rate)\n",
        "\n",
        "# x_val = x_train[:validation_num]\n",
        "# y_val = y_train[:validation_num]\n",
        "\n",
        "# x_train = x_train[validation_num:]\n",
        "# y_train = y_train[validation_num:]\n",
        "\n",
        "print(\"x_train shape: {}\".format(x_train.shape))\n",
        "print(\"y_train shape: {}\".format(y_train.shape))"
      ]
    },
    {
      "cell_type": "code",
      "execution_count": null,
      "id": "7da0b17f",
      "metadata": {
        "id": "7da0b17f",
        "outputId": "4418bd20-9895-4dc0-bddb-84a407f353e3"
      },
      "outputs": [
        {
          "name": "stdout",
          "output_type": "stream",
          "text": [
            "최소값: 0  최대값: 255\n"
          ]
        }
      ],
      "source": [
        "# 가위바위보 이미지 테스트 데이터의 실제 픽셀 값\n",
        "\n",
        "print('최소값:',np.min(x_train), ' 최대값:',np.max(x_train))"
      ]
    },
    {
      "cell_type": "code",
      "execution_count": null,
      "id": "49707b94",
      "metadata": {
        "id": "49707b94",
        "outputId": "a8d1e886-a330-49e8-f957-eeeba9f08fc7"
      },
      "outputs": [
        {
          "name": "stdout",
          "output_type": "stream",
          "text": [
            "최소값: 0.0  최대값: 1.0\n"
          ]
        }
      ],
      "source": [
        "# 입력 데이터  0과 1 사이 값으로 정규화\n",
        "\n",
        "x_train_norm = x_train / 255.0\n",
        "print('최소값:',np.min(x_train_norm), ' 최대값:',np.max(x_train_norm))"
      ]
    },
    {
      "cell_type": "code",
      "execution_count": null,
      "id": "a2137544",
      "metadata": {
        "id": "a2137544",
        "outputId": "ebf57223-2c05-492e-c85f-346b4ec8273a"
      },
      "outputs": [
        {
          "name": "stdout",
          "output_type": "stream",
          "text": [
            "라벨:  0\n"
          ]
        },
        {
          "data": {
            "image/png": "[encoded data removed]",
            "text/plain": [
              "<Figure size 432x288 with 1 Axes>"
            ]
          },
          "metadata": {
            "needs_background": "light"
          },
          "output_type": "display_data"
        }
      ],
      "source": [
        "# 이미지 데이터 확인하기\n",
        "\n",
        "import matplotlib.pyplot as plt\n",
        "\n",
        "plt.imshow(x_train[0])\n",
        "print('라벨: ', y_train[0])"
      ]
    },
    {
      "cell_type": "markdown",
      "id": "ae2ef287",
      "metadata": {
        "id": "ae2ef287"
      },
      "source": [
        "**딥러닝 네트워크 설계하기**"
      ]
    },
    {
      "cell_type": "markdown",
      "id": "2173e8b6",
      "metadata": {
        "id": "2173e8b6"
      },
      "source": [
        "**Q. 모델의 입력/출력부에 특히 유의하여 모델을 직접 만들어 보세요. 가위바위보 데이터셋은 MNIST 데이터셋과 어떤 점이 달라졌나요?**\n",
        "\n",
        "```\n",
        "MNIST 데이터셋의 최종 분류기 class 수는 10이었고, 가위바위보 데이터셋의 최종 분류기 class 수는 3입니다.\n",
        "```"
      ]
    },
    {
      "cell_type": "code",
      "execution_count": null,
      "id": "1b3d9f9a",
      "metadata": {
        "id": "1b3d9f9a",
        "outputId": "9658211b-fd31-492e-88f9-07c0804c366d"
      },
      "outputs": [
        {
          "name": "stdout",
          "output_type": "stream",
          "text": [
            "Model에 추가된 Layer 개수:  7\n",
            "Model: \"sequential_48\"\n",
            "_________________________________________________________________\n",
            "Layer (type)                 Output Shape              Param #   \n",
            "=================================================================\n",
            "conv2d_124 (Conv2D)          (None, 26, 26, 16)        448       \n",
            "_________________________________________________________________\n",
            "max_pooling2d_123 (MaxPoolin (None, 13, 13, 16)        0         \n",
            "_________________________________________________________________\n",
            "conv2d_125 (Conv2D)          (None, 11, 11, 32)        4640      \n",
            "_________________________________________________________________\n",
            "max_pooling2d_124 (MaxPoolin (None, 5, 5, 32)          0         \n",
            "_________________________________________________________________\n",
            "flatten_47 (Flatten)         (None, 800)               0         \n",
            "_________________________________________________________________\n",
            "dense_94 (Dense)             (None, 32)                25632     \n",
            "_________________________________________________________________\n",
            "dense_95 (Dense)             (None, 3)                 99        \n",
            "=================================================================\n",
            "Total params: 30,819\n",
            "Trainable params: 30,819\n",
            "Non-trainable params: 0\n",
            "_________________________________________________________________\n"
          ]
        }
      ],
      "source": [
        "import tensorflow as tf\n",
        "from tensorflow import keras\n",
        "import numpy as np\n",
        "\n",
        "model=keras.models.Sequential()\n",
        "model.add(keras.layers.Conv2D(16, (3, 3), activation='relu', input_shape=(28, 28, 3))) # 이미지의 특징과 입력 이미지의 형태\n",
        "model.add(keras.layers.MaxPool2D(2, 2))\n",
        "model.add(keras.layers.Conv2D(32, (3, 3), activation='relu')) # 이미지의 특징\n",
        "model.add(keras.layers.MaxPooling2D((2, 2)))\n",
        "model.add(keras.layers.Flatten())\n",
        "model.add(keras.layers.Dense(32, activation='relu')) # 분류기 알고리즘의 복잡도\n",
        "model.add(keras.layers.Dense(3, activation='softmax')) # 최종 분류기의 class 수\n",
        "\n",
        "print('Model에 추가된 Layer 개수: ', len(model.layers))\n",
        "\n",
        "model.summary()"
      ]
    },
    {
      "cell_type": "markdown",
      "id": "2c620782",
      "metadata": {
        "id": "2c620782"
      },
      "source": [
        "**딥러닝 네트워크 학습시키기**"
      ]
    },
    {
      "cell_type": "markdown",
      "id": "367d4caa",
      "metadata": {
        "id": "367d4caa"
      },
      "source": [
        "**Q. model.compile()과 model.fit()을 사용하여 딥러닝 네트워크 학습시키기**"
      ]
    },
    {
      "cell_type": "code",
      "execution_count": null,
      "id": "45bd1834",
      "metadata": {
        "id": "45bd1834",
        "outputId": "81a358c3-6c30-43b8-fda0-c73356c59a81"
      },
      "outputs": [
        {
          "name": "stdout",
          "output_type": "stream",
          "text": [
            "Epoch 1/10\n",
            "10/10 [==============================] - 1s 17ms/step - loss: 20.2214 - accuracy: 0.3333\n",
            "Epoch 2/10\n",
            "10/10 [==============================] - 0s 20ms/step - loss: 6.1783 - accuracy: 0.4600\n",
            "Epoch 3/10\n",
            "10/10 [==============================] - 0s 20ms/step - loss: 1.9498 - accuracy: 0.5400\n",
            "Epoch 4/10\n",
            "10/10 [==============================] - 0s 21ms/step - loss: 0.5128 - accuracy: 0.8133\n",
            "Epoch 5/10\n",
            "10/10 [==============================] - 0s 20ms/step - loss: 0.1515 - accuracy: 0.9433\n",
            "Epoch 6/10\n",
            "10/10 [==============================] - 0s 22ms/step - loss: 0.0789 - accuracy: 0.9733\n",
            "Epoch 7/10\n",
            "10/10 [==============================] - 0s 20ms/step - loss: 0.0296 - accuracy: 0.9933\n",
            "Epoch 8/10\n",
            "10/10 [==============================] - 0s 21ms/step - loss: 0.0037 - accuracy: 1.0000\n",
            "Epoch 9/10\n",
            "10/10 [==============================] - 0s 21ms/step - loss: 0.0016 - accuracy: 1.0000\n",
            "Epoch 10/10\n",
            "10/10 [==============================] - 0s 20ms/step - loss: 0.0010 - accuracy: 1.0000\n"
          ]
        }
      ],
      "source": [
        "model.compile(optimizer='adam',\n",
        "             loss='sparse_categorical_crossentropy',\n",
        "             metrics=['accuracy'])\n",
        "\n",
        "history = model.fit(x_train, y_train, epochs=10)"
      ]
    },
    {
      "cell_type": "code",
      "execution_count": null,
      "id": "624bea5e",
      "metadata": {
        "id": "624bea5e",
        "outputId": "f2529840-625b-4712-cc94-da37b8abf6fe"
      },
      "outputs": [
        {
          "data": {
            "image/png": "[encoded data removed]",
            "text/plain": [
              "<Figure size 432x288 with 1 Axes>"
            ]
          },
          "metadata": {
            "needs_background": "light"
          },
          "output_type": "display_data"
        }
      ],
      "source": [
        "import matplotlib.pyplot as plt\n",
        "\n",
        "plt.plot(history.history['accuracy'])\n",
        "plt.title('Model Accuracy')\n",
        "plt.xlabel('Epoch')\n",
        "plt.ylabel('Accuracy')\n",
        "plt.legend(['Training Accuracy'], loc='upper left')\n",
        "plt.show()\n",
        "\n",
        "# plt.figure(figsize=(12, 4))\n",
        "# plt.subplot(1, 2, 1)\n",
        "# plt.plot(history.history['loss'], label='Training Loss')\n",
        "# plt.plot(history.history['val_loss'], label='Validation Loss')\n",
        "# plt.xlabel('Epochs')\n",
        "# plt.ylabel('Loss')\n",
        "# plt.legend()\n",
        "\n",
        "# plt.subplot(1, 2, 2)\n",
        "# plt.plot(history.history['accuracy'], label='Training Accuracy')\n",
        "# plt.plot(history.history['val_accuracy'], label='Validation Accuracy')\n",
        "# plt.xlabel('Epochs')\n",
        "# plt.ylabel('Accuracy')\n",
        "# plt.legend()\n",
        "\n",
        "# plt.show()"
      ]
    },
    {
      "cell_type": "markdown",
      "id": "65274c29",
      "metadata": {
        "id": "65274c29"
      },
      "source": [
        "**얼마나 잘 만들었는지 확인하기(테스트)**\n",
        "\n",
        "```\n",
        "# Test data 경로 설정\n",
        "\n",
        "mkdir -p ~/aiffel/rock_paper_scissors/test\n",
        "```"
      ]
    },
    {
      "cell_type": "markdown",
      "id": "3f0b4413",
      "metadata": {
        "id": "3f0b4413"
      },
      "source": [
        "**테스트 데이터 이미지 크기 조정하기**"
      ]
    },
    {
      "cell_type": "code",
      "execution_count": null,
      "id": "7e6b4589",
      "metadata": {
        "id": "7e6b4589",
        "outputId": "efc2d0b7-22ad-4c4d-9cd1-f1a82ed04261"
      },
      "outputs": [
        {
          "name": "stdout",
          "output_type": "stream",
          "text": [
            "30  images to be resized.\n",
            "30  images resized.\n",
            "가위 테스트 이미지 resize 완료!\n"
          ]
        }
      ],
      "source": [
        "def resize_images(img_path):\n",
        "    images=glob.glob(img_path + \"/*.jpg\")\n",
        "\n",
        "    print(len(images), \" images to be resized.\")\n",
        "\n",
        "    # 파일마다 모두 28x28 사이즈로 변경\n",
        "    target_size=(28,28)\n",
        "    for img in images:\n",
        "        old_img=Image.open(img)\n",
        "        new_img=old_img.resize(target_size,Image.ANTIALIAS)\n",
        "        new_img.save(img, \"JPEG\")\n",
        "\n",
        "    print(len(images), \" images resized.\")\n",
        "\n",
        "image_dir_path = os.getenv(\"HOME\") + \"/aiffel/rock_paper_scissors/test/scissor\"\n",
        "resize_images(image_dir_path)\n",
        "\n",
        "print(\"가위 테스트 이미지 resize 완료!\")"
      ]
    },
    {
      "cell_type": "code",
      "execution_count": null,
      "id": "0820ee77",
      "metadata": {
        "id": "0820ee77",
        "outputId": "6cb65081-c208-4db4-9d0f-7fa0cbb9bb25"
      },
      "outputs": [
        {
          "name": "stdout",
          "output_type": "stream",
          "text": [
            "30  images to be resized.\n",
            "30  images resized.\n",
            "바위 테스트 이미지 resize 완료!\n"
          ]
        }
      ],
      "source": [
        "def resize_images(img_path):\n",
        "    images=glob.glob(img_path + \"/*.jpg\")\n",
        "    print(len(images), \" images to be resized.\")\n",
        "\n",
        "    # 파일마다 모두 28x28 사이즈로 바꾸어 저장합니다.\n",
        "    target_size=(28,28)\n",
        "    for img in images:\n",
        "        old_img=Image.open(img)\n",
        "        new_img=old_img.resize(target_size,Image.ANTIALIAS)\n",
        "        new_img.save(img, \"JPEG\")\n",
        "\n",
        "    print(len(images), \" images resized.\")\n",
        "\n",
        "# 바위 이미지가 저장된 디렉토리 아래의 모든 jpg 파일을 읽어들여서\n",
        "image_dir_path = os.getenv(\"HOME\") + \"/aiffel/rock_paper_scissors/test/rock\"\n",
        "resize_images(image_dir_path)\n",
        "\n",
        "print(\"바위 테스트 이미지 resize 완료!\")"
      ]
    },
    {
      "cell_type": "code",
      "execution_count": null,
      "id": "587125fb",
      "metadata": {
        "id": "587125fb",
        "outputId": "2ca0211e-3a05-421a-f9c4-a06d395af07e"
      },
      "outputs": [
        {
          "name": "stdout",
          "output_type": "stream",
          "text": [
            "30  images to be resized.\n",
            "30  images resized.\n",
            "보 테스트 이미지 resize 완료!\n"
          ]
        }
      ],
      "source": [
        "def resize_images(img_path):\n",
        "    images=glob.glob(img_path + \"/*.jpg\")\n",
        "    print(len(images), \" images to be resized.\")\n",
        "\n",
        "    # 파일마다 모두 28x28 사이즈로 바꾸어 저장합니다.\n",
        "    target_size=(28,28)\n",
        "    for img in images:\n",
        "        old_img=Image.open(img)\n",
        "        new_img=old_img.resize(target_size,Image.ANTIALIAS)\n",
        "        new_img.save(img, \"JPEG\")\n",
        "\n",
        "    print(len(images), \" images resized.\")\n",
        "\n",
        "# 보 이미지가 저장된 디렉토리 아래의 모든 jpg 파일을 읽어들여서\n",
        "image_dir_path = os.getenv(\"HOME\") + \"/aiffel/rock_paper_scissors/test/paper\"\n",
        "resize_images(image_dir_path)\n",
        "\n",
        "print(\"보 테스트 이미지 resize 완료!\")"
      ]
    },
    {
      "cell_type": "code",
      "execution_count": null,
      "id": "1a681fe0",
      "metadata": {
        "id": "1a681fe0",
        "outputId": "31589e6c-0cf5-42de-b59c-3b2922d4cdb5"
      },
      "outputs": [
        {
          "name": "stdout",
          "output_type": "stream",
          "text": [
            "테스트 데이터(x_test)의 이미지 개수는 90 입니다.\n"
          ]
        }
      ],
      "source": [
        "# 테스트 데이터 x_test, y_test 만들기\n",
        "\n",
        "def load_data(img_path, number_of_data=90):  # 가위바위보 이미지 개수 총합에 주의하세요.\n",
        "    # 가위 : 0, 바위 : 1, 보 : 2\n",
        "    img_size=28\n",
        "    color=3\n",
        "    #이미지 데이터와 라벨(가위 : 0, 바위 : 1, 보 : 2) 데이터를 담을 행렬(matrix) 영역을 생성합니다.\n",
        "    imgs=np.zeros(number_of_data*img_size*img_size*color,dtype=np.int32).reshape(number_of_data,img_size,img_size,color)\n",
        "    labels=np.zeros(number_of_data,dtype=np.int32)\n",
        "\n",
        "    idx=0\n",
        "    for file in glob.iglob(img_path+'/scissor/*.jpg'):\n",
        "        img = np.array(Image.open(file),dtype=np.int32)\n",
        "        imgs[idx,:,:,:]=img    # 데이터 영역에 이미지 행렬을 복사\n",
        "        labels[idx]=0   # 가위 : 0\n",
        "        idx=idx+1\n",
        "\n",
        "    for file in glob.iglob(img_path+'/rock/*.jpg'):\n",
        "        img = np.array(Image.open(file),dtype=np.int32)\n",
        "        imgs[idx,:,:,:]=img    # 데이터 영역에 이미지 행렬을 복사\n",
        "        labels[idx]=1   # 바위 : 1\n",
        "        idx=idx+1\n",
        "\n",
        "    for file in glob.iglob(img_path+'/paper/*.jpg'):\n",
        "        img = np.array(Image.open(file),dtype=np.int32)\n",
        "        imgs[idx,:,:,:]=img    # 데이터 영역에 이미지 행렬을 복사\n",
        "        labels[idx]=2   # 보 : 2\n",
        "        idx=idx+1\n",
        "\n",
        "    print(\"테스트 데이터(x_test)의 이미지 개수는\", idx,\"입니다.\")\n",
        "    return imgs, labels\n",
        "\n",
        "image_dir_path = os.getenv(\"HOME\") + \"/aiffel/rock_paper_scissors/test\"\n",
        "(x_test, y_test)=load_data(image_dir_path)"
      ]
    },
    {
      "cell_type": "code",
      "execution_count": null,
      "id": "fb94636e",
      "metadata": {
        "id": "fb94636e",
        "outputId": "3b4b14c2-5e29-4816-90ff-16b9ec22e6da"
      },
      "outputs": [
        {
          "name": "stdout",
          "output_type": "stream",
          "text": [
            "x_test shape: (90, 28, 28, 3)\n",
            "y_test shape: (90,)\n"
          ]
        }
      ],
      "source": [
        "print(\"x_test shape: {}\".format(x_test.shape))\n",
        "print(\"y_test shape: {}\".format(y_test.shape))"
      ]
    },
    {
      "cell_type": "code",
      "execution_count": null,
      "id": "36231b25",
      "metadata": {
        "id": "36231b25",
        "outputId": "b5b7c421-7c8c-4ed2-ba7b-4ea952b8850d"
      },
      "outputs": [
        {
          "name": "stdout",
          "output_type": "stream",
          "text": [
            "최소값: 0  최대값: 255\n"
          ]
        }
      ],
      "source": [
        "# 가위바위보 이미지 테스트 데이터의 실제 픽셀 값\n",
        "\n",
        "print('최소값:',np.min(x_test), ' 최대값:',np.max(x_test))"
      ]
    },
    {
      "cell_type": "code",
      "execution_count": null,
      "id": "03b03a65",
      "metadata": {
        "id": "03b03a65",
        "outputId": "c78f3517-9a1b-4d66-a0ca-a2bda170656e"
      },
      "outputs": [
        {
          "name": "stdout",
          "output_type": "stream",
          "text": [
            "최소값: 0.0  최대값: 1.0\n"
          ]
        }
      ],
      "source": [
        "# 테스트 데이터  0과 1 사이 값으로 정규화\n",
        "\n",
        "x_test_norm = x_test / 255.0\n",
        "print('최소값:',np.min(x_test_norm), ' 최대값:',np.max(x_test_norm))"
      ]
    },
    {
      "cell_type": "code",
      "execution_count": null,
      "id": "269dc25b",
      "metadata": {
        "id": "269dc25b",
        "outputId": "741c8b6b-42eb-4b3a-a2e8-36191688c9b9"
      },
      "outputs": [
        {
          "name": "stdout",
          "output_type": "stream",
          "text": [
            "3/3 - 0s - loss: 3.0606 - accuracy: 0.5889\n",
            "test_loss: 3.060647487640381\n",
            "test_accuracy: 0.5888888835906982\n"
          ]
        }
      ],
      "source": [
        "# 위에서 훈련시킨 모델을 사용하여 test_accuracy를 측정\n",
        "\n",
        "test_loss, test_accuracy = model.evaluate(x_test, y_test, verbose=2)\n",
        "print(f\"test_loss: {test_loss}\")\n",
        "print(f\"test_accuracy: {test_accuracy}\")"
      ]
    },
    {
      "cell_type": "code",
      "execution_count": null,
      "id": "bece6925",
      "metadata": {
        "id": "bece6925",
        "outputId": "db6f4bf1-33a5-4679-bd51-10812bbf069a"
      },
      "outputs": [
        {
          "name": "stdout",
          "output_type": "stream",
          "text": [
            "WARNING:tensorflow:5 out of the last 13 calls to <function Model.make_predict_function.<locals>.predict_function at 0x7fd2f89b6b80> triggered tf.function retracing. Tracing is expensive and the excessive number of tracings could be due to (1) creating @tf.function repeatedly in a loop, (2) passing tensors with different shapes, (3) passing Python objects instead of tensors. For (1), please define your @tf.function outside of the loop. For (2), @tf.function has experimental_relax_shapes=True option that relaxes argument shapes that can avoid unnecessary retracing. For (3), please refer to https://www.tensorflow.org/guide/function#controlling_retracing and https://www.tensorflow.org/api_docs/python/tf/function for  more details.\n",
            "model.predict() 결과 :  [9.9951577e-01 4.8395849e-04 2.1438743e-07]\n",
            "model이 추론한 가장 가능성이 높은 결과 :  0\n",
            "실제 데이터의 라벨 :  0\n"
          ]
        }
      ],
      "source": [
        "predicted_result = model.predict(x_test)  # model이 추론한 확률값\n",
        "predicted_labels = np.argmax(predicted_result, axis=1)\n",
        "\n",
        "idx=0  # 1번째 x_test\n",
        "print('model.predict() 결과 : ', predicted_result[idx])\n",
        "print('model이 추론한 가장 가능성이 높은 결과 : ', predicted_labels[idx])\n",
        "print('실제 데이터의 라벨 : ', y_test[idx])"
      ]
    },
    {
      "cell_type": "code",
      "execution_count": null,
      "id": "dee3ec12",
      "metadata": {
        "id": "dee3ec12",
        "outputId": "28098942-d343-446d-9ab5-7203d61533bb"
      },
      "outputs": [
        {
          "data": {
            "image/png": "[encoded data removed]",
            "text/plain": [
              "<Figure size 432x288 with 1 Axes>"
            ]
          },
          "metadata": {
            "needs_background": "light"
          },
          "output_type": "display_data"
        }
      ],
      "source": [
        "plt.imshow(x_test[idx],cmap=plt.cm.binary)\n",
        "plt.show()"
      ]
    },
    {
      "cell_type": "code",
      "execution_count": null,
      "id": "8b77a672",
      "metadata": {
        "id": "8b77a672",
        "outputId": "8a018f53-a209-4789-e5a1-2ecfd00a5423"
      },
      "outputs": [
        {
          "name": "stdout",
          "output_type": "stream",
          "text": [
            "예측확률분포: [5.1096183e-01 4.8903802e-01 1.8998884e-07]\n",
            "라벨: 1, 예측결과: 0\n"
          ]
        },
        {
          "data": {
            "image/png": "[encoded data removed]",
            "text/plain": [
              "<Figure size 432x288 with 1 Axes>"
            ]
          },
          "metadata": {
            "needs_background": "light"
          },
          "output_type": "display_data"
        },
        {
          "name": "stdout",
          "output_type": "stream",
          "text": [
            "예측확률분포: [9.6510935e-01 3.4871619e-02 1.8999379e-05]\n",
            "라벨: 2, 예측결과: 0\n"
          ]
        },
        {
          "data": {
            "image/png": "[encoded data removed]",
            "text/plain": [
              "<Figure size 432x288 with 1 Axes>"
            ]
          },
          "metadata": {
            "needs_background": "light"
          },
          "output_type": "display_data"
        },
        {
          "name": "stdout",
          "output_type": "stream",
          "text": [
            "예측확률분포: [9.7373837e-01 2.6251050e-02 1.0605416e-05]\n",
            "라벨: 2, 예측결과: 0\n"
          ]
        },
        {
          "data": {
            "image/png": "[encoded data removed]",
            "text/plain": [
              "<Figure size 432x288 with 1 Axes>"
            ]
          },
          "metadata": {
            "needs_background": "light"
          },
          "output_type": "display_data"
        },
        {
          "name": "stdout",
          "output_type": "stream",
          "text": [
            "예측확률분포: [9.5749730e-01 4.2479508e-02 2.3146233e-05]\n",
            "라벨: 2, 예측결과: 0\n"
          ]
        },
        {
          "data": {
            "image/png": "[encoded data removed]",
            "text/plain": [
              "<Figure size 432x288 with 1 Axes>"
            ]
          },
          "metadata": {
            "needs_background": "light"
          },
          "output_type": "display_data"
        },
        {
          "name": "stdout",
          "output_type": "stream",
          "text": [
            "예측확률분포: [3.4869999e-01 6.5071893e-01 5.8102293e-04]\n",
            "라벨: 2, 예측결과: 1\n"
          ]
        },
        {
          "data": {
            "image/png": "[encoded data removed]",
            "text/plain": [
              "<Figure size 432x288 with 1 Axes>"
            ]
          },
          "metadata": {
            "needs_background": "light"
          },
          "output_type": "display_data"
        }
      ],
      "source": [
        "import random\n",
        "\n",
        "wrong_predict_list=[]\n",
        "for i, _ in enumerate(predicted_labels):\n",
        "    # i번째 test_labels과 y_test이 다른 경우만 모아 봅시다.\n",
        "    if predicted_labels[i] != y_test[i]:\n",
        "        wrong_predict_list.append(i)\n",
        "\n",
        "# wrong_predict_list 에서 랜덤하게 5개만 뽑아봅시다.\n",
        "samples = random.choices(population=wrong_predict_list, k=5)\n",
        "\n",
        "for n in samples:\n",
        "    print(\"예측확률분포: \" + str(predicted_result[n]))\n",
        "    print(\"라벨: \" + str(y_test[n]) + \", 예측결과: \" + str(predicted_labels[n]))\n",
        "    plt.imshow(x_test[n], cmap=plt.cm.binary)\n",
        "    plt.show()"
      ]
    },
    {
      "cell_type": "markdown",
      "id": "fdc9acf4",
      "metadata": {
        "id": "fdc9acf4"
      },
      "source": [
        "**더 좋은 네트워크 만들어보기**"
      ]
    },
    {
      "cell_type": "code",
      "execution_count": null,
      "id": "670c70ff",
      "metadata": {
        "id": "670c70ff",
        "outputId": "905c266d-2333-4a28-a2fd-c504888db7f5"
      },
      "outputs": [
        {
          "name": "stdout",
          "output_type": "stream",
          "text": [
            "Model에 추가된 Layer 개수:  13\n",
            "Model: \"sequential_50\"\n",
            "_________________________________________________________________\n",
            "Layer (type)                 Output Shape              Param #   \n",
            "=================================================================\n",
            "conv2d_129 (Conv2D)          (None, 27, 27, 16)        208       \n",
            "_________________________________________________________________\n",
            "batch_normalization_63 (Batc (None, 27, 27, 16)        64        \n",
            "_________________________________________________________________\n",
            "max_pooling2d_128 (MaxPoolin (None, 13, 13, 16)        0         \n",
            "_________________________________________________________________\n",
            "conv2d_130 (Conv2D)          (None, 12, 12, 24)        1560      \n",
            "_________________________________________________________________\n",
            "batch_normalization_64 (Batc (None, 12, 12, 24)        96        \n",
            "_________________________________________________________________\n",
            "max_pooling2d_129 (MaxPoolin (None, 6, 6, 24)          0         \n",
            "_________________________________________________________________\n",
            "conv2d_131 (Conv2D)          (None, 5, 5, 32)          3104      \n",
            "_________________________________________________________________\n",
            "batch_normalization_65 (Batc (None, 5, 5, 32)          128       \n",
            "_________________________________________________________________\n",
            "max_pooling2d_130 (MaxPoolin (None, 2, 2, 32)          0         \n",
            "_________________________________________________________________\n",
            "flatten_49 (Flatten)         (None, 128)               0         \n",
            "_________________________________________________________________\n",
            "dropout_38 (Dropout)         (None, 128)               0         \n",
            "_________________________________________________________________\n",
            "dense_98 (Dense)             (None, 32)                4128      \n",
            "_________________________________________________________________\n",
            "dense_99 (Dense)             (None, 3)                 99        \n",
            "=================================================================\n",
            "Total params: 9,387\n",
            "Trainable params: 9,243\n",
            "Non-trainable params: 144\n",
            "_________________________________________________________________\n"
          ]
        }
      ],
      "source": [
        "import tensorflow as tf\n",
        "from tensorflow import keras\n",
        "\n",
        "n_channel_1=16\n",
        "n_channel_2=24 # 32 -> 24\n",
        "n_channel_3=32\n",
        "n_dense=32\n",
        "n_train_epoch=20 # 10 -> 20\n",
        "\n",
        "model=keras.models.Sequential()\n",
        "model.add(keras.layers.Conv2D(n_channel_1, (2,2), activation='relu', input_shape=(28, 28, 3)))\n",
        "\n",
        "# BatchNormalization()) 추가\n",
        "model.add(keras.layers.BatchNormalization())\n",
        "model.add(keras.layers.MaxPool2D(2, 2))\n",
        "model.add(keras.layers.Conv2D(n_channel_2, (2,2), activation='relu'))\n",
        "\n",
        "# BatchNormalization()) 추가\n",
        "model.add(keras.layers.BatchNormalization())\n",
        "model.add(keras.layers.MaxPool2D(2, 2))\n",
        "\n",
        "# layer 추가\n",
        "model.add(keras.layers.Conv2D(n_channel_3, (2,2), activation='relu'))\n",
        "\n",
        "# BatchNormalization()) 추가\n",
        "model.add(keras.layers.BatchNormalization())\n",
        "model.add(keras.layers.MaxPool2D(2, 2))\n",
        "model.add(keras.layers.Flatten())\n",
        "\n",
        "# Dropout 추가\n",
        "model.add(keras.layers.Dropout(0.4))\n",
        "model.add(keras.layers.Dense(n_dense, activation='relu'))\n",
        "model.add(keras.layers.Dense(3, activation='softmax'))\n",
        "\n",
        "print('Model에 추가된 Layer 개수: ', len(model.layers))\n",
        "\n",
        "model.summary()"
      ]
    },
    {
      "cell_type": "code",
      "execution_count": null,
      "id": "f559b7d4",
      "metadata": {
        "id": "f559b7d4",
        "outputId": "c4f7ccc9-02c0-4a7b-a3ea-665506dd90f5"
      },
      "outputs": [
        {
          "name": "stdout",
          "output_type": "stream",
          "text": [
            "Epoch 1/20\n",
            "10/10 [==============================] - 1s 24ms/step - loss: 0.5191 - accuracy: 0.7833\n",
            "Epoch 2/20\n",
            "10/10 [==============================] - 0s 27ms/step - loss: 0.0868 - accuracy: 0.9700\n",
            "Epoch 3/20\n",
            "10/10 [==============================] - 0s 27ms/step - loss: 0.0142 - accuracy: 1.0000\n",
            "Epoch 4/20\n",
            "10/10 [==============================] - 0s 29ms/step - loss: 0.0092 - accuracy: 0.9967\n",
            "Epoch 5/20\n",
            "10/10 [==============================] - 0s 25ms/step - loss: 0.0155 - accuracy: 0.9967\n",
            "Epoch 6/20\n",
            "10/10 [==============================] - 0s 26ms/step - loss: 0.0212 - accuracy: 0.9900\n",
            "Epoch 7/20\n",
            "10/10 [==============================] - 0s 28ms/step - loss: 0.0217 - accuracy: 0.9867\n",
            "Epoch 8/20\n",
            "10/10 [==============================] - 0s 25ms/step - loss: 0.0193 - accuracy: 0.9933\n",
            "Epoch 9/20\n",
            "10/10 [==============================] - 0s 25ms/step - loss: 0.0047 - accuracy: 0.9967\n",
            "Epoch 10/20\n",
            "10/10 [==============================] - 0s 27ms/step - loss: 0.0427 - accuracy: 0.9833\n",
            "Epoch 11/20\n",
            "10/10 [==============================] - 0s 30ms/step - loss: 0.0361 - accuracy: 0.9933\n",
            "Epoch 12/20\n",
            "10/10 [==============================] - 0s 25ms/step - loss: 0.0083 - accuracy: 0.9967\n",
            "Epoch 13/20\n",
            "10/10 [==============================] - 0s 27ms/step - loss: 0.1643 - accuracy: 0.9633\n",
            "Epoch 14/20\n",
            "10/10 [==============================] - 0s 26ms/step - loss: 0.0581 - accuracy: 0.9833\n",
            "Epoch 15/20\n",
            "10/10 [==============================] - 0s 25ms/step - loss: 0.0043 - accuracy: 1.0000\n",
            "Epoch 16/20\n",
            "10/10 [==============================] - 0s 27ms/step - loss: 0.0013 - accuracy: 1.0000\n",
            "Epoch 17/20\n",
            "10/10 [==============================] - 0s 28ms/step - loss: 0.0118 - accuracy: 0.9967\n",
            "Epoch 18/20\n",
            "10/10 [==============================] - 0s 25ms/step - loss: 0.0092 - accuracy: 0.9967\n",
            "Epoch 19/20\n",
            "10/10 [==============================] - 0s 25ms/step - loss: 0.0065 - accuracy: 0.9967\n",
            "Epoch 20/20\n",
            "10/10 [==============================] - 0s 28ms/step - loss: 0.0074 - accuracy: 0.9967\n",
            "3/3 - 0s - loss: 7.3685 - accuracy: 0.6667\n",
            "test_loss: 7.3685078620910645 \n",
            "test_accuracy: 0.6666666865348816\n"
          ]
        }
      ],
      "source": [
        "optimizer = keras.optimizers.Adam(learning_rate=0.01)\n",
        "\n",
        "model.compile(optimizer=optimizer,\n",
        "             loss=\"sparse_categorical_crossentropy\",\n",
        "             metrics=['accuracy'])\n",
        "\n",
        "# 모델 학습\n",
        "history = model.fit(x_train, y_train, epochs=n_train_epoch)\n",
        "\n",
        "# 모델 시험\n",
        "test_loss, test_accuracy = model.evaluate(x_test, y_test, verbose=2)\n",
        "print(f\"test_loss: {test_loss} \")\n",
        "print(f\"test_accuracy: {test_accuracy}\")"
      ]
    },
    {
      "cell_type": "markdown",
      "id": "d25c76f4",
      "metadata": {
        "id": "d25c76f4"
      },
      "source": [
        "### 3-2. test_accuracy를 높이기 위해 설정한 몇 가지 시도\n",
        "\n",
        "\n",
        "**1. 채널 조정 및 더 많은 횟수의 에포크 시도**\n",
        "\n",
        "```\n",
        "n_channel_1=16\n",
        "n_channel_2=24 # 32 -> 24\n",
        "n_channel_3=32\n",
        "n_dense=32\n",
        "n_train_epoch=20 # 10 -> 20\n",
        "```\n",
        "\n",
        "**2. BatchNormalization()) 추가\n",
        "\n",
        "```\n",
        "model.add(keras.layers.BatchNormalization())\n",
        "```\n",
        "\n",
        "**3. layer 추가**\n",
        "\n",
        "```\n",
        "model.add(keras.layers.Conv2D(n_channel_3, (2,2), activation='relu'))\n",
        "```\n",
        "\n",
        "**4. Dropout 추가**\n",
        "\n",
        "```\n",
        "model.add(keras.layers.Dropout(0.4))\n",
        "```\n",
        "\n",
        "**5. learning_rate=0.01 설정**\n",
        "\n",
        "```\n",
        "optimizer = keras.optimizers.Adam(learning_rate=0.01)\n",
        "\n",
        "model.compile(optimizer=optimizer,\n",
        "             loss=\"sparse_categorical_crossentropy\",\n",
        "             metrics=['accuracy'])\n",
        "```"
      ]
    }
  ],
  "metadata": {
    "kernelspec": {
      "display_name": "Python 3 (ipykernel)",
      "language": "python",
      "name": "python3"
    },
    "language_info": {
      "codemirror_mode": {
        "name": "ipython",
        "version": 3
      },
      "file_extension": ".py",
      "mimetype": "text/x-python",
      "name": "python",
      "nbconvert_exporter": "python",
      "pygments_lexer": "ipython3",
      "version": "3.9.7"
    },
    "colab": {
      "provenance": [],
      "include_colab_link": true
    }
  },
  "nbformat": 4,
  "nbformat_minor": 5
}