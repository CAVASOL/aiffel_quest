{
  "cells": [
    {
      "cell_type": "markdown",
      "metadata": {
        "id": "view-in-github",
        "colab_type": "text"
      },
      "source": [
        "<a href=\"https://colab.research.google.com/github/CAVASOL/aiffel_quest/blob/main/Exploration_quest/exploration_6/xp6_deploy_project.ipynb\" target=\"_parent\"><img src=\"https://colab.research.google.com/assets/colab-badge.svg\" alt=\"Open In Colab\"/></a>"
      ]
    },
    {
      "cell_type": "markdown",
      "id": "c8d41286",
      "metadata": {
        "id": "c8d41286"
      },
      "source": [
        "## 14-1. 프로젝트: CIFAR-10 모델 튜닝하고 배포하기!\n",
        "\n",
        "**Goal**\n",
        "\n",
        "`The goal involves choosing a project, adjusting its parameters precisely, and deploying it using TFServing and Docker.` The focus is on optimizing model performance by finetuning parameters and ensuring seamless deployment for efficient functionality within a Docker container.\n",
        "\n",
        "**Index**\n",
        "\n",
        "    1. Finetune hyperparameter\n",
        "    2. Deploy the model\n",
        "    3. Create a TFLite model\n",
        "    4. Conclusion"
      ]
    },
    {
      "cell_type": "markdown",
      "id": "125134f7",
      "metadata": {
        "id": "125134f7"
      },
      "source": [
        "### 1. Finetune hyperparameter"
      ]
    },
    {
      "cell_type": "code",
      "execution_count": null,
      "id": "adf26598",
      "metadata": {
        "id": "adf26598",
        "outputId": "a47473b6-edcd-4afd-db50-23a621a86b7e"
      },
      "outputs": [
        {
          "name": "stdout",
          "output_type": "stream",
          "text": [
            "Requirement already satisfied: keras-tuner in /opt/conda/lib/python3.9/site-packages (1.4.6)\n",
            "Requirement already satisfied: requests in /opt/conda/lib/python3.9/site-packages (from keras-tuner) (2.26.0)\n",
            "Requirement already satisfied: keras in /opt/conda/lib/python3.9/site-packages (from keras-tuner) (2.6.0)\n",
            "Requirement already satisfied: packaging in /opt/conda/lib/python3.9/site-packages (from keras-tuner) (21.3)\n",
            "Requirement already satisfied: kt-legacy in /opt/conda/lib/python3.9/site-packages (from keras-tuner) (1.0.5)\n",
            "Requirement already satisfied: pyparsing!=3.0.5,>=2.0.2 in /opt/conda/lib/python3.9/site-packages (from packaging->keras-tuner) (3.0.6)\n",
            "Requirement already satisfied: charset-normalizer~=2.0.0 in /opt/conda/lib/python3.9/site-packages (from requests->keras-tuner) (2.0.8)\n",
            "Requirement already satisfied: urllib3<1.27,>=1.21.1 in /opt/conda/lib/python3.9/site-packages (from requests->keras-tuner) (1.26.7)\n",
            "Requirement already satisfied: idna<4,>=2.5 in /opt/conda/lib/python3.9/site-packages (from requests->keras-tuner) (2.10)\n",
            "Requirement already satisfied: certifi>=2017.4.17 in /opt/conda/lib/python3.9/site-packages (from requests->keras-tuner) (2021.10.8)\n",
            "\u001b[33mWARNING: Running pip as the 'root' user can result in broken permissions and conflicting behaviour with the system package manager. It is recommended to use a virtual environment instead: https://pip.pypa.io/warnings/venv\u001b[0m\n",
            "Note: you may need to restart the kernel to use updated packages.\n"
          ]
        }
      ],
      "source": [
        "pip install keras-tuner"
      ]
    },
    {
      "cell_type": "code",
      "execution_count": null,
      "id": "55e1b6c2",
      "metadata": {
        "id": "55e1b6c2"
      },
      "outputs": [],
      "source": [
        "import os\n",
        "import keras\n",
        "import keras_tuner as kt\n",
        "from sklearn.model_selection import train_test_split\n",
        "import tensorflow as tf\n",
        "from tensorflow.keras import models, layers\n",
        "from tensorflow.keras.datasets import cifar10\n",
        "import matplotlib.pyplot as plt"
      ]
    },
    {
      "cell_type": "code",
      "execution_count": null,
      "id": "bb22dd27",
      "metadata": {
        "id": "bb22dd27",
        "outputId": "5d68e044-12e9-4281-907b-a308ed176789"
      },
      "outputs": [
        {
          "name": "stdout",
          "output_type": "stream",
          "text": [
            "Keras 2.6.0\n"
          ]
        }
      ],
      "source": [
        "print(\"Keras\", keras.__version__)"
      ]
    },
    {
      "cell_type": "code",
      "execution_count": null,
      "id": "86921f9b",
      "metadata": {
        "id": "86921f9b"
      },
      "outputs": [],
      "source": [
        "(x_train, y_train), (x_test, y_test) = tf.keras.datasets.cifar10.load_data()"
      ]
    },
    {
      "cell_type": "code",
      "execution_count": null,
      "id": "115383df",
      "metadata": {
        "id": "115383df"
      },
      "outputs": [],
      "source": [
        "X_train = x_train.reshape(-1, 32, 32, 3)\n",
        "X_test = x_test.reshape(-1, 32, 32, 3)\n",
        "y_train = tf.keras.utils.to_categorical(y_train, num_classes=10)\n",
        "y_test = tf.keras.utils.to_categorical(y_test, num_classes=10)"
      ]
    },
    {
      "cell_type": "code",
      "execution_count": null,
      "id": "bdfc51f7",
      "metadata": {
        "id": "bdfc51f7",
        "outputId": "2b9d45e0-e1d9-42a7-e61b-0cd5da052b2f"
      },
      "outputs": [
        {
          "name": "stdout",
          "output_type": "stream",
          "text": [
            "(50000, 32, 32, 3)\n"
          ]
        }
      ],
      "source": [
        "print(X_train.shape)"
      ]
    },
    {
      "cell_type": "code",
      "execution_count": null,
      "id": "1b74ed05",
      "metadata": {
        "id": "1b74ed05"
      },
      "outputs": [],
      "source": [
        "X_train, X_val, y_train, y_val = train_test_split(X_train, y_train, test_size = 0.2)"
      ]
    },
    {
      "cell_type": "code",
      "execution_count": null,
      "id": "8a419e37",
      "metadata": {
        "id": "8a419e37",
        "outputId": "05fa378e-4f69-4779-e669-e7498a2ffb40"
      },
      "outputs": [
        {
          "name": "stdout",
          "output_type": "stream",
          "text": [
            "(40000, 32, 32, 3)\n"
          ]
        }
      ],
      "source": [
        "print(X_train.shape)"
      ]
    },
    {
      "cell_type": "code",
      "execution_count": null,
      "id": "26e63fcc",
      "metadata": {
        "id": "26e63fcc"
      },
      "outputs": [],
      "source": [
        "class DeepTuner(kt.Tuner):\n",
        "    def run_trial(self, trial, X, y, validation_data, **fit_kwargs):\n",
        "        model = self.hypermodel.build(trial.hyperparameters)\n",
        "        model.fit(X, y, batch_size=trial.hyperparameters.Choice(\n",
        "            'batch_size', [16, 32]), **fit_kwargs)\n",
        "\n",
        "        X_val, y_val = validation_data\n",
        "        eval_scores = model.evaluate(X_val, y_val)\n",
        "        return {name: value for name, value in zip(\n",
        "            model.metrics_names,\n",
        "            eval_scores)}"
      ]
    },
    {
      "cell_type": "code",
      "execution_count": null,
      "id": "37163cdf",
      "metadata": {
        "id": "37163cdf"
      },
      "outputs": [],
      "source": [
        "def build_model(hp):\n",
        "    model = tf.keras.Sequential()\n",
        "    model.add(tf.keras.Input(shape = X_train.shape[1:], name = 'inputs'))\n",
        "    for i in range(hp.Int('num_layers', min_value=1, max_value=10)):\n",
        "              model.add(tf.keras.layers.Conv2D(hp.Int(\n",
        "                  'units_{i}'.format(i=i), min_value=32, max_value=128, step=5), (3,3),activation='relu'))\n",
        "    model.add(tf.keras.layers.Flatten())\n",
        "    for i in range(hp.Int('n_connections', 1, 3)):\n",
        "        model.add(tf.keras.layers.Dense(hp.Choice(f'n_nodes',\n",
        "                                  values=[32,64,128, 256]), activation = 'relu'))\n",
        "    model.add(tf.keras.layers.Dense(10, activation='softmax', name = 'outputs'))\n",
        "    model.compile(optimizer = 'adam',loss='categorical_crossentropy',\n",
        "        metrics=['accuracy'])\n",
        "    return model"
      ]
    },
    {
      "cell_type": "code",
      "execution_count": null,
      "id": "bf3b4e4b",
      "metadata": {
        "id": "bf3b4e4b"
      },
      "outputs": [],
      "source": [
        "my_keras_tuner = DeepTuner(\n",
        "    oracle=kt.oracles.BayesianOptimizationOracle(\n",
        "        objective=kt.Objective('accuracy', 'max'),\n",
        "        max_trials=10,\n",
        "        seed=42),\n",
        "    hypermodel=build_model,\n",
        "    overwrite=True,\n",
        "    project_name='cifar10_tuner')"
      ]
    },
    {
      "cell_type": "code",
      "execution_count": null,
      "id": "330a5d4e",
      "metadata": {
        "id": "330a5d4e",
        "outputId": "1a7eac26-7ddd-4fe9-be18-daa875b29fca"
      },
      "outputs": [
        {
          "name": "stdout",
          "output_type": "stream",
          "text": [
            "Trial 10 Complete [00h 00m 48s]\n",
            "accuracy: 0.4708000123500824\n",
            "\n",
            "Best accuracy So Far: 0.603600025177002\n",
            "Total elapsed time: 00h 08m 24s\n"
          ]
        }
      ],
      "source": [
        "my_keras_tuner.search(X_train, y_train, validation_data=(X_val, y_val), epochs=3)"
      ]
    },
    {
      "cell_type": "code",
      "execution_count": null,
      "id": "cb0dfdcf",
      "metadata": {
        "id": "cb0dfdcf",
        "outputId": "d5b7885f-1406-48c9-b020-c68ab8518cda"
      },
      "outputs": [
        {
          "name": "stdout",
          "output_type": "stream",
          "text": [
            "Model: \"sequential_11\"\n",
            "_________________________________________________________________\n",
            "Layer (type)                 Output Shape              Param #   \n",
            "=================================================================\n",
            "conv2d_65 (Conv2D)           (None, 30, 30, 102)       2856      \n",
            "_________________________________________________________________\n",
            "conv2d_66 (Conv2D)           (None, 28, 28, 42)        38598     \n",
            "_________________________________________________________________\n",
            "conv2d_67 (Conv2D)           (None, 26, 26, 67)        25393     \n",
            "_________________________________________________________________\n",
            "conv2d_68 (Conv2D)           (None, 24, 24, 37)        22348     \n",
            "_________________________________________________________________\n",
            "conv2d_69 (Conv2D)           (None, 22, 22, 52)        17368     \n",
            "_________________________________________________________________\n",
            "flatten_11 (Flatten)         (None, 25168)             0         \n",
            "_________________________________________________________________\n",
            "dense_16 (Dense)             (None, 256)               6443264   \n",
            "_________________________________________________________________\n",
            "outputs (Dense)              (None, 10)                2570      \n",
            "=================================================================\n",
            "Total params: 6,552,397\n",
            "Trainable params: 6,552,397\n",
            "Non-trainable params: 0\n",
            "_________________________________________________________________\n"
          ]
        }
      ],
      "source": [
        "best_hps = my_keras_tuner.get_best_hyperparameters(num_trials=10)[0]\n",
        "model = build_model(best_hps)\n",
        "model.summary()"
      ]
    },
    {
      "cell_type": "code",
      "execution_count": null,
      "id": "f21ade1e",
      "metadata": {
        "id": "f21ade1e",
        "outputId": "b7a5947e-9bcb-467d-c823-09a531f44363"
      },
      "outputs": [
        {
          "name": "stdout",
          "output_type": "stream",
          "text": [
            "Epoch 1/10\n",
            "1250/1250 [==============================] - 11s 9ms/step - loss: 1.8227 - accuracy: 0.3901\n",
            "Epoch 2/10\n",
            "1250/1250 [==============================] - 11s 9ms/step - loss: 1.1679 - accuracy: 0.5870\n",
            "Epoch 3/10\n",
            "1250/1250 [==============================] - 11s 9ms/step - loss: 0.8251 - accuracy: 0.7120\n",
            "Epoch 4/10\n",
            "1250/1250 [==============================] - 11s 9ms/step - loss: 0.4566 - accuracy: 0.8432\n",
            "Epoch 5/10\n",
            "1250/1250 [==============================] - 11s 9ms/step - loss: 0.2487 - accuracy: 0.9167\n",
            "Epoch 6/10\n",
            "1250/1250 [==============================] - 11s 9ms/step - loss: 0.1726 - accuracy: 0.9444\n",
            "Epoch 7/10\n",
            "1250/1250 [==============================] - 11s 9ms/step - loss: 0.1430 - accuracy: 0.9531\n",
            "Epoch 8/10\n",
            "1250/1250 [==============================] - 11s 9ms/step - loss: 0.1340 - accuracy: 0.9570\n",
            "Epoch 9/10\n",
            "1250/1250 [==============================] - 11s 9ms/step - loss: 0.1128 - accuracy: 0.9636\n",
            "Epoch 10/10\n",
            "1250/1250 [==============================] - 11s 9ms/step - loss: 0.1067 - accuracy: 0.9663\n"
          ]
        },
        {
          "data": {
            "text/plain": [
              "<keras.callbacks.History at 0x7f92a03aaa30>"
            ]
          },
          "execution_count": 14,
          "metadata": {},
          "output_type": "execute_result"
        }
      ],
      "source": [
        "model.fit(X_train, y_train, batch_size = 32, epochs = 10)"
      ]
    },
    {
      "cell_type": "code",
      "execution_count": null,
      "id": "53af1db7",
      "metadata": {
        "id": "53af1db7",
        "outputId": "c9e5eec9-559a-4082-b438-649805990e95"
      },
      "outputs": [
        {
          "name": "stdout",
          "output_type": "stream",
          "text": [
            "313/313 [==============================] - 1s 4ms/step - loss: 2.9473 - accuracy: 0.5482\n"
          ]
        },
        {
          "data": {
            "text/plain": [
              "[2.9473025798797607, 0.5482000112533569]"
            ]
          },
          "execution_count": 15,
          "metadata": {},
          "output_type": "execute_result"
        }
      ],
      "source": [
        "model.evaluate(X_test, y_test)"
      ]
    },
    {
      "cell_type": "code",
      "execution_count": null,
      "id": "98433483",
      "metadata": {
        "id": "98433483",
        "outputId": "c5f3f60c-1bf5-4784-cd47-4466f98f6c8e"
      },
      "outputs": [
        {
          "name": "stdout",
          "output_type": "stream",
          "text": [
            "INFO:tensorflow:Assets written to: /aiffel/aiffel/mlops/best_model/1/model/assets\n"
          ]
        }
      ],
      "source": [
        "save_path = os.getenv('HOME') + '/aiffel/mlops/best_model/1'\n",
        "fname = os.path.join(save_path, 'model')\n",
        "model.save(fname)"
      ]
    },
    {
      "cell_type": "markdown",
      "source": [
        "### 2. Deploy the model"
      ],
      "metadata": {
        "id": "hSTxG_Rfjo1_"
      },
      "id": "hSTxG_Rfjo1_"
    },
    {
      "cell_type": "code",
      "execution_count": null,
      "id": "3b187a5e",
      "metadata": {
        "id": "3b187a5e"
      },
      "outputs": [],
      "source": [
        "# data=\"$(pwd)/aiffel_quest/Exploration_quest/exploration_6/cifar10_saved_model\""
      ]
    },
    {
      "cell_type": "code",
      "execution_count": null,
      "id": "cb0b0853",
      "metadata": {
        "id": "cb0b0853"
      },
      "outputs": [],
      "source": [
        "# docker run -t --rm -p 8500:8500 \\\n",
        "#     -v \"$data/model:/saved_model\" \\\n",
        "#     -e MODEL_NAME=saved_model \\\n",
        "#     tensorflow/serving &"
      ]
    },
    {
      "cell_type": "markdown",
      "source": [
        "![](https://drive.google.com/uc?export=view&id=1zY12YNbi0XltccS6mxzi4_4wZePcOfe4)"
      ],
      "metadata": {
        "id": "c5jvSEfc8L_z"
      },
      "id": "c5jvSEfc8L_z"
    },
    {
      "cell_type": "markdown",
      "source": [
        "![](https://drive.google.com/uc?export=view&id=1kKEDG8zmTLMOEPILFR0uOnXoI3PYDJ9Z)"
      ],
      "metadata": {
        "id": "L27xDPEn8qAG"
      },
      "id": "L27xDPEn8qAG"
    },
    {
      "cell_type": "markdown",
      "source": [
        "배포는 되었으나, 해당 모델을 찾을 수 없다는 에러 발생. 여기서 생각한 솔루션은  \n",
        "1. 파일 경로 다시 지정,  \n",
        "2. .py 파일로 변경하고 재업로해서 배포 시도,  \n",
        "3. Jupyter Notebook Python Stack Extention 설치한 후 위의 과정을 다시 반복,\n",
        "4. 다른 모델로 시도."
      ],
      "metadata": {
        "id": "-6v0_QlTXwyi"
      },
      "id": "-6v0_QlTXwyi"
    },
    {
      "cell_type": "markdown",
      "source": [
        "![](https://drive.google.com/uc?export=view&id=1w9LrXueqkk4k1xc0w4tIYpn4SLa7UFvd)"
      ],
      "metadata": {
        "id": "VcyYXubgiqUS"
      },
      "id": "VcyYXubgiqUS"
    },
    {
      "cell_type": "markdown",
      "source": [
        "![](https://drive.google.com/uc?export=view&id=1woAdUkPcFHFI3eJ3ClC_BJRIZm0DHeYL)"
      ],
      "metadata": {
        "id": "YfHTQCwLZZny"
      },
      "id": "YfHTQCwLZZny"
    },
    {
      "cell_type": "markdown",
      "source": [
        "![](https://drive.google.com/uc?export=view&id=1b0UTcrhin9AWtsrM2wjoZM08CxUikWL-)"
      ],
      "metadata": {
        "id": "34_v6Er3ZlKZ"
      },
      "id": "34_v6Er3ZlKZ"
    },
    {
      "cell_type": "markdown",
      "id": "c09b367f",
      "metadata": {
        "id": "c09b367f"
      },
      "source": [
        "### 3. Create a TFLite model\n",
        "\n",
        "[keras_tuner.ipynb](https://colab.research.google.com/drive/1Uhp4AOLUjvQWVFnsjoloVaSx-_TDJqzi?usp=sharing)"
      ]
    },
    {
      "cell_type": "code",
      "execution_count": null,
      "id": "75474469",
      "metadata": {
        "id": "75474469"
      },
      "outputs": [],
      "source": [
        "load_path = os.getenv('HOME') + '/aiffel/mlops/best_model/1/model'\n",
        "best_model = tf.keras.models.load_model(load_path)"
      ]
    },
    {
      "cell_type": "code",
      "execution_count": null,
      "id": "dba7a89a",
      "metadata": {
        "id": "dba7a89a",
        "outputId": "595d298b-5f32-4eeb-c58c-34c4ac8fd1a7"
      },
      "outputs": [
        {
          "name": "stdout",
          "output_type": "stream",
          "text": [
            "Model: \"sequential_11\"\n",
            "_________________________________________________________________\n",
            "Layer (type)                 Output Shape              Param #   \n",
            "=================================================================\n",
            "conv2d_65 (Conv2D)           (None, 30, 30, 102)       2856      \n",
            "_________________________________________________________________\n",
            "conv2d_66 (Conv2D)           (None, 28, 28, 42)        38598     \n",
            "_________________________________________________________________\n",
            "conv2d_67 (Conv2D)           (None, 26, 26, 67)        25393     \n",
            "_________________________________________________________________\n",
            "conv2d_68 (Conv2D)           (None, 24, 24, 37)        22348     \n",
            "_________________________________________________________________\n",
            "conv2d_69 (Conv2D)           (None, 22, 22, 52)        17368     \n",
            "_________________________________________________________________\n",
            "flatten_11 (Flatten)         (None, 25168)             0         \n",
            "_________________________________________________________________\n",
            "dense_16 (Dense)             (None, 256)               6443264   \n",
            "_________________________________________________________________\n",
            "outputs (Dense)              (None, 10)                2570      \n",
            "=================================================================\n",
            "Total params: 6,552,397\n",
            "Trainable params: 6,552,397\n",
            "Non-trainable params: 0\n",
            "_________________________________________________________________\n"
          ]
        }
      ],
      "source": [
        "best_model.summary()"
      ]
    },
    {
      "cell_type": "code",
      "execution_count": null,
      "id": "10fb86cb",
      "metadata": {
        "id": "10fb86cb",
        "outputId": "e1ac0743-1967-455a-e221-11e756dc0879"
      },
      "outputs": [
        {
          "name": "stdout",
          "output_type": "stream",
          "text": [
            "INFO:tensorflow:Assets written to: /tmp/tmphct_l0kf/assets\n"
          ]
        }
      ],
      "source": [
        "converter = tf.lite.TFLiteConverter.from_keras_model(model)\n",
        "tflite_model = converter.convert()"
      ]
    },
    {
      "cell_type": "code",
      "execution_count": null,
      "id": "0843f942",
      "metadata": {
        "id": "0843f942"
      },
      "outputs": [],
      "source": [
        "with open('model.tflite', 'wb') as f:\n",
        "  f.write(tflite_model)"
      ]
    },
    {
      "cell_type": "code",
      "execution_count": null,
      "id": "e77b2fc2",
      "metadata": {
        "id": "e77b2fc2",
        "outputId": "c750f8e7-32ca-4c7d-b4ed-b156f22a94a1"
      },
      "outputs": [
        {
          "name": "stdout",
          "output_type": "stream",
          "text": [
            "{}\n"
          ]
        }
      ],
      "source": [
        "interpreter = tf.lite.Interpreter(model_content=tflite_model)\n",
        "\n",
        "signatures = interpreter.get_signature_list()\n",
        "print(signatures)"
      ]
    },
    {
      "cell_type": "code",
      "source": [
        "classify_lite = interpreter.get_signature_runner('serving_default')\n",
        "classify_lite"
      ],
      "metadata": {
        "id": "eNvKvoLwj9Qv"
      },
      "id": "eNvKvoLwj9Qv",
      "execution_count": null,
      "outputs": []
    },
    {
      "cell_type": "markdown",
      "source": [
        "### 4. Conclusion"
      ],
      "metadata": {
        "id": "gG7NUbCv_NC-"
      },
      "id": "gG7NUbCv_NC-"
    },
    {
      "cell_type": "markdown",
      "source": [
        "### Retrospect\n",
        "\n",
        "> 개인적으로 Heroku나 Vercel을 활용하는 편이라 전체적인 작업이 조금 번거롭게 느껴졌습니다. Docker와 TFServing을 활용해본 것이 유의미했고, 로컬 환경에서 다양한 방법으로 배포를 시도해본 것이 유익했습니다. 작업 과정에서 ML 모델을 배포함에 있어 TKServing과 Docker를 사용하는 것이 일반적으로 사용하는 방법인지 and/or 엔지니어들이 선호하는 방식인지 궁금했습니다. container의 개념이 흥미로웠고 한편, container나 deploy의 원리가 확립되지 않은 상태에서 단순히 플로우를 경험해보는 것은 무의미하다는 생각을 했습니다. 과정에서 다양한 참고 자료가 필요했고, 참고한 자료는 아래와 같습니다."
      ],
      "metadata": {
        "id": "7ozRau7I_OA0"
      },
      "id": "7ozRau7I_OA0"
    },
    {
      "cell_type": "markdown",
      "source": [
        "### Reference\n",
        "\n",
        "* [TensorFlow Serving with Docke](https://www.tensorflow.org/tfx/serving/docker)\n",
        "* [Hosting Models with TF Serving on Docker](https://towardsdatascience.com/hosting-models-with-tf-serving-on-docker-aceff9fbf533)\n",
        "* [Serving ML Quickly with TensorFlow Serving and Docker](https://medium.com/tensorflow/serving-ml-quickly-with-tensorflow-serving-and-docker-7df7094aa008)\n",
        "* [How to Serve Machine Learning Models With TensorFlow Serving and Docker](https://neptune.ai/blog/how-to-serve-machine-learning-models-with-tensorflow-serving-and-docker)"
      ],
      "metadata": {
        "id": "WdUTgAXo_hY5"
      },
      "id": "WdUTgAXo_hY5"
    }
  ],
  "metadata": {
    "kernelspec": {
      "display_name": "Python 3 (ipykernel)",
      "language": "python",
      "name": "python3"
    },
    "language_info": {
      "codemirror_mode": {
        "name": "ipython",
        "version": 3
      },
      "file_extension": ".py",
      "mimetype": "text/x-python",
      "name": "python",
      "nbconvert_exporter": "python",
      "pygments_lexer": "ipython3",
      "version": "3.9.7"
    },
    "colab": {
      "provenance": [],
      "include_colab_link": true
    }
  },
  "nbformat": 4,
  "nbformat_minor": 5
}