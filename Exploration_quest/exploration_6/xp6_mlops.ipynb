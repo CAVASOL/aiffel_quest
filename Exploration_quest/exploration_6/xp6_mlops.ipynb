{
  "cells": [
    {
      "cell_type": "markdown",
      "metadata": {
        "id": "view-in-github",
        "colab_type": "text"
      },
      "source": [
        "<a href=\"https://colab.research.google.com/github/CAVASOL/aiffel_quest/blob/main/Exploration_quest/exploration_6/xp6_mlops.ipynb\" target=\"_parent\"><img src=\"https://colab.research.google.com/assets/colab-badge.svg\" alt=\"Open In Colab\"/></a>"
      ]
    },
    {
      "cell_type": "markdown",
      "id": "983244e8",
      "metadata": {
        "id": "983244e8"
      },
      "source": [
        "## Exploration 6. MLOps\n",
        "\n",
        "**Goal**\n",
        "\n",
        "* Basics of MLOps Theory\n",
        "* Hyperparameter tuning with KerasTuner\n",
        "* Deploy models with TFServing or TFLite\n",
        "\n",
        "**Index**\n",
        "\n",
        "    1. Definition of MLOps and components of an ML system\n",
        "    2. TFX (TensorFlow Extended)\n",
        "    3. KerasTuner\n",
        "    4. TFServing & TFLite"
      ]
    },
    {
      "cell_type": "markdown",
      "id": "cb182f06",
      "metadata": {
        "id": "cb182f06"
      },
      "source": [
        "### 1. Definition of MLOps and components of an ML system"
      ]
    },
    {
      "cell_type": "markdown",
      "id": "984581f4",
      "metadata": {
        "id": "984581f4"
      },
      "source": [
        "[Kubeflow](https://www.kubeflow.org/docs/started/introduction/)  \n",
        "[What is Airflow](https://airflow.apache.org/docs/apache-airflow/stable/index.html)  \n",
        "[Hidden Technical Debt in Machine Learning Systems](https://proceedings.neurips.cc/paper_files/paper/2015/file/86df7dcfd896fcaf2674f757a2463eba-Paper.pdf)  "
      ]
    },
    {
      "cell_type": "markdown",
      "id": "23d0d071",
      "metadata": {
        "id": "23d0d071"
      },
      "source": [
        "###  2. TFX (TensorFlow Extended)"
      ]
    },
    {
      "cell_type": "markdown",
      "id": "c85e32ab",
      "metadata": {
        "id": "c85e32ab"
      },
      "source": [
        "[TFX is an end-to-end platform for deploying production ML pipelines](https://www.tensorflow.org/tfx)  "
      ]
    },
    {
      "cell_type": "markdown",
      "id": "73cb9224",
      "metadata": {
        "id": "73cb9224"
      },
      "source": [
        "### 3. KerasTuner\n",
        "\n",
        "[KerasTuner](https://keras.io/keras_tuner/)"
      ]
    },
    {
      "cell_type": "code",
      "execution_count": null,
      "id": "2cb0d7a6",
      "metadata": {
        "id": "2cb0d7a6",
        "outputId": "2846adef-08f9-4390-c33a-40206ea9e2d5"
      },
      "outputs": [
        {
          "name": "stdout",
          "output_type": "stream",
          "text": [
            "mkdir: cannot create directory ‘/aiffel/aiffel/mlops’: File exists\n",
            "Requirement already satisfied: keras-tuner in /opt/conda/lib/python3.9/site-packages (1.4.6)\n",
            "Requirement already satisfied: keras in /opt/conda/lib/python3.9/site-packages (from keras-tuner) (2.6.0)\n",
            "Requirement already satisfied: kt-legacy in /opt/conda/lib/python3.9/site-packages (from keras-tuner) (1.0.5)\n",
            "Requirement already satisfied: requests in /opt/conda/lib/python3.9/site-packages (from keras-tuner) (2.26.0)\n",
            "Requirement already satisfied: packaging in /opt/conda/lib/python3.9/site-packages (from keras-tuner) (21.3)\n",
            "Requirement already satisfied: pyparsing!=3.0.5,>=2.0.2 in /opt/conda/lib/python3.9/site-packages (from packaging->keras-tuner) (3.0.6)\n",
            "Requirement already satisfied: certifi>=2017.4.17 in /opt/conda/lib/python3.9/site-packages (from requests->keras-tuner) (2021.10.8)\n",
            "Requirement already satisfied: idna<4,>=2.5 in /opt/conda/lib/python3.9/site-packages (from requests->keras-tuner) (2.10)\n",
            "Requirement already satisfied: urllib3<1.27,>=1.21.1 in /opt/conda/lib/python3.9/site-packages (from requests->keras-tuner) (1.26.7)\n",
            "Requirement already satisfied: charset-normalizer~=2.0.0 in /opt/conda/lib/python3.9/site-packages (from requests->keras-tuner) (2.0.8)\n",
            "\u001b[33mWARNING: Running pip as the 'root' user can result in broken permissions and conflicting behaviour with the system package manager. It is recommended to use a virtual environment instead: https://pip.pypa.io/warnings/venv\u001b[0m\n"
          ]
        }
      ],
      "source": [
        "!mkdir ~/aiffel/mlops\n",
        "!pip install keras-tuner"
      ]
    },
    {
      "cell_type": "code",
      "execution_count": null,
      "id": "8c2e9b0b",
      "metadata": {
        "id": "8c2e9b0b"
      },
      "outputs": [],
      "source": [
        "import tensorflow as tf\n",
        "import keras\n",
        "import keras_tuner as kt\n",
        "from sklearn.model_selection import train_test_split\n",
        "import os"
      ]
    },
    {
      "cell_type": "code",
      "execution_count": null,
      "id": "6d78de63",
      "metadata": {
        "id": "6d78de63"
      },
      "outputs": [],
      "source": [
        "(x_train, y_train), (x_test, y_test) = keras.datasets.mnist.load_data()"
      ]
    },
    {
      "cell_type": "code",
      "execution_count": null,
      "id": "2122ae37",
      "metadata": {
        "id": "2122ae37"
      },
      "outputs": [],
      "source": [
        "X_train = x_train.reshape(-1,28, 28, 1)\n",
        "X_test = x_test.reshape(-1,28,28,1)\n",
        "y_train = tf.keras.utils.to_categorical(y_train)\n",
        "y_test = tf.keras.utils.to_categorical(y_test)"
      ]
    },
    {
      "cell_type": "code",
      "execution_count": null,
      "id": "5d5ea3c6",
      "metadata": {
        "id": "5d5ea3c6",
        "outputId": "8b5b3dd5-aad0-4470-ed93-c329d1322316"
      },
      "outputs": [
        {
          "name": "stdout",
          "output_type": "stream",
          "text": [
            "(48000, 28, 28, 1)\n"
          ]
        }
      ],
      "source": [
        "X_train, X_val, y_train, y_val = train_test_split(X_train, y_train, test_size = 0.2)\n",
        "print(X_train.shape)"
      ]
    },
    {
      "cell_type": "code",
      "execution_count": null,
      "id": "d57fc044",
      "metadata": {
        "id": "d57fc044"
      },
      "outputs": [],
      "source": [
        "class DeepTuner(kt.Tuner):\n",
        "    def run_trial(self, trial, X, y, validation_data, **fit_kwargs):\n",
        "        model = self.hypermodel.build(trial.hyperparameters)\n",
        "        model.fit(X, y, batch_size=trial.hyperparameters.Choice(\n",
        "            'batch_size', [16, 32]), **fit_kwargs)\n",
        "\n",
        "\n",
        "        X_val, y_val = validation_data\n",
        "        eval_scores = model.evaluate(X_val, y_val)\n",
        "        return {name: value for name, value in zip(\n",
        "            model.metrics_names,\n",
        "            eval_scores)}"
      ]
    },
    {
      "cell_type": "code",
      "execution_count": null,
      "id": "8a3bf6fb",
      "metadata": {
        "id": "8a3bf6fb"
      },
      "outputs": [],
      "source": [
        "def build_model(hp):\n",
        "    model = tf.keras.Sequential()\n",
        "    model.add(tf.keras.Input(shape = X_train.shape[1:], name = 'inputs'))\n",
        "    for i in range(hp.Int('num_layers', min_value=1, max_value=10)):\n",
        "              model.add(tf.keras.layers.Conv2D(hp.Int(\n",
        "                  'units_{i}'.format(i=i), min_value=32, max_value=128, step=5), (3,3),activation='relu'))\n",
        "    model.add(tf.keras.layers.Flatten())\n",
        "    for i in range(hp.Int('n_connections', 1, 3)):\n",
        "        model.add(tf.keras.layers.Dense(hp.Choice(f'n_nodes',\n",
        "                                  values=[32,64,128, 256]), activation = 'relu'))\n",
        "    model.add(tf.keras.layers.Dense(10, activation='softmax', name = 'outputs'))\n",
        "    model.compile(optimizer = 'adam',loss='categorical_crossentropy',\n",
        "        metrics=['accuracy'])\n",
        "    return model"
      ]
    },
    {
      "cell_type": "code",
      "execution_count": null,
      "id": "d2df7ca7",
      "metadata": {
        "id": "d2df7ca7",
        "outputId": "983faa85-33ba-4cdb-ba11-b10f84311835"
      },
      "outputs": [
        {
          "name": "stdout",
          "output_type": "stream",
          "text": [
            "Trial 10 Complete [00h 00m 46s]\n",
            "accuracy: 0.9750833511352539\n",
            "\n",
            "Best accuracy So Far: 0.984666645526886\n",
            "Total elapsed time: 00h 08m 00s\n"
          ]
        }
      ],
      "source": [
        "my_keras_tuner = DeepTuner(\n",
        "    oracle=kt.oracles.BayesianOptimizationOracle(\n",
        "        objective=kt.Objective('accuracy', 'max'),\n",
        "        max_trials=10,\n",
        "        seed=42),\n",
        "    hypermodel=build_model,\n",
        "    overwrite=True,\n",
        "    project_name='my_keras_tuner')\n",
        "\n",
        "my_keras_tuner.search(X_train, y_train, validation_data=(X_val, y_val), epochs=3)"
      ]
    },
    {
      "cell_type": "code",
      "execution_count": null,
      "id": "0c0350ab",
      "metadata": {
        "id": "0c0350ab",
        "outputId": "08cd6660-f82a-47f9-e5c9-ebeb8dc61578"
      },
      "outputs": [
        {
          "name": "stdout",
          "output_type": "stream",
          "text": [
            "Model: \"sequential_11\"\n",
            "_________________________________________________________________\n",
            "Layer (type)                 Output Shape              Param #   \n",
            "=================================================================\n",
            "conv2d_65 (Conv2D)           (None, 26, 26, 102)       1020      \n",
            "_________________________________________________________________\n",
            "conv2d_66 (Conv2D)           (None, 24, 24, 42)        38598     \n",
            "_________________________________________________________________\n",
            "conv2d_67 (Conv2D)           (None, 22, 22, 67)        25393     \n",
            "_________________________________________________________________\n",
            "conv2d_68 (Conv2D)           (None, 20, 20, 37)        22348     \n",
            "_________________________________________________________________\n",
            "conv2d_69 (Conv2D)           (None, 18, 18, 52)        17368     \n",
            "_________________________________________________________________\n",
            "flatten_11 (Flatten)         (None, 16848)             0         \n",
            "_________________________________________________________________\n",
            "dense_16 (Dense)             (None, 256)               4313344   \n",
            "_________________________________________________________________\n",
            "outputs (Dense)              (None, 10)                2570      \n",
            "=================================================================\n",
            "Total params: 4,420,641\n",
            "Trainable params: 4,420,641\n",
            "Non-trainable params: 0\n",
            "_________________________________________________________________\n"
          ]
        }
      ],
      "source": [
        "best_hps = my_keras_tuner.get_best_hyperparameters(num_trials=10)[0]\n",
        "model = build_model(best_hps)\n",
        "model.summary()"
      ]
    },
    {
      "cell_type": "code",
      "execution_count": null,
      "id": "2936bfec",
      "metadata": {
        "id": "2936bfec",
        "outputId": "7bfb72f3-ebfe-417e-ec14-811fa038900a"
      },
      "outputs": [
        {
          "name": "stdout",
          "output_type": "stream",
          "text": [
            "Epoch 1/5\n",
            "1500/1500 [==============================] - 11s 7ms/step - loss: 0.1891 - accuracy: 0.9543\n",
            "Epoch 2/5\n",
            "1500/1500 [==============================] - 10s 7ms/step - loss: 0.0498 - accuracy: 0.9848\n",
            "Epoch 3/5\n",
            "1500/1500 [==============================] - 10s 7ms/step - loss: 0.0351 - accuracy: 0.9892\n",
            "Epoch 4/5\n",
            "1500/1500 [==============================] - 10s 7ms/step - loss: 0.0271 - accuracy: 0.9915\n",
            "Epoch 5/5\n",
            "1500/1500 [==============================] - 10s 7ms/step - loss: 0.0190 - accuracy: 0.9936\n"
          ]
        },
        {
          "data": {
            "text/plain": [
              "<keras.callbacks.History at 0x7fe56463e970>"
            ]
          },
          "execution_count": 10,
          "metadata": {},
          "output_type": "execute_result"
        }
      ],
      "source": [
        "model.fit(X_train, y_train, batch_size=32, epochs = 5)"
      ]
    },
    {
      "cell_type": "code",
      "execution_count": null,
      "id": "0a799e34",
      "metadata": {
        "id": "0a799e34",
        "outputId": "5dcbd859-3990-49d9-bd28-f13b4a121812"
      },
      "outputs": [
        {
          "name": "stdout",
          "output_type": "stream",
          "text": [
            "313/313 [==============================] - 1s 4ms/step - loss: 0.0462 - accuracy: 0.9866\n"
          ]
        },
        {
          "data": {
            "text/plain": [
              "[0.0461813360452652, 0.9865999817848206]"
            ]
          },
          "execution_count": 11,
          "metadata": {},
          "output_type": "execute_result"
        }
      ],
      "source": [
        "model.evaluate(X_test, y_test)"
      ]
    },
    {
      "cell_type": "code",
      "execution_count": null,
      "id": "dca9aca9",
      "metadata": {
        "id": "dca9aca9",
        "outputId": "22774bea-cbe5-4379-8df8-ba4c6813508c"
      },
      "outputs": [
        {
          "name": "stdout",
          "output_type": "stream",
          "text": [
            "INFO:tensorflow:Assets written to: /aiffel/aiffel/mlops/best_model/1/model/assets\n"
          ]
        }
      ],
      "source": [
        "save_path = os.getenv('HOME') + '/aiffel/mlops/best_model/1'\n",
        "fname = os.path.join(save_path, 'model')\n",
        "model.save(fname)"
      ]
    },
    {
      "cell_type": "markdown",
      "id": "1ba01fa0",
      "metadata": {
        "id": "1ba01fa0"
      },
      "source": [
        "### 4. TFServing & TFLite"
      ]
    },
    {
      "cell_type": "code",
      "execution_count": null,
      "id": "4f27ae62",
      "metadata": {
        "id": "4f27ae62"
      },
      "outputs": [],
      "source": [
        "load_path = os.getenv('HOME') + '/aiffel/mlops/best_model/1/model'\n",
        "best_model = tf.keras.models.load_model(load_path)"
      ]
    },
    {
      "cell_type": "code",
      "execution_count": null,
      "id": "93aadfa9",
      "metadata": {
        "id": "93aadfa9",
        "outputId": "325312e1-78f3-4ba9-9ebd-d0ba277732b8"
      },
      "outputs": [
        {
          "name": "stdout",
          "output_type": "stream",
          "text": [
            "Model: \"sequential_11\"\n",
            "_________________________________________________________________\n",
            "Layer (type)                 Output Shape              Param #   \n",
            "=================================================================\n",
            "conv2d_65 (Conv2D)           (None, 26, 26, 102)       1020      \n",
            "_________________________________________________________________\n",
            "conv2d_66 (Conv2D)           (None, 24, 24, 42)        38598     \n",
            "_________________________________________________________________\n",
            "conv2d_67 (Conv2D)           (None, 22, 22, 67)        25393     \n",
            "_________________________________________________________________\n",
            "conv2d_68 (Conv2D)           (None, 20, 20, 37)        22348     \n",
            "_________________________________________________________________\n",
            "conv2d_69 (Conv2D)           (None, 18, 18, 52)        17368     \n",
            "_________________________________________________________________\n",
            "flatten_11 (Flatten)         (None, 16848)             0         \n",
            "_________________________________________________________________\n",
            "dense_16 (Dense)             (None, 256)               4313344   \n",
            "_________________________________________________________________\n",
            "outputs (Dense)              (None, 10)                2570      \n",
            "=================================================================\n",
            "Total params: 4,420,641\n",
            "Trainable params: 4,420,641\n",
            "Non-trainable params: 0\n",
            "_________________________________________________________________\n"
          ]
        }
      ],
      "source": [
        "best_model.summary()"
      ]
    },
    {
      "cell_type": "code",
      "execution_count": null,
      "id": "9ddb46f6",
      "metadata": {
        "id": "9ddb46f6",
        "outputId": "72514bb2-356e-478f-c301-2a2bb54b18ce"
      },
      "outputs": [
        {
          "name": "stdout",
          "output_type": "stream",
          "text": [
            "INFO:tensorflow:Assets written to: /tmp/tmp2a5deyga/assets\n"
          ]
        }
      ],
      "source": [
        "converter = tf.lite.TFLiteConverter.from_keras_model(model)\n",
        "tflite_model = converter.convert()"
      ]
    },
    {
      "cell_type": "code",
      "execution_count": null,
      "id": "1c95e6f5",
      "metadata": {
        "id": "1c95e6f5"
      },
      "outputs": [],
      "source": [
        "with open('model.tflite', 'wb') as f:\n",
        "  f.write(tflite_model)"
      ]
    },
    {
      "cell_type": "code",
      "execution_count": null,
      "id": "04385559",
      "metadata": {
        "id": "04385559",
        "outputId": "d989df62-4a4f-416a-d975-39bc8bdbdd02"
      },
      "outputs": [
        {
          "name": "stdout",
          "output_type": "stream",
          "text": [
            "{}\n"
          ]
        }
      ],
      "source": [
        "interpreter = tf.lite.Interpreter(model_content=tflite_model)\n",
        "\n",
        "signatures = interpreter.get_signature_list()\n",
        "print(signatures)"
      ]
    },
    {
      "cell_type": "code",
      "execution_count": null,
      "id": "42b9f636",
      "metadata": {
        "id": "42b9f636"
      },
      "outputs": [],
      "source": [
        "# classify_lite = interpreter.get_signature_runner('serving_default')\n",
        "# classify_lite"
      ]
    }
  ],
  "metadata": {
    "kernelspec": {
      "display_name": "Python 3 (ipykernel)",
      "language": "python",
      "name": "python3"
    },
    "language_info": {
      "codemirror_mode": {
        "name": "ipython",
        "version": 3
      },
      "file_extension": ".py",
      "mimetype": "text/x-python",
      "name": "python",
      "nbconvert_exporter": "python",
      "pygments_lexer": "ipython3",
      "version": "3.9.7"
    },
    "colab": {
      "provenance": [],
      "include_colab_link": true
    }
  },
  "nbformat": 4,
  "nbformat_minor": 5
}