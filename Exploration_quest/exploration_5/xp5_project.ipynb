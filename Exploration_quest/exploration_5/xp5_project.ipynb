{
  "cells": [
    {
      "cell_type": "markdown",
      "metadata": {
        "id": "view-in-github",
        "colab_type": "text"
      },
      "source": [
        "<a href=\"https://colab.research.google.com/github/CAVASOL/aiffel_quest/blob/main/Exploration_quest/exploration_5/xp5_project.ipynb\" target=\"_parent\"><img src=\"https://colab.research.google.com/assets/colab-badge.svg\" alt=\"Open In Colab\"/></a>"
      ]
    },
    {
      "cell_type": "markdown",
      "id": "dd947111",
      "metadata": {
        "id": "dd947111"
      },
      "source": [
        "## 10-1. 프로젝트: 한국어 데이터로 챗봇 만들기\n",
        "\n",
        "**Creator: Yeon Kim**\n",
        "\n",
        "**Goal**\n",
        "\n",
        "* 공백 및 특수문자 처리, 토크나이징, 병렬데이터 구축 등의 전처리 과정을 진행합니다.\n",
        "* 트랜스포머 모델을 구현하여 한국어 챗봇 모델 학습을 진행합니다.\n",
        "* 한국어 입력문장에 대해 한국어로 답변하는 함수를 구현합니다.\n",
        "\n",
        "**Index**\n",
        "\n",
        "    Set up\n",
        "    Step 1. 데이터 수집하기\n",
        "    Step 2. 데이터 전처리하기\n",
        "    Step 3. SubwordTextEncoder 사용하기\n",
        "    Step 4. 모델 구성하기\n",
        "        Positional Encoding\n",
        "        Scaled Dot-Product Attention\n",
        "        Multi-head Attention\n",
        "        Masking\n",
        "        Encoder\n",
        "        Decoder\n",
        "        Design Transformer\n",
        "        \n",
        "    Step 5. 모델 평가하기\n",
        "    \n",
        "    Conclusion\n",
        "      Details\n",
        "      Result\n",
        "      Retrospect\n",
        "      Reference"
      ]
    },
    {
      "cell_type": "markdown",
      "id": "bcbfc178",
      "metadata": {
        "id": "bcbfc178"
      },
      "source": [
        "### Set up"
      ]
    },
    {
      "cell_type": "code",
      "execution_count": null,
      "id": "0e4440a5",
      "metadata": {
        "id": "0e4440a5",
        "outputId": "dfa179b3-29dc-44bc-bd2e-ecf2c9230668"
      },
      "outputs": [
        {
          "name": "stdout",
          "output_type": "stream",
          "text": [
            "tensorflow 2.6.0\n"
          ]
        }
      ],
      "source": [
        "import os\n",
        "import re\n",
        "import sys\n",
        "\n",
        "import numpy as np\n",
        "import random\n",
        "import pandas as pd\n",
        "import itertools\n",
        "import matplotlib.pyplot as plt\n",
        "\n",
        "import tensorflow as tf\n",
        "import tensorflow_datasets as tfds\n",
        "\n",
        "# import torch\n",
        "# import torch.nn.functional as F\n",
        "\n",
        "# from torch import nn, optim\n",
        "# from tqdm import tqdm_notebook\n",
        "\n",
        "import warnings\n",
        "warnings.filterwarnings(\"ignore\", category=UserWarning, module='bs4')\n",
        "\n",
        "print(\"tensorflow\", tf.__version__)"
      ]
    },
    {
      "cell_type": "markdown",
      "id": "e609e3e8",
      "metadata": {
        "id": "e609e3e8"
      },
      "source": [
        "### Step 1. 데이터 수집하기"
      ]
    },
    {
      "cell_type": "markdown",
      "id": "b6020d7a",
      "metadata": {
        "id": "b6020d7a"
      },
      "source": [
        "**Dataset Details:** [songys / Chatbot_data](https://github.com/songys/Chatbot_data/blob/master/ChatbotData.csv)"
      ]
    },
    {
      "cell_type": "code",
      "execution_count": null,
      "id": "5ed616d5",
      "metadata": {
        "id": "5ed616d5"
      },
      "outputs": [],
      "source": [
        "# mkdir -p ~/aiffel/transformer_chatbot/data/\n",
        "# ln -s ~/data/* ~/aiffel/transformer_chatbot/data/"
      ]
    },
    {
      "cell_type": "code",
      "execution_count": null,
      "id": "1c80bf59",
      "metadata": {
        "id": "1c80bf59",
        "outputId": "54690fed-ebff-4271-f12b-85f587345524"
      },
      "outputs": [
        {
          "name": "stdout",
          "output_type": "stream",
          "text": [
            "Data shape: (11823, 3)\n"
          ]
        }
      ],
      "source": [
        "data_df = pd.read_csv('/aiffel/data/ChatbotData .csv')\n",
        "\n",
        "print(\"Data shape:\", data_df.shape)"
      ]
    },
    {
      "cell_type": "code",
      "execution_count": null,
      "id": "8aaebb3f",
      "metadata": {
        "id": "8aaebb3f",
        "outputId": "238a09d3-7e7a-4130-c8ad-f0a58475b0bc"
      },
      "outputs": [
        {
          "name": "stdout",
          "output_type": "stream",
          "text": [
            "<class 'pandas.core.frame.DataFrame'>\n",
            "RangeIndex: 11823 entries, 0 to 11822\n",
            "Data columns (total 3 columns):\n",
            " #   Column  Non-Null Count  Dtype \n",
            "---  ------  --------------  ----- \n",
            " 0   Q       11823 non-null  object\n",
            " 1   A       11823 non-null  object\n",
            " 2   label   11823 non-null  int64 \n",
            "dtypes: int64(1), object(2)\n",
            "memory usage: 277.2+ KB\n"
          ]
        }
      ],
      "source": [
        "data_df.info()"
      ]
    },
    {
      "cell_type": "code",
      "execution_count": null,
      "id": "d268d017",
      "metadata": {
        "id": "d268d017",
        "outputId": "59e712a3-2183-42e5-d32d-4509c939da81"
      },
      "outputs": [
        {
          "data": {
            "text/html": [
              "<div>\n",
              "<style scoped>\n",
              "    .dataframe tbody tr th:only-of-type {\n",
              "        vertical-align: middle;\n",
              "    }\n",
              "\n",
              "    .dataframe tbody tr th {\n",
              "        vertical-align: top;\n",
              "    }\n",
              "\n",
              "    .dataframe thead th {\n",
              "        text-align: right;\n",
              "    }\n",
              "</style>\n",
              "<table border=\"1\" class=\"dataframe\">\n",
              "  <thead>\n",
              "    <tr style=\"text-align: right;\">\n",
              "      <th></th>\n",
              "      <th>Q</th>\n",
              "      <th>A</th>\n",
              "      <th>label</th>\n",
              "    </tr>\n",
              "  </thead>\n",
              "  <tbody>\n",
              "    <tr>\n",
              "      <th>0</th>\n",
              "      <td>12시 땡!</td>\n",
              "      <td>하루가 또 가네요.</td>\n",
              "      <td>0</td>\n",
              "    </tr>\n",
              "    <tr>\n",
              "      <th>1</th>\n",
              "      <td>1지망 학교 떨어졌어</td>\n",
              "      <td>위로해 드립니다.</td>\n",
              "      <td>0</td>\n",
              "    </tr>\n",
              "    <tr>\n",
              "      <th>2</th>\n",
              "      <td>3박4일 놀러가고 싶다</td>\n",
              "      <td>여행은 언제나 좋죠.</td>\n",
              "      <td>0</td>\n",
              "    </tr>\n",
              "    <tr>\n",
              "      <th>3</th>\n",
              "      <td>3박4일 정도 놀러가고 싶다</td>\n",
              "      <td>여행은 언제나 좋죠.</td>\n",
              "      <td>0</td>\n",
              "    </tr>\n",
              "    <tr>\n",
              "      <th>4</th>\n",
              "      <td>PPL 심하네</td>\n",
              "      <td>눈살이 찌푸려지죠.</td>\n",
              "      <td>0</td>\n",
              "    </tr>\n",
              "  </tbody>\n",
              "</table>\n",
              "</div>"
            ],
            "text/plain": [
              "                 Q            A  label\n",
              "0           12시 땡!   하루가 또 가네요.      0\n",
              "1      1지망 학교 떨어졌어    위로해 드립니다.      0\n",
              "2     3박4일 놀러가고 싶다  여행은 언제나 좋죠.      0\n",
              "3  3박4일 정도 놀러가고 싶다  여행은 언제나 좋죠.      0\n",
              "4          PPL 심하네   눈살이 찌푸려지죠.      0"
            ]
          },
          "metadata": {},
          "output_type": "display_data"
        }
      ],
      "source": [
        "display(data_df.head(5))"
      ]
    },
    {
      "cell_type": "markdown",
      "id": "dd52c2b6",
      "metadata": {
        "id": "dd52c2b6"
      },
      "source": [
        "### Step 2. 데이터 전처리하기"
      ]
    },
    {
      "cell_type": "code",
      "execution_count": null,
      "id": "a28f998e",
      "metadata": {
        "id": "a28f998e",
        "outputId": "83e7b624-8128-4cb3-9773-19e2a6a050a1"
      },
      "outputs": [
        {
          "data": {
            "text/plain": [
              "Q        0\n",
              "A        0\n",
              "label    0\n",
              "dtype: int64"
            ]
          },
          "execution_count": 6,
          "metadata": {},
          "output_type": "execute_result"
        }
      ],
      "source": [
        "data_df.isnull().sum()"
      ]
    },
    {
      "cell_type": "code",
      "execution_count": null,
      "id": "5ddc9ed5",
      "metadata": {
        "id": "5ddc9ed5",
        "outputId": "3f8472c3-8005-4ce1-8632-13bf358375ef"
      },
      "outputs": [
        {
          "data": {
            "text/html": [
              "<div>\n",
              "<style scoped>\n",
              "    .dataframe tbody tr th:only-of-type {\n",
              "        vertical-align: middle;\n",
              "    }\n",
              "\n",
              "    .dataframe tbody tr th {\n",
              "        vertical-align: top;\n",
              "    }\n",
              "\n",
              "    .dataframe thead th {\n",
              "        text-align: right;\n",
              "    }\n",
              "</style>\n",
              "<table border=\"1\" class=\"dataframe\">\n",
              "  <thead>\n",
              "    <tr style=\"text-align: right;\">\n",
              "      <th></th>\n",
              "      <th>Q</th>\n",
              "      <th>A</th>\n",
              "    </tr>\n",
              "  </thead>\n",
              "  <tbody>\n",
              "    <tr>\n",
              "      <th>8911</th>\n",
              "      <td>갑자기 선을 긋는 사람</td>\n",
              "      <td>너무 사적 영역으로 들어왔나봅니다.</td>\n",
              "    </tr>\n",
              "    <tr>\n",
              "      <th>5144</th>\n",
              "      <td>혼자 살고 싶다</td>\n",
              "      <td>혼자 사는 것도 나쁘지 않아요.</td>\n",
              "    </tr>\n",
              "    <tr>\n",
              "      <th>11426</th>\n",
              "      <td>짝남이랑 사귀기로 했어</td>\n",
              "      <td>축하드려요.</td>\n",
              "    </tr>\n",
              "    <tr>\n",
              "      <th>3949</th>\n",
              "      <td>자주 못보면 헤어지겠제?</td>\n",
              "      <td>장거리 연애 힘들겠죠.</td>\n",
              "    </tr>\n",
              "    <tr>\n",
              "      <th>4281</th>\n",
              "      <td>지금 자면 밤에 못 자겠지?</td>\n",
              "      <td>낮잠은 20분만 자세요.</td>\n",
              "    </tr>\n",
              "  </tbody>\n",
              "</table>\n",
              "</div>"
            ],
            "text/plain": [
              "                     Q                    A\n",
              "8911      갑자기 선을 긋는 사람  너무 사적 영역으로 들어왔나봅니다.\n",
              "5144          혼자 살고 싶다    혼자 사는 것도 나쁘지 않아요.\n",
              "11426     짝남이랑 사귀기로 했어               축하드려요.\n",
              "3949     자주 못보면 헤어지겠제?         장거리 연애 힘들겠죠.\n",
              "4281   지금 자면 밤에 못 자겠지?        낮잠은 20분만 자세요."
            ]
          },
          "execution_count": 7,
          "metadata": {},
          "output_type": "execute_result"
        }
      ],
      "source": [
        "data_df = data_df[['Q', 'A']]\n",
        "data_df.head()\n",
        "\n",
        "data_df.sample(5)"
      ]
    },
    {
      "cell_type": "code",
      "execution_count": null,
      "id": "f04f6e2a",
      "metadata": {
        "id": "f04f6e2a",
        "outputId": "e2dc8709-4522-4bfd-ebf3-c457148a489e"
      },
      "outputs": [
        {
          "name": "stdout",
          "output_type": "stream",
          "text": [
            "Q 열에서 중복을 배제한 유일한 샘플의 수 : 11662\n",
            "A 열에서 중복을 배제한 유일한 샘플의 수 : 7779\n"
          ]
        }
      ],
      "source": [
        "print('Q 열에서 중복을 배제한 유일한 샘플의 수 :', data_df['Q'].nunique())\n",
        "print('A 열에서 중복을 배제한 유일한 샘플의 수 :', data_df['A'].nunique())"
      ]
    },
    {
      "cell_type": "code",
      "execution_count": null,
      "id": "e4507233",
      "metadata": {
        "id": "e4507233"
      },
      "outputs": [],
      "source": [
        "Q, A = list(data_df['Q']), list(data_df['A'])"
      ]
    },
    {
      "cell_type": "markdown",
      "id": "9560c076",
      "metadata": {
        "id": "9560c076"
      },
      "source": [
        "입력받은 sentence의 양쪽 공백을 제거한 후, `한글 / . / , / ? / !`를 제외한 모든 문자를 공백인 `\" \"` 로 대체합니다."
      ]
    },
    {
      "cell_type": "code",
      "execution_count": null,
      "id": "f82f2abb",
      "metadata": {
        "id": "f82f2abb"
      },
      "outputs": [],
      "source": [
        "def preprocess_sentence(sentence):\n",
        "  sentence = sentence.strip()\n",
        "\n",
        "  sentence = re.sub(r\"([?.!,])\", r\" \\1 \", sentence)\n",
        "  sentence = re.sub(r'[\" \"]+', \" \", sentence)\n",
        "\n",
        "  sentence = re.sub(r\"[^a-zA-Z?.!,]+\", \" \", sentence)\n",
        "  sentence = sentence.strip()\n",
        "  return sentence"
      ]
    },
    {
      "cell_type": "markdown",
      "id": "215e36e7",
      "metadata": {
        "id": "215e36e7"
      },
      "source": [
        "### Step 3. SubwordTextEncoder 사용하기"
      ]
    },
    {
      "cell_type": "markdown",
      "id": "c13f0a82",
      "metadata": {
        "id": "c13f0a82"
      },
      "source": [
        "각 단어에 고유한 정수 인덱스를 부여하기 위해 `Q`와 `A` 데이터를 모두 사용하여 단어장 `Vocabulary`를 만듭니다."
      ]
    },
    {
      "cell_type": "code",
      "execution_count": null,
      "id": "b17d3418",
      "metadata": {
        "id": "b17d3418"
      },
      "outputs": [],
      "source": [
        "tokenizer = tfds.deprecated.text.SubwordTextEncoder.build_from_corpus(Q+A, target_vocab_size=2**13)"
      ]
    },
    {
      "cell_type": "markdown",
      "id": "331ea994",
      "metadata": {
        "id": "331ea994"
      },
      "source": [
        "디코더의 문장 생성 과정에서 사용할 `시작 토큰`과 `종료 토큰`에 대해서도 임의로 단어장에 추가하여 정수를 부여합니다.  \n",
        "이미 생성된 단어장의 번호와 겹치지 않도록 각각 단어장의 크기보다 `1`이 큰 수를 번호로 부여합니다."
      ]
    },
    {
      "cell_type": "code",
      "execution_count": null,
      "id": "0a272816",
      "metadata": {
        "id": "0a272816"
      },
      "outputs": [],
      "source": [
        "START_TOKEN, END_TOKEN = [tokenizer.vocab_size], [tokenizer.vocab_size + 1]"
      ]
    },
    {
      "cell_type": "markdown",
      "id": "7e2433f0",
      "metadata": {
        "id": "7e2433f0"
      },
      "source": [
        "`시작 토큰`과 `종료 토큰`에 부여된 정수를 출력해 봅시다."
      ]
    },
    {
      "cell_type": "code",
      "execution_count": null,
      "id": "52bc677f",
      "metadata": {
        "id": "52bc677f",
        "outputId": "7de8550e-b177-4842-ee67-3218716f388b"
      },
      "outputs": [
        {
          "name": "stdout",
          "output_type": "stream",
          "text": [
            "START_TOKEN: [8170]\n",
            "END_TOKEN: [8171]\n"
          ]
        }
      ],
      "source": [
        "print('START_TOKEN:' ,[tokenizer.vocab_size])\n",
        "print('END_TOKEN:' ,[tokenizer.vocab_size + 1])"
      ]
    },
    {
      "cell_type": "markdown",
      "id": "c8b2da7f",
      "metadata": {
        "id": "c8b2da7f"
      },
      "source": [
        "각각 `8,170`과 `8,171`라는 점에서 현재 단어장의 크기가 `8,170(0번부터 8,170번)` 임을 알 수 있습니다.  \n",
        "`시작 토근`과 `종료 토큰` 두 개의 토큰을 추가해 주었으므로 `단어장의 크기도 +2 임`을 명시해 주어야 합니다."
      ]
    },
    {
      "cell_type": "code",
      "execution_count": null,
      "id": "b7c8de3b",
      "metadata": {
        "id": "b7c8de3b",
        "outputId": "6249240b-eedf-48c2-f2f7-e041abe91035"
      },
      "outputs": [
        {
          "name": "stdout",
          "output_type": "stream",
          "text": [
            "Size of Vocab 8172\n"
          ]
        }
      ],
      "source": [
        "VOCAB_SIZE = tokenizer.vocab_size + 2\n",
        "\n",
        "print(\"Size of Vocab\", VOCAB_SIZE)"
      ]
    },
    {
      "cell_type": "markdown",
      "id": "98163290",
      "metadata": {
        "id": "98163290"
      },
      "source": [
        "위에서 `tensorflow_datasets`의 `SubwordTextEncoder`를 사용해서 `tokenizer`를 정의하고 Vocabulary를 만들었습니다.  \n",
        "tokenizer.encode()로 각 단어를 정수로 변환할 수 있고, tokenizer.decode()를 통해 정수 시퀀스를 단어 시퀀스로 변환할 수 있습니다.  \n",
        "88번째 샘플을 tokenizer.encode()의 입력으로 사용해서 변환 결과를 확인해 봅시다."
      ]
    },
    {
      "cell_type": "code",
      "execution_count": null,
      "id": "af208a98",
      "metadata": {
        "id": "af208a98",
        "outputId": "50a4f565-17eb-4e4c-e000-c291f272680d"
      },
      "outputs": [
        {
          "name": "stdout",
          "output_type": "stream",
          "text": [
            "Question sample after integer encoding: [5730, 12, 1111, 1508]\n",
            "Answer sample after integer encoding: [240, 369, 377, 619, 2348, 7960]\n"
          ]
        }
      ],
      "source": [
        "print('Question sample after integer encoding: {}'.format(tokenizer.encode(Q[87])))\n",
        "print('Answer sample after integer encoding: {}'.format(tokenizer.encode(A[87])))"
      ]
    },
    {
      "cell_type": "markdown",
      "id": "41c37479",
      "metadata": {
        "id": "41c37479"
      },
      "source": [
        "각 단어에 고유한 정수가 부여된 Vocabulary를 기준으로 단어 시퀀스가 정수 시퀀스로 인코딩된 결과를 확인할 수 있습니다.  \n",
        "위의 결과와 마찬가지로 Q와 A 페어에 대해서 전부 정수 인코딩을 수행합니다.  \n",
        "이와 동시에 문장의 최대 길이를 정하고, 해당 길이로 padding 합니다."
      ]
    },
    {
      "cell_type": "code",
      "execution_count": null,
      "id": "0b52d9d7",
      "metadata": {
        "id": "0b52d9d7",
        "outputId": "6d84299a-92de-4df7-a4d9-636fe9a0d363"
      },
      "outputs": [
        {
          "name": "stdout",
          "output_type": "stream",
          "text": [
            "Maximum length of sentence: 30\n"
          ]
        }
      ],
      "source": [
        "MAX_LENGTH = 30\n",
        "\n",
        "print(\"Maximum length of sentence:\", MAX_LENGTH)"
      ]
    },
    {
      "cell_type": "code",
      "execution_count": null,
      "id": "e9a60736",
      "metadata": {
        "id": "e9a60736"
      },
      "outputs": [],
      "source": [
        "# Integer encoding, removing samples exceeding maximum length & padding\n",
        "def tokenize_and_filter(inputs, outputs):\n",
        "  tokenized_inputs, tokenized_outputs = [], []\n",
        "\n",
        "  for (sentence1, sentence2) in zip(inputs, outputs):\n",
        "    # Add start token and end token during integer encoding process\n",
        "    sentence1 = START_TOKEN + tokenizer.encode(sentence1) + END_TOKEN\n",
        "    sentence2 = START_TOKEN + tokenizer.encode(sentence2) + END_TOKEN\n",
        "\n",
        "    # Accepted as a dataset only if the maximum length is 40 or less.\n",
        "    if len(sentence1) <= MAX_LENGTH and len(sentence2) <= MAX_LENGTH:\n",
        "      tokenized_inputs.append(sentence1)\n",
        "      tokenized_outputs.append(sentence2)\n",
        "\n",
        "  # Padding all datasets to a maximum length of 30\n",
        "  tokenized_inputs = tf.keras.preprocessing.sequence.pad_sequences(\n",
        "      tokenized_inputs, maxlen=MAX_LENGTH, padding='post')\n",
        "  tokenized_outputs = tf.keras.preprocessing.sequence.pad_sequences(\n",
        "      tokenized_outputs, maxlen=MAX_LENGTH, padding='post')\n",
        "\n",
        "  return tokenized_inputs, tokenized_outputs"
      ]
    },
    {
      "cell_type": "markdown",
      "id": "4e66a9b2",
      "metadata": {
        "id": "4e66a9b2"
      },
      "source": [
        "정수 인코딩 과정을 수행하면서 샘플의 길이가 30을 넘는 경우는 샘플들을 필터링하였으므로 일부 샘플이 제외되었습니다.  \n",
        "단어장의 크기와 샘플의 개수를 확인해 봅시다."
      ]
    },
    {
      "cell_type": "code",
      "execution_count": null,
      "id": "d98b085d",
      "metadata": {
        "id": "d98b085d",
        "outputId": "d97898c3-cd39-4af2-fc14-1c708f9c4824"
      },
      "outputs": [
        {
          "name": "stdout",
          "output_type": "stream",
          "text": [
            "Size of Vocabulary : 8172\n",
            "Number of sample questions after filtering: 11822\n",
            "Number of sample answers after filtering: 11822\n"
          ]
        }
      ],
      "source": [
        "Q, A = tokenize_and_filter(Q, A)\n",
        "print('Size of Vocabulary :',(VOCAB_SIZE))\n",
        "print('Number of sample questions after filtering: {}'.format(len(Q)))\n",
        "print('Number of sample answers after filtering: {}'.format(len(A)))"
      ]
    },
    {
      "cell_type": "markdown",
      "id": "6c16e3df",
      "metadata": {
        "id": "6c16e3df"
      },
      "source": [
        "질문과 답변 페어를 `tf.data.Dataset API`의 입력으로 사용하여 파이프라인을 구성합니다.    \n",
        "이 때, `Teacher Forcing`을 위해서 `answers[:, :-1]`를 디코더의 입력값, `answers[:, 1:]`를 디코더의 레이블로 사용합니다."
      ]
    },
    {
      "cell_type": "code",
      "execution_count": null,
      "id": "8d901613",
      "metadata": {
        "id": "8d901613"
      },
      "outputs": [],
      "source": [
        "BATCH_SIZE = 64\n",
        "BUFFER_SIZE = 20000\n",
        "\n",
        "# The decoder uses the previous target as the next input.\n",
        "# Accordingly, remove START_TOKEN from outputs.\n",
        "dataset = tf.data.Dataset.from_tensor_slices((\n",
        "    {\n",
        "        'inputs': Q,\n",
        "        'dec_inputs': A[:, :-1]\n",
        "    },\n",
        "    {\n",
        "        'outputs': A[:, 1:]\n",
        "    },\n",
        "))\n",
        "\n",
        "dataset = dataset.cache()\n",
        "dataset = dataset.shuffle(BUFFER_SIZE)\n",
        "dataset = dataset.batch(BATCH_SIZE)\n",
        "dataset = dataset.prefetch(tf.data.experimental.AUTOTUNE)"
      ]
    },
    {
      "cell_type": "markdown",
      "id": "8eafa03b",
      "metadata": {
        "id": "8eafa03b"
      },
      "source": [
        "### Step 4. 모델 구성하기"
      ]
    },
    {
      "cell_type": "markdown",
      "id": "af57b3dc",
      "metadata": {
        "id": "af57b3dc"
      },
      "source": [
        "### Positional Encoding"
      ]
    },
    {
      "cell_type": "code",
      "execution_count": null,
      "id": "f6475a96",
      "metadata": {
        "id": "f6475a96",
        "outputId": "133e4ea7-4b8a-4619-ece4-fe6f85347a8c"
      },
      "outputs": [
        {
          "name": "stdout",
          "output_type": "stream",
          "text": [
            "Gotcha\n"
          ]
        }
      ],
      "source": [
        "class PositionalEncoding(tf.keras.layers.Layer):\n",
        "\n",
        "  def __init__(self, position, d_model):\n",
        "    super(PositionalEncoding, self).__init__()\n",
        "    self.pos_encoding = self.positional_encoding(position, d_model)\n",
        "\n",
        "  def get_angles(self, position, i, d_model):\n",
        "    angles = 1 / tf.pow(10000, (2 * (i // 2)) / tf.cast(d_model, tf.float32))\n",
        "    return position * angles\n",
        "\n",
        "  def positional_encoding(self, position, d_model):\n",
        "    # Create an array of angles\n",
        "    angle_rads = self.get_angles(\n",
        "        position=tf.range(position, dtype=tf.float32)[:, tf.newaxis],\n",
        "        i=tf.range(d_model, dtype=tf.float32)[tf.newaxis, :],\n",
        "        d_model=d_model)\n",
        "\n",
        "    # Apply sin function to even indices of array\n",
        "    sines = tf.math.sin(angle_rads[:, 0::2])\n",
        "    # Apply cosine function to odd indices of array\n",
        "    cosines = tf.math.cos(angle_rads[:, 1::2])\n",
        "\n",
        "    # Rearrange sin and cosine so that they intersect\n",
        "    pos_encoding = tf.stack([sines, cosines], axis=0)\n",
        "    pos_encoding = tf.transpose(pos_encoding,[1, 2, 0])\n",
        "    pos_encoding = tf.reshape(pos_encoding, [position, d_model])\n",
        "\n",
        "    pos_encoding = pos_encoding[tf.newaxis, ...]\n",
        "    return tf.cast(pos_encoding, tf.float32)\n",
        "\n",
        "  def call(self, inputs):\n",
        "    return inputs + self.pos_encoding[:, :tf.shape(inputs)[1], :]\n",
        "\n",
        "print(\"Gotcha\")"
      ]
    },
    {
      "cell_type": "markdown",
      "id": "14e8ac87",
      "metadata": {
        "id": "14e8ac87"
      },
      "source": [
        "### Scaled Dot-Product Attention"
      ]
    },
    {
      "cell_type": "code",
      "execution_count": null,
      "id": "bd622bb0",
      "metadata": {
        "id": "bd622bb0"
      },
      "outputs": [],
      "source": [
        "def scaled_dot_product_attention(query, key, value, mask):\n",
        "\n",
        "  matmul_qk = tf.matmul(query, key, transpose_b=True)\n",
        "\n",
        "  # normalize the weights\n",
        "  depth = tf.cast(tf.shape(key)[-1], tf.float32)\n",
        "  logits = matmul_qk / tf.math.sqrt(depth)\n",
        "\n",
        "  # Add mask to padding\n",
        "  if mask is not None:\n",
        "    logits += (mask * -1e9)\n",
        "\n",
        "  # softmax\n",
        "  attention_weights = tf.nn.softmax(logits, axis=-1)\n",
        "\n",
        "  # The final attention is the weight and the dot product of V.\n",
        "  output = tf.matmul(attention_weights, value)\n",
        "  return output"
      ]
    },
    {
      "cell_type": "markdown",
      "id": "02d19827",
      "metadata": {
        "id": "02d19827"
      },
      "source": [
        "### Multi-head Attention"
      ]
    },
    {
      "cell_type": "code",
      "execution_count": null,
      "id": "970f89ff",
      "metadata": {
        "id": "970f89ff"
      },
      "outputs": [],
      "source": [
        "class MultiHeadAttention(tf.keras.layers.Layer):\n",
        "\n",
        "  def __init__(self, d_model, num_heads, name=\"multi_head_attention\"):\n",
        "    super(MultiHeadAttention, self).__init__(name=name)\n",
        "    self.num_heads = num_heads\n",
        "    self.d_model = d_model\n",
        "\n",
        "    assert d_model % self.num_heads == 0\n",
        "\n",
        "    self.depth = d_model // self.num_heads\n",
        "\n",
        "    self.query_dense = tf.keras.layers.Dense(units=d_model)\n",
        "    self.key_dense = tf.keras.layers.Dense(units=d_model)\n",
        "    self.value_dense = tf.keras.layers.Dense(units=d_model)\n",
        "\n",
        "    self.dense = tf.keras.layers.Dense(units=d_model)\n",
        "\n",
        "  def split_heads(self, inputs, batch_size):\n",
        "    inputs = tf.reshape(\n",
        "        inputs, shape=(batch_size, -1, self.num_heads, self.depth))\n",
        "    return tf.transpose(inputs, perm=[0, 2, 1, 3])\n",
        "\n",
        "  def call(self, inputs):\n",
        "    query, key, value, mask = inputs['query'], inputs['key'], inputs[\n",
        "        'value'], inputs['mask']\n",
        "    batch_size = tf.shape(query)[0]\n",
        "\n",
        "    # Q. Q, K, V에 각각 Dense를 적용합니다\n",
        "    query = self.query_dense(query)\n",
        "    key = self.key_dense(key)\n",
        "    value = self.value_dense(value)\n",
        "\n",
        "    # Q. 병렬 연산을 위한 머리를 여러 개 만듭니다\n",
        "    query = self.split_heads(query, batch_size)\n",
        "    key = self.split_heads(key, batch_size)\n",
        "    value = self.split_heads(value, batch_size)\n",
        "\n",
        "    # Scaled dot-product attention function\n",
        "    scaled_attention = scaled_dot_product_attention(query, key, value, mask)\n",
        "\n",
        "    scaled_attention = tf.transpose(scaled_attention, perm=[0, 2, 1, 3])\n",
        "\n",
        "    # After the attention operation, each result is concatenated again.\n",
        "    concat_attention = tf.reshape(scaled_attention,\n",
        "                                  (batch_size, -1, self.d_model))\n",
        "\n",
        "    # Apply Dense once more to the final result\n",
        "    outputs = self.dense(concat_attention)\n",
        "\n",
        "    return outputs"
      ]
    },
    {
      "cell_type": "markdown",
      "id": "b2b4f476",
      "metadata": {
        "id": "b2b4f476"
      },
      "source": [
        "### Masking"
      ]
    },
    {
      "cell_type": "code",
      "execution_count": null,
      "id": "8b0c5c46",
      "metadata": {
        "id": "8b0c5c46"
      },
      "outputs": [],
      "source": [
        "def create_padding_mask(x):\n",
        "  mask = tf.cast(tf.math.equal(x, 0), tf.float32)\n",
        "  # (batch_size, 1, 1, sequence length)\n",
        "  return mask[:, tf.newaxis, tf.newaxis, :]"
      ]
    },
    {
      "cell_type": "code",
      "execution_count": null,
      "id": "65f3de35",
      "metadata": {
        "id": "65f3de35"
      },
      "outputs": [],
      "source": [
        "def create_look_ahead_mask(x):\n",
        "  seq_len = tf.shape(x)[1]\n",
        "  look_ahead_mask = 1 - tf.linalg.band_part(tf.ones((seq_len, seq_len)), -1, 0)\n",
        "  padding_mask = create_padding_mask(x)\n",
        "  return tf.maximum(look_ahead_mask, padding_mask)"
      ]
    },
    {
      "cell_type": "markdown",
      "id": "63d47bbc",
      "metadata": {
        "id": "63d47bbc"
      },
      "source": [
        "### Encoder"
      ]
    },
    {
      "cell_type": "code",
      "execution_count": null,
      "id": "129b6124",
      "metadata": {
        "id": "129b6124"
      },
      "outputs": [],
      "source": [
        "def encoder_layer(units, d_model, num_heads, dropout, name=\"encoder_layer\"):\n",
        "  inputs = tf.keras.Input(shape=(None, d_model), name=\"inputs\")\n",
        "\n",
        "  padding_mask = tf.keras.Input(shape=(1, 1, None), name=\"padding_mask\")\n",
        "\n",
        "  # Multi-head attention (self-attention)\n",
        "  attention = MultiHeadAttention(\n",
        "      d_model, num_heads, name=\"attention\")({\n",
        "          'query': inputs,\n",
        "          'key': inputs,\n",
        "          'value': inputs,\n",
        "          'mask': padding_mask\n",
        "      })\n",
        "\n",
        "  # Dropout and LayerNormalization are performed on the results of attention.\n",
        "  attention = tf.keras.layers.Dropout(rate=dropout)(attention)\n",
        "  attention = tf.keras.layers.LayerNormalization(\n",
        "      epsilon=1e-6)(inputs + attention)\n",
        "\n",
        "  # Two fully connected layers\n",
        "  outputs = tf.keras.layers.Dense(units=units, activation='relu')(attention)\n",
        "  outputs = tf.keras.layers.Dense(units=d_model)(outputs)\n",
        "\n",
        "  # Dropout and LayerNormalization are performed on the results of the fully connected layer.\n",
        "  outputs = tf.keras.layers.Dropout(rate=dropout)(outputs)\n",
        "  outputs = tf.keras.layers.LayerNormalization(\n",
        "      epsilon=1e-6)(attention + outputs)\n",
        "\n",
        "  return tf.keras.Model(\n",
        "      inputs=[inputs, padding_mask], outputs=outputs, name=name)"
      ]
    },
    {
      "cell_type": "code",
      "execution_count": null,
      "id": "9ce07ada",
      "metadata": {
        "id": "9ce07ada"
      },
      "outputs": [],
      "source": [
        "def encoder(vocab_size,\n",
        "            num_layers,\n",
        "            units,\n",
        "            d_model,\n",
        "            num_heads,\n",
        "            dropout,\n",
        "            name=\"encoder\"):\n",
        "  inputs = tf.keras.Input(shape=(None,), name=\"inputs\")\n",
        "\n",
        "  padding_mask = tf.keras.Input(shape=(1, 1, None), name=\"padding_mask\")\n",
        "\n",
        "  embeddings = tf.keras.layers.Embedding(vocab_size, d_model)(inputs)\n",
        "  embeddings *= tf.math.sqrt(tf.cast(d_model, tf.float32))\n",
        "\n",
        "  embeddings = PositionalEncoding(vocab_size, d_model)(embeddings)\n",
        "\n",
        "  outputs = tf.keras.layers.Dropout(rate=dropout)(embeddings)\n",
        "\n",
        "  for i in range(num_layers):\n",
        "    outputs = encoder_layer(\n",
        "        units=units,\n",
        "        d_model=d_model,\n",
        "        num_heads=num_heads,\n",
        "        dropout=dropout,\n",
        "        name=\"encoder_layer_{}\".format(i),\n",
        "    )([outputs, padding_mask])\n",
        "\n",
        "  return tf.keras.Model(\n",
        "      inputs=[inputs, padding_mask], outputs=outputs, name=name)"
      ]
    },
    {
      "cell_type": "markdown",
      "id": "ef586497",
      "metadata": {
        "id": "ef586497"
      },
      "source": [
        "### Decoder"
      ]
    },
    {
      "cell_type": "code",
      "execution_count": null,
      "id": "acc906ac",
      "metadata": {
        "id": "acc906ac"
      },
      "outputs": [],
      "source": [
        "def decoder_layer(units, d_model, num_heads, dropout, name=\"decoder_layer\"):\n",
        "  inputs = tf.keras.Input(shape=(None, d_model), name=\"inputs\")\n",
        "  enc_outputs = tf.keras.Input(shape=(None, d_model), name=\"encoder_outputs\")\n",
        "  look_ahead_mask = tf.keras.Input(\n",
        "      shape=(1, None, None), name=\"look_ahead_mask\")\n",
        "  padding_mask = tf.keras.Input(shape=(1, 1, None), name='padding_mask')\n",
        "\n",
        "  # Multi-head attention (self-attention)\n",
        "  attention1 = MultiHeadAttention(\n",
        "      d_model, num_heads, name=\"attention_1\")(inputs={\n",
        "          'query': inputs,\n",
        "          'key': inputs,\n",
        "          'value': inputs,\n",
        "          'mask': look_ahead_mask\n",
        "      })\n",
        "\n",
        "  # The result of multi-head attention performs LayerNormalization.\n",
        "  attention1 = tf.keras.layers.LayerNormalization(\n",
        "      epsilon=1e-6)(attention1 + inputs)\n",
        "\n",
        "  # Masked Multi-head attention (encoder-decoder attention)\n",
        "  attention2 = MultiHeadAttention(\n",
        "      d_model, num_heads, name=\"attention_2\")(inputs={\n",
        "          'query': attention1,\n",
        "          'key': enc_outputs,\n",
        "          'value': enc_outputs,\n",
        "          'mask': padding_mask\n",
        "      })\n",
        "\n",
        "  # The result of Masked Multi-head attention performs Dropout and LayerNormalization.\n",
        "  attention2 = tf.keras.layers.Dropout(rate=dropout)(attention2)\n",
        "  attention2 = tf.keras.layers.LayerNormalization(\n",
        "      epsilon=1e-6)(attention2 + attention1)\n",
        "\n",
        "  # Two fully connected layers\n",
        "  outputs = tf.keras.layers.Dense(units=units, activation='relu')(attention2)\n",
        "  outputs = tf.keras.layers.Dense(units=d_model)(outputs)\n",
        "\n",
        "  # Dropout and LayerNormalization are performed on the results of the fully connected layer.\n",
        "  outputs = tf.keras.layers.Dropout(rate=dropout)(outputs)\n",
        "  outputs = tf.keras.layers.LayerNormalization(\n",
        "      epsilon=1e-6)(outputs + attention2)\n",
        "\n",
        "  return tf.keras.Model(\n",
        "      inputs=[inputs, enc_outputs, look_ahead_mask, padding_mask],\n",
        "      outputs=outputs,\n",
        "      name=name)"
      ]
    },
    {
      "cell_type": "code",
      "execution_count": null,
      "id": "0c60a01e",
      "metadata": {
        "id": "0c60a01e"
      },
      "outputs": [],
      "source": [
        "def decoder(vocab_size,\n",
        "            num_layers,\n",
        "            units,\n",
        "            d_model,\n",
        "            num_heads,\n",
        "            dropout,\n",
        "            name='decoder'):\n",
        "  inputs = tf.keras.Input(shape=(None,), name='inputs')\n",
        "  enc_outputs = tf.keras.Input(shape=(None, d_model), name='encoder_outputs')\n",
        "  look_ahead_mask = tf.keras.Input(\n",
        "      shape=(1, None, None), name='look_ahead_mask')\n",
        "\n",
        "  padding_mask = tf.keras.Input(shape=(1, 1, None), name='padding_mask')\n",
        "\n",
        "  embeddings = tf.keras.layers.Embedding(vocab_size, d_model)(inputs)\n",
        "  embeddings *= tf.math.sqrt(tf.cast(d_model, tf.float32))\n",
        "\n",
        "  embeddings = PositionalEncoding(vocab_size, d_model)(embeddings)\n",
        "\n",
        "  outputs = tf.keras.layers.Dropout(rate=dropout)(embeddings)\n",
        "\n",
        "  for i in range(num_layers):\n",
        "    outputs = decoder_layer(\n",
        "        units=units,\n",
        "        d_model=d_model,\n",
        "        num_heads=num_heads,\n",
        "        dropout=dropout,\n",
        "        name='decoder_layer_{}'.format(i),\n",
        "    )(inputs=[outputs, enc_outputs, look_ahead_mask, padding_mask])\n",
        "\n",
        "  return tf.keras.Model(\n",
        "      inputs=[inputs, enc_outputs, look_ahead_mask, padding_mask],\n",
        "      outputs=outputs,\n",
        "      name=name)"
      ]
    },
    {
      "cell_type": "markdown",
      "id": "3cd1a02d",
      "metadata": {
        "id": "3cd1a02d"
      },
      "source": [
        "### Design Transformer"
      ]
    },
    {
      "cell_type": "code",
      "execution_count": null,
      "id": "f98891ae",
      "metadata": {
        "id": "f98891ae"
      },
      "outputs": [],
      "source": [
        "def transformer(vocab_size,\n",
        "                num_layers,\n",
        "                units,\n",
        "                d_model,\n",
        "                num_heads,\n",
        "                dropout,\n",
        "                name=\"transformer\"):\n",
        "  inputs = tf.keras.Input(shape=(None,), name=\"inputs\")\n",
        "  dec_inputs = tf.keras.Input(shape=(None,), name=\"dec_inputs\")\n",
        "\n",
        "  # Mask for padding in the encoder\n",
        "  enc_padding_mask = tf.keras.layers.Lambda(\n",
        "      create_padding_mask, output_shape=(1, 1, None),\n",
        "      name='enc_padding_mask')(inputs)\n",
        "\n",
        "  # Used by the decoder to mask future tokens.\n",
        "  # A padded mask is also included internally.\n",
        "  look_ahead_mask = tf.keras.layers.Lambda(\n",
        "      create_look_ahead_mask,\n",
        "      output_shape=(1, None, None),\n",
        "      name='look_ahead_mask')(dec_inputs)\n",
        "\n",
        "  # Masking the vectors of the encoder in the second attention block\n",
        "  # Mask for padding in the decoder\n",
        "  dec_padding_mask = tf.keras.layers.Lambda(\n",
        "      create_padding_mask, output_shape=(1, 1, None),\n",
        "      name='dec_padding_mask')(inputs)\n",
        "\n",
        "  # Encoder\n",
        "  enc_outputs = encoder(\n",
        "      vocab_size=vocab_size,\n",
        "      num_layers=num_layers,\n",
        "      units=units,\n",
        "      d_model=d_model,\n",
        "      num_heads=num_heads,\n",
        "      dropout=dropout,\n",
        "  )(inputs=[inputs, enc_padding_mask])\n",
        "\n",
        "  # Decoder\n",
        "  dec_outputs = decoder(\n",
        "      vocab_size=vocab_size,\n",
        "      num_layers=num_layers,\n",
        "      units=units,\n",
        "      d_model=d_model,\n",
        "      num_heads=num_heads,\n",
        "      dropout=dropout,\n",
        "  )(inputs=[dec_inputs, enc_outputs, look_ahead_mask, dec_padding_mask])\n",
        "\n",
        "  # Fully connected layer\n",
        "  outputs = tf.keras.layers.Dense(units=vocab_size, name=\"outputs\")(dec_outputs)\n",
        "\n",
        "  return tf.keras.Model(inputs=[inputs, dec_inputs], outputs=outputs, name=name)"
      ]
    },
    {
      "cell_type": "code",
      "execution_count": null,
      "id": "cf7b0728",
      "metadata": {
        "id": "cf7b0728",
        "outputId": "d2691437-4316-4a82-9181-db342df1bc92"
      },
      "outputs": [
        {
          "name": "stdout",
          "output_type": "stream",
          "text": [
            "Model: \"transformer\"\n",
            "__________________________________________________________________________________________________\n",
            "Layer (type)                    Output Shape         Param #     Connected to                     \n",
            "==================================================================================================\n",
            "inputs (InputLayer)             [(None, None)]       0                                            \n",
            "__________________________________________________________________________________________________\n",
            "dec_inputs (InputLayer)         [(None, None)]       0                                            \n",
            "__________________________________________________________________________________________________\n",
            "enc_padding_mask (Lambda)       (None, 1, 1, None)   0           inputs[0][0]                     \n",
            "__________________________________________________________________________________________________\n",
            "encoder (Functional)            (None, None, 256)    3146240     inputs[0][0]                     \n",
            "                                                                 enc_padding_mask[0][0]           \n",
            "__________________________________________________________________________________________________\n",
            "look_ahead_mask (Lambda)        (None, 1, None, None 0           dec_inputs[0][0]                 \n",
            "__________________________________________________________________________________________________\n",
            "dec_padding_mask (Lambda)       (None, 1, 1, None)   0           inputs[0][0]                     \n",
            "__________________________________________________________________________________________________\n",
            "decoder (Functional)            (None, None, 256)    3673600     dec_inputs[0][0]                 \n",
            "                                                                 encoder[0][0]                    \n",
            "                                                                 look_ahead_mask[0][0]            \n",
            "                                                                 dec_padding_mask[0][0]           \n",
            "__________________________________________________________________________________________________\n",
            "outputs (Dense)                 (None, None, 8172)   2100204     decoder[0][0]                    \n",
            "==================================================================================================\n",
            "Total params: 8,920,044\n",
            "Trainable params: 8,920,044\n",
            "Non-trainable params: 0\n",
            "__________________________________________________________________________________________________\n"
          ]
        }
      ],
      "source": [
        "tf.keras.backend.clear_session()\n",
        "\n",
        "NUM_LAYERS = 2\n",
        "D_MODEL = 256 # Fixed dimensionality of input and output inside encoder and decoder\n",
        "NUM_HEADS = 8 # Number of heads in multi-head attention\n",
        "UNITS = 512 # Size of hidden layer in feed forward neural network\n",
        "DROPOUT = 0.1\n",
        "\n",
        "model = transformer(\n",
        "    vocab_size=VOCAB_SIZE,\n",
        "    num_layers=NUM_LAYERS,\n",
        "    units=UNITS,\n",
        "    d_model=D_MODEL,\n",
        "    num_heads=NUM_HEADS,\n",
        "    dropout=DROPOUT)\n",
        "\n",
        "model.summary()"
      ]
    },
    {
      "cell_type": "markdown",
      "id": "1982680c",
      "metadata": {
        "id": "1982680c"
      },
      "source": [
        "레이블인 시퀀스에 패딩이 되어 있으므로, loss를 계산할 때 패딩 마스크를 적용합니다."
      ]
    },
    {
      "cell_type": "code",
      "execution_count": null,
      "id": "a0494006",
      "metadata": {
        "id": "a0494006"
      },
      "outputs": [],
      "source": [
        "def loss_function(y_true, y_pred):\n",
        "  y_true = tf.reshape(y_true, shape=(-1, MAX_LENGTH - 1))\n",
        "\n",
        "  loss = tf.keras.losses.SparseCategoricalCrossentropy(\n",
        "      from_logits=True, reduction='none')(y_true, y_pred)\n",
        "\n",
        "  mask = tf.cast(tf.not_equal(y_true, 0), tf.float32)\n",
        "  loss = tf.multiply(loss, mask)\n",
        "\n",
        "  return tf.reduce_mean(loss)"
      ]
    },
    {
      "cell_type": "code",
      "execution_count": null,
      "id": "0a2fca06",
      "metadata": {
        "id": "0a2fca06"
      },
      "outputs": [],
      "source": [
        "class CustomSchedule(tf.keras.optimizers.schedules.LearningRateSchedule):\n",
        "\n",
        "  def __init__(self, d_model, warmup_steps=4000):\n",
        "    super(CustomSchedule, self).__init__()\n",
        "\n",
        "    self.d_model = d_model\n",
        "    self.d_model = tf.cast(self.d_model, tf.float32)\n",
        "\n",
        "    self.warmup_steps = warmup_steps\n",
        "\n",
        "  def __call__(self, step):\n",
        "    arg1 = tf.math.rsqrt(step)\n",
        "    arg2 = step * (self.warmup_steps**-1.5)\n",
        "\n",
        "    return tf.math.rsqrt(self.d_model) * tf.math.minimum(arg1, arg2)"
      ]
    },
    {
      "cell_type": "code",
      "execution_count": null,
      "id": "ee6b27b5",
      "metadata": {
        "id": "ee6b27b5",
        "outputId": "b0de749b-0797-47b0-be6f-dbfe41d0e694"
      },
      "outputs": [
        {
          "data": {
            "text/plain": [
              "Text(0.5, 0, 'Train Step')"
            ]
          },
          "execution_count": 33,
          "metadata": {},
          "output_type": "execute_result"
        },
        {
          "data": {
            "image/png": "[encoded data removed]",
            "text/plain": [
              "<Figure size 432x288 with 1 Axes>"
            ]
          },
          "metadata": {
            "needs_background": "light"
          },
          "output_type": "display_data"
        }
      ],
      "source": [
        "sample_learning_rate = CustomSchedule(d_model=128)\n",
        "\n",
        "plt.plot(sample_learning_rate(tf.range(200000, dtype=tf.float32)))\n",
        "plt.ylabel(\"Learning Rate\")\n",
        "plt.xlabel(\"Train Step\")"
      ]
    },
    {
      "cell_type": "markdown",
      "id": "dc345837",
      "metadata": {
        "id": "dc345837"
      },
      "source": [
        "손실 함수와 커스텀 된 learning rate를 사용하여 모델을 컴파일합니다."
      ]
    },
    {
      "cell_type": "code",
      "execution_count": null,
      "id": "8e63baa1",
      "metadata": {
        "id": "8e63baa1"
      },
      "outputs": [],
      "source": [
        "learning_rate = CustomSchedule(D_MODEL)\n",
        "\n",
        "optimizer = tf.keras.optimizers.Adam(\n",
        "    learning_rate, beta_1=0.9, beta_2=0.98, epsilon=1e-9)\n",
        "\n",
        "def accuracy(y_true, y_pred):\n",
        "  y_true = tf.reshape(y_true, shape=(-1, MAX_LENGTH - 1))\n",
        "  return tf.keras.metrics.sparse_categorical_accuracy(y_true, y_pred)\n",
        "\n",
        "model.compile(optimizer=optimizer, loss=loss_function, metrics=[accuracy])"
      ]
    },
    {
      "cell_type": "code",
      "execution_count": null,
      "id": "ca26e57d",
      "metadata": {
        "id": "ca26e57d",
        "outputId": "ad4c2590-2d06-480b-efa8-0156f31471f8"
      },
      "outputs": [
        {
          "name": "stdout",
          "output_type": "stream",
          "text": [
            "Epoch 1/50\n",
            "185/185 [==============================] - 15s 46ms/step - loss: 1.9531 - accuracy: 0.0398\n",
            "Epoch 2/50\n",
            "185/185 [==============================] - 9s 46ms/step - loss: 1.5802 - accuracy: 0.0666\n",
            "Epoch 3/50\n",
            "185/185 [==============================] - 9s 47ms/step - loss: 1.3471 - accuracy: 0.0685\n",
            "Epoch 4/50\n",
            "185/185 [==============================] - 9s 47ms/step - loss: 1.2449 - accuracy: 0.0733\n",
            "Epoch 5/50\n",
            "185/185 [==============================] - 9s 46ms/step - loss: 1.1683 - accuracy: 0.0775\n",
            "Epoch 6/50\n",
            "185/185 [==============================] - 9s 46ms/step - loss: 1.0887 - accuracy: 0.0832\n",
            "Epoch 7/50\n",
            "185/185 [==============================] - 9s 46ms/step - loss: 0.9997 - accuracy: 0.0914\n",
            "Epoch 8/50\n",
            "185/185 [==============================] - 8s 46ms/step - loss: 0.9022 - accuracy: 0.1018\n",
            "Epoch 9/50\n",
            "185/185 [==============================] - 8s 46ms/step - loss: 0.7959 - accuracy: 0.1136\n",
            "Epoch 10/50\n",
            "185/185 [==============================] - 9s 46ms/step - loss: 0.6834 - accuracy: 0.1264\n",
            "Epoch 11/50\n",
            "185/185 [==============================] - 8s 46ms/step - loss: 0.5724 - accuracy: 0.1399\n",
            "Epoch 12/50\n",
            "185/185 [==============================] - 9s 46ms/step - loss: 0.4626 - accuracy: 0.1548\n",
            "Epoch 13/50\n",
            "185/185 [==============================] - 9s 46ms/step - loss: 0.3623 - accuracy: 0.1699\n",
            "Epoch 14/50\n",
            "185/185 [==============================] - 9s 46ms/step - loss: 0.2746 - accuracy: 0.1831\n",
            "Epoch 15/50\n",
            "185/185 [==============================] - 9s 46ms/step - loss: 0.2018 - accuracy: 0.1958\n",
            "Epoch 16/50\n",
            "185/185 [==============================] - 9s 46ms/step - loss: 0.1463 - accuracy: 0.2063\n",
            "Epoch 17/50\n",
            "185/185 [==============================] - 8s 46ms/step - loss: 0.1056 - accuracy: 0.2137\n",
            "Epoch 18/50\n",
            "185/185 [==============================] - 8s 46ms/step - loss: 0.0816 - accuracy: 0.2180\n",
            "Epoch 19/50\n",
            "185/185 [==============================] - 8s 46ms/step - loss: 0.0680 - accuracy: 0.2201\n",
            "Epoch 20/50\n",
            "185/185 [==============================] - 9s 46ms/step - loss: 0.0617 - accuracy: 0.2209\n",
            "Epoch 21/50\n",
            "185/185 [==============================] - 8s 46ms/step - loss: 0.0574 - accuracy: 0.2215\n",
            "Epoch 22/50\n",
            "185/185 [==============================] - 9s 46ms/step - loss: 0.0522 - accuracy: 0.2226\n",
            "Epoch 23/50\n",
            "185/185 [==============================] - 9s 46ms/step - loss: 0.0478 - accuracy: 0.2236\n",
            "Epoch 24/50\n",
            "185/185 [==============================] - 8s 46ms/step - loss: 0.0433 - accuracy: 0.2245\n",
            "Epoch 25/50\n",
            "185/185 [==============================] - 8s 46ms/step - loss: 0.0363 - accuracy: 0.2264\n",
            "Epoch 26/50\n",
            "185/185 [==============================] - 9s 46ms/step - loss: 0.0338 - accuracy: 0.2269\n",
            "Epoch 27/50\n",
            "185/185 [==============================] - 8s 46ms/step - loss: 0.0295 - accuracy: 0.2280\n",
            "Epoch 28/50\n",
            "185/185 [==============================] - 8s 46ms/step - loss: 0.0275 - accuracy: 0.2285\n",
            "Epoch 29/50\n",
            "185/185 [==============================] - 9s 46ms/step - loss: 0.0242 - accuracy: 0.2293\n",
            "Epoch 30/50\n",
            "185/185 [==============================] - 8s 46ms/step - loss: 0.0225 - accuracy: 0.2298\n",
            "Epoch 31/50\n",
            "185/185 [==============================] - 9s 46ms/step - loss: 0.0204 - accuracy: 0.2305\n",
            "Epoch 32/50\n",
            "185/185 [==============================] - 8s 46ms/step - loss: 0.0193 - accuracy: 0.2307\n",
            "Epoch 33/50\n",
            "185/185 [==============================] - 9s 46ms/step - loss: 0.0172 - accuracy: 0.2312\n",
            "Epoch 34/50\n",
            "185/185 [==============================] - 9s 46ms/step - loss: 0.0159 - accuracy: 0.2315\n",
            "Epoch 35/50\n",
            "185/185 [==============================] - 9s 46ms/step - loss: 0.0150 - accuracy: 0.2318\n",
            "Epoch 36/50\n",
            "185/185 [==============================] - 9s 46ms/step - loss: 0.0141 - accuracy: 0.2320\n",
            "Epoch 37/50\n",
            "185/185 [==============================] - 8s 46ms/step - loss: 0.0131 - accuracy: 0.2322\n",
            "Epoch 38/50\n",
            "185/185 [==============================] - 9s 46ms/step - loss: 0.0123 - accuracy: 0.2324\n",
            "Epoch 39/50\n",
            "185/185 [==============================] - 9s 46ms/step - loss: 0.0117 - accuracy: 0.2326\n",
            "Epoch 40/50\n",
            "185/185 [==============================] - 9s 46ms/step - loss: 0.0119 - accuracy: 0.2325\n",
            "Epoch 41/50\n",
            "185/185 [==============================] - 8s 46ms/step - loss: 0.0111 - accuracy: 0.2327\n",
            "Epoch 42/50\n",
            "185/185 [==============================] - 9s 46ms/step - loss: 0.0101 - accuracy: 0.2329\n",
            "Epoch 43/50\n",
            "185/185 [==============================] - 8s 46ms/step - loss: 0.0098 - accuracy: 0.2331\n",
            "Epoch 44/50\n",
            "185/185 [==============================] - 9s 46ms/step - loss: 0.0094 - accuracy: 0.2332\n",
            "Epoch 45/50\n",
            "185/185 [==============================] - 9s 46ms/step - loss: 0.0087 - accuracy: 0.2334\n",
            "Epoch 46/50\n",
            "185/185 [==============================] - 8s 46ms/step - loss: 0.0085 - accuracy: 0.2334\n",
            "Epoch 47/50\n",
            "185/185 [==============================] - 8s 46ms/step - loss: 0.0087 - accuracy: 0.2334\n",
            "Epoch 48/50\n",
            "185/185 [==============================] - 9s 46ms/step - loss: 0.0078 - accuracy: 0.2334\n",
            "Epoch 49/50\n",
            "185/185 [==============================] - 8s 46ms/step - loss: 0.0072 - accuracy: 0.2336\n",
            "Epoch 50/50\n",
            "185/185 [==============================] - 8s 46ms/step - loss: 0.0076 - accuracy: 0.2336\n"
          ]
        }
      ],
      "source": [
        "EPOCHS = 50\n",
        "\n",
        "history = model.fit(dataset, epochs=EPOCHS, verbose=1)"
      ]
    },
    {
      "cell_type": "code",
      "execution_count": null,
      "id": "7c55a1e1",
      "metadata": {
        "id": "7c55a1e1",
        "outputId": "1e5f34c5-1fdc-42c1-c359-f7dba99d2306"
      },
      "outputs": [
        {
          "data": {
            "image/png": "[encoded data removed]",
            "text/plain": [
              "<Figure size 432x288 with 1 Axes>"
            ]
          },
          "metadata": {
            "needs_background": "light"
          },
          "output_type": "display_data"
        }
      ],
      "source": [
        "plt.plot(history.history['loss'], label='loss')\n",
        "plt.plot(history.history['accuracy'], label='accuracy')\n",
        "plt.legend()\n",
        "plt.show()"
      ]
    },
    {
      "cell_type": "markdown",
      "id": "ed4226f1",
      "metadata": {
        "id": "ed4226f1"
      },
      "source": [
        "### Step 5. 모델 평가하기"
      ]
    },
    {
      "cell_type": "code",
      "execution_count": null,
      "id": "bf67eaca",
      "metadata": {
        "id": "bf67eaca"
      },
      "outputs": [],
      "source": [
        "def decoder_inference(sentence):\n",
        "  sentence = preprocess_sentence(sentence)\n",
        "\n",
        "  # After encoding the input sentence as an integer, add the start token and end token back and forth.\n",
        "  # ex) Where have you been? → [[8331   86   30    5 1059    7 8332]]\n",
        "  sentence = tf.expand_dims(\n",
        "      START_TOKEN + tokenizer.encode(sentence) + END_TOKEN, axis=0)\n",
        "\n",
        "  # A variable in which the current predicted output sequence of the decoder is persistently stored.\n",
        "  # Since there is no prediction at first, only the starting token is stored separately. ex) 8331\n",
        "  output_sequence = tf.expand_dims(START_TOKEN, 0)\n",
        "\n",
        "  # Inference stage of the decoder\n",
        "  for i in range(MAX_LENGTH):\n",
        "    # The decoder repeats next word prediction up to a length of MAX_LENGTH.\n",
        "    predictions = model(inputs=[sentence, output_sequence], training=False)\n",
        "    predictions = predictions[:, -1:, :]\n",
        "\n",
        "    # Integer of the currently predicted word\n",
        "    predicted_id = tf.cast(tf.argmax(predictions, axis=-1), tf.int32)\n",
        "\n",
        "    # If the currently predicted word is a termination token, terminate the for statement.\n",
        "    if tf.equal(predicted_id, END_TOKEN[0]):\n",
        "      break\n",
        "\n",
        "    # Predicted words are continuously added to output_sequence\n",
        "    # This output_sequence again becomes the input to the decoder.\n",
        "    output_sequence = tf.concat([output_sequence, predicted_id], axis=-1)\n",
        "\n",
        "  return tf.squeeze(output_sequence, axis=0)"
      ]
    },
    {
      "cell_type": "code",
      "execution_count": null,
      "id": "feb7478a",
      "metadata": {
        "id": "feb7478a"
      },
      "outputs": [],
      "source": [
        "def sentence_generation(sentence):\n",
        "  # The decoder is operated on the input sentence and a predicted integer sequence is returned.\n",
        "  prediction = decoder_inference(sentence)\n",
        "\n",
        "  # Converts a sequence of integers back to a text sequence.\n",
        "  predicted_sentence = tokenizer.decode(\n",
        "      [i for i in prediction if i < tokenizer.vocab_size])\n",
        "\n",
        "  print('Input : {}'.format(sentence))\n",
        "  print('Output : {}'.format(predicted_sentence))\n",
        "\n",
        "  return predicted_sentence"
      ]
    },
    {
      "cell_type": "markdown",
      "id": "095ddeff",
      "metadata": {
        "id": "095ddeff"
      },
      "source": [
        "## Conclusion"
      ]
    },
    {
      "cell_type": "markdown",
      "id": "e5a1a57c",
      "metadata": {
        "id": "e5a1a57c"
      },
      "source": [
        "### Details"
      ]
    },
    {
      "cell_type": "markdown",
      "id": "4a3ff8f6",
      "metadata": {
        "id": "4a3ff8f6"
      },
      "source": [
        "한국어 챗봇을 위해 영어 챗봇 모델을 한국어 데이터로 변환하는 실험의 과정은 다음과 같습니다. `한국어 챗봇 데이터`를 수집하여 전처리하고, `SubwordTextEncoder`를 활용하여 토큰화합니다. 이후, `트랜스포머 모델`을 구현하고 학습시킨 후, 적절한 예측 함수를 통해 입력된 문장에 대한 응답을 생성하고 모델을 평가합니다. 이를 통해 한국어에 적합한 챗봇 모델을 구축하고, 테스트하여 결과를 확인했습니다."
      ]
    },
    {
      "cell_type": "markdown",
      "id": "30b40d72",
      "metadata": {
        "id": "30b40d72"
      },
      "source": [
        "### Result"
      ]
    },
    {
      "cell_type": "code",
      "execution_count": null,
      "id": "bb82e74e",
      "metadata": {
        "id": "bb82e74e",
        "outputId": "f41de1eb-5073-4dfd-e18e-8b89d8b1b561"
      },
      "outputs": [
        {
          "name": "stdout",
          "output_type": "stream",
          "text": [
            "Input : 넌 누구야?\n",
            "Output : 사람마다 다르겠지만 사귀고 난 후가 좋겠어요.\n"
          ]
        },
        {
          "data": {
            "text/plain": [
              "'사람마다 다르겠지만 사귀고 난 후가 좋겠어요.'"
            ]
          },
          "execution_count": 39,
          "metadata": {},
          "output_type": "execute_result"
        }
      ],
      "source": [
        "sentence_generation('넌 누구야?')"
      ]
    },
    {
      "cell_type": "code",
      "execution_count": null,
      "id": "0e004214",
      "metadata": {
        "id": "0e004214",
        "outputId": "1d4ce289-0e46-4c32-dd30-f09c45ec21cb"
      },
      "outputs": [
        {
          "name": "stdout",
          "output_type": "stream",
          "text": [
            "Input : 오늘 너무 춥다.\n",
            "Output : 최근에 이별을 하셨나보군요.\n"
          ]
        },
        {
          "data": {
            "text/plain": [
              "'최근에 이별을 하셨나보군요.'"
            ]
          },
          "execution_count": 40,
          "metadata": {},
          "output_type": "execute_result"
        }
      ],
      "source": [
        "sentence_generation('오늘 너무 춥다.')"
      ]
    },
    {
      "cell_type": "markdown",
      "id": "d46b7b1d",
      "metadata": {
        "id": "d46b7b1d"
      },
      "source": [
        "`duh, you re a weirdo .`"
      ]
    },
    {
      "cell_type": "markdown",
      "id": "c99b9ee7",
      "metadata": {
        "id": "c99b9ee7"
      },
      "source": [
        "### Retrospect"
      ]
    },
    {
      "cell_type": "markdown",
      "id": "0f389439",
      "metadata": {
        "id": "0f389439"
      },
      "source": [
        ">한국어 쳇봇 데이터셋을 활용하여 전처리하고, 토큰화한 후 트랜스포머 모델을 구현하는 작업이 흥미로웠습니다. 직접 모델을 구현하지는 못 했고, 설계된 모델을 이해하는 것도 어려웠습니다. 멀티 헤드 어텐션의 개념이 새로웠고, 퍼포먼스를 이해하기 위해 다양한 자료를 참고했습니다. 영어 텍스트와 한글 텍스트의 전처리 과정이 어떻게 다른지 실험을 통해 복습할 수 있어서 유익했고, 트랜스포머의 퍼포먼스를 관찰하며 배울 수 있었습니다. 모델 학습 시 손실을 최대한 낮추도록 에폭을 조정한 후 시각화하여 확인했습니다. 손실이 0에 가까울 수록 임의의 질문에 대한 대답이 좀 더 적절하게 도출되는 것을 관찰할 수 있었어요. 한국어 데이터셋을 활용하여 쳇봇을 구현한 다양한 작품들이 PyTorch를 활용했다는 사실을 알게 되었고, PyTorch를 활용한 모델 구성과 검증에 대해 살펴봤습니다. 자연스러운 대화가 가능한 쳇봇을 구현하기 위해서는 정말 세심한 작업이 필요하겠구나 생각해 볼 수 있었어요."
      ]
    },
    {
      "cell_type": "markdown",
      "id": "21cd4c5c",
      "metadata": {
        "id": "21cd4c5c"
      },
      "source": [
        "### Reference"
      ]
    },
    {
      "cell_type": "markdown",
      "id": "50ca16a1",
      "metadata": {
        "id": "50ca16a1"
      },
      "source": [
        "**Transformer Chatbot**\n",
        "\n",
        "* [What is a Deep Learning Chatbot?](https://shanebarker.com/blog/deep-learning-chatbot/)  \n",
        "* [A Transformer Chatbot Tutorial with TensorFlow 2.0](https://blog.tensorflow.org/2019/05/transformer-chatbot-tutorial-with-tensorflow-2.html)  \n",
        "* [Small Transformer for Korean chatbot (pytorch)](https://www.kaggle.com/code/fleek12/small-transformer-for-korean-chatbot-pytorch)  \n",
        "* [The Illustrated Transformer](http://jalammar.github.io/illustrated-transformer/)  \n",
        "* [What are Encoder in Transformers](https://www.scaler.com/topics/nlp/transformer-encoder-decoder/)  \n",
        "* [Transformers-based Encoder-Decoder Models](https://huggingface.co/blog/encoder-decoder)\n",
        "* [The Transformer Attention Mechanism](https://machinelearningmastery.com/the-transformer-attention-mechanism/)  \n",
        "* [Transformer: A Novel Neural Network Architecture for Language Understanding](https://blog.research.google/2017/08/transformer-novel-neural-network.html)\n",
        "* [How to Implement Scaled Dot-Product Attention from Scratch in TensorFlow and Keras](https://machinelearningmastery.com/how-to-implement-scaled-dot-product-attention-from-scratch-in-tensorflow-and-keras/)\n",
        "* [Hugging Face - T5, num_heads](https://huggingface.co/transformers/v3.0.2/model_doc/t5.html)  \n",
        "* [Transformers Explained Visually (Part 3): Multi-head Attention, deep dive](https://towardsdatascience.com/transformers-explained-visually-part-3-multi-head-attention-deep-dive-1c1ff1024853)  \n",
        "* [TensorFlow - tf.keras.layers.MultiHeadAttention](https://www.tensorflow.org/api_docs/python/tf/keras/layers/MultiHeadAttention)  \n",
        "* [TensorFlow - Understanding masking & padding](https://www.tensorflow.org/guide/keras/understanding_masking_and_padding)  \n",
        "* [TensorFlow - Module: tf.keras.preprocessing.sequence](https://www.tensorflow.org/api_docs/python/tf/keras/preprocessing/sequence)  \n",
        "* [TensorFlow - tf.keras.utils.pad_sequences](https://www.tensorflow.org/api_docs/python/tf/keras/utils/pad_sequences)  \n",
        "* [TensorFlow - Neural machine translation with a Transformer and Keras](https://www.tensorflow.org/text/tutorials/transformer)  \n",
        "* [Cornell Univ. - Cornell Movie-Dialogs Corpus Dataset](https://www.cs.cornell.edu/~cristian/Cornell_Movie-Dialogs_Corpus.html)  \n",
        "* [Cornell Movie-Dialogs Corpus Dataset Details](https://convokit.cornell.edu/documentation/movie.html)  \n",
        "\n",
        "**Korean Chatbot**\n",
        "\n",
        "* [hyunwoongko / kochat](https://github.com/hyunwoongko/kochat)  \n",
        "* [jyujin39 / Korean_Chatbot_Model](https://github.com/jyujin39/Korean_Chatbot_Model)  \n",
        "* [kooyunmo / diya-chat](https://github.com/kooyunmo/diya-chat)"
      ]
    }
  ],
  "metadata": {
    "kernelspec": {
      "display_name": "Python 3 (ipykernel)",
      "language": "python",
      "name": "python3"
    },
    "language_info": {
      "codemirror_mode": {
        "name": "ipython",
        "version": 3
      },
      "file_extension": ".py",
      "mimetype": "text/x-python",
      "name": "python",
      "nbconvert_exporter": "python",
      "pygments_lexer": "ipython3",
      "version": "3.9.7"
    },
    "colab": {
      "provenance": [],
      "include_colab_link": true
    }
  },
  "nbformat": 4,
  "nbformat_minor": 5
}