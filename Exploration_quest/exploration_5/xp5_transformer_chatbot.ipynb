{
  "cells": [
    {
      "cell_type": "markdown",
      "metadata": {
        "id": "view-in-github",
        "colab_type": "text"
      },
      "source": [
        "<a href=\"https://colab.research.google.com/github/CAVASOL/aiffel_quest/blob/main/Exploration_quest/exploration_5/xp5_transformer_chatbot.ipynb\" target=\"_parent\"><img src=\"https://colab.research.google.com/assets/colab-badge.svg\" alt=\"Open In Colab\"/></a>"
      ]
    },
    {
      "cell_type": "markdown",
      "id": "3ed4ccc1",
      "metadata": {
        "id": "3ed4ccc1"
      },
      "source": [
        "## Exploration 5. A Transformer Chatbot\n",
        "\n",
        "**Goal**\n",
        "\n",
        "* 트랜스포머의 인코더 디코더 구조 이해할 수 있습니다.\n",
        "* 내부 단어 토크나이저 사용할 수 있습니다.\n",
        "* 셀프 어텐션 이해할 수 있습니다.\n",
        "* 한국어에도 적용할 수 있습니다.\n",
        "\n",
        "**Index**\n",
        "\n",
        "    1. 챗봇과 딥러닝\n",
        "    2. 트랜스포머와 인코더 디코더\n",
        "    3. 트랜스포머의 입력 이해하기\n",
        "    4. Attention Mechanism\n",
        "    5. Scaled Dot-Product Attention\n",
        "    6. Multi-head Attention\n",
        "    7. Masking\n",
        "    8. Encoder\n",
        "    9. Decoder\n",
        "    10. 챗봇의 병렬 데이터 받아오기\n",
        "    11. 병렬 데이터 전처리하기\n",
        "    12. 모델 정의 및 학습하기\n",
        "    13. 챗봇 테스트하기"
      ]
    },
    {
      "cell_type": "markdown",
      "id": "7d21ed2e",
      "metadata": {
        "id": "7d21ed2e"
      },
      "source": [
        "### 챗봇과 딥러닝"
      ]
    },
    {
      "cell_type": "markdown",
      "id": "9c981961",
      "metadata": {
        "id": "9c981961"
      },
      "source": [
        "[What is a Deep Learning Chatbot?](https://shanebarker.com/blog/deep-learning-chatbot/)  \n",
        "[A Transformer Chatbot Tutorial with TensorFlow 2.0](https://blog.tensorflow.org/2019/05/transformer-chatbot-tutorial-with-tensorflow-2.html)  \n",
        "[Small Transformer for Korean chatbot (pytorch)](https://www.kaggle.com/code/fleek12/small-transformer-for-korean-chatbot-pytorch)  "
      ]
    },
    {
      "cell_type": "markdown",
      "id": "38885539",
      "metadata": {
        "id": "38885539"
      },
      "source": [
        "### 트랜스포머와 인코더 디코더"
      ]
    },
    {
      "cell_type": "markdown",
      "id": "b66bc64b",
      "metadata": {
        "id": "b66bc64b"
      },
      "source": [
        "[The Illustrated Transformer](http://jalammar.github.io/illustrated-transformer/)  \n",
        "[What are Encoder in Transformers](https://www.scaler.com/topics/nlp/transformer-encoder-decoder/)  \n",
        "[Transformers-based Encoder-Decoder Models](https://huggingface.co/blog/encoder-decoder)\n",
        "\n",
        "The encoder processes encode the input data, and the decoder generates the output data based on the encoded representation, which serves as the \"context\" for the decoder. The encoder is essential for the transformer's processing and understanding of complex input data."
      ]
    },
    {
      "cell_type": "markdown",
      "source": [
        "![](https://drive.google.com/uc?export=view&id=1kguZmZ8VpsW_jjyH-rUh2mMpcqI7sewP)"
      ],
      "metadata": {
        "id": "vRXSTxndoFuZ"
      },
      "id": "vRXSTxndoFuZ"
    },
    {
      "cell_type": "markdown",
      "id": "1d71ba8a",
      "metadata": {
        "id": "1d71ba8a"
      },
      "source": [
        "### 트랜스포머의 입력 이해하기"
      ]
    },
    {
      "cell_type": "code",
      "execution_count": null,
      "id": "d9e796c0",
      "metadata": {
        "id": "d9e796c0",
        "outputId": "56f38f7d-9ece-4fa3-f488-7b1eed03a1f5"
      },
      "outputs": [
        {
          "name": "stdout",
          "output_type": "stream",
          "text": [
            "tensorflow 2.6.0\n"
          ]
        }
      ],
      "source": [
        "# Set up\n",
        "\n",
        "import tensorflow as tf\n",
        "import tensorflow_datasets as tfds\n",
        "import os\n",
        "import re\n",
        "import numpy as np\n",
        "import matplotlib.pyplot as plt\n",
        "\n",
        "print(\"tensorflow\", tf.__version__)"
      ]
    },
    {
      "cell_type": "markdown",
      "id": "a53ae24f",
      "metadata": {
        "id": "a53ae24f"
      },
      "source": [
        "`Positional Matrix`의 원리는 다음과 같습니다. `Positional Matrix`를 구현해 봅시다."
      ]
    },
    {
      "cell_type": "markdown",
      "source": [
        "![](https://drive.google.com/uc?export=view&id=1vZfr9N7I3y2B9nfn-4kr2UDKdD6hoJbK)"
      ],
      "metadata": {
        "id": "Z9mefhg8mhid"
      },
      "id": "Z9mefhg8mhid"
    },
    {
      "cell_type": "code",
      "execution_count": null,
      "id": "79d14a34",
      "metadata": {
        "id": "79d14a34",
        "outputId": "507e7864-fadc-4ca1-f097-505ab3af1be8"
      },
      "outputs": [
        {
          "name": "stdout",
          "output_type": "stream",
          "text": [
            "Gotcha\n"
          ]
        }
      ],
      "source": [
        "# Positional Encoding Layer\n",
        "\n",
        "class PositionalEncoding(tf.keras.layers.Layer):\n",
        "\n",
        "  def __init__(self, position, d_model):\n",
        "    super(PositionalEncoding, self).__init__()\n",
        "    self.pos_encoding = self.positional_encoding(position, d_model)\n",
        "\n",
        "  def get_angles(self, position, i, d_model):\n",
        "    angles = 1 / tf.pow(10000, (2 * (i // 2)) / tf.cast(d_model, tf.float32))\n",
        "    return position * angles\n",
        "\n",
        "  def positional_encoding(self, position, d_model):\n",
        "    # Create an array of angles\n",
        "    angle_rads = self.get_angles(\n",
        "        position=tf.range(position, dtype=tf.float32)[:, tf.newaxis],\n",
        "        i=tf.range(d_model, dtype=tf.float32)[tf.newaxis, :],\n",
        "        d_model=d_model)\n",
        "\n",
        "    # Apply sin function to even indices of array\n",
        "    sines = tf.math.sin(angle_rads[:, 0::2])\n",
        "    # Apply cosine function to odd indices of array\n",
        "    cosines = tf.math.cos(angle_rads[:, 1::2])\n",
        "\n",
        "    # Rearrange sin and cosine so that they intersect\n",
        "    pos_encoding = tf.stack([sines, cosines], axis=0)\n",
        "    pos_encoding = tf.transpose(pos_encoding,[1, 2, 0])\n",
        "    pos_encoding = tf.reshape(pos_encoding, [position, d_model])\n",
        "\n",
        "    pos_encoding = pos_encoding[tf.newaxis, ...]\n",
        "    return tf.cast(pos_encoding, tf.float32)\n",
        "\n",
        "  def call(self, inputs):\n",
        "    return inputs + self.pos_encoding[:, :tf.shape(inputs)[1], :]\n",
        "\n",
        "print(\"Gotcha\")"
      ]
    },
    {
      "cell_type": "markdown",
      "id": "d34d01da",
      "metadata": {
        "id": "d34d01da"
      },
      "source": [
        "`행의 크기가 50, 열의 크기가 512인 행렬`을 그려봅시다. 최대 문장의 길이가 50이고, 워드 임베딩 차원을 512로 하는 모델의 입력 벡터 모양이 이와 같을 것입니다."
      ]
    },
    {
      "cell_type": "code",
      "execution_count": null,
      "id": "23639007",
      "metadata": {
        "id": "23639007",
        "outputId": "ab6b3d2c-78f1-455e-b405-a2834a9bd236"
      },
      "outputs": [
        {
          "data": {
            "image/png": "[encoded data removed]",
            "text/plain": [
              "<Figure size 720x432 with 2 Axes>"
            ]
          },
          "metadata": {
            "needs_background": "light"
          },
          "output_type": "display_data"
        }
      ],
      "source": [
        "position = 50\n",
        "d_model = 512\n",
        "pos_encoding_layer = PositionalEncoding(position, d_model)\n",
        "sample_pos_encoding = pos_encoding_layer.pos_encoding.numpy()\n",
        "\n",
        "plt.figure(figsize=(10, 6))\n",
        "plt.pcolormesh(sample_pos_encoding[0], cmap='RdBu')\n",
        "plt.xlabel('Depth')\n",
        "plt.xlim((0, 512))\n",
        "plt.ylabel('Position')\n",
        "plt.colorbar()\n",
        "plt.title('Positional Encoding Visualization (50 positions, 512 dimensions)')\n",
        "plt.show()"
      ]
    },
    {
      "cell_type": "markdown",
      "id": "60f80751",
      "metadata": {
        "id": "60f80751"
      },
      "source": [
        "`최대 문장의 길이가 30`이고, `워드 임베딩 차원을 256`으로 하는 모델의 입력 벡터 모양은 어떨까요? 확인해 봅시다."
      ]
    },
    {
      "cell_type": "code",
      "execution_count": null,
      "id": "774ccce0",
      "metadata": {
        "id": "774ccce0",
        "outputId": "d97de913-4261-46b2-86c7-d24799d577d1"
      },
      "outputs": [
        {
          "data": {
            "image/png": "[encoded data removed]",
            "text/plain": [
              "<Figure size 720x432 with 2 Axes>"
            ]
          },
          "metadata": {
            "needs_background": "light"
          },
          "output_type": "display_data"
        }
      ],
      "source": [
        "position = 30\n",
        "d_model = 256\n",
        "pos_encoding_layer = PositionalEncoding(position, d_model)\n",
        "sample_pos_encoding = pos_encoding_layer.pos_encoding.numpy()\n",
        "\n",
        "plt.figure(figsize=(10, 6))\n",
        "plt.pcolormesh(sample_pos_encoding[0], cmap='RdBu')\n",
        "plt.xlabel('Depth')\n",
        "plt.xlim((0, 256))\n",
        "plt.ylabel('Position')\n",
        "plt.colorbar()\n",
        "plt.title('Positional Encoding Visualization (30 positions, 256 dimensions)')\n",
        "plt.show()"
      ]
    },
    {
      "cell_type": "markdown",
      "id": "a6fab693",
      "metadata": {
        "id": "a6fab693"
      },
      "source": [
        "### Attention Mechanism"
      ]
    },
    {
      "cell_type": "markdown",
      "id": "e4db1190",
      "metadata": {
        "id": "e4db1190"
      },
      "source": [
        "[The Transformer Attention Mechanism](https://machinelearningmastery.com/the-transformer-attention-mechanism/)  \n",
        "[Transformer: A Novel Neural Network Architecture for Language Understanding](https://blog.research.google/2017/08/transformer-novel-neural-network.html)"
      ]
    },
    {
      "cell_type": "markdown",
      "id": "c9e95682",
      "metadata": {
        "id": "c9e95682"
      },
      "source": [
        "### Scaled Dot-Product Attention"
      ]
    },
    {
      "cell_type": "markdown",
      "id": "8634b8d6",
      "metadata": {
        "id": "8634b8d6"
      },
      "source": [
        "[How to Implement Scaled Dot-Product Attention from Scratch in TensorFlow and Keras](https://machinelearningmastery.com/how-to-implement-scaled-dot-product-attention-from-scratch-in-tensorflow-and-keras/)"
      ]
    },
    {
      "cell_type": "code",
      "execution_count": null,
      "id": "4b0f62e4",
      "metadata": {
        "id": "4b0f62e4"
      },
      "outputs": [],
      "source": [
        "def scaled_dot_product_attention(query, key, value, mask):\n",
        "\n",
        "  matmul_qk = tf.matmul(query, key, transpose_b=True)\n",
        "\n",
        "  # normalize the weights\n",
        "  depth = tf.cast(tf.shape(key)[-1], tf.float32)\n",
        "  logits = matmul_qk / tf.math.sqrt(depth)\n",
        "\n",
        "  # Add mask to padding\n",
        "  if mask is not None:\n",
        "    logits += (mask * -1e9)\n",
        "\n",
        "  # softmax\n",
        "  attention_weights = tf.nn.softmax(logits, axis=-1)\n",
        "\n",
        "  # The final attention is the weight and the dot product of V.\n",
        "  output = tf.matmul(attention_weights, value)\n",
        "  return output"
      ]
    },
    {
      "cell_type": "markdown",
      "id": "ec4a5d57",
      "metadata": {
        "id": "ec4a5d57"
      },
      "source": [
        "### Multi-head Attention"
      ]
    },
    {
      "cell_type": "markdown",
      "id": "098b8280",
      "metadata": {
        "id": "098b8280"
      },
      "source": [
        "[Hugging Face - T5, num_heads](https://huggingface.co/transformers/v3.0.2/model_doc/t5.html)  \n",
        "[Transformers Explained Visually (Part 3): Multi-head Attention, deep dive](https://towardsdatascience.com/transformers-explained-visually-part-3-multi-head-attention-deep-dive-1c1ff1024853)  \n",
        "[TensorFlow - tf.keras.layers.MultiHeadAttention](https://www.tensorflow.org/api_docs/python/tf/keras/layers/MultiHeadAttention)  \n",
        "\n",
        "`num_heads` – Number of attention heads for each attention layer in the Transformer encoder. num_heads can also be accessed via the property num_attention_heads.\n",
        "\n",
        "`Multiple Attention Heads` - In the Transformer, the Attention module repeats its computations multiple times in parallel. Each of these is called an Attention Head. The Attention module splits its Query, Key, and Value parameters N-ways and passes each split independently through a separate Head. All of these similar Attention calculations are then combined together to produce a final Attention score. This is called Multi-head attention and gives the Transformer greater power to encode multiple relationships and nuances for each word."
      ]
    },
    {
      "cell_type": "code",
      "execution_count": null,
      "id": "321b910c",
      "metadata": {
        "id": "321b910c"
      },
      "outputs": [],
      "source": [
        "class MultiHeadAttention(tf.keras.layers.Layer):\n",
        "\n",
        "  def __init__(self, d_model, num_heads, name=\"multi_head_attention\"):\n",
        "    super(MultiHeadAttention, self).__init__(name=name)\n",
        "    self.num_heads = num_heads\n",
        "    self.d_model = d_model\n",
        "\n",
        "    assert d_model % self.num_heads == 0\n",
        "\n",
        "    self.depth = d_model // self.num_heads\n",
        "\n",
        "    self.query_dense = tf.keras.layers.Dense(units=d_model)\n",
        "    self.key_dense = tf.keras.layers.Dense(units=d_model)\n",
        "    self.value_dense = tf.keras.layers.Dense(units=d_model)\n",
        "\n",
        "    self.dense = tf.keras.layers.Dense(units=d_model)\n",
        "\n",
        "  def split_heads(self, inputs, batch_size):\n",
        "    inputs = tf.reshape(\n",
        "        inputs, shape=(batch_size, -1, self.num_heads, self.depth))\n",
        "    return tf.transpose(inputs, perm=[0, 2, 1, 3])\n",
        "\n",
        "  def call(self, inputs):\n",
        "    query, key, value, mask = inputs['query'], inputs['key'], inputs[\n",
        "        'value'], inputs['mask']\n",
        "    batch_size = tf.shape(query)[0]\n",
        "\n",
        "    # Q. Q, K, V에 각각 Dense를 적용합니다\n",
        "    query = self.query_dense(query)\n",
        "    key = self.key_dense(key)\n",
        "    value = self.value_dense(value)\n",
        "\n",
        "    # Q. 병렬 연산을 위한 머리를 여러 개 만듭니다\n",
        "    query = self.split_heads(query, batch_size)\n",
        "    key = self.split_heads(key, batch_size)\n",
        "    value = self.split_heads(value, batch_size)\n",
        "\n",
        "    # Scaled dot-product attention function\n",
        "    scaled_attention = scaled_dot_product_attention(query, key, value, mask)\n",
        "\n",
        "    scaled_attention = tf.transpose(scaled_attention, perm=[0, 2, 1, 3])\n",
        "\n",
        "    # After the attention operation, each result is concatenated again.\n",
        "    concat_attention = tf.reshape(scaled_attention,\n",
        "                                  (batch_size, -1, self.d_model))\n",
        "\n",
        "    # Apply Dense once more to the final result\n",
        "    outputs = self.dense(concat_attention)\n",
        "\n",
        "    return outputs"
      ]
    },
    {
      "cell_type": "markdown",
      "id": "8ae3bf9f",
      "metadata": {
        "id": "8ae3bf9f"
      },
      "source": [
        "### Masking"
      ]
    },
    {
      "cell_type": "markdown",
      "id": "cddb1ecd",
      "metadata": {
        "id": "cddb1ecd"
      },
      "source": [
        "[TensorFlow - Understanding masking & padding](https://www.tensorflow.org/guide/keras/understanding_masking_and_padding)  \n",
        "[TensorFlow - Module: tf.keras.preprocessing.sequence](https://www.tensorflow.org/api_docs/python/tf/keras/preprocessing/sequence)  \n",
        "[TensorFlow - tf.keras.utils.pad_sequences](https://www.tensorflow.org/api_docs/python/tf/keras/utils/pad_sequences)  \n",
        "[TensorFlow - Neural machine translation with a Transformer and Keras](https://www.tensorflow.org/text/tutorials/transformer)  "
      ]
    },
    {
      "cell_type": "code",
      "execution_count": null,
      "id": "34c192e5",
      "metadata": {
        "id": "34c192e5"
      },
      "outputs": [],
      "source": [
        "def create_padding_mask(x):\n",
        "  mask = tf.cast(tf.math.equal(x, 0), tf.float32)\n",
        "  # (batch_size, 1, 1, sequence length)\n",
        "  return mask[:, tf.newaxis, tf.newaxis, :]"
      ]
    },
    {
      "cell_type": "markdown",
      "id": "a7d83fd2",
      "metadata": {
        "id": "a7d83fd2"
      },
      "source": [
        "두 개의 정수 시퀀스를 입력하고, 각각 어떤 결과가 나오는지 확인해 봅시다."
      ]
    },
    {
      "cell_type": "code",
      "execution_count": null,
      "id": "6b588741",
      "metadata": {
        "id": "6b588741",
        "outputId": "ead02a17-4de1-4650-9f0e-0aecf021be57"
      },
      "outputs": [
        {
          "name": "stdout",
          "output_type": "stream",
          "text": [
            "tf.Tensor(\n",
            "[[[[0. 0. 1. 0. 1.]]]\n",
            "\n",
            "\n",
            " [[[1. 1. 1. 0. 0.]]]], shape=(2, 1, 1, 5), dtype=float32)\n"
          ]
        }
      ],
      "source": [
        "print(create_padding_mask(tf.constant([[1, 2, 0, 3, 0], [0, 0, 0, 4, 5]])))"
      ]
    },
    {
      "cell_type": "code",
      "execution_count": null,
      "id": "d2893b46",
      "metadata": {
        "id": "d2893b46"
      },
      "outputs": [],
      "source": [
        "# ref, https://www.tensorflow.org/tutorials/text/transformer\n",
        "\n",
        "# def create_look_ahead_mask(size):\n",
        "#   mask = 1 - tf.linalg.band_part(tf.ones((size, size)), -1, 0)\n",
        "#   return mask  # (seq_len, seq_len)"
      ]
    },
    {
      "cell_type": "code",
      "execution_count": null,
      "id": "900c792c",
      "metadata": {
        "id": "900c792c"
      },
      "outputs": [],
      "source": [
        "def create_look_ahead_mask(x):\n",
        "  seq_len = tf.shape(x)[1]\n",
        "  look_ahead_mask = 1 - tf.linalg.band_part(tf.ones((seq_len, seq_len)), -1, 0)\n",
        "  padding_mask = create_padding_mask(x)\n",
        "  return tf.maximum(look_ahead_mask, padding_mask)"
      ]
    },
    {
      "cell_type": "code",
      "execution_count": null,
      "id": "5a6fcd6d",
      "metadata": {
        "id": "5a6fcd6d",
        "outputId": "67df1099-974f-400a-e29b-7147dffa53a1"
      },
      "outputs": [
        {
          "name": "stdout",
          "output_type": "stream",
          "text": [
            "tf.Tensor(\n",
            "[[[[0. 1. 1. 1. 1.]\n",
            "   [0. 0. 1. 1. 1.]\n",
            "   [0. 0. 0. 1. 1.]\n",
            "   [0. 0. 0. 0. 1.]\n",
            "   [0. 0. 0. 0. 0.]]]], shape=(1, 1, 5, 5), dtype=float32)\n"
          ]
        }
      ],
      "source": [
        "print(create_look_ahead_mask(tf.constant([[1, 2, 3, 4, 5]])))"
      ]
    },
    {
      "cell_type": "code",
      "execution_count": null,
      "id": "5e0efbcb",
      "metadata": {
        "id": "5e0efbcb",
        "outputId": "b000d40d-3fa5-4773-95da-19ab406f840f"
      },
      "outputs": [
        {
          "name": "stdout",
          "output_type": "stream",
          "text": [
            "tf.Tensor(\n",
            "[[[[1. 1. 1. 1. 1.]\n",
            "   [1. 0. 1. 1. 1.]\n",
            "   [1. 0. 0. 1. 1.]\n",
            "   [1. 0. 0. 0. 1.]\n",
            "   [1. 0. 0. 0. 0.]]]], shape=(1, 1, 5, 5), dtype=float32)\n"
          ]
        }
      ],
      "source": [
        "print(create_look_ahead_mask(tf.constant([[0, 5, 1, 5, 5]])))"
      ]
    },
    {
      "cell_type": "markdown",
      "id": "087efec4",
      "metadata": {
        "id": "087efec4"
      },
      "source": [
        "### Encoder"
      ]
    },
    {
      "cell_type": "markdown",
      "id": "49da1a23",
      "metadata": {
        "id": "49da1a23"
      },
      "source": [
        "두 개의 서브 층, 즉 셀프 어텐션과 피드 포워드 신경망을 가지는 하나의 인코더 층을 구현하는 함수는 다음과 같습니다."
      ]
    },
    {
      "cell_type": "code",
      "execution_count": null,
      "id": "24c0eb00",
      "metadata": {
        "id": "24c0eb00"
      },
      "outputs": [],
      "source": [
        "def encoder_layer(units, d_model, num_heads, dropout, name=\"encoder_layer\"):\n",
        "  inputs = tf.keras.Input(shape=(None, d_model), name=\"inputs\")\n",
        "\n",
        "  padding_mask = tf.keras.Input(shape=(1, 1, None), name=\"padding_mask\")\n",
        "\n",
        "  # Multi-head attention (self-attention)\n",
        "  attention = MultiHeadAttention(\n",
        "      d_model, num_heads, name=\"attention\")({\n",
        "          'query': inputs,\n",
        "          'key': inputs,\n",
        "          'value': inputs,\n",
        "          'mask': padding_mask\n",
        "      })\n",
        "\n",
        "  # Dropout and LayerNormalization are performed on the results of attention.\n",
        "  attention = tf.keras.layers.Dropout(rate=dropout)(attention)\n",
        "  attention = tf.keras.layers.LayerNormalization(\n",
        "      epsilon=1e-6)(inputs + attention)\n",
        "\n",
        "  # Two fully connected layers\n",
        "  outputs = tf.keras.layers.Dense(units=units, activation='relu')(attention)\n",
        "  outputs = tf.keras.layers.Dense(units=d_model)(outputs)\n",
        "\n",
        "  # Dropout and LayerNormalization are performed on the results of the fully connected layer.\n",
        "  outputs = tf.keras.layers.Dropout(rate=dropout)(outputs)\n",
        "  outputs = tf.keras.layers.LayerNormalization(\n",
        "      epsilon=1e-6)(attention + outputs)\n",
        "\n",
        "  return tf.keras.Model(\n",
        "      inputs=[inputs, padding_mask], outputs=outputs, name=name)"
      ]
    },
    {
      "cell_type": "code",
      "execution_count": null,
      "id": "6f4bb256",
      "metadata": {
        "id": "6f4bb256"
      },
      "outputs": [],
      "source": [
        "def encoder(vocab_size,\n",
        "            num_layers,\n",
        "            units,\n",
        "            d_model,\n",
        "            num_heads,\n",
        "            dropout,\n",
        "            name=\"encoder\"):\n",
        "  inputs = tf.keras.Input(shape=(None,), name=\"inputs\")\n",
        "\n",
        "  padding_mask = tf.keras.Input(shape=(1, 1, None), name=\"padding_mask\")\n",
        "\n",
        "  embeddings = tf.keras.layers.Embedding(vocab_size, d_model)(inputs)\n",
        "  embeddings *= tf.math.sqrt(tf.cast(d_model, tf.float32))\n",
        "\n",
        "  embeddings = PositionalEncoding(vocab_size, d_model)(embeddings)\n",
        "\n",
        "  outputs = tf.keras.layers.Dropout(rate=dropout)(embeddings)\n",
        "\n",
        "  for i in range(num_layers):\n",
        "    outputs = encoder_layer(\n",
        "        units=units,\n",
        "        d_model=d_model,\n",
        "        num_heads=num_heads,\n",
        "        dropout=dropout,\n",
        "        name=\"encoder_layer_{}\".format(i),\n",
        "    )([outputs, padding_mask])\n",
        "\n",
        "  return tf.keras.Model(\n",
        "      inputs=[inputs, padding_mask], outputs=outputs, name=name)"
      ]
    },
    {
      "cell_type": "markdown",
      "id": "0b9513f5",
      "metadata": {
        "id": "0b9513f5"
      },
      "source": [
        "### Decoder"
      ]
    },
    {
      "cell_type": "markdown",
      "id": "66eb4bae",
      "metadata": {
        "id": "66eb4bae"
      },
      "source": [
        "디코더는 세 개의 서브 층으로 구성됩니다. 첫 번째는 셀프 어텐션, 두 번째는 인코더-디코더 어텐션, 세 번째는 피드 포워드 신경망입니다. 인코더-디코더 어텐션은 셀프 어텐션과는 달리, Query가 디코더의 벡터인 반면에 Key와 Value가 인코더의 벡터라는 특징이 있습니다. 이 부분이 인코더가 입력 문장으로부터 정보를 디코더에 전달하는 과정입니다."
      ]
    },
    {
      "cell_type": "code",
      "execution_count": null,
      "id": "01869565",
      "metadata": {
        "id": "01869565"
      },
      "outputs": [],
      "source": [
        "def decoder_layer(units, d_model, num_heads, dropout, name=\"decoder_layer\"):\n",
        "  inputs = tf.keras.Input(shape=(None, d_model), name=\"inputs\")\n",
        "  enc_outputs = tf.keras.Input(shape=(None, d_model), name=\"encoder_outputs\")\n",
        "  look_ahead_mask = tf.keras.Input(\n",
        "      shape=(1, None, None), name=\"look_ahead_mask\")\n",
        "  padding_mask = tf.keras.Input(shape=(1, 1, None), name='padding_mask')\n",
        "\n",
        "  # Multi-head attention (self-attention)\n",
        "  attention1 = MultiHeadAttention(\n",
        "      d_model, num_heads, name=\"attention_1\")(inputs={\n",
        "          'query': inputs,\n",
        "          'key': inputs,\n",
        "          'value': inputs,\n",
        "          'mask': look_ahead_mask\n",
        "      })\n",
        "\n",
        "  # The result of multi-head attention performs LayerNormalization.\n",
        "  attention1 = tf.keras.layers.LayerNormalization(\n",
        "      epsilon=1e-6)(attention1 + inputs)\n",
        "\n",
        "  # Masked Multi-head attention (encoder-decoder attention)\n",
        "  attention2 = MultiHeadAttention(\n",
        "      d_model, num_heads, name=\"attention_2\")(inputs={\n",
        "          'query': attention1,\n",
        "          'key': enc_outputs,\n",
        "          'value': enc_outputs,\n",
        "          'mask': padding_mask\n",
        "      })\n",
        "\n",
        "  # The result of Masked Multi-head attention performs Dropout and LayerNormalization.\n",
        "  attention2 = tf.keras.layers.Dropout(rate=dropout)(attention2)\n",
        "  attention2 = tf.keras.layers.LayerNormalization(\n",
        "      epsilon=1e-6)(attention2 + attention1)\n",
        "\n",
        "  # Two fully connected layers\n",
        "  outputs = tf.keras.layers.Dense(units=units, activation='relu')(attention2)\n",
        "  outputs = tf.keras.layers.Dense(units=d_model)(outputs)\n",
        "\n",
        "  # Dropout and LayerNormalization are performed on the results of the fully connected layer.\n",
        "  outputs = tf.keras.layers.Dropout(rate=dropout)(outputs)\n",
        "  outputs = tf.keras.layers.LayerNormalization(\n",
        "      epsilon=1e-6)(outputs + attention2)\n",
        "\n",
        "  return tf.keras.Model(\n",
        "      inputs=[inputs, enc_outputs, look_ahead_mask, padding_mask],\n",
        "      outputs=outputs,\n",
        "      name=name)"
      ]
    },
    {
      "cell_type": "code",
      "execution_count": null,
      "id": "97d42283",
      "metadata": {
        "id": "97d42283"
      },
      "outputs": [],
      "source": [
        "def decoder(vocab_size,\n",
        "            num_layers,\n",
        "            units,\n",
        "            d_model,\n",
        "            num_heads,\n",
        "            dropout,\n",
        "            name='decoder'):\n",
        "  inputs = tf.keras.Input(shape=(None,), name='inputs')\n",
        "  enc_outputs = tf.keras.Input(shape=(None, d_model), name='encoder_outputs')\n",
        "  look_ahead_mask = tf.keras.Input(\n",
        "      shape=(1, None, None), name='look_ahead_mask')\n",
        "\n",
        "  padding_mask = tf.keras.Input(shape=(1, 1, None), name='padding_mask')\n",
        "\n",
        "  embeddings = tf.keras.layers.Embedding(vocab_size, d_model)(inputs)\n",
        "  embeddings *= tf.math.sqrt(tf.cast(d_model, tf.float32))\n",
        "\n",
        "  embeddings = PositionalEncoding(vocab_size, d_model)(embeddings)\n",
        "\n",
        "  outputs = tf.keras.layers.Dropout(rate=dropout)(embeddings)\n",
        "\n",
        "  for i in range(num_layers):\n",
        "    outputs = decoder_layer(\n",
        "        units=units,\n",
        "        d_model=d_model,\n",
        "        num_heads=num_heads,\n",
        "        dropout=dropout,\n",
        "        name='decoder_layer_{}'.format(i),\n",
        "    )(inputs=[outputs, enc_outputs, look_ahead_mask, padding_mask])\n",
        "\n",
        "  return tf.keras.Model(\n",
        "      inputs=[inputs, enc_outputs, look_ahead_mask, padding_mask],\n",
        "      outputs=outputs,\n",
        "      name=name)"
      ]
    },
    {
      "cell_type": "markdown",
      "id": "1c525892",
      "metadata": {
        "id": "1c525892"
      },
      "source": [
        "### 챗봇의 병렬 데이터 받아오기"
      ]
    },
    {
      "cell_type": "markdown",
      "id": "4e9bdbc4",
      "metadata": {
        "id": "4e9bdbc4"
      },
      "source": [
        "[Cornell Univ. - Cornell Movie-Dialogs Corpus Dataset](https://www.cs.cornell.edu/~cristian/Cornell_Movie-Dialogs_Corpus.html)  \n",
        "[Cornell Movie-Dialogs Corpus Dataset Details](https://convokit.cornell.edu/documentation/movie.html)  \n",
        "\n",
        "**Goal**\n",
        "\n",
        "* 정해진 개수인 50,000개의 질문과 답변의 쌍을 추출한다.\n",
        "* 문장에서 단어와 구두점 사이에 공백을 추가한다.\n",
        "* 알파벳과 ! ? , . 이 4개의 구두점을 제외하고 다른 특수문자는 모두 제거한다."
      ]
    },
    {
      "cell_type": "code",
      "execution_count": null,
      "id": "1829d0a8",
      "metadata": {
        "id": "1829d0a8"
      },
      "outputs": [],
      "source": [
        "path_to_zip = tf.keras.utils.get_file(\n",
        "    'cornell_movie_dialogs.zip',\n",
        "    origin='http://www.cs.cornell.edu/~cristian/data/cornell_movie_dialogs_corpus.zip',\n",
        "    extract=True)\n",
        "\n",
        "path_to_dataset = os.path.join(\n",
        "    os.path.dirname(path_to_zip), \"cornell movie-dialogs corpus\")\n",
        "\n",
        "path_to_movie_lines = os.path.join(path_to_dataset, 'movie_lines.txt')\n",
        "path_to_movie_conversations = os.path.join(path_to_dataset, 'movie_conversations.txt')"
      ]
    },
    {
      "cell_type": "markdown",
      "id": "1cfa9177",
      "metadata": {
        "id": "1cfa9177"
      },
      "source": [
        "데이터 중에서 50000 개만 가져오도록 하고, 질문과 답변의 페어 형태로 데이터셋을 가공합니다."
      ]
    },
    {
      "cell_type": "code",
      "execution_count": null,
      "id": "f38d90d8",
      "metadata": {
        "id": "f38d90d8",
        "outputId": "265e3d17-acc7-4d89-a280-20410b515b64"
      },
      "outputs": [
        {
          "name": "stdout",
          "output_type": "stream",
          "text": [
            "50000\n"
          ]
        }
      ],
      "source": [
        "MAX_SAMPLES = 50000\n",
        "\n",
        "print(MAX_SAMPLES)"
      ]
    },
    {
      "cell_type": "code",
      "execution_count": null,
      "id": "a14fd1b7",
      "metadata": {
        "id": "a14fd1b7"
      },
      "outputs": [],
      "source": [
        "def preprocess_sentence(sentence):\n",
        "  # Q. 입력받은 sentence를 소문자로 변경하고 양쪽 공백을 제거\n",
        "  sentence = sentence.lower().strip()\n",
        "\n",
        "  sentence = re.sub(r\"([?.!,])\", r\" \\1 \", sentence)\n",
        "  sentence = re.sub(r'[\" \"]+', \" \", sentence)\n",
        "\n",
        "  # Q. (a-z, A-Z, \".\", \"?\", \"!\", \",\")를 제외한 모든 문자를 공백인 ' '로 대체합니다.\n",
        "  sentence = re.sub(r\"[^a-zA-Z?.!,]+\", \" \", sentence)\n",
        "  sentence = sentence.strip()\n",
        "  return sentence"
      ]
    },
    {
      "cell_type": "markdown",
      "id": "6fee7f17",
      "metadata": {
        "id": "6fee7f17"
      },
      "source": [
        "데이터를 로드하는 동시에 전처리 함수를 호출하여 질문과 답변의 페어를 전처리합니다."
      ]
    },
    {
      "cell_type": "code",
      "execution_count": null,
      "id": "c84a4611",
      "metadata": {
        "id": "c84a4611"
      },
      "outputs": [],
      "source": [
        "def load_conversations():\n",
        "  id2line = {}\n",
        "  with open(path_to_movie_lines, errors='ignore') as file:\n",
        "    lines = file.readlines()\n",
        "  for line in lines:\n",
        "    parts = line.replace('\\n', '').split(' +++$+++ ')\n",
        "    id2line[parts[0]] = parts[4]\n",
        "\n",
        "  inputs, outputs = [], []\n",
        "  with open(path_to_movie_conversations, 'r') as file:\n",
        "    lines = file.readlines()\n",
        "\n",
        "  for line in lines:\n",
        "    parts = line.replace('\\n', '').split(' +++$+++ ')\n",
        "    conversation = [line[1:-1] for line in parts[3][1:-1].split(', ')]\n",
        "\n",
        "    for i in range(len(conversation) - 1):\n",
        "      inputs.append(preprocess_sentence(id2line[conversation[i]]))\n",
        "      outputs.append(preprocess_sentence(id2line[conversation[i + 1]]))\n",
        "\n",
        "      if len(inputs) >= MAX_SAMPLES:\n",
        "        return inputs, outputs\n",
        "  return inputs, outputs"
      ]
    },
    {
      "cell_type": "markdown",
      "id": "6daa0310",
      "metadata": {
        "id": "6daa0310"
      },
      "source": [
        "로드한 데이터의 샘플 수를 확인해 봅시다."
      ]
    },
    {
      "cell_type": "code",
      "execution_count": null,
      "id": "3c346e1f",
      "metadata": {
        "id": "3c346e1f",
        "outputId": "4d441a64-d78e-46dc-95cc-3ec56d820677"
      },
      "outputs": [
        {
          "name": "stdout",
          "output_type": "stream",
          "text": [
            "Total Questions: 50000\n",
            "Total Answers: 50000\n"
          ]
        }
      ],
      "source": [
        "questions, answers = load_conversations()\n",
        "print('Total Questions:', len(questions))\n",
        "print('Total Answers:', len(answers))"
      ]
    },
    {
      "cell_type": "markdown",
      "id": "b551ff5f",
      "metadata": {
        "id": "b551ff5f"
      },
      "source": [
        "질문과 답변은 병렬적으로 구성되는 데이터셋이므로 두 샘플 수는 정확하게 일치해야 합니다. 둘 다 5만 개의 샘플이 저장되었습니다.  \n",
        "임의로 인덱스 21의 샘플을 출력해서 질문과 답변이 병렬적으로 잘 저장 되었는지 그리고 의도했던 전처리가 진행되었는지 확인해 봅시다."
      ]
    },
    {
      "cell_type": "code",
      "execution_count": null,
      "id": "6d621e22",
      "metadata": {
        "id": "6d621e22",
        "outputId": "4834f69e-970f-47c1-91a7-4d896503e70c"
      },
      "outputs": [
        {
          "name": "stdout",
          "output_type": "stream",
          "text": [
            "Sample question after preprocessing: she s not a . . .\n",
            "Sample answer after preprocessing: lesbian ? no . i found a picture of jared leto in one of her drawers , so i m pretty sure she s not harboring same sex tendencies .\n"
          ]
        }
      ],
      "source": [
        "print('Sample question after preprocessing: {}'.format(questions[21]))\n",
        "print('Sample answer after preprocessing: {}'.format(answers[21]))"
      ]
    },
    {
      "cell_type": "markdown",
      "id": "964f066b",
      "metadata": {
        "id": "964f066b"
      },
      "source": [
        "### 병렬 데이터 전처리하기"
      ]
    },
    {
      "cell_type": "markdown",
      "id": "8da36d9e",
      "metadata": {
        "id": "8da36d9e"
      },
      "source": [
        "**Goal**\n",
        "\n",
        "* TensorFlow Datasets SubwordTextEncoder 를 토크나이저로 사용한다.  \n",
        "* 단어보다 더 작은 단위인 Subword를 기준으로 토크나이징하고, 각 토큰을 고유한 정수로 인코딩 한다.\n",
        "* 각 문장을 토큰화하고 각 문장의 시작과 끝을 나타내는 START_TOKEN 및 END_TOKEN을 추가한다.\n",
        "* 최대 길이 MAX_LENGTH 인 40을 넘는 문장들은 필터링한다.\n",
        "* MAX_LENGTH보다 길이가 짧은 문장들은 40에 맞도록 패딩 한다.  \n",
        "\n",
        "각 단어에 고유한 정수 인덱스를 부여하기 위해 질문과 답변 데이터셋을 모두 사용하여 단어장 `Vocabulary`를 만듭니다."
      ]
    },
    {
      "cell_type": "code",
      "execution_count": null,
      "id": "8fcb410f",
      "metadata": {
        "id": "8fcb410f"
      },
      "outputs": [],
      "source": [
        "import tensorflow_datasets as tfds\n",
        "\n",
        "tokenizer = tfds.deprecated.text.SubwordTextEncoder.build_from_corpus(questions + answers, target_vocab_size=2**13)"
      ]
    },
    {
      "cell_type": "markdown",
      "id": "913e996f",
      "metadata": {
        "id": "913e996f"
      },
      "source": [
        "디코더의 문장 생성 과정에서 사용할 `시작 토큰`과 `종료 토큰`에 대해서도 임의로 단어장에 추가하여 정수를 부여합니다.  \n",
        "이미 생성된 단어장의 번호와 겹치지 않도록 각각 단어장의 크기보다 `1`이 큰 수를 번호로 부여합니다."
      ]
    },
    {
      "cell_type": "code",
      "execution_count": null,
      "id": "ce9ae57f",
      "metadata": {
        "id": "ce9ae57f"
      },
      "outputs": [],
      "source": [
        "START_TOKEN, END_TOKEN = [tokenizer.vocab_size], [tokenizer.vocab_size + 1]"
      ]
    },
    {
      "cell_type": "markdown",
      "id": "e09c782f",
      "metadata": {
        "id": "e09c782f"
      },
      "source": [
        "`시작 토큰`과 `종료 토큰`에 부여된 정수를 출력해 봅시다."
      ]
    },
    {
      "cell_type": "code",
      "execution_count": null,
      "id": "11ea7452",
      "metadata": {
        "id": "11ea7452",
        "outputId": "13528e8f-bc07-4f36-94b9-7264bc7e09ec"
      },
      "outputs": [
        {
          "name": "stdout",
          "output_type": "stream",
          "text": [
            "START_TOKEN: [8331]\n",
            "END_TOKEN: [8332]\n"
          ]
        }
      ],
      "source": [
        "print('START_TOKEN:' ,[tokenizer.vocab_size])\n",
        "print('END_TOKEN:' ,[tokenizer.vocab_size + 1])"
      ]
    },
    {
      "cell_type": "markdown",
      "id": "cd67fded",
      "metadata": {
        "id": "cd67fded"
      },
      "source": [
        "각각 `8,331`과 `8,332`라는 점에서 현재 단어장의 크기가 `8,331(0번부터 8,330번)` 임을 알 수 있습니다.  \n",
        "`시작 토근`과 `종료 토큰` 두 개의 토큰을 추가해 주었으므로 `단어장의 크기도 +2 임`을 명시해 주어야 합니다."
      ]
    },
    {
      "cell_type": "code",
      "execution_count": null,
      "id": "e59e35a4",
      "metadata": {
        "id": "e59e35a4",
        "outputId": "33045bd1-d2b8-4f59-bf5d-d71df10e5660"
      },
      "outputs": [
        {
          "name": "stdout",
          "output_type": "stream",
          "text": [
            "8333\n"
          ]
        }
      ],
      "source": [
        "VOCAB_SIZE = tokenizer.vocab_size + 2\n",
        "\n",
        "print(VOCAB_SIZE)"
      ]
    },
    {
      "cell_type": "markdown",
      "id": "74ff5969",
      "metadata": {
        "id": "74ff5969"
      },
      "source": [
        "위에서 `tensorflow_datasets`의 `SubwordTextEncoder`를 사용해서 `tokenizer`를 정의하고 Vocabulary를 만들었습니다.  \n",
        "tokenizer.encode()로 각 단어를 정수로 변환할 수 있고, tokenizer.decode()를 통해 정수 시퀀스를 단어 시퀀스로 변환할 수 있습니다.  \n",
        "22번째 샘플을 tokenizer.encode()의 입력으로 사용해서 변환 결과를 확인해 봅시다."
      ]
    },
    {
      "cell_type": "code",
      "execution_count": null,
      "id": "fd471109",
      "metadata": {
        "id": "fd471109",
        "outputId": "6e6bd15e-04dd-4ec6-9a16-a81923116c4d"
      },
      "outputs": [
        {
          "name": "stdout",
          "output_type": "stream",
          "text": [
            "Question sample after integer encoding: [60, 8, 37, 8172, 49]\n",
            "Answer sample after integer encoding: [7824, 1223, 19, 61, 2, 4, 336, 10, 1595, 14, 1104, 698, 3263, 263, 16, 71, 14, 107, 2133, 900, 3, 59, 4, 23, 355, 204, 60, 8, 37, 885, 2289, 8107, 344, 1001, 5179, 4214, 342, 1]\n"
          ]
        }
      ],
      "source": [
        "print('Question sample after integer encoding: {}'.format(tokenizer.encode(questions[21])))\n",
        "print('Answer sample after integer encoding: {}'.format(tokenizer.encode(answers[21])))"
      ]
    },
    {
      "cell_type": "markdown",
      "id": "8db52b01",
      "metadata": {
        "id": "8db52b01"
      },
      "source": [
        "각 단어에 고유한 정수가 부여된 Vocabulary를 기준으로 단어 시퀀스가 정수 시퀀스로 인코딩된 결과를 확인할 수 있습니다.  \n",
        "위의 결과와 마찬가지로 질문과 답변 페어에 대해서 전부 정수 인코딩을 수행합니다.  \n",
        "이와 동시에 문장의 최대 길이를 정하고, 해당 길이로 padding 합니다.  "
      ]
    },
    {
      "cell_type": "code",
      "execution_count": null,
      "id": "84602294",
      "metadata": {
        "id": "84602294",
        "outputId": "7d633db0-d1de-47b8-ecac-4a5c0f5f643f"
      },
      "outputs": [
        {
          "name": "stdout",
          "output_type": "stream",
          "text": [
            "40\n"
          ]
        }
      ],
      "source": [
        "# Maximum allowable length of sample or final length after padding\n",
        "\n",
        "MAX_LENGTH = 40\n",
        "\n",
        "print(MAX_LENGTH)"
      ]
    },
    {
      "cell_type": "code",
      "execution_count": null,
      "id": "33aeaaf7",
      "metadata": {
        "id": "33aeaaf7"
      },
      "outputs": [],
      "source": [
        "# Integer encoding, removing samples exceeding maximum length & padding\n",
        "def tokenize_and_filter(inputs, outputs):\n",
        "  tokenized_inputs, tokenized_outputs = [], []\n",
        "\n",
        "  for (sentence1, sentence2) in zip(inputs, outputs):\n",
        "    # Add start token and end token during integer encoding process\n",
        "    sentence1 = START_TOKEN + tokenizer.encode(sentence1) + END_TOKEN\n",
        "    sentence2 = START_TOKEN + tokenizer.encode(sentence2) + END_TOKEN\n",
        "\n",
        "    # Accepted as a dataset only if the maximum length is 40 or less.\n",
        "    if len(sentence1) <= MAX_LENGTH and len(sentence2) <= MAX_LENGTH:\n",
        "      tokenized_inputs.append(sentence1)\n",
        "      tokenized_outputs.append(sentence2)\n",
        "\n",
        "  # Padding all datasets to a maximum length of 40\n",
        "  tokenized_inputs = tf.keras.preprocessing.sequence.pad_sequences(\n",
        "      tokenized_inputs, maxlen=MAX_LENGTH, padding='post')\n",
        "  tokenized_outputs = tf.keras.preprocessing.sequence.pad_sequences(\n",
        "      tokenized_outputs, maxlen=MAX_LENGTH, padding='post')\n",
        "\n",
        "  return tokenized_inputs, tokenized_outputs"
      ]
    },
    {
      "cell_type": "markdown",
      "id": "39345153",
      "metadata": {
        "id": "39345153"
      },
      "source": [
        "정수 인코딩 과정을 수행하면서 샘플의 길이가 40을 넘는 경우는 샘플들을 필터링하였으므로 일부 샘플이 제외되었습니다.  \n",
        "단어장의 크기와 샘플의 개수를 확인해 봅시다."
      ]
    },
    {
      "cell_type": "code",
      "execution_count": null,
      "id": "c0f3ff72",
      "metadata": {
        "id": "c0f3ff72",
        "outputId": "7fda4662-c104-483c-d4dc-baa9cdbc139e"
      },
      "outputs": [
        {
          "name": "stdout",
          "output_type": "stream",
          "text": [
            "Size of Vocabulary : 8333\n",
            "Number of sample questions after filtering: 44095\n",
            "Number of sample answers after filtering: 44095\n"
          ]
        }
      ],
      "source": [
        "questions, answers = tokenize_and_filter(questions, answers)\n",
        "print('Size of Vocabulary :',(VOCAB_SIZE))\n",
        "print('Number of sample questions after filtering: {}'.format(len(questions)))\n",
        "print('Number of sample answers after filtering: {}'.format(len(answers)))"
      ]
    },
    {
      "cell_type": "markdown",
      "id": "9c722d97",
      "metadata": {
        "id": "9c722d97"
      },
      "source": [
        "질문과 답변 페어를 `tf.data.Dataset API`의 입력으로 사용하여 파이프라인을 구성합니다.    \n",
        "이 때, `Teacher Forcing`을 위해서 `answers[:, :-1]`를 디코더의 입력값, `answers[:, 1:]`를 디코더의 레이블로 사용합니다."
      ]
    },
    {
      "cell_type": "code",
      "execution_count": null,
      "id": "07559fbd",
      "metadata": {
        "id": "07559fbd"
      },
      "outputs": [],
      "source": [
        "BATCH_SIZE = 64\n",
        "BUFFER_SIZE = 20000\n",
        "\n",
        "# The decoder uses the previous target as the next input.\n",
        "# Accordingly, remove START_TOKEN from outputs.\n",
        "dataset = tf.data.Dataset.from_tensor_slices((\n",
        "    {\n",
        "        'inputs': questions,\n",
        "        'dec_inputs': answers[:, :-1]\n",
        "    },\n",
        "    {\n",
        "        'outputs': answers[:, 1:]\n",
        "    },\n",
        "))\n",
        "\n",
        "dataset = dataset.cache()\n",
        "dataset = dataset.shuffle(BUFFER_SIZE)\n",
        "dataset = dataset.batch(BATCH_SIZE)\n",
        "dataset = dataset.prefetch(tf.data.experimental.AUTOTUNE)"
      ]
    },
    {
      "cell_type": "markdown",
      "id": "516d3eb6",
      "metadata": {
        "id": "516d3eb6"
      },
      "source": [
        "### 모델 정의 및 학습하기"
      ]
    },
    {
      "cell_type": "markdown",
      "id": "3d55b74d",
      "metadata": {
        "id": "3d55b74d"
      },
      "source": [
        "앞서 사용한 인코더 층 함수와 디코더 층 함수를 사용하여 `트랜스포머 함수`를 정의합니다."
      ]
    },
    {
      "cell_type": "code",
      "execution_count": null,
      "id": "b6dd74bb",
      "metadata": {
        "id": "b6dd74bb"
      },
      "outputs": [],
      "source": [
        "def transformer(vocab_size,\n",
        "                num_layers,\n",
        "                units,\n",
        "                d_model,\n",
        "                num_heads,\n",
        "                dropout,\n",
        "                name=\"transformer\"):\n",
        "  inputs = tf.keras.Input(shape=(None,), name=\"inputs\")\n",
        "  dec_inputs = tf.keras.Input(shape=(None,), name=\"dec_inputs\")\n",
        "\n",
        "  # Mask for padding in the encoder\n",
        "  enc_padding_mask = tf.keras.layers.Lambda(\n",
        "      create_padding_mask, output_shape=(1, 1, None),\n",
        "      name='enc_padding_mask')(inputs)\n",
        "\n",
        "  # Used by the decoder to mask future tokens.\n",
        "  # A padded mask is also included internally.\n",
        "  look_ahead_mask = tf.keras.layers.Lambda(\n",
        "      create_look_ahead_mask,\n",
        "      output_shape=(1, None, None),\n",
        "      name='look_ahead_mask')(dec_inputs)\n",
        "\n",
        "  # Masking the vectors of the encoder in the second attention block\n",
        "  # Mask for padding in the decoder\n",
        "  dec_padding_mask = tf.keras.layers.Lambda(\n",
        "      create_padding_mask, output_shape=(1, 1, None),\n",
        "      name='dec_padding_mask')(inputs)\n",
        "\n",
        "  # Encoder\n",
        "  enc_outputs = encoder(\n",
        "      vocab_size=vocab_size,\n",
        "      num_layers=num_layers,\n",
        "      units=units,\n",
        "      d_model=d_model,\n",
        "      num_heads=num_heads,\n",
        "      dropout=dropout,\n",
        "  )(inputs=[inputs, enc_padding_mask])\n",
        "\n",
        "  # Decoder\n",
        "  dec_outputs = decoder(\n",
        "      vocab_size=vocab_size,\n",
        "      num_layers=num_layers,\n",
        "      units=units,\n",
        "      d_model=d_model,\n",
        "      num_heads=num_heads,\n",
        "      dropout=dropout,\n",
        "  )(inputs=[dec_inputs, enc_outputs, look_ahead_mask, dec_padding_mask])\n",
        "\n",
        "  # Fully connected layer\n",
        "  outputs = tf.keras.layers.Dense(units=vocab_size, name=\"outputs\")(dec_outputs)\n",
        "\n",
        "  return tf.keras.Model(inputs=[inputs, dec_inputs], outputs=outputs, name=name)"
      ]
    },
    {
      "cell_type": "code",
      "execution_count": null,
      "id": "ed54d25c",
      "metadata": {
        "id": "ed54d25c",
        "outputId": "43efb04b-e378-4a83-9c8c-9540becfb94b"
      },
      "outputs": [
        {
          "name": "stdout",
          "output_type": "stream",
          "text": [
            "Model: \"transformer\"\n",
            "__________________________________________________________________________________________________\n",
            "Layer (type)                    Output Shape         Param #     Connected to                     \n",
            "==================================================================================================\n",
            "inputs (InputLayer)             [(None, None)]       0                                            \n",
            "__________________________________________________________________________________________________\n",
            "dec_inputs (InputLayer)         [(None, None)]       0                                            \n",
            "__________________________________________________________________________________________________\n",
            "enc_padding_mask (Lambda)       (None, 1, 1, None)   0           inputs[0][0]                     \n",
            "__________________________________________________________________________________________________\n",
            "encoder (Functional)            (None, None, 256)    3187456     inputs[0][0]                     \n",
            "                                                                 enc_padding_mask[0][0]           \n",
            "__________________________________________________________________________________________________\n",
            "look_ahead_mask (Lambda)        (None, 1, None, None 0           dec_inputs[0][0]                 \n",
            "__________________________________________________________________________________________________\n",
            "dec_padding_mask (Lambda)       (None, 1, 1, None)   0           inputs[0][0]                     \n",
            "__________________________________________________________________________________________________\n",
            "decoder (Functional)            (None, None, 256)    3714816     dec_inputs[0][0]                 \n",
            "                                                                 encoder[0][0]                    \n",
            "                                                                 look_ahead_mask[0][0]            \n",
            "                                                                 dec_padding_mask[0][0]           \n",
            "__________________________________________________________________________________________________\n",
            "outputs (Dense)                 (None, None, 8333)   2141581     decoder[0][0]                    \n",
            "==================================================================================================\n",
            "Total params: 9,043,853\n",
            "Trainable params: 9,043,853\n",
            "Non-trainable params: 0\n",
            "__________________________________________________________________________________________________\n"
          ]
        }
      ],
      "source": [
        "tf.keras.backend.clear_session()\n",
        "\n",
        "NUM_LAYERS = 2\n",
        "D_MODEL = 256 # Fixed dimensionality of input and output inside encoder and decoder\n",
        "NUM_HEADS = 8 # Number of heads in multi-head attention\n",
        "UNITS = 512 # Size of hidden layer in feed forward neural network\n",
        "DROPOUT = 0.1\n",
        "\n",
        "model = transformer(\n",
        "    vocab_size=VOCAB_SIZE,\n",
        "    num_layers=NUM_LAYERS,\n",
        "    units=UNITS,\n",
        "    d_model=D_MODEL,\n",
        "    num_heads=NUM_HEADS,\n",
        "    dropout=DROPOUT)\n",
        "\n",
        "model.summary()"
      ]
    },
    {
      "cell_type": "markdown",
      "id": "024023d6",
      "metadata": {
        "id": "024023d6"
      },
      "source": [
        "레이블인 시퀀스에 패딩이 되어 있으므로, loss를 계산할 때 패딩 마스크를 적용합니다."
      ]
    },
    {
      "cell_type": "code",
      "execution_count": null,
      "id": "b33805b6",
      "metadata": {
        "id": "b33805b6"
      },
      "outputs": [],
      "source": [
        "def loss_function(y_true, y_pred):\n",
        "  y_true = tf.reshape(y_true, shape=(-1, MAX_LENGTH - 1))\n",
        "\n",
        "  loss = tf.keras.losses.SparseCategoricalCrossentropy(\n",
        "      from_logits=True, reduction='none')(y_true, y_pred)\n",
        "\n",
        "  mask = tf.cast(tf.not_equal(y_true, 0), tf.float32)\n",
        "  loss = tf.multiply(loss, mask)\n",
        "\n",
        "  return tf.reduce_mean(loss)"
      ]
    },
    {
      "cell_type": "markdown",
      "id": "b4643b62",
      "metadata": {
        "id": "b4643b62"
      },
      "source": [
        "딥러닝 모델학습 시 learning rate는 매우 중요한 하이퍼파라미터입니다. 최근에는 모델학습 초기에 learning rate를 급격히 높였다가, 이후 train step이 진행됨에 따라 서서히 낮추어 가면서 안정적으로 수렴하게 하는 고급 기법을 사용하고 있습니다. 이런 방법을 `Custom Learning rate Scheduling`이라고 합니다."
      ]
    },
    {
      "cell_type": "code",
      "execution_count": null,
      "id": "bef96fcd",
      "metadata": {
        "id": "bef96fcd"
      },
      "outputs": [],
      "source": [
        "class CustomSchedule(tf.keras.optimizers.schedules.LearningRateSchedule):\n",
        "\n",
        "  def __init__(self, d_model, warmup_steps=4000):\n",
        "    super(CustomSchedule, self).__init__()\n",
        "\n",
        "    self.d_model = d_model\n",
        "    self.d_model = tf.cast(self.d_model, tf.float32)\n",
        "\n",
        "    self.warmup_steps = warmup_steps\n",
        "\n",
        "  def __call__(self, step):\n",
        "    arg1 = tf.math.rsqrt(step)\n",
        "    arg2 = step * (self.warmup_steps**-1.5)\n",
        "\n",
        "    return tf.math.rsqrt(self.d_model) * tf.math.minimum(arg1, arg2)"
      ]
    },
    {
      "cell_type": "code",
      "execution_count": null,
      "id": "d7ae0194",
      "metadata": {
        "id": "d7ae0194",
        "outputId": "ea0f6ebd-4bbd-4db4-9269-6f2b6b717f93"
      },
      "outputs": [
        {
          "data": {
            "text/plain": [
              "Text(0.5, 0, 'Train Step')"
            ]
          },
          "execution_count": 35,
          "metadata": {},
          "output_type": "execute_result"
        },
        {
          "data": {
            "image/png": "[encoded data removed]",
            "text/plain": [
              "<Figure size 432x288 with 1 Axes>"
            ]
          },
          "metadata": {
            "needs_background": "light"
          },
          "output_type": "display_data"
        }
      ],
      "source": [
        "sample_learning_rate = CustomSchedule(d_model=128)\n",
        "\n",
        "plt.plot(sample_learning_rate(tf.range(200000, dtype=tf.float32)))\n",
        "plt.ylabel(\"Learning Rate\")\n",
        "plt.xlabel(\"Train Step\")"
      ]
    },
    {
      "cell_type": "markdown",
      "id": "e116f58a",
      "metadata": {
        "id": "e116f58a"
      },
      "source": [
        "손실 함수와 커스텀 된 learning rate를 사용하여 모델을 컴파일합니다."
      ]
    },
    {
      "cell_type": "code",
      "execution_count": null,
      "id": "26e830a5",
      "metadata": {
        "id": "26e830a5"
      },
      "outputs": [],
      "source": [
        "learning_rate = CustomSchedule(D_MODEL)\n",
        "\n",
        "optimizer = tf.keras.optimizers.Adam(\n",
        "    learning_rate, beta_1=0.9, beta_2=0.98, epsilon=1e-9)\n",
        "\n",
        "def accuracy(y_true, y_pred):\n",
        "  y_true = tf.reshape(y_true, shape=(-1, MAX_LENGTH - 1))\n",
        "  return tf.keras.metrics.sparse_categorical_accuracy(y_true, y_pred)\n",
        "\n",
        "model.compile(optimizer=optimizer, loss=loss_function, metrics=[accuracy])"
      ]
    },
    {
      "cell_type": "code",
      "execution_count": null,
      "id": "432b76db",
      "metadata": {
        "id": "432b76db",
        "outputId": "f746e660-2f37-4c39-9a8a-cc431a783b36"
      },
      "outputs": [
        {
          "name": "stdout",
          "output_type": "stream",
          "text": [
            "Epoch 1/10\n",
            "689/689 [==============================] - 45s 56ms/step - loss: 2.1098 - accuracy: 0.0423\n",
            "Epoch 2/10\n",
            "689/689 [==============================] - 38s 55ms/step - loss: 1.4992 - accuracy: 0.0790\n",
            "Epoch 3/10\n",
            "689/689 [==============================] - 38s 55ms/step - loss: 1.3940 - accuracy: 0.0859\n",
            "Epoch 4/10\n",
            "689/689 [==============================] - 38s 55ms/step - loss: 1.3348 - accuracy: 0.0904\n",
            "Epoch 5/10\n",
            "689/689 [==============================] - 38s 55ms/step - loss: 1.2846 - accuracy: 0.0944\n",
            "Epoch 6/10\n",
            "689/689 [==============================] - 38s 55ms/step - loss: 1.2379 - accuracy: 0.0980\n",
            "Epoch 7/10\n",
            "689/689 [==============================] - 38s 55ms/step - loss: 1.1841 - accuracy: 0.1021\n",
            "Epoch 8/10\n",
            "689/689 [==============================] - 38s 55ms/step - loss: 1.1235 - accuracy: 0.1074\n",
            "Epoch 9/10\n",
            "689/689 [==============================] - 38s 55ms/step - loss: 1.0672 - accuracy: 0.1129\n",
            "Epoch 10/10\n",
            "689/689 [==============================] - 38s 55ms/step - loss: 1.0145 - accuracy: 0.1185\n"
          ]
        },
        {
          "data": {
            "text/plain": [
              "<keras.callbacks.History at 0x7fd39971f8b0>"
            ]
          },
          "execution_count": 37,
          "metadata": {},
          "output_type": "execute_result"
        }
      ],
      "source": [
        "EPOCHS = 10\n",
        "\n",
        "model.fit(dataset, epochs=EPOCHS, verbose=1)"
      ]
    },
    {
      "cell_type": "markdown",
      "id": "6bfe679a",
      "metadata": {
        "id": "6bfe679a"
      },
      "source": [
        "### 챗봇 테스트하기"
      ]
    },
    {
      "cell_type": "markdown",
      "id": "ef6e0f0b",
      "metadata": {
        "id": "ef6e0f0b"
      },
      "source": [
        "`Inference` 단계는 기본적으로 다음과 같은 과정을 거칩니다.\n",
        "\n",
        "1. 새로운 입력 문장에 대해서는 훈련 때와 동일한 전처리를 거친다.\n",
        "2. 입력 문장을 토크나이징하고, START_TOKEN과 END_TOKEN을 추가한다.\n",
        "3. 패딩 마스킹과 룩 어헤드 마스킹을 계산한다.\n",
        "4. 디코더는 입력 시퀀스로부터 다음 단어를 예측한다.\n",
        "5. 디코더는 예측된 다음 단어를 기존의 입력 시퀀스에 추가하여 새로운 입력으로 사용한다.\n",
        "6. END_TOKEN이 예측되거나 문장의 최대 길이에 도달하면 디코더는 동작을 멈춘다.\n",
        "\n",
        "위의 과정을 모두 담은 `decoder_inference()` 함수를 만듭니다."
      ]
    },
    {
      "cell_type": "code",
      "execution_count": null,
      "id": "923c81ef",
      "metadata": {
        "id": "923c81ef"
      },
      "outputs": [],
      "source": [
        "def decoder_inference(sentence):\n",
        "  sentence = preprocess_sentence(sentence)\n",
        "\n",
        "  # After encoding the input sentence as an integer, add the start token and end token back and forth.\n",
        "  # ex) Where have you been? → [[8331   86   30    5 1059    7 8332]]\n",
        "  sentence = tf.expand_dims(\n",
        "      START_TOKEN + tokenizer.encode(sentence) + END_TOKEN, axis=0)\n",
        "\n",
        "  # A variable in which the current predicted output sequence of the decoder is persistently stored.\n",
        "  # Since there is no prediction at first, only the starting token is stored separately. ex) 8331\n",
        "  output_sequence = tf.expand_dims(START_TOKEN, 0)\n",
        "\n",
        "  # Inference stage of the decoder\n",
        "  for i in range(MAX_LENGTH):\n",
        "    # The decoder repeats next word prediction up to a length of MAX_LENGTH.\n",
        "    predictions = model(inputs=[sentence, output_sequence], training=False)\n",
        "    predictions = predictions[:, -1:, :]\n",
        "\n",
        "    # Integer of the currently predicted word\n",
        "    predicted_id = tf.cast(tf.argmax(predictions, axis=-1), tf.int32)\n",
        "\n",
        "    # If the currently predicted word is a termination token, terminate the for statement.\n",
        "    if tf.equal(predicted_id, END_TOKEN[0]):\n",
        "      break\n",
        "\n",
        "    # Predicted words are continuously added to output_sequence\n",
        "    # This output_sequence again becomes the input to the decoder.\n",
        "    output_sequence = tf.concat([output_sequence, predicted_id], axis=-1)\n",
        "\n",
        "  return tf.squeeze(output_sequence, axis=0)"
      ]
    },
    {
      "cell_type": "markdown",
      "id": "a35849d4",
      "metadata": {
        "id": "a35849d4"
      },
      "source": [
        "임의의 입력 문장에 대해서 `decoder_inference()` 함수를 호출하여 챗봇의 대답을 얻는 `sentence_generation()` 함수를 만듭니다."
      ]
    },
    {
      "cell_type": "code",
      "execution_count": null,
      "id": "f2fddb4f",
      "metadata": {
        "id": "f2fddb4f"
      },
      "outputs": [],
      "source": [
        "def sentence_generation(sentence):\n",
        "  # The decoder is operated on the input sentence and a predicted integer sequence is returned.\n",
        "  prediction = decoder_inference(sentence)\n",
        "\n",
        "  # Converts a sequence of integers back to a text sequence.\n",
        "  predicted_sentence = tokenizer.decode(\n",
        "      [i for i in prediction if i < tokenizer.vocab_size])\n",
        "\n",
        "  print('Input : {}'.format(sentence))\n",
        "  print('Output : {}'.format(predicted_sentence))\n",
        "\n",
        "  return predicted_sentence"
      ]
    },
    {
      "cell_type": "markdown",
      "id": "e034eb8b",
      "metadata": {
        "id": "e034eb8b"
      },
      "source": [
        "임의의 문장에 대한 챗봇의 대답을 확인해 볼까요?"
      ]
    },
    {
      "cell_type": "code",
      "execution_count": null,
      "id": "7072b12a",
      "metadata": {
        "id": "7072b12a",
        "outputId": "b6ae7487-da3b-454e-8f1e-fc8bb4356194"
      },
      "outputs": [
        {
          "name": "stdout",
          "output_type": "stream",
          "text": [
            "Input : Where have you been?\n",
            "Output : i m a little girl .\n"
          ]
        },
        {
          "data": {
            "text/plain": [
              "'i m a little girl .'"
            ]
          },
          "execution_count": 40,
          "metadata": {},
          "output_type": "execute_result"
        }
      ],
      "source": [
        "sentence_generation('Where have you been?')"
      ]
    },
    {
      "cell_type": "code",
      "execution_count": null,
      "id": "b005e7db",
      "metadata": {
        "id": "b005e7db",
        "outputId": "df45bb9c-e1cb-4a6e-8460-e9bb22be5696"
      },
      "outputs": [
        {
          "name": "stdout",
          "output_type": "stream",
          "text": [
            "Input : In your dreams.\n",
            "Output : you re a fucking girl !\n"
          ]
        },
        {
          "data": {
            "text/plain": [
              "'you re a fucking girl !'"
            ]
          },
          "execution_count": 41,
          "metadata": {},
          "output_type": "execute_result"
        }
      ],
      "source": [
        "sentence_generation(\"In your dreams.\")"
      ]
    },
    {
      "cell_type": "markdown",
      "id": "07482c62",
      "metadata": {
        "id": "07482c62"
      },
      "source": [
        "`you re a very dump one . `"
      ]
    }
  ],
  "metadata": {
    "kernelspec": {
      "display_name": "Python 3 (ipykernel)",
      "language": "python",
      "name": "python3"
    },
    "language_info": {
      "codemirror_mode": {
        "name": "ipython",
        "version": 3
      },
      "file_extension": ".py",
      "mimetype": "text/x-python",
      "name": "python",
      "nbconvert_exporter": "python",
      "pygments_lexer": "ipython3",
      "version": "3.9.7"
    },
    "colab": {
      "provenance": [],
      "include_colab_link": true
    }
  },
  "nbformat": 4,
  "nbformat_minor": 5
}