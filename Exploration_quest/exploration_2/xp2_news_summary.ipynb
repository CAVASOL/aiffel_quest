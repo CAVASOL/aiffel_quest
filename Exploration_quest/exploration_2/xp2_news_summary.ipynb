{
  "cells": [
    {
      "cell_type": "markdown",
      "metadata": {
        "id": "view-in-github",
        "colab_type": "text"
      },
      "source": [
        "<a href=\"https://colab.research.google.com/github/CAVASOL/aiffel_quest/blob/main/Exploration_quest/exploration_2/xp2_news_summary.ipynb\" target=\"_parent\"><img src=\"https://colab.research.google.com/assets/colab-badge.svg\" alt=\"Open In Colab\"/></a>"
      ]
    },
    {
      "cell_type": "markdown",
      "id": "0f7df4cd",
      "metadata": {
        "id": "0f7df4cd"
      },
      "source": [
        "## 4-1. 프로젝트: 뉴스기사 요약해보기\n",
        "\n",
        "**Index**\n",
        "    \n",
        "    1. Set up\n",
        "    2. 데이터 준비\n",
        "    3. 데이터 전처리 (1) 텍스트 정규화와 불용어 제거\n",
        "    4. 데이터 전처리 (2) 훈련 데이터와 테스트 데이터 분리하기\n",
        "    5. 데이터 전처리 (3) 정수 인코딩\n",
        "    6. 모델 설계 (1) 인코더와 디코더\n",
        "    7. 모델 설계 (1) 어텐션 메커니즘\n",
        "    8. 모델 훈련\n",
        "    9. 인퍼런스 모델 구현\n",
        "    10. 모델 테스트\n",
        "    11. Summa을 활용한 추출적 요약"
      ]
    },
    {
      "cell_type": "markdown",
      "id": "04750312",
      "metadata": {
        "id": "04750312"
      },
      "source": [
        "### 1. Set up"
      ]
    },
    {
      "cell_type": "code",
      "execution_count": null,
      "id": "00efd76c",
      "metadata": {
        "id": "00efd76c",
        "outputId": "9fae30bd-30ac-44f3-a1a9-7a94a828d59e"
      },
      "outputs": [
        {
          "name": "stderr",
          "output_type": "stream",
          "text": [
            "[nltk_data] Downloading package stopwords to /aiffel/nltk_data...\n",
            "[nltk_data]   Unzipping corpora/stopwords.zip.\n"
          ]
        },
        {
          "name": "stdout",
          "output_type": "stream",
          "text": [
            "NLTK version: 3.6.5\n",
            "TensorFlow version: 2.6.0\n",
            "Pandas version: 1.3.3\n",
            "Summa version: 1.2.0\n"
          ]
        }
      ],
      "source": [
        "from importlib.metadata import version\n",
        "\n",
        "import nltk\n",
        "nltk.download('stopwords')\n",
        "from nltk.corpus import stopwords\n",
        "import tensorflow\n",
        "import summa\n",
        "import pandas as pd\n",
        "\n",
        "print(\"NLTK version:\", nltk.__version__)\n",
        "print(\"TensorFlow version:\", tensorflow.__version__)\n",
        "print(\"Pandas version:\", pd.__version__)\n",
        "print(\"Summa version:\", version('summa'))"
      ]
    },
    {
      "cell_type": "markdown",
      "id": "cc140b01",
      "metadata": {
        "id": "cc140b01"
      },
      "source": [
        "### 2. 데이터 준비\n",
        "\n",
        "뉴스 기사 데이터 [news_summary_more.csv](https://github.com/sunnysai12345/News_Summary)를 사용하겠습니다."
      ]
    },
    {
      "cell_type": "code",
      "execution_count": null,
      "id": "7e92e115",
      "metadata": {
        "id": "7e92e115"
      },
      "outputs": [],
      "source": [
        "import urllib.request\n",
        "urllib.request.urlretrieve(\"https://raw.githubusercontent.com/sunnysai12345/News_Summary/master/news_summary_more.csv\", filename=\"news_summary_more.csv\")\n",
        "data = pd.read_csv('news_summary_more.csv', encoding='iso-8859-1')"
      ]
    },
    {
      "cell_type": "markdown",
      "id": "4feb2de6",
      "metadata": {
        "id": "4feb2de6"
      },
      "source": [
        "샘플을 확인해 볼까요?"
      ]
    },
    {
      "cell_type": "code",
      "execution_count": null,
      "id": "cfba6963",
      "metadata": {
        "id": "cfba6963",
        "outputId": "46080fc5-bbe5-45bb-a0d1-34be11fe4226"
      },
      "outputs": [
        {
          "data": {
            "text/html": [
              "<div>\n",
              "<style scoped>\n",
              "    .dataframe tbody tr th:only-of-type {\n",
              "        vertical-align: middle;\n",
              "    }\n",
              "\n",
              "    .dataframe tbody tr th {\n",
              "        vertical-align: top;\n",
              "    }\n",
              "\n",
              "    .dataframe thead th {\n",
              "        text-align: right;\n",
              "    }\n",
              "</style>\n",
              "<table border=\"1\" class=\"dataframe\">\n",
              "  <thead>\n",
              "    <tr style=\"text-align: right;\">\n",
              "      <th></th>\n",
              "      <th>headlines</th>\n",
              "      <th>text</th>\n",
              "    </tr>\n",
              "  </thead>\n",
              "  <tbody>\n",
              "    <tr>\n",
              "      <th>2038</th>\n",
              "      <td>She's in fridge: Hawaii man told police after ...</td>\n",
              "      <td>Yu Wei Gong from Hawaii has been sentenced to ...</td>\n",
              "    </tr>\n",
              "    <tr>\n",
              "      <th>1545</th>\n",
              "      <td>Faulkner hits 16 off last over's 1st 3 balls t...</td>\n",
              "      <td>Hobart Hurricanes' Australian cricketer James ...</td>\n",
              "    </tr>\n",
              "    <tr>\n",
              "      <th>6253</th>\n",
              "      <td>India captain Kohli pulls off a one-handed fly...</td>\n",
              "      <td>India captain Virat Kohli, while fielding at s...</td>\n",
              "    </tr>\n",
              "    <tr>\n",
              "      <th>72809</th>\n",
              "      <td>Bidhuri seals India's 1st medal at World Boxin...</td>\n",
              "      <td>Indian boxer Gaurav Bidhuri assured India its ...</td>\n",
              "    </tr>\n",
              "    <tr>\n",
              "      <th>65793</th>\n",
              "      <td>India's only scorer in FIFA World Cup not paid...</td>\n",
              "      <td>Eight Manipuri players in the India U-17 World...</td>\n",
              "    </tr>\n",
              "    <tr>\n",
              "      <th>47933</th>\n",
              "      <td>Rahul calling himself 'janeudhari' is a victor...</td>\n",
              "      <td>Uttar Pradesh CM Yogi Adityanath on Tuesday sa...</td>\n",
              "    </tr>\n",
              "    <tr>\n",
              "      <th>96680</th>\n",
              "      <td>Yepme employees allege salary delays, forced r...</td>\n",
              "      <td>A group of six Yepme employees has approached ...</td>\n",
              "    </tr>\n",
              "    <tr>\n",
              "      <th>46686</th>\n",
              "      <td>Nirav Modi's aide Vipul Ambani was aware of fr...</td>\n",
              "      <td>The CBI has said that Nirav Modi's aide Vipul ...</td>\n",
              "    </tr>\n",
              "    <tr>\n",
              "      <th>46333</th>\n",
              "      <td>Chidambaram accuses CBI, ED of harassment in S...</td>\n",
              "      <td>Accusing the CBI and the ED of harassing him a...</td>\n",
              "    </tr>\n",
              "    <tr>\n",
              "      <th>13199</th>\n",
              "      <td>Rupee rises to two-week high against dollar</td>\n",
              "      <td>The Indian rupee rose to a two-week high of 73...</td>\n",
              "    </tr>\n",
              "  </tbody>\n",
              "</table>\n",
              "</div>"
            ],
            "text/plain": [
              "                                               headlines  \\\n",
              "2038   She's in fridge: Hawaii man told police after ...   \n",
              "1545   Faulkner hits 16 off last over's 1st 3 balls t...   \n",
              "6253   India captain Kohli pulls off a one-handed fly...   \n",
              "72809  Bidhuri seals India's 1st medal at World Boxin...   \n",
              "65793  India's only scorer in FIFA World Cup not paid...   \n",
              "47933  Rahul calling himself 'janeudhari' is a victor...   \n",
              "96680  Yepme employees allege salary delays, forced r...   \n",
              "46686  Nirav Modi's aide Vipul Ambani was aware of fr...   \n",
              "46333  Chidambaram accuses CBI, ED of harassment in S...   \n",
              "13199        Rupee rises to two-week high against dollar   \n",
              "\n",
              "                                                    text  \n",
              "2038   Yu Wei Gong from Hawaii has been sentenced to ...  \n",
              "1545   Hobart Hurricanes' Australian cricketer James ...  \n",
              "6253   India captain Virat Kohli, while fielding at s...  \n",
              "72809  Indian boxer Gaurav Bidhuri assured India its ...  \n",
              "65793  Eight Manipuri players in the India U-17 World...  \n",
              "47933  Uttar Pradesh CM Yogi Adityanath on Tuesday sa...  \n",
              "96680  A group of six Yepme employees has approached ...  \n",
              "46686  The CBI has said that Nirav Modi's aide Vipul ...  \n",
              "46333  Accusing the CBI and the ED of harassing him a...  \n",
              "13199  The Indian rupee rose to a two-week high of 73...  "
            ]
          },
          "execution_count": 3,
          "metadata": {},
          "output_type": "execute_result"
        }
      ],
      "source": [
        "data.sample(10)"
      ]
    },
    {
      "cell_type": "markdown",
      "id": "7b670178",
      "metadata": {
        "id": "7b670178"
      },
      "source": [
        "본 데이터는 뉴스 기사의 본문과 제목에 해당되는 `text`와 `headlines` 두 가지 열로 구성되어 있습니다.  "
      ]
    },
    {
      "cell_type": "markdown",
      "id": "ad87845c",
      "metadata": {
        "id": "ad87845c"
      },
      "source": [
        "**중복 샘플과 NULL 값이 존재하는 샘플 제거**\n",
        "\n",
        "데이터의 중복 샘플 유무를 확인해 봅시다."
      ]
    },
    {
      "cell_type": "code",
      "execution_count": null,
      "id": "b9e4c1bd",
      "metadata": {
        "id": "b9e4c1bd",
        "outputId": "ea7a74e4-aa09-42a7-fc5a-d8d1ca8dac8e"
      },
      "outputs": [
        {
          "name": "stdout",
          "output_type": "stream",
          "text": [
            "Text 열에서 중복을 배제한 유일한 샘플의 수 : 98360\n",
            "Headlines 열에서 중복을 배제한 유일한 샘플의 수 : 98280\n"
          ]
        }
      ],
      "source": [
        "print('Text 열에서 중복을 배제한 유일한 샘플의 수 :', data['text'].nunique())\n",
        "print('Headlines 열에서 중복을 배제한 유일한 샘플의 수 :', data['headlines'].nunique())"
      ]
    },
    {
      "cell_type": "markdown",
      "id": "ec96d386",
      "metadata": {
        "id": "ec96d386"
      },
      "source": [
        "중복된 샘플를 제외하면 text에는 `98,360개`, headlines에는 `98,280개`의 유니크한 데이터가 존재합니다.  \n",
        "데이터 프레임의 `drop_duplicates()`를 사용하여 중복된 샘플을 제거하겠습니다."
      ]
    },
    {
      "cell_type": "code",
      "execution_count": null,
      "id": "4252dff5",
      "metadata": {
        "id": "4252dff5",
        "outputId": "56ba3047-b2d2-49ef-dd31-4dcdd6f590e8"
      },
      "outputs": [
        {
          "name": "stdout",
          "output_type": "stream",
          "text": [
            "전체 샘플수 : 98360\n"
          ]
        }
      ],
      "source": [
        "data.drop_duplicates(subset = ['text'], inplace=True)\n",
        "print('전체 샘플수 :', (len(data)))"
      ]
    },
    {
      "cell_type": "markdown",
      "id": "9dbad6ed",
      "metadata": {
        "id": "9dbad6ed"
      },
      "source": [
        "전체 샘플 수는 `98,360개` 입니다. 그런데 만약 데이터에 Null 값을 가지는 샘플이 있다면? `drop_duplicates()`으로 중복된 Null 값이 지워지긴 하겠지만, 여전히 어딘가에 Null값이 남아있을 수 있어요. `.isnull().sum()`을 사용하여 데이터에 Null값이 남아있는지 확인해 봅시다."
      ]
    },
    {
      "cell_type": "code",
      "execution_count": null,
      "id": "8a1ca3b2",
      "metadata": {
        "id": "8a1ca3b2",
        "outputId": "f2364ce8-8f0f-42a9-c3e7-684e175f754c"
      },
      "outputs": [
        {
          "name": "stdout",
          "output_type": "stream",
          "text": [
            "headlines    0\n",
            "text         0\n",
            "dtype: int64\n"
          ]
        }
      ],
      "source": [
        "print(data.isnull().sum())"
      ]
    },
    {
      "cell_type": "markdown",
      "id": "2ccf14ae",
      "metadata": {
        "id": "2ccf14ae"
      },
      "source": [
        "Null값이 없습니다. 따라서 전체 샘플 수는 `98,360개` 입니다."
      ]
    },
    {
      "cell_type": "markdown",
      "id": "f13d007a",
      "metadata": {
        "id": "f13d007a"
      },
      "source": [
        "### 3. 데이터 전처리 (1) 텍스트 정규화와 불용어 제거"
      ]
    },
    {
      "cell_type": "markdown",
      "id": "f8f0eb8f",
      "metadata": {
        "id": "f8f0eb8f"
      },
      "source": [
        "같은 의미인데도 다른 표현으로 쓰여 마치 다른 단어들처럼 간주되는 경우는 어떻게 처리할까요? 예를 들어서 it'll 은 it will 과 같고, mustn't 과 must not 은 사실 같은 표현이죠. 이런 경우 기계가 굳이 이들을 마치 다른 단어로 간주하게 해서 연산량을 늘리는 것보다는 기계 학습 전에 미리 같은 표현으로 정리하는 것이 기계의 연산량을 줄일 수 있습니다. 이러한 방법론을 텍스트 정규화 `text normalization` 라고 합니다."
      ]
    },
    {
      "cell_type": "code",
      "execution_count": null,
      "id": "e4909138",
      "metadata": {
        "id": "e4909138",
        "outputId": "d9d76f2e-fee1-47e7-a298-799b9eb3c200"
      },
      "outputs": [
        {
          "name": "stdout",
          "output_type": "stream",
          "text": [
            "정규화 사전의 수:  120\n"
          ]
        }
      ],
      "source": [
        "contractions = {\"ain't\": \"is not\", \"aren't\": \"are not\",\"can't\": \"cannot\", \"'cause\": \"because\", \"could've\": \"could have\", \"couldn't\": \"could not\",\n",
        "                           \"didn't\": \"did not\",  \"doesn't\": \"does not\", \"don't\": \"do not\", \"hadn't\": \"had not\", \"hasn't\": \"has not\", \"haven't\": \"have not\",\n",
        "                           \"he'd\": \"he would\",\"he'll\": \"he will\", \"he's\": \"he is\", \"how'd\": \"how did\", \"how'd'y\": \"how do you\", \"how'll\": \"how will\", \"how's\": \"how is\",\n",
        "                           \"I'd\": \"I would\", \"I'd've\": \"I would have\", \"I'll\": \"I will\", \"I'll've\": \"I will have\",\"I'm\": \"I am\", \"I've\": \"I have\", \"i'd\": \"i would\",\n",
        "                           \"i'd've\": \"i would have\", \"i'll\": \"i will\",  \"i'll've\": \"i will have\",\"i'm\": \"i am\", \"i've\": \"i have\", \"isn't\": \"is not\", \"it'd\": \"it would\",\n",
        "                           \"it'd've\": \"it would have\", \"it'll\": \"it will\", \"it'll've\": \"it will have\",\"it's\": \"it is\", \"let's\": \"let us\", \"ma'am\": \"madam\",\n",
        "                           \"mayn't\": \"may not\", \"might've\": \"might have\",\"mightn't\": \"might not\",\"mightn't've\": \"might not have\", \"must've\": \"must have\",\n",
        "                           \"mustn't\": \"must not\", \"mustn't've\": \"must not have\", \"needn't\": \"need not\", \"needn't've\": \"need not have\",\"o'clock\": \"of the clock\",\n",
        "                           \"oughtn't\": \"ought not\", \"oughtn't've\": \"ought not have\", \"shan't\": \"shall not\", \"sha'n't\": \"shall not\", \"shan't've\": \"shall not have\",\n",
        "                           \"she'd\": \"she would\", \"she'd've\": \"she would have\", \"she'll\": \"she will\", \"she'll've\": \"she will have\", \"she's\": \"she is\",\n",
        "                           \"should've\": \"should have\", \"shouldn't\": \"should not\", \"shouldn't've\": \"should not have\", \"so've\": \"so have\",\"so's\": \"so as\",\n",
        "                           \"this's\": \"this is\",\"that'd\": \"that would\", \"that'd've\": \"that would have\", \"that's\": \"that is\", \"there'd\": \"there would\",\n",
        "                           \"there'd've\": \"there would have\", \"there's\": \"there is\", \"here's\": \"here is\",\"they'd\": \"they would\", \"they'd've\": \"they would have\",\n",
        "                           \"they'll\": \"they will\", \"they'll've\": \"they will have\", \"they're\": \"they are\", \"they've\": \"they have\", \"to've\": \"to have\",\n",
        "                           \"wasn't\": \"was not\", \"we'd\": \"we would\", \"we'd've\": \"we would have\", \"we'll\": \"we will\", \"we'll've\": \"we will have\", \"we're\": \"we are\",\n",
        "                           \"we've\": \"we have\", \"weren't\": \"were not\", \"what'll\": \"what will\", \"what'll've\": \"what will have\", \"what're\": \"what are\",\n",
        "                           \"what's\": \"what is\", \"what've\": \"what have\", \"when's\": \"when is\", \"when've\": \"when have\", \"where'd\": \"where did\", \"where's\": \"where is\",\n",
        "                           \"where've\": \"where have\", \"who'll\": \"who will\", \"who'll've\": \"who will have\", \"who's\": \"who is\", \"who've\": \"who have\",\n",
        "                           \"why's\": \"why is\", \"why've\": \"why have\", \"will've\": \"will have\", \"won't\": \"will not\", \"won't've\": \"will not have\",\n",
        "                           \"would've\": \"would have\", \"wouldn't\": \"would not\", \"wouldn't've\": \"would not have\", \"y'all\": \"you all\",\n",
        "                           \"y'all'd\": \"you all would\",\"y'all'd've\": \"you all would have\",\"y'all're\": \"you all are\",\"y'all've\": \"you all have\",\n",
        "                           \"you'd\": \"you would\", \"you'd've\": \"you would have\", \"you'll\": \"you will\", \"you'll've\": \"you will have\",\n",
        "                           \"you're\": \"you are\", \"you've\": \"you have\"}\n",
        "\n",
        "print(\"정규화 사전의 수: \", len(contractions))"
      ]
    },
    {
      "cell_type": "markdown",
      "id": "f04af9b8",
      "metadata": {
        "id": "f04af9b8"
      },
      "source": [
        "일반적으로 텍스트에는 자주 등장하지만 자연어 처리를 할 때 실질적으로 별 도움이 되지 않는 단어들이 존재합니다. 이를 불용어 `stopwords` 라고 합니다. 때로는 불용어를 제거하는 것이 자연어 처리의 성능을 높이는 방법일 수 있습니다. NLTK에서 제공하는 불용어 리스트를 참조해 샘플에서 불용어를 제거하겠습니다."
      ]
    },
    {
      "cell_type": "code",
      "execution_count": null,
      "id": "e2140bb4",
      "metadata": {
        "id": "e2140bb4",
        "outputId": "ba356718-c682-482b-eda0-4caccaa8cabc"
      },
      "outputs": [
        {
          "name": "stdout",
          "output_type": "stream",
          "text": [
            "불용어 개수 : 179\n",
            "['i', 'me', 'my', 'myself', 'we', 'our', 'ours', 'ourselves', 'you', \"you're\", \"you've\", \"you'll\", \"you'd\", 'your', 'yours', 'yourself', 'yourselves', 'he', 'him', 'his', 'himself', 'she', \"she's\", 'her', 'hers', 'herself', 'it', \"it's\", 'its', 'itself', 'they', 'them', 'their', 'theirs', 'themselves', 'what', 'which', 'who', 'whom', 'this', 'that', \"that'll\", 'these', 'those', 'am', 'is', 'are', 'was', 'were', 'be', 'been', 'being', 'have', 'has', 'had', 'having', 'do', 'does', 'did', 'doing', 'a', 'an', 'the', 'and', 'but', 'if', 'or', 'because', 'as', 'until', 'while', 'of', 'at', 'by', 'for', 'with', 'about', 'against', 'between', 'into', 'through', 'during', 'before', 'after', 'above', 'below', 'to', 'from', 'up', 'down', 'in', 'out', 'on', 'off', 'over', 'under', 'again', 'further', 'then', 'once', 'here', 'there', 'when', 'where', 'why', 'how', 'all', 'any', 'both', 'each', 'few', 'more', 'most', 'other', 'some', 'such', 'no', 'nor', 'not', 'only', 'own', 'same', 'so', 'than', 'too', 'very', 's', 't', 'can', 'will', 'just', 'don', \"don't\", 'should', \"should've\", 'now', 'd', 'll', 'm', 'o', 're', 've', 'y', 'ain', 'aren', \"aren't\", 'couldn', \"couldn't\", 'didn', \"didn't\", 'doesn', \"doesn't\", 'hadn', \"hadn't\", 'hasn', \"hasn't\", 'haven', \"haven't\", 'isn', \"isn't\", 'ma', 'mightn', \"mightn't\", 'mustn', \"mustn't\", 'needn', \"needn't\", 'shan', \"shan't\", 'shouldn', \"shouldn't\", 'wasn', \"wasn't\", 'weren', \"weren't\", 'won', \"won't\", 'wouldn', \"wouldn't\"]\n"
          ]
        }
      ],
      "source": [
        "print('불용어 개수 :', len(stopwords.words('english') ))\n",
        "print(stopwords.words('english'))"
      ]
    },
    {
      "cell_type": "markdown",
      "id": "976f97a1",
      "metadata": {
        "id": "976f97a1"
      },
      "source": [
        "NLTK에서 미리 정의하여 제공하고 있는 불용어는 총 `179개` 입니다. 이를 사용하여 불용어를 제거하겠습니다. 이 작업 외에도 모든 `영어 문자는 소문자로` 만들고, 섞여 있는 `html 태그를 제거`하고, 정규 표현식을 통해 각종 `특수문자를 제거`해서 필요한 내용만 학습할 수 있도록 처리하겠습니다. NLTK를 이용해 불용어를 제거하는 파트가 있는데 이는 Text 전처리 시에서만 호출하고, 이미 상대적으로 문장 길이가 짧은 Summary 전처리할 때는 호출하지 않을 거에요. 추상적인 문장 요약 결과문이 자연스러운 문장이 되려면 이 불용어들이 `text`에는 남아 있는 게 더 좋습니다. 이를 위해서 `remove_stopwords`와 `if`문을 추가하겠습니다."
      ]
    },
    {
      "cell_type": "code",
      "execution_count": null,
      "id": "31272800",
      "metadata": {
        "id": "31272800",
        "outputId": "9f972fed-6cf4-422e-b8f1-e98fedaba245"
      },
      "outputs": [
        {
          "name": "stdout",
          "output_type": "stream",
          "text": [
            "Gotcha\n"
          ]
        }
      ],
      "source": [
        "# 데이터 전처리 함수\n",
        "\n",
        "def preprocess_sentence(sentence, remove_stopwords=True):\n",
        "    sentence = sentence.lower()\n",
        "    sentence = BeautifulSoup(sentence, \"lxml\").text\n",
        "    sentence = re.sub(r'\\([^)]*\\)', '', sentence)\n",
        "    sentence = re.sub('\"','', sentence)\n",
        "    sentence = ' '.join([contractions[t] if t in contractions else t for t in sentence.split(\" \")])\n",
        "    sentence = re.sub(r\"'s\\b\",\"\", sentence)\n",
        "    sentence = re.sub(\"[^a-zA-Z]\", \" \", sentence)\n",
        "    sentence = re.sub('[m]{2,}', 'mm', sentence)\n",
        "\n",
        "    # 불용어 제거 (Text)\n",
        "    if remove_stopwords:\n",
        "        tokens = ' '.join(word for word in sentence.split() if not word in stopwords.words('english') if len(word) > 1)\n",
        "    # 불용어 미제거 (Summary)\n",
        "    else:\n",
        "        tokens = ' '.join(word for word in sentence.split() if len(word) > 1)\n",
        "    return tokens\n",
        "\n",
        "print(\"Gotcha\")"
      ]
    },
    {
      "cell_type": "markdown",
      "id": "235eb976",
      "metadata": {
        "id": "235eb976"
      },
      "source": [
        "전처리 전후의 결과를 확인하기 위해서 임의의 text와 headline을 만들어 함수를 호출해 볼까요?"
      ]
    },
    {
      "cell_type": "code",
      "execution_count": null,
      "id": "45cb7617",
      "metadata": {
        "id": "45cb7617",
        "outputId": "b5a4cae5-dcac-4edc-8d6b-b06d309c69bb"
      },
      "outputs": [
        {
          "name": "stdout",
          "output_type": "stream",
          "text": [
            "text: everything bought great infact ordered twice third ordered wasfor mother father\n",
            "headline: great way to start new day\n"
          ]
        }
      ],
      "source": [
        "import re\n",
        "from bs4 import BeautifulSoup\n",
        "\n",
        "temp_text = 'Everything I bought was great, infact I ordered twice and the third ordered was<br />for my mother and father.'\n",
        "temp_headline = 'Great way to start new day'\n",
        "\n",
        "print(\"text:\", preprocess_sentence(temp_text))\n",
        "print(\"headline:\", preprocess_sentence(temp_headline, False))"
      ]
    },
    {
      "cell_type": "code",
      "execution_count": null,
      "id": "9c457ac9",
      "metadata": {
        "id": "9c457ac9",
        "outputId": "3f2f3648-f051-4485-ce0f-d20a464f2767"
      },
      "outputs": [
        {
          "name": "stdout",
          "output_type": "stream",
          "text": [
            "text 전처리 후 결과:  ['saurav kant alumnus upgrad iiit pg program machine learning artificial intelligence sr systems engineer infosys almost years work experience program upgrad degree career support helped transition data scientist tech mahindra salary hike upgrad online power learning powered lakh careers', 'kunal shah credit card bill payment platform cred gave users chance win free food swiggy one year pranav kaushik delhi techie bagged reward spending cred coins users get one cred coin per rupee bill paid used avail rewards brands like ixigo bookmyshow ubereats cult fit', 'new zealand defeated india wickets fourth odi hamilton thursday win first match five match odi series india lost international match rohit sharma captaincy consecutive victories dating back march match witnessed india getting seventh lowest total odi cricket history', 'aegon life iterm insurance plan customers enjoy tax benefits premiums paid save taxes plan provides life cover age years also customers options insure critical illnesses disability accidental death benefit rider life cover age years', 'speaking sexual harassment allegations rajkumar hirani sonam kapoor said known hirani many years true metoo movement get derailed metoo movement always believe woman case need reserve judgment added hirani accused assistant worked sanju']\n"
          ]
        }
      ],
      "source": [
        "# text 데이터 전처리\n",
        "\n",
        "clean_text = []\n",
        "\n",
        "for text in data['text']:\n",
        "    clean_text.append(preprocess_sentence(text))\n",
        "\n",
        "# 전처리 후 출력\n",
        "print(\"text 전처리 후 결과: \", clean_text[:5])"
      ]
    },
    {
      "cell_type": "code",
      "execution_count": null,
      "id": "a1b57a58",
      "metadata": {
        "id": "a1b57a58",
        "outputId": "524d02de-17dd-4c00-e3fd-867c78b1c835"
      },
      "outputs": [
        {
          "name": "stdout",
          "output_type": "stream",
          "text": [
            "headlines 전처리 후 결과:  ['upgrad learner switches to career in ml al with salary hike', 'delhi techie wins free food from swiggy for one year on cred', 'new zealand end rohit sharma led india match winning streak', 'aegon life iterm insurance plan helps customers save tax', 'have known hirani for yrs what if metoo claims are not true sonam']\n"
          ]
        }
      ],
      "source": [
        "# headlines 데이터 전처리\n",
        "\n",
        "clean_headlines = []\n",
        "\n",
        "for headline in data['headlines']:\n",
        "    clean_headlines.append(preprocess_sentence(headline, False))\n",
        "\n",
        "# 전처리 후 출력\n",
        "print(\"headlines 전처리 후 결과: \", clean_headlines[:5])"
      ]
    },
    {
      "cell_type": "markdown",
      "id": "1fe5230c",
      "metadata": {
        "id": "1fe5230c"
      },
      "source": [
        "이렇게 텍스트 정제의 과정을 거친 후에는 다시 한번 빈 샘플이 생겼는지 확인하는 것이 좋습니다. 정제 전에는 데이터가 존재했지만, 정제 과정에서 문장의 모든 단어가 사라지는 경우가 있을 수 있어요. 이렇게 되면 샘플 자체가 빈값을 가지게 되겠죠? 데이터들을 쉽게 확인하기 위해 데이터 프레임에 다시 저장하겠습니다. 빈값을 가진 샘플들이 있다면 모두 Null 값을 가진 샘플로 대체하겠습니다."
      ]
    },
    {
      "cell_type": "code",
      "execution_count": null,
      "id": "a8a680f0",
      "metadata": {
        "id": "a8a680f0",
        "outputId": "288f452d-89a6-43f7-da1b-6d3ff32fb0cc"
      },
      "outputs": [
        {
          "name": "stdout",
          "output_type": "stream",
          "text": [
            "Yar\n"
          ]
        }
      ],
      "source": [
        "import numpy as np\n",
        "\n",
        "data['text'] = clean_text\n",
        "data['headlines'] = clean_headlines\n",
        "\n",
        "# 빈 값을 Null 값으로 변환\n",
        "data.replace('', np.nan, inplace = True)\n",
        "\n",
        "print(\"Yar\")"
      ]
    },
    {
      "cell_type": "markdown",
      "id": "ae3054fc",
      "metadata": {
        "id": "ae3054fc"
      },
      "source": [
        "`.isnull().sum()`을 사용해서 Null값이 생겼는지 확인해 봅시다."
      ]
    },
    {
      "cell_type": "code",
      "execution_count": null,
      "id": "e7f44eaa",
      "metadata": {
        "id": "e7f44eaa",
        "outputId": "493b62ca-d8e6-471f-8a35-d52a9400cb9a"
      },
      "outputs": [
        {
          "data": {
            "text/plain": [
              "headlines    0\n",
              "text         0\n",
              "dtype: int64"
            ]
          },
          "execution_count": 14,
          "metadata": {},
          "output_type": "execute_result"
        }
      ],
      "source": [
        "data.isnull().sum()"
      ]
    },
    {
      "cell_type": "markdown",
      "id": "d91920e7",
      "metadata": {
        "id": "d91920e7"
      },
      "source": [
        "데이터가 잘 정리되었습니다. 다음으로 가봅시다!"
      ]
    },
    {
      "cell_type": "markdown",
      "id": "dd034f05",
      "metadata": {
        "id": "dd034f05"
      },
      "source": [
        "### 4. 데이터 전처리 (2) 훈련 데이터와 테스트 데이터 분리하기"
      ]
    },
    {
      "cell_type": "markdown",
      "id": "6be4b074",
      "metadata": {
        "id": "6be4b074"
      },
      "source": [
        "**샘플의 최대 길이 정하기**\n",
        "\n",
        "원본 데이터에서 필요 없는 단어를 모두 정리했습니다. 이제 훈련에 사용할 샘플의 최대 길이를 임의로 정하겠습니다.  \n",
        "`text`와 `headlines`의 최소 / 최대 / 평균 길이를 구하고, 길이의 분포를 시각화하여 확인해 봅시다."
      ]
    },
    {
      "cell_type": "code",
      "execution_count": null,
      "id": "c587a8bc",
      "metadata": {
        "id": "c587a8bc",
        "outputId": "c2e3d9ad-5001-4a52-d21b-706d6a72e5c5"
      },
      "outputs": [
        {
          "name": "stdout",
          "output_type": "stream",
          "text": [
            "text 최소 길이 : 1\n",
            "text 최대 길이 : 60\n",
            "text 평균 길이 : 35.09968483123221\n",
            "headlines 최소 길이 : 1\n",
            "headlines 최대 길이 : 16\n",
            "headlines 평균 길이 : 9.299532330215534\n"
          ]
        },
        {
          "data": {
            "image/png": "[encoded data removed]",
            "text/plain": [
              "<Figure size 432x288 with 2 Axes>"
            ]
          },
          "metadata": {
            "needs_background": "light"
          },
          "output_type": "display_data"
        },
        {
          "data": {
            "image/png": "[encoded data removed]",
            "text/plain": [
              "<Figure size 432x288 with 1 Axes>"
            ]
          },
          "metadata": {
            "needs_background": "light"
          },
          "output_type": "display_data"
        },
        {
          "data": {
            "image/png": "[encoded data removed]",
            "text/plain": [
              "<Figure size 432x288 with 1 Axes>"
            ]
          },
          "metadata": {
            "needs_background": "light"
          },
          "output_type": "display_data"
        }
      ],
      "source": [
        "# 길이 분포 출력\n",
        "\n",
        "import matplotlib.pyplot as plt\n",
        "\n",
        "text_len = [len(s.split()) for s in data['text']]\n",
        "summary_len = [len(s.split()) for s in data['headlines']]\n",
        "\n",
        "print('text 최소 길이 : {}'.format(np.min(text_len)))\n",
        "print('text 최대 길이 : {}'.format(np.max(text_len)))\n",
        "print('text 평균 길이 : {}'.format(np.mean(text_len)))\n",
        "print('headlines 최소 길이 : {}'.format(np.min(summary_len)))\n",
        "print('headlines 최대 길이 : {}'.format(np.max(summary_len)))\n",
        "print('headlines 평균 길이 : {}'.format(np.mean(summary_len)))\n",
        "\n",
        "plt.subplot(1,2,1)\n",
        "plt.boxplot(text_len)\n",
        "plt.title('text')\n",
        "plt.subplot(1,2,2)\n",
        "plt.boxplot(summary_len)\n",
        "plt.title('headlines')\n",
        "plt.tight_layout()\n",
        "plt.show()\n",
        "\n",
        "plt.title('text')\n",
        "plt.hist(text_len, bins = 40)\n",
        "plt.xlabel('length of samples')\n",
        "plt.ylabel('number of samples')\n",
        "plt.show()\n",
        "\n",
        "plt.title('headlines')\n",
        "plt.hist(summary_len, bins = 40)\n",
        "plt.xlabel('length of samples')\n",
        "plt.ylabel('number of samples')\n",
        "plt.show()"
      ]
    },
    {
      "cell_type": "markdown",
      "id": "f5617ec9",
      "metadata": {
        "id": "f5617ec9"
      },
      "source": [
        "위에서부터 차례대로 그래프는 각각 `실제 텍스트와 제목의 길이 분포`, `실제 텍스트 샘플 길이 별 개수`, `제목 샘플 길이 별 개수`를 나타내고 있어요.\n",
        "\n",
        "text의 경우 최소 길이가 1, 최대 길이가 60입니다. 평균 길이는 35로 시각화 된 그래프로 봤을 때 대체적으로는 25에서 35 사이의 길이임을 확인할 수 있습니다. headlines의 경우, 최소 길이가 1, 최대 길이가 16, 그리고 평균 길이가 9로 text에 비해 상대적으로 길이가 짧습니다. 그래프로 봤을 때에도 대체적으로 13 이하의 길이를 가지고 있네요. 이 결과를 바탕으로 text의 최대 길이와 headlines의 적절한 최대 길이를 아래와 같이 임의로 정하겠습니다."
      ]
    },
    {
      "cell_type": "code",
      "execution_count": null,
      "id": "d53b1930",
      "metadata": {
        "id": "d53b1930",
        "outputId": "f093c9dd-c7bb-4c70-a4c3-91477bbdcdff"
      },
      "outputs": [
        {
          "name": "stdout",
          "output_type": "stream",
          "text": [
            "Yar\n"
          ]
        }
      ],
      "source": [
        "text_max_len = 40\n",
        "headlines_max_len = 15\n",
        "\n",
        "print(\"Yar\")"
      ]
    },
    {
      "cell_type": "markdown",
      "id": "281e4a9a",
      "metadata": {
        "id": "281e4a9a"
      },
      "source": [
        "각각 `40`과 `15`로 정했는데 이 길이를 선택했을 때, 얼마나 많은 샘플들을 자르지 않고 포함할 수 있는지 통계로 확인하면 객관적으로 길이를 결정하는 데 도움이 될 거예요.  \n",
        "훈련 데이터와 샘플의 길이를 입력하면 데이터의 몇 %가 해당하는지 계산하는 함수를 만들어서 좀 더 정확하게 판단해 봅시다."
      ]
    },
    {
      "cell_type": "code",
      "execution_count": null,
      "id": "6f732af2",
      "metadata": {
        "id": "6f732af2",
        "outputId": "657b4864-4762-40fb-a9f5-b35467be19f1"
      },
      "outputs": [
        {
          "name": "stdout",
          "output_type": "stream",
          "text": [
            "Yar\n"
          ]
        }
      ],
      "source": [
        "def below_threshold_len(max_len, nested_list):\n",
        "  cnt = 0\n",
        "  for s in nested_list:\n",
        "    if(len(s.split()) <= max_len):\n",
        "        cnt = cnt + 1\n",
        "  print('전체 샘플 중 길이가 %s 이하인 샘플의 비율: %s'%(max_len, (cnt / len(nested_list))))\n",
        "\n",
        "print(\"Yar\")"
      ]
    },
    {
      "cell_type": "markdown",
      "id": "ce752a62",
      "metadata": {
        "id": "ce752a62"
      },
      "source": [
        "이렇게 만든 함수를 `text`와 `headlines`에 적용해 우리가 결정한 임의의 길이가 몇 %의 샘플까지 포함하는지 확인해 봅시다."
      ]
    },
    {
      "cell_type": "code",
      "execution_count": null,
      "id": "e82e40b7",
      "metadata": {
        "id": "e82e40b7",
        "outputId": "3e0c2b84-49e4-4652-fbb1-c899e66f5087"
      },
      "outputs": [
        {
          "name": "stdout",
          "output_type": "stream",
          "text": [
            "전체 샘플 중 길이가 40 이하인 샘플의 비율: 0.9238714924766165\n",
            "전체 샘플 중 길이가 15 이하인 샘플의 비율: 0.9999694997966653\n"
          ]
        }
      ],
      "source": [
        "below_threshold_len(text_max_len, data['text'])\n",
        "below_threshold_len(headlines_max_len,  data['headlines'])"
      ]
    },
    {
      "cell_type": "markdown",
      "id": "48152704",
      "metadata": {
        "id": "48152704"
      },
      "source": [
        "각각 40과 15로 패딩을 하게 되면 해당 길이보다 긴 샘플들은 내용이 잘리게 되는데, text 열의 경우에는 약 8%의 샘플들의 내용이 망가질 수 있습니다.  \n",
        "정해진 길이에 샘플 데이터를 맞춰 자르는 않고, 정해진 길이보다 길면 제외하는 방법으로 데이터를 정제하겠습니다."
      ]
    },
    {
      "cell_type": "code",
      "execution_count": null,
      "id": "2466af62",
      "metadata": {
        "id": "2466af62",
        "outputId": "c5c1047f-6c1a-4b7c-868f-d5216b0444d4"
      },
      "outputs": [
        {
          "name": "stdout",
          "output_type": "stream",
          "text": [
            "전체 샘플수 (최대 길이 이하): 90869\n"
          ]
        }
      ],
      "source": [
        "# apply 함수와 lamda식을 사용하여 text와 headlines을 담고 있는 data 데이터 프레임을\n",
        "# 위에서 임의로 정의한 text_max_len과 headlines_max_len의 길이보다 큰 샘플을 제외\n",
        "\n",
        "text_max_len = 40\n",
        "headlines_max_len = 15\n",
        "\n",
        "data = data[data.apply(lambda x: len(x['text'].split()) <= text_max_len and len(x['headlines'].split()) <= headlines_max_len, axis = 1)]\n",
        "\n",
        "print('전체 샘플수 (최대 길이 이하):', len(data))"
      ]
    },
    {
      "cell_type": "markdown",
      "id": "b560de6a",
      "metadata": {
        "id": "b560de6a"
      },
      "source": [
        "**시작 토큰과 종료 토큰 추가하기**\n",
        "\n",
        "`seq2seq` 훈련을 위해서는 디코더의 입력과 레이블에 `시작 토큰`과 `종료 토큰`을 추가해야 합니다. 시작 토큰은 `sostoken`, 종료 토큰은 `eostoken` 이라 임의로 명명하고 앞뒤로 추가하겠습니다. 디코더의 입력에 해당하면서 시작 토큰이 맨 앞에 있는 문장의 이름을 `decoder_input`, 디코더의 출력 또는 레이블에 해당되면서 종료 토큰이 맨 뒤에 붙는 문장의 이름을 `decoder_target` 이라고 정하겠습니다. 두 개의 문장 모두 `headlines` 열로부터 만들 거예요."
      ]
    },
    {
      "cell_type": "code",
      "execution_count": null,
      "id": "06c06648",
      "metadata": {
        "id": "06c06648",
        "outputId": "c849144b-7a0b-4fc2-83c2-cd28880948fb"
      },
      "outputs": [
        {
          "data": {
            "text/html": [
              "<div>\n",
              "<style scoped>\n",
              "    .dataframe tbody tr th:only-of-type {\n",
              "        vertical-align: middle;\n",
              "    }\n",
              "\n",
              "    .dataframe tbody tr th {\n",
              "        vertical-align: top;\n",
              "    }\n",
              "\n",
              "    .dataframe thead th {\n",
              "        text-align: right;\n",
              "    }\n",
              "</style>\n",
              "<table border=\"1\" class=\"dataframe\">\n",
              "  <thead>\n",
              "    <tr style=\"text-align: right;\">\n",
              "      <th></th>\n",
              "      <th>headlines</th>\n",
              "      <th>text</th>\n",
              "      <th>decoder_input</th>\n",
              "      <th>decoder_target</th>\n",
              "    </tr>\n",
              "  </thead>\n",
              "  <tbody>\n",
              "    <tr>\n",
              "      <th>0</th>\n",
              "      <td>upgrad learner switches to career in ml al wit...</td>\n",
              "      <td>saurav kant alumnus upgrad iiit pg program mac...</td>\n",
              "      <td>sostoken upgrad learner switches to career in ...</td>\n",
              "      <td>upgrad learner switches to career in ml al wit...</td>\n",
              "    </tr>\n",
              "    <tr>\n",
              "      <th>2</th>\n",
              "      <td>new zealand end rohit sharma led india match w...</td>\n",
              "      <td>new zealand defeated india wickets fourth odi ...</td>\n",
              "      <td>sostoken new zealand end rohit sharma led indi...</td>\n",
              "      <td>new zealand end rohit sharma led india match w...</td>\n",
              "    </tr>\n",
              "    <tr>\n",
              "      <th>3</th>\n",
              "      <td>aegon life iterm insurance plan helps customer...</td>\n",
              "      <td>aegon life iterm insurance plan customers enjo...</td>\n",
              "      <td>sostoken aegon life iterm insurance plan helps...</td>\n",
              "      <td>aegon life iterm insurance plan helps customer...</td>\n",
              "    </tr>\n",
              "    <tr>\n",
              "      <th>4</th>\n",
              "      <td>have known hirani for yrs what if metoo claims...</td>\n",
              "      <td>speaking sexual harassment allegations rajkuma...</td>\n",
              "      <td>sostoken have known hirani for yrs what if met...</td>\n",
              "      <td>have known hirani for yrs what if metoo claims...</td>\n",
              "    </tr>\n",
              "    <tr>\n",
              "      <th>5</th>\n",
              "      <td>rahat fateh ali khan denies getting notice for...</td>\n",
              "      <td>pakistani singer rahat fateh ali khan denied r...</td>\n",
              "      <td>sostoken rahat fateh ali khan denies getting n...</td>\n",
              "      <td>rahat fateh ali khan denies getting notice for...</td>\n",
              "    </tr>\n",
              "  </tbody>\n",
              "</table>\n",
              "</div>"
            ],
            "text/plain": [
              "                                           headlines  \\\n",
              "0  upgrad learner switches to career in ml al wit...   \n",
              "2  new zealand end rohit sharma led india match w...   \n",
              "3  aegon life iterm insurance plan helps customer...   \n",
              "4  have known hirani for yrs what if metoo claims...   \n",
              "5  rahat fateh ali khan denies getting notice for...   \n",
              "\n",
              "                                                text  \\\n",
              "0  saurav kant alumnus upgrad iiit pg program mac...   \n",
              "2  new zealand defeated india wickets fourth odi ...   \n",
              "3  aegon life iterm insurance plan customers enjo...   \n",
              "4  speaking sexual harassment allegations rajkuma...   \n",
              "5  pakistani singer rahat fateh ali khan denied r...   \n",
              "\n",
              "                                       decoder_input  \\\n",
              "0  sostoken upgrad learner switches to career in ...   \n",
              "2  sostoken new zealand end rohit sharma led indi...   \n",
              "3  sostoken aegon life iterm insurance plan helps...   \n",
              "4  sostoken have known hirani for yrs what if met...   \n",
              "5  sostoken rahat fateh ali khan denies getting n...   \n",
              "\n",
              "                                      decoder_target  \n",
              "0  upgrad learner switches to career in ml al wit...  \n",
              "2  new zealand end rohit sharma led india match w...  \n",
              "3  aegon life iterm insurance plan helps customer...  \n",
              "4  have known hirani for yrs what if metoo claims...  \n",
              "5  rahat fateh ali khan denies getting notice for...  "
            ]
          },
          "execution_count": 20,
          "metadata": {},
          "output_type": "execute_result"
        }
      ],
      "source": [
        "# headlines 데이터에 시작 토큰과 종료 토큰 추가\n",
        "\n",
        "data['decoder_input'] = data['headlines'].apply(lambda x : 'sostoken '+ x)\n",
        "data['decoder_target'] = data['headlines'].apply(lambda x : x + ' eostoken')\n",
        "data.head()"
      ]
    },
    {
      "cell_type": "markdown",
      "id": "684799a0",
      "metadata": {
        "id": "684799a0"
      },
      "source": [
        "앞뒤로 토큰이 잘 추가되었습니다. 인코더의 입력, 디코더의 입력과 레이블을 각각 다시 `Numpy` 타입으로 저장하겠습니다."
      ]
    },
    {
      "cell_type": "code",
      "execution_count": null,
      "id": "d2554637",
      "metadata": {
        "id": "d2554637"
      },
      "outputs": [],
      "source": [
        "encoder_input = np.array(data['text'])\n",
        "decoder_input = np.array(data['decoder_input'])\n",
        "decoder_target = np.array(data['decoder_target'])"
      ]
    },
    {
      "cell_type": "markdown",
      "id": "51a957e6",
      "metadata": {
        "id": "51a957e6"
      },
      "source": [
        "이제 훈련 데이터와 테스트 데이터를 분리하겠습니다. 우선, encoder_input과 크기와 형태는 같지만 순서가 섞인 `정수 시퀀스`를 만들어 봅시다."
      ]
    },
    {
      "cell_type": "code",
      "execution_count": null,
      "id": "908896f0",
      "metadata": {
        "id": "908896f0",
        "outputId": "6a91b28e-328f-4ab9-d351-77612a2c88ef"
      },
      "outputs": [
        {
          "name": "stdout",
          "output_type": "stream",
          "text": [
            "[54424 16007 72018 ... 84224 14835 13824]\n"
          ]
        }
      ],
      "source": [
        "indices = np.arange(encoder_input.shape[0])\n",
        "np.random.shuffle(indices)\n",
        "print(indices)"
      ]
    },
    {
      "cell_type": "markdown",
      "id": "69fa63bf",
      "metadata": {
        "id": "69fa63bf"
      },
      "source": [
        "이 정수 시퀀스를 이용해 다시 데이터의 샘플 순서를 정의해 주면 잘 섞인 샘플이 되겠죠?"
      ]
    },
    {
      "cell_type": "code",
      "execution_count": null,
      "id": "95e5c0fa",
      "metadata": {
        "id": "95e5c0fa"
      },
      "outputs": [],
      "source": [
        "encoder_input = encoder_input[indices]\n",
        "decoder_input = decoder_input[indices]\n",
        "decoder_target = decoder_target[indices]"
      ]
    },
    {
      "cell_type": "markdown",
      "id": "66ad893b",
      "metadata": {
        "id": "66ad893b"
      },
      "source": [
        "이렇게 섞인 데이터를 `8:2의 비율`로 훈련 데이터와 테스트 데이터로 분리하겠습니다. 전체 데이터의 크기에서 0.2를 곱해서 테스트 데이터의 크기를 정의해 봅시다."
      ]
    },
    {
      "cell_type": "code",
      "execution_count": null,
      "id": "fecc4e68",
      "metadata": {
        "id": "fecc4e68",
        "outputId": "70afe699-a436-4c22-ea22-4f5225458692"
      },
      "outputs": [
        {
          "name": "stdout",
          "output_type": "stream",
          "text": [
            "테스트 데이터의 수 : 18173\n"
          ]
        }
      ],
      "source": [
        "n_of_val = int(len(encoder_input)*0.2)\n",
        "print('테스트 데이터의 수 :', n_of_val)"
      ]
    },
    {
      "cell_type": "markdown",
      "id": "60b3f73c",
      "metadata": {
        "id": "60b3f73c"
      },
      "source": [
        "이렇게 정의한 테스트 데이터의 개수를 이용해 전체 데이터를 양분하겠습니다."
      ]
    },
    {
      "cell_type": "code",
      "execution_count": null,
      "id": "2b13b47d",
      "metadata": {
        "id": "2b13b47d",
        "outputId": "4a9e9a3e-9718-4d4a-8fb3-a8e60a706bd0"
      },
      "outputs": [
        {
          "name": "stdout",
          "output_type": "stream",
          "text": [
            "훈련 데이터의 개수 : 72696\n",
            "훈련 레이블의 개수 : 72696\n",
            "테스트 데이터의 개수 : 18173\n",
            "테스트 레이블의 개수 : 18173\n"
          ]
        }
      ],
      "source": [
        "encoder_input_train = encoder_input[:-n_of_val]\n",
        "decoder_input_train = decoder_input[:-n_of_val]\n",
        "decoder_target_train = decoder_target[:-n_of_val]\n",
        "\n",
        "encoder_input_test = encoder_input[-n_of_val:]\n",
        "decoder_input_test = decoder_input[-n_of_val:]\n",
        "decoder_target_test = decoder_target[-n_of_val:]\n",
        "\n",
        "print('훈련 데이터의 개수 :', len(encoder_input_train))\n",
        "print('훈련 레이블의 개수 :', len(decoder_input_train))\n",
        "print('테스트 데이터의 개수 :', len(encoder_input_test))\n",
        "print('테스트 레이블의 개수 :', len(decoder_input_test))"
      ]
    },
    {
      "cell_type": "markdown",
      "id": "a15a865a",
      "metadata": {
        "id": "a15a865a"
      },
      "source": [
        "훈련 데이터와 테스트 데이터가 각각 `72,696개`와 `18,173개`로 잘 분리되었습니다."
      ]
    },
    {
      "cell_type": "markdown",
      "id": "03ad8a83",
      "metadata": {
        "id": "03ad8a83"
      },
      "source": [
        "### 5. 데이터 전처리 (3) 정수 인코딩"
      ]
    },
    {
      "cell_type": "markdown",
      "id": "7b70bf18",
      "metadata": {
        "id": "7b70bf18"
      },
      "source": [
        "**단어 집합 만들기 및 정수 인코딩**\n",
        "\n",
        "이제 기계가 텍스트를 숫자로 처리할 수 있도록 훈련 데이터와 테스트 데이터의 단어들을 모두 정수로 변환해야 합니다. 이를 위해서는 각 단어에 고유한 정수를 맵핑하는 작업이 필요합니다. 이 과정을 단어 집합 `Vocabulary`을 만든다 라고 표현합니다. 훈련 데이터에 대해서 단어 집합을 만들어 봅시다. 우선, 원문에 해당하는 `encoder_input_train`에 대해서 단어 집합을 만들어 봅시다. Keras의 `Tokenizer()`를 사용하면 입력된 훈련 데이터로부터 단어 집합을 만들 수 있습니다."
      ]
    },
    {
      "cell_type": "code",
      "execution_count": null,
      "id": "db53c5b7",
      "metadata": {
        "id": "db53c5b7",
        "outputId": "01be8726-3d40-497f-db96-b39a7d92dfd6"
      },
      "outputs": [
        {
          "name": "stdout",
          "output_type": "stream",
          "text": [
            "Gotcha\n"
          ]
        }
      ],
      "source": [
        "from tensorflow.keras.preprocessing.text import Tokenizer\n",
        "\n",
        "src_tokenizer = Tokenizer()\n",
        "src_tokenizer.fit_on_texts(encoder_input_train)\n",
        "\n",
        "print(\"Gotcha\")"
      ]
    },
    {
      "cell_type": "markdown",
      "id": "52b273d8",
      "metadata": {
        "id": "52b273d8"
      },
      "source": [
        "이제 단어 집합이 생성되는 동시에 각 단어에 고유한 정수가 부여되었습니다. 현재 생성된 단어 집합은 `src_tokenizer.word_index`에 저장되어 있습니다. 하지만 단어 집합에 있는 모든 단어를 사용하지 않을 거예요. 빈도수가 낮은 단어들은 훈련 데이터에서 제외하고 진행하려 합니다. 등장 빈도수가 7회 미만인 단어들이 이 데이터에서 어떤 비중을 차지하는지 확인해 봅시다. 단어와 각 단어의 등장 빈도수가 저장되어 있는 `src_tokenizer.word_counts.items()`로 통계적인 정보를 확인해 봅시다."
      ]
    },
    {
      "cell_type": "code",
      "execution_count": null,
      "id": "0361a9bb",
      "metadata": {
        "id": "0361a9bb",
        "outputId": "db4737bc-831d-4201-d0b8-10d7ab74ea36"
      },
      "outputs": [
        {
          "name": "stdout",
          "output_type": "stream",
          "text": [
            "단어 집합(vocabulary)의 크기 : 65736\n",
            "등장 빈도가 6번 이하인 희귀 단어의 수: 44732\n",
            "단어 집합에서 희귀 단어를 제외시킬 경우의 단어 집합의 크기 21004\n",
            "단어 집합에서 희귀 단어의 비율: 68.04794937325059\n",
            "전체 등장 빈도에서 희귀 단어 등장 빈도 비율: 3.6344796956642034\n"
          ]
        }
      ],
      "source": [
        "threshold = 7\n",
        "total_cnt = len(src_tokenizer.word_index) # 단어의 수\n",
        "rare_cnt = 0 # 등장 빈도수가 threshold보다 작은 단어의 개수를 카운트\n",
        "total_freq = 0 # 훈련 데이터의 전체 단어 빈도수 총 합\n",
        "rare_freq = 0 # 등장 빈도수가 threshold보다 작은 단어의 등장 빈도수의 총 합\n",
        "\n",
        "# 단어와 빈도수의 쌍(pair)을 key와 value로 받는다.\n",
        "for key, value in src_tokenizer.word_counts.items():\n",
        "    total_freq = total_freq + value\n",
        "\n",
        "    # 단어의 등장 빈도수가 threshold보다 작으면\n",
        "    if(value < threshold):\n",
        "        rare_cnt = rare_cnt + 1\n",
        "        rare_freq = rare_freq + value\n",
        "\n",
        "print('단어 집합(vocabulary)의 크기 :', total_cnt)\n",
        "print('등장 빈도가 %s번 이하인 희귀 단어의 수: %s'%(threshold - 1, rare_cnt))\n",
        "print('단어 집합에서 희귀 단어를 제외시킬 경우의 단어 집합의 크기 %s'%(total_cnt - rare_cnt))\n",
        "print(\"단어 집합에서 희귀 단어의 비율:\", (rare_cnt / total_cnt)*100)\n",
        "print(\"전체 등장 빈도에서 희귀 단어 등장 빈도 비율:\", (rare_freq / total_freq)*100)"
      ]
    },
    {
      "cell_type": "markdown",
      "id": "969a0847",
      "metadata": {
        "id": "969a0847"
      },
      "source": [
        "단어 집합의 크기는 `65,863개`이며, 등장 빈도가 6회 이하인 희귀 단어는 `44,821개` 있습니다. 이들을 제외할 경우, 단어 집합의 크기는 `21,042개`가 됩니다. 희귀 단어의 비율은 단어 집합에서 약 `68.05%`를 차지하며, 전체 등장 빈도에서 희귀 단어가 차지하는 비율은 약 `3.64%` 입니다.\n",
        "\n",
        "여기서 등장 빈도가 6회 이하인 단어들은 전체 단어 집합 중 약 `68%`를 차지하지만, 실제 훈련 데이터에서의 등장 빈도 비율은 약 `3.64%`로 매우 적은 비중을 차지합니다. 따라서 이러한 희귀 단어들을 제외하고, 훈련 데이터에서 제거하여 모델 학습에 미치는 영향을 최소화할 수 있습니다.\n",
        "\n",
        "그래서 단어 집합의 크기를 제한하기 위해 토크나이저의 `num_words` 값을 희귀 단어를 제외하고 재구성된 단어 집합의 크기인 `21,042`를 고려하여 num_words 값을 설정하겠습니다. 이렇게 하면 모델 학습 시 사용하는 단어의 수를 제한하여 효과적인 훈련을 진행할 수 있습니다."
      ]
    },
    {
      "cell_type": "code",
      "execution_count": null,
      "id": "aaef8734",
      "metadata": {
        "id": "aaef8734",
        "outputId": "abed4d47-7eee-4755-caf1-9d415ba418b6"
      },
      "outputs": [
        {
          "name": "stdout",
          "output_type": "stream",
          "text": [
            "Gotcha\n"
          ]
        }
      ],
      "source": [
        "src_vocab = 20000\n",
        "src_tokenizer = Tokenizer(num_words = src_vocab) # 단어 집합의 크기를 20,000으로 제한\n",
        "src_tokenizer.fit_on_texts(encoder_input_train) # 단어 집합 재생성\n",
        "\n",
        "print(\"Gotcha\")"
      ]
    },
    {
      "cell_type": "markdown",
      "id": "affd056e",
      "metadata": {
        "id": "affd056e"
      },
      "source": [
        "`texts_to_sequences()`는 생성된 단어 집합에 기반하여 입력으로 주어진 텍스트 데이터의 단어들을 모두 정수로 변환하는 정수 인코딩을 수행합니다.  \n",
        "현재 단어 집합의 크기를 `20,000`으로 제한했으므로 이제 숫자 20,000이 넘는 숫자들은 정수 인코딩 후에는 데이터에 존재하지 않겠죠?"
      ]
    },
    {
      "cell_type": "code",
      "execution_count": null,
      "id": "3be97f68",
      "metadata": {
        "id": "3be97f68",
        "outputId": "7387a7db-3d2d-4c91-fbd2-eeb5f877bdab"
      },
      "outputs": [
        {
          "name": "stdout",
          "output_type": "stream",
          "text": [
            "[[1481, 8166, 316, 478, 671, 15, 8582, 6299, 61, 23, 974, 41, 788, 6225, 1758, 361, 5941, 63, 89, 8, 218, 106, 6225, 795, 644, 218, 6375, 15, 6299, 1, 3440, 2567, 600, 1630, 3933, 158], [159, 501, 7636, 132, 4652, 8055, 454, 260, 1, 173, 4134, 1469, 2658, 173, 63, 1379, 1, 115, 746, 129, 287, 277, 311, 623, 382, 1, 457, 432, 576, 1482, 119, 173], [43, 112, 177, 719, 2369, 685, 1695, 730, 170, 4915, 1275, 2361, 118, 106, 280, 8, 170, 2361, 685, 112, 177, 81, 4741, 1411, 2124, 9886, 1569, 43, 441, 522, 36, 1505, 992]]\n"
          ]
        }
      ],
      "source": [
        "# 텍스트 시퀀스를 정수 시퀀스로 변환\n",
        "encoder_input_train = src_tokenizer.texts_to_sequences(encoder_input_train)\n",
        "encoder_input_test = src_tokenizer.texts_to_sequences(encoder_input_test)\n",
        "\n",
        "# 잘 진행되었는지 샘플 출력\n",
        "print(encoder_input_train[:3])"
      ]
    },
    {
      "cell_type": "markdown",
      "id": "5a2db469",
      "metadata": {
        "id": "5a2db469"
      },
      "source": [
        "이제 더 이상 텍스트 데이터가 아니라 정수가 보이고 있습니다. `headlines` 데이터에 대해서도 동일한 작업을 수행하겠습니다.  \n",
        "케라스의 토크나이저를 사용하여 `decoder_input_train`을 입력으로 전체 단어 집합과 각 단어에 대한 빈도수를 계산해 봅시다."
      ]
    },
    {
      "cell_type": "code",
      "execution_count": null,
      "id": "47d7624b",
      "metadata": {
        "id": "47d7624b",
        "outputId": "9c01bfdc-f2a4-4f9f-f87a-7a5f7d100ab5"
      },
      "outputs": [
        {
          "name": "stdout",
          "output_type": "stream",
          "text": [
            "Gotcha\n"
          ]
        }
      ],
      "source": [
        "tar_tokenizer = Tokenizer()\n",
        "tar_tokenizer.fit_on_texts(decoder_input_train)\n",
        "\n",
        "print(\"Gotcha\")"
      ]
    },
    {
      "cell_type": "markdown",
      "id": "92e9a10e",
      "metadata": {
        "id": "92e9a10e"
      },
      "source": [
        "이제 단어 집합이 생성되는 동시에 각 단어에 고유한 정수가 부여되었습니다. 이는 `tar_tokenizer.word_index`에 저장되어 있어요.  `tar_tokenizer.word_counts.items()`에는 단어와 각 단어의 등장 빈도수가 저장되어 있는데, 통계적인 정보를 바탕으로 등장 빈도수가 6회 미만인 단어들이 이 데이터에서 얼만큼의 비중을 차지하는지 확인해 봅시다."
      ]
    },
    {
      "cell_type": "code",
      "execution_count": null,
      "id": "cc907329",
      "metadata": {
        "id": "cc907329",
        "outputId": "554e8144-7ef1-4e3c-fd10-6cf92d2b6bd6"
      },
      "outputs": [
        {
          "name": "stdout",
          "output_type": "stream",
          "text": [
            "단어 집합(vocabulary)의 크기 : 28907\n",
            "등장 빈도가 5번 이하인 희귀 단어의 수: 18931\n",
            "단어 집합에서 희귀 단어를 제외시킬 경우의 단어 집합의 크기 9976\n",
            "단어 집합에서 희귀 단어의 비율: 65.48932784446674\n",
            "전체 등장 빈도에서 희귀 단어 등장 빈도 비율: 4.838634309417861\n"
          ]
        }
      ],
      "source": [
        "threshold = 6\n",
        "total_cnt = len(tar_tokenizer.word_index) # 단어의 수\n",
        "rare_cnt = 0 # 등장 빈도수가 threshold보다 작은 단어의 개수를 카운트\n",
        "total_freq = 0 # 훈련 데이터의 전체 단어 빈도수 총 합\n",
        "rare_freq = 0 # 등장 빈도수가 threshold보다 작은 단어의 등장 빈도수의 총 합\n",
        "\n",
        "# 단어와 빈도수의 쌍(pair)을 key와 value로 받는다.\n",
        "for key, value in tar_tokenizer.word_counts.items():\n",
        "    total_freq = total_freq + value\n",
        "\n",
        "    # 단어의 등장 빈도수가 threshold보다 작으면\n",
        "    if(value < threshold):\n",
        "        rare_cnt = rare_cnt + 1\n",
        "        rare_freq = rare_freq + value\n",
        "\n",
        "print('단어 집합(vocabulary)의 크기 :', total_cnt)\n",
        "print('등장 빈도가 %s번 이하인 희귀 단어의 수: %s'%(threshold - 1, rare_cnt))\n",
        "print('단어 집합에서 희귀 단어를 제외시킬 경우의 단어 집합의 크기 %s'%(total_cnt - rare_cnt))\n",
        "print(\"단어 집합에서 희귀 단어의 비율:\", (rare_cnt / total_cnt)*100)\n",
        "print(\"전체 등장 빈도에서 희귀 단어 등장 빈도 비율:\", (rare_freq / total_freq)*100)"
      ]
    },
    {
      "cell_type": "markdown",
      "id": "1fe0ece9",
      "metadata": {
        "id": "1fe0ece9"
      },
      "source": [
        "등장 빈도가 5회 이하인 단어들은 단어 집합에서 약 `65%`를 차지하고 있습니다. 하지만 실제로 훈련 데이터에서 등장 빈도로 차지하는 비중은 상대적으로 매우 적은 수치인 `4.87%` 정도 입니다. 앞서 진행했던 것과 동일하게 이 단어들은 모두 제거하겠습니다. 어림잡아 `9,000`을 단어 집합의 크기로 제한할게요."
      ]
    },
    {
      "cell_type": "code",
      "execution_count": null,
      "id": "c4a4e6a0",
      "metadata": {
        "id": "c4a4e6a0",
        "outputId": "c5295614-e479-4669-f6b9-c705adc97e8a"
      },
      "outputs": [
        {
          "name": "stdout",
          "output_type": "stream",
          "text": [
            "input\n",
            "input  [[1, 354, 76, 2449, 5, 3359, 8, 4, 929], [1, 3674, 260, 239, 9, 3056, 97, 3469, 73], [1, 100, 799, 2395, 13, 563, 195, 374], [1, 117, 651, 62, 26, 983, 113, 3, 152, 245, 352], [1, 14, 822, 100, 6, 769, 1243, 402, 8, 40, 5, 61]]\n",
            "target\n",
            "decoder  [[354, 76, 2449, 5, 3359, 8, 4, 929, 2], [3674, 260, 239, 9, 3056, 97, 3469, 73, 2], [100, 799, 2395, 13, 563, 195, 374, 2], [117, 651, 62, 26, 983, 113, 3, 152, 245, 352, 2], [14, 822, 100, 6, 769, 1243, 402, 8, 40, 5, 61, 2]]\n"
          ]
        }
      ],
      "source": [
        "tar_vocab = 9000\n",
        "tar_tokenizer = Tokenizer(num_words=tar_vocab)\n",
        "tar_tokenizer.fit_on_texts(decoder_input_train)\n",
        "tar_tokenizer.fit_on_texts(decoder_target_train)\n",
        "\n",
        "# 텍스트 시퀀스를 정수 시퀀스로 변환\n",
        "decoder_input_train = tar_tokenizer.texts_to_sequences(decoder_input_train)\n",
        "decoder_target_train = tar_tokenizer.texts_to_sequences(decoder_target_train)\n",
        "decoder_input_test = tar_tokenizer.texts_to_sequences(decoder_input_test)\n",
        "decoder_target_test = tar_tokenizer.texts_to_sequences(decoder_target_test)\n",
        "\n",
        "# 잘 변환되었는지 확인\n",
        "print('input')\n",
        "print('input ',decoder_input_train[:5])\n",
        "print('target')\n",
        "print('decoder ',decoder_target_train[:5])"
      ]
    },
    {
      "cell_type": "markdown",
      "id": "6dbf3ed1",
      "metadata": {
        "id": "6dbf3ed1"
      },
      "source": [
        "정수 인코딩 작업이 끝났습니다. 현재 `decoder_input_train`과 `decoder_target_train`에는 더 이상 9,000이 넘는 숫자들은 존재하지 않아요. 그런데 다음 작업인 `패딩`으로 넘어가기 전에 한 가지 점검해야 할 것이 있어요. 전체 데이터에서 빈도수가 낮은 단어가 삭제되었다는 것은 빈도수가 낮은 단어만으로 구성되었던 샘플들은 이제 빈 샘플이 되었을 가능성이 있습니다. 이 현상은 길이가 상대적으로 길었던 원문 text의 경우에는 문제가 없겠지만, 애초에 평균 길이가 9 정도 밖에 되지 않았던 headllines의 경우에는 이 현상이 굉장히 두드러졌을 가능성이 높겠죠?\n",
        "\n",
        "요약문에서 길이가 0이 된 샘플들의 인덱스를 받겠습니다. 여기서 주의할 점은 요약문인 `decoder_input`에는 `sostoken` 또는 `decoder_target`에는 `eostoken`이 추가된 상태이고, 이 두 토큰은 모든 샘플에서 등장하므로 빈도수가 샘플 수와 동일하게 매우 높으므로, 단어 집합 제한에도 삭제되지 않을 수 있습니다. 그래서 이제 길이가 0이 된 요약문의 실제 길이는 1로 나올 거예요. 길이가 0이 된 `decoder_input`에는 `sostoken`, `decoder_target`에는 `eostoken`만 남아 있을 테니까요. 훈련 데이터와 테스트 데이터에 대해서 요약문의 길이가 1인 경우의 인덱스를 각각 `drop_train`과 `drop_test`에 라는 변수에 저장하겠습니다. 이 샘플들은 모두 삭제할 거예요."
      ]
    },
    {
      "cell_type": "code",
      "execution_count": null,
      "id": "8117326b",
      "metadata": {
        "id": "8117326b",
        "outputId": "3ef07277-fbd3-4648-adc1-134ffa8df5f7"
      },
      "outputs": [
        {
          "name": "stdout",
          "output_type": "stream",
          "text": [
            "삭제할 훈련 데이터의 개수 : 1\n",
            "삭제할 테스트 데이터의 개수 : 0\n",
            "훈련 데이터의 개수 : 72695\n",
            "훈련 레이블의 개수 : 72695\n",
            "테스트 데이터의 개수 : 18173\n",
            "테스트 레이블의 개수 : 18173\n"
          ]
        }
      ],
      "source": [
        "drop_train = [index for index, sentence in enumerate(decoder_input_train) if len(sentence) == 1]\n",
        "drop_test = [index for index, sentence in enumerate(decoder_input_test) if len(sentence) == 1]\n",
        "\n",
        "print('삭제할 훈련 데이터의 개수 :', len(drop_train))\n",
        "print('삭제할 테스트 데이터의 개수 :', len(drop_test))\n",
        "\n",
        "encoder_input_train = [sentence for index, sentence in enumerate(encoder_input_train) if index not in drop_train]\n",
        "decoder_input_train = [sentence for index, sentence in enumerate(decoder_input_train) if index not in drop_train]\n",
        "decoder_target_train = [sentence for index, sentence in enumerate(decoder_target_train) if index not in drop_train]\n",
        "\n",
        "encoder_input_test = [sentence for index, sentence in enumerate(encoder_input_test) if index not in drop_test]\n",
        "decoder_input_test = [sentence for index, sentence in enumerate(decoder_input_test) if index not in drop_test]\n",
        "decoder_target_test = [sentence for index, sentence in enumerate(decoder_target_test) if index not in drop_test]\n",
        "\n",
        "print('훈련 데이터의 개수 :', len(encoder_input_train))\n",
        "print('훈련 레이블의 개수 :', len(decoder_input_train))\n",
        "print('테스트 데이터의 개수 :', len(encoder_input_test))\n",
        "print('테스트 레이블의 개수 :', len(decoder_input_test))"
      ]
    },
    {
      "cell_type": "markdown",
      "id": "2c998ad5",
      "metadata": {
        "id": "2c998ad5"
      },
      "source": [
        "테스트 데이터에서 한 개의 샘플이 제거된 것을 확인할 수 있어요. 이제 거의 다 왔어요!"
      ]
    },
    {
      "cell_type": "markdown",
      "id": "f71352f9",
      "metadata": {
        "id": "f71352f9"
      },
      "source": [
        "**패딩하기**\n",
        "\n",
        "텍스트 시퀀스를 정수 시퀀스로 변환했다면, 이제 서로 다른 길이의 샘플들을 병렬로 처리하기 위해 같은 길이로 맞춰주는 패딩 작업이 필요합니다. 앞서 정해두었던 최대 길이로 패딩을 진행하겠습니다. 최대 길이보다 짧은 데이터들은 뒤의 공간에 숫자 0을 넣어 최대 길이로 길이를 맞춥니다."
      ]
    },
    {
      "cell_type": "code",
      "execution_count": null,
      "id": "d9b1f871",
      "metadata": {
        "id": "d9b1f871",
        "outputId": "570435b8-fcc0-4acf-863c-367cc1aa1041"
      },
      "outputs": [
        {
          "name": "stdout",
          "output_type": "stream",
          "text": [
            "Are you ready?\n"
          ]
        }
      ],
      "source": [
        "from tensorflow.keras.preprocessing.sequence import pad_sequences\n",
        "\n",
        "encoder_input_train = pad_sequences(encoder_input_train, maxlen=text_max_len, padding='post')\n",
        "encoder_input_test = pad_sequences(encoder_input_test, maxlen=text_max_len, padding='post')\n",
        "decoder_input_train = pad_sequences(decoder_input_train, maxlen=headlines_max_len, padding='post')\n",
        "decoder_target_train = pad_sequences(decoder_target_train, maxlen=headlines_max_len, padding='post')\n",
        "decoder_input_test = pad_sequences(decoder_input_test, maxlen=headlines_max_len, padding='post')\n",
        "decoder_target_test = pad_sequences(decoder_target_test, maxlen=headlines_max_len, padding='post')\n",
        "\n",
        "print(\"Are you ready?\")"
      ]
    },
    {
      "cell_type": "markdown",
      "id": "b0b94c09",
      "metadata": {
        "id": "b0b94c09"
      },
      "source": [
        "### 6. 모델 설계 (1) 인코더와 디코더\n",
        "\n",
        "모델을 설계하겠습니다. 우선 함수형 API를 이용해서 인코더를 설계해 봅시다."
      ]
    },
    {
      "cell_type": "code",
      "execution_count": null,
      "id": "d61e0947",
      "metadata": {
        "id": "d61e0947",
        "outputId": "dd40acfc-ab69-4cc4-9065-44819d7f9b81"
      },
      "outputs": [
        {
          "name": "stdout",
          "output_type": "stream",
          "text": [
            "WARNING:tensorflow:Layer lstm_1 will not use cuDNN kernels since it doesn't meet the criteria. It will use a generic GPU kernel as fallback when running on GPU.\n",
            "WARNING:tensorflow:Layer lstm_2 will not use cuDNN kernels since it doesn't meet the criteria. It will use a generic GPU kernel as fallback when running on GPU.\n"
          ]
        }
      ],
      "source": [
        "from tensorflow.keras.layers import Input, LSTM, Embedding, Dense, Concatenate, TimeDistributed\n",
        "from tensorflow.keras.models import Model\n",
        "from tensorflow.keras.callbacks import EarlyStopping, ModelCheckpoint\n",
        "\n",
        "\n",
        "# 인코더 설계 시작\n",
        "embedding_dim = 128\n",
        "hidden_size = 256\n",
        "\n",
        "# 인코더\n",
        "encoder_inputs = Input(shape=(text_max_len,))\n",
        "\n",
        "# 인코더의 임베딩 층\n",
        "enc_emb = Embedding(src_vocab, embedding_dim)(encoder_inputs)\n",
        "\n",
        "# 인코더의 LSTM 1\n",
        "# encoder_lstm1 = LSTM(hidden_size, return_sequences=True, return_state=True ,dropout = 0.4, recurrent_dropout = 0.4)\n",
        "encoder_lstm1 = LSTM(hidden_size, return_sequences=True, return_state=True ,dropout = 0.4)\n",
        "encoder_output1, state_h1, state_c1 = encoder_lstm1(enc_emb)\n",
        "\n",
        "# 인코더의 LSTM 2\n",
        "encoder_lstm2 = LSTM(hidden_size, return_sequences=True, return_state=True, dropout=0.4, recurrent_dropout=0.4)\n",
        "encoder_output2, state_h2, state_c2 = encoder_lstm2(encoder_output1, initial_state=[state_h1, state_c1])\n",
        "\n",
        "# 인코더의 LSTM 3\n",
        "encoder_lstm3 = LSTM(hidden_size, return_state=True, return_sequences=True, dropout=0.4, recurrent_dropout=0.4)\n",
        "encoder_outputs, state_h, state_c = encoder_lstm3(encoder_output2, initial_state=[state_h2, state_c2])"
      ]
    },
    {
      "cell_type": "markdown",
      "id": "65cf8fa0",
      "metadata": {
        "id": "65cf8fa0"
      },
      "source": [
        "`recurrent dropout`을 사용할 시 cuDNN을 사용할 수 없어서 recurrent dropout을 사용하지 않을 때보다 학습 시간이 오래 걸립니다. recurrent dropout에 대한 자세한 내용은 [Recurrent Dropout without Memory Loss](https://arxiv.org/pdf/1603.05118v2.pdf) 논문을 참고하세요. 이제 디코더를 설계해 봅시다."
      ]
    },
    {
      "cell_type": "code",
      "execution_count": null,
      "id": "e1b5f50d",
      "metadata": {
        "id": "e1b5f50d"
      },
      "outputs": [],
      "source": [
        "# 디코더 설계\n",
        "decoder_inputs = Input(shape=(None,))\n",
        "\n",
        "# 디코더의 임베딩 층\n",
        "dec_emb_layer = Embedding(tar_vocab, embedding_dim)\n",
        "dec_emb = dec_emb_layer(decoder_inputs)\n",
        "\n",
        "# 디코더의 LSTM\n",
        "# decoder_lstm = LSTM(hidden_size, return_sequences=True, return_state=True, dropout=0.4, recurrent_dropout=0.2)\n",
        "decoder_lstm = LSTM(hidden_size, return_sequences=True, return_state=True, dropout=0.4)\n",
        "decoder_outputs, _, _ = decoder_lstm(dec_emb, initial_state=[state_h, state_c])"
      ]
    },
    {
      "cell_type": "markdown",
      "id": "4b31238c",
      "metadata": {
        "id": "4b31238c"
      },
      "source": [
        "디코더의 임베딩 층과 LSTM을 설계하는 것은 인코더와 거의 동일합니다. 하지만 LSTM의 입력을 정의할 때, `initial_state`의 인자값으로 인코더의 `hidden state`와 `cell state`의 값을 삽입해야 합니다. 디코더의 출력층을 설계해 봅시다."
      ]
    },
    {
      "cell_type": "code",
      "execution_count": null,
      "id": "e1437a4c",
      "metadata": {
        "id": "e1437a4c",
        "outputId": "4394a636-3289-4ab0-d297-6a5917989bb4"
      },
      "outputs": [
        {
          "name": "stdout",
          "output_type": "stream",
          "text": [
            "Model: \"model\"\n",
            "__________________________________________________________________________________________________\n",
            "Layer (type)                    Output Shape         Param #     Connected to                     \n",
            "==================================================================================================\n",
            "input_1 (InputLayer)            [(None, 40)]         0                                            \n",
            "__________________________________________________________________________________________________\n",
            "embedding (Embedding)           (None, 40, 128)      2560000     input_1[0][0]                    \n",
            "__________________________________________________________________________________________________\n",
            "lstm (LSTM)                     [(None, 40, 256), (N 394240      embedding[0][0]                  \n",
            "__________________________________________________________________________________________________\n",
            "input_2 (InputLayer)            [(None, None)]       0                                            \n",
            "__________________________________________________________________________________________________\n",
            "lstm_1 (LSTM)                   [(None, 40, 256), (N 525312      lstm[0][0]                       \n",
            "                                                                 lstm[0][1]                       \n",
            "                                                                 lstm[0][2]                       \n",
            "__________________________________________________________________________________________________\n",
            "embedding_1 (Embedding)         (None, None, 128)    1152000     input_2[0][0]                    \n",
            "__________________________________________________________________________________________________\n",
            "lstm_2 (LSTM)                   [(None, 40, 256), (N 525312      lstm_1[0][0]                     \n",
            "                                                                 lstm_1[0][1]                     \n",
            "                                                                 lstm_1[0][2]                     \n",
            "__________________________________________________________________________________________________\n",
            "lstm_3 (LSTM)                   [(None, None, 256),  394240      embedding_1[0][0]                \n",
            "                                                                 lstm_2[0][1]                     \n",
            "                                                                 lstm_2[0][2]                     \n",
            "__________________________________________________________________________________________________\n",
            "dense (Dense)                   (None, None, 9000)   2313000     lstm_3[0][0]                     \n",
            "==================================================================================================\n",
            "Total params: 7,864,104\n",
            "Trainable params: 7,864,104\n",
            "Non-trainable params: 0\n",
            "__________________________________________________________________________________________________\n"
          ]
        }
      ],
      "source": [
        "# 디코더의 출력층\n",
        "decoder_softmax_layer = Dense(tar_vocab, activation='softmax')\n",
        "decoder_softmax_outputs = decoder_softmax_layer(decoder_outputs)\n",
        "\n",
        "# 모델 정의\n",
        "model = Model([encoder_inputs, decoder_inputs], decoder_softmax_outputs)\n",
        "model.summary()"
      ]
    },
    {
      "cell_type": "markdown",
      "id": "71dabd2f",
      "metadata": {
        "id": "71dabd2f"
      },
      "source": [
        "디코더의 출력층에서는 text의 단어장인 tar_vocab의 수 많은 선택지 중 하나의 단어를 선택하는 다중 클래스 분류 문제를 풀어야 합니다. 그렇기 때문에 Dense의 인자로 tar_vocab을 주고, 활성화 함수로 소프트맥스 함수를 사용합니다. 지금까지 설계한 것은 인코더의 hidden state와 cell state를 디코더의 초기 state로 사용하는 가장 기본적인 `seq2seq` 입니다. 그런데 디코더의 출력층 설계를 살짝 바꿔서 성능을 높일 수 있는 방법이 있습니다? 바로 `어텐션 메커니즘`."
      ]
    },
    {
      "cell_type": "markdown",
      "id": "a8b5a7fc",
      "metadata": {
        "id": "a8b5a7fc"
      },
      "source": [
        "### 7. 모델 설계 (1) 어텐션 메커니즘\n",
        "\n",
        "`어텐션 메커니즘`을 수행하는 어텐션 함수를 설계하는 것은 또 다른 새로운 신경망을 설계해야 한다는 의미입니다. 저는 TensorFlow에 이미 구현된 어텐션 함수를 가져와서 디코더의 출력층에 어떤 방식으로 결합하는지 확인하려 합니다. 참고로 사용하고자 하는 어텐션 함수는 `Bahdanau 스타일의 어텐션`입니다. 이 어텐션에 대한 자세한 설명은 [텐서플로우 홈페이지](https://www.tensorflow.org/api_docs/python/tf/keras/layers/AdditiveAttention)를 참고하세요. 어텐션 층을 만들고, 위에서 설계한 디코더의 출력층을 수정해 봅시다."
      ]
    },
    {
      "cell_type": "code",
      "execution_count": null,
      "id": "832b21de",
      "metadata": {
        "id": "832b21de",
        "outputId": "256ce1c9-6aa8-424c-abff-deab084a1aee"
      },
      "outputs": [
        {
          "name": "stdout",
          "output_type": "stream",
          "text": [
            "Model: \"model_1\"\n",
            "__________________________________________________________________________________________________\n",
            "Layer (type)                    Output Shape         Param #     Connected to                     \n",
            "==================================================================================================\n",
            "input_1 (InputLayer)            [(None, 40)]         0                                            \n",
            "__________________________________________________________________________________________________\n",
            "embedding (Embedding)           (None, 40, 128)      2560000     input_1[0][0]                    \n",
            "__________________________________________________________________________________________________\n",
            "lstm (LSTM)                     [(None, 40, 256), (N 394240      embedding[0][0]                  \n",
            "__________________________________________________________________________________________________\n",
            "input_2 (InputLayer)            [(None, None)]       0                                            \n",
            "__________________________________________________________________________________________________\n",
            "lstm_1 (LSTM)                   [(None, 40, 256), (N 525312      lstm[0][0]                       \n",
            "                                                                 lstm[0][1]                       \n",
            "                                                                 lstm[0][2]                       \n",
            "__________________________________________________________________________________________________\n",
            "embedding_1 (Embedding)         (None, None, 128)    1152000     input_2[0][0]                    \n",
            "__________________________________________________________________________________________________\n",
            "lstm_2 (LSTM)                   [(None, 40, 256), (N 525312      lstm_1[0][0]                     \n",
            "                                                                 lstm_1[0][1]                     \n",
            "                                                                 lstm_1[0][2]                     \n",
            "__________________________________________________________________________________________________\n",
            "lstm_3 (LSTM)                   [(None, None, 256),  394240      embedding_1[0][0]                \n",
            "                                                                 lstm_2[0][1]                     \n",
            "                                                                 lstm_2[0][2]                     \n",
            "__________________________________________________________________________________________________\n",
            "attention_layer (AdditiveAttent (None, None, 256)    256         lstm_3[0][0]                     \n",
            "                                                                 lstm_2[0][0]                     \n",
            "__________________________________________________________________________________________________\n",
            "concat_layer (Concatenate)      (None, None, 512)    0           lstm_3[0][0]                     \n",
            "                                                                 attention_layer[0][0]            \n",
            "__________________________________________________________________________________________________\n",
            "dense_1 (Dense)                 (None, None, 9000)   4617000     concat_layer[0][0]               \n",
            "==================================================================================================\n",
            "Total params: 10,168,360\n",
            "Trainable params: 10,168,360\n",
            "Non-trainable params: 0\n",
            "__________________________________________________________________________________________________\n"
          ]
        }
      ],
      "source": [
        "from tensorflow.keras.layers import AdditiveAttention\n",
        "\n",
        "# 어텐션 층(어텐션 함수)\n",
        "attn_layer = AdditiveAttention(name='attention_layer')\n",
        "\n",
        "# 인코더와 디코더의 모든 time step의 hidden state를 어텐션 층에 전달하고 결과를 리턴\n",
        "attn_out = attn_layer([decoder_outputs, encoder_outputs])\n",
        "\n",
        "# 어텐션의 결과와 디코더의 hidden state들을 연결\n",
        "decoder_concat_input = Concatenate(axis=-1, name='concat_layer')([decoder_outputs, attn_out])\n",
        "\n",
        "# 디코더의 출력층\n",
        "decoder_softmax_layer = Dense(tar_vocab, activation='softmax')\n",
        "decoder_softmax_outputs = decoder_softmax_layer(decoder_concat_input)\n",
        "\n",
        "# 모델 정의\n",
        "model = Model([encoder_inputs, decoder_inputs], decoder_softmax_outputs)\n",
        "model.summary()"
      ]
    },
    {
      "cell_type": "markdown",
      "id": "5d0bebd9",
      "metadata": {
        "id": "5d0bebd9"
      },
      "source": [
        "위의 코드는 인코더의 hidden state들과 디코더의 hidden state들을 어텐션 함수의 입력으로 사용하고, 어텐션 함수가 리턴한 값을 예측 시에 디코더의 hidden state와 함께 활용하는 형태로 작동하고 있습니다."
      ]
    },
    {
      "cell_type": "markdown",
      "id": "713de3b8",
      "metadata": {
        "id": "713de3b8"
      },
      "source": [
        "### 8. 모델 훈련\n",
        "\n",
        "앞서 설계한 모델로 훈련을 진행해 봅시다."
      ]
    },
    {
      "cell_type": "code",
      "execution_count": null,
      "id": "a1ce8162",
      "metadata": {
        "id": "a1ce8162",
        "outputId": "49a135a0-2295-4028-892d-24415b510eba"
      },
      "outputs": [
        {
          "name": "stdout",
          "output_type": "stream",
          "text": [
            "Epoch 1/50\n",
            "284/284 [==============================] - 141s 377ms/step - loss: 4.5071 - val_loss: 4.1580\n",
            "Epoch 2/50\n",
            "284/284 [==============================] - 107s 376ms/step - loss: 4.0804 - val_loss: 3.8850\n",
            "Epoch 3/50\n",
            "284/284 [==============================] - 108s 381ms/step - loss: 3.7856 - val_loss: 3.6456\n",
            "Epoch 4/50\n",
            "284/284 [==============================] - 108s 380ms/step - loss: 3.5732 - val_loss: 3.4951\n",
            "Epoch 5/50\n",
            "284/284 [==============================] - 107s 378ms/step - loss: 3.4103 - val_loss: 3.3897\n",
            "Epoch 6/50\n",
            "284/284 [==============================] - 107s 377ms/step - loss: 3.2742 - val_loss: 3.3010\n",
            "Epoch 7/50\n",
            "284/284 [==============================] - 107s 378ms/step - loss: 3.1561 - val_loss: 3.2305\n",
            "Epoch 8/50\n",
            "284/284 [==============================] - 106s 375ms/step - loss: 3.0508 - val_loss: 3.1674\n",
            "Epoch 9/50\n",
            "284/284 [==============================] - 106s 374ms/step - loss: 2.9585 - val_loss: 3.1312\n",
            "Epoch 10/50\n",
            "284/284 [==============================] - 106s 372ms/step - loss: 2.8778 - val_loss: 3.0905\n",
            "Epoch 11/50\n",
            "284/284 [==============================] - 106s 374ms/step - loss: 2.8025 - val_loss: 3.0625\n",
            "Epoch 12/50\n",
            "284/284 [==============================] - 106s 374ms/step - loss: 2.7335 - val_loss: 3.0319\n",
            "Epoch 13/50\n",
            "284/284 [==============================] - 106s 373ms/step - loss: 2.6725 - val_loss: 3.0152\n",
            "Epoch 14/50\n",
            "284/284 [==============================] - 106s 373ms/step - loss: 2.6166 - val_loss: 3.0016\n",
            "Epoch 15/50\n",
            "284/284 [==============================] - 106s 372ms/step - loss: 2.5643 - val_loss: 2.9851\n",
            "Epoch 16/50\n",
            "284/284 [==============================] - 105s 371ms/step - loss: 2.5169 - val_loss: 2.9717\n",
            "Epoch 17/50\n",
            "284/284 [==============================] - 106s 372ms/step - loss: 2.4712 - val_loss: 2.9631\n",
            "Epoch 18/50\n",
            "284/284 [==============================] - 106s 372ms/step - loss: 2.4280 - val_loss: 2.9634\n",
            "Epoch 19/50\n",
            "284/284 [==============================] - 105s 371ms/step - loss: 2.3876 - val_loss: 2.9605\n",
            "Epoch 20/50\n",
            "284/284 [==============================] - 106s 372ms/step - loss: 2.3468 - val_loss: 2.9505\n",
            "Epoch 21/50\n",
            "284/284 [==============================] - 106s 372ms/step - loss: 2.3090 - val_loss: 2.9502\n",
            "Epoch 22/50\n",
            "284/284 [==============================] - 106s 373ms/step - loss: 2.2741 - val_loss: 2.9452\n",
            "Epoch 23/50\n",
            "284/284 [==============================] - 106s 373ms/step - loss: 2.2423 - val_loss: 2.9475\n",
            "Epoch 24/50\n",
            "284/284 [==============================] - 106s 373ms/step - loss: 2.2127 - val_loss: 2.9439\n",
            "Epoch 25/50\n",
            "284/284 [==============================] - 106s 372ms/step - loss: 2.1822 - val_loss: 2.9488\n",
            "Epoch 26/50\n",
            "284/284 [==============================] - 106s 373ms/step - loss: 2.1522 - val_loss: 2.9506\n",
            "Epoch 00026: early stopping\n"
          ]
        }
      ],
      "source": [
        "model.compile(optimizer='rmsprop', loss='sparse_categorical_crossentropy')\n",
        "es = EarlyStopping(monitor='val_loss', patience=2, verbose=1)\n",
        "history = model.fit(x=[encoder_input_train, decoder_input_train], y=decoder_target_train, \\\n",
        "          validation_data=([encoder_input_test, decoder_input_test], decoder_target_test), \\\n",
        "          batch_size=256, callbacks=[es], epochs=50)"
      ]
    },
    {
      "cell_type": "markdown",
      "id": "94fabeac",
      "metadata": {
        "id": "94fabeac"
      },
      "source": [
        "이제 훈련 데이터의 손실과 검증 데이터의 손실이 줄어드는 과정을 시각화하여 확인해 봅시다!"
      ]
    },
    {
      "cell_type": "code",
      "execution_count": null,
      "id": "0f901f2b",
      "metadata": {
        "id": "0f901f2b",
        "outputId": "6f1d2251-4dfc-44e3-943d-ba4215ebc585"
      },
      "outputs": [
        {
          "data": {
            "image/png": "[encoded data removed]",
            "text/plain": [
              "<Figure size 432x288 with 1 Axes>"
            ]
          },
          "metadata": {
            "needs_background": "light"
          },
          "output_type": "display_data"
        }
      ],
      "source": [
        "plt.plot(history.history['loss'], label='train')\n",
        "plt.plot(history.history['val_loss'], label='test')\n",
        "plt.legend()\n",
        "plt.show()"
      ]
    },
    {
      "cell_type": "markdown",
      "id": "6517b9a8",
      "metadata": {
        "id": "6517b9a8"
      },
      "source": [
        "### 9. 인퍼런스 모델 구현\n",
        "\n",
        "테스트 단계에서는 정수 인덱스 행렬로 존재하던 텍스트 데이터를 실제 데이터로 복원해야 하므로 필요한 3개의 사전을 아래와 같이 미리 준비해 둡니다."
      ]
    },
    {
      "cell_type": "code",
      "execution_count": null,
      "id": "83d17bae",
      "metadata": {
        "id": "83d17bae",
        "outputId": "11fb4fe4-ae5b-4644-ff4e-9eeccb71cf1c"
      },
      "outputs": [
        {
          "name": "stdout",
          "output_type": "stream",
          "text": [
            "Gotcha\n"
          ]
        }
      ],
      "source": [
        "src_index_to_word = src_tokenizer.index_word # 원문 단어 집합에서 정수 -> 단어를 얻음\n",
        "tar_word_to_index = tar_tokenizer.word_index # 요약 단어 집합에서 단어 -> 정수를 얻음\n",
        "tar_index_to_word = tar_tokenizer.index_word # 요약 단어 집합에서 정수 -> 단어를 얻음\n",
        "\n",
        "print(\"Gotcha\")"
      ]
    },
    {
      "cell_type": "markdown",
      "id": "589701d9",
      "metadata": {
        "id": "589701d9"
      },
      "source": [
        "**`seq2seq`는 훈련할 때와 실제 동작할 때(인퍼런스 단계)의 방식이 다르므로, 그에 맞게 모델 설계를 별개로 진행합니다.**\n",
        "\n",
        "훈련 단계에서는 디코더의 입력부에 정답이 되는 문장 전체를 한 번에 넣어야 디코더의 출력과 한 번에 비교할 수 있으므로, 인코더와 디코더를 엮은 모델 하나만 준비합니다. 그러나 정답 문장이 없는 인퍼런스 단계에서는 생성해야 할 문장의 길이만큼 디코더가 반복 구조로 동작해야 하므로 부득이 인퍼런스를 위한 모델을 별도로 설계해야 합니다. 이 때에는 인코더 모델과 디코더 모델을 분리해서 설계합니다."
      ]
    },
    {
      "cell_type": "code",
      "execution_count": null,
      "id": "fcfc4eac",
      "metadata": {
        "id": "fcfc4eac",
        "outputId": "745f1b09-fd58-4da5-b1af-9fc60ea23d60"
      },
      "outputs": [
        {
          "name": "stdout",
          "output_type": "stream",
          "text": [
            "Gotcha\n"
          ]
        }
      ],
      "source": [
        "# 인코더 설계\n",
        "encoder_model = Model(inputs=encoder_inputs, outputs=[encoder_outputs, state_h, state_c])\n",
        "\n",
        "# 이전 시점의 상태들을 저장하는 텐서\n",
        "decoder_state_input_h = Input(shape=(hidden_size,))\n",
        "decoder_state_input_c = Input(shape=(hidden_size,))\n",
        "\n",
        "dec_emb2 = dec_emb_layer(decoder_inputs)\n",
        "\n",
        "# 문장의 다음 단어를 예측하기 위해서 초기 상태(initial_state)를 이전 시점의 상태로 사용. 이는 뒤의 함수 decode_sequence()에 구현\n",
        "# 훈련 과정에서와 달리 LSTM의 리턴하는 은닉 상태와 셀 상태인 state_h와 state_c를 버리지 않음.\n",
        "decoder_outputs2, state_h2, state_c2 = decoder_lstm(dec_emb2, initial_state=[decoder_state_input_h, decoder_state_input_c])\n",
        "\n",
        "print(\"Gotcha\")"
      ]
    },
    {
      "cell_type": "markdown",
      "id": "3caa0ea7",
      "metadata": {
        "id": "3caa0ea7"
      },
      "source": [
        "어텐션 메커니즘을 사용하는 출력층을 설계해 봅시다."
      ]
    },
    {
      "cell_type": "code",
      "execution_count": null,
      "id": "c9c89f91",
      "metadata": {
        "id": "c9c89f91",
        "outputId": "6a564001-8edd-4eb8-f39b-0534bc53373a"
      },
      "outputs": [
        {
          "name": "stdout",
          "output_type": "stream",
          "text": [
            "Gotcha\n"
          ]
        }
      ],
      "source": [
        "# 어텐션 함수\n",
        "decoder_hidden_state_input = Input(shape=(text_max_len, hidden_size))\n",
        "attn_out_inf = attn_layer([decoder_outputs2, decoder_hidden_state_input])\n",
        "decoder_inf_concat = Concatenate(axis=-1, name='concat')([decoder_outputs2, attn_out_inf])\n",
        "\n",
        "# 디코더의 출력층\n",
        "decoder_outputs2 = decoder_softmax_layer(decoder_inf_concat)\n",
        "\n",
        "# 최종 디코더 모델\n",
        "decoder_model = Model(\n",
        "    [decoder_inputs] + [decoder_hidden_state_input,decoder_state_input_h, decoder_state_input_c],\n",
        "    [decoder_outputs2] + [state_h2, state_c2])\n",
        "\n",
        "print(\"Gotcha\")"
      ]
    },
    {
      "cell_type": "markdown",
      "id": "4d849a4e",
      "metadata": {
        "id": "4d849a4e"
      },
      "source": [
        "인퍼런스 단계에서 단어 시퀀스를 완성하는 함수를 만들어 볼까요?"
      ]
    },
    {
      "cell_type": "code",
      "execution_count": null,
      "id": "27380046",
      "metadata": {
        "id": "27380046",
        "outputId": "8be8f963-9dd1-4773-89e8-2d9d61a1aa9c"
      },
      "outputs": [
        {
          "name": "stdout",
          "output_type": "stream",
          "text": [
            "Gotcha\n"
          ]
        }
      ],
      "source": [
        "def decode_sequence(input_seq):\n",
        "    # 입력으로부터 인코더의 상태를 얻음\n",
        "    e_out, e_h, e_c = encoder_model.predict(input_seq)\n",
        "\n",
        "     # <SOS>에 해당하는 토큰 생성\n",
        "    target_seq = np.zeros((1,1))\n",
        "    target_seq[0, 0] = tar_word_to_index['sostoken']\n",
        "\n",
        "    stop_condition = False\n",
        "    decoded_sentence = ''\n",
        "    while not stop_condition: # stop_condition이 True가 될 때까지 루프 반복\n",
        "\n",
        "        output_tokens, h, c = decoder_model.predict([target_seq] + [e_out, e_h, e_c])\n",
        "        sampled_token_index = np.argmax(output_tokens[0, -1, :])\n",
        "        sampled_token = tar_index_to_word[sampled_token_index]\n",
        "\n",
        "        if (sampled_token!='eostoken'):\n",
        "            decoded_sentence += ' '+sampled_token\n",
        "\n",
        "        #  <eos>에 도달하거나 최대 길이를 넘으면 중단.\n",
        "        if (sampled_token == 'eostoken'  or len(decoded_sentence.split()) >= (headlines_max_len-1)):\n",
        "            stop_condition = True\n",
        "\n",
        "        # 길이가 1인 타겟 시퀀스를 업데이트\n",
        "        target_seq = np.zeros((1,1))\n",
        "        target_seq[0, 0] = sampled_token_index\n",
        "\n",
        "        # 상태를 업데이트 합니다.\n",
        "        e_h, e_c = h, c\n",
        "\n",
        "    return decoded_sentence\n",
        "\n",
        "print(\"Gotcha\")"
      ]
    },
    {
      "cell_type": "markdown",
      "id": "94e14dda",
      "metadata": {
        "id": "94e14dda"
      },
      "source": [
        "### 10. 모델 테스트\n",
        "\n",
        "원래의 요약문(text 열)과 학습을 통해 얻은 추상적 요약의 결과를 비교하겠습니다. 테스트 단계에서는 정수 시퀀스를 텍스트 시퀀스로 변환하여 결과를 확인하는 것이 편하겠죠? 주어진 정수 시퀀스를 텍스트 시퀀스로 변환하는 함수를 만들어 봅시다. 함수를 만들 때, test의 정수 시퀀스에서는 패딩을 위해 사용되는 숫자 0을 제외하고, headlines의 정수 시퀀스에서는 숫자 0, 시작 토큰의 인덱스, 종료 토큰의 인덱스를 출력에서 제외하도록 만들 거예요."
      ]
    },
    {
      "cell_type": "code",
      "execution_count": null,
      "id": "5f25eedf",
      "metadata": {
        "id": "5f25eedf",
        "outputId": "73888590-bc66-49b9-f8f1-b6ea5fe0bb26"
      },
      "outputs": [
        {
          "name": "stdout",
          "output_type": "stream",
          "text": [
            "Gotcha\n"
          ]
        }
      ],
      "source": [
        "# 요약문의 정수 시퀀스를 텍스트로 변환하는 seq2summary 함수\n",
        "# 요약문에는 sostoken과 eostoken을 고려\n",
        "\n",
        "# 원문의 정수 시퀀스를 텍스트 시퀀스로 변환\n",
        "def seq2text(input_seq):\n",
        "    temp=''\n",
        "    for i in input_seq:\n",
        "        if (i!=0):\n",
        "            temp = temp + src_index_to_word[i]+' '\n",
        "    return temp\n",
        "\n",
        "# 요약문의 정수 시퀀스를 텍스트 시퀀스로 변환\n",
        "def seq2headlines(input_seq):\n",
        "    temp = ''\n",
        "    for i in input_seq:\n",
        "        if i != 0 and i != tar_word_to_index['sostoken'] and i != tar_word_to_index['eostoken']:\n",
        "            temp += tar_index_to_word[i] + ' '\n",
        "    return temp\n",
        "\n",
        "print(\"Gotcha\")"
      ]
    },
    {
      "cell_type": "markdown",
      "id": "4a16579b",
      "metadata": {
        "id": "4a16579b"
      },
      "source": [
        "테스트 데이터 약 50개의 샘플에 대해서 실제 요약과 예측된 요약을 비교해 봅시다."
      ]
    },
    {
      "cell_type": "code",
      "execution_count": null,
      "id": "25a0cdcc",
      "metadata": {
        "id": "25a0cdcc",
        "outputId": "a6bc94cc-2fc5-4b1b-fe8d-d057b07fa5f9"
      },
      "outputs": [
        {
          "name": "stdout",
          "output_type": "stream",
          "text": [
            "원문 : haryana education minister ram sharma addressing students haridwar said believe google says believe vedas also said sanskrit scholar better mbbs graduate mbbs lose job sanskrit scholar become pandit perform several occasions added \n",
            "실제 요약 : do not believe google believe in haryana education minister \n",
            "예측 요약 :  will not be compulsory in up if it is not in my life bjp\n",
            "\n",
            "\n",
            "원문 : icici bank ceo chanda kochhar brother law rajiv kochhar said financial services firm advisory group business arrangements icici bank added guy trying create something clarification comes bjp leader subramanian swamy called probe dealings icici bank \n",
            "실제 요약 : chanda kochhar brother in law denies biz links with icici \n",
            "예측 요약 :  icici board denies reports of chanda kochhar over life row\n",
            "\n",
            "\n",
            "원문 : delhi commission women chief swati maliwal asked husband aap leader naveen jaihind control anger public saying needs careful speaking condemning haryana government lakh compensation rewari gangrape victim jaihind said give lakh bjp leader got sexually assaulted people \n",
            "실제 요약 : control your anger women panel head to husband on rape remark \n",
            "예측 요약 :  hc refuses to hear case against jaya in delhi\n",
            "\n",
            "\n",
            "원문 : according reports actors sushant singh rajput bhumi pednekar star filmmaker abhishek upcoming film set film reportedly revolve around dacoits like sushant bhumi plays dacoit film shot roll early next year source quoted saying \n",
            "실제 요약 : sushant bhumi to star together in upcoming film report \n",
            "예측 요약 :  release date of sushant debut film announced\n",
            "\n",
            "\n",
            "원문 : rd birthday tuesday bahujan samaj party chief mayawati told party workers best birthday gift would bsp samajwadi party candidates win lok sabha elections urging workers two parties forget differences mayawati said alliance giving sleepless nights bjp \n",
            "실제 요약 : best day gift if all bsp sp candidates win in ls mayawati \n",
            "예측 요약 :  bsp bsp bsp to contest polls in up mayawati\n",
            "\n",
            "\n",
            "원문 : needing win match english club team high start th town jones bowled penultimate taking four consecutive wickets without conceding run high lost last three wickets last first five balls losing match one run \n",
            "실제 요약 : team loses despite in balls with wickets left \n",
            "예측 요약 :  indian cricket team takes out as streak in last day\n",
            "\n",
            "\n",
            "원문 : union defence minister nirmala sitharaman said tuesday forces jawaharlal nehru university openly waging war country hesitate call anti india said fact elected representatives seen anti india forces also probably gone led \n",
            "실제 요약 : will not to call some jnu forces anti india min \n",
            "예측 요약 :  no sitharaman in defence minister sitharaman\n",
            "\n",
            "\n",
            "원문 : man named vinay nair posted videos touching saree clad women bare backs without consent instagram facebook claiming big fan wearing women said share photographs videos earlier post accounts taken several users reported \n",
            "실제 요약 : man women shares videos on social media \n",
            "예측 요약 :  man who slammed for posting nude pics of facebook\n",
            "\n",
            "\n",
            "원문 : italy us based researchers co developed optical control electrical activity brain light beams nanometre thick probe designed large brain volumes light beams affected regions without moving device scientists believe probe would help development diagnosis treatment neurological disorders \n",
            "실제 요약 : probe times than human hair made \n",
            "예측 요약 :  device can detect cancer without brain\n",
            "\n",
            "\n",
            "원문 : year old dentist allegedly forced drink raped year old man rented house noida september woman said two began talking facebook following pressurised meet meanwhile police said booked accused launched probe incident \n",
            "실제 요약 : year old made to drink raped in noida \n",
            "예측 요약 :  year old woman raped by men in up in up\n",
            "\n",
            "\n",
            "원문 : egyptian court saturday sentenced death members banned muslim brotherhood group anti government protests sentencing concluded mass trial people took part sit organised support former president mohamed people reportedly killed security forces crackdown protests \n",
            "실제 요약 : muslim members sentenced to death in egypt \n",
            "예측 요약 :  egypt arrests man who killed in rohingya violence\n",
            "\n",
            "\n",
            "원문 : kerala high court ordered state government pay lakh compensation man lost sight one eye violence years ago ruling left democratic front constituted opposition called government must recover compensation party responsible violence court added \n",
            "실제 요약 : hc asks kerala to pay to man who lost eye yrs ago \n",
            "예측 요약 :  delhi hc orders probe into man for taking lakh\n",
            "\n",
            "\n",
            "원문 : world largest steel producer arcelormittal reportedly transferred crore account become eligible bid essar steel insolvency process funds used clear dues arcelormittal held stakes lakshmi mittal led company offered crore essar steel \n",
            "실제 요약 : pays cr to qualify for essar steel bid \n",
            "예측 요약 :  steel becomes st female to be auctioned\n",
            "\n",
            "\n",
            "원문 : mumbai police wednesday arrested six members karni sena allegedly assembled outside residence actress kangana ranaut protest recent statements made regarding outfit later granted bail bandra magistrate court magistrate ordered sent outside city eight days said police officer \n",
            "실제 요약 : karni sena members who outside kangana house arrested \n",
            "예측 요약 :  mumbai police arrest kangana arrest for stalking kangana\n",
            "\n",
            "\n",
            "원문 : chargesheet filed enforcement directorate thursday said jeweller nirav modi diverted million sister purvi mehta father deepak modi funds diverted dummy companies based uae hong kong nirav father sister named accused ed chargesheet billion pnb fraud \n",
            "실제 요약 : nirav modi diverted crore to sister father ed \n",
            "예측 요약 :  nirav modi wife named pnb scam accused of pnb fraud\n",
            "\n",
            "\n",
            "원문 : greece monday emerged eurozone bailout programme eight years successfully completing third bailout programme worth billion european stability mechanism disbursed funds support greece efforts banks reform economy european union european central bank imf loaned greece billion three bailout deals \n",
            "실제 요약 : greece exits bailout programme after years \n",
            "예측 요약 :  india shares day of yr old after years\n",
            "\n",
            "\n",
            "원문 : kerala congress leader mm hassan told gathering menstruating woman body must enter places worship period muslim women observe fast menstruation said remark prompted participant ask blood others also part \n",
            "실제 요약 : woman body is kerala congress leader \n",
            "예측 요약 :  woman who should not be girl at sabarimala bjp mp\n",
            "\n",
            "\n",
            "원문 : amazon ceo jeff bezos net worth fell crore billion company shares tumbled thursday according bloomberg part market sell drained billion fortunes world richest people bezos briefly became world richest person last month currently third spot \n",
            "실제 요약 : amazon ceo jeff bezos loses crore in day \n",
            "예측 요약 :  jeff bezos wealth worth crore in days\n",
            "\n",
            "\n",
            "원문 : us president donald trump said win presidential election media help secure victory newspapers television forms media tank without ratings going said trump accused several us media outlets attacking called fake news \n",
            "실제 요약 : will win polls as media will tank without me trump \n",
            "예측 요약 :  trump election election victory victory\n",
            "\n",
            "\n",
            "원문 : malayalam director jude joseph arrested challenging verbally abusing kochi mayor jain said filed police complaint jude began abusing denied permission shoot city recently renovated subhash bose park director later released bail \n",
            "실제 요약 : malayalam director arrested for abusing kochi mayor \n",
            "예측 요약 :  telugu actor arrested for sexually harassing actress\n",
            "\n",
            "\n",
            "원문 : indian badminton player pv sindhu defeated thailand minutes reach second straight final bwf world tour finals year old face japanese shuttler final repeat last year bwf world championships final notably sindhu unbeaten tournament far \n",
            "실제 요약 : sindhu reaches nd straight final at world tour finals \n",
            "예측 요약 :  sindhu beats world no silver in semis for st time\n",
            "\n",
            "\n",
            "원문 : priyanka chopra took instagram share story seen posing ring shaped balloon trolling people engagement ring priyanka wrote oh ring priyanka reportedly surprised team members sets upcoming film sky pink celebrate engagement nick jonas \n",
            "실제 요약 : oh that ring priyanka trolls people about engagement ring \n",
            "예측 요약 :  priyanka chopra gets engaged to her engagement\n",
            "\n",
            "\n",
            "원문 : technology giant apple tuesday launched iphone announced new iphone battery would last two hours longer previous version iphone newly launched iphone inch display mp dual camera supports wireless charging technology apple also announced launching wireless charging pad \n",
            "실제 요약 : iphone battery to last hours longer than iphone apple \n",
            "예측 요약 :  apple to launch iphone production in india\n",
            "\n",
            "\n",
            "원문 : urdu poet hashim attacked chemical beaten youth brothers went persuade former stop harassing girl girl parents approached help claiming harassed way coaching class police verifying chemical thrown acid \n",
            "실제 요약 : urdu poet attacked after youth harassing girl \n",
            "예측 요약 :  german court orders woman who assaulted his home\n",
            "\n",
            "\n",
            "원문 : world valuable company apple ceo tim cook first job delivering newspapers teenager used deliver newspaper press register publication home state alabama cook completes seven years apple ceo today also worked part time mother local pharmacy \n",
            "실제 요약 : apple ceo tim cook delivered newspapers as teen in st job \n",
            "예측 요약 :  tim cook tim cook once was rejected\n",
            "\n",
            "\n",
            "원문 : akshay kumar bhumi pednekar starrer toilet ek prem katha screened economically less privileged children various multiplexes kolkata screenings organised charity initiative ngo round table india collaboration online entertainment ticketing platform organisers said hoped good sanitation habits among children \n",
            "실제 요약 : toilet ek prem katha screened for underprivileged kids \n",
            "예측 요약 :  akshay kumar to release in toilet toilet ek prem katha\n",
            "\n",
            "\n",
            "원문 : pakistan government wednesday informed special court interpol rejected country request arrest former president pervez musharraf interpol said want interfere cases political nature musharraf currently dubai facing charges treason revoking constitution imposing emergency pakistan \n",
            "실제 요약 : interpol rejects pak request to arrest ex prez musharraf \n",
            "예측 요약 :  pak court orders probe into mastermind probe\n",
            "\n",
            "\n",
            "원문 : bjp chief amit shah thursday appointed union minister prakash javadekar party charge assembly elections karnataka addition union minister piyush goyal appointed co charge state go polls around mid ministers oversee election process karnataka bjp currently opposition \n",
            "실제 요약 : prakash javadekar appointed as bjp taka poll in charge \n",
            "예측 요약 :  bjp appoints gujarat cm candidate for seats in gujarat\n",
            "\n",
            "\n",
            "원문 : talking actress swara bhasker criticised writing open letter opposing jauhar allegedly endorsed sanjay leela bhansali padmaavat richa chadha said think ready abuse richa added later wrote hindi also said aap hindi mein de hain point view \n",
            "실제 요약 : think swara was ready for the abuse richa on padmaavat row \n",
            "예측 요약 :  do not want to swara on padmaavat row\n",
            "\n",
            "\n",
            "원문 : barcelona forward lionel messi saturday signed new contract keep catalan club season new deal buyout clause crore take messi stay club years messi joined barcelona scored goals senior team \n",
            "실제 요약 : messi signs new bar contract with cr buyout \n",
            "예측 요약 :  messi messi messi contract cr for cr fine\n",
            "\n",
            "\n",
            "원문 : marijuana worth crore discovered new mexican made ford fusion car ohio us weed packed half moon shapes hidden spare tyre wells cars wheel weighing approximately kg authorities suspect drugs supposed picked reached dealers \n",
            "실제 요약 : crore worth of weed found inside new ford cars in us \n",
            "예측 요약 :  million worth mn from car worth mn\n",
            "\n",
            "\n",
            "원문 : air india get one time grant israel launching direct flights new delhi tel aviv senior israeli official said tuesday flight expected operate shortest route significantly reduce cost travel two countries \n",
            "실제 요약 : israel to give air india crore for delhi flight \n",
            "예측 요약 :  israel air force to fly travel to air india\n",
            "\n",
            "\n",
            "원문 : apple reportedly cut production orders three new iphone models launched september lower expected demand new iphones availability models made difficult anticipate components handsets company needs reports added apple started selling iphone xs xs max september iphone xr october \n",
            "실제 요약 : apple cuts production for all new iphone models report \n",
            "예측 요약 :  apple to launch iphone production in new iphones report\n",
            "\n",
            "\n",
            "원문 : man halted movement tanks ordered kill student protesters pro democracy protests china square june year old better known tank man identified british publication wang halted tanks displaying palm climbed front lead tank \n",
            "실제 요약 : who was the tank man of china square protests \n",
            "예측 요약 :  us police officers to protest against us in protest\n",
            "\n",
            "\n",
            "원문 : least students scored zero negative marks physics chemistry neet examination got admission mbbs colleges report said students took admission also include least students scored single digit marks physics chemistry students admitted private medical colleges \n",
            "실제 요약 : students with in in neet got into mbbs colleges \n",
            "예측 요약 :  neet marks paper results in class exams\n",
            "\n",
            "\n",
            "원문 : automaker ford offering cash uk customers bid get polluting vehicles roads boost sales ford offer pay drivers cars vans replace least eight year old vehicles newer models notably scheme target crore vehicles across country \n",
            "실제 요약 : ford offers uk customers up to to scrap older vehicles \n",
            "예측 요약 :  maruti cars to shut down cars over cars in uk\n",
            "\n",
            "\n",
            "원문 : us president donald trump administration second time declared iran complying nuclear agreement world powers however warned iran remains one dangerous threats default spirit accord notably trump criticised deal presidential campaign worst deal ever \n",
            "실제 요약 : iran following nuke deal terms in spirit trump \n",
            "예측 요약 :  trump blames iran nuclear deal with nuclear\n",
            "\n",
            "\n",
            "원문 : talking recent cases nipah virus kerala state health minister kk shailaja said need panic contained outbreak effectively adding disease identified record time due state robust health infrastructure shailaja asserted need seek assistance world bodies like world health organisation \n",
            "실제 요약 : we have nipah outbreak kerala minister \n",
            "예측 요약 :  no plans to stop nipah virus in kerala\n",
            "\n",
            "\n",
            "원문 : houthi rebels recently fired ballistic missile towards saudi arabia said willing offer political asylum yemen saudi princes want flee oppression persecution according reports comes saudi princes four current ministers tens former ministers arrested kingdom anti corruption probe \n",
            "실제 요약 : offer saudi political asylum in yemen \n",
            "예측 요약 :  saudi arabia prince missing from yemen country\n",
            "\n",
            "\n",
            "원문 : dalai lama said known sexual abuse buddhist teachers since allegations nothing new made admission visit netherlands met victims sexual abuse allegedly committed buddhist teachers found refuge buddhism raped name victims wrote petition \n",
            "실제 요약 : knew about sex abuse by buddhist teachers since dalai lama \n",
            "예측 요약 :  sexual harassment bill to be probed for sexual assault\n",
            "\n",
            "\n",
            "원문 : union minister arjun meghwal seen climbing tree help ladder village rajasthan bikaner sunday make call mobile phone signal per reports year old later directed setting mobile towers area within three months cost lakh \n",
            "실제 요약 : union minister climbs tree to make phone call in rajasthan \n",
            "예측 요약 :  what is the mobile features in the age of the floor\n",
            "\n",
            "\n",
            "원문 : norway pizza shop week caught using hidden cameras digital billboard scanned onlookers faces real time facial recognition code found recording traits like people gender wearing glasses whether smiling billboard reportedly showed men ads pizzas women presented salad \n",
            "실제 요약 : pizza shop caught using hidden camera to customers \n",
            "예측 요약 :  us store store lets hackers to use drugs\n",
            "\n",
            "\n",
            "원문 : talking upcoming test prototype startup boring company elon musk tweeted exciting video guaranteed earlier startup revealed plans build km route travel us cities washington dc minutes transportation system claims speed kmph \n",
            "실제 요약 : exciting video musk on startup test \n",
            "예측 요약 :  elon musk boring company to make startup\n",
            "\n",
            "\n",
            "원문 : china pakistan november launch bus service pakistan occupied kashmir china pakistan economic corridor project buses travel lahore china two way ticket priced pkr bus service plans boost friendly relations two countries company run service said \n",
            "실제 요약 : china pakistan to start bus service through pok in november \n",
            "예측 요약 :  pakistan to launch cpec corridor in pok bus service\n",
            "\n",
            "\n",
            "원문 : many rapes delhi committed minors increase since according government data released lok sabha tuesday overall increase crimes committed juveniles last year significant rise number vehicle thefts apart rapes \n",
            "실제 요약 : rapes in delhi committed by minors in government \n",
            "예측 요약 :  cases of crimes in assam\n",
            "\n",
            "\n",
            "원문 : chinese technology group leeco founder jia yueting ordered return country within week deal company debts chinese markets watchdog said leeco failure repay debts violation legal rights interests listed companies investors earlier yueting placed official blacklist unpaid debts \n",
            "실제 요약 : leeco founder ordered to return to china within week \n",
            "예측 요약 :  leeco founder leeco founder to be\n",
            "\n",
            "\n",
            "원문 : many four people killed one injured car travelling hit divider ayodhya lucknow highway uttar pradesh monday accident occurred due low visibility owing fog police said injured taken hospital lucknow police added \n",
            "실제 요약 : four killed in road accident due to fog in uttar pradesh \n",
            "예측 요약 :  killed as bus overturns in bihar\n",
            "\n",
            "\n",
            "원문 : amitabh bachchan ranbir kapoor featured cover nd anniversary special issue india today magazine cover story form interview ranbir amitabh two actors seen together karan johar upcoming production brahm stra release \n",
            "실제 요약 : big ranbir feature on india today anniversary issue cover \n",
            "예측 요약 :  alia bhatt shares video of ranbir kapoor raazi\n",
            "\n",
            "\n",
            "원문 : addressing rajya sabha former pm manmohan singh said expected successor pm narendra modi fulfil upa government commitment granting special status andhra pradesh added promised special status state consulting bjp leaders centre earlier offered special package andhra pradesh place special status \n",
            "실제 요약 : expected my successor to keep my promise to andhra manmohan \n",
            "예측 요약 :  pm modi led upa manmohan singh to upa manmohan singh\n",
            "\n",
            "\n",
            "원문 : actress emma watson wore yellow gown inspired ball gown worn disney character event new york gown designed fashion house christian dior made sustainable eco age fabric emma seen portraying upcoming film beauty beast \n",
            "실제 요약 : emma watson wears inspired yellow gown to event \n",
            "예측 요약 :  models show gown at the ramp at cannes film fest\n",
            "\n",
            "\n"
          ]
        }
      ],
      "source": [
        "for i in range(50, 100):\n",
        "    print(\"원문 :\", seq2text(encoder_input_test[i]))\n",
        "    print(\"실제 요약 :\", seq2headlines(decoder_input_test[i]))\n",
        "    print(\"예측 요약 :\", decode_sequence(encoder_input_test[i].reshape(1, text_max_len)))\n",
        "    print(\"\\n\")"
      ]
    },
    {
      "cell_type": "code",
      "execution_count": null,
      "id": "e98b8304",
      "metadata": {
        "id": "e98b8304",
        "outputId": "c55d870b-1f54-44fb-8460-ea4f21d82336"
      },
      "outputs": [
        {
          "name": "stdout",
          "output_type": "stream",
          "text": [
            "원문 : nba side oklahoma city thunder russell tried trade shoe pizza slice child attending thunder match phoenix suns videos showed child took shoe refused hand pizza nba player later talked pizza shoe trade asked reporter \n",
            "실제 요약 : nba player tries to exchange his shoe for kid pizza \n",
            "예측 요약 :  player wears tennis player to score player from his own\n",
            "\n",
            "\n"
          ]
        }
      ],
      "source": [
        "print(\"원문 :\", seq2text(encoder_input_test[0]))\n",
        "print(\"실제 요약 :\", seq2headlines(decoder_input_test[0]))\n",
        "print(\"예측 요약 :\", decode_sequence(encoder_input_test[0].reshape(1, text_max_len)))\n",
        "print(\"\\n\")"
      ]
    },
    {
      "cell_type": "markdown",
      "id": "c46b98af",
      "metadata": {
        "id": "c46b98af"
      },
      "source": [
        "많은 결과가 출력이 되는데, 기존의 요약과는 다른 요약을 출력하면서도 원문의 내용을 담고 있는 의미 있는 요약들이 보입니다. 심지어 일부 요약의 경우에는 원문에 없던 단어를 사용해서 요약을 하기도 하고 있습니다. 워드 임베딩과 RNN의 콜라보로 이뤄낸 신기한 성과네요!\n",
        "\n",
        "물론 좋지 않은 요약의 예도 꽤나 보입니다. 성능을 개선하기 위해서는 seq2seq와 어텐션의 자체의 조합을 좀 더 좋게 수정하는 방법도 있고, 빔 서치(beam search), 사전 훈련된 워드 임베딩(pre-trained word embedding), 또는 인코더 - 디코더 자체의 구조를 새로이 변경한 하는 트랜스포머(Transformer)와 같은 여러 개선 방안들이 존재합니다. 이런 방안들에 대해서도 향후 살펴보겠습니다."
      ]
    },
    {
      "cell_type": "markdown",
      "id": "b00af17f",
      "metadata": {
        "id": "b00af17f"
      },
      "source": [
        "### 11. Summa을 활용한 추출적 요약\n",
        "\n",
        "추상적 요약은 추출적 요약과는 달리 문장의 표현력을 다양하게 가져갈 수 있지만, 추출적 요약에 비해서 난이도가 높습니다.  \n",
        "반대로 말하면 추출적 요약은 추상적 요약에 비해 난이도가 낮고, 기존 문장에서 문장을 가져오는 것이므로 잘못된 요약이 나올 가능성이 낮습니다.\n",
        "\n",
        "`Summa`의 `summarize`를 사용하여 추출적 요약을 진행하겠습니다."
      ]
    },
    {
      "cell_type": "code",
      "execution_count": null,
      "id": "91f44474",
      "metadata": {
        "id": "91f44474"
      },
      "outputs": [],
      "source": [
        "# 데이터 다운로드하기\n",
        "\n",
        "import requests\n",
        "from summa.summarizer import summarize"
      ]
    },
    {
      "cell_type": "code",
      "execution_count": null,
      "id": "d350afa9",
      "metadata": {
        "id": "d350afa9"
      },
      "outputs": [],
      "source": [
        "import urllib.request\n",
        "urllib.request.urlretrieve(\"https://raw.githubusercontent.com/sunnysai12345/News_Summary/master/news_summary_more.csv\", filename=\"news_summary_more.csv\")\n",
        "new_data = pd.read_csv('news_summary_more.csv', encoding='iso-8859-1')"
      ]
    },
    {
      "cell_type": "code",
      "execution_count": null,
      "id": "0890e1e7",
      "metadata": {
        "id": "0890e1e7",
        "outputId": "0f3221b2-0350-4b30-8c0a-51807aaf5f9c"
      },
      "outputs": [
        {
          "name": "stdout",
          "output_type": "stream",
          "text": [
            "전체 샘플수 : 90869\n"
          ]
        }
      ],
      "source": [
        "new_data.drop_duplicates(subset = ['text'], inplace=True)\n",
        "print('전체 샘플수 :', (len(data)))"
      ]
    },
    {
      "cell_type": "code",
      "execution_count": null,
      "id": "34ec164d",
      "metadata": {
        "id": "34ec164d",
        "outputId": "bf7b5d27-ba47-4c43-de2e-d00c7bb31ffe"
      },
      "outputs": [
        {
          "name": "stdout",
          "output_type": "stream",
          "text": [
            "headlines    0\n",
            "text         0\n",
            "dtype: int64\n"
          ]
        }
      ],
      "source": [
        "print(new_data.isnull().sum())"
      ]
    },
    {
      "cell_type": "code",
      "execution_count": null,
      "id": "f7fcaf31",
      "metadata": {
        "id": "f7fcaf31",
        "outputId": "74f84f32-fbca-4374-c4d3-145bfa0b77e5"
      },
      "outputs": [
        {
          "name": "stdout",
          "output_type": "stream",
          "text": [
            "Extractive Summary:\n",
            "The program and upGrad's 360-degree career support helped him transition to a Data Scientist at Tech Mahindra with 90% salary hike.\n",
            "upGrad's Online Power Learning has powered 3 lakh+ careers.\n"
          ]
        }
      ],
      "source": [
        "from summa.summarizer import summarize\n",
        "\n",
        "text_for_extraction_summary = new_data['text'][0]\n",
        "\n",
        "extractive_summary = summarize(text_for_extraction_summary, ratio=0.8)\n",
        "\n",
        "print(\"Extractive Summary:\")\n",
        "print(extractive_summary)"
      ]
    },
    {
      "cell_type": "code",
      "execution_count": null,
      "id": "91648cfd",
      "metadata": {
        "id": "91648cfd",
        "outputId": "f46c85fc-5bdf-4742-b2d7-865c42404930"
      },
      "outputs": [
        {
          "name": "stdout",
          "output_type": "stream",
          "text": [
            "The program and upGrad's 360-degree career support helped him transition to a Data Scientist at Tech Mahindra with 90% salary hike.\n",
            "upGrad's Online Power Learning has powered 3 lakh+ careers.\n"
          ]
        }
      ],
      "source": [
        "print(extractive_summary[:1500])"
      ]
    },
    {
      "cell_type": "markdown",
      "id": "9231c057",
      "metadata": {
        "id": "9231c057"
      },
      "source": [
        "**summarize 사용하기**\n",
        "\n",
        "`Summa`의 `summarize()`에 인자로 사용되는 값들에 대해서 알아 봅시다.\n",
        "\n",
        "* text (str) - 요약할 텍스트.\n",
        "* ratio (float, optional) – 요약문과 원본에서 선택되는 문장의 비율. 0~1 사이의 값.\n",
        "* words (int or None, optional) – 출력에 포함할 단어의 수.\n",
        "* 만약, ratio와 함께 두 파라미터가 모두 제공되는 경우 ratio는 무시합니다.\n",
        "* split (bool, optional) – True면 문장 list, False는 조인(join)된 문자열을 반환.\n",
        "\n",
        "`Summa`의 `summarize`는 문장 토큰화를 별도로 하지 않더라도 내부적으로 문장 토큰화를 수행합니다. 그렇기에 문장 구분이 되어있지 않은 원문의 형태를 입력으로 바로 적용할 수 있습니다. 비율을 적게 설정해서 요약문으로 선택되는 문장의 개수를 줄여보겠습니다. 원문의 0.8%을 출력하도록 설정해 봅시다."
      ]
    },
    {
      "cell_type": "code",
      "execution_count": null,
      "id": "fd39ed8d",
      "metadata": {
        "id": "fd39ed8d",
        "outputId": "11cb67d0-08ac-475b-b56a-ece7a9f7bc3c"
      },
      "outputs": [
        {
          "name": "stdout",
          "output_type": "stream",
          "text": [
            "Summary:\n",
            "The program and upGrad's 360-degree career support helped him transition to a Data Scientist at Tech Mahindra with 90% salary hike.\n"
          ]
        }
      ],
      "source": [
        "print('Summary:')\n",
        "print(summarize(extractive_summary, ratio=0.8))"
      ]
    },
    {
      "cell_type": "markdown",
      "id": "9636598c",
      "metadata": {
        "id": "9636598c"
      },
      "source": [
        "만약 리스트로 출력 결과를 받고 싶다면 split 인자의 값을 True로 설정하면 되겠죠?"
      ]
    },
    {
      "cell_type": "code",
      "execution_count": null,
      "id": "c462e252",
      "metadata": {
        "id": "c462e252",
        "outputId": "0d419fee-427b-437b-de19-1043acced931"
      },
      "outputs": [
        {
          "name": "stdout",
          "output_type": "stream",
          "text": [
            "Summary:\n",
            "[\"The program and upGrad's 360-degree career support helped him transition to a Data Scientist at Tech Mahindra with 90% salary hike.\"]\n"
          ]
        }
      ],
      "source": [
        "print('Summary:')\n",
        "print(summarize(extractive_summary, ratio=0.8, split=True))"
      ]
    },
    {
      "cell_type": "markdown",
      "id": "61782385",
      "metadata": {
        "id": "61782385"
      },
      "source": [
        "단어의 수로 요약문의 크기를 조절할 수 있습니다. 단어를 20개만 선택하겠습니다."
      ]
    },
    {
      "cell_type": "code",
      "execution_count": null,
      "id": "886236fe",
      "metadata": {
        "id": "886236fe",
        "outputId": "2f112840-9e79-42e6-f722-29a027ca25de"
      },
      "outputs": [
        {
          "name": "stdout",
          "output_type": "stream",
          "text": [
            "Summary:\n",
            "The program and upGrad's 360-degree career support helped him transition to a Data Scientist at Tech Mahindra with 90% salary hike.\n"
          ]
        }
      ],
      "source": [
        "print('Summary:')\n",
        "print(summarize(extractive_summary, words=20))"
      ]
    },
    {
      "cell_type": "code",
      "execution_count": null,
      "id": "11699191",
      "metadata": {
        "id": "11699191",
        "outputId": "5645788e-906f-459c-8dd7-25c523fb76ca"
      },
      "outputs": [
        {
          "name": "stdout",
          "output_type": "stream",
          "text": [
            "hike\n",
            "upgrad\n",
            "salary\n"
          ]
        }
      ],
      "source": [
        "import requests\n",
        "from summa import keywords\n",
        "\n",
        "print(keywords.keywords(extractive_summary))"
      ]
    },
    {
      "cell_type": "markdown",
      "id": "bd94b7ac",
      "metadata": {
        "id": "bd94b7ac"
      },
      "source": [
        "뉴스 기사 데이터 [news_summary_more.csv](https://github.com/sunnysai12345/News_Summary)를 사용하여 `Extractive/Abstractive summarization`를 이해하기 위해 위와 같이 단어장 크기를 줄이는 다양한 `text normalization` 적용하여 자연어 처리 작업을 실습하였고, `seq2seq` 모델의 성능을 향상시키는 `Attention Mechanism` 적용해 봤습니다. 실험 과정과 결과에 대한 회고는 xp2_retrospect.ipynb 파일에 정리했습니다."
      ]
    }
  ],
  "metadata": {
    "kernelspec": {
      "display_name": "Python 3 (ipykernel)",
      "language": "python",
      "name": "python3"
    },
    "language_info": {
      "codemirror_mode": {
        "name": "ipython",
        "version": 3
      },
      "file_extension": ".py",
      "mimetype": "text/x-python",
      "name": "python",
      "nbconvert_exporter": "python",
      "pygments_lexer": "ipython3",
      "version": "3.9.7"
    },
    "colab": {
      "provenance": [],
      "include_colab_link": true
    }
  },
  "nbformat": 4,
  "nbformat_minor": 5
}