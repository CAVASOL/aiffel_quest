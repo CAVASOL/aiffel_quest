{
  "nbformat": 4,
  "nbformat_minor": 0,
  "metadata": {
    "colab": {
      "provenance": [],
      "authorship_tag": "ABX9TyOZcY/CPNNjK4gZYT5A/3eS",
      "include_colab_link": true
    },
    "kernelspec": {
      "name": "python3",
      "display_name": "Python 3"
    },
    "language_info": {
      "name": "python"
    }
  },
  "cells": [
    {
      "cell_type": "markdown",
      "metadata": {
        "id": "view-in-github",
        "colab_type": "text"
      },
      "source": [
        "<a href=\"https://colab.research.google.com/github/CAVASOL/aiffel_quest/blob/main/Exploration_quest/exploration_2/xp2_retrospect.ipynb\" target=\"_parent\"><img src=\"https://colab.research.google.com/assets/colab-badge.svg\" alt=\"Open In Colab\"/></a>"
      ]
    },
    {
      "cell_type": "markdown",
      "source": [
        "## 4-1. 프로젝트: 뉴스기사 요약해보기"
      ],
      "metadata": {
        "id": "XVj0K5MdFU1q"
      }
    },
    {
      "cell_type": "markdown",
      "source": [
        "![](https://drive.google.com/uc?export=view&id=1WkVbAHymjjFKANLXf5bKQZyc0kRcdP-8)"
      ],
      "metadata": {
        "id": "qr-PC0cOFWWA"
      }
    },
    {
      "cell_type": "markdown",
      "source": [
        "### Details"
      ],
      "metadata": {
        "id": "GZTZ6rL_ITTR"
      }
    },
    {
      "cell_type": "markdown",
      "source": [
        "뉴스 기사 데이터인 [news_summary_more.csv](https://github.com/sunnysai12345/News_Summary)를 활용하여 **Extractive/Abstractive summarization**을 이해하기 위해 텍스트 정규화 기법을 적용했습니다. 이를 위해 다양한 방법으로 단어장의 크기를 줄였고, **seq2seq** 모델을 디자인했습니다. 또한 **Bahdanau 스타일의 어텐션 메커니즘**을 적용하여 모델의 성능을 향상시켰습니다. 이후, **Summa**의 **summarize** 기능을 활용하여 추출적 요약을 수행했습니다. 실험은 다음과 같은 순서로 진행되었습니다."
      ],
      "metadata": {
        "id": "VXLYp2jfas7n"
      }
    },
    {
      "cell_type": "markdown",
      "source": [
        "### Result"
      ],
      "metadata": {
        "id": "Xnk3V_isIVHy"
      }
    },
    {
      "cell_type": "markdown",
      "source": [
        "![](https://drive.google.com/uc?export=view&id=1pSuKJJPwz9y6N9UlSTMn50GOKfhZQ743)"
      ],
      "metadata": {
        "id": "bcn9XjYfd8Nd"
      }
    },
    {
      "cell_type": "markdown",
      "source": [
        "![](https://drive.google.com/uc?export=view&id=1SAGZbvAbORG48WoQLWIMXxHX1s1Tdsbx)"
      ],
      "metadata": {
        "id": "9juo3iiy9ZwB"
      }
    },
    {
      "cell_type": "markdown",
      "source": [
        ">텍스트 데이터 인덱스 0에 대한 추상적 요약과 추출적 요약에 대한 결과는 아래와 같습니다. 핵심 키워드가 요약에 잘 반영되지 못 한 결과를 보였습니다. Summa의 summarize를 활용한 추출적 요약의 경우, 다양한 방식으로 요약문을 분석할 수 있고, 키워드를 찾을 수 있어서 효율적이었습니다."
      ],
      "metadata": {
        "id": "JUE_X-20CleG"
      }
    },
    {
      "cell_type": "markdown",
      "source": [
        "![](https://drive.google.com/uc?export=view&id=10sXehVHSbjoZEzZU1FoHUuqdCwSQyivC)"
      ],
      "metadata": {
        "id": "ThKfw_WSCVus"
      }
    },
    {
      "cell_type": "markdown",
      "source": [
        "### Retrospect"
      ],
      "metadata": {
        "id": "hPbUNd9PRxNT"
      }
    },
    {
      "cell_type": "markdown",
      "source": [
        ">영어 원문으로 작성된 뉴스 기사를 데이터로 활용하여 추상적 요약 및 추출적 요약을 실험했습니다. 개인적으로 평소 영어로 작성된 고객 리뷰와 같은 자연어는 어떻게 분석하면 좋을지 실험 과정과 퍼포먼스에 대해 궁금했는데 이번 실험을 통해 자연어 처리 과정을 익힐 수 있어서 유익했습니다. 모델을 디자인하는 과정이 어렵게 느껴졌지만 자연어 처리 과정의 전체적인 순서를 알아볼 수 있었고, 각 과정에서 어떤 퍼포먼스가 기대되는지 그리고 무엇이 중요한지 알 수 있었습니다. 실험한 모델의 학습 결과를 살펴보면 스펠링 오타나 난해한 단어가 등장하는 것을 확인할 수 있었고, 키워드 추출을 통해 요약으로 나타난 결과가 원본 텍스트에 얼마가 근사한지 퍼센트와 같은 숫자로 확인할 수 있다면 좋겠다고 생각했습니다. 동일한 데이터를 바탕으로 Transformer나 Hugging Face Transformers를 활용하여 추출적 요약을 진행한다면 어떤 결과가 나타날지 궁금합니다. 일상 생활에서 편리하게 사용하는 다양한 쳇봇 서비스나 번역 서비스 등은 고도화된 기술로서 우리 삶의 정교한 존재로 한 부분을 차지하고 있습니다. 비록 매우 다듬어진 상태의 깨끗한 데이터를 활용하였지만, 실시간 데이터를 활용한 분석을 얼마나 복잡하고 정교할지 감히 상상해봅니다."
      ],
      "metadata": {
        "id": "GeOlPd4WwPS1"
      }
    },
    {
      "cell_type": "markdown",
      "source": [
        "### Reference"
      ],
      "metadata": {
        "id": "i4NPozyHR1ih"
      }
    },
    {
      "cell_type": "markdown",
      "source": [
        "* [Load text](https://www.tensorflow.org/tutorials/load_data/text)\n",
        "* [Attention layer](https://keras.io/api/layers/attention_layers/attention/)\n",
        "* [KerasNLP Workflows](https://keras.io/keras_nlp/)\n",
        "* [Getting Started with KerasNLP](https://keras.io/guides/keras_nlp/getting_started/)\n",
        "* [Text classification with Transformer](https://keras.io/examples/nlp/text_classification_with_transformer/)\n",
        "* [Abstractive Summarization with Hugging Face Transformers](https://keras.io/examples/nlp/t5_hf_summarization/)"
      ],
      "metadata": {
        "id": "Y-DclLQLu95M"
      }
    }
  ]
}