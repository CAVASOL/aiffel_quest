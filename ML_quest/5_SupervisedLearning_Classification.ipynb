{
  "cells": [
    {
      "cell_type": "markdown",
      "metadata": {
        "id": "view-in-github",
        "colab_type": "text"
      },
      "source": [
        "<a href=\"https://colab.research.google.com/github/CAVASOL/aiffel_quest/blob/main/ML_node/ML_with_Python_Supervised_Classification.ipynb\" target=\"_parent\"><img src=\"https://colab.research.google.com/assets/colab-badge.svg\" alt=\"Open In Colab\"/></a>"
      ]
    },
    {
      "cell_type": "markdown",
      "id": "f7a4bfe1",
      "metadata": {
        "id": "f7a4bfe1"
      },
      "source": [
        "**노드 5. 지도학습(분류)**\n",
        "\n",
        "1. 의사결정나무(Decision Tree)\n",
        "2. 랜덤포레스트(Random Forest)\n",
        "3. XGBoost\n",
        "4. Cross Validation\n",
        "5. 평가(분류)"
      ]
    },
    {
      "cell_type": "code",
      "execution_count": null,
      "id": "8bd99d1f",
      "metadata": {
        "id": "8bd99d1f"
      },
      "outputs": [],
      "source": [
        "#lib\n",
        "import pandas as pd\n",
        "from sklearn.model_selection import train_test_split\n",
        "from sklearn.metrics import accuracy_score"
      ]
    },
    {
      "cell_type": "code",
      "execution_count": null,
      "id": "dcab32fc",
      "metadata": {
        "id": "dcab32fc",
        "outputId": "1297a33f-10b6-4043-be46-1b8fefb487bf"
      },
      "outputs": [
        {
          "data": {
            "text/plain": [
              "((284, 30), (285, 30), (284,), (285,))"
            ]
          },
          "execution_count": 43,
          "metadata": {},
          "output_type": "execute_result"
        }
      ],
      "source": [
        "#generate data\n",
        "from sklearn.datasets import load_breast_cancer\n",
        "\n",
        "def make_dataset():\n",
        "  iris = load_breast_cancer()\n",
        "  df = pd.DataFrame(iris.data, columns=iris.feature_names)\n",
        "  df['target'] = iris.target\n",
        "  X_train, X_test, y_train, y_test = train_test_split(\n",
        "      df.drop('target', axis=1),\n",
        "      df['target'],\n",
        "      test_size=0.5,\n",
        "      random_state=1004)\n",
        "  return X_train, X_test, y_train, y_test\n",
        "\n",
        "X_train, X_test, y_train, y_test = make_dataset()\n",
        "X_train.shape, X_test.shape, y_train.shape, y_test.shape"
      ]
    },
    {
      "cell_type": "code",
      "execution_count": null,
      "id": "e24dd4d6",
      "metadata": {
        "id": "e24dd4d6",
        "outputId": "90a82d9a-5ca5-4df2-e5eb-e73c4b209e20"
      },
      "outputs": [
        {
          "data": {
            "text/plain": [
              "1    190\n",
              "0     94\n",
              "Name: target, dtype: int64"
            ]
          },
          "execution_count": 44,
          "metadata": {},
          "output_type": "execute_result"
        }
      ],
      "source": [
        "#check target\n",
        "y_train.value_counts()"
      ]
    },
    {
      "cell_type": "markdown",
      "id": "d8fb028d",
      "metadata": {
        "id": "d8fb028d"
      },
      "source": [
        "**1. Decision Tree**\n",
        "\n",
        "* 지도학습(분류)에서 가장 유용하게 사용되고 있는 기법 중 하나\n",
        "* 트리의 루트에서 시작해서 정보이득이 최대가 되는 특성으로 데이터를 나눔\n",
        "* 정보이득(Information gain)이 최대가 되는 특성을 나누는 기준(불순도를 측정하는 기준)은 '지니'와 '엔트로피'가 사용됨. 데이터가 한 종류만 있다면 엔트로피/지니 불순도는 0에 가깝고, 서로 다른 데이터의 비율이 비슷하면 1에 가까움. 정보이득이 최대라는 것은 불순도를 최소화 하는 방향임(1-불순도)"
      ]
    },
    {
      "cell_type": "code",
      "execution_count": null,
      "id": "45eba8f4",
      "metadata": {
        "id": "45eba8f4",
        "outputId": "f9539d38-c00b-47ef-fbd4-34b9591ddc1b"
      },
      "outputs": [
        {
          "data": {
            "text/plain": [
              "0.9263157894736842"
            ]
          },
          "execution_count": 45,
          "metadata": {},
          "output_type": "execute_result"
        }
      ],
      "source": [
        "#Decision Tree\n",
        "from sklearn.tree import DecisionTreeClassifier\n",
        "model = DecisionTreeClassifier(random_state=0)\n",
        "model.fit(X_train, y_train)\n",
        "pred = model.predict(X_test)\n",
        "accuracy_score(y_test, pred)"
      ]
    },
    {
      "cell_type": "markdown",
      "id": "a2e84485",
      "metadata": {
        "id": "a2e84485"
      },
      "source": [
        "**Decision Tree Hyperparameters**\n",
        "\n",
        "* criterion(default gini) 불순도 지표(또는 엔트로피 불순도 entropy)\n",
        "* max_depth(default None)\n",
        "* min_samples_split(default 2)\n",
        "* min_samples_leaf(default 1)\n",
        "* max_features\n",
        "* min_weight_fraction_leaf\n",
        "* random_state\n",
        "* class_weight"
      ]
    },
    {
      "cell_type": "code",
      "execution_count": null,
      "id": "56785afa",
      "metadata": {
        "id": "56785afa",
        "outputId": "4a2d670c-a697-4a5c-89a5-d8326575754c"
      },
      "outputs": [
        {
          "data": {
            "text/plain": [
              "0.9403508771929825"
            ]
          },
          "execution_count": 46,
          "metadata": {},
          "output_type": "execute_result"
        }
      ],
      "source": [
        "#Decision Tree Hyperparameters\n",
        "from sklearn.tree import DecisionTreeClassifier\n",
        "model = DecisionTreeClassifier(\n",
        "    criterion='entropy',\n",
        "    max_depth=4,\n",
        "    min_samples_leaf=2,\n",
        "    min_samples_split=5,\n",
        "    random_state=0)\n",
        "model.fit(X_train, y_train)\n",
        "pred = model.predict(X_test)\n",
        "accuracy_score(y_test, pred)"
      ]
    },
    {
      "cell_type": "markdown",
      "id": "2a152149",
      "metadata": {
        "id": "2a152149"
      },
      "source": [
        "**2. Random Forest**\n",
        "\n",
        "여러 개의 의사결정나무로 구성\n",
        "앙상블 방법 중 bagging 방식\n",
        "Bootstrap sampling\n",
        "최종 다수결 투표"
      ]
    },
    {
      "cell_type": "code",
      "execution_count": null,
      "id": "d1968620",
      "metadata": {
        "id": "d1968620",
        "outputId": "538c211d-1f74-4383-b09f-867abfc2b03f"
      },
      "outputs": [
        {
          "data": {
            "text/plain": [
              "0.9473684210526315"
            ]
          },
          "execution_count": 47,
          "metadata": {},
          "output_type": "execute_result"
        }
      ],
      "source": [
        "from sklearn.ensemble import RandomForestClassifier\n",
        "model = RandomForestClassifier(\n",
        "    n_estimators=500,\n",
        "    max_depth=5,\n",
        "    random_state=0)\n",
        "model.fit(X_train, y_train)\n",
        "pred = model.predict(X_test)\n",
        "accuracy_score(y_test, pred)"
      ]
    },
    {
      "cell_type": "markdown",
      "id": "ded54095",
      "metadata": {
        "id": "ded54095"
      },
      "source": [
        "**Random Forest Hyperparameters**\n",
        "\n",
        "* n_estimators(default 100) 트리의 수\n",
        "* criterion(default gini) 불순도 지표\n",
        "* max_depth(default None)\n",
        "* min_samples_split(default 2)\n",
        "* min_samples_leaf(default 1)"
      ]
    },
    {
      "cell_type": "code",
      "execution_count": null,
      "id": "0c722ea0",
      "metadata": {
        "id": "0c722ea0",
        "outputId": "0300ff34-d9a7-487b-ace9-7c2d216600f7"
      },
      "outputs": [
        {
          "data": {
            "text/plain": [
              "0.9473684210526315"
            ]
          },
          "execution_count": 48,
          "metadata": {},
          "output_type": "execute_result"
        }
      ],
      "source": [
        "from sklearn.ensemble import RandomForestClassifier\n",
        "model = RandomForestClassifier(\n",
        "    n_estimators=200,\n",
        "    max_depth=5,\n",
        "    random_state=0)\n",
        "model.fit(X_train, y_train)\n",
        "pred = model.predict(X_test)\n",
        "accuracy_score(y_test, pred)"
      ]
    },
    {
      "cell_type": "markdown",
      "id": "2aa35a69",
      "metadata": {
        "id": "2aa35a69"
      },
      "source": [
        "**3. XGBoost, Extreme Gradient Boosting**\n",
        "\n",
        "부스팅(ensemble) 기반의 알고리즘\n",
        "트리 앙상블 중 성능이 좋은 알고리즘"
      ]
    },
    {
      "cell_type": "code",
      "execution_count": null,
      "id": "ff947180",
      "metadata": {
        "id": "ff947180",
        "outputId": "edf59fc8-79c2-4e9e-ade1-26acbf630338"
      },
      "outputs": [
        {
          "data": {
            "text/plain": [
              "0.9508771929824561"
            ]
          },
          "execution_count": 49,
          "metadata": {},
          "output_type": "execute_result"
        }
      ],
      "source": [
        "from xgboost import XGBClassifier\n",
        "model = XGBClassifier(random_state=0, use_label_encoder=False, eval_metric='logloss')\n",
        "model.fit(X_train, y_train)\n",
        "pred = model.predict(X_test)\n",
        "accuracy_score(y_test, pred)"
      ]
    },
    {
      "cell_type": "markdown",
      "id": "70102c86",
      "metadata": {
        "id": "70102c86"
      },
      "source": [
        "**XGBoost Hyperparameters**\n",
        "\n",
        "* booster(default gbtree): 부스팅 알고리즘 (또는 dart, gblinear)\n",
        "* objective(default binary:logistic): 이진분류 (다중분류: multi:softmax)\n",
        "* max_depth(default 6): 최대 한도 깊이\n",
        "* learning_rate(default 0.1): 학습률\n",
        "* n_estimators(default 100): 트리의 수\n",
        "* subsample(default 1): 훈련 샘플 개수의 비율\n",
        "* colsample_bytree(default 1): 특성 개수의 비율\n",
        "* n_jobs(default 1): 사용 코어 수 (-1: 모든 코어를 다 사용)"
      ]
    },
    {
      "cell_type": "code",
      "execution_count": null,
      "id": "988353ff",
      "metadata": {
        "id": "988353ff",
        "outputId": "d0790ca1-3bf7-4b99-bd12-89ad1b7f83a7"
      },
      "outputs": [
        {
          "data": {
            "text/plain": [
              "0.9649122807017544"
            ]
          },
          "execution_count": 50,
          "metadata": {},
          "output_type": "execute_result"
        }
      ],
      "source": [
        "from xgboost import XGBClassifier\n",
        "model = XGBClassifier(random_state=0,\n",
        "                      use_label_encoder=False,\n",
        "                      eval_metric='logloss',\n",
        "                      booster = 'gbtree',\n",
        "                      objective = 'binary:logistic',\n",
        "                      max_depth = 5,\n",
        "                      learning_rate = 0.05,\n",
        "                      n_estimators = 500,\n",
        "                      subsample = 1,\n",
        "                      colsample_bytree = 1,\n",
        "                      n_jobs = -1\n",
        "                     )\n",
        "model.fit(X_train, y_train)\n",
        "pred = model.predict(X_test)\n",
        "accuracy_score(y_test, pred)"
      ]
    },
    {
      "cell_type": "code",
      "execution_count": null,
      "id": "f67e4d57",
      "metadata": {
        "id": "f67e4d57",
        "outputId": "4f203d04-1115-4d39-e797-918eb0434a7f"
      },
      "outputs": [
        {
          "name": "stdout",
          "output_type": "stream",
          "text": [
            "[0]\tvalidation_0-logloss:0.65391\n",
            "[1]\tvalidation_0-logloss:0.61861\n",
            "[2]\tvalidation_0-logloss:0.58697\n",
            "[3]\tvalidation_0-logloss:0.55756\n",
            "[4]\tvalidation_0-logloss:0.53038\n",
            "[5]\tvalidation_0-logloss:0.50611\n",
            "[6]\tvalidation_0-logloss:0.48363\n",
            "[7]\tvalidation_0-logloss:0.46304\n",
            "[8]\tvalidation_0-logloss:0.44332\n",
            "[9]\tvalidation_0-logloss:0.42512\n",
            "[10]\tvalidation_0-logloss:0.40821\n",
            "[11]\tvalidation_0-logloss:0.39260\n",
            "[12]\tvalidation_0-logloss:0.37838\n",
            "[13]\tvalidation_0-logloss:0.36512\n",
            "[14]\tvalidation_0-logloss:0.35276\n",
            "[15]\tvalidation_0-logloss:0.34090\n",
            "[16]\tvalidation_0-logloss:0.33018\n",
            "[17]\tvalidation_0-logloss:0.31967\n",
            "[18]\tvalidation_0-logloss:0.30998\n",
            "[19]\tvalidation_0-logloss:0.30105\n",
            "[20]\tvalidation_0-logloss:0.29259\n",
            "[21]\tvalidation_0-logloss:0.28478\n",
            "[22]\tvalidation_0-logloss:0.27725\n",
            "[23]\tvalidation_0-logloss:0.27027\n",
            "[24]\tvalidation_0-logloss:0.26359\n",
            "[25]\tvalidation_0-logloss:0.25755\n",
            "[26]\tvalidation_0-logloss:0.25139\n",
            "[27]\tvalidation_0-logloss:0.24593\n",
            "[28]\tvalidation_0-logloss:0.24103\n",
            "[29]\tvalidation_0-logloss:0.23648\n",
            "[30]\tvalidation_0-logloss:0.23197\n",
            "[31]\tvalidation_0-logloss:0.22778\n",
            "[32]\tvalidation_0-logloss:0.22354\n",
            "[33]\tvalidation_0-logloss:0.21985\n",
            "[34]\tvalidation_0-logloss:0.21678\n",
            "[35]\tvalidation_0-logloss:0.21353\n",
            "[36]\tvalidation_0-logloss:0.21061\n",
            "[37]\tvalidation_0-logloss:0.20800\n",
            "[38]\tvalidation_0-logloss:0.20558\n",
            "[39]\tvalidation_0-logloss:0.20268\n",
            "[40]\tvalidation_0-logloss:0.20042\n",
            "[41]\tvalidation_0-logloss:0.19771\n",
            "[42]\tvalidation_0-logloss:0.19510\n",
            "[43]\tvalidation_0-logloss:0.19354\n",
            "[44]\tvalidation_0-logloss:0.19128\n",
            "[45]\tvalidation_0-logloss:0.18976\n",
            "[46]\tvalidation_0-logloss:0.18854\n",
            "[47]\tvalidation_0-logloss:0.18668\n",
            "[48]\tvalidation_0-logloss:0.18535\n",
            "[49]\tvalidation_0-logloss:0.18346\n",
            "[50]\tvalidation_0-logloss:0.18234\n",
            "[51]\tvalidation_0-logloss:0.18057\n",
            "[52]\tvalidation_0-logloss:0.17897\n",
            "[53]\tvalidation_0-logloss:0.17816\n",
            "[54]\tvalidation_0-logloss:0.17703\n",
            "[55]\tvalidation_0-logloss:0.17564\n",
            "[56]\tvalidation_0-logloss:0.17445\n",
            "[57]\tvalidation_0-logloss:0.17335\n",
            "[58]\tvalidation_0-logloss:0.17179\n",
            "[59]\tvalidation_0-logloss:0.17106\n",
            "[60]\tvalidation_0-logloss:0.17022\n",
            "[61]\tvalidation_0-logloss:0.16983\n",
            "[62]\tvalidation_0-logloss:0.16899\n",
            "[63]\tvalidation_0-logloss:0.16851\n",
            "[64]\tvalidation_0-logloss:0.16776\n",
            "[65]\tvalidation_0-logloss:0.16681\n",
            "[66]\tvalidation_0-logloss:0.16665\n",
            "[67]\tvalidation_0-logloss:0.16632\n",
            "[68]\tvalidation_0-logloss:0.16533\n",
            "[69]\tvalidation_0-logloss:0.16539\n",
            "[70]\tvalidation_0-logloss:0.16520\n",
            "[71]\tvalidation_0-logloss:0.16446\n",
            "[72]\tvalidation_0-logloss:0.16442\n",
            "[73]\tvalidation_0-logloss:0.16449\n",
            "[74]\tvalidation_0-logloss:0.16469\n",
            "[75]\tvalidation_0-logloss:0.16493\n",
            "[76]\tvalidation_0-logloss:0.16526\n",
            "[77]\tvalidation_0-logloss:0.16542\n",
            "[78]\tvalidation_0-logloss:0.16545\n",
            "[79]\tvalidation_0-logloss:0.16448\n",
            "[80]\tvalidation_0-logloss:0.16470\n",
            "[81]\tvalidation_0-logloss:0.16494\n",
            "[82]\tvalidation_0-logloss:0.16506\n"
          ]
        },
        {
          "data": {
            "text/plain": [
              "0.9473684210526315"
            ]
          },
          "execution_count": 51,
          "metadata": {},
          "output_type": "execute_result"
        }
      ],
      "source": [
        "#early stopping rounds\n",
        "from xgboost import XGBClassifier\n",
        "model = XGBClassifier(random_state=0,\n",
        "                      use_label_encoder=False,\n",
        "                      eval_metric='logloss',\n",
        "                      learning_rate = 0.05,\n",
        "                      n_estimators = 500)\n",
        "eval_set = [(X_test, y_test)]\n",
        "model.fit(X_train, y_train, eval_set=eval_set, early_stopping_rounds=10)\n",
        "pred = model.predict(X_test)\n",
        "accuracy_score(y_test, pred)"
      ]
    },
    {
      "cell_type": "code",
      "execution_count": null,
      "id": "eaeaf7be",
      "metadata": {
        "id": "eaeaf7be"
      },
      "outputs": [],
      "source": [
        "def make_dataset2():\n",
        "    bc = load_breast_cancer()\n",
        "    df = pd.DataFrame(bc.data, columns=bc.feature_names)\n",
        "    df['target'] = bc.target\n",
        "    return df.drop('target', axis=1), df['target']\n",
        "X, y = make_dataset2()"
      ]
    },
    {
      "cell_type": "code",
      "execution_count": null,
      "id": "8c8a3322",
      "metadata": {
        "id": "8c8a3322",
        "outputId": "b9302838-afc9-44fa-b560-460a6ba25afc"
      },
      "outputs": [
        {
          "name": "stdout",
          "output_type": "stream",
          "text": [
            "0.8771929824561403\n",
            "0.9122807017543859\n",
            "0.9473684210526315\n",
            "0.9385964912280702\n",
            "0.8407079646017699\n"
          ]
        }
      ],
      "source": [
        "#KFold\n",
        "from sklearn.model_selection import KFold\n",
        "model = DecisionTreeClassifier(random_state=0)\n",
        "\n",
        "kfold = KFold(n_splits=5)\n",
        "for train_idx, test_idx in kfold.split(X):\n",
        "    X_train, X_test = X.iloc[train_idx], X.iloc[test_idx]\n",
        "    y_train, y_test = y.iloc[train_idx], y.iloc[test_idx]\n",
        "\n",
        "    model.fit(X_train, y_train)\n",
        "    pred = model.predict(X_test)\n",
        "    print(accuracy_score(y_test, pred))"
      ]
    },
    {
      "cell_type": "code",
      "execution_count": null,
      "id": "7160ed6f",
      "metadata": {
        "id": "7160ed6f",
        "outputId": "8753425c-bf56-495a-db5f-4b4f515f05c6"
      },
      "outputs": [
        {
          "name": "stdout",
          "output_type": "stream",
          "text": [
            "0.9035087719298246\n",
            "0.9210526315789473\n",
            "0.9122807017543859\n",
            "0.9473684210526315\n",
            "0.9026548672566371\n"
          ]
        }
      ],
      "source": [
        "#Stratified KFold\n",
        "from sklearn.model_selection import StratifiedKFold\n",
        "model = DecisionTreeClassifier(random_state=0)\n",
        "\n",
        "kfold = StratifiedKFold(n_splits=5)\n",
        "for train_idx, test_idx in kfold.split(X, y):\n",
        "    X_train, X_test = X.iloc[train_idx], X.iloc[test_idx]\n",
        "    y_train, y_test = y.iloc[train_idx], y.iloc[test_idx]\n",
        "\n",
        "    model.fit(X_train, y_train)\n",
        "    pred = model.predict(X_test)\n",
        "    print(accuracy_score(y_test, pred))"
      ]
    },
    {
      "cell_type": "markdown",
      "id": "db509c40",
      "metadata": {
        "id": "db509c40"
      },
      "source": [
        "**Scikit-learn Cross Validation**\n",
        "사이킷런 내부 API를 통해 fit(학습) - predict(예측) - evaluation(평가)"
      ]
    },
    {
      "cell_type": "code",
      "execution_count": null,
      "id": "b72f1d26",
      "metadata": {
        "id": "b72f1d26",
        "outputId": "34b0f95f-109f-4691-e413-773f0d4bb397"
      },
      "outputs": [
        {
          "data": {
            "text/plain": [
              "array([0.88947368, 0.94210526, 0.86243386])"
            ]
          },
          "execution_count": 57,
          "metadata": {},
          "output_type": "execute_result"
        }
      ],
      "source": [
        "from sklearn.model_selection import cross_val_score\n",
        "scores = cross_val_score(model, X, y, cv=3)\n",
        "scores"
      ]
    },
    {
      "cell_type": "code",
      "execution_count": null,
      "id": "6a9a6911",
      "metadata": {
        "id": "6a9a6911",
        "outputId": "1ebffd3b-2287-4187-d340-bc6cefbe62c3"
      },
      "outputs": [
        {
          "data": {
            "text/plain": [
              "0.8980042699340944"
            ]
          },
          "execution_count": 58,
          "metadata": {},
          "output_type": "execute_result"
        }
      ],
      "source": [
        "#avg\n",
        "scores.mean()"
      ]
    },
    {
      "cell_type": "code",
      "execution_count": null,
      "id": "6f8266ea",
      "metadata": {
        "id": "6f8266ea",
        "outputId": "268aa323-8717-40ba-e7b5-8b32e6f106f1"
      },
      "outputs": [
        {
          "data": {
            "text/plain": [
              "array([0.90350877, 0.92105263, 0.9122807 , 0.94736842, 0.90265487])"
            ]
          },
          "execution_count": 59,
          "metadata": {},
          "output_type": "execute_result"
        }
      ],
      "source": [
        "#Cross Validation Stratified KFold\n",
        "kfold = StratifiedKFold(n_splits=5)\n",
        "scores = cross_val_score(model, X, y, cv=kfold)\n",
        "scores"
      ]
    },
    {
      "cell_type": "code",
      "execution_count": null,
      "id": "61d630a7",
      "metadata": {
        "id": "61d630a7",
        "outputId": "361b8d73-9750-4759-964a-b563d888080c"
      },
      "outputs": [
        {
          "data": {
            "text/plain": [
              "0.9173730787144851"
            ]
          },
          "execution_count": 60,
          "metadata": {},
          "output_type": "execute_result"
        }
      ],
      "source": [
        "#avg\n",
        "scores.mean()"
      ]
    },
    {
      "cell_type": "markdown",
      "id": "bcb18466",
      "metadata": {
        "id": "bcb18466"
      },
      "source": [
        "**5. 평가(분류)**\n",
        "* Accuracy 실제값과 예측값이 일치하는 비율\n",
        "* Precision 양성 예측한 값 중 실제 양성인 값(암이라고 예측한 값 중에서 실제 암일 확률)\n",
        "* Recall 실제 양성 값 중 양성으로 예측한 값(실제 암인 값 중 예측도 암인 확률)\n",
        "* F1 정밀도와 재현율의 조화 평균\n",
        "* ROC-AUC\n",
        "    * ROC 참 양성 비율(True Positive Rate)에 대한 거짓 양성 비율(False Positive Rate) 곡선\n",
        "    * AUC ROC곡선 면적 아래(완벽하게 분류되면 AUC 값이 1임)"
      ]
    },
    {
      "cell_type": "code",
      "execution_count": null,
      "id": "5a18e0ad",
      "metadata": {
        "id": "5a18e0ad",
        "outputId": "bc4d814c-b032-41d9-d68f-e410a78419c9"
      },
      "outputs": [
        {
          "data": {
            "text/plain": [
              "0.9026548672566371"
            ]
          },
          "execution_count": 61,
          "metadata": {},
          "output_type": "execute_result"
        }
      ],
      "source": [
        "#Accuracy 정확도\n",
        "from sklearn.metrics import accuracy_score\n",
        "accuracy_score(y_test, pred)"
      ]
    },
    {
      "cell_type": "code",
      "execution_count": null,
      "id": "b659cf19",
      "metadata": {
        "id": "b659cf19",
        "outputId": "d85e44b3-a82a-4876-8556-6e33b1c2f4f5"
      },
      "outputs": [
        {
          "data": {
            "text/plain": [
              "0.9545454545454546"
            ]
          },
          "execution_count": 62,
          "metadata": {},
          "output_type": "execute_result"
        }
      ],
      "source": [
        "#Precision 정밀도\n",
        "from sklearn.metrics import precision_score\n",
        "precision_score(y_test, pred)"
      ]
    },
    {
      "cell_type": "code",
      "execution_count": null,
      "id": "34fa5d64",
      "metadata": {
        "id": "34fa5d64",
        "outputId": "3011bbdb-8c95-4d4e-a851-0ceaef93b725"
      },
      "outputs": [
        {
          "data": {
            "text/plain": [
              "0.8873239436619719"
            ]
          },
          "execution_count": 63,
          "metadata": {},
          "output_type": "execute_result"
        }
      ],
      "source": [
        "#Recall 재현율\n",
        "from sklearn.metrics import recall_score\n",
        "recall_score(y_test, pred)"
      ]
    },
    {
      "cell_type": "code",
      "execution_count": null,
      "id": "620d37ff",
      "metadata": {
        "id": "620d37ff",
        "outputId": "c3d4d306-19ac-4ecd-e2d4-c28d56257ead"
      },
      "outputs": [
        {
          "data": {
            "text/plain": [
              "0.9197080291970803"
            ]
          },
          "execution_count": 64,
          "metadata": {},
          "output_type": "execute_result"
        }
      ],
      "source": [
        "#F1\n",
        "from sklearn.metrics import f1_score\n",
        "f1_score(y_test, pred)"
      ]
    },
    {
      "cell_type": "code",
      "execution_count": null,
      "id": "f6082fc7",
      "metadata": {
        "id": "f6082fc7",
        "outputId": "97faee16-8abd-49d0-83a0-8d9a5c05b146"
      },
      "outputs": [
        {
          "data": {
            "text/plain": [
              "0.999664654594232"
            ]
          },
          "execution_count": 68,
          "metadata": {},
          "output_type": "execute_result"
        }
      ],
      "source": [
        "#ROC-AUC\n",
        "from sklearn.metrics import roc_auc_score\n",
        "model = XGBClassifier(random_state=0, use_label_encoder=False, eval_metric='logloss')\n",
        "model.fit(X_train, y_train)\n",
        "pred = model.predict_proba(X_test)\n",
        "\n",
        "roc_auc_score(y_test, pred[:,1])"
      ]
    }
  ],
  "metadata": {
    "kernelspec": {
      "display_name": "Python 3 (ipykernel)",
      "language": "python",
      "name": "python3"
    },
    "language_info": {
      "codemirror_mode": {
        "name": "ipython",
        "version": 3
      },
      "file_extension": ".py",
      "mimetype": "text/x-python",
      "name": "python",
      "nbconvert_exporter": "python",
      "pygments_lexer": "ipython3",
      "version": "3.9.7"
    },
    "colab": {
      "provenance": [],
      "include_colab_link": true
    }
  },
  "nbformat": 4,
  "nbformat_minor": 5
}