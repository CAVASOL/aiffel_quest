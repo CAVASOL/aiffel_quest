{
  "cells": [
    {
      "cell_type": "markdown",
      "metadata": {
        "id": "view-in-github",
        "colab_type": "text"
      },
      "source": [
        "<a href=\"https://colab.research.google.com/github/CAVASOL/aiffel_quest/blob/main/ML_quest/discover_machine_learning/1_data_handling_a.ipynb\" target=\"_parent\"><img src=\"https://colab.research.google.com/assets/colab-badge.svg\" alt=\"Open In Colab\"/></a>"
      ]
    },
    {
      "cell_type": "markdown",
      "id": "ff50a619",
      "metadata": {
        "id": "ff50a619"
      },
      "source": [
        "### 1. 들어가며\n",
        "\n",
        "**학습목표**\n",
        "\n",
        "* CSV 파일을 불러오고 저장할 수 있습니다.\n",
        "* 원하는 데이터만 선택할 수 있습니다.\n",
        "* 데이터를 추가하거나 변경할 수 있습니다."
      ]
    },
    {
      "cell_type": "markdown",
      "id": "76b6fafa",
      "metadata": {
        "id": "76b6fafa"
      },
      "source": [
        "### 2. 라이브러리 불러오기"
      ]
    },
    {
      "cell_type": "code",
      "execution_count": null,
      "id": "4fdc342f",
      "metadata": {
        "id": "4fdc342f"
      },
      "outputs": [],
      "source": [
        "# Q. 판다스 라이브러리를 'pd'를 별칭으로 불러와주세요.\n",
        "import pandas as pd"
      ]
    },
    {
      "cell_type": "markdown",
      "id": "d12a87cb",
      "metadata": {
        "id": "d12a87cb"
      },
      "source": [
        "### 3. 데이터프레임과 시리즈\n",
        "\n",
        "**데이터프레임과 시리즈**"
      ]
    },
    {
      "cell_type": "code",
      "execution_count": null,
      "id": "8ba2dbe5",
      "metadata": {
        "id": "8ba2dbe5"
      },
      "outputs": [],
      "source": [
        "# Q. 다음의 시리즈 menu, price를 합쳐서 데이터프레임을 만들어보세요.\n",
        "import pandas as pd\n",
        "\n",
        "menu = pd.Series(['후라이드', '양념치킨', '양반후반'])\n",
        "price = pd.Series([12000, 13000, 13000])\n",
        "\n",
        "aha = pd.DataFrame({\n",
        "    'menu':menu,\n",
        "    'price':price\n",
        "})\n",
        "aha"
      ]
    },
    {
      "cell_type": "markdown",
      "id": "bf4eae0f",
      "metadata": {
        "id": "bf4eae0f"
      },
      "source": [
        "### 4. 데이터 불러오기 및 저장"
      ]
    },
    {
      "cell_type": "code",
      "execution_count": null,
      "id": "63af3d66",
      "metadata": {
        "id": "63af3d66"
      },
      "outputs": [],
      "source": [
        "# Q. csv 파일을 저장한 변수의 type은 무엇일까요? 다음 df 변수의 타입을 확인해보세요.\n",
        "data = {\n",
        "    \"메뉴\":['후라이드', '양념치킨', '간장치킨', '마늘치킨', '파닭', '닭강정', '양반후반'],\n",
        "    \"가격\":[12000, 13000, 14000, 14000, 14000, 15000, 13000],\n",
        "    \"호수\":['10호', '10호', '9호', '9호', '11호', '12호', '10호'],\n",
        "    \"칼로리\":[1000, 1400, 1600, 1800, 1300, 1500, 1300],\n",
        "}\n",
        "data = pd.DataFrame(data)\n",
        "data.to_csv('modudak.csv', index=False)\n",
        "df = pd.read_csv('modudak.csv')\n",
        "type(df)"
      ]
    },
    {
      "cell_type": "markdown",
      "id": "5ddb4e5f",
      "metadata": {
        "id": "5ddb4e5f"
      },
      "source": [
        "### 5. 데이터 선택하기"
      ]
    },
    {
      "cell_type": "code",
      "execution_count": null,
      "id": "7d2e2af6",
      "metadata": {
        "id": "7d2e2af6"
      },
      "outputs": [],
      "source": [
        "# Q. df 변수의 메뉴 중 칼로리가 1300 이하이고 가격도 13000 이하인 메뉴는 무엇인가요?\n",
        "# 영상에서 배운 데이터 선택 방법을 사용해서 찾아주세요.\n",
        "import pandas as pd\n",
        "\n",
        "data = {\n",
        "    \"menu\":['후라이드', '양념치킨', '간장치킨', '마늘치킨', '파닭', '닭강정', '반반'],\n",
        "    \"price\":[12000, 13000, 14000, 14000, 14000, 15000, 13000],\n",
        "    \"size\":['10호', '10호', '9호', '9호', '11호', '12호', '10호'],\n",
        "    \"cal\":[1000, 1400, 1600, 1000, 1300, 1500, 1300],\n",
        "}\n",
        "data = pd.DataFrame(data)\n",
        "data.to_csv('modudak.csv', index=False)\n",
        "df = pd.read_csv('modudak.csv')\n",
        "\n",
        "cond1 = df['cal'] <= 1300\n",
        "cond2 = df['price'] <= 13000\n",
        "df[cond1 & cond2]"
      ]
    },
    {
      "cell_type": "markdown",
      "id": "17b17d01",
      "metadata": {
        "id": "17b17d01"
      },
      "source": [
        "### 6. 인덱싱/슬라이싱"
      ]
    },
    {
      "cell_type": "code",
      "execution_count": null,
      "id": "e4b9a885",
      "metadata": {
        "id": "e4b9a885"
      },
      "outputs": [],
      "source": [
        "# Q. loc 혹은 iloc 을 사용해서 df 변수의 데이터 중 양념치킨과 간장치킨의 데이터를 뽑아주세요.\n",
        "import pandas as pd\n",
        "\n",
        "data = {\n",
        "    \"menu\":['후라이드', '양념치킨', '간장치킨', '마늘치킨', '파닭', '닭강정', '반반'],\n",
        "    \"price\":[12000, 13000, 14000, 14000, 14000, 15000, 13000],\n",
        "    \"size\":['10호', '10호', '9호', '9호', '11호', '12호', '10호'],\n",
        "    \"cal\":[1000, 1400, 1600, 1000, 1300, 1500, 1300],\n",
        "}\n",
        "data = pd.DataFrame(data)\n",
        "data.to_csv('modudak.csv', index=False)\n",
        "df = pd.read_csv('modudak.csv')\n",
        "\n",
        "df.iloc[1:3, :]"
      ]
    },
    {
      "cell_type": "markdown",
      "id": "78207187",
      "metadata": {
        "id": "78207187"
      },
      "source": [
        "### 7. Index 다루기"
      ]
    },
    {
      "cell_type": "code",
      "execution_count": null,
      "id": "28bb3d60",
      "metadata": {
        "id": "28bb3d60"
      },
      "outputs": [],
      "source": [
        "# Q. df 변수의 데이터에서 '메뉴' 칼럼을 index로 설정하고 간장치킨의 가격을 뽑아주세요.\n",
        "# loc 혹은 iloc을 활용해주세요.\n",
        "df = pd.read_csv('modudak.csv')\n",
        "\n",
        "df = df.set_index(keys=['menu'])\n",
        "df.loc['간장치킨', 'price']"
      ]
    },
    {
      "cell_type": "code",
      "execution_count": null,
      "id": "05dc4bbd",
      "metadata": {
        "id": "05dc4bbd"
      },
      "outputs": [],
      "source": [
        "# Q8. df 변수 데이터의 index를 다시 reset 해주세요.\n",
        "df.reset_index()"
      ]
    },
    {
      "cell_type": "markdown",
      "id": "057ffc2d",
      "metadata": {
        "id": "057ffc2d"
      },
      "source": [
        "### 8. 행과 열 추가"
      ]
    },
    {
      "cell_type": "code",
      "execution_count": null,
      "id": "84af05d5",
      "metadata": {
        "id": "84af05d5"
      },
      "outputs": [],
      "source": [
        "# Q. df 변수 데이터의 모든 메뉴를 30% 할인된 가격으로 바꿔주세요.\n",
        "df = pd.read_csv('modudak.csv')\n",
        "\n",
        "df['promo'] = 0.3\n",
        "df['promo_price'] = df['price'] * (1-df['promo'])\n",
        "df"
      ]
    },
    {
      "cell_type": "markdown",
      "id": "e72a7bbc",
      "metadata": {
        "id": "e72a7bbc"
      },
      "source": [
        "### 9. 값 변경"
      ]
    },
    {
      "cell_type": "code",
      "execution_count": null,
      "id": "c8e2cf10",
      "metadata": {
        "id": "c8e2cf10"
      },
      "outputs": [],
      "source": [
        "# Q. df 변수 데이터에서 '파닭'의 이름을 '에너르기파닭'으로 바꿔주세요.\n",
        "df = pd.read_csv('modudak.csv')\n",
        "\n",
        "d = {'파닭':'에너르기파닭'}\n",
        "df = df.replace(d)\n",
        "df"
      ]
    },
    {
      "cell_type": "markdown",
      "id": "c73098df",
      "metadata": {
        "id": "c73098df"
      },
      "source": [
        "### 10. 마무리하며"
      ]
    },
    {
      "cell_type": "code",
      "execution_count": null,
      "id": "399b2ec2",
      "metadata": {
        "id": "399b2ec2"
      },
      "outputs": [],
      "source": [
        "# Q. 감사했던 사람을 떠올리며 '사람', '감사한 내용'의 칼럼을 갖고 있는 데이터프레임을 만들어보고,\n",
        "# csv 파일로 저장해주세요.\n",
        "# 데이터는 3개 이상 입력해주세요.\n",
        "\n",
        "import pandas as pd\n",
        "\n",
        "name = ['Paul', 'Adam', 'Fab']\n",
        "gratitude = ['Big fan of me', 'Nice jams', 'Positive thinking']\n",
        "\n",
        "love = pd.DataFrame({\n",
        "    'name':name,\n",
        "    'gratitude':gratitude\n",
        "})\n",
        "\n",
        "love.to_csv('love.csv', index=False)\n",
        "ty = pd.read_csv('love.csv')\n",
        "ty"
      ]
    }
  ],
  "metadata": {
    "kernelspec": {
      "display_name": "Python 3 (ipykernel)",
      "language": "python",
      "name": "python3"
    },
    "language_info": {
      "codemirror_mode": {
        "name": "ipython",
        "version": 3
      },
      "file_extension": ".py",
      "mimetype": "text/x-python",
      "name": "python",
      "nbconvert_exporter": "python",
      "pygments_lexer": "ipython3",
      "version": "3.9.7"
    },
    "colab": {
      "provenance": [],
      "include_colab_link": true
    }
  },
  "nbformat": 4,
  "nbformat_minor": 5
}