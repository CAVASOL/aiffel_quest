{
  "cells": [
    {
      "cell_type": "markdown",
      "metadata": {
        "id": "view-in-github",
        "colab_type": "text"
      },
      "source": [
        "<a href=\"https://colab.research.google.com/github/CAVASOL/aiffel_quest/blob/main/ML_quest/discover_machine_learning/1_data_handling_b.ipynb\" target=\"_parent\"><img src=\"https://colab.research.google.com/assets/colab-badge.svg\" alt=\"Open In Colab\"/></a>"
      ]
    },
    {
      "cell_type": "markdown",
      "id": "1106e823",
      "metadata": {
        "id": "1106e823"
      },
      "source": [
        "### 1. 들어가며\n",
        "\n",
        "**학습 목표**\n",
        "\n",
        "* 결측치를 처리할 수 있습니다.\n",
        "* 자료형을 변환할 수 있습니다.\n",
        "* apply 함수를 통해 새로운 컬럼을 만들 수 있습니다."
      ]
    },
    {
      "cell_type": "markdown",
      "id": "281098a5",
      "metadata": {
        "id": "281098a5"
      },
      "source": [
        "### 2. 데이터 불러오기/만들기"
      ]
    },
    {
      "cell_type": "code",
      "execution_count": null,
      "id": "fff1e2e9",
      "metadata": {
        "id": "fff1e2e9"
      },
      "outputs": [],
      "source": [
        "import pandas as pd\n",
        "import numpy as np\n",
        "df = pd.DataFrame({\n",
        "    'Unnamed: 0': [0,1,2,3,4,5,6,'new',10],\n",
        "    '메뉴': ['황금후라이드','승일양념치킨','간장치킨','마늘치킨','파닭','닭강정','양념반후라이드반','[인기]아이펠치킨','[베스트]풀잎치킨'],\n",
        "    '가격': [12000,13000,14000,14000,14000,15000,13000,16000,9900],\n",
        "    '호수' : ['10호','10호','9호','9호','11호','12호','10호','11호','10호'],\n",
        "    '칼로리' : [1000.0,1400.0,1600.0,1800.0,1300.0,1500.0,1300.0,1200.0,np.nan],\n",
        "    '할인율' : [0.2,0.2,0.2,0.2,0.2,0.2,0.2,0.5,np.nan],\n",
        "    '할인가' : [9600.0,10400.0,11200.0,11200.0,11200.0,12000.0,10400.0,8000.0,np.nan],\n",
        "    '원산지' : ['국내산',np.nan,np.nan,np.nan,'브라질','브라질',np.nan,'국내산',np.nan]\n",
        "})\n",
        "df.to_csv('new_modudak.csv', index=False)\n",
        "df\n",
        "# Q. 위에서 만든 'new_modudak.csv' 파일을 불러와주세요. 이때 'Unnamed: 0' 컬럼을 index로 지정해주세요.\n",
        "pd.read_csv('new_modudak.csv', index_col='Unnamed: 0')"
      ]
    },
    {
      "cell_type": "markdown",
      "id": "5fb85368",
      "metadata": {
        "id": "5fb85368"
      },
      "source": [
        "### 3. 데이터 삭제"
      ]
    },
    {
      "cell_type": "code",
      "execution_count": null,
      "id": "82bf3f93",
      "metadata": {
        "id": "82bf3f93"
      },
      "outputs": [],
      "source": [
        "# Q. 다음 df 변수의 데이터에서 'Unnamed: 0' 컬럼을 삭제하고,\n",
        "# 가격이 15000이상인 메뉴를 삭제해주세요.\n",
        "df = pd.read_csv('new_modudak.csv')\n",
        "df\n",
        "\n",
        "data = df.copy()\n",
        "data\n",
        "\n",
        "data = data.drop('Unnamed: 0', axis=1)\n",
        "cond = data['가격'] >= 15000\n",
        "data[cond].index\n",
        "data.drop(data[cond].index, axis=0, inplace=True)\n",
        "data"
      ]
    },
    {
      "cell_type": "markdown",
      "id": "0769ab86",
      "metadata": {
        "id": "0769ab86"
      },
      "source": [
        "### 4. 결측치 처리"
      ]
    },
    {
      "cell_type": "code",
      "execution_count": null,
      "id": "4f148433",
      "metadata": {
        "id": "4f148433"
      },
      "outputs": [],
      "source": [
        "# Q. 다음 df 변수의 데이터에서 결측치가 칼럼별로 몇 개가 있는지 확인하고,\n",
        "# 결측치를 '빵꾸'로 채워주세요.\n",
        "df = pd.read_csv('new_modudak.csv')\n",
        "df\n",
        "\n",
        "data = df.copy()\n",
        "data = data.drop(columns=['Unnamed: 0'])\n",
        "data\n",
        "\n",
        "data.isnull().sum()\n",
        "\n",
        "data['원산지'] = data['원산지'].fillna('빵꾸')\n",
        "data['칼로리'] = data['칼로리'].fillna('빵꾸')\n",
        "data['할인율'] = data['할인율'].fillna('빵꾸')\n",
        "data['할인가'] = data['할인가'].fillna('빵꾸')\n",
        "\n",
        "data"
      ]
    },
    {
      "cell_type": "markdown",
      "id": "52644a7e",
      "metadata": {
        "id": "52644a7e"
      },
      "source": [
        "### 5. 정렬"
      ]
    },
    {
      "cell_type": "code",
      "execution_count": null,
      "id": "79400900",
      "metadata": {
        "id": "79400900"
      },
      "outputs": [],
      "source": [
        "# Q. 다음 df 변수의 데이터를 높은 칼로리 순으로 정렬해주세요.\n",
        "df = pd.read_csv('new_modudak.csv')\n",
        "df\n",
        "\n",
        "data = df.copy()\n",
        "data = data.drop(columns=['Unnamed: 0'])\n",
        "data\n",
        "\n",
        "\n",
        "data.sort_values('칼로리', ascending=False)\n",
        "df = data.reset_index(drop=True)\n",
        "df"
      ]
    },
    {
      "cell_type": "markdown",
      "id": "ecbb4203",
      "metadata": {
        "id": "ecbb4203"
      },
      "source": [
        "### 6. 자료형 변환"
      ]
    },
    {
      "cell_type": "code",
      "execution_count": null,
      "id": "33222518",
      "metadata": {
        "id": "33222518"
      },
      "outputs": [],
      "source": [
        "# Q. 다음 df 변수의 데이터의 '호수' 칼럼 값들의 표준편차를 구하세요.\n",
        "# 힌트 : 영상에서의 mean() 대신 std() 함수를 사용해보세요.\n",
        "df = pd.read_csv('new_modudak.csv')\n",
        "df\n",
        "\n",
        "data = df.copy()\n",
        "data = data.drop(columns=['Unnamed: 0'])\n",
        "data\n",
        "\n",
        "\n",
        "data['호수'] = data['호수'].str.replace('호', '')\n",
        "data\n",
        "\n",
        "data['호수'] = data['호수'].astype(int)\n",
        "data['호수'].std()"
      ]
    },
    {
      "cell_type": "markdown",
      "id": "34a761fb",
      "metadata": {
        "id": "34a761fb"
      },
      "source": [
        "### 7. 데이터 탐색"
      ]
    },
    {
      "cell_type": "code",
      "execution_count": null,
      "id": "0db17cba",
      "metadata": {
        "id": "0db17cba"
      },
      "outputs": [],
      "source": [
        "# Q. 다음 df 변수의 데이터에서 '가격'의 3분위 수(75%)를 구하고,\n",
        "# '호수'의 종류 수를 구하세요.\n",
        "# 힌트 : describe(), nunique()를 사용해보세요.\n",
        "df = pd.read_csv('new_modudak.csv')\n",
        "df\n",
        "\n",
        "data = df.copy()\n",
        "data = data.drop(columns=['Unnamed: 0'])\n",
        "data\n",
        "\n",
        "data['가격'].quantile(.25)\n",
        "\n",
        "data['호수'] = data['호수'].str.replace('호', '')\n",
        "\n",
        "data['호수'].nunique()"
      ]
    },
    {
      "cell_type": "markdown",
      "id": "f268d890",
      "metadata": {
        "id": "f268d890"
      },
      "source": [
        "### 8. 내장함수"
      ]
    },
    {
      "cell_type": "code",
      "execution_count": null,
      "id": "b5079f52",
      "metadata": {
        "id": "b5079f52"
      },
      "outputs": [],
      "source": [
        "# Q. 다음 df 변수의 데이터에서 '가격' 칼럼의 상위 50% 값들만 뽑아서 df를 만들어주세요.\n",
        "df = pd.read_csv('new_modudak.csv')\n",
        "df\n",
        "\n",
        "data = df.copy()\n",
        "data = data.drop(columns=['Unnamed: 0'])\n",
        "data\n",
        "\n",
        "cond = data['가격'].quantile(.50) == data['가격']\n",
        "data[cond]"
      ]
    },
    {
      "cell_type": "markdown",
      "id": "a637ddf2",
      "metadata": {
        "id": "a637ddf2"
      },
      "source": [
        "### 9. 그룹핑"
      ]
    },
    {
      "cell_type": "code",
      "execution_count": null,
      "id": "d0b71c21",
      "metadata": {
        "id": "d0b71c21"
      },
      "outputs": [],
      "source": [
        "# Q. 다음 df 변수의 데이터에서 '호수'를 기준으로 가격, 칼로리, 할인율, 할인가의 평균을 뽑아주세요.\n",
        "df = pd.read_csv('new_modudak.csv')\n",
        "df\n",
        "\n",
        "data = df.copy()\n",
        "data = data.drop(columns=['Unnamed: 0'])\n",
        "data\n",
        "\n",
        "data.groupby('호수').mean()"
      ]
    },
    {
      "cell_type": "markdown",
      "id": "80fb8a6a",
      "metadata": {
        "id": "80fb8a6a"
      },
      "source": [
        "### 10. apply함수"
      ]
    },
    {
      "cell_type": "code",
      "execution_count": null,
      "id": "9a6092c0",
      "metadata": {
        "id": "9a6092c0"
      },
      "outputs": [],
      "source": [
        "# Q. 다음 df 변수의 데이터에서 각 메뉴의 이름에 '❤️'를 붙여주세요.\n",
        "# ex. 황금후라이드 -> 황금후라이드❤️\n",
        "# apply와 lambda를 활용해주세요.\n",
        "df = pd.read_csv('new_modudak.csv')\n",
        "df\n",
        "\n",
        "data = df.copy()\n",
        "data = data.drop(columns=['Unnamed: 0'])\n",
        "data\n",
        "\n",
        "def menu(x):\n",
        "    return x + '❤️'\n",
        "\n",
        "data['메뉴'] = data['메뉴'].apply(menu)\n",
        "data"
      ]
    },
    {
      "cell_type": "markdown",
      "id": "2c5b4428",
      "metadata": {
        "id": "2c5b4428"
      },
      "source": [
        "### 11. 마무리하며"
      ]
    },
    {
      "cell_type": "code",
      "execution_count": null,
      "id": "972af9b8",
      "metadata": {
        "id": "972af9b8"
      },
      "outputs": [],
      "source": [
        "# Q. 다음 df 변수의 데이터에서 '가성비'라는 칼럼을 만들고,\n",
        "# '호수' / '가격' 의 값이 0.0008을 넘으면 '가성비' 칼럼 값을 'Good' 아니면 'Bad'로 넣어주세요.\n",
        "# 힌트 : astype(), apply, lambda를 활용합니다.\n",
        "df = pd.read_csv('new_modudak.csv')\n",
        "df\n",
        "\n",
        "data = df.copy()\n",
        "data = data.drop(columns=['Unnamed: 0'])\n",
        "data\n",
        "\n",
        "data.info\n",
        "\n",
        "data['호수'] = data['호수'].str.replace('호', '').astype(int)\n",
        "\n",
        "data['가성비'] = data.apply(lambda row: 'Good' if row['호수'] / row['가격'] > 0.0008 else 'Bad', axis=1)\n",
        "data"
      ]
    }
  ],
  "metadata": {
    "kernelspec": {
      "display_name": "Python 3 (ipykernel)",
      "language": "python",
      "name": "python3"
    },
    "language_info": {
      "codemirror_mode": {
        "name": "ipython",
        "version": 3
      },
      "file_extension": ".py",
      "mimetype": "text/x-python",
      "name": "python",
      "nbconvert_exporter": "python",
      "pygments_lexer": "ipython3",
      "version": "3.9.7"
    },
    "colab": {
      "provenance": [],
      "include_colab_link": true
    }
  },
  "nbformat": 4,
  "nbformat_minor": 5
}