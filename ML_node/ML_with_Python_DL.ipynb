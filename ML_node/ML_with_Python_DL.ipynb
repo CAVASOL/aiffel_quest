{
  "cells": [
    {
      "cell_type": "markdown",
      "metadata": {
        "id": "view-in-github",
        "colab_type": "text"
      },
      "source": [
        "<a href=\"https://colab.research.google.com/github/CAVASOL/aiffel_quest/blob/main/ML_node/ML_with_Python_DL.ipynb\" target=\"_parent\"><img src=\"https://colab.research.google.com/assets/colab-badge.svg\" alt=\"Open In Colab\"/></a>"
      ]
    },
    {
      "cell_type": "markdown",
      "id": "ab76c1b7",
      "metadata": {
        "id": "ab76c1b7"
      },
      "source": [
        "**이미지 분류**\n",
        "* TensorFlow\n",
        "* 이미지 분류하기\n",
        "* CNN, 합성곱 신경망"
      ]
    },
    {
      "cell_type": "markdown",
      "id": "1465950a",
      "metadata": {
        "id": "1465950a"
      },
      "source": [
        "**DL**\n",
        "* 뉴런 네트워크 머신러닝 알고리즘\n",
        "* 심층 신경망 DNN, Deep Neural Network\n",
        "* 입력층 - 은닉층 - *출력층(이진분류, 다중분류인지에 따라 출력의 개수가 달라져요)\n",
        "\n",
        "**DL Fiting process**  \n",
        "```\n",
        "순전파(Forward propagation, input에서 output으로 예측값 계산)  \n",
        "손실함수(Loss function, 오차 측정)  \n",
        "Optimizer(경사하강법, Gradient descent)  \n",
        "역전파(Backpropogation, 가중치 조절)  \n",
        "```\n",
        "\n",
        "딥러닝은 오버피팅이 자주 발생되는 모델!  \n",
        "*언더피팅은 과소적합, 오버피팅은 과대적합, Epoch는 데이터셋을 모두 학습한 상태(roof n회)  "
      ]
    },
    {
      "cell_type": "markdown",
      "id": "52d637bc",
      "metadata": {
        "id": "52d637bc"
      },
      "source": [
        "**TensorFlow**\n",
        "\n",
        "2015년 구글 브레인팀 공개  \n",
        "머신러닝을 위한 무료 오픈소스 라이브러리  \n",
        "고수준의 API(Keras)를 지원하고 자동미분 형식  "
      ]
    },
    {
      "cell_type": "code",
      "execution_count": null,
      "id": "8788df5a",
      "metadata": {
        "id": "8788df5a"
      },
      "outputs": [],
      "source": [
        "# Lib\n",
        "import tensorflow as tf\n",
        "import matplotlib.pyplot as plt"
      ]
    },
    {
      "cell_type": "code",
      "execution_count": null,
      "id": "f5bf89f0",
      "metadata": {
        "id": "f5bf89f0",
        "outputId": "9e677600-acf2-4dc5-a2bd-86651d9e3f8d"
      },
      "outputs": [
        {
          "data": {
            "text/plain": [
              "'2.6.0'"
            ]
          },
          "execution_count": 2,
          "metadata": {},
          "output_type": "execute_result"
        }
      ],
      "source": [
        "# version\n",
        "tf.__version__"
      ]
    },
    {
      "cell_type": "code",
      "execution_count": null,
      "id": "f8747045",
      "metadata": {
        "id": "f8747045"
      },
      "outputs": [],
      "source": [
        "# Dataset\n",
        "mnist = tf.keras.datasets.mnist\n",
        "(X_train, y_train), (X_test, y_test) = mnist.load_data()"
      ]
    },
    {
      "cell_type": "code",
      "execution_count": null,
      "id": "783456fa",
      "metadata": {
        "id": "783456fa",
        "outputId": "ca2a2931-626d-4a5e-97f8-72fcd10d3f5e"
      },
      "outputs": [
        {
          "data": {
            "text/plain": [
              "((60000, 28, 28), (60000,), (10000, 28, 28), (10000,))"
            ]
          },
          "execution_count": 4,
          "metadata": {},
          "output_type": "execute_result"
        }
      ],
      "source": [
        "# Dataset size\n",
        "X_train.shape, y_train.shape, X_test.shape, y_test.shape"
      ]
    },
    {
      "cell_type": "code",
      "execution_count": null,
      "id": "fc632c76",
      "metadata": {
        "id": "fc632c76",
        "outputId": "31b98fcf-82cc-474c-9bed-b137390ef6be"
      },
      "outputs": [
        {
          "name": "stdout",
          "output_type": "stream",
          "text": [
            "[[  0   0   0   0   0   0   0   0   0   0   0   0   0   0   0   0   0   0   0   0   0   0   0   0   0   0   0   0]\n",
            " [  0   0   0   0   0   0   0   0   0   0   0   0   0   0   0   0   0   0   0   0   0   0   0   0   0   0   0   0]\n",
            " [  0   0   0   0   0   0   0   0   0   0   0   0   0   0   0   0   0   0   0   0   0   0   0   0   0   0   0   0]\n",
            " [  0   0   0   0   0   0   0   0   0   0   0   0   0   0   0   0   0   0   0   0   0   0   0   0   0   0   0   0]\n",
            " [  0   0   0   0   0   0   0   0   0   0   0   0   0   0   0   0   0   0   0   0   0   0   0   0   0   0   0   0]\n",
            " [  0   0   0   0   0   0   0   0   0   0   0   0   3  18  18  18 126 136 175  26 166 255 247 127   0   0   0   0]\n",
            " [  0   0   0   0   0   0   0   0  30  36  94 154 170 253 253 253 253 253 225 172 253 242 195  64   0   0   0   0]\n",
            " [  0   0   0   0   0   0   0  49 238 253 253 253 253 253 253 253 253 251  93  82  82  56  39   0   0   0   0   0]\n",
            " [  0   0   0   0   0   0   0  18 219 253 253 253 253 253 198 182 247 241   0   0   0   0   0   0   0   0   0   0]\n",
            " [  0   0   0   0   0   0   0   0  80 156 107 253 253 205  11   0  43 154   0   0   0   0   0   0   0   0   0   0]\n",
            " [  0   0   0   0   0   0   0   0   0  14   1 154 253  90   0   0   0   0   0   0   0   0   0   0   0   0   0   0]\n",
            " [  0   0   0   0   0   0   0   0   0   0   0 139 253 190   2   0   0   0   0   0   0   0   0   0   0   0   0   0]\n",
            " [  0   0   0   0   0   0   0   0   0   0   0  11 190 253  70   0   0   0   0   0   0   0   0   0   0   0   0   0]\n",
            " [  0   0   0   0   0   0   0   0   0   0   0   0  35 241 225 160 108   1   0   0   0   0   0   0   0   0   0   0]\n",
            " [  0   0   0   0   0   0   0   0   0   0   0   0   0  81 240 253 253 119  25   0   0   0   0   0   0   0   0   0]\n",
            " [  0   0   0   0   0   0   0   0   0   0   0   0   0   0  45 186 253 253 150  27   0   0   0   0   0   0   0   0]\n",
            " [  0   0   0   0   0   0   0   0   0   0   0   0   0   0   0  16  93 252 253 187   0   0   0   0   0   0   0   0]\n",
            " [  0   0   0   0   0   0   0   0   0   0   0   0   0   0   0   0   0 249 253 249  64   0   0   0   0   0   0   0]\n",
            " [  0   0   0   0   0   0   0   0   0   0   0   0   0   0  46 130 183 253 253 207   2   0   0   0   0   0   0   0]\n",
            " [  0   0   0   0   0   0   0   0   0   0   0   0  39 148 229 253 253 253 250 182   0   0   0   0   0   0   0   0]\n",
            " [  0   0   0   0   0   0   0   0   0   0  24 114 221 253 253 253 253 201  78   0   0   0   0   0   0   0   0   0]\n",
            " [  0   0   0   0   0   0   0   0  23  66 213 253 253 253 253 198  81   2   0   0   0   0   0   0   0   0   0   0]\n",
            " [  0   0   0   0   0   0  18 171 219 253 253 253 253 195  80   9   0   0   0   0   0   0   0   0   0   0   0   0]\n",
            " [  0   0   0   0  55 172 226 253 253 253 253 244 133  11   0   0   0   0   0   0   0   0   0   0   0   0   0   0]\n",
            " [  0   0   0   0 136 253 253 253 212 135 132  16   0   0   0   0   0   0   0   0   0   0   0   0   0   0   0   0]\n",
            " [  0   0   0   0   0   0   0   0   0   0   0   0   0   0   0   0   0   0   0   0   0   0   0   0   0   0   0   0]\n",
            " [  0   0   0   0   0   0   0   0   0   0   0   0   0   0   0   0   0   0   0   0   0   0   0   0   0   0   0   0]\n",
            " [  0   0   0   0   0   0   0   0   0   0   0   0   0   0   0   0   0   0   0   0   0   0   0   0   0   0   0   0]]\n"
          ]
        }
      ],
      "source": [
        "# Dataset check\n",
        "import numpy as np\n",
        "np.set_printoptions(linewidth=120)\n",
        "print(X_train[0])"
      ]
    },
    {
      "cell_type": "code",
      "execution_count": null,
      "id": "23bcab4d",
      "metadata": {
        "id": "23bcab4d",
        "outputId": "00d43a15-e1ec-49df-9bf6-a85cf27987ce"
      },
      "outputs": [
        {
          "data": {
            "text/plain": [
              "<matplotlib.image.AxesImage at 0x7f4b9469bca0>"
            ]
          },
          "execution_count": 6,
          "metadata": {},
          "output_type": "execute_result"
        },
        {
          "data": {
            "image/png": "[encoded data removed]",
            "text/plain": [
              "<Figure size 432x288 with 1 Axes>"
            ]
          },
          "metadata": {
            "needs_background": "light"
          },
          "output_type": "display_data"
        }
      ],
      "source": [
        "# Dataset check (img)\n",
        "plt.imshow(X_train[0])"
      ]
    },
    {
      "cell_type": "code",
      "execution_count": null,
      "id": "cce614da",
      "metadata": {
        "id": "cce614da"
      },
      "outputs": [],
      "source": [
        "# Model\n",
        "from tensorflow.keras.layers import Flatten, Dense\n",
        "from tensorflow.keras.models import Sequential\n",
        "\n",
        "model = Sequential([\n",
        "                    Flatten(input_shape=(28, 28)),\n",
        "                    Dense(256, activation='relu'), # relu는 0보다 작으면 0을, 0보다 크면 x값을 출력하는 활성화함수\n",
        "                    Dense(units=10, activation='softmax')\n",
        "])"
      ]
    },
    {
      "cell_type": "code",
      "execution_count": null,
      "id": "83fc7276",
      "metadata": {
        "id": "83fc7276",
        "outputId": "92b95a1d-1a4a-48d8-d867-4388e98ad8ee"
      },
      "outputs": [
        {
          "name": "stdout",
          "output_type": "stream",
          "text": [
            "Model: \"sequential\"\n",
            "_________________________________________________________________\n",
            "Layer (type)                 Output Shape              Param #   \n",
            "=================================================================\n",
            "flatten (Flatten)            (None, 784)               0         \n",
            "_________________________________________________________________\n",
            "dense (Dense)                (None, 256)               200960    \n",
            "_________________________________________________________________\n",
            "dense_1 (Dense)              (None, 10)                2570      \n",
            "=================================================================\n",
            "Total params: 203,530\n",
            "Trainable params: 203,530\n",
            "Non-trainable params: 0\n",
            "_________________________________________________________________\n"
          ]
        }
      ],
      "source": [
        "model.summary()"
      ]
    },
    {
      "cell_type": "code",
      "execution_count": null,
      "id": "c9911616",
      "metadata": {
        "id": "c9911616"
      },
      "outputs": [],
      "source": [
        "# Compile\n",
        "model.compile(optimizer='adam',\n",
        "              loss='sparse_categorical_crossentropy',\n",
        "              metrics=['accuracy'])"
      ]
    },
    {
      "cell_type": "code",
      "execution_count": null,
      "id": "f71478db",
      "metadata": {
        "id": "f71478db",
        "outputId": "51653c41-62c3-4fdd-968f-2d28bc73537d"
      },
      "outputs": [
        {
          "name": "stdout",
          "output_type": "stream",
          "text": [
            "Epoch 1/5\n",
            "1875/1875 [==============================] - 6s 3ms/step - loss: 2.5984 - accuracy: 0.8900\n",
            "Epoch 2/5\n",
            "1875/1875 [==============================] - 5s 3ms/step - loss: 0.3331 - accuracy: 0.9288\n",
            "Epoch 3/5\n",
            "1875/1875 [==============================] - 5s 3ms/step - loss: 0.2598 - accuracy: 0.9394\n",
            "Epoch 4/5\n",
            "1875/1875 [==============================] - 5s 3ms/step - loss: 0.2459 - accuracy: 0.9437\n",
            "Epoch 5/5\n",
            "1875/1875 [==============================] - 5s 3ms/step - loss: 0.2324 - accuracy: 0.9488\n"
          ]
        }
      ],
      "source": [
        "# Fitting\n",
        "history = model.fit(X_train, y_train, epochs=5)"
      ]
    },
    {
      "cell_type": "code",
      "execution_count": null,
      "id": "2a6cf4a0",
      "metadata": {
        "id": "2a6cf4a0",
        "outputId": "9bd81f24-f43d-449c-de8b-5f24d0f2f047"
      },
      "outputs": [
        {
          "data": {
            "text/plain": [
              "<function matplotlib.pyplot.legend(*args, **kwargs)>"
            ]
          },
          "execution_count": 11,
          "metadata": {},
          "output_type": "execute_result"
        },
        {
          "data": {
            "image/png": "[encoded data removed]",
            "text/plain": [
              "<Figure size 432x288 with 1 Axes>"
            ]
          },
          "metadata": {
            "needs_background": "light"
          },
          "output_type": "display_data"
        }
      ],
      "source": [
        "# 학습 정확도 (epoch에 따른 정확도 변화)\n",
        "plt.plot(history.history['accuracy'], label='acc')\n",
        "plt.xlabel('epochs')\n",
        "plt.ylabel('accuracy')\n",
        "plt.legend"
      ]
    },
    {
      "cell_type": "code",
      "execution_count": null,
      "id": "5ed7683a",
      "metadata": {
        "id": "5ed7683a",
        "outputId": "f72c842b-83bd-4275-86ed-e4f946f50b02"
      },
      "outputs": [
        {
          "data": {
            "text/plain": [
              "<function matplotlib.pyplot.legend(*args, **kwargs)>"
            ]
          },
          "execution_count": 13,
          "metadata": {},
          "output_type": "execute_result"
        },
        {
          "data": {
            "image/png": "[encoded data removed]",
            "text/plain": [
              "<Figure size 432x288 with 1 Axes>"
            ]
          },
          "metadata": {
            "needs_background": "light"
          },
          "output_type": "display_data"
        }
      ],
      "source": [
        "# epoch에 따른 손실 변화\n",
        "plt.plot(history.history['loss'], label='acc')\n",
        "plt.xlabel('epochs')\n",
        "plt.ylabel('loss')\n",
        "plt.legend"
      ]
    },
    {
      "cell_type": "markdown",
      "id": "8cd3d632",
      "metadata": {
        "id": "8cd3d632"
      },
      "source": [
        "**Fashion_mnist data**"
      ]
    },
    {
      "cell_type": "code",
      "execution_count": null,
      "id": "3a95d165",
      "metadata": {
        "id": "3a95d165"
      },
      "outputs": [],
      "source": [
        "# Lib\n",
        "import tensorflow as tf\n",
        "import matplotlib.pyplot as plt\n",
        "import numpy as np"
      ]
    },
    {
      "cell_type": "code",
      "execution_count": null,
      "id": "b5bce6c8",
      "metadata": {
        "id": "b5bce6c8",
        "outputId": "f4b83960-2564-4daf-a0ed-10df7e9ac9d3"
      },
      "outputs": [
        {
          "name": "stdout",
          "output_type": "stream",
          "text": [
            "Downloading data from https://storage.googleapis.com/tensorflow/tf-keras-datasets/train-labels-idx1-ubyte.gz\n",
            "32768/29515 [=================================] - 0s 0us/step\n",
            "40960/29515 [=========================================] - 0s 0us/step\n",
            "Downloading data from https://storage.googleapis.com/tensorflow/tf-keras-datasets/train-images-idx3-ubyte.gz\n",
            "26427392/26421880 [==============================] - 0s 0us/step\n",
            "26435584/26421880 [==============================] - 0s 0us/step\n",
            "Downloading data from https://storage.googleapis.com/tensorflow/tf-keras-datasets/t10k-labels-idx1-ubyte.gz\n",
            "16384/5148 [===============================================================================================] - 0s 0us/step\n",
            "Downloading data from https://storage.googleapis.com/tensorflow/tf-keras-datasets/t10k-images-idx3-ubyte.gz\n",
            "4423680/4422102 [==============================] - 0s 0us/step\n",
            "4431872/4422102 [==============================] - 0s 0us/step\n"
          ]
        }
      ],
      "source": [
        "# Dataset\n",
        "mnist = tf.keras.datasets.fashion_mnist\n",
        "(X_train, y_train), (X_test, y_test) = mnist.load_data()"
      ]
    },
    {
      "cell_type": "code",
      "execution_count": null,
      "id": "092ac51a",
      "metadata": {
        "id": "092ac51a"
      },
      "outputs": [],
      "source": [
        "# Normalization (scaling pixel values to the range [0, 1])\n",
        "X_train, X_test = X_train / 255.0, X_test / 255.0"
      ]
    },
    {
      "cell_type": "code",
      "execution_count": null,
      "id": "41d435f3",
      "metadata": {
        "id": "41d435f3",
        "outputId": "68a37e9c-0fa4-4af0-cb28-05b777b83ec5"
      },
      "outputs": [
        {
          "data": {
            "text/plain": [
              "<matplotlib.image.AxesImage at 0x7f4b8fff12b0>"
            ]
          },
          "execution_count": 18,
          "metadata": {},
          "output_type": "execute_result"
        },
        {
          "data": {
            "image/png": "[encoded data removed]",
            "text/plain": [
              "<Figure size 432x288 with 1 Axes>"
            ]
          },
          "metadata": {
            "needs_background": "light"
          },
          "output_type": "display_data"
        }
      ],
      "source": [
        "# Dataset check (img)\n",
        "plt.imshow(X_train[0])"
      ]
    },
    {
      "cell_type": "code",
      "execution_count": null,
      "id": "55f5b16e",
      "metadata": {
        "id": "55f5b16e",
        "outputId": "64aff834-e502-4d86-f042-c9383d1c4c61"
      },
      "outputs": [
        {
          "data": {
            "text/plain": [
              "9"
            ]
          },
          "execution_count": 19,
          "metadata": {},
          "output_type": "execute_result"
        }
      ],
      "source": [
        "y_train[0]"
      ]
    },
    {
      "cell_type": "code",
      "execution_count": null,
      "id": "903abb00",
      "metadata": {
        "id": "903abb00",
        "outputId": "953e9cf4-77d0-4984-90d8-d4a403693e73"
      },
      "outputs": [
        {
          "name": "stdout",
          "output_type": "stream",
          "text": [
            "Ankle boot\n"
          ]
        }
      ],
      "source": [
        "# Label check\n",
        "classes = [\n",
        "    'T-shirt/top', 'Trouser', 'Pullover', 'Dress', 'Coat',\n",
        "    'Sandal', 'Shirt', 'Sneaker', 'Bag', 'Ankle boot'\n",
        "]\n",
        "\n",
        "print(classes[y_train[0]])"
      ]
    },
    {
      "cell_type": "code",
      "execution_count": null,
      "id": "119096b1",
      "metadata": {
        "id": "119096b1",
        "outputId": "e8c1cd3d-4d3d-4a2a-ccf7-7e07e023c603"
      },
      "outputs": [
        {
          "name": "stdout",
          "output_type": "stream",
          "text": [
            "T-shirt/top\n"
          ]
        },
        {
          "data": {
            "text/plain": [
              "<matplotlib.image.AxesImage at 0x7f4b8fea1dc0>"
            ]
          },
          "execution_count": 22,
          "metadata": {},
          "output_type": "execute_result"
        },
        {
          "data": {
            "image/png": "[encoded data removed]",
            "text/plain": [
              "<Figure size 432x288 with 1 Axes>"
            ]
          },
          "metadata": {
            "needs_background": "light"
          },
          "output_type": "display_data"
        }
      ],
      "source": [
        "# Dataset check (img, label)\n",
        "print(classes[y_train[1]])\n",
        "plt.imshow(X_train[1])"
      ]
    },
    {
      "cell_type": "code",
      "execution_count": null,
      "id": "1b3d97ac",
      "metadata": {
        "id": "1b3d97ac"
      },
      "outputs": [],
      "source": [
        "# Model\n",
        "from tensorflow.keras.layers import Flatten, Dense, Dropout\n",
        "from tensorflow.keras.models import Sequential\n",
        "\n",
        "model = Sequential([\n",
        "                    Flatten(input_shape=(28, 28)),\n",
        "                    Dense(256, activation='relu'),\n",
        "                    Dropout(0.2),\n",
        "                    Dense(units=10, activation='softmax')\n",
        "])"
      ]
    },
    {
      "cell_type": "code",
      "execution_count": null,
      "id": "b824a3b3",
      "metadata": {
        "id": "b824a3b3"
      },
      "outputs": [],
      "source": [
        "# Compile\n",
        "model.compile(optimizer='adam',\n",
        "              loss='sparse_categorical_crossentropy',\n",
        "              metrics=['accuracy'])"
      ]
    },
    {
      "cell_type": "code",
      "execution_count": null,
      "id": "056c23e9",
      "metadata": {
        "id": "056c23e9",
        "outputId": "5b3abf85-338b-4b17-e52f-83af65f53966"
      },
      "outputs": [
        {
          "name": "stdout",
          "output_type": "stream",
          "text": [
            "Epoch 1/10\n",
            "1875/1875 [==============================] - 7s 3ms/step - loss: 0.5056 - accuracy: 0.8192 - val_loss: 0.4203 - val_accuracy: 0.8467\n",
            "Epoch 2/10\n",
            "1875/1875 [==============================] - 6s 3ms/step - loss: 0.3879 - accuracy: 0.8588 - val_loss: 0.3801 - val_accuracy: 0.8630\n",
            "Epoch 3/10\n",
            "1875/1875 [==============================] - 6s 3ms/step - loss: 0.3547 - accuracy: 0.8709 - val_loss: 0.3754 - val_accuracy: 0.8669\n",
            "Epoch 4/10\n",
            "1875/1875 [==============================] - 6s 3ms/step - loss: 0.3338 - accuracy: 0.8768 - val_loss: 0.3607 - val_accuracy: 0.8670\n",
            "Epoch 5/10\n",
            "1875/1875 [==============================] - 6s 3ms/step - loss: 0.3158 - accuracy: 0.8827 - val_loss: 0.3517 - val_accuracy: 0.8698\n",
            "Epoch 6/10\n",
            "1875/1875 [==============================] - 6s 3ms/step - loss: 0.3069 - accuracy: 0.8854 - val_loss: 0.3471 - val_accuracy: 0.8727\n",
            "Epoch 7/10\n",
            "1875/1875 [==============================] - 6s 3ms/step - loss: 0.2916 - accuracy: 0.8909 - val_loss: 0.3623 - val_accuracy: 0.8713\n",
            "Epoch 8/10\n",
            "1875/1875 [==============================] - 6s 3ms/step - loss: 0.2852 - accuracy: 0.8928 - val_loss: 0.3392 - val_accuracy: 0.8800\n",
            "Epoch 9/10\n",
            "1875/1875 [==============================] - 6s 3ms/step - loss: 0.2766 - accuracy: 0.8964 - val_loss: 0.3536 - val_accuracy: 0.8715\n",
            "Epoch 10/10\n",
            "1875/1875 [==============================] - 6s 3ms/step - loss: 0.2698 - accuracy: 0.8981 - val_loss: 0.3279 - val_accuracy: 0.8852\n"
          ]
        }
      ],
      "source": [
        "# Fitting\n",
        "# history = model.fit(X_train, y_train, validation_split=0.2, epochs=5)\n",
        "history = model.fit(X_train, y_train, validation_data=(X_test, y_test), epochs=10)"
      ]
    },
    {
      "cell_type": "code",
      "execution_count": null,
      "id": "3fb15831",
      "metadata": {
        "id": "3fb15831",
        "outputId": "b2950f9a-3d27-4d21-dbc2-94953209bad4"
      },
      "outputs": [
        {
          "data": {
            "text/plain": [
              "<matplotlib.legend.Legend at 0x7f4b8dcdeeb0>"
            ]
          },
          "execution_count": 28,
          "metadata": {},
          "output_type": "execute_result"
        },
        {
          "data": {
            "image/png": "[encoded data removed]",
            "text/plain": [
              "<Figure size 432x288 with 1 Axes>"
            ]
          },
          "metadata": {
            "needs_background": "light"
          },
          "output_type": "display_data"
        }
      ],
      "source": [
        "# 학습 정확도 (epoch에 따른 정확도 변화)\n",
        "plt.plot(history.history['accuracy'], label='acc')\n",
        "plt.plot(history.history['val_accuracy'], label='val')\n",
        "plt.xlabel('epochs')\n",
        "plt.ylabel('accuracy')\n",
        "plt.legend()"
      ]
    },
    {
      "cell_type": "code",
      "execution_count": null,
      "id": "5955eafe",
      "metadata": {
        "id": "5955eafe",
        "outputId": "f2ea80c5-9a5b-4af4-c98a-e1ba3b3eebb5"
      },
      "outputs": [
        {
          "data": {
            "text/plain": [
              "<function matplotlib.pyplot.legend(*args, **kwargs)>"
            ]
          },
          "execution_count": 30,
          "metadata": {},
          "output_type": "execute_result"
        },
        {
          "data": {
            "image/png": "[encoded data removed]",
            "text/plain": [
              "<Figure size 432x288 with 1 Axes>"
            ]
          },
          "metadata": {
            "needs_background": "light"
          },
          "output_type": "display_data"
        }
      ],
      "source": [
        "# epoch에 따른 손실 변화\n",
        "plt.plot(history.history['loss'], label='acc')\n",
        "plt.plot(history.history['val_loss'], label='val')\n",
        "plt.xlabel('epochs')\n",
        "plt.ylabel('loss')\n",
        "plt.legend"
      ]
    },
    {
      "cell_type": "code",
      "execution_count": null,
      "id": "918a86b9",
      "metadata": {
        "id": "918a86b9",
        "outputId": "ee639da0-6a7e-4c55-cb69-8ac8ad12ddfa"
      },
      "outputs": [
        {
          "data": {
            "text/plain": [
              "array([2.2554897e-05, 7.1532534e-15, 9.9823147e-01, 2.9202277e-10, 8.4802380e-04, 2.1743575e-15, 8.9791574e-04,\n",
              "       8.0169569e-21, 1.5206791e-11, 2.4800914e-21], dtype=float32)"
            ]
          },
          "execution_count": 31,
          "metadata": {},
          "output_type": "execute_result"
        }
      ],
      "source": [
        "# Predict\n",
        "pred = model.predict(X_test)\n",
        "pred[1]"
      ]
    },
    {
      "cell_type": "code",
      "execution_count": null,
      "id": "b99965f9",
      "metadata": {
        "id": "b99965f9",
        "outputId": "40360df4-0f2b-41dc-e8be-58cd367c25c8"
      },
      "outputs": [
        {
          "data": {
            "text/plain": [
              "2"
            ]
          },
          "execution_count": 32,
          "metadata": {},
          "output_type": "execute_result"
        }
      ],
      "source": [
        "# 가장 높은 값 찾기 - np.argmax()는 데이터에서 가장 높은 인덱스 값을 반환\n",
        "np.argmax(pred[1])"
      ]
    },
    {
      "cell_type": "code",
      "execution_count": null,
      "id": "5e834ab9",
      "metadata": {
        "id": "5e834ab9",
        "outputId": "513570aa-ea4c-4364-cb2d-65779f1f97f3"
      },
      "outputs": [
        {
          "data": {
            "text/plain": [
              "'Pullover'"
            ]
          },
          "execution_count": 33,
          "metadata": {},
          "output_type": "execute_result"
        }
      ],
      "source": [
        "# 예측한 레이블은?\n",
        "classes[np.argmax(pred[1])]"
      ]
    },
    {
      "cell_type": "code",
      "execution_count": null,
      "id": "0623377b",
      "metadata": {
        "id": "0623377b",
        "outputId": "2c758cb8-75f6-4a62-8ae8-7774033f38b8"
      },
      "outputs": [
        {
          "data": {
            "text/plain": [
              "'Pullover'"
            ]
          },
          "execution_count": 37,
          "metadata": {},
          "output_type": "execute_result"
        }
      ],
      "source": [
        "# 실제 레이블\n",
        "classes[y_test[1]]"
      ]
    },
    {
      "cell_type": "code",
      "execution_count": null,
      "id": "c92ba00c",
      "metadata": {
        "id": "c92ba00c",
        "outputId": "e4162de9-3508-4263-8d9d-31201ae91a12"
      },
      "outputs": [
        {
          "data": {
            "text/plain": [
              "<matplotlib.image.AxesImage at 0x7f4b8f3737c0>"
            ]
          },
          "execution_count": 38,
          "metadata": {},
          "output_type": "execute_result"
        },
        {
          "data": {
            "image/png": "[encoded data removed]",
            "text/plain": [
              "<Figure size 432x288 with 1 Axes>"
            ]
          },
          "metadata": {
            "needs_background": "light"
          },
          "output_type": "display_data"
        }
      ],
      "source": [
        "# Dataset check (img)\n",
        "plt.imshow(X_test[1])"
      ]
    },
    {
      "cell_type": "markdown",
      "id": "c795270c",
      "metadata": {
        "id": "c795270c"
      },
      "source": [
        "**합성곱 신경망(CNN, Convolutional Neural Network)을 활용하여 이미지 분류(성능 올리기)**  \n",
        ">합성곱 신경망(CNN)은 시각적 영상을 분류하는데 사용되는 다층의 피드, 포워드적인 인공싱경망의 한 종류  \n",
        "합성곱층(Convolution layer)과 풀링층(Pulling layer)으로 구성\n",
        "\n"
      ]
    },
    {
      "cell_type": "code",
      "execution_count": null,
      "id": "f57a5749",
      "metadata": {
        "id": "f57a5749"
      },
      "outputs": [],
      "source": [
        "# Lib\n",
        "import tensorflow as tf\n",
        "import matplotlib.pyplot as plt\n",
        "from tensorflow.keras.layers import Flatten, Dense, Dropout, Conv2D, MaxPooling2D\n",
        "from tensorflow.keras.models import Sequential"
      ]
    },
    {
      "cell_type": "code",
      "execution_count": null,
      "id": "aa8885c9",
      "metadata": {
        "id": "aa8885c9"
      },
      "outputs": [],
      "source": [
        "# Dataset\n",
        "mnist = tf.keras.datasets.fashion_mnist\n",
        "(X_train, y_train), (X_test, y_test) = mnist.load_data()"
      ]
    },
    {
      "cell_type": "code",
      "execution_count": null,
      "id": "3c51dc7a",
      "metadata": {
        "id": "3c51dc7a"
      },
      "outputs": [],
      "source": [
        "# shape 변경\n",
        "X_train = X_train.reshape((60000, 28, 28, 1))\n",
        "X_test = X_test.reshape((10000, 28, 28, 1))"
      ]
    },
    {
      "cell_type": "code",
      "execution_count": null,
      "id": "411820a2",
      "metadata": {
        "id": "411820a2"
      },
      "outputs": [],
      "source": [
        "# Normalization (scaling pixel values to the range [0, 1])\n",
        "X_train, X_test = X_train / 255.0, X_test / 255.0"
      ]
    },
    {
      "cell_type": "code",
      "execution_count": null,
      "id": "aef492b5",
      "metadata": {
        "id": "aef492b5"
      },
      "outputs": [],
      "source": [
        "# Model\n",
        "model = Sequential([\n",
        "                    Conv2D(32, (3, 3), activation='relu', input_shape=(28, 28, 1)),\n",
        "                    MaxPooling2D((2, 2)),\n",
        "                    Conv2D(64, (3, 3), activation='relu'),\n",
        "                    MaxPooling2D((2, 2)),\n",
        "                    Flatten(),\n",
        "                    Dense(64, activation='relu'),\n",
        "                    Dense(10, activation='softmax')\n",
        "])"
      ]
    },
    {
      "cell_type": "code",
      "execution_count": null,
      "id": "79618f38",
      "metadata": {
        "id": "79618f38"
      },
      "outputs": [],
      "source": [
        "# Compile\n",
        "model.compile(optimizer='adam',\n",
        "              loss='sparse_categorical_crossentropy',\n",
        "              metrics=['accuracy'])"
      ]
    },
    {
      "cell_type": "code",
      "execution_count": null,
      "id": "c75d8764",
      "metadata": {
        "id": "c75d8764",
        "outputId": "72725a4f-9fd5-47d7-c146-a4184e8fab3a"
      },
      "outputs": [
        {
          "name": "stdout",
          "output_type": "stream",
          "text": [
            "Model: \"sequential_2\"\n",
            "_________________________________________________________________\n",
            "Layer (type)                 Output Shape              Param #   \n",
            "=================================================================\n",
            "conv2d (Conv2D)              (None, 26, 26, 32)        320       \n",
            "_________________________________________________________________\n",
            "max_pooling2d (MaxPooling2D) (None, 13, 13, 32)        0         \n",
            "_________________________________________________________________\n",
            "conv2d_1 (Conv2D)            (None, 11, 11, 64)        18496     \n",
            "_________________________________________________________________\n",
            "max_pooling2d_1 (MaxPooling2 (None, 5, 5, 64)          0         \n",
            "_________________________________________________________________\n",
            "flatten_4 (Flatten)          (None, 1600)              0         \n",
            "_________________________________________________________________\n",
            "dense_6 (Dense)              (None, 64)                102464    \n",
            "_________________________________________________________________\n",
            "dense_7 (Dense)              (None, 10)                650       \n",
            "=================================================================\n",
            "Total params: 121,930\n",
            "Trainable params: 121,930\n",
            "Non-trainable params: 0\n",
            "_________________________________________________________________\n"
          ]
        }
      ],
      "source": [
        "model.summary()"
      ]
    },
    {
      "cell_type": "code",
      "execution_count": null,
      "id": "7bc9ad8e",
      "metadata": {
        "id": "7bc9ad8e",
        "outputId": "828c99d7-22ba-4dd1-b226-24751c3ba32c"
      },
      "outputs": [
        {
          "name": "stdout",
          "output_type": "stream",
          "text": [
            "Epoch 1/10\n",
            "1875/1875 [==============================] - 66s 35ms/step - loss: 0.4707 - accuracy: 0.8281 - val_loss: 0.3861 - val_accuracy: 0.8606\n",
            "Epoch 2/10\n",
            "1875/1875 [==============================] - 65s 35ms/step - loss: 0.3168 - accuracy: 0.8836 - val_loss: 0.3148 - val_accuracy: 0.8833\n",
            "Epoch 3/10\n",
            "1875/1875 [==============================] - 97s 52ms/step - loss: 0.2712 - accuracy: 0.8993 - val_loss: 0.2889 - val_accuracy: 0.8930\n",
            "Epoch 4/10\n",
            "1875/1875 [==============================] - 132s 71ms/step - loss: 0.2426 - accuracy: 0.9107 - val_loss: 0.2671 - val_accuracy: 0.9020\n",
            "Epoch 5/10\n",
            "1875/1875 [==============================] - 132s 70ms/step - loss: 0.2182 - accuracy: 0.9197 - val_loss: 0.2600 - val_accuracy: 0.9074\n",
            "Epoch 6/10\n",
            "1875/1875 [==============================] - 131s 70ms/step - loss: 0.1952 - accuracy: 0.9272 - val_loss: 0.2469 - val_accuracy: 0.9104\n",
            "Epoch 7/10\n",
            "1875/1875 [==============================] - 132s 70ms/step - loss: 0.1789 - accuracy: 0.9339 - val_loss: 0.2615 - val_accuracy: 0.9100\n",
            "Epoch 8/10\n",
            "1875/1875 [==============================] - 107s 57ms/step - loss: 0.1605 - accuracy: 0.9402 - val_loss: 0.2550 - val_accuracy: 0.9099\n",
            "Epoch 9/10\n",
            "1875/1875 [==============================] - 64s 34ms/step - loss: 0.1442 - accuracy: 0.9454 - val_loss: 0.2666 - val_accuracy: 0.9106\n",
            "Epoch 10/10\n",
            "1875/1875 [==============================] - 83s 44ms/step - loss: 0.1314 - accuracy: 0.9505 - val_loss: 0.2845 - val_accuracy: 0.9126\n"
          ]
        }
      ],
      "source": [
        "# Fitting\n",
        "history = model.fit(X_train, y_train, validation_data=(X_test, y_test), epochs=10)"
      ]
    },
    {
      "cell_type": "code",
      "execution_count": null,
      "id": "7183918c",
      "metadata": {
        "id": "7183918c",
        "outputId": "4c9b5a69-caeb-4179-c613-4c956530dc11"
      },
      "outputs": [
        {
          "data": {
            "text/plain": [
              "<matplotlib.legend.Legend at 0x7f4b8f144bb0>"
            ]
          },
          "execution_count": 47,
          "metadata": {},
          "output_type": "execute_result"
        },
        {
          "data": {
            "image/png": "[encoded data removed]",
            "text/plain": [
              "<Figure size 432x288 with 1 Axes>"
            ]
          },
          "metadata": {
            "needs_background": "light"
          },
          "output_type": "display_data"
        }
      ],
      "source": [
        "# 학습 정확도 (epoch에 따른 정확도 변화)\n",
        "plt.plot(history.history['accuracy'], label='train')\n",
        "plt.plot(history.history['val_accuracy'], label='val')\n",
        "plt.xlabel('epochs')\n",
        "plt.ylabel('accuracy')\n",
        "plt.legend()"
      ]
    },
    {
      "cell_type": "code",
      "execution_count": null,
      "id": "4ca13fb1",
      "metadata": {
        "id": "4ca13fb1",
        "outputId": "6445f68d-8234-4c2f-c7b2-9916a94b7bfb"
      },
      "outputs": [
        {
          "data": {
            "text/plain": [
              "<function matplotlib.pyplot.legend(*args, **kwargs)>"
            ]
          },
          "execution_count": 48,
          "metadata": {},
          "output_type": "execute_result"
        },
        {
          "data": {
            "image/png": "[encoded data removed]",
            "text/plain": [
              "<Figure size 432x288 with 1 Axes>"
            ]
          },
          "metadata": {
            "needs_background": "light"
          },
          "output_type": "display_data"
        }
      ],
      "source": [
        "# epoch에 따른 손실 변화\n",
        "plt.plot(history.history['loss'], label='train')\n",
        "plt.plot(history.history['val_loss'], label='val')\n",
        "plt.xlabel('epochs')\n",
        "plt.ylabel('loss')\n",
        "plt.legend"
      ]
    }
  ],
  "metadata": {
    "kernelspec": {
      "display_name": "Python 3 (ipykernel)",
      "language": "python",
      "name": "python3"
    },
    "language_info": {
      "codemirror_mode": {
        "name": "ipython",
        "version": 3
      },
      "file_extension": ".py",
      "mimetype": "text/x-python",
      "name": "python",
      "nbconvert_exporter": "python",
      "pygments_lexer": "ipython3",
      "version": "3.9.7"
    },
    "colab": {
      "provenance": [],
      "include_colab_link": true
    }
  },
  "nbformat": 4,
  "nbformat_minor": 5
}