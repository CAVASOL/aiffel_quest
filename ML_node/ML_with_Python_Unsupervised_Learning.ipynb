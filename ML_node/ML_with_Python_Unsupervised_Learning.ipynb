{
  "cells": [
    {
      "cell_type": "markdown",
      "metadata": {
        "id": "view-in-github",
        "colab_type": "text"
      },
      "source": [
        "<a href=\"https://colab.research.google.com/github/CAVASOL/aiffel_quest/blob/main/ML_node/ML_with_Python_Unsupervised_Learning.ipynb\" target=\"_parent\"><img src=\"https://colab.research.google.com/assets/colab-badge.svg\" alt=\"Open In Colab\"/></a>"
      ]
    },
    {
      "cell_type": "markdown",
      "id": "4dc53644",
      "metadata": {
        "id": "4dc53644"
      },
      "source": [
        "**Unsupervised Learning**\n",
        "1. PCA\n",
        "2. Clustering  \n",
        "    1) K-Means Clustering  \n",
        "    2) Dendrogram, Hierarchical Clustering  "
      ]
    },
    {
      "cell_type": "markdown",
      "id": "ece13d30",
      "metadata": {
        "id": "ece13d30"
      },
      "source": [
        "**PCA, Principal Component Analysis**\n",
        "* a representative method of dimensionality reduction\n",
        "* Linear projection technique to reduce from high dimension to low dimension\n",
        "* 데이터의 차원이 증가할 수록 거리가 증가하고, 오버피팅 가능성이 커진다\n",
        "\n",
        "* PCA process\n",
        "    * AX1, 데이터에서 분산이 최대인 축\n",
        "    * AX2, 첫 번째 축과 직교하면서 분산이 최대인 축\n",
        "    * AX3, 첫 번째와 두 번째 축에 직교하고 분산이 최대인 축"
      ]
    },
    {
      "cell_type": "code",
      "execution_count": null,
      "id": "fc87165e",
      "metadata": {
        "id": "fc87165e"
      },
      "outputs": [],
      "source": [
        "# Lib\n",
        "import pandas as pd\n",
        "from sklearn.datasets import load_wine\n",
        "dataset = load_wine()\n",
        "data = pd.DataFrame(dataset.data, columns=dataset.feature_names)"
      ]
    },
    {
      "cell_type": "code",
      "execution_count": null,
      "id": "da3d23f9",
      "metadata": {
        "id": "da3d23f9",
        "outputId": "93ed4e64-232d-4e9e-e724-153ef77ec203"
      },
      "outputs": [
        {
          "name": "stdout",
          "output_type": "stream",
          "text": [
            "(178, 13)\n"
          ]
        },
        {
          "data": {
            "text/html": [
              "<div>\n",
              "<style scoped>\n",
              "    .dataframe tbody tr th:only-of-type {\n",
              "        vertical-align: middle;\n",
              "    }\n",
              "\n",
              "    .dataframe tbody tr th {\n",
              "        vertical-align: top;\n",
              "    }\n",
              "\n",
              "    .dataframe thead th {\n",
              "        text-align: right;\n",
              "    }\n",
              "</style>\n",
              "<table border=\"1\" class=\"dataframe\">\n",
              "  <thead>\n",
              "    <tr style=\"text-align: right;\">\n",
              "      <th></th>\n",
              "      <th>alcohol</th>\n",
              "      <th>malic_acid</th>\n",
              "      <th>ash</th>\n",
              "      <th>alcalinity_of_ash</th>\n",
              "      <th>magnesium</th>\n",
              "      <th>total_phenols</th>\n",
              "      <th>flavanoids</th>\n",
              "      <th>nonflavanoid_phenols</th>\n",
              "      <th>proanthocyanins</th>\n",
              "      <th>color_intensity</th>\n",
              "      <th>hue</th>\n",
              "      <th>od280/od315_of_diluted_wines</th>\n",
              "      <th>proline</th>\n",
              "    </tr>\n",
              "  </thead>\n",
              "  <tbody>\n",
              "    <tr>\n",
              "      <th>0</th>\n",
              "      <td>14.23</td>\n",
              "      <td>1.71</td>\n",
              "      <td>2.43</td>\n",
              "      <td>15.6</td>\n",
              "      <td>127.0</td>\n",
              "      <td>2.80</td>\n",
              "      <td>3.06</td>\n",
              "      <td>0.28</td>\n",
              "      <td>2.29</td>\n",
              "      <td>5.64</td>\n",
              "      <td>1.04</td>\n",
              "      <td>3.92</td>\n",
              "      <td>1065.0</td>\n",
              "    </tr>\n",
              "    <tr>\n",
              "      <th>1</th>\n",
              "      <td>13.20</td>\n",
              "      <td>1.78</td>\n",
              "      <td>2.14</td>\n",
              "      <td>11.2</td>\n",
              "      <td>100.0</td>\n",
              "      <td>2.65</td>\n",
              "      <td>2.76</td>\n",
              "      <td>0.26</td>\n",
              "      <td>1.28</td>\n",
              "      <td>4.38</td>\n",
              "      <td>1.05</td>\n",
              "      <td>3.40</td>\n",
              "      <td>1050.0</td>\n",
              "    </tr>\n",
              "    <tr>\n",
              "      <th>2</th>\n",
              "      <td>13.16</td>\n",
              "      <td>2.36</td>\n",
              "      <td>2.67</td>\n",
              "      <td>18.6</td>\n",
              "      <td>101.0</td>\n",
              "      <td>2.80</td>\n",
              "      <td>3.24</td>\n",
              "      <td>0.30</td>\n",
              "      <td>2.81</td>\n",
              "      <td>5.68</td>\n",
              "      <td>1.03</td>\n",
              "      <td>3.17</td>\n",
              "      <td>1185.0</td>\n",
              "    </tr>\n",
              "    <tr>\n",
              "      <th>3</th>\n",
              "      <td>14.37</td>\n",
              "      <td>1.95</td>\n",
              "      <td>2.50</td>\n",
              "      <td>16.8</td>\n",
              "      <td>113.0</td>\n",
              "      <td>3.85</td>\n",
              "      <td>3.49</td>\n",
              "      <td>0.24</td>\n",
              "      <td>2.18</td>\n",
              "      <td>7.80</td>\n",
              "      <td>0.86</td>\n",
              "      <td>3.45</td>\n",
              "      <td>1480.0</td>\n",
              "    </tr>\n",
              "    <tr>\n",
              "      <th>4</th>\n",
              "      <td>13.24</td>\n",
              "      <td>2.59</td>\n",
              "      <td>2.87</td>\n",
              "      <td>21.0</td>\n",
              "      <td>118.0</td>\n",
              "      <td>2.80</td>\n",
              "      <td>2.69</td>\n",
              "      <td>0.39</td>\n",
              "      <td>1.82</td>\n",
              "      <td>4.32</td>\n",
              "      <td>1.04</td>\n",
              "      <td>2.93</td>\n",
              "      <td>735.0</td>\n",
              "    </tr>\n",
              "  </tbody>\n",
              "</table>\n",
              "</div>"
            ],
            "text/plain": [
              "   alcohol  malic_acid   ash  alcalinity_of_ash  magnesium  total_phenols  \\\n",
              "0    14.23        1.71  2.43               15.6      127.0           2.80   \n",
              "1    13.20        1.78  2.14               11.2      100.0           2.65   \n",
              "2    13.16        2.36  2.67               18.6      101.0           2.80   \n",
              "3    14.37        1.95  2.50               16.8      113.0           3.85   \n",
              "4    13.24        2.59  2.87               21.0      118.0           2.80   \n",
              "\n",
              "   flavanoids  nonflavanoid_phenols  proanthocyanins  color_intensity   hue  \\\n",
              "0        3.06                  0.28             2.29             5.64  1.04   \n",
              "1        2.76                  0.26             1.28             4.38  1.05   \n",
              "2        3.24                  0.30             2.81             5.68  1.03   \n",
              "3        3.49                  0.24             2.18             7.80  0.86   \n",
              "4        2.69                  0.39             1.82             4.32  1.04   \n",
              "\n",
              "   od280/od315_of_diluted_wines  proline  \n",
              "0                          3.92   1065.0  \n",
              "1                          3.40   1050.0  \n",
              "2                          3.17   1185.0  \n",
              "3                          3.45   1480.0  \n",
              "4                          2.93    735.0  "
            ]
          },
          "execution_count": 4,
          "metadata": {},
          "output_type": "execute_result"
        }
      ],
      "source": [
        "print(data.shape)\n",
        "data.head()"
      ]
    },
    {
      "cell_type": "code",
      "execution_count": null,
      "id": "02837f4a",
      "metadata": {
        "id": "02837f4a",
        "outputId": "c1341fbe-8f93-43df-8ac0-bd5c09056d08"
      },
      "outputs": [
        {
          "data": {
            "text/plain": [
              "array([[ 1.51861254, -0.5622498 ,  0.23205254, -1.16959318,  1.91390522,\n",
              "         0.80899739,  1.03481896, -0.65956311,  1.22488398,  0.25171685,\n",
              "         0.36217728,  1.84791957,  1.01300893],\n",
              "       [ 0.24628963, -0.49941338, -0.82799632, -2.49084714,  0.01814502,\n",
              "         0.56864766,  0.73362894, -0.82071924, -0.54472099, -0.29332133,\n",
              "         0.40605066,  1.1134493 ,  0.96524152],\n",
              "       [ 0.19687903,  0.02123125,  1.10933436, -0.2687382 ,  0.08835836,\n",
              "         0.80899739,  1.21553297, -0.49840699,  2.13596773,  0.26901965,\n",
              "         0.31830389,  0.78858745,  1.39514818]])"
            ]
          },
          "execution_count": 5,
          "metadata": {},
          "output_type": "execute_result"
        }
      ],
      "source": [
        "# Data Scaling\n",
        "from sklearn.preprocessing import StandardScaler\n",
        "scaler = StandardScaler()\n",
        "data = scaler.fit_transform(data)\n",
        "data[:3]"
      ]
    },
    {
      "cell_type": "code",
      "execution_count": null,
      "id": "0613c6c0",
      "metadata": {
        "id": "0613c6c0"
      },
      "outputs": [],
      "source": [
        "# Data copy\n",
        "df = data.copy()"
      ]
    },
    {
      "cell_type": "markdown",
      "id": "d1dfa49b",
      "metadata": {
        "id": "d1dfa49b"
      },
      "source": [
        "**PCA**"
      ]
    },
    {
      "cell_type": "code",
      "execution_count": null,
      "id": "100f4e92",
      "metadata": {
        "id": "100f4e92"
      },
      "outputs": [],
      "source": [
        "# PCA\n",
        "from sklearn.decomposition import PCA"
      ]
    },
    {
      "cell_type": "code",
      "execution_count": null,
      "id": "20787b32",
      "metadata": {
        "id": "20787b32"
      },
      "outputs": [],
      "source": [
        "pca = PCA(n_components=2)"
      ]
    },
    {
      "cell_type": "code",
      "execution_count": null,
      "id": "9d8fead8",
      "metadata": {
        "id": "9d8fead8"
      },
      "outputs": [],
      "source": [
        "df = pca.fit_transform(df)"
      ]
    },
    {
      "cell_type": "code",
      "execution_count": null,
      "id": "7f03a8fa",
      "metadata": {
        "id": "7f03a8fa",
        "outputId": "8798ee46-9859-4767-fc36-ba760667e586"
      },
      "outputs": [
        {
          "data": {
            "text/plain": [
              "(178, 2)"
            ]
          },
          "execution_count": 10,
          "metadata": {},
          "output_type": "execute_result"
        }
      ],
      "source": [
        "df.shape"
      ]
    },
    {
      "cell_type": "code",
      "execution_count": null,
      "id": "302f00ae",
      "metadata": {
        "id": "302f00ae",
        "outputId": "5c91bd23-8241-4ccd-b200-548ef6f1711e"
      },
      "outputs": [
        {
          "data": {
            "text/plain": [
              "array([[ 3.31675081, -1.44346263],\n",
              "       [ 2.20946492,  0.33339289],\n",
              "       [ 2.51674015, -1.0311513 ]])"
            ]
          },
          "execution_count": 12,
          "metadata": {},
          "output_type": "execute_result"
        }
      ],
      "source": [
        "df[:3]"
      ]
    },
    {
      "cell_type": "markdown",
      "id": "b5bdf25a",
      "metadata": {
        "id": "b5bdf25a"
      },
      "source": [
        "**PCA 2차원 시각화**"
      ]
    },
    {
      "cell_type": "code",
      "execution_count": null,
      "id": "43e52110",
      "metadata": {
        "id": "43e52110",
        "outputId": "1e55ed21-dcf2-4ea8-e16f-92157144ba1d"
      },
      "outputs": [
        {
          "name": "stderr",
          "output_type": "stream",
          "text": [
            "Matplotlib is building the font cache; this may take a moment.\n"
          ]
        }
      ],
      "source": [
        "import matplotlib.pyplot as plt"
      ]
    },
    {
      "cell_type": "code",
      "execution_count": null,
      "id": "76b85957",
      "metadata": {
        "id": "76b85957",
        "outputId": "ec91cdc6-46fa-45b4-8f9a-15dd05e36204"
      },
      "outputs": [
        {
          "data": {
            "text/html": [
              "<div>\n",
              "<style scoped>\n",
              "    .dataframe tbody tr th:only-of-type {\n",
              "        vertical-align: middle;\n",
              "    }\n",
              "\n",
              "    .dataframe tbody tr th {\n",
              "        vertical-align: top;\n",
              "    }\n",
              "\n",
              "    .dataframe thead th {\n",
              "        text-align: right;\n",
              "    }\n",
              "</style>\n",
              "<table border=\"1\" class=\"dataframe\">\n",
              "  <thead>\n",
              "    <tr style=\"text-align: right;\">\n",
              "      <th></th>\n",
              "      <th>0</th>\n",
              "      <th>1</th>\n",
              "    </tr>\n",
              "  </thead>\n",
              "  <tbody>\n",
              "    <tr>\n",
              "      <th>0</th>\n",
              "      <td>3.316751</td>\n",
              "      <td>-1.443463</td>\n",
              "    </tr>\n",
              "    <tr>\n",
              "      <th>1</th>\n",
              "      <td>2.209465</td>\n",
              "      <td>0.333393</td>\n",
              "    </tr>\n",
              "    <tr>\n",
              "      <th>2</th>\n",
              "      <td>2.516740</td>\n",
              "      <td>-1.031151</td>\n",
              "    </tr>\n",
              "    <tr>\n",
              "      <th>3</th>\n",
              "      <td>3.757066</td>\n",
              "      <td>-2.756372</td>\n",
              "    </tr>\n",
              "    <tr>\n",
              "      <th>4</th>\n",
              "      <td>1.008908</td>\n",
              "      <td>-0.869831</td>\n",
              "    </tr>\n",
              "  </tbody>\n",
              "</table>\n",
              "</div>"
            ],
            "text/plain": [
              "          0         1\n",
              "0  3.316751 -1.443463\n",
              "1  2.209465  0.333393\n",
              "2  2.516740 -1.031151\n",
              "3  3.757066 -2.756372\n",
              "4  1.008908 -0.869831"
            ]
          },
          "execution_count": 14,
          "metadata": {},
          "output_type": "execute_result"
        }
      ],
      "source": [
        "df = pd.DataFrame(df)\n",
        "df.head()"
      ]
    },
    {
      "cell_type": "code",
      "execution_count": null,
      "id": "2ae31516",
      "metadata": {
        "id": "2ae31516",
        "outputId": "83496ae5-3933-430f-ed1c-a8024ba53b50"
      },
      "outputs": [
        {
          "data": {
            "text/plain": [
              "<matplotlib.collections.PathCollection at 0x7f6132c51b20>"
            ]
          },
          "execution_count": 15,
          "metadata": {},
          "output_type": "execute_result"
        },
        {
          "data": {
            "image/png": "[encoded data removed]",
            "text/plain": [
              "<Figure size 432x288 with 1 Axes>"
            ]
          },
          "metadata": {
            "needs_background": "light"
          },
          "output_type": "display_data"
        }
      ],
      "source": [
        "# scatter\n",
        "plt.scatter(df.iloc[:,0], df.iloc[:,1])"
      ]
    },
    {
      "cell_type": "code",
      "execution_count": null,
      "id": "f5ff32e2",
      "metadata": {
        "id": "f5ff32e2",
        "outputId": "8432446f-b24f-4e03-be27-d4c9a0d39121"
      },
      "outputs": [
        {
          "data": {
            "text/plain": [
              "<matplotlib.collections.PathCollection at 0x7f6132b5b880>"
            ]
          },
          "execution_count": 17,
          "metadata": {},
          "output_type": "execute_result"
        },
        {
          "data": {
            "image/png": "[encoded data removed]",
            "text/plain": [
              "<Figure size 432x288 with 1 Axes>"
            ]
          },
          "metadata": {
            "needs_background": "light"
          },
          "output_type": "display_data"
        }
      ],
      "source": [
        "plt.scatter(df.iloc[:,0], df.iloc[:,1], c=dataset.target)"
      ]
    },
    {
      "cell_type": "code",
      "execution_count": null,
      "id": "acefbcdd",
      "metadata": {
        "id": "acefbcdd",
        "outputId": "1356d7ad-3846-46e4-c706-8ff1bd1dfe8d"
      },
      "outputs": [
        {
          "name": "stdout",
          "output_type": "stream",
          "text": [
            "[0.36198848 0.1920749 ]\n",
            "0.5540633835693534\n"
          ]
        }
      ],
      "source": [
        "# Explaining data(%)\n",
        "print(pca.explained_variance_ratio_)\n",
        "print(pca.explained_variance_ratio_.sum())"
      ]
    },
    {
      "cell_type": "markdown",
      "id": "3a83ffcf",
      "metadata": {
        "id": "3a83ffcf"
      },
      "source": [
        "**Supervised Learning (Comparing b4after PCA)**"
      ]
    },
    {
      "cell_type": "code",
      "execution_count": null,
      "id": "627d977d",
      "metadata": {
        "id": "627d977d",
        "outputId": "f371f7b9-28cc-4888-d0c4-19c7c881f7d6"
      },
      "outputs": [
        {
          "data": {
            "text/plain": [
              "0.9492063492063492"
            ]
          },
          "execution_count": 23,
          "metadata": {},
          "output_type": "execute_result"
        }
      ],
      "source": [
        "# After PCA, preprocessing 2\n",
        "from sklearn.ensemble import RandomForestClassifier\n",
        "from sklearn.model_selection import cross_val_score\n",
        "\n",
        "model = RandomForestClassifier(random_state=2022)\n",
        "cross_val_score(model, df, dataset.target, scoring='accuracy', cv=5).mean()"
      ]
    },
    {
      "cell_type": "code",
      "execution_count": null,
      "id": "46e8e20e",
      "metadata": {
        "id": "46e8e20e",
        "outputId": "899e811f-1777-41d0-fbe5-1900bcccfa07"
      },
      "outputs": [
        {
          "data": {
            "text/plain": [
              "0.9553968253968254"
            ]
          },
          "execution_count": 24,
          "metadata": {},
          "output_type": "execute_result"
        }
      ],
      "source": [
        "# Before PCA, preprocessing 13\n",
        "cross_val_score(model, data, dataset.target, scoring='accuracy', cv=5).mean()"
      ]
    },
    {
      "cell_type": "markdown",
      "id": "d3a65756",
      "metadata": {
        "id": "d3a65756"
      },
      "source": [
        "**PCA 3차원 시각화**"
      ]
    },
    {
      "cell_type": "code",
      "execution_count": null,
      "id": "68bc036e",
      "metadata": {
        "id": "68bc036e"
      },
      "outputs": [],
      "source": [
        "# New data\n",
        "df = data.copy()"
      ]
    },
    {
      "cell_type": "code",
      "execution_count": null,
      "id": "0270b044",
      "metadata": {
        "id": "0270b044"
      },
      "outputs": [],
      "source": [
        "# PCA\n",
        "pca = PCA(n_components=3)"
      ]
    },
    {
      "cell_type": "code",
      "execution_count": null,
      "id": "c2f6ab4e",
      "metadata": {
        "id": "c2f6ab4e"
      },
      "outputs": [],
      "source": [
        "# PCA transform\n",
        "df = pca.fit_transform(df)"
      ]
    },
    {
      "cell_type": "code",
      "execution_count": null,
      "id": "f994a1ff",
      "metadata": {
        "id": "f994a1ff"
      },
      "outputs": [],
      "source": [
        "# Dataframe transform\n",
        "df = pd.DataFrame(df)"
      ]
    },
    {
      "cell_type": "code",
      "execution_count": null,
      "id": "9ffee405",
      "metadata": {
        "id": "9ffee405",
        "outputId": "44934dfc-4c25-4a0e-bbb7-52d366c1fdf6"
      },
      "outputs": [
        {
          "data": {
            "text/plain": [
              "<mpl_toolkits.mplot3d.art3d.Path3DCollection at 0x7f61300b4730>"
            ]
          },
          "execution_count": 31,
          "metadata": {},
          "output_type": "execute_result"
        },
        {
          "data": {
            "image/png": "[encoded data removed]",
            "text/plain": [
              "<Figure size 432x288 with 1 Axes>"
            ]
          },
          "metadata": {
            "needs_background": "light"
          },
          "output_type": "display_data"
        }
      ],
      "source": [
        "# Lib\n",
        "from mpl_toolkits.mplot3d import Axes3D\n",
        "fig = plt.figure()\n",
        "ax = fig.add_subplot(111, projection='3d')\n",
        "ax.scatter(df.iloc[:,0], df.iloc[:,1], df.iloc[:,2], c=dataset.target)"
      ]
    },
    {
      "cell_type": "markdown",
      "id": "0fb6a511",
      "metadata": {
        "id": "0fb6a511"
      },
      "source": [
        "**점진적 PCA**\n",
        "* 데이터셋이 큰 경우 배치를 통해 점진적으로 수행  "
      ]
    },
    {
      "cell_type": "code",
      "execution_count": null,
      "id": "b15a90c5",
      "metadata": {
        "id": "b15a90c5"
      },
      "outputs": [],
      "source": [
        "# Lib\n",
        "from sklearn.decomposition import IncrementalPCA"
      ]
    },
    {
      "cell_type": "code",
      "execution_count": null,
      "id": "e65e305c",
      "metadata": {
        "id": "e65e305c"
      },
      "outputs": [],
      "source": [
        "# Data copy\n",
        "df = data.copy()"
      ]
    },
    {
      "cell_type": "code",
      "execution_count": null,
      "id": "59b883ca",
      "metadata": {
        "id": "59b883ca"
      },
      "outputs": [],
      "source": [
        "# IncrementalPCA\n",
        "pca = IncrementalPCA(n_components=2, batch_size=16)"
      ]
    },
    {
      "cell_type": "code",
      "execution_count": null,
      "id": "2f40d97c",
      "metadata": {
        "id": "2f40d97c"
      },
      "outputs": [],
      "source": [
        "# Transform\n",
        "df = pca.fit_transform(df)"
      ]
    },
    {
      "cell_type": "code",
      "execution_count": null,
      "id": "1c591d78",
      "metadata": {
        "id": "1c591d78",
        "outputId": "c9578ae1-3c15-4705-f876-0221d1d3de60"
      },
      "outputs": [
        {
          "data": {
            "text/plain": [
              "<matplotlib.collections.PathCollection at 0x7f6123b7b700>"
            ]
          },
          "execution_count": 42,
          "metadata": {},
          "output_type": "execute_result"
        },
        {
          "data": {
            "image/png": "[encoded data removed]",
            "text/plain": [
              "<Figure size 432x288 with 1 Axes>"
            ]
          },
          "metadata": {
            "needs_background": "light"
          },
          "output_type": "display_data"
        }
      ],
      "source": [
        "# Visualization\n",
        "df = pd.DataFrame(df)\n",
        "plt.scatter(df.iloc[:,0], df.iloc[:,1], c=dataset.target)"
      ]
    },
    {
      "cell_type": "code",
      "execution_count": null,
      "id": "e4cfc680",
      "metadata": {
        "id": "e4cfc680",
        "outputId": "65025754-3df9-40a4-c74c-e74cece578ce"
      },
      "outputs": [
        {
          "name": "stdout",
          "output_type": "stream",
          "text": [
            "[0.3400206  0.15239134]\n",
            "0.49241194001543964\n"
          ]
        }
      ],
      "source": [
        "# Explaining data(%)\n",
        "print(pca.explained_variance_ratio_)\n",
        "print(pca.explained_variance_ratio_.sum())"
      ]
    },
    {
      "cell_type": "markdown",
      "id": "403f0ccd",
      "metadata": {
        "id": "403f0ccd"
      },
      "source": [
        "**희소 PCA**\n",
        "* 오버피팅 방지  \n",
        "* 적절한 희소성을 유지, alpha 값으로 조정  "
      ]
    },
    {
      "cell_type": "code",
      "execution_count": null,
      "id": "3caf3b81",
      "metadata": {
        "id": "3caf3b81"
      },
      "outputs": [],
      "source": [
        "# Lib\n",
        "from sklearn.decomposition import SparsePCA"
      ]
    },
    {
      "cell_type": "code",
      "execution_count": null,
      "id": "83f834e7",
      "metadata": {
        "id": "83f834e7"
      },
      "outputs": [],
      "source": [
        "# Data copy\n",
        "df = data.copy()"
      ]
    },
    {
      "cell_type": "code",
      "execution_count": null,
      "id": "d99d6799",
      "metadata": {
        "id": "d99d6799"
      },
      "outputs": [],
      "source": [
        "# SparsePCA\n",
        "pca = SparsePCA(n_components=2, alpha=0.01)"
      ]
    },
    {
      "cell_type": "code",
      "execution_count": null,
      "id": "66e2a480",
      "metadata": {
        "id": "66e2a480"
      },
      "outputs": [],
      "source": [
        "# Transform\n",
        "df = pca.fit_transform(df)"
      ]
    },
    {
      "cell_type": "code",
      "execution_count": null,
      "id": "75c3db01",
      "metadata": {
        "id": "75c3db01",
        "outputId": "2eb75a9c-be76-434c-e549-b292bd1fcf1b"
      },
      "outputs": [
        {
          "data": {
            "text/plain": [
              "<matplotlib.collections.PathCollection at 0x7f6123b56d90>"
            ]
          },
          "execution_count": 48,
          "metadata": {},
          "output_type": "execute_result"
        },
        {
          "data": {
            "image/png": "[encoded data removed]",
            "text/plain": [
              "<Figure size 432x288 with 1 Axes>"
            ]
          },
          "metadata": {
            "needs_background": "light"
          },
          "output_type": "display_data"
        }
      ],
      "source": [
        "# Visualization\n",
        "df = pd.DataFrame(df)\n",
        "plt.scatter(df.iloc[:,0], df.iloc[:,1], c=dataset.target)"
      ]
    },
    {
      "cell_type": "markdown",
      "id": "6b29a552",
      "metadata": {
        "id": "6b29a552"
      },
      "source": [
        "**커널 PCA**\n",
        "* 비선형으로 차원 축소  "
      ]
    },
    {
      "cell_type": "code",
      "execution_count": null,
      "id": "30c6a913",
      "metadata": {
        "id": "30c6a913"
      },
      "outputs": [],
      "source": [
        "# Lib\n",
        "from sklearn.decomposition import KernelPCA"
      ]
    },
    {
      "cell_type": "code",
      "execution_count": null,
      "id": "d509dc1c",
      "metadata": {
        "id": "d509dc1c"
      },
      "outputs": [],
      "source": [
        "# Data copy\n",
        "df = data.copy()"
      ]
    },
    {
      "cell_type": "code",
      "execution_count": null,
      "id": "1f5f695f",
      "metadata": {
        "id": "1f5f695f"
      },
      "outputs": [],
      "source": [
        "# SparsePCA\n",
        "pca = KernelPCA(n_components=2)"
      ]
    },
    {
      "cell_type": "code",
      "execution_count": null,
      "id": "36513e6b",
      "metadata": {
        "id": "36513e6b"
      },
      "outputs": [],
      "source": [
        "# Transform\n",
        "df = pca.fit_transform(df)"
      ]
    },
    {
      "cell_type": "code",
      "execution_count": null,
      "id": "9a2aee5a",
      "metadata": {
        "id": "9a2aee5a",
        "outputId": "cab4d46d-f283-4a9f-8917-ee4f57857a8a"
      },
      "outputs": [
        {
          "data": {
            "text/plain": [
              "<matplotlib.collections.PathCollection at 0x7f6123a80880>"
            ]
          },
          "execution_count": 53,
          "metadata": {},
          "output_type": "execute_result"
        },
        {
          "data": {
            "image/png": "[encoded data removed]",
            "text/plain": [
              "<Figure size 432x288 with 1 Axes>"
            ]
          },
          "metadata": {
            "needs_background": "light"
          },
          "output_type": "display_data"
        }
      ],
      "source": [
        "# Visualization\n",
        "df = pd.DataFrame(df)\n",
        "plt.scatter(df.iloc[:,0], df.iloc[:,1], c=dataset.target)"
      ]
    },
    {
      "cell_type": "markdown",
      "id": "7d1732e5",
      "metadata": {
        "id": "7d1732e5"
      },
      "source": [
        "**SVD(Singular Value Decomposition)**"
      ]
    },
    {
      "cell_type": "code",
      "execution_count": null,
      "id": "661353ee",
      "metadata": {
        "id": "661353ee"
      },
      "outputs": [],
      "source": [
        "# Lib\n",
        "from sklearn.decomposition import TruncatedSVD"
      ]
    },
    {
      "cell_type": "code",
      "execution_count": null,
      "id": "5e031635",
      "metadata": {
        "id": "5e031635"
      },
      "outputs": [],
      "source": [
        "# Data copy\n",
        "df = data.copy()"
      ]
    },
    {
      "cell_type": "code",
      "execution_count": null,
      "id": "e0262e40",
      "metadata": {
        "id": "e0262e40"
      },
      "outputs": [],
      "source": [
        "# TruncatedSVD\n",
        "svd = TruncatedSVD(n_components=2)"
      ]
    },
    {
      "cell_type": "code",
      "execution_count": null,
      "id": "320ce7ae",
      "metadata": {
        "id": "320ce7ae"
      },
      "outputs": [],
      "source": [
        "# Transform\n",
        "df = svd.fit_transform(df)"
      ]
    },
    {
      "cell_type": "code",
      "execution_count": null,
      "id": "39e4d722",
      "metadata": {
        "id": "39e4d722",
        "outputId": "9eba0408-e6cd-4099-c098-ed9b8243df33"
      },
      "outputs": [
        {
          "data": {
            "text/plain": [
              "<matplotlib.collections.PathCollection at 0x7f61239e4f40>"
            ]
          },
          "execution_count": 58,
          "metadata": {},
          "output_type": "execute_result"
        },
        {
          "data": {
            "image/png": "[encoded data removed]",
            "text/plain": [
              "<Figure size 432x288 with 1 Axes>"
            ]
          },
          "metadata": {
            "needs_background": "light"
          },
          "output_type": "display_data"
        }
      ],
      "source": [
        "# Visualization\n",
        "df = pd.DataFrame(df)\n",
        "plt.scatter(df.iloc[:,0], df.iloc[:,1], c=dataset.target)"
      ]
    },
    {
      "cell_type": "code",
      "execution_count": null,
      "id": "53c7941d",
      "metadata": {
        "id": "53c7941d"
      },
      "outputs": [],
      "source": [
        "# # 2D\n",
        "# df = data.copy()\n",
        "# pca = PCA(n_components=2)\n",
        "# df = pca.fit_transform(df)\n",
        "# df = pd.DataFrame(df)\n",
        "\n",
        "# model = RandomForestClassifier(random_state=2022)\n",
        "# print(\"2D PCA:\")\n",
        "# print(cross_val_score(model, df, dataset.target, scoring='accuracy', cv=5).mean())\n",
        "\n",
        "\n",
        "# # 3D\n",
        "# df = data.copy()\n",
        "# pca = PCA(n_components=3)\n",
        "# df = pca.fit_transform(df)\n",
        "# df = pd.DataFrame(df)\n",
        "\n",
        "# model = RandomForestClassifier(random_state=2022)\n",
        "# print(\"3D PCA:\")\n",
        "# print(cross_val_score(model, df, dataset.target, scoring='accuracy', cv=5).mean())\n",
        "\n",
        "\n",
        "# # 4D\n",
        "# df = data.copy()\n",
        "# pca = PCA(n_components=4)\n",
        "# df = pca.fit_transform(df)\n",
        "# df = pd.DataFrame(df)\n",
        "\n",
        "# model = RandomForestClassifier(random_state=2022)\n",
        "# print(\"4D PCA:\")\n",
        "# print(cross_val_score(model, df, dataset.target, scoring='accuracy', cv=5).mean())\n",
        "\n",
        "# # 5D\n",
        "# df = data.copy()\n",
        "# pca = PCA(n_components=5)\n",
        "# df = pca.fit_transform(df)\n",
        "# df = pd.DataFrame(df)\n",
        "\n",
        "# model = RandomForestClassifier(random_state=2022)\n",
        "# print(\"5D PCA:\")\n",
        "# print(cross_val_score(model, df, dataset.target, scoring='accuracy', cv=5).mean())\n",
        "\n",
        "# # 6D\n",
        "# df = data.copy()\n",
        "# pca = PCA(n_components=6)\n",
        "# df = pca.fit_transform(df)\n",
        "# df = pd.DataFrame(df)\n",
        "\n",
        "# model = RandomForestClassifier(random_state=2022)\n",
        "# print(\"6D PCA:\")\n",
        "# print(cross_val_score(model, df, dataset.target, scoring='accuracy', cv=5).mean())"
      ]
    },
    {
      "cell_type": "markdown",
      "id": "7137663c",
      "metadata": {
        "id": "7137663c"
      },
      "source": [
        "**Clustering**\n",
        "\n",
        "* 군집분석은 유사성이 높은 대상의 집단을 분류하는 부석 방법  \n",
        "* 계층적 군집분석과 비계층적 군집분석  \n",
        "    * 전통적인 계층적 군집분석은 군집의 개수가 나중에 선정함\n",
        "    * 비계층적 군집분석인 K-means는 군집의 수를 가장 먼저 선정함  \n",
        "    * K-means 군집분석은 초기 중심 값은 임의로 선정하며, 중심 값이 이동함  \n",
        "* 군집분석의 평가지표  \n",
        "    * Silhouette, Dunn Index, etc."
      ]
    },
    {
      "cell_type": "markdown",
      "id": "c44d59d0",
      "metadata": {
        "id": "c44d59d0"
      },
      "source": [
        "**K-means(centroid)**\n",
        "* 임의의 지점 K개를 선택하여 해당 중심에서 가까운 데이터를 군집화 하는 기법\n",
        "* n_clusters  "
      ]
    },
    {
      "cell_type": "code",
      "execution_count": null,
      "id": "fd6d9d1c",
      "metadata": {
        "id": "fd6d9d1c"
      },
      "outputs": [],
      "source": [
        "# Lib\n",
        "from sklearn.cluster import KMeans"
      ]
    },
    {
      "cell_type": "code",
      "execution_count": null,
      "id": "c456341b",
      "metadata": {
        "id": "c456341b"
      },
      "outputs": [],
      "source": [
        "# Data\n",
        "from sklearn.datasets import load_wine\n",
        "dataset = load_wine()\n",
        "data = pd.DataFrame(dataset.data, columns=dataset.feature_names)\n",
        "df = data.copy()"
      ]
    },
    {
      "cell_type": "code",
      "execution_count": null,
      "id": "c0d5756a",
      "metadata": {
        "id": "c0d5756a",
        "outputId": "b720a6bd-40fb-4667-f978-5300aeb968e8"
      },
      "outputs": [
        {
          "data": {
            "text/plain": [
              "KMeans(n_clusters=3)"
            ]
          },
          "execution_count": 63,
          "metadata": {},
          "output_type": "execute_result"
        }
      ],
      "source": [
        "# Kmeans 선언 및 학습\n",
        "kmeans = KMeans(n_clusters=3)\n",
        "kmeans.fit(df)"
      ]
    },
    {
      "cell_type": "code",
      "execution_count": null,
      "id": "a430b59e",
      "metadata": {
        "id": "a430b59e",
        "outputId": "4b48bef7-34de-426a-ccc8-c639bf116446"
      },
      "outputs": [
        {
          "data": {
            "text/plain": [
              "array([1, 1, 1, 1, 2, 1, 1, 1, 1, 1, 1, 1, 1, 1, 1, 1, 1, 1, 1, 2, 2, 2,\n",
              "       1, 1, 2, 2, 1, 1, 2, 1, 1, 1, 1, 1, 1, 2, 2, 1, 1, 2, 2, 1, 1, 2,\n",
              "       2, 1, 1, 1, 1, 1, 1, 1, 1, 1, 1, 1, 1, 1, 1, 0, 2, 0, 2, 0, 0, 2,\n",
              "       0, 0, 2, 2, 2, 0, 0, 1, 2, 0, 0, 0, 2, 0, 0, 2, 2, 0, 0, 0, 0, 0,\n",
              "       2, 2, 0, 0, 0, 0, 0, 2, 2, 0, 2, 0, 2, 0, 0, 0, 2, 0, 0, 0, 0, 2,\n",
              "       0, 0, 2, 0, 0, 0, 0, 0, 0, 0, 2, 0, 0, 0, 0, 0, 0, 0, 0, 0, 2, 0,\n",
              "       0, 2, 2, 2, 2, 0, 0, 0, 2, 2, 0, 0, 2, 2, 0, 2, 2, 0, 0, 0, 0, 2,\n",
              "       2, 2, 0, 2, 2, 2, 0, 2, 0, 2, 2, 0, 2, 2, 2, 2, 0, 0, 2, 2, 2, 2,\n",
              "       2, 0], dtype=int32)"
            ]
          },
          "execution_count": 65,
          "metadata": {},
          "output_type": "execute_result"
        }
      ],
      "source": [
        "# Kmeans 예측\n",
        "pred = kmeans.predict(df)\n",
        "pred"
      ]
    },
    {
      "cell_type": "code",
      "execution_count": null,
      "id": "b4dd0a37",
      "metadata": {
        "id": "b4dd0a37",
        "outputId": "78c5daee-fe4a-4c5a-eaf8-8bf2c3481dc0"
      },
      "outputs": [
        {
          "data": {
            "text/html": [
              "<div>\n",
              "<style scoped>\n",
              "    .dataframe tbody tr th:only-of-type {\n",
              "        vertical-align: middle;\n",
              "    }\n",
              "\n",
              "    .dataframe tbody tr th {\n",
              "        vertical-align: top;\n",
              "    }\n",
              "\n",
              "    .dataframe thead th {\n",
              "        text-align: right;\n",
              "    }\n",
              "</style>\n",
              "<table border=\"1\" class=\"dataframe\">\n",
              "  <thead>\n",
              "    <tr style=\"text-align: right;\">\n",
              "      <th></th>\n",
              "      <th>alcohol</th>\n",
              "      <th>malic_acid</th>\n",
              "      <th>ash</th>\n",
              "      <th>alcalinity_of_ash</th>\n",
              "      <th>magnesium</th>\n",
              "      <th>total_phenols</th>\n",
              "      <th>flavanoids</th>\n",
              "      <th>nonflavanoid_phenols</th>\n",
              "      <th>proanthocyanins</th>\n",
              "      <th>color_intensity</th>\n",
              "      <th>hue</th>\n",
              "      <th>od280/od315_of_diluted_wines</th>\n",
              "      <th>proline</th>\n",
              "      <th>target</th>\n",
              "      <th>pred</th>\n",
              "    </tr>\n",
              "  </thead>\n",
              "  <tbody>\n",
              "    <tr>\n",
              "      <th>0</th>\n",
              "      <td>14.23</td>\n",
              "      <td>1.71</td>\n",
              "      <td>2.43</td>\n",
              "      <td>15.6</td>\n",
              "      <td>127.0</td>\n",
              "      <td>2.80</td>\n",
              "      <td>3.06</td>\n",
              "      <td>0.28</td>\n",
              "      <td>2.29</td>\n",
              "      <td>5.64</td>\n",
              "      <td>1.04</td>\n",
              "      <td>3.92</td>\n",
              "      <td>1065.0</td>\n",
              "      <td>0</td>\n",
              "      <td>1</td>\n",
              "    </tr>\n",
              "    <tr>\n",
              "      <th>1</th>\n",
              "      <td>13.20</td>\n",
              "      <td>1.78</td>\n",
              "      <td>2.14</td>\n",
              "      <td>11.2</td>\n",
              "      <td>100.0</td>\n",
              "      <td>2.65</td>\n",
              "      <td>2.76</td>\n",
              "      <td>0.26</td>\n",
              "      <td>1.28</td>\n",
              "      <td>4.38</td>\n",
              "      <td>1.05</td>\n",
              "      <td>3.40</td>\n",
              "      <td>1050.0</td>\n",
              "      <td>0</td>\n",
              "      <td>1</td>\n",
              "    </tr>\n",
              "    <tr>\n",
              "      <th>2</th>\n",
              "      <td>13.16</td>\n",
              "      <td>2.36</td>\n",
              "      <td>2.67</td>\n",
              "      <td>18.6</td>\n",
              "      <td>101.0</td>\n",
              "      <td>2.80</td>\n",
              "      <td>3.24</td>\n",
              "      <td>0.30</td>\n",
              "      <td>2.81</td>\n",
              "      <td>5.68</td>\n",
              "      <td>1.03</td>\n",
              "      <td>3.17</td>\n",
              "      <td>1185.0</td>\n",
              "      <td>0</td>\n",
              "      <td>1</td>\n",
              "    </tr>\n",
              "    <tr>\n",
              "      <th>3</th>\n",
              "      <td>14.37</td>\n",
              "      <td>1.95</td>\n",
              "      <td>2.50</td>\n",
              "      <td>16.8</td>\n",
              "      <td>113.0</td>\n",
              "      <td>3.85</td>\n",
              "      <td>3.49</td>\n",
              "      <td>0.24</td>\n",
              "      <td>2.18</td>\n",
              "      <td>7.80</td>\n",
              "      <td>0.86</td>\n",
              "      <td>3.45</td>\n",
              "      <td>1480.0</td>\n",
              "      <td>0</td>\n",
              "      <td>1</td>\n",
              "    </tr>\n",
              "    <tr>\n",
              "      <th>4</th>\n",
              "      <td>13.24</td>\n",
              "      <td>2.59</td>\n",
              "      <td>2.87</td>\n",
              "      <td>21.0</td>\n",
              "      <td>118.0</td>\n",
              "      <td>2.80</td>\n",
              "      <td>2.69</td>\n",
              "      <td>0.39</td>\n",
              "      <td>1.82</td>\n",
              "      <td>4.32</td>\n",
              "      <td>1.04</td>\n",
              "      <td>2.93</td>\n",
              "      <td>735.0</td>\n",
              "      <td>0</td>\n",
              "      <td>2</td>\n",
              "    </tr>\n",
              "    <tr>\n",
              "      <th>...</th>\n",
              "      <td>...</td>\n",
              "      <td>...</td>\n",
              "      <td>...</td>\n",
              "      <td>...</td>\n",
              "      <td>...</td>\n",
              "      <td>...</td>\n",
              "      <td>...</td>\n",
              "      <td>...</td>\n",
              "      <td>...</td>\n",
              "      <td>...</td>\n",
              "      <td>...</td>\n",
              "      <td>...</td>\n",
              "      <td>...</td>\n",
              "      <td>...</td>\n",
              "      <td>...</td>\n",
              "    </tr>\n",
              "    <tr>\n",
              "      <th>173</th>\n",
              "      <td>13.71</td>\n",
              "      <td>5.65</td>\n",
              "      <td>2.45</td>\n",
              "      <td>20.5</td>\n",
              "      <td>95.0</td>\n",
              "      <td>1.68</td>\n",
              "      <td>0.61</td>\n",
              "      <td>0.52</td>\n",
              "      <td>1.06</td>\n",
              "      <td>7.70</td>\n",
              "      <td>0.64</td>\n",
              "      <td>1.74</td>\n",
              "      <td>740.0</td>\n",
              "      <td>2</td>\n",
              "      <td>2</td>\n",
              "    </tr>\n",
              "    <tr>\n",
              "      <th>174</th>\n",
              "      <td>13.40</td>\n",
              "      <td>3.91</td>\n",
              "      <td>2.48</td>\n",
              "      <td>23.0</td>\n",
              "      <td>102.0</td>\n",
              "      <td>1.80</td>\n",
              "      <td>0.75</td>\n",
              "      <td>0.43</td>\n",
              "      <td>1.41</td>\n",
              "      <td>7.30</td>\n",
              "      <td>0.70</td>\n",
              "      <td>1.56</td>\n",
              "      <td>750.0</td>\n",
              "      <td>2</td>\n",
              "      <td>2</td>\n",
              "    </tr>\n",
              "    <tr>\n",
              "      <th>175</th>\n",
              "      <td>13.27</td>\n",
              "      <td>4.28</td>\n",
              "      <td>2.26</td>\n",
              "      <td>20.0</td>\n",
              "      <td>120.0</td>\n",
              "      <td>1.59</td>\n",
              "      <td>0.69</td>\n",
              "      <td>0.43</td>\n",
              "      <td>1.35</td>\n",
              "      <td>10.20</td>\n",
              "      <td>0.59</td>\n",
              "      <td>1.56</td>\n",
              "      <td>835.0</td>\n",
              "      <td>2</td>\n",
              "      <td>2</td>\n",
              "    </tr>\n",
              "    <tr>\n",
              "      <th>176</th>\n",
              "      <td>13.17</td>\n",
              "      <td>2.59</td>\n",
              "      <td>2.37</td>\n",
              "      <td>20.0</td>\n",
              "      <td>120.0</td>\n",
              "      <td>1.65</td>\n",
              "      <td>0.68</td>\n",
              "      <td>0.53</td>\n",
              "      <td>1.46</td>\n",
              "      <td>9.30</td>\n",
              "      <td>0.60</td>\n",
              "      <td>1.62</td>\n",
              "      <td>840.0</td>\n",
              "      <td>2</td>\n",
              "      <td>2</td>\n",
              "    </tr>\n",
              "    <tr>\n",
              "      <th>177</th>\n",
              "      <td>14.13</td>\n",
              "      <td>4.10</td>\n",
              "      <td>2.74</td>\n",
              "      <td>24.5</td>\n",
              "      <td>96.0</td>\n",
              "      <td>2.05</td>\n",
              "      <td>0.76</td>\n",
              "      <td>0.56</td>\n",
              "      <td>1.35</td>\n",
              "      <td>9.20</td>\n",
              "      <td>0.61</td>\n",
              "      <td>1.60</td>\n",
              "      <td>560.0</td>\n",
              "      <td>2</td>\n",
              "      <td>0</td>\n",
              "    </tr>\n",
              "  </tbody>\n",
              "</table>\n",
              "<p>178 rows × 15 columns</p>\n",
              "</div>"
            ],
            "text/plain": [
              "     alcohol  malic_acid   ash  alcalinity_of_ash  magnesium  total_phenols  \\\n",
              "0      14.23        1.71  2.43               15.6      127.0           2.80   \n",
              "1      13.20        1.78  2.14               11.2      100.0           2.65   \n",
              "2      13.16        2.36  2.67               18.6      101.0           2.80   \n",
              "3      14.37        1.95  2.50               16.8      113.0           3.85   \n",
              "4      13.24        2.59  2.87               21.0      118.0           2.80   \n",
              "..       ...         ...   ...                ...        ...            ...   \n",
              "173    13.71        5.65  2.45               20.5       95.0           1.68   \n",
              "174    13.40        3.91  2.48               23.0      102.0           1.80   \n",
              "175    13.27        4.28  2.26               20.0      120.0           1.59   \n",
              "176    13.17        2.59  2.37               20.0      120.0           1.65   \n",
              "177    14.13        4.10  2.74               24.5       96.0           2.05   \n",
              "\n",
              "     flavanoids  nonflavanoid_phenols  proanthocyanins  color_intensity   hue  \\\n",
              "0          3.06                  0.28             2.29             5.64  1.04   \n",
              "1          2.76                  0.26             1.28             4.38  1.05   \n",
              "2          3.24                  0.30             2.81             5.68  1.03   \n",
              "3          3.49                  0.24             2.18             7.80  0.86   \n",
              "4          2.69                  0.39             1.82             4.32  1.04   \n",
              "..          ...                   ...              ...              ...   ...   \n",
              "173        0.61                  0.52             1.06             7.70  0.64   \n",
              "174        0.75                  0.43             1.41             7.30  0.70   \n",
              "175        0.69                  0.43             1.35            10.20  0.59   \n",
              "176        0.68                  0.53             1.46             9.30  0.60   \n",
              "177        0.76                  0.56             1.35             9.20  0.61   \n",
              "\n",
              "     od280/od315_of_diluted_wines  proline  target  pred  \n",
              "0                            3.92   1065.0       0     1  \n",
              "1                            3.40   1050.0       0     1  \n",
              "2                            3.17   1185.0       0     1  \n",
              "3                            3.45   1480.0       0     1  \n",
              "4                            2.93    735.0       0     2  \n",
              "..                            ...      ...     ...   ...  \n",
              "173                          1.74    740.0       2     2  \n",
              "174                          1.56    750.0       2     2  \n",
              "175                          1.56    835.0       2     2  \n",
              "176                          1.62    840.0       2     2  \n",
              "177                          1.60    560.0       2     0  \n",
              "\n",
              "[178 rows x 15 columns]"
            ]
          },
          "execution_count": 66,
          "metadata": {},
          "output_type": "execute_result"
        }
      ],
      "source": [
        "# 실제값과 예측값 비교\n",
        "df['target'] = dataset.target\n",
        "df['pred'] = pred\n",
        "df"
      ]
    },
    {
      "cell_type": "markdown",
      "id": "ee99edbd",
      "metadata": {
        "id": "ee99edbd"
      },
      "source": [
        "**PCA -> Clustering -> Visualization**"
      ]
    },
    {
      "cell_type": "code",
      "execution_count": null,
      "id": "7526d48f",
      "metadata": {
        "id": "7526d48f",
        "outputId": "7982f568-b06f-4070-e902-a2018b1bc542"
      },
      "outputs": [
        {
          "data": {
            "text/html": [
              "<div>\n",
              "<style scoped>\n",
              "    .dataframe tbody tr th:only-of-type {\n",
              "        vertical-align: middle;\n",
              "    }\n",
              "\n",
              "    .dataframe tbody tr th {\n",
              "        vertical-align: top;\n",
              "    }\n",
              "\n",
              "    .dataframe thead th {\n",
              "        text-align: right;\n",
              "    }\n",
              "</style>\n",
              "<table border=\"1\" class=\"dataframe\">\n",
              "  <thead>\n",
              "    <tr style=\"text-align: right;\">\n",
              "      <th></th>\n",
              "      <th>0</th>\n",
              "      <th>1</th>\n",
              "    </tr>\n",
              "  </thead>\n",
              "  <tbody>\n",
              "    <tr>\n",
              "      <th>0</th>\n",
              "      <td>318.562979</td>\n",
              "      <td>21.492131</td>\n",
              "    </tr>\n",
              "    <tr>\n",
              "      <th>1</th>\n",
              "      <td>303.097420</td>\n",
              "      <td>-5.364718</td>\n",
              "    </tr>\n",
              "    <tr>\n",
              "      <th>2</th>\n",
              "      <td>438.061133</td>\n",
              "      <td>-6.537309</td>\n",
              "    </tr>\n",
              "    <tr>\n",
              "      <th>3</th>\n",
              "      <td>733.240139</td>\n",
              "      <td>0.192729</td>\n",
              "    </tr>\n",
              "    <tr>\n",
              "      <th>4</th>\n",
              "      <td>-11.571428</td>\n",
              "      <td>18.489995</td>\n",
              "    </tr>\n",
              "  </tbody>\n",
              "</table>\n",
              "</div>"
            ],
            "text/plain": [
              "            0          1\n",
              "0  318.562979  21.492131\n",
              "1  303.097420  -5.364718\n",
              "2  438.061133  -6.537309\n",
              "3  733.240139   0.192729\n",
              "4  -11.571428  18.489995"
            ]
          },
          "execution_count": 68,
          "metadata": {},
          "output_type": "execute_result"
        }
      ],
      "source": [
        "# PCA\n",
        "df = data.copy()\n",
        "pca = PCA(n_components=2)\n",
        "df = pca.fit_transform(df)\n",
        "df = pd.DataFrame(df)\n",
        "df.head()"
      ]
    },
    {
      "cell_type": "code",
      "execution_count": null,
      "id": "b4500a15",
      "metadata": {
        "id": "b4500a15",
        "outputId": "55c81e68-59a9-4e29-c362-609ce12d305b"
      },
      "outputs": [
        {
          "data": {
            "text/html": [
              "<div>\n",
              "<style scoped>\n",
              "    .dataframe tbody tr th:only-of-type {\n",
              "        vertical-align: middle;\n",
              "    }\n",
              "\n",
              "    .dataframe tbody tr th {\n",
              "        vertical-align: top;\n",
              "    }\n",
              "\n",
              "    .dataframe thead th {\n",
              "        text-align: right;\n",
              "    }\n",
              "</style>\n",
              "<table border=\"1\" class=\"dataframe\">\n",
              "  <thead>\n",
              "    <tr style=\"text-align: right;\">\n",
              "      <th></th>\n",
              "      <th>0</th>\n",
              "      <th>1</th>\n",
              "      <th>K-means</th>\n",
              "    </tr>\n",
              "  </thead>\n",
              "  <tbody>\n",
              "    <tr>\n",
              "      <th>0</th>\n",
              "      <td>318.562979</td>\n",
              "      <td>21.492131</td>\n",
              "      <td>1</td>\n",
              "    </tr>\n",
              "    <tr>\n",
              "      <th>1</th>\n",
              "      <td>303.097420</td>\n",
              "      <td>-5.364718</td>\n",
              "      <td>1</td>\n",
              "    </tr>\n",
              "    <tr>\n",
              "      <th>2</th>\n",
              "      <td>438.061133</td>\n",
              "      <td>-6.537309</td>\n",
              "      <td>1</td>\n",
              "    </tr>\n",
              "    <tr>\n",
              "      <th>3</th>\n",
              "      <td>733.240139</td>\n",
              "      <td>0.192729</td>\n",
              "      <td>1</td>\n",
              "    </tr>\n",
              "    <tr>\n",
              "      <th>4</th>\n",
              "      <td>-11.571428</td>\n",
              "      <td>18.489995</td>\n",
              "      <td>2</td>\n",
              "    </tr>\n",
              "    <tr>\n",
              "      <th>...</th>\n",
              "      <td>...</td>\n",
              "      <td>...</td>\n",
              "      <td>...</td>\n",
              "    </tr>\n",
              "    <tr>\n",
              "      <th>173</th>\n",
              "      <td>-6.980211</td>\n",
              "      <td>-4.541137</td>\n",
              "      <td>2</td>\n",
              "    </tr>\n",
              "    <tr>\n",
              "      <th>174</th>\n",
              "      <td>3.131605</td>\n",
              "      <td>2.335191</td>\n",
              "      <td>2</td>\n",
              "    </tr>\n",
              "    <tr>\n",
              "      <th>175</th>\n",
              "      <td>88.458074</td>\n",
              "      <td>18.776285</td>\n",
              "      <td>2</td>\n",
              "    </tr>\n",
              "    <tr>\n",
              "      <th>176</th>\n",
              "      <td>93.456242</td>\n",
              "      <td>18.670819</td>\n",
              "      <td>2</td>\n",
              "    </tr>\n",
              "    <tr>\n",
              "      <th>177</th>\n",
              "      <td>-186.943190</td>\n",
              "      <td>-0.213331</td>\n",
              "      <td>0</td>\n",
              "    </tr>\n",
              "  </tbody>\n",
              "</table>\n",
              "<p>178 rows × 3 columns</p>\n",
              "</div>"
            ],
            "text/plain": [
              "              0          1  K-means\n",
              "0    318.562979  21.492131        1\n",
              "1    303.097420  -5.364718        1\n",
              "2    438.061133  -6.537309        1\n",
              "3    733.240139   0.192729        1\n",
              "4    -11.571428  18.489995        2\n",
              "..          ...        ...      ...\n",
              "173   -6.980211  -4.541137        2\n",
              "174    3.131605   2.335191        2\n",
              "175   88.458074  18.776285        2\n",
              "176   93.456242  18.670819        2\n",
              "177 -186.943190  -0.213331        0\n",
              "\n",
              "[178 rows x 3 columns]"
            ]
          },
          "execution_count": 69,
          "metadata": {},
          "output_type": "execute_result"
        }
      ],
      "source": [
        "# Kmeans\n",
        "kmeans = KMeans(n_clusters=3)\n",
        "kmeans.fit(df)\n",
        "pred = kmeans.predict(df)\n",
        "df['K-means'] = pred\n",
        "df"
      ]
    },
    {
      "cell_type": "code",
      "execution_count": null,
      "id": "e60cf7da",
      "metadata": {
        "id": "e60cf7da"
      },
      "outputs": [],
      "source": [
        "# Centroid\n",
        "centroid = kmeans.cluster_centers_"
      ]
    },
    {
      "cell_type": "code",
      "execution_count": null,
      "id": "308f0ff0",
      "metadata": {
        "id": "308f0ff0",
        "outputId": "18704bbb-d6a1-4d02-8034-9a1055ef4092"
      },
      "outputs": [
        {
          "data": {
            "text/plain": [
              "<matplotlib.collections.PathCollection at 0x7f6121cd5340>"
            ]
          },
          "execution_count": 73,
          "metadata": {},
          "output_type": "execute_result"
        },
        {
          "data": {
            "image/png": "[encoded data removed]",
            "text/plain": [
              "<Figure size 864x432 with 1 Axes>"
            ]
          },
          "metadata": {
            "needs_background": "light"
          },
          "output_type": "display_data"
        }
      ],
      "source": [
        "# Visualization\n",
        "import seaborn as sns\n",
        "\n",
        "plt.figure(figsize=(12, 6))\n",
        "sns.scatterplot(x=df.iloc[:,0], y=df.iloc[:,1], hue=df['K-means'])\n",
        "plt.scatter(centroid[:,0], centroid[:,1])"
      ]
    },
    {
      "cell_type": "markdown",
      "id": "5bf2910f",
      "metadata": {
        "id": "5bf2910f"
      },
      "source": [
        "**Elbow method, 클러스터의 개수를 찾는 방법**"
      ]
    },
    {
      "cell_type": "code",
      "execution_count": null,
      "id": "abcf7666",
      "metadata": {
        "id": "abcf7666",
        "outputId": "cc493cd9-802f-4295-9fe1-3565b1644cb8"
      },
      "outputs": [
        {
          "name": "stderr",
          "output_type": "stream",
          "text": [
            "/opt/conda/lib/python3.9/site-packages/sklearn/utils/validation.py:1673: FutureWarning: Feature names only support names that are all strings. Got feature names with dtypes: ['int', 'str']. An error will be raised in 1.2.\n",
            "  warnings.warn(\n",
            "/opt/conda/lib/python3.9/site-packages/sklearn/utils/validation.py:1673: FutureWarning: Feature names only support names that are all strings. Got feature names with dtypes: ['int', 'str']. An error will be raised in 1.2.\n",
            "  warnings.warn(\n",
            "/opt/conda/lib/python3.9/site-packages/sklearn/utils/validation.py:1673: FutureWarning: Feature names only support names that are all strings. Got feature names with dtypes: ['int', 'str']. An error will be raised in 1.2.\n",
            "  warnings.warn(\n",
            "/opt/conda/lib/python3.9/site-packages/sklearn/utils/validation.py:1673: FutureWarning: Feature names only support names that are all strings. Got feature names with dtypes: ['int', 'str']. An error will be raised in 1.2.\n",
            "  warnings.warn(\n",
            "/opt/conda/lib/python3.9/site-packages/sklearn/utils/validation.py:1673: FutureWarning: Feature names only support names that are all strings. Got feature names with dtypes: ['int', 'str']. An error will be raised in 1.2.\n",
            "  warnings.warn(\n",
            "/opt/conda/lib/python3.9/site-packages/sklearn/utils/validation.py:1673: FutureWarning: Feature names only support names that are all strings. Got feature names with dtypes: ['int', 'str']. An error will be raised in 1.2.\n",
            "  warnings.warn(\n",
            "/opt/conda/lib/python3.9/site-packages/sklearn/utils/validation.py:1673: FutureWarning: Feature names only support names that are all strings. Got feature names with dtypes: ['int', 'str']. An error will be raised in 1.2.\n",
            "  warnings.warn(\n",
            "/opt/conda/lib/python3.9/site-packages/sklearn/utils/validation.py:1673: FutureWarning: Feature names only support names that are all strings. Got feature names with dtypes: ['int', 'str']. An error will be raised in 1.2.\n",
            "  warnings.warn(\n",
            "/opt/conda/lib/python3.9/site-packages/sklearn/utils/validation.py:1673: FutureWarning: Feature names only support names that are all strings. Got feature names with dtypes: ['int', 'str']. An error will be raised in 1.2.\n",
            "  warnings.warn(\n"
          ]
        },
        {
          "data": {
            "text/plain": [
              "[<matplotlib.lines.Line2D at 0x7f61212c1b20>]"
            ]
          },
          "execution_count": 76,
          "metadata": {},
          "output_type": "execute_result"
        },
        {
          "data": {
            "image/png": "[encoded data removed]",
            "text/plain": [
              "<Figure size 432x288 with 1 Axes>"
            ]
          },
          "metadata": {
            "needs_background": "light"
          },
          "output_type": "display_data"
        }
      ],
      "source": [
        "inertia = []\n",
        "for i in range(1, 10):\n",
        "    kmeans = KMeans(n_clusters=i, random_state=2022)\n",
        "    kmeans.fit(df)\n",
        "    inertia.append(kmeans.inertia_)\n",
        "\n",
        "plt.plot(range(1, 10), inertia)"
      ]
    },
    {
      "cell_type": "markdown",
      "id": "543ac14d",
      "metadata": {
        "id": "543ac14d"
      },
      "source": [
        "**Dendrogram**"
      ]
    },
    {
      "cell_type": "code",
      "execution_count": null,
      "id": "51c19fee",
      "metadata": {
        "id": "51c19fee"
      },
      "outputs": [],
      "source": [
        "# Lib\n",
        "from scipy.cluster.hierarchy import dendrogram, ward"
      ]
    },
    {
      "cell_type": "code",
      "execution_count": null,
      "id": "0c250322",
      "metadata": {
        "id": "0c250322"
      },
      "outputs": [],
      "source": [
        "# PCA\n",
        "df = data.copy()\n",
        "pca = PCA(n_components=2)\n",
        "df = pca.fit_transform(df)\n",
        "df = pd.DataFrame(df)"
      ]
    },
    {
      "cell_type": "code",
      "execution_count": null,
      "id": "73bcceab",
      "metadata": {
        "id": "73bcceab",
        "outputId": "abbc34c5-cd5d-4871-f160-7df86274bc7e"
      },
      "outputs": [
        {
          "data": {
            "text/html": [
              "<div>\n",
              "<style scoped>\n",
              "    .dataframe tbody tr th:only-of-type {\n",
              "        vertical-align: middle;\n",
              "    }\n",
              "\n",
              "    .dataframe tbody tr th {\n",
              "        vertical-align: top;\n",
              "    }\n",
              "\n",
              "    .dataframe thead th {\n",
              "        text-align: right;\n",
              "    }\n",
              "</style>\n",
              "<table border=\"1\" class=\"dataframe\">\n",
              "  <thead>\n",
              "    <tr style=\"text-align: right;\">\n",
              "      <th></th>\n",
              "      <th>0</th>\n",
              "      <th>1</th>\n",
              "    </tr>\n",
              "  </thead>\n",
              "  <tbody>\n",
              "    <tr>\n",
              "      <th>0</th>\n",
              "      <td>318.562979</td>\n",
              "      <td>21.492131</td>\n",
              "    </tr>\n",
              "    <tr>\n",
              "      <th>1</th>\n",
              "      <td>303.097420</td>\n",
              "      <td>-5.364718</td>\n",
              "    </tr>\n",
              "    <tr>\n",
              "      <th>2</th>\n",
              "      <td>438.061133</td>\n",
              "      <td>-6.537309</td>\n",
              "    </tr>\n",
              "    <tr>\n",
              "      <th>70</th>\n",
              "      <td>123.130138</td>\n",
              "      <td>1.059835</td>\n",
              "    </tr>\n",
              "    <tr>\n",
              "      <th>71</th>\n",
              "      <td>-337.104122</td>\n",
              "      <td>-7.623855</td>\n",
              "    </tr>\n",
              "    <tr>\n",
              "      <th>72</th>\n",
              "      <td>-275.096026</td>\n",
              "      <td>-7.753152</td>\n",
              "    </tr>\n",
              "    <tr>\n",
              "      <th>160</th>\n",
              "      <td>-227.068836</td>\n",
              "      <td>-7.618630</td>\n",
              "    </tr>\n",
              "    <tr>\n",
              "      <th>161</th>\n",
              "      <td>-66.755431</td>\n",
              "      <td>8.470290</td>\n",
              "    </tr>\n",
              "    <tr>\n",
              "      <th>162</th>\n",
              "      <td>-176.765098</td>\n",
              "      <td>9.473190</td>\n",
              "    </tr>\n",
              "  </tbody>\n",
              "</table>\n",
              "</div>"
            ],
            "text/plain": [
              "              0          1\n",
              "0    318.562979  21.492131\n",
              "1    303.097420  -5.364718\n",
              "2    438.061133  -6.537309\n",
              "70   123.130138   1.059835\n",
              "71  -337.104122  -7.623855\n",
              "72  -275.096026  -7.753152\n",
              "160 -227.068836  -7.618630\n",
              "161  -66.755431   8.470290\n",
              "162 -176.765098   9.473190"
            ]
          },
          "execution_count": 84,
          "metadata": {},
          "output_type": "execute_result"
        }
      ],
      "source": [
        "kdata = df[:3].copy()\n",
        "kdata = kdata.append(df[70:73])\n",
        "kdata = kdata.append(df[160:163])\n",
        "kdata"
      ]
    },
    {
      "cell_type": "code",
      "execution_count": null,
      "id": "7cd63694",
      "metadata": {
        "id": "7cd63694"
      },
      "outputs": [],
      "source": [
        "# Sampling\n",
        "# dataset.target[:3] - array([0, 0, 0])"
      ]
    },
    {
      "cell_type": "code",
      "execution_count": null,
      "id": "5ea3d058",
      "metadata": {
        "id": "5ea3d058"
      },
      "outputs": [],
      "source": [
        "# dataset.target[70:73] - array([1, 1, 1])"
      ]
    },
    {
      "cell_type": "code",
      "execution_count": null,
      "id": "1d207780",
      "metadata": {
        "id": "1d207780"
      },
      "outputs": [],
      "source": [
        "# dataset.target[160:163] - array([2, 2, 2])"
      ]
    },
    {
      "cell_type": "code",
      "execution_count": null,
      "id": "6625960b",
      "metadata": {
        "id": "6625960b",
        "outputId": "d3b7fe42-de02-42b2-cc28-64b7f5afb5c9"
      },
      "outputs": [
        {
          "data": {
            "text/plain": [
              "{'icoord': [[15.0, 15.0, 25.0, 25.0],\n",
              "  [5.0, 5.0, 20.0, 20.0],\n",
              "  [55.0, 55.0, 65.0, 65.0],\n",
              "  [45.0, 45.0, 60.0, 60.0],\n",
              "  [35.0, 35.0, 52.5, 52.5],\n",
              "  [75.0, 75.0, 85.0, 85.0],\n",
              "  [43.75, 43.75, 80.0, 80.0],\n",
              "  [12.5, 12.5, 61.875, 61.875]],\n",
              " 'dcoord': [[0.0, 30.991512411471362, 30.991512411471362, 0.0],\n",
              "  [0.0, 147.877877959848, 147.877877959848, 30.991512411471362],\n",
              "  [0.0, 48.02737852215087, 48.02737852215087, 0.0],\n",
              "  [0.0, 88.07194000276101, 88.07194000276101, 48.02737852215087],\n",
              "  [0.0, 135.87135248973354, 135.87135248973354, 88.07194000276101],\n",
              "  [0.0, 190.03011431770972, 190.03011431770972, 0.0],\n",
              "  [135.87135248973354,\n",
              "   461.0158736911475,\n",
              "   461.0158736911475,\n",
              "   190.03011431770972],\n",
              "  [147.877877959848, 1026.396544382853, 1026.396544382853, 461.0158736911475]],\n",
              " 'ivl': ['2', '0', '1', '4', '8', '5', '6', '3', '7'],\n",
              " 'leaves': [2, 0, 1, 4, 8, 5, 6, 3, 7],\n",
              " 'color_list': ['C1', 'C1', 'C2', 'C2', 'C2', 'C2', 'C2', 'C0'],\n",
              " 'leaves_color_list': ['C1', 'C1', 'C1', 'C2', 'C2', 'C2', 'C2', 'C2', 'C2']}"
            ]
          },
          "execution_count": 88,
          "metadata": {},
          "output_type": "execute_result"
        },
        {
          "data": {
            "image/png": "[encoded data removed]",
            "text/plain": [
              "<Figure size 432x288 with 1 Axes>"
            ]
          },
          "metadata": {
            "needs_background": "light"
          },
          "output_type": "display_data"
        }
      ],
      "source": [
        "# Validate\n",
        "linkage = ward(kdata)\n",
        "dendrogram(linkage)"
      ]
    },
    {
      "cell_type": "code",
      "execution_count": null,
      "id": "a5ac6bd9",
      "metadata": {
        "id": "a5ac6bd9"
      },
      "outputs": [],
      "source": []
    }
  ],
  "metadata": {
    "kernelspec": {
      "display_name": "Python 3 (ipykernel)",
      "language": "python",
      "name": "python3"
    },
    "language_info": {
      "codemirror_mode": {
        "name": "ipython",
        "version": 3
      },
      "file_extension": ".py",
      "mimetype": "text/x-python",
      "name": "python",
      "nbconvert_exporter": "python",
      "pygments_lexer": "ipython3",
      "version": "3.9.7"
    },
    "colab": {
      "provenance": [],
      "include_colab_link": true
    }
  },
  "nbformat": 4,
  "nbformat_minor": 5
}