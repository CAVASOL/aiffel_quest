{
  "cells": [
    {
      "cell_type": "markdown",
      "metadata": {
        "id": "view-in-github",
        "colab_type": "text"
      },
      "source": [
        "<a href=\"https://colab.research.google.com/github/CAVASOL/aiffel_quest/blob/main/ML_node/ML_with_Python_Supervised_Learning_Regression.ipynb\" target=\"_parent\"><img src=\"https://colab.research.google.com/assets/colab-badge.svg\" alt=\"Open In Colab\"/></a>"
      ]
    },
    {
      "cell_type": "markdown",
      "id": "22a046fb",
      "metadata": {
        "id": "22a046fb"
      },
      "source": [
        "**6. 지도학습(회귀)**\n",
        "1. Linear regression\n",
        "2. Ridge regression\n",
        "3. Lasso regression\n",
        "4. Elastic-net regression\n",
        "5. Random Forest & XGBoost\n",
        "6. Hyperparameter Tuning\n",
        "7. Evaluation(Regression)"
      ]
    },
    {
      "cell_type": "markdown",
      "id": "30ef16ca",
      "metadata": {
        "id": "30ef16ca"
      },
      "source": [
        "**1. Linear regression 선형회귀**\n",
        "* Linear regression\n",
        "    * Simple Linear regression 단순 선형 회귀: 독립변수(피처)가 1개\n",
        "    * Multiful Linear regression 다중 선형 회귀: 독립변수(피처)가 2개\n",
        "* Cost function 비용함수\n",
        "    * Loss fucntion 손실함수, Objective fuction 목적함수\n",
        "    * error 오차를 계산(실제값과 예측값 차이)\n",
        "    * 평균 제곱 오차를 최소화하는 파라미터를 찾음\n",
        "* Gradient Descent 경사하강법\n",
        "    * 경사하강법을 활용해 최소 에러값을 찾음"
      ]
    },
    {
      "cell_type": "code",
      "execution_count": null,
      "id": "619a679a",
      "metadata": {
        "id": "619a679a"
      },
      "outputs": [],
      "source": [
        "#data load\n",
        "import pandas as pd\n",
        "from sklearn.model_selection import train_test_split\n",
        "from sklearn.metrics import mean_squared_error"
      ]
    },
    {
      "cell_type": "code",
      "execution_count": null,
      "id": "d25ca9b3",
      "metadata": {
        "id": "d25ca9b3",
        "outputId": "d7ba9b1e-5e7d-40fb-8351-8886fbbd3afd"
      },
      "outputs": [
        {
          "data": {
            "text/plain": [
              "((353, 10), (89, 10), (353,), (89,))"
            ]
          },
          "execution_count": 56,
          "metadata": {},
          "output_type": "execute_result"
        }
      ],
      "source": [
        "#generate data\n",
        "from sklearn.datasets import load_diabetes\n",
        "def make_dataset():\n",
        "    dataset = load_diabetes()\n",
        "    df = pd.DataFrame(dataset.data, columns=dataset.feature_names)\n",
        "    df['target'] = dataset.target\n",
        "    X_train, X_test, y_train, y_test = train_test_split(\n",
        "        df.drop('target', axis=1), df['target'], test_size=0.2, random_state=1004)\n",
        "    return X_train, X_test, y_train, y_test\n",
        "\n",
        "X_train, X_test, y_train, y_test = make_dataset()\n",
        "X_train.shape, X_test.shape, y_train.shape, y_test.shape"
      ]
    },
    {
      "cell_type": "code",
      "execution_count": null,
      "id": "eb8d3825",
      "metadata": {
        "id": "eb8d3825",
        "outputId": "f1b25fe6-51d9-4b30-f1df-6bf9f348b0f4"
      },
      "outputs": [
        {
          "data": {
            "text/html": [
              "<div>\n",
              "<style scoped>\n",
              "    .dataframe tbody tr th:only-of-type {\n",
              "        vertical-align: middle;\n",
              "    }\n",
              "\n",
              "    .dataframe tbody tr th {\n",
              "        vertical-align: top;\n",
              "    }\n",
              "\n",
              "    .dataframe thead th {\n",
              "        text-align: right;\n",
              "    }\n",
              "</style>\n",
              "<table border=\"1\" class=\"dataframe\">\n",
              "  <thead>\n",
              "    <tr style=\"text-align: right;\">\n",
              "      <th></th>\n",
              "      <th>age</th>\n",
              "      <th>sex</th>\n",
              "      <th>bmi</th>\n",
              "      <th>bp</th>\n",
              "      <th>s1</th>\n",
              "      <th>s2</th>\n",
              "      <th>s3</th>\n",
              "      <th>s4</th>\n",
              "      <th>s5</th>\n",
              "      <th>s6</th>\n",
              "    </tr>\n",
              "  </thead>\n",
              "  <tbody>\n",
              "    <tr>\n",
              "      <th>152</th>\n",
              "      <td>-0.034575</td>\n",
              "      <td>0.050680</td>\n",
              "      <td>-0.000817</td>\n",
              "      <td>0.070073</td>\n",
              "      <td>0.039710</td>\n",
              "      <td>0.066952</td>\n",
              "      <td>-0.065491</td>\n",
              "      <td>0.108111</td>\n",
              "      <td>0.026714</td>\n",
              "      <td>0.073480</td>\n",
              "    </tr>\n",
              "    <tr>\n",
              "      <th>417</th>\n",
              "      <td>-0.052738</td>\n",
              "      <td>-0.044642</td>\n",
              "      <td>0.071397</td>\n",
              "      <td>-0.074528</td>\n",
              "      <td>-0.015328</td>\n",
              "      <td>-0.001314</td>\n",
              "      <td>0.004460</td>\n",
              "      <td>-0.021412</td>\n",
              "      <td>-0.046879</td>\n",
              "      <td>0.003064</td>\n",
              "    </tr>\n",
              "    <tr>\n",
              "      <th>172</th>\n",
              "      <td>0.041708</td>\n",
              "      <td>0.050680</td>\n",
              "      <td>0.071397</td>\n",
              "      <td>0.008101</td>\n",
              "      <td>0.038334</td>\n",
              "      <td>0.015909</td>\n",
              "      <td>-0.017629</td>\n",
              "      <td>0.034309</td>\n",
              "      <td>0.073410</td>\n",
              "      <td>0.085907</td>\n",
              "    </tr>\n",
              "    <tr>\n",
              "      <th>438</th>\n",
              "      <td>-0.005515</td>\n",
              "      <td>0.050680</td>\n",
              "      <td>-0.015906</td>\n",
              "      <td>-0.067642</td>\n",
              "      <td>0.049341</td>\n",
              "      <td>0.079165</td>\n",
              "      <td>-0.028674</td>\n",
              "      <td>0.034309</td>\n",
              "      <td>-0.018118</td>\n",
              "      <td>0.044485</td>\n",
              "    </tr>\n",
              "    <tr>\n",
              "      <th>296</th>\n",
              "      <td>0.067136</td>\n",
              "      <td>-0.044642</td>\n",
              "      <td>-0.061174</td>\n",
              "      <td>-0.040099</td>\n",
              "      <td>-0.026336</td>\n",
              "      <td>-0.024487</td>\n",
              "      <td>0.033914</td>\n",
              "      <td>-0.039493</td>\n",
              "      <td>-0.056158</td>\n",
              "      <td>-0.059067</td>\n",
              "    </tr>\n",
              "  </tbody>\n",
              "</table>\n",
              "</div>"
            ],
            "text/plain": [
              "          age       sex       bmi        bp        s1        s2        s3  \\\n",
              "152 -0.034575  0.050680 -0.000817  0.070073  0.039710  0.066952 -0.065491   \n",
              "417 -0.052738 -0.044642  0.071397 -0.074528 -0.015328 -0.001314  0.004460   \n",
              "172  0.041708  0.050680  0.071397  0.008101  0.038334  0.015909 -0.017629   \n",
              "438 -0.005515  0.050680 -0.015906 -0.067642  0.049341  0.079165 -0.028674   \n",
              "296  0.067136 -0.044642 -0.061174 -0.040099 -0.026336 -0.024487  0.033914   \n",
              "\n",
              "           s4        s5        s6  \n",
              "152  0.108111  0.026714  0.073480  \n",
              "417 -0.021412 -0.046879  0.003064  \n",
              "172  0.034309  0.073410  0.085907  \n",
              "438  0.034309 -0.018118  0.044485  \n",
              "296 -0.039493 -0.056158 -0.059067  "
            ]
          },
          "execution_count": 57,
          "metadata": {},
          "output_type": "execute_result"
        }
      ],
      "source": [
        "#train data samples\n",
        "X_train.head()"
      ]
    },
    {
      "cell_type": "code",
      "execution_count": null,
      "id": "24480510",
      "metadata": {
        "id": "24480510",
        "outputId": "d7101632-3ff4-4424-e66e-07c6db049738"
      },
      "outputs": [
        {
          "data": {
            "text/plain": [
              "152    292.0\n",
              "417     55.0\n",
              "172    295.0\n",
              "438    104.0\n",
              "296     89.0\n",
              "Name: target, dtype: float64"
            ]
          },
          "execution_count": 58,
          "metadata": {},
          "output_type": "execute_result"
        }
      ],
      "source": [
        "#target samples\n",
        "y_train.head()"
      ]
    },
    {
      "cell_type": "code",
      "execution_count": null,
      "id": "36aae7fb",
      "metadata": {
        "id": "36aae7fb",
        "outputId": "81ae1516-943e-4354-e2b0-158373575541"
      },
      "outputs": [
        {
          "data": {
            "text/plain": [
              "<AxesSubplot:>"
            ]
          },
          "execution_count": 59,
          "metadata": {},
          "output_type": "execute_result"
        },
        {
          "data": {
            "image/png": "[encoded data removed]",
            "text/plain": [
              "<Figure size 432x288 with 1 Axes>"
            ]
          },
          "metadata": {
            "needs_background": "light"
          },
          "output_type": "display_data"
        }
      ],
      "source": [
        "#cheack target\n",
        "y_train.hist()"
      ]
    },
    {
      "cell_type": "code",
      "execution_count": null,
      "id": "5d075faf",
      "metadata": {
        "id": "5d075faf",
        "outputId": "8582533e-e5dc-458f-866f-d4b434cca2a7"
      },
      "outputs": [
        {
          "data": {
            "text/plain": [
              "2707.6236708320466"
            ]
          },
          "execution_count": 60,
          "metadata": {},
          "output_type": "execute_result"
        }
      ],
      "source": [
        "#Linear regression model\n",
        "from sklearn.linear_model import LinearRegression\n",
        "model = LinearRegression()\n",
        "model.fit(X_train, y_train)\n",
        "pred = model.predict(X_test)\n",
        "mean_squared_error(y_test, pred)"
      ]
    },
    {
      "cell_type": "markdown",
      "id": "b41e5155",
      "metadata": {
        "id": "b41e5155"
      },
      "source": [
        "**2. Ridge regression**\n",
        "* 회귀를 위한 선형 모델\n",
        "* Regularization\n",
        "    * 오버피팅 방지\n",
        "    * 규제방식: L2 규제\n",
        "    * 파라미터(alpha) 값을 활용하여 조절\n",
        "    * alpha 값이 커질수록 회귀 계수 값을 작게 만든다\n",
        "        * ex. Y=W1*X1 + W2*X2 + W3*X3 ... Wn*Wn\n",
        "        * 회귀계수: W, 피처(변수): X"
      ]
    },
    {
      "cell_type": "code",
      "execution_count": null,
      "id": "206200f0",
      "metadata": {
        "id": "206200f0",
        "outputId": "f42f4a56-2445-45be-e34b-969622783029"
      },
      "outputs": [
        {
          "data": {
            "text/plain": [
              "3522.1129142470336"
            ]
          },
          "execution_count": 61,
          "metadata": {},
          "output_type": "execute_result"
        }
      ],
      "source": [
        "#Ridge regression model\n",
        "from sklearn.linear_model import Ridge\n",
        "model = Ridge(alpha=1)\n",
        "model.fit(X_train, y_train)\n",
        "pred = model.predict(X_test)\n",
        "mean_squared_error(y_test, pred)"
      ]
    },
    {
      "cell_type": "code",
      "execution_count": null,
      "id": "80554c3a",
      "metadata": {
        "id": "80554c3a",
        "outputId": "e3a42264-61b3-4ee1-9568-7aa077dc7609"
      },
      "outputs": [
        {
          "data": {
            "text/html": [
              "<div>\n",
              "<style scoped>\n",
              "    .dataframe tbody tr th:only-of-type {\n",
              "        vertical-align: middle;\n",
              "    }\n",
              "\n",
              "    .dataframe tbody tr th {\n",
              "        vertical-align: top;\n",
              "    }\n",
              "\n",
              "    .dataframe thead th {\n",
              "        text-align: right;\n",
              "    }\n",
              "</style>\n",
              "<table border=\"1\" class=\"dataframe\">\n",
              "  <thead>\n",
              "    <tr style=\"text-align: right;\">\n",
              "      <th></th>\n",
              "      <th>alpha1</th>\n",
              "    </tr>\n",
              "  </thead>\n",
              "  <tbody>\n",
              "    <tr>\n",
              "      <th>age</th>\n",
              "      <td>31.293287</td>\n",
              "    </tr>\n",
              "    <tr>\n",
              "      <th>sex</th>\n",
              "      <td>-71.449580</td>\n",
              "    </tr>\n",
              "    <tr>\n",
              "      <th>bmi</th>\n",
              "      <td>267.605153</td>\n",
              "    </tr>\n",
              "    <tr>\n",
              "      <th>bp</th>\n",
              "      <td>197.364745</td>\n",
              "    </tr>\n",
              "    <tr>\n",
              "      <th>s1</th>\n",
              "      <td>14.613106</td>\n",
              "    </tr>\n",
              "    <tr>\n",
              "      <th>s2</th>\n",
              "      <td>-13.884790</td>\n",
              "    </tr>\n",
              "    <tr>\n",
              "      <th>s3</th>\n",
              "      <td>-124.649955</td>\n",
              "    </tr>\n",
              "    <tr>\n",
              "      <th>s4</th>\n",
              "      <td>106.212968</td>\n",
              "    </tr>\n",
              "    <tr>\n",
              "      <th>s5</th>\n",
              "      <td>221.068052</td>\n",
              "    </tr>\n",
              "    <tr>\n",
              "      <th>s6</th>\n",
              "      <td>101.202651</td>\n",
              "    </tr>\n",
              "  </tbody>\n",
              "</table>\n",
              "</div>"
            ],
            "text/plain": [
              "         alpha1\n",
              "age   31.293287\n",
              "sex  -71.449580\n",
              "bmi  267.605153\n",
              "bp   197.364745\n",
              "s1    14.613106\n",
              "s2   -13.884790\n",
              "s3  -124.649955\n",
              "s4   106.212968\n",
              "s5   221.068052\n",
              "s6   101.202651"
            ]
          },
          "execution_count": 62,
          "metadata": {},
          "output_type": "execute_result"
        }
      ],
      "source": [
        "#regression coefficient 회귀 계수\n",
        "coef = pd.DataFrame(data=model.coef_, index=X_train.columns, columns=['alpha1'])\n",
        "coef"
      ]
    },
    {
      "cell_type": "code",
      "execution_count": null,
      "id": "c929056c",
      "metadata": {
        "id": "c929056c",
        "outputId": "b8bbbbc4-5e00-4ebc-a213-44255756673c"
      },
      "outputs": [
        {
          "data": {
            "text/plain": [
              "5521.882311176061"
            ]
          },
          "execution_count": 63,
          "metadata": {},
          "output_type": "execute_result"
        }
      ],
      "source": [
        "#Ridge regression (alpha=10)\n",
        "model = Ridge(alpha=10)\n",
        "model.fit(X_train, y_train)\n",
        "pred = model.predict(X_test)\n",
        "mean_squared_error(y_test, pred)"
      ]
    },
    {
      "cell_type": "code",
      "execution_count": null,
      "id": "6e197dfa",
      "metadata": {
        "id": "6e197dfa",
        "outputId": "255638ef-7082-4443-d6f9-c9eeda47cc9a"
      },
      "outputs": [
        {
          "data": {
            "text/html": [
              "<div>\n",
              "<style scoped>\n",
              "    .dataframe tbody tr th:only-of-type {\n",
              "        vertical-align: middle;\n",
              "    }\n",
              "\n",
              "    .dataframe tbody tr th {\n",
              "        vertical-align: top;\n",
              "    }\n",
              "\n",
              "    .dataframe thead th {\n",
              "        text-align: right;\n",
              "    }\n",
              "</style>\n",
              "<table border=\"1\" class=\"dataframe\">\n",
              "  <thead>\n",
              "    <tr style=\"text-align: right;\">\n",
              "      <th></th>\n",
              "      <th>alpha1</th>\n",
              "      <th>alpha10</th>\n",
              "    </tr>\n",
              "  </thead>\n",
              "  <tbody>\n",
              "    <tr>\n",
              "      <th>age</th>\n",
              "      <td>31.293287</td>\n",
              "      <td>16.703159</td>\n",
              "    </tr>\n",
              "    <tr>\n",
              "      <th>sex</th>\n",
              "      <td>-71.449580</td>\n",
              "      <td>-1.796452</td>\n",
              "    </tr>\n",
              "    <tr>\n",
              "      <th>bmi</th>\n",
              "      <td>267.605153</td>\n",
              "      <td>61.026348</td>\n",
              "    </tr>\n",
              "    <tr>\n",
              "      <th>bp</th>\n",
              "      <td>197.364745</td>\n",
              "      <td>47.435152</td>\n",
              "    </tr>\n",
              "    <tr>\n",
              "      <th>s1</th>\n",
              "      <td>14.613106</td>\n",
              "      <td>18.491225</td>\n",
              "    </tr>\n",
              "    <tr>\n",
              "      <th>s2</th>\n",
              "      <td>-13.884790</td>\n",
              "      <td>13.440080</td>\n",
              "    </tr>\n",
              "    <tr>\n",
              "      <th>s3</th>\n",
              "      <td>-124.649955</td>\n",
              "      <td>-35.542084</td>\n",
              "    </tr>\n",
              "    <tr>\n",
              "      <th>s4</th>\n",
              "      <td>106.212968</td>\n",
              "      <td>38.896129</td>\n",
              "    </tr>\n",
              "    <tr>\n",
              "      <th>s5</th>\n",
              "      <td>221.068052</td>\n",
              "      <td>55.276214</td>\n",
              "    </tr>\n",
              "    <tr>\n",
              "      <th>s6</th>\n",
              "      <td>101.202651</td>\n",
              "      <td>35.868345</td>\n",
              "    </tr>\n",
              "  </tbody>\n",
              "</table>\n",
              "</div>"
            ],
            "text/plain": [
              "         alpha1    alpha10\n",
              "age   31.293287  16.703159\n",
              "sex  -71.449580  -1.796452\n",
              "bmi  267.605153  61.026348\n",
              "bp   197.364745  47.435152\n",
              "s1    14.613106  18.491225\n",
              "s2   -13.884790  13.440080\n",
              "s3  -124.649955 -35.542084\n",
              "s4   106.212968  38.896129\n",
              "s5   221.068052  55.276214\n",
              "s6   101.202651  35.868345"
            ]
          },
          "execution_count": 64,
          "metadata": {},
          "output_type": "execute_result"
        }
      ],
      "source": [
        "#regression coefficient (alpha=10)\n",
        "coef['alpha10'] = model.coef_\n",
        "coef"
      ]
    },
    {
      "cell_type": "code",
      "execution_count": null,
      "id": "4ab855de",
      "metadata": {
        "id": "4ab855de",
        "outputId": "292d5b4c-5f8a-484b-db10-96f61bfc3643"
      },
      "outputs": [
        {
          "data": {
            "text/plain": [
              "2699.6575055293893"
            ]
          },
          "execution_count": 67,
          "metadata": {},
          "output_type": "execute_result"
        }
      ],
      "source": [
        "#Ridge regression (alpha=0.05)\n",
        "model = Ridge(alpha=0.05)\n",
        "model.fit(X_train, y_train)\n",
        "pred = model.predict(X_test)\n",
        "mean_squared_error(y_test, pred)\n",
        "\n",
        "# Ridge regression (alpha=0.1), 2744.899739917671"
      ]
    },
    {
      "cell_type": "code",
      "execution_count": null,
      "id": "c7b6aa91",
      "metadata": {
        "id": "c7b6aa91",
        "outputId": "c9a06147-8527-4227-a696-e1bc1ff56903"
      },
      "outputs": [
        {
          "data": {
            "text/html": [
              "<div>\n",
              "<style scoped>\n",
              "    .dataframe tbody tr th:only-of-type {\n",
              "        vertical-align: middle;\n",
              "    }\n",
              "\n",
              "    .dataframe tbody tr th {\n",
              "        vertical-align: top;\n",
              "    }\n",
              "\n",
              "    .dataframe thead th {\n",
              "        text-align: right;\n",
              "    }\n",
              "</style>\n",
              "<table border=\"1\" class=\"dataframe\">\n",
              "  <thead>\n",
              "    <tr style=\"text-align: right;\">\n",
              "      <th></th>\n",
              "      <th>alpha1</th>\n",
              "      <th>alpha10</th>\n",
              "      <th>alpha0.1</th>\n",
              "      <th>alpha0.05</th>\n",
              "    </tr>\n",
              "  </thead>\n",
              "  <tbody>\n",
              "    <tr>\n",
              "      <th>age</th>\n",
              "      <td>31.293287</td>\n",
              "      <td>16.703159</td>\n",
              "      <td>4.274486</td>\n",
              "      <td>-0.509655</td>\n",
              "    </tr>\n",
              "    <tr>\n",
              "      <th>sex</th>\n",
              "      <td>-71.449580</td>\n",
              "      <td>-1.796452</td>\n",
              "      <td>-205.214645</td>\n",
              "      <td>-223.350550</td>\n",
              "    </tr>\n",
              "    <tr>\n",
              "      <th>bmi</th>\n",
              "      <td>267.605153</td>\n",
              "      <td>61.026348</td>\n",
              "      <td>450.905500</td>\n",
              "      <td>469.442823</td>\n",
              "    </tr>\n",
              "    <tr>\n",
              "      <th>bp</th>\n",
              "      <td>197.364745</td>\n",
              "      <td>47.435152</td>\n",
              "      <td>331.931307</td>\n",
              "      <td>348.377551</td>\n",
              "    </tr>\n",
              "    <tr>\n",
              "      <th>s1</th>\n",
              "      <td>14.613106</td>\n",
              "      <td>18.491225</td>\n",
              "      <td>-84.310050</td>\n",
              "      <td>-146.949652</td>\n",
              "    </tr>\n",
              "    <tr>\n",
              "      <th>s2</th>\n",
              "      <td>-13.884790</td>\n",
              "      <td>13.440080</td>\n",
              "      <td>-54.665887</td>\n",
              "      <td>-18.302744</td>\n",
              "    </tr>\n",
              "    <tr>\n",
              "      <th>s3</th>\n",
              "      <td>-124.649955</td>\n",
              "      <td>-35.542084</td>\n",
              "      <td>-158.707920</td>\n",
              "      <td>-141.660642</td>\n",
              "    </tr>\n",
              "    <tr>\n",
              "      <th>s4</th>\n",
              "      <td>106.212968</td>\n",
              "      <td>38.896129</td>\n",
              "      <td>114.068214</td>\n",
              "      <td>115.862762</td>\n",
              "    </tr>\n",
              "    <tr>\n",
              "      <th>s5</th>\n",
              "      <td>221.068052</td>\n",
              "      <td>55.276214</td>\n",
              "      <td>391.230355</td>\n",
              "      <td>432.505816</td>\n",
              "    </tr>\n",
              "    <tr>\n",
              "      <th>s6</th>\n",
              "      <td>101.202651</td>\n",
              "      <td>35.868345</td>\n",
              "      <td>78.555719</td>\n",
              "      <td>69.579039</td>\n",
              "    </tr>\n",
              "  </tbody>\n",
              "</table>\n",
              "</div>"
            ],
            "text/plain": [
              "         alpha1    alpha10    alpha0.1   alpha0.05\n",
              "age   31.293287  16.703159    4.274486   -0.509655\n",
              "sex  -71.449580  -1.796452 -205.214645 -223.350550\n",
              "bmi  267.605153  61.026348  450.905500  469.442823\n",
              "bp   197.364745  47.435152  331.931307  348.377551\n",
              "s1    14.613106  18.491225  -84.310050 -146.949652\n",
              "s2   -13.884790  13.440080  -54.665887  -18.302744\n",
              "s3  -124.649955 -35.542084 -158.707920 -141.660642\n",
              "s4   106.212968  38.896129  114.068214  115.862762\n",
              "s5   221.068052  55.276214  391.230355  432.505816\n",
              "s6   101.202651  35.868345   78.555719   69.579039"
            ]
          },
          "execution_count": 68,
          "metadata": {},
          "output_type": "execute_result"
        }
      ],
      "source": [
        "#regression coefficient (alpha=0.05)\n",
        "coef['alpha0.05'] = model.coef_\n",
        "coef"
      ]
    },
    {
      "cell_type": "markdown",
      "id": "fe7bc16b",
      "metadata": {
        "id": "fe7bc16b"
      },
      "source": [
        "**3. Lasso regression**\n",
        "* 회귀를 위한 선형 모델\n",
        "* Regularization\n",
        "    * 오버피팅 방지\n",
        "    * 규제방식: L1 규제\n",
        "    * L2규제에 비해 회귀 계수를 급격하게 감소시켜 0으로 만든다\n",
        "    * L1규제는 중요한 피처만 선택하는 특성이 있음"
      ]
    },
    {
      "cell_type": "code",
      "execution_count": null,
      "id": "24629db6",
      "metadata": {
        "id": "24629db6",
        "outputId": "d764e313-048b-4bfb-e4cd-4cd9e0f492e9"
      },
      "outputs": [
        {
          "data": {
            "text/plain": [
              "4179.146884323723"
            ]
          },
          "execution_count": 69,
          "metadata": {},
          "output_type": "execute_result"
        }
      ],
      "source": [
        "#Lasso regression model\n",
        "from sklearn.linear_model import Lasso\n",
        "model = Lasso(alpha=1)\n",
        "model.fit(X_train, y_train)\n",
        "pred = model.predict(X_test)\n",
        "mean_squared_error(y_test, pred)"
      ]
    },
    {
      "cell_type": "code",
      "execution_count": null,
      "id": "2fbba550",
      "metadata": {
        "id": "2fbba550",
        "outputId": "045724ec-670e-4d48-d421-a47755e1c69d"
      },
      "outputs": [
        {
          "data": {
            "text/html": [
              "<div>\n",
              "<style scoped>\n",
              "    .dataframe tbody tr th:only-of-type {\n",
              "        vertical-align: middle;\n",
              "    }\n",
              "\n",
              "    .dataframe tbody tr th {\n",
              "        vertical-align: top;\n",
              "    }\n",
              "\n",
              "    .dataframe thead th {\n",
              "        text-align: right;\n",
              "    }\n",
              "</style>\n",
              "<table border=\"1\" class=\"dataframe\">\n",
              "  <thead>\n",
              "    <tr style=\"text-align: right;\">\n",
              "      <th></th>\n",
              "      <th>alpha1</th>\n",
              "    </tr>\n",
              "  </thead>\n",
              "  <tbody>\n",
              "    <tr>\n",
              "      <th>age</th>\n",
              "      <td>0.000000</td>\n",
              "    </tr>\n",
              "    <tr>\n",
              "      <th>sex</th>\n",
              "      <td>-0.000000</td>\n",
              "    </tr>\n",
              "    <tr>\n",
              "      <th>bmi</th>\n",
              "      <td>343.588370</td>\n",
              "    </tr>\n",
              "    <tr>\n",
              "      <th>bp</th>\n",
              "      <td>46.375388</td>\n",
              "    </tr>\n",
              "    <tr>\n",
              "      <th>s1</th>\n",
              "      <td>0.000000</td>\n",
              "    </tr>\n",
              "    <tr>\n",
              "      <th>s2</th>\n",
              "      <td>0.000000</td>\n",
              "    </tr>\n",
              "    <tr>\n",
              "      <th>s3</th>\n",
              "      <td>-0.000000</td>\n",
              "    </tr>\n",
              "    <tr>\n",
              "      <th>s4</th>\n",
              "      <td>0.000000</td>\n",
              "    </tr>\n",
              "    <tr>\n",
              "      <th>s5</th>\n",
              "      <td>245.167660</td>\n",
              "    </tr>\n",
              "    <tr>\n",
              "      <th>s6</th>\n",
              "      <td>0.000000</td>\n",
              "    </tr>\n",
              "  </tbody>\n",
              "</table>\n",
              "</div>"
            ],
            "text/plain": [
              "         alpha1\n",
              "age    0.000000\n",
              "sex   -0.000000\n",
              "bmi  343.588370\n",
              "bp    46.375388\n",
              "s1     0.000000\n",
              "s2     0.000000\n",
              "s3    -0.000000\n",
              "s4     0.000000\n",
              "s5   245.167660\n",
              "s6     0.000000"
            ]
          },
          "execution_count": 70,
          "metadata": {},
          "output_type": "execute_result"
        }
      ],
      "source": [
        "#regression coefficient 회귀 계수\n",
        "coef = pd.DataFrame(data=model.coef_, index=X_train.columns, columns=['alpha1'])\n",
        "coef"
      ]
    },
    {
      "cell_type": "code",
      "execution_count": null,
      "id": "e399a938",
      "metadata": {
        "id": "e399a938",
        "outputId": "7e5b9e8b-6f02-4282-9732-1c27f45fc941"
      },
      "outputs": [
        {
          "data": {
            "text/plain": [
              "6398.637179448666"
            ]
          },
          "execution_count": 71,
          "metadata": {},
          "output_type": "execute_result"
        }
      ],
      "source": [
        "#Lasso regression (alpha=2)\n",
        "model = Lasso(alpha=2)\n",
        "model.fit(X_train, y_train)\n",
        "pred = model.predict(X_test)\n",
        "mean_squared_error(y_test, pred)"
      ]
    },
    {
      "cell_type": "code",
      "execution_count": null,
      "id": "b397d4d9",
      "metadata": {
        "id": "b397d4d9",
        "outputId": "b0c49809-f4e0-40dc-de12-b1164ed6d5a9"
      },
      "outputs": [
        {
          "data": {
            "text/html": [
              "<div>\n",
              "<style scoped>\n",
              "    .dataframe tbody tr th:only-of-type {\n",
              "        vertical-align: middle;\n",
              "    }\n",
              "\n",
              "    .dataframe tbody tr th {\n",
              "        vertical-align: top;\n",
              "    }\n",
              "\n",
              "    .dataframe thead th {\n",
              "        text-align: right;\n",
              "    }\n",
              "</style>\n",
              "<table border=\"1\" class=\"dataframe\">\n",
              "  <thead>\n",
              "    <tr style=\"text-align: right;\">\n",
              "      <th></th>\n",
              "      <th>alpha1</th>\n",
              "      <th>alpha2</th>\n",
              "    </tr>\n",
              "  </thead>\n",
              "  <tbody>\n",
              "    <tr>\n",
              "      <th>age</th>\n",
              "      <td>0.000000</td>\n",
              "      <td>0.000000</td>\n",
              "    </tr>\n",
              "    <tr>\n",
              "      <th>sex</th>\n",
              "      <td>-0.000000</td>\n",
              "      <td>0.000000</td>\n",
              "    </tr>\n",
              "    <tr>\n",
              "      <th>bmi</th>\n",
              "      <td>343.588370</td>\n",
              "      <td>42.963888</td>\n",
              "    </tr>\n",
              "    <tr>\n",
              "      <th>bp</th>\n",
              "      <td>46.375388</td>\n",
              "      <td>0.000000</td>\n",
              "    </tr>\n",
              "    <tr>\n",
              "      <th>s1</th>\n",
              "      <td>0.000000</td>\n",
              "      <td>0.000000</td>\n",
              "    </tr>\n",
              "    <tr>\n",
              "      <th>s2</th>\n",
              "      <td>0.000000</td>\n",
              "      <td>0.000000</td>\n",
              "    </tr>\n",
              "    <tr>\n",
              "      <th>s3</th>\n",
              "      <td>-0.000000</td>\n",
              "      <td>-0.000000</td>\n",
              "    </tr>\n",
              "    <tr>\n",
              "      <th>s4</th>\n",
              "      <td>0.000000</td>\n",
              "      <td>0.000000</td>\n",
              "    </tr>\n",
              "    <tr>\n",
              "      <th>s5</th>\n",
              "      <td>245.167660</td>\n",
              "      <td>0.000000</td>\n",
              "    </tr>\n",
              "    <tr>\n",
              "      <th>s6</th>\n",
              "      <td>0.000000</td>\n",
              "      <td>0.000000</td>\n",
              "    </tr>\n",
              "  </tbody>\n",
              "</table>\n",
              "</div>"
            ],
            "text/plain": [
              "         alpha1     alpha2\n",
              "age    0.000000   0.000000\n",
              "sex   -0.000000   0.000000\n",
              "bmi  343.588370  42.963888\n",
              "bp    46.375388   0.000000\n",
              "s1     0.000000   0.000000\n",
              "s2     0.000000   0.000000\n",
              "s3    -0.000000  -0.000000\n",
              "s4     0.000000   0.000000\n",
              "s5   245.167660   0.000000\n",
              "s6     0.000000   0.000000"
            ]
          },
          "execution_count": 72,
          "metadata": {},
          "output_type": "execute_result"
        }
      ],
      "source": [
        "#regression coefficient (alpha=2)\n",
        "coef['alpha2'] = model.coef_\n",
        "coef"
      ]
    },
    {
      "cell_type": "code",
      "execution_count": null,
      "id": "83d7e3b9",
      "metadata": {
        "id": "83d7e3b9",
        "outputId": "793f3767-30d9-4b94-cca7-74001d609add"
      },
      "outputs": [
        {
          "data": {
            "text/plain": [
              "2703.4553190372917"
            ]
          },
          "execution_count": 73,
          "metadata": {},
          "output_type": "execute_result"
        }
      ],
      "source": [
        "#Lasso regression (alpha=0.05)\n",
        "model = Lasso(alpha=0.05)\n",
        "model.fit(X_train, y_train)\n",
        "pred = model.predict(X_test)\n",
        "mean_squared_error(y_test, pred)"
      ]
    },
    {
      "cell_type": "code",
      "execution_count": null,
      "id": "da733e79",
      "metadata": {
        "id": "da733e79",
        "outputId": "217d8837-01f2-419b-f2cd-6b3f51a83226"
      },
      "outputs": [
        {
          "data": {
            "text/html": [
              "<div>\n",
              "<style scoped>\n",
              "    .dataframe tbody tr th:only-of-type {\n",
              "        vertical-align: middle;\n",
              "    }\n",
              "\n",
              "    .dataframe tbody tr th {\n",
              "        vertical-align: top;\n",
              "    }\n",
              "\n",
              "    .dataframe thead th {\n",
              "        text-align: right;\n",
              "    }\n",
              "</style>\n",
              "<table border=\"1\" class=\"dataframe\">\n",
              "  <thead>\n",
              "    <tr style=\"text-align: right;\">\n",
              "      <th></th>\n",
              "      <th>alpha1</th>\n",
              "      <th>alpha2</th>\n",
              "      <th>alpha0.05</th>\n",
              "    </tr>\n",
              "  </thead>\n",
              "  <tbody>\n",
              "    <tr>\n",
              "      <th>age</th>\n",
              "      <td>0.000000</td>\n",
              "      <td>0.000000</td>\n",
              "      <td>-0.000000</td>\n",
              "    </tr>\n",
              "    <tr>\n",
              "      <th>sex</th>\n",
              "      <td>-0.000000</td>\n",
              "      <td>0.000000</td>\n",
              "      <td>-198.953867</td>\n",
              "    </tr>\n",
              "    <tr>\n",
              "      <th>bmi</th>\n",
              "      <td>343.588370</td>\n",
              "      <td>42.963888</td>\n",
              "      <td>487.192794</td>\n",
              "    </tr>\n",
              "    <tr>\n",
              "      <th>bp</th>\n",
              "      <td>46.375388</td>\n",
              "      <td>0.000000</td>\n",
              "      <td>340.499590</td>\n",
              "    </tr>\n",
              "    <tr>\n",
              "      <th>s1</th>\n",
              "      <td>0.000000</td>\n",
              "      <td>0.000000</td>\n",
              "      <td>-95.578630</td>\n",
              "    </tr>\n",
              "    <tr>\n",
              "      <th>s2</th>\n",
              "      <td>0.000000</td>\n",
              "      <td>0.000000</td>\n",
              "      <td>-0.000000</td>\n",
              "    </tr>\n",
              "    <tr>\n",
              "      <th>s3</th>\n",
              "      <td>-0.000000</td>\n",
              "      <td>-0.000000</td>\n",
              "      <td>-189.868586</td>\n",
              "    </tr>\n",
              "    <tr>\n",
              "      <th>s4</th>\n",
              "      <td>0.000000</td>\n",
              "      <td>0.000000</td>\n",
              "      <td>10.489156</td>\n",
              "    </tr>\n",
              "    <tr>\n",
              "      <th>s5</th>\n",
              "      <td>245.167660</td>\n",
              "      <td>0.000000</td>\n",
              "      <td>457.331482</td>\n",
              "    </tr>\n",
              "    <tr>\n",
              "      <th>s6</th>\n",
              "      <td>0.000000</td>\n",
              "      <td>0.000000</td>\n",
              "      <td>39.292945</td>\n",
              "    </tr>\n",
              "  </tbody>\n",
              "</table>\n",
              "</div>"
            ],
            "text/plain": [
              "         alpha1     alpha2   alpha0.05\n",
              "age    0.000000   0.000000   -0.000000\n",
              "sex   -0.000000   0.000000 -198.953867\n",
              "bmi  343.588370  42.963888  487.192794\n",
              "bp    46.375388   0.000000  340.499590\n",
              "s1     0.000000   0.000000  -95.578630\n",
              "s2     0.000000   0.000000   -0.000000\n",
              "s3    -0.000000  -0.000000 -189.868586\n",
              "s4     0.000000   0.000000   10.489156\n",
              "s5   245.167660   0.000000  457.331482\n",
              "s6     0.000000   0.000000   39.292945"
            ]
          },
          "execution_count": 74,
          "metadata": {},
          "output_type": "execute_result"
        }
      ],
      "source": [
        "#regression coefficient (alpha=0.05)\n",
        "coef['alpha0.05'] = model.coef_\n",
        "coef"
      ]
    },
    {
      "cell_type": "markdown",
      "id": "c791e6e8",
      "metadata": {
        "id": "c791e6e8"
      },
      "source": [
        "**4. Elastic-net regression**\n",
        "* 회귀를 위한 선형 모델\n",
        "* L2규제와 L1규제를 결합한 회귀\n",
        "* 상대적으로 시간이 오래 걸림"
      ]
    },
    {
      "cell_type": "code",
      "execution_count": null,
      "id": "4ec54d45",
      "metadata": {
        "id": "4ec54d45",
        "outputId": "446b2546-c3a9-416b-c875-b44ce672807e"
      },
      "outputs": [
        {
          "data": {
            "text/plain": [
              "6539.270795233337"
            ]
          },
          "execution_count": 75,
          "metadata": {},
          "output_type": "execute_result"
        }
      ],
      "source": [
        "#Elastic-net regression model\n",
        "from sklearn.linear_model import ElasticNet\n",
        "model = ElasticNet(alpha=1)\n",
        "model.fit(X_train, y_train)\n",
        "pred = model.predict(X_test)\n",
        "mean_squared_error(y_test, pred)"
      ]
    },
    {
      "cell_type": "code",
      "execution_count": null,
      "id": "28eb2262",
      "metadata": {
        "id": "28eb2262",
        "outputId": "ea1514b2-f383-4aa6-e576-5e7a5a1969c2"
      },
      "outputs": [
        {
          "data": {
            "text/plain": [
              "2675.6005929972935"
            ]
          },
          "execution_count": 76,
          "metadata": {},
          "output_type": "execute_result"
        }
      ],
      "source": [
        "#Elastic-net regression model (alpha=0.0001)\n",
        "from sklearn.linear_model import ElasticNet\n",
        "model = ElasticNet(alpha=0.0001, l1_ratio=0.6)\n",
        "model.fit(X_train, y_train)\n",
        "pred = model.predict(X_test)\n",
        "mean_squared_error(y_test, pred)"
      ]
    },
    {
      "cell_type": "markdown",
      "id": "3ebb2ab0",
      "metadata": {
        "id": "3ebb2ab0"
      },
      "source": [
        "**5. Random Forest & XGBoost**"
      ]
    },
    {
      "cell_type": "code",
      "execution_count": null,
      "id": "7ea39c98",
      "metadata": {
        "id": "7ea39c98",
        "outputId": "3ac58240-8a5c-4fb4-86e9-286ea5132db0"
      },
      "outputs": [
        {
          "name": "stdout",
          "output_type": "stream",
          "text": [
            "랜덤포레스트\n",
            "3255.5683449438197\n"
          ]
        }
      ],
      "source": [
        "#Random Forest\n",
        "from sklearn.ensemble import RandomForestRegressor\n",
        "model = RandomForestRegressor()\n",
        "model.fit(X_train, y_train)\n",
        "pred = model.predict(X_test)\n",
        "print(\"랜덤포레스트\")\n",
        "print(mean_squared_error(y_test, pred))"
      ]
    },
    {
      "cell_type": "code",
      "execution_count": null,
      "id": "cba85bf0",
      "metadata": {
        "id": "cba85bf0",
        "outputId": "15111e0f-7ad5-4490-b842-79fb7394f437"
      },
      "outputs": [
        {
          "name": "stdout",
          "output_type": "stream",
          "text": [
            "xgboost\n",
            "4028.2455020344587\n"
          ]
        }
      ],
      "source": [
        "#XGBoost\n",
        "from xgboost import XGBRegressor\n",
        "model = XGBRegressor()\n",
        "model.fit(X_train, y_train)\n",
        "pred = model.predict(X_test)\n",
        "print(\"xgboost\")\n",
        "print(mean_squared_error(y_test, pred))"
      ]
    },
    {
      "cell_type": "markdown",
      "id": "c919bc49",
      "metadata": {
        "id": "c919bc49"
      },
      "source": [
        "**6. Hyperparameter Tuning**"
      ]
    },
    {
      "cell_type": "code",
      "execution_count": null,
      "id": "d69189a4",
      "metadata": {
        "id": "d69189a4"
      },
      "outputs": [],
      "source": [
        "#lib\n",
        "from sklearn.model_selection import GridSearchCV, RandomizedSearchCV"
      ]
    },
    {
      "cell_type": "code",
      "execution_count": null,
      "id": "d6c35f52",
      "metadata": {
        "id": "d6c35f52"
      },
      "outputs": [],
      "source": [
        "#Hyperparameter\n",
        "params={'learning_rate':[0.07, 0.05],\n",
        "        'max_depth':[3, 5, 7],\n",
        "        'n_estimators':[100, 200],\n",
        "        'subsample':[0.9, 0.8, 0.7]}"
      ]
    },
    {
      "cell_type": "code",
      "execution_count": null,
      "id": "c92940c1",
      "metadata": {
        "id": "c92940c1"
      },
      "outputs": [],
      "source": [
        "#dataset load\n",
        "def make_dataset2():\n",
        "    dataset = load_diabetes()\n",
        "    df = pd.DataFrame(dataset.data, columns=dataset.feature_names)\n",
        "    df['target'] = dataset.target\n",
        "    return df.drop('target', axis=1), df['target']\n",
        "X, y = make_dataset2()"
      ]
    },
    {
      "cell_type": "markdown",
      "id": "2ddbcfa8",
      "metadata": {
        "id": "2ddbcfa8"
      },
      "source": [
        "**GridSearchCV**"
      ]
    },
    {
      "cell_type": "code",
      "execution_count": null,
      "id": "a5427a38",
      "metadata": {
        "id": "a5427a38",
        "outputId": "46cf6f5f-f93a-4f9b-a90d-3493f3f364bd"
      },
      "outputs": [
        {
          "name": "stderr",
          "output_type": "stream",
          "text": [
            "/opt/conda/lib/python3.9/site-packages/pkg_resources/__init__.py:122: PkgResourcesDeprecationWarning: 0.996-ko-0.9.2 is an invalid version and will not be supported in a future release\n",
            "  warnings.warn(\n",
            "/opt/conda/lib/python3.9/site-packages/pkg_resources/__init__.py:122: PkgResourcesDeprecationWarning: 0.996-ko-0.9.2 is an invalid version and will not be supported in a future release\n",
            "  warnings.warn(\n"
          ]
        },
        {
          "data": {
            "text/plain": [
              "GridSearchCV(cv=3,\n",
              "             estimator=XGBRegressor(base_score=None, booster=None,\n",
              "                                    colsample_bylevel=None,\n",
              "                                    colsample_bynode=None,\n",
              "                                    colsample_bytree=None, gamma=None,\n",
              "                                    gpu_id=None, importance_type='gain',\n",
              "                                    interaction_constraints=None,\n",
              "                                    learning_rate=None, max_delta_step=None,\n",
              "                                    max_depth=None, min_child_weight=None,\n",
              "                                    missing=nan, monotone_constraints=None,\n",
              "                                    n_estimators=100, n_jobs=None,\n",
              "                                    num_parallel_tree=None, random_state=None,\n",
              "                                    reg_alpha=None, reg_lambda=None,\n",
              "                                    scale_pos_weight=None, subsample=None,\n",
              "                                    tree_method=None, validate_parameters=None,\n",
              "                                    verbosity=None),\n",
              "             n_jobs=-1,\n",
              "             param_grid={'learning_rate': [0.07, 0.05], 'max_depth': [3, 5, 7],\n",
              "                         'n_estimators': [100, 200],\n",
              "                         'subsample': [0.9, 0.8, 0.7]})"
            ]
          },
          "execution_count": 83,
          "metadata": {},
          "output_type": "execute_result"
        }
      ],
      "source": [
        "xgb = XGBRegressor()\n",
        "grid = GridSearchCV(xgb, params, cv=3, n_jobs=-1)\n",
        "grid.fit(X, y)"
      ]
    },
    {
      "cell_type": "code",
      "execution_count": null,
      "id": "6834037c",
      "metadata": {
        "id": "6834037c",
        "outputId": "3435edf3-e5ca-4f76-ebdb-e4ce49089d34"
      },
      "outputs": [
        {
          "data": {
            "text/plain": [
              "{'learning_rate': 0.05, 'max_depth': 3, 'n_estimators': 100, 'subsample': 0.7}"
            ]
          },
          "execution_count": 84,
          "metadata": {},
          "output_type": "execute_result"
        }
      ],
      "source": [
        "#최적의 Hyperparameter\n",
        "grid.best_params_"
      ]
    },
    {
      "cell_type": "code",
      "execution_count": null,
      "id": "a750325b",
      "metadata": {
        "id": "a750325b",
        "outputId": "eb237cca-152c-4599-8197-d39487ea0098"
      },
      "outputs": [
        {
          "data": {
            "text/plain": [
              "3173.045180496539"
            ]
          },
          "execution_count": 85,
          "metadata": {},
          "output_type": "execute_result"
        }
      ],
      "source": [
        "#Hyperparameter Tuning\n",
        "xgb = XGBRegressor(\n",
        "    learning_rate = 0.05,\n",
        "    max_depth = 3,\n",
        "    n_estimators = 100,\n",
        "    subsample = 0.7\n",
        ")\n",
        "xgb.fit(X_train, y_train)\n",
        "pred = xgb.predict(X_test)\n",
        "mean_squared_error(y_test, pred)"
      ]
    },
    {
      "cell_type": "markdown",
      "id": "845e0245",
      "metadata": {
        "id": "845e0245"
      },
      "source": [
        "**Random Search**"
      ]
    },
    {
      "cell_type": "code",
      "execution_count": null,
      "id": "cb111f4c",
      "metadata": {
        "id": "cb111f4c",
        "outputId": "3986e512-4866-4357-e3e0-c7d94e0b473c"
      },
      "outputs": [
        {
          "data": {
            "text/plain": [
              "RandomizedSearchCV(cv=3,\n",
              "                   estimator=XGBRegressor(base_score=None, booster=None,\n",
              "                                          colsample_bylevel=None,\n",
              "                                          colsample_bynode=None,\n",
              "                                          colsample_bytree=None, gamma=None,\n",
              "                                          gpu_id=None, importance_type='gain',\n",
              "                                          interaction_constraints=None,\n",
              "                                          learning_rate=None,\n",
              "                                          max_delta_step=None, max_depth=None,\n",
              "                                          min_child_weight=None, missing=nan,\n",
              "                                          monotone_constraints=None,\n",
              "                                          n_estimators=100, n_jobs=None,\n",
              "                                          num_parallel_tree=None,\n",
              "                                          random_state=None, reg_alpha=None,\n",
              "                                          reg_lambda=None,\n",
              "                                          scale_pos_weight=None, subsample=None,\n",
              "                                          tree_method=None,\n",
              "                                          validate_parameters=None,\n",
              "                                          verbosity=None),\n",
              "                   n_jobs=-1,\n",
              "                   param_distributions={'learning_rate': [0.07, 0.05],\n",
              "                                        'max_depth': [3, 5, 7],\n",
              "                                        'n_estimators': [100, 200],\n",
              "                                        'subsample': [0.9, 0.8, 0.7]})"
            ]
          },
          "execution_count": 86,
          "metadata": {},
          "output_type": "execute_result"
        }
      ],
      "source": [
        "xgb = XGBRegressor()\n",
        "grid = RandomizedSearchCV(xgb, params, cv=3, n_iter=10, n_jobs=-1)\n",
        "grid.fit(X, y)"
      ]
    },
    {
      "cell_type": "code",
      "execution_count": null,
      "id": "11e6618f",
      "metadata": {
        "id": "11e6618f",
        "outputId": "23a7d8b0-e1bd-4f1c-b14d-fa3ef47b87d8"
      },
      "outputs": [
        {
          "data": {
            "text/plain": [
              "{'subsample': 0.7, 'n_estimators': 100, 'max_depth': 3, 'learning_rate': 0.05}"
            ]
          },
          "execution_count": 87,
          "metadata": {},
          "output_type": "execute_result"
        }
      ],
      "source": [
        "#최적의 Hyperparameter\n",
        "grid.best_params_"
      ]
    },
    {
      "cell_type": "markdown",
      "id": "3fd358ac",
      "metadata": {
        "id": "3fd358ac"
      },
      "source": [
        "**7. Evaluation(Regression)**"
      ]
    },
    {
      "cell_type": "code",
      "execution_count": null,
      "id": "ccf84e9e",
      "metadata": {
        "id": "ccf84e9e",
        "outputId": "12be6285-de56-495a-fb9e-fa93b53891af"
      },
      "outputs": [
        {
          "data": {
            "text/plain": [
              "47.57186281011346"
            ]
          },
          "execution_count": 88,
          "metadata": {},
          "output_type": "execute_result"
        }
      ],
      "source": [
        "#MAE\n",
        "from sklearn.metrics import mean_absolute_error\n",
        "mean_absolute_error(y_test, pred)"
      ]
    },
    {
      "cell_type": "code",
      "execution_count": null,
      "id": "5a869dae",
      "metadata": {
        "id": "5a869dae",
        "outputId": "5ea62e35-93c0-4357-c039-8ea2c466e219"
      },
      "outputs": [
        {
          "data": {
            "text/plain": [
              "3173.045180496539"
            ]
          },
          "execution_count": 89,
          "metadata": {},
          "output_type": "execute_result"
        }
      ],
      "source": [
        "#MSE\n",
        "from sklearn.metrics import mean_squared_error\n",
        "mean_squared_error(y_test, pred)"
      ]
    },
    {
      "cell_type": "code",
      "execution_count": null,
      "id": "cf231bca",
      "metadata": {
        "id": "cf231bca",
        "outputId": "8814a949-dc8a-4bac-b8ef-943deb277a3e"
      },
      "outputs": [
        {
          "data": {
            "text/plain": [
              "56.32978945901129"
            ]
          },
          "execution_count": 90,
          "metadata": {},
          "output_type": "execute_result"
        }
      ],
      "source": [
        "#RMSE\n",
        "import numpy as np\n",
        "np.sqrt(mean_squared_error(y_test, pred))"
      ]
    },
    {
      "cell_type": "code",
      "execution_count": null,
      "id": "ea3377f9",
      "metadata": {
        "id": "ea3377f9",
        "outputId": "a03b58fe-efe1-4713-b1b4-8b1899134677"
      },
      "outputs": [
        {
          "data": {
            "text/plain": [
              "0.4359462312673838"
            ]
          },
          "execution_count": 91,
          "metadata": {},
          "output_type": "execute_result"
        }
      ],
      "source": [
        "#RMSLE\n",
        "from sklearn.metrics import mean_squared_log_error\n",
        "np.sqrt(mean_squared_log_error(y_test, pred))"
      ]
    },
    {
      "cell_type": "code",
      "execution_count": null,
      "id": "22741477",
      "metadata": {
        "id": "22741477",
        "outputId": "0930f415-5a62-42b0-a2e7-9413eafd2c16"
      },
      "outputs": [
        {
          "data": {
            "text/plain": [
              "0.5153820583895429"
            ]
          },
          "execution_count": 92,
          "metadata": {},
          "output_type": "execute_result"
        }
      ],
      "source": [
        "#R2\n",
        "from sklearn.metrics import r2_score\n",
        "r2_score(y_test, pred)"
      ]
    }
  ],
  "metadata": {
    "kernelspec": {
      "display_name": "Python 3 (ipykernel)",
      "language": "python",
      "name": "python3"
    },
    "language_info": {
      "codemirror_mode": {
        "name": "ipython",
        "version": 3
      },
      "file_extension": ".py",
      "mimetype": "text/x-python",
      "name": "python",
      "nbconvert_exporter": "python",
      "pygments_lexer": "ipython3",
      "version": "3.9.7"
    },
    "colab": {
      "provenance": [],
      "include_colab_link": true
    }
  },
  "nbformat": 4,
  "nbformat_minor": 5
}