{
  "cells": [
    {
      "cell_type": "markdown",
      "metadata": {
        "id": "view-in-github",
        "colab_type": "text"
      },
      "source": [
        "<a href=\"https://colab.research.google.com/github/CAVASOL/aiffel_quest/blob/main/ML_node/ML_with_Python_Project.ipynb\" target=\"_parent\"><img src=\"https://colab.research.google.com/assets/colab-badge.svg\" alt=\"Open In Colab\"/></a>"
      ]
    },
    {
      "cell_type": "markdown",
      "id": "adf53027",
      "metadata": {
        "id": "adf53027"
      },
      "source": [
        "**ML Project: AirBnB New York city 가격 예측하기**  \n",
        "* EDA  \n",
        "* Data Preprocessing  \n",
        "* ML(Regression) model fitting & predict  "
      ]
    },
    {
      "cell_type": "markdown",
      "id": "fe3f538d",
      "metadata": {
        "id": "fe3f538d"
      },
      "source": [
        "**1. Baseline - 라이브러리와 데이터 불러오기**"
      ]
    },
    {
      "cell_type": "code",
      "execution_count": null,
      "id": "93045676",
      "metadata": {
        "id": "93045676"
      },
      "outputs": [],
      "source": [
        "# Lib\n",
        "import pandas as pd"
      ]
    },
    {
      "cell_type": "code",
      "execution_count": null,
      "id": "13dd8a2f",
      "metadata": {
        "id": "13dd8a2f"
      },
      "outputs": [],
      "source": [
        "# Dataset\n",
        "train = pd.read_csv('/aiffel/data/train.csv')\n",
        "test = pd.read_csv('/aiffel/data/test.csv')\n",
        "# y_test = pd.read_csv('/aiffel/data/y_test.csv')"
      ]
    },
    {
      "cell_type": "markdown",
      "id": "df5a801d",
      "metadata": {
        "id": "df5a801d"
      },
      "source": [
        "**2. EDA(탐색적 데이터 분석) - 탐색적으로 데이터 살펴보기**"
      ]
    },
    {
      "cell_type": "code",
      "execution_count": null,
      "id": "57bd0057",
      "metadata": {
        "id": "57bd0057",
        "outputId": "466db82d-4887-4cb8-90da-028478c6e518"
      },
      "outputs": [
        {
          "data": {
            "text/plain": [
              "((39116, 16), (9779, 15))"
            ]
          },
          "execution_count": 53,
          "metadata": {},
          "output_type": "execute_result"
        }
      ],
      "source": [
        "# Dataset size\n",
        "train.shape, test.shape"
      ]
    },
    {
      "cell_type": "code",
      "execution_count": null,
      "id": "390e728d",
      "metadata": {
        "id": "390e728d",
        "outputId": "e81eae40-407a-4b59-c4b6-f8553f624023"
      },
      "outputs": [
        {
          "data": {
            "text/html": [
              "<div>\n",
              "<style scoped>\n",
              "    .dataframe tbody tr th:only-of-type {\n",
              "        vertical-align: middle;\n",
              "    }\n",
              "\n",
              "    .dataframe tbody tr th {\n",
              "        vertical-align: top;\n",
              "    }\n",
              "\n",
              "    .dataframe thead th {\n",
              "        text-align: right;\n",
              "    }\n",
              "</style>\n",
              "<table border=\"1\" class=\"dataframe\">\n",
              "  <thead>\n",
              "    <tr style=\"text-align: right;\">\n",
              "      <th></th>\n",
              "      <th>id</th>\n",
              "      <th>name</th>\n",
              "      <th>host_id</th>\n",
              "      <th>host_name</th>\n",
              "      <th>neighbourhood_group</th>\n",
              "      <th>neighbourhood</th>\n",
              "      <th>latitude</th>\n",
              "      <th>longitude</th>\n",
              "      <th>room_type</th>\n",
              "      <th>price</th>\n",
              "      <th>minimum_nights</th>\n",
              "      <th>number_of_reviews</th>\n",
              "      <th>last_review</th>\n",
              "      <th>reviews_per_month</th>\n",
              "      <th>calculated_host_listings_count</th>\n",
              "      <th>availability_365</th>\n",
              "    </tr>\n",
              "  </thead>\n",
              "  <tbody>\n",
              "    <tr>\n",
              "      <th>0</th>\n",
              "      <td>14963583</td>\n",
              "      <td>Room in South Harlem near Central Park</td>\n",
              "      <td>94219511</td>\n",
              "      <td>Gilles</td>\n",
              "      <td>Manhattan</td>\n",
              "      <td>Harlem</td>\n",
              "      <td>40.80167</td>\n",
              "      <td>-73.95781</td>\n",
              "      <td>Private room</td>\n",
              "      <td>70</td>\n",
              "      <td>3</td>\n",
              "      <td>3</td>\n",
              "      <td>2019-01-01</td>\n",
              "      <td>0.09</td>\n",
              "      <td>2</td>\n",
              "      <td>0</td>\n",
              "    </tr>\n",
              "    <tr>\n",
              "      <th>1</th>\n",
              "      <td>9458704</td>\n",
              "      <td>Large 1BR Apartment, near Times Sq (2nd Floor)</td>\n",
              "      <td>49015331</td>\n",
              "      <td>Iradj</td>\n",
              "      <td>Manhattan</td>\n",
              "      <td>Hell's Kitchen</td>\n",
              "      <td>40.76037</td>\n",
              "      <td>-73.99016</td>\n",
              "      <td>Entire home/apt</td>\n",
              "      <td>240</td>\n",
              "      <td>2</td>\n",
              "      <td>64</td>\n",
              "      <td>2019-06-30</td>\n",
              "      <td>1.68</td>\n",
              "      <td>2</td>\n",
              "      <td>262</td>\n",
              "    </tr>\n",
              "  </tbody>\n",
              "</table>\n",
              "</div>"
            ],
            "text/plain": [
              "         id                                            name   host_id  \\\n",
              "0  14963583          Room in South Harlem near Central Park  94219511   \n",
              "1   9458704  Large 1BR Apartment, near Times Sq (2nd Floor)  49015331   \n",
              "\n",
              "  host_name neighbourhood_group   neighbourhood  latitude  longitude  \\\n",
              "0    Gilles           Manhattan          Harlem  40.80167  -73.95781   \n",
              "1     Iradj           Manhattan  Hell's Kitchen  40.76037  -73.99016   \n",
              "\n",
              "         room_type  price  minimum_nights  number_of_reviews last_review  \\\n",
              "0     Private room     70               3                  3  2019-01-01   \n",
              "1  Entire home/apt    240               2                 64  2019-06-30   \n",
              "\n",
              "   reviews_per_month  calculated_host_listings_count  availability_365  \n",
              "0               0.09                               2                 0  \n",
              "1               1.68                               2               262  "
            ]
          },
          "metadata": {},
          "output_type": "display_data"
        },
        {
          "data": {
            "text/html": [
              "<div>\n",
              "<style scoped>\n",
              "    .dataframe tbody tr th:only-of-type {\n",
              "        vertical-align: middle;\n",
              "    }\n",
              "\n",
              "    .dataframe tbody tr th {\n",
              "        vertical-align: top;\n",
              "    }\n",
              "\n",
              "    .dataframe thead th {\n",
              "        text-align: right;\n",
              "    }\n",
              "</style>\n",
              "<table border=\"1\" class=\"dataframe\">\n",
              "  <thead>\n",
              "    <tr style=\"text-align: right;\">\n",
              "      <th></th>\n",
              "      <th>id</th>\n",
              "      <th>name</th>\n",
              "      <th>host_id</th>\n",
              "      <th>host_name</th>\n",
              "      <th>neighbourhood_group</th>\n",
              "      <th>neighbourhood</th>\n",
              "      <th>latitude</th>\n",
              "      <th>longitude</th>\n",
              "      <th>room_type</th>\n",
              "      <th>minimum_nights</th>\n",
              "      <th>number_of_reviews</th>\n",
              "      <th>last_review</th>\n",
              "      <th>reviews_per_month</th>\n",
              "      <th>calculated_host_listings_count</th>\n",
              "      <th>availability_365</th>\n",
              "    </tr>\n",
              "  </thead>\n",
              "  <tbody>\n",
              "    <tr>\n",
              "      <th>0</th>\n",
              "      <td>30913224</td>\n",
              "      <td>Cozy and Sunny Room Williamsburg, Luxury Building</td>\n",
              "      <td>33771081</td>\n",
              "      <td>Rémy</td>\n",
              "      <td>Brooklyn</td>\n",
              "      <td>Williamsburg</td>\n",
              "      <td>40.70959</td>\n",
              "      <td>-73.94652</td>\n",
              "      <td>Private room</td>\n",
              "      <td>3</td>\n",
              "      <td>2</td>\n",
              "      <td>2019-05-08</td>\n",
              "      <td>0.31</td>\n",
              "      <td>1</td>\n",
              "      <td>0</td>\n",
              "    </tr>\n",
              "    <tr>\n",
              "      <th>1</th>\n",
              "      <td>971247</td>\n",
              "      <td>Sunny Artist Live/Work Apartment</td>\n",
              "      <td>5308961</td>\n",
              "      <td>Larry</td>\n",
              "      <td>Manhattan</td>\n",
              "      <td>Upper West Side</td>\n",
              "      <td>40.79368</td>\n",
              "      <td>-73.96487</td>\n",
              "      <td>Entire home/apt</td>\n",
              "      <td>3</td>\n",
              "      <td>159</td>\n",
              "      <td>2019-07-03</td>\n",
              "      <td>2.09</td>\n",
              "      <td>1</td>\n",
              "      <td>244</td>\n",
              "    </tr>\n",
              "  </tbody>\n",
              "</table>\n",
              "</div>"
            ],
            "text/plain": [
              "         id                                               name   host_id  \\\n",
              "0  30913224  Cozy and Sunny Room Williamsburg, Luxury Building  33771081   \n",
              "1    971247                   Sunny Artist Live/Work Apartment   5308961   \n",
              "\n",
              "  host_name neighbourhood_group    neighbourhood  latitude  longitude  \\\n",
              "0      Rémy            Brooklyn     Williamsburg  40.70959  -73.94652   \n",
              "1     Larry           Manhattan  Upper West Side  40.79368  -73.96487   \n",
              "\n",
              "         room_type  minimum_nights  number_of_reviews last_review  \\\n",
              "0     Private room               3                  2  2019-05-08   \n",
              "1  Entire home/apt               3                159  2019-07-03   \n",
              "\n",
              "   reviews_per_month  calculated_host_listings_count  availability_365  \n",
              "0               0.31                               1                 0  \n",
              "1               2.09                               1               244  "
            ]
          },
          "metadata": {},
          "output_type": "display_data"
        }
      ],
      "source": [
        "# Data sample\n",
        "display(train.head(2))\n",
        "display(test.head(2))"
      ]
    },
    {
      "cell_type": "code",
      "execution_count": null,
      "id": "55aa0703",
      "metadata": {
        "id": "55aa0703",
        "outputId": "24e1b118-2f12-4bfb-ff5f-9d7c7a6ed5c0"
      },
      "outputs": [
        {
          "name": "stdout",
          "output_type": "stream",
          "text": [
            "<class 'pandas.core.frame.DataFrame'>\n",
            "RangeIndex: 39116 entries, 0 to 39115\n",
            "Data columns (total 16 columns):\n",
            " #   Column                          Non-Null Count  Dtype  \n",
            "---  ------                          --------------  -----  \n",
            " 0   id                              39116 non-null  int64  \n",
            " 1   name                            39104 non-null  object \n",
            " 2   host_id                         39116 non-null  int64  \n",
            " 3   host_name                       39099 non-null  object \n",
            " 4   neighbourhood_group             39116 non-null  object \n",
            " 5   neighbourhood                   39116 non-null  object \n",
            " 6   latitude                        39116 non-null  float64\n",
            " 7   longitude                       39116 non-null  float64\n",
            " 8   room_type                       39116 non-null  object \n",
            " 9   price                           39116 non-null  int64  \n",
            " 10  minimum_nights                  39116 non-null  int64  \n",
            " 11  number_of_reviews               39116 non-null  int64  \n",
            " 12  last_review                     31122 non-null  object \n",
            " 13  reviews_per_month               31122 non-null  float64\n",
            " 14  calculated_host_listings_count  39116 non-null  int64  \n",
            " 15  availability_365                39116 non-null  int64  \n",
            "dtypes: float64(3), int64(7), object(6)\n",
            "memory usage: 4.8+ MB\n"
          ]
        }
      ],
      "source": [
        "# Data type\n",
        "train.info()"
      ]
    },
    {
      "cell_type": "code",
      "execution_count": null,
      "id": "ae12343b",
      "metadata": {
        "id": "ae12343b",
        "outputId": "f8deb5b6-2f8a-44ae-e95b-42f65bb0dabd"
      },
      "outputs": [
        {
          "data": {
            "text/plain": [
              "id                                   0\n",
              "name                                12\n",
              "host_id                              0\n",
              "host_name                           17\n",
              "neighbourhood_group                  0\n",
              "neighbourhood                        0\n",
              "latitude                             0\n",
              "longitude                            0\n",
              "room_type                            0\n",
              "price                                0\n",
              "minimum_nights                       0\n",
              "number_of_reviews                    0\n",
              "last_review                       7994\n",
              "reviews_per_month                 7994\n",
              "calculated_host_listings_count       0\n",
              "availability_365                     0\n",
              "dtype: int64"
            ]
          },
          "execution_count": 56,
          "metadata": {},
          "output_type": "execute_result"
        }
      ],
      "source": [
        "# Null(train)\n",
        "train.isnull().sum()"
      ]
    },
    {
      "cell_type": "code",
      "execution_count": null,
      "id": "48848735",
      "metadata": {
        "id": "48848735",
        "outputId": "935ab00a-4d45-4696-8136-bdec47c5b19b"
      },
      "outputs": [
        {
          "data": {
            "text/plain": [
              "id                                   0\n",
              "name                                 4\n",
              "host_id                              0\n",
              "host_name                            4\n",
              "neighbourhood_group                  0\n",
              "neighbourhood                        0\n",
              "latitude                             0\n",
              "longitude                            0\n",
              "room_type                            0\n",
              "minimum_nights                       0\n",
              "number_of_reviews                    0\n",
              "last_review                       2058\n",
              "reviews_per_month                 2058\n",
              "calculated_host_listings_count       0\n",
              "availability_365                     0\n",
              "dtype: int64"
            ]
          },
          "execution_count": 57,
          "metadata": {},
          "output_type": "execute_result"
        }
      ],
      "source": [
        "# Null(test)\n",
        "test.isnull().sum()"
      ]
    },
    {
      "cell_type": "code",
      "execution_count": null,
      "id": "14e8ed1a",
      "metadata": {
        "id": "14e8ed1a",
        "outputId": "3cb2c5ac-b975-4daf-867c-70bcaf2a8bd4"
      },
      "outputs": [
        {
          "data": {
            "text/plain": [
              "<AxesSubplot:>"
            ]
          },
          "execution_count": 58,
          "metadata": {},
          "output_type": "execute_result"
        },
        {
          "data": {
            "image/png": "[encoded data removed]",
            "text/plain": [
              "<Figure size 432x288 with 1 Axes>"
            ]
          },
          "metadata": {
            "needs_background": "light"
          },
          "output_type": "display_data"
        }
      ],
      "source": [
        "# target(hist)\n",
        "train['price'].hist(bins=100)"
      ]
    },
    {
      "cell_type": "code",
      "execution_count": null,
      "id": "336e02e6",
      "metadata": {
        "id": "336e02e6",
        "outputId": "239dbdaf-0465-41fb-9db7-61a73bd8c4da"
      },
      "outputs": [
        {
          "data": {
            "text/plain": [
              "count    39116.000000\n",
              "mean       152.751150\n",
              "std        241.752501\n",
              "min          0.000000\n",
              "25%         69.000000\n",
              "50%        105.000000\n",
              "75%        175.000000\n",
              "max      10000.000000\n",
              "Name: price, dtype: float64"
            ]
          },
          "execution_count": 59,
          "metadata": {},
          "output_type": "execute_result"
        }
      ],
      "source": [
        "# target(describe)\n",
        "train['price'].describe()"
      ]
    },
    {
      "cell_type": "code",
      "execution_count": null,
      "id": "74a672a3",
      "metadata": {
        "id": "74a672a3",
        "outputId": "bf5bdda1-ff92-4bbc-802f-e7aa8073abb4"
      },
      "outputs": [
        {
          "data": {
            "text/plain": [
              "219517861    256\n",
              "107434423    181\n",
              "30283594      99\n",
              "137358866     82\n",
              "12243051      80\n",
              "            ... \n",
              "73369106       1\n",
              "26620387       1\n",
              "176660539      1\n",
              "26004891       1\n",
              "2609535        1\n",
              "Name: host_id, Length: 30845, dtype: int64"
            ]
          },
          "execution_count": 60,
          "metadata": {},
          "output_type": "execute_result"
        }
      ],
      "source": [
        "# feature(host_id)\n",
        "train['host_id'].value_counts()"
      ]
    },
    {
      "cell_type": "markdown",
      "id": "61864120",
      "metadata": {
        "id": "61864120"
      },
      "source": [
        "**3. 데이터 전처리 - 데이터를 살펴보고 판단하여 결측치 및 이상치를 처리**"
      ]
    },
    {
      "cell_type": "code",
      "execution_count": null,
      "id": "f3db9803",
      "metadata": {
        "id": "f3db9803"
      },
      "outputs": [],
      "source": [
        "# 결측치 컬럼 삭제(last_review)\n",
        "# train = train.drop(columns=['last_review'])\n",
        "# test = test.drop(columns=['last_review'])\n",
        "\n",
        "train = train.drop('last_review', axis=1)\n",
        "test = test.drop('last_review', axis=1)"
      ]
    },
    {
      "cell_type": "code",
      "execution_count": null,
      "id": "893879dd",
      "metadata": {
        "id": "893879dd"
      },
      "outputs": [],
      "source": [
        "# 결측치 채우기\n",
        "# train['reviews_per_month'].fillna(0, inplace=True)\n",
        "# test['reviews_per_month'].fillna(0, inplace=True)\n",
        "\n",
        "train['reviews_per_month'] = train['reviews_per_month'].fillna(0)\n",
        "test['reviews_per_month'] = test['reviews_per_month'].fillna(0)"
      ]
    },
    {
      "cell_type": "code",
      "execution_count": null,
      "id": "942a13b1",
      "metadata": {
        "id": "942a13b1",
        "outputId": "0ea8ec90-dd2f-4c50-a56d-b17467bab326"
      },
      "outputs": [
        {
          "name": "stdout",
          "output_type": "stream",
          "text": [
            "id                                 0\n",
            "name                              12\n",
            "host_id                            0\n",
            "host_name                         17\n",
            "neighbourhood_group                0\n",
            "neighbourhood                      0\n",
            "latitude                           0\n",
            "longitude                          0\n",
            "room_type                          0\n",
            "price                              0\n",
            "minimum_nights                     0\n",
            "number_of_reviews                  0\n",
            "reviews_per_month                  0\n",
            "calculated_host_listings_count     0\n",
            "availability_365                   0\n",
            "dtype: int64\n",
            "id                                0\n",
            "name                              4\n",
            "host_id                           0\n",
            "host_name                         4\n",
            "neighbourhood_group               0\n",
            "neighbourhood                     0\n",
            "latitude                          0\n",
            "longitude                         0\n",
            "room_type                         0\n",
            "minimum_nights                    0\n",
            "number_of_reviews                 0\n",
            "reviews_per_month                 0\n",
            "calculated_host_listings_count    0\n",
            "availability_365                  0\n",
            "dtype: int64\n"
          ]
        }
      ],
      "source": [
        "# 결측치 확인\n",
        "print(train.isnull().sum())\n",
        "print(test.isnull().sum())"
      ]
    },
    {
      "cell_type": "code",
      "execution_count": null,
      "id": "091344ab",
      "metadata": {
        "id": "091344ab"
      },
      "outputs": [],
      "source": [
        "# 가격 값 복사\n",
        "# y_train = train['price'].copy()\n",
        "\n",
        "target = train['price']\n",
        "train = train.drop('price', axis=1)"
      ]
    },
    {
      "cell_type": "code",
      "execution_count": null,
      "id": "829e9efe",
      "metadata": {
        "id": "829e9efe"
      },
      "outputs": [],
      "source": [
        "# 수치형 피처 선택\n",
        "numerical_cols = ['host_id', 'latitude', 'longitude', 'minimum_nights', 'number_of_reviews', 'reviews_per_month',\n",
        "                  'calculated_host_listings_count', 'availability_365']\n",
        "\n",
        "train = train[numerical_cols]\n",
        "test = test[numerical_cols]"
      ]
    },
    {
      "cell_type": "markdown",
      "id": "f7be98cf",
      "metadata": {
        "id": "f7be98cf"
      },
      "source": [
        "**4. 검증 데이터 분리 - Train 데이터로 학습(훈련), Validation(검증용) 데이터로 예측**"
      ]
    },
    {
      "cell_type": "code",
      "execution_count": null,
      "id": "b77f48b8",
      "metadata": {
        "id": "b77f48b8",
        "outputId": "d0d1b3c5-2684-490a-c7d4-b3554e844bee"
      },
      "outputs": [
        {
          "data": {
            "text/plain": [
              "((31292, 8), (7824, 8), (31292,), (7824,))"
            ]
          },
          "execution_count": 81,
          "metadata": {},
          "output_type": "execute_result"
        }
      ],
      "source": [
        "# 검증 데이터 분리\n",
        "from sklearn.model_selection import train_test_split\n",
        "\n",
        "X_train, X_val, y_train, y_val = train_test_split(train, target, test_size=0.2, random_state=2022)\n",
        "X_train.shape, X_val.shape, y_train.shape, y_val.shape"
      ]
    },
    {
      "cell_type": "markdown",
      "id": "58ea7901",
      "metadata": {
        "id": "58ea7901"
      },
      "source": [
        "**5. 머신러닝**"
      ]
    },
    {
      "cell_type": "code",
      "execution_count": null,
      "id": "0e70c954",
      "metadata": {
        "id": "0e70c954",
        "outputId": "c6326928-e2f5-43a1-89ea-de6115968ef8"
      },
      "outputs": [
        {
          "name": "stdout",
          "output_type": "stream",
          "text": [
            "32000.4623726053\n"
          ]
        }
      ],
      "source": [
        "# 머신러닝(회귀)\n",
        "from sklearn.linear_model import LinearRegression\n",
        "from sklearn.metrics import mean_squared_error\n",
        "\n",
        "lr = LinearRegression()\n",
        "lr.fit(X_train, y_train)\n",
        "pred = lr.predict(X_val)\n",
        "mse = mean_squared_error(y_val, pred)\n",
        "print(mse)"
      ]
    },
    {
      "cell_type": "code",
      "execution_count": null,
      "id": "1191679b",
      "metadata": {
        "id": "1191679b",
        "outputId": "2a5a22c1-2120-4a13-a196-ea8850bfc5d2"
      },
      "outputs": [
        {
          "name": "stdout",
          "output_type": "stream",
          "text": [
            "32002.921365825365\n"
          ]
        },
        {
          "name": "stderr",
          "output_type": "stream",
          "text": [
            "/opt/conda/lib/python3.9/site-packages/sklearn/linear_model/_ridge.py:156: LinAlgWarning: Ill-conditioned matrix (rcond=3.06762e-19): result may not be accurate.\n",
            "  return linalg.solve(A, Xy, sym_pos=True, overwrite_a=True).T\n"
          ]
        }
      ],
      "source": [
        "# 릿지 회귀\n",
        "from sklearn.linear_model import Ridge\n",
        "\n",
        "ridge = Ridge(alpha=1.0)  # You can tune the alpha value\n",
        "ridge.fit(X_train, y_train)\n",
        "pred_ridge = ridge.predict(X_val)\n",
        "mse_ridge = mean_squared_error(y_val, pred_ridge)\n",
        "print(mse_ridge)"
      ]
    },
    {
      "cell_type": "code",
      "execution_count": null,
      "id": "456bc269",
      "metadata": {
        "id": "456bc269",
        "outputId": "d0cac821-aff6-44c9-ecba-6a37a573ecf9"
      },
      "outputs": [
        {
          "name": "stdout",
          "output_type": "stream",
          "text": [
            "32695.606216284894\n"
          ]
        }
      ],
      "source": [
        "# 라쏘 회귀\n",
        "from sklearn.linear_model import Lasso\n",
        "\n",
        "lasso = Lasso(alpha=1.0)\n",
        "lasso.fit(X_train, y_train)\n",
        "pred_lasso = lasso.predict(X_val)\n",
        "mse_lasso = mean_squared_error(y_val, pred_lasso)\n",
        "print(mse_lasso)"
      ]
    },
    {
      "cell_type": "code",
      "execution_count": null,
      "id": "29c091a3",
      "metadata": {
        "id": "29c091a3",
        "outputId": "e0dc3d3f-d252-4f5c-a578-76e267d9a602"
      },
      "outputs": [
        {
          "name": "stdout",
          "output_type": "stream",
          "text": [
            "33521.06875602843\n"
          ]
        }
      ],
      "source": [
        "# 엘라스틱넷 회귀\n",
        "from sklearn.linear_model import ElasticNet\n",
        "\n",
        "elastic_net = ElasticNet(alpha=1.0, l1_ratio=0.5)\n",
        "elastic_net.fit(X_train, y_train)\n",
        "pred_elastic = elastic_net.predict(X_val)\n",
        "mse_elastic = mean_squared_error(y_val, pred_elastic)\n",
        "print(mse_elastic)"
      ]
    },
    {
      "cell_type": "code",
      "execution_count": null,
      "id": "eaf74f72",
      "metadata": {
        "id": "eaf74f72",
        "outputId": "a1c2583c-6b47-4467-d29f-17b6f909f338"
      },
      "outputs": [
        {
          "name": "stdout",
          "output_type": "stream",
          "text": [
            "32431.396398542947\n"
          ]
        }
      ],
      "source": [
        "# 랜덤포레스트\n",
        "from sklearn.ensemble import RandomForestRegressor\n",
        "\n",
        "rf = RandomForestRegressor()\n",
        "rf.fit(X_train, y_train)\n",
        "pred_rf= rf.predict(X_val)\n",
        "mse_rf = mean_squared_error(y_val, pred_rf)\n",
        "print(mse_rf)"
      ]
    },
    {
      "cell_type": "code",
      "execution_count": null,
      "id": "cb3a30d2",
      "metadata": {
        "id": "cb3a30d2",
        "outputId": "f7138397-55d0-4225-c005-059eac056a00"
      },
      "outputs": [
        {
          "name": "stdout",
          "output_type": "stream",
          "text": [
            "30854.728654977484\n"
          ]
        }
      ],
      "source": [
        "# Xgboost\n",
        "from xgboost import XGBRegressor\n",
        "\n",
        "xgboost = XGBRegressor(n_estimators=50, random_state=2022)\n",
        "xgboost.fit(X_train, y_train)\n",
        "pred_xgboost = xgboost.predict(X_val)\n",
        "mse_xgboost = mean_squared_error(y_val, pred_xgboost)\n",
        "print(mse_xgboost)"
      ]
    },
    {
      "cell_type": "markdown",
      "id": "68850e54",
      "metadata": {
        "id": "68850e54"
      },
      "source": [
        "**6. 채점**"
      ]
    },
    {
      "cell_type": "code",
      "execution_count": null,
      "id": "6f630072",
      "metadata": {
        "id": "6f630072",
        "outputId": "60e07afa-961f-4cff-9ebb-2413f5921226"
      },
      "outputs": [
        {
          "data": {
            "text/plain": [
              "50706.07011590477"
            ]
          },
          "execution_count": 92,
          "metadata": {},
          "output_type": "execute_result"
        }
      ],
      "source": [
        "# test 데이터 예측 및 평가\n",
        "y_test = pd.read_csv('/aiffel/data/y_test.csv')\n",
        "\n",
        "# Xgboost\n",
        "n_pred = xgboost.predict(test)\n",
        "mean_squared_error(y_test, n_pred)"
      ]
    },
    {
      "cell_type": "code",
      "execution_count": null,
      "id": "a46abaf6",
      "metadata": {
        "id": "a46abaf6",
        "outputId": "d3c9b7f1-a1d4-4f5d-d0fa-90fd6d4811ed"
      },
      "outputs": [
        {
          "name": "stdout",
          "output_type": "stream",
          "text": [
            "나의 점수는 50864.56910040246 입니다.\n"
          ]
        }
      ],
      "source": [
        "# baseline score(mse 51xxx) 보다 점수가 낮게 나오도록 도전해 보세요!\n",
        "print(f\"나의 점수는 {mse_xgboost_test} 입니다.\")"
      ]
    }
  ],
  "metadata": {
    "kernelspec": {
      "display_name": "Python 3 (ipykernel)",
      "language": "python",
      "name": "python3"
    },
    "language_info": {
      "codemirror_mode": {
        "name": "ipython",
        "version": 3
      },
      "file_extension": ".py",
      "mimetype": "text/x-python",
      "name": "python",
      "nbconvert_exporter": "python",
      "pygments_lexer": "ipython3",
      "version": "3.9.7"
    },
    "colab": {
      "provenance": [],
      "include_colab_link": true
    }
  },
  "nbformat": 4,
  "nbformat_minor": 5
}