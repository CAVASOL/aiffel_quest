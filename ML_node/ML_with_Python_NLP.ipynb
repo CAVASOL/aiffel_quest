{
  "cells": [
    {
      "cell_type": "markdown",
      "metadata": {
        "id": "view-in-github",
        "colab_type": "text"
      },
      "source": [
        "<a href=\"https://colab.research.google.com/github/CAVASOL/aiffel_quest/blob/main/ML_node/ML_with_Python_NLP.ipynb\" target=\"_parent\"><img src=\"https://colab.research.google.com/assets/colab-badge.svg\" alt=\"Open In Colab\"/></a>"
      ]
    },
    {
      "cell_type": "markdown",
      "id": "08b3d170",
      "metadata": {
        "id": "08b3d170"
      },
      "source": [
        "**NLP**\n",
        "* 한국어 문장을 형태소 단위로 분리할 수 있다\n",
        "* 자연어 전처리\n",
        "* 긍정 또는 부정의 감성 분석 실행"
      ]
    },
    {
      "cell_type": "markdown",
      "id": "179a0150",
      "metadata": {
        "id": "179a0150"
      },
      "source": [
        "**ex.**\n",
        "\n",
        "함께 탐험하며 성장하는 AI 학교 AIFFEL  \n",
        "\n",
        "형태소 분석 - ['함께', '탐험', '하며', '성장하는', 'AI', '학교', 'AIFFEL']  \n",
        "\n",
        "어휘 사전 구축(벡터) - {'ai': 0, 'aiffel': 1, '성장하는': 2, '탐험': 3, '하며': 4, '학교': 5, '함께': 6}  "
      ]
    },
    {
      "cell_type": "markdown",
      "id": "93c2e3e7",
      "metadata": {
        "id": "93c2e3e7"
      },
      "source": [
        "**CountVectorizer** 각 문장에서 단어 출현 횟수를 카운팅 하는 방법 ex, BOW - Bag Of Word  \n",
        "\n",
        "**TfidfVectorizer** 다른 문서보다 특정 문서에 자주 나타나는 단어에 높은 가중치를 주는 방법  "
      ]
    },
    {
      "cell_type": "markdown",
      "id": "149f6a4a",
      "metadata": {
        "id": "149f6a4a"
      },
      "source": [
        "**형태소분석기**  \n",
        "* konlpy 한국어 처리를 위한 형태소 분석기  \n",
        "* 형태소: 의미를 가지는 요소로서 더 이상 분석할 수 없는 가장 작은 단위의 말"
      ]
    },
    {
      "cell_type": "code",
      "execution_count": null,
      "id": "98c427c5",
      "metadata": {
        "id": "98c427c5"
      },
      "outputs": [],
      "source": [
        "# Ignore warnings\n",
        "import pandas as pd\n",
        "import warnings\n",
        "warnings.filterwarnings('ignore')"
      ]
    },
    {
      "cell_type": "code",
      "execution_count": null,
      "id": "98376974",
      "metadata": {
        "id": "98376974"
      },
      "outputs": [],
      "source": [
        "# i konlpy\n",
        "!pip install konlpy"
      ]
    },
    {
      "cell_type": "code",
      "execution_count": null,
      "id": "de8749d9",
      "metadata": {
        "id": "de8749d9"
      },
      "outputs": [],
      "source": [
        "# Lib\n",
        "import konlpy\n",
        "from konlpy.tag import Okt\n",
        "tokenizer = Okt()"
      ]
    },
    {
      "cell_type": "code",
      "execution_count": null,
      "id": "fb1ccc0c",
      "metadata": {
        "id": "fb1ccc0c"
      },
      "outputs": [],
      "source": [
        "# Tokenization (형태소 단위)\n",
        "text = \"함께 탐험하며 성장하는 AI 학교 AIFFEL\"\n",
        "tokenizer.morphs(text)"
      ]
    },
    {
      "cell_type": "code",
      "execution_count": null,
      "id": "d28e1dac",
      "metadata": {
        "id": "d28e1dac"
      },
      "outputs": [],
      "source": [
        "# Tokenization (명사만 추출)\n",
        "tokenizer.nouns(text)"
      ]
    },
    {
      "cell_type": "code",
      "execution_count": null,
      "id": "c07df263",
      "metadata": {
        "id": "c07df263"
      },
      "outputs": [],
      "source": [
        "# Tokenization (품사 태깅)\n",
        "tokenizer.pos(text)"
      ]
    },
    {
      "cell_type": "markdown",
      "id": "e1972698",
      "metadata": {
        "id": "e1972698"
      },
      "source": [
        "**CountVectorizer**"
      ]
    },
    {
      "cell_type": "code",
      "execution_count": null,
      "id": "b319cccb",
      "metadata": {
        "id": "b319cccb"
      },
      "outputs": [],
      "source": [
        "# CountVectorizer\n",
        "from sklearn.feature_extraction.text import CountVectorizer\n",
        "vect = CountVectorizer()"
      ]
    },
    {
      "cell_type": "code",
      "execution_count": null,
      "id": "1035cae0",
      "metadata": {
        "id": "1035cae0"
      },
      "outputs": [],
      "source": [
        "# 단어 토큰화, Okt\n",
        "words = tokenizer.morphs(text)"
      ]
    },
    {
      "cell_type": "code",
      "execution_count": null,
      "id": "f7b04d15",
      "metadata": {
        "id": "f7b04d15"
      },
      "outputs": [],
      "source": [
        "# 데이터 학습\n",
        "vect.fit(words)"
      ]
    },
    {
      "cell_type": "code",
      "execution_count": null,
      "id": "49243e5b",
      "metadata": {
        "id": "49243e5b"
      },
      "outputs": [],
      "source": [
        "# 학습된 어휘\n",
        "vect.get_feature_names_out()"
      ]
    },
    {
      "cell_type": "code",
      "execution_count": null,
      "id": "c58d672c",
      "metadata": {
        "id": "c58d672c"
      },
      "outputs": [],
      "source": [
        "# 단어 사전\n",
        "vect.vocabulary_"
      ]
    },
    {
      "cell_type": "code",
      "execution_count": null,
      "id": "cccedc69",
      "metadata": {
        "id": "cccedc69"
      },
      "outputs": [],
      "source": [
        "# 단어 사전 크기\n",
        "len(vect.vocabulary_)"
      ]
    },
    {
      "cell_type": "code",
      "execution_count": null,
      "id": "6b26df0c",
      "metadata": {
        "id": "6b26df0c"
      },
      "outputs": [],
      "source": [
        "# 인코딩\n",
        "df_t = vect.transform(words)"
      ]
    },
    {
      "cell_type": "code",
      "execution_count": null,
      "id": "aae06c29",
      "metadata": {
        "id": "aae06c29"
      },
      "outputs": [],
      "source": [
        "# 인코딩 된 데이터 매트릭스\n",
        "df_t.toarray()"
      ]
    },
    {
      "cell_type": "code",
      "execution_count": null,
      "id": "87966ffc",
      "metadata": {
        "id": "87966ffc"
      },
      "outputs": [],
      "source": [
        "# 어휘와 피처 (Dataframe)\n",
        "pd.DataFrame(df_t.toarray(), columns=vect.get_feature_names())"
      ]
    },
    {
      "cell_type": "code",
      "execution_count": null,
      "id": "ac407aca",
      "metadata": {
        "id": "ac407aca"
      },
      "outputs": [],
      "source": [
        "# 새로운 단어(데이터)가 추가되면 어떻게 될까?\n",
        "test = \"AI 공부하며 함께 성장해요!\""
      ]
    },
    {
      "cell_type": "code",
      "execution_count": null,
      "id": "6fbd1c5c",
      "metadata": {
        "id": "6fbd1c5c"
      },
      "outputs": [],
      "source": [
        "# 단어 토큰화 (Okt)\n",
        "words = tokenizer.morphs(test)\n",
        "words"
      ]
    },
    {
      "cell_type": "code",
      "execution_count": null,
      "id": "f2ce896b",
      "metadata": {
        "id": "f2ce896b"
      },
      "outputs": [],
      "source": [
        "# 인코딩 된 데이터 매트릭스\n",
        "test_t = vect.transform(words)\n",
        "test_t.toarray()"
      ]
    },
    {
      "cell_type": "code",
      "execution_count": null,
      "id": "d6fa86f4",
      "metadata": {
        "id": "d6fa86f4"
      },
      "outputs": [],
      "source": [
        "# 어휘와 피처 (Dataframe)\n",
        "pd.DataFrame(test_t.toarray(), columns=vect.get_feature_names())"
      ]
    },
    {
      "cell_type": "markdown",
      "id": "bda5eec9",
      "metadata": {
        "id": "bda5eec9"
      },
      "source": [
        "**TfidfVectorizer**"
      ]
    },
    {
      "cell_type": "code",
      "execution_count": null,
      "id": "f5bfc7a7",
      "metadata": {
        "id": "f5bfc7a7"
      },
      "outputs": [],
      "source": [
        "# tf-idf\n",
        "from sklearn.feature_extraction.text import TfidfVectorizer"
      ]
    },
    {
      "cell_type": "code",
      "execution_count": null,
      "id": "753a0874",
      "metadata": {
        "id": "753a0874"
      },
      "outputs": [],
      "source": [
        "# tf-idf 활용 어휘 사전 구축\n",
        "vect = TfidfVectorizer()\n",
        "words = tokenizer.morphs(text)\n",
        "vect.fit(words)\n",
        "vect.vocabulary_"
      ]
    },
    {
      "cell_type": "code",
      "execution_count": null,
      "id": "bbcf100b",
      "metadata": {
        "id": "bbcf100b"
      },
      "outputs": [],
      "source": [
        "# 인코딩 된 데이터 매트릭스\n",
        "vect.transform(words).toarray()"
      ]
    },
    {
      "cell_type": "markdown",
      "id": "db77e165",
      "metadata": {
        "id": "db77e165"
      },
      "source": [
        "**감성 분석**\n",
        "\n",
        "문제정의 > 탐색적 데이터 분석 EDA > *데이터 전처리 > 모델학습 > *예측  \n",
        "\n",
        "*데이터전처리: 토큰화 > 어휘 사전 구축 > 인코딩  \n",
        "*예측: 긍정 | 부정  "
      ]
    },
    {
      "cell_type": "code",
      "execution_count": null,
      "id": "5781b967",
      "metadata": {
        "id": "5781b967"
      },
      "outputs": [],
      "source": [
        "# Lib\n",
        "import pandas as pd"
      ]
    },
    {
      "cell_type": "code",
      "execution_count": null,
      "id": "0cfdd007",
      "metadata": {
        "id": "0cfdd007"
      },
      "outputs": [],
      "source": [
        "# Data\n",
        "df = pd.read_csv(\"https://raw.githubusercontent.com/e9t/nsmc/master/ratings_train.txt\", sep=\"\\t\")"
      ]
    },
    {
      "cell_type": "code",
      "execution_count": null,
      "id": "60997f0e",
      "metadata": {
        "id": "60997f0e"
      },
      "outputs": [],
      "source": [
        "# Data sample\n",
        "df.head()"
      ]
    },
    {
      "cell_type": "code",
      "execution_count": null,
      "id": "c4a03de4",
      "metadata": {
        "id": "c4a03de4"
      },
      "outputs": [],
      "source": [
        "# 데이터 크기\n",
        "df.shape"
      ]
    },
    {
      "cell_type": "code",
      "execution_count": null,
      "id": "3426052f",
      "metadata": {
        "id": "3426052f"
      },
      "outputs": [],
      "source": [
        "# 타겟 확인\n",
        "df['label'].value_counts()"
      ]
    },
    {
      "cell_type": "code",
      "execution_count": null,
      "id": "34bcec2d",
      "metadata": {
        "id": "34bcec2d"
      },
      "outputs": [],
      "source": [
        "# 결측치(Null)\n",
        "df.isnull().sum()"
      ]
    },
    {
      "cell_type": "code",
      "execution_count": null,
      "id": "8a77206b",
      "metadata": {
        "id": "8a77206b"
      },
      "outputs": [],
      "source": [
        "# 결측치 삭제\n",
        "print(df.shape)\n",
        "df = df.dropna()\n",
        "print(df.shape)"
      ]
    },
    {
      "cell_type": "code",
      "execution_count": null,
      "id": "177b8efb",
      "metadata": {
        "id": "177b8efb"
      },
      "outputs": [],
      "source": [
        "# 피처 엔지니어링 (문장의 길이)\n",
        "df['len'] = df['document'].apply(len)\n",
        "df.head()"
      ]
    },
    {
      "cell_type": "code",
      "execution_count": null,
      "id": "cd98915d",
      "metadata": {
        "id": "cd98915d"
      },
      "outputs": [],
      "source": [
        "# len 시각화 (label == 0)\n",
        "import matplotlib.pyplot as plt\n",
        "df[df.label==0]['len'].plot(kind='hist')"
      ]
    },
    {
      "cell_type": "code",
      "execution_count": null,
      "id": "4ef072a1",
      "metadata": {
        "id": "4ef072a1"
      },
      "outputs": [],
      "source": [
        "# len 시각화 (label == 1)\n",
        "df[df.label==1]['len'].plot(kind='hist')"
      ]
    },
    {
      "cell_type": "code",
      "execution_count": null,
      "id": "474d75da",
      "metadata": {
        "id": "474d75da"
      },
      "outputs": [],
      "source": [
        "# 데이터 샘플링 df[:000]\n",
        "df = df[:1000]\n",
        "df.shape"
      ]
    },
    {
      "cell_type": "code",
      "execution_count": null,
      "id": "b075811c",
      "metadata": {
        "id": "b075811c"
      },
      "outputs": [],
      "source": [
        "# 토큰화\n",
        "vect = CountVectorizer(tokenizer = tokenizer.morphs)\n",
        "vectors = vect.fit_transform(df['document'])"
      ]
    },
    {
      "cell_type": "markdown",
      "id": "f973acc0",
      "metadata": {
        "id": "f973acc0"
      },
      "source": [
        "**ML 교차검증**"
      ]
    },
    {
      "cell_type": "code",
      "execution_count": null,
      "id": "2ce5ef91",
      "metadata": {
        "id": "2ce5ef91"
      },
      "outputs": [],
      "source": [
        "from sklearn.ensemble import RandomForestClassifier\n",
        "from sklearn.model_selection import cross_val_score\n",
        "\n",
        "model = RandomForestClassifier(random_state=2022)\n",
        "cross_val_score(model, vectors, df['label'], scoring='f1', cv=5).mean()"
      ]
    },
    {
      "cell_type": "markdown",
      "id": "69f2eeb6",
      "metadata": {
        "id": "69f2eeb6"
      },
      "source": [
        "**한글 NLP**  \n",
        "* 00% 이상 나타나는 단어는 무시  \n",
        "* 최소 n개의 문장에만 나타나는 단어 유지  \n",
        "* 불용어(stopword) 을, 는, 이, 가, 여기, 저기 와 같이 큰 의미가 없는 단어  \n",
        "* 띄어쓰기  \n",
        "* 반복되는 글자 정리  \n",
        "* 맞춤법 검사  "
      ]
    },
    {
      "cell_type": "markdown",
      "id": "8f0dd6f5",
      "metadata": {
        "id": "8f0dd6f5"
      },
      "source": [
        "**어휘 사전 구축**"
      ]
    },
    {
      "cell_type": "code",
      "execution_count": null,
      "id": "ffff3c24",
      "metadata": {
        "id": "ffff3c24",
        "outputId": "710fdca0-3101-4d06-83e8-3f6dd948a7a7"
      },
      "outputs": [
        {
          "data": {
            "text/plain": [
              "0.643"
            ]
          },
          "execution_count": 45,
          "metadata": {},
          "output_type": "execute_result"
        }
      ],
      "source": [
        "# 토큰화(max_df) n개 보다 큰 단어 수 무시\n",
        "vect = CountVectorizer(tokenizer = tokenizer.morphs, max_df=10)\n",
        "vectors = vect.fit_transform(df['document'])\n",
        "\n",
        "model = RandomForestClassifier(random_state=2022)\n",
        "cross_val_score(model, vectors, df['label'], scoring='accuracy', cv=5).mean()"
      ]
    },
    {
      "cell_type": "code",
      "execution_count": null,
      "id": "01699bff",
      "metadata": {
        "id": "01699bff",
        "outputId": "b5c60677-c55e-4810-960a-c1e150d07828"
      },
      "outputs": [
        {
          "data": {
            "text/plain": [
              "0.689"
            ]
          },
          "execution_count": 46,
          "metadata": {},
          "output_type": "execute_result"
        }
      ],
      "source": [
        "# 토큰화(min_df) n개 보다 작은 단어 수 무시\n",
        "vect = CountVectorizer(tokenizer = tokenizer.morphs, min_df=2)\n",
        "vectors = vect.fit_transform(df['document'])\n",
        "\n",
        "model = RandomForestClassifier(random_state=2022)\n",
        "cross_val_score(model, vectors, df['label'], scoring='accuracy', cv=5).mean()"
      ]
    },
    {
      "cell_type": "markdown",
      "id": "82af38ee",
      "metadata": {
        "id": "82af38ee"
      },
      "source": [
        "**불용어(stopword)**"
      ]
    },
    {
      "cell_type": "code",
      "execution_count": null,
      "id": "a1963a94",
      "metadata": {
        "id": "a1963a94",
        "outputId": "d73e2f46-5719-4dca-f541-fd7868985d6f"
      },
      "outputs": [
        {
          "data": {
            "text/plain": [
              "{'함께': 4, '탐험': 2, '성장하는': 1, '학교': 3, 'aiffel': 0}"
            ]
          },
          "execution_count": 47,
          "metadata": {},
          "output_type": "execute_result"
        }
      ],
      "source": [
        "# stop_words\n",
        "text = \"함께 탐험하며 성장하는 AI 학교 AIFFEL\"\n",
        "stop_words = ['하며', 'ai']\n",
        "vect = CountVectorizer(stop_words = stop_words)\n",
        "words = tokenizer.morphs(text)\n",
        "vect.fit(words)\n",
        "vect.vocabulary_"
      ]
    },
    {
      "cell_type": "markdown",
      "id": "a55e13ba",
      "metadata": {
        "id": "a55e13ba"
      },
      "source": [
        "**띄어쓰기**"
      ]
    },
    {
      "cell_type": "code",
      "execution_count": null,
      "id": "cc4f1bd4",
      "metadata": {
        "id": "cc4f1bd4"
      },
      "outputs": [],
      "source": [
        "# i spacing\n",
        "!pip install git+https://github.com/haven-jeon/PyKoSpacing.git"
      ]
    },
    {
      "cell_type": "code",
      "execution_count": null,
      "id": "31d599d7",
      "metadata": {
        "id": "31d599d7",
        "outputId": "47b366e1-1b77-4426-dfd1-154d359ea082"
      },
      "outputs": [
        {
          "data": {
            "text/plain": [
              "'함께 탐험하며 성장하는 AI 학교 AIFFEL'"
            ]
          },
          "execution_count": 51,
          "metadata": {},
          "output_type": "execute_result"
        }
      ],
      "source": [
        "# spacing\n",
        "from pykospacing import Spacing\n",
        "spacing = Spacing()\n",
        "text = \"함께탐험하며성장하는AI학교AIFFEL\"\n",
        "spacing(text)"
      ]
    },
    {
      "cell_type": "markdown",
      "id": "28d89fc0",
      "metadata": {
        "id": "28d89fc0"
      },
      "source": [
        "**반복되는 글자 처리** https://github.com/lovit/soynlp"
      ]
    },
    {
      "cell_type": "code",
      "execution_count": null,
      "id": "0c7fb239",
      "metadata": {
        "id": "0c7fb239",
        "outputId": "52717b21-c2d3-49a8-cb59-3b85702a0181"
      },
      "outputs": [
        {
          "name": "stdout",
          "output_type": "stream",
          "text": [
            "Requirement already satisfied: soynlp in /opt/conda/lib/python3.9/site-packages (0.0.493)\n",
            "Requirement already satisfied: scipy>=1.1.0 in /opt/conda/lib/python3.9/site-packages (from soynlp) (1.7.1)\n",
            "Requirement already satisfied: scikit-learn>=0.20.0 in /opt/conda/lib/python3.9/site-packages (from soynlp) (1.0)\n",
            "Requirement already satisfied: numpy>=1.12.1 in /opt/conda/lib/python3.9/site-packages (from soynlp) (1.22.2)\n",
            "Requirement already satisfied: psutil>=5.0.1 in /opt/conda/lib/python3.9/site-packages (from soynlp) (5.9.0)\n",
            "Requirement already satisfied: threadpoolctl>=2.0.0 in /opt/conda/lib/python3.9/site-packages (from scikit-learn>=0.20.0->soynlp) (3.1.0)\n",
            "Requirement already satisfied: joblib>=0.11 in /opt/conda/lib/python3.9/site-packages (from scikit-learn>=0.20.0->soynlp) (1.1.0)\n",
            "\u001b[33mWARNING: Running pip as the 'root' user can result in broken permissions and conflicting behaviour with the system package manager. It is recommended to use a virtual environment instead: https://pip.pypa.io/warnings/venv\u001b[0m\u001b[33m\n",
            "\u001b[0m"
          ]
        }
      ],
      "source": [
        "# i soynlp\n",
        "!pip install soynlp"
      ]
    },
    {
      "cell_type": "code",
      "execution_count": null,
      "id": "99e962ff",
      "metadata": {
        "id": "99e962ff",
        "outputId": "b7fea9ca-8398-4360-8849-87a105799250"
      },
      "outputs": [
        {
          "data": {
            "text/plain": [
              "'ㅋㅋㅋ'"
            ]
          },
          "execution_count": 55,
          "metadata": {},
          "output_type": "execute_result"
        }
      ],
      "source": [
        "# 댓글 데이터에 등장하는 반복되는 이모티콘 정리\n",
        "from soynlp.normalizer import *\n",
        "emoticon_normalize('ㅋㅋㅋㅋㅋㅋㅋㅋㅋ', num_repeats=3)"
      ]
    },
    {
      "cell_type": "markdown",
      "id": "3e9b31be",
      "metadata": {
        "id": "3e9b31be"
      },
      "source": [
        "**맞춤법 검사기** https://github.com/ssut/py-hanspell"
      ]
    },
    {
      "cell_type": "code",
      "execution_count": null,
      "id": "1b7f0b9e",
      "metadata": {
        "id": "1b7f0b9e"
      },
      "outputs": [],
      "source": [
        "# i py-hanspell\n",
        "# !pip install git+https://github.com/jungin500/py-hanspell"
      ]
    },
    {
      "cell_type": "code",
      "execution_count": null,
      "id": "a8d4804b",
      "metadata": {
        "id": "a8d4804b"
      },
      "outputs": [],
      "source": [
        "# 맞춤법 검사\n",
        "# from hanspell import spell_checker\n",
        "# text = \"알파고 이전, 2015년부터 만 들 어진 최초의 AI 커뮤니티 모두의연구소.학연,지연,모두연이라는 말이나올만큼"
      ]
    },
    {
      "cell_type": "code",
      "execution_count": null,
      "id": "78c29a5d",
      "metadata": {
        "id": "78c29a5d"
      },
      "outputs": [],
      "source": [
        "# 수정된 문장\n",
        "# result = spell_checker.check(text)"
      ]
    },
    {
      "cell_type": "code",
      "execution_count": null,
      "id": "99ed8658",
      "metadata": {
        "id": "99ed8658"
      },
      "outputs": [],
      "source": [
        "# result.checked"
      ]
    }
  ],
  "metadata": {
    "kernelspec": {
      "display_name": "Python 3 (ipykernel)",
      "language": "python",
      "name": "python3"
    },
    "language_info": {
      "codemirror_mode": {
        "name": "ipython",
        "version": 3
      },
      "file_extension": ".py",
      "mimetype": "text/x-python",
      "name": "python",
      "nbconvert_exporter": "python",
      "pygments_lexer": "ipython3",
      "version": "3.9.7"
    },
    "colab": {
      "provenance": [],
      "include_colab_link": true
    }
  },
  "nbformat": 4,
  "nbformat_minor": 5
}